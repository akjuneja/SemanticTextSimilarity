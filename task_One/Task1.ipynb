{
 "cells": [
  {
   "cell_type": "markdown",
   "id": "9izaxH2PUoYz",
   "metadata": {
    "id": "9izaxH2PUoYz"
   },
   "source": [
    "Name -  Faria Alam\n",
    "\n",
    "e-mail - faal00001@stud.uni-saarland.de\n",
    "\n",
    "Matriculation number- 7011180\n",
    "\n",
    "Name - Akhil Juneja\n",
    "\n",
    "e-mail - akju00001@stud.uni-saarland.de\n",
    "\n",
    "Matriculation number- 7015523"
   ]
  },
  {
   "cell_type": "markdown",
   "id": "7b44ee0f",
   "metadata": {
    "id": "7b44ee0f"
   },
   "source": [
    "## Introduction\n",
    "Semantic textual similarity deals with determining how similar a pair of text documents are. The goal of the first task is to implement a new architecture by combining the ideas from papers\n",
    "- Siamese Recurrent Architectures for Learning Sentence Similarity, Jonas Mueller et. al (will be referred as the AAAI paper)\n",
    "- A Structured Self-Attentive Sentence Embedding, Zhouhan Lin et. al (will be referred as the ICLR paper) <br/><br/>\n",
    "Furthermore, you'd be evaluating whether the new architecture improves the results of **Siamese Recurrent Architectures for Learning Sentence Similarity, Jonas Mueller et. al**. Your overall network architecture should look similar to the following figure. \n",
    "![Untitled%20Diagram.drawio%20%281%29.png](https://raw.githubusercontent.com/shahrukhx01/ocr-test/main/download.png)\n",
    "<br/><br/>\n",
    "\n",
    "\n",
    "Moreover, you'd be required to implement further helper functions that these papers propose i.e., attention penalty term for loss, etc."
   ]
  },
  {
   "cell_type": "markdown",
   "id": "cbed585c",
   "metadata": {
    "id": "cbed585c"
   },
   "source": [
    "### SICK dataset\n",
    "We will use SICK dataset throughout the project (at least in the first two tasks). To get more information about the dataset you can refer to the original [paper](http://www.lrec-conf.org/proceedings/lrec2014/pdf/363_Paper.pdf) on the dataset. You can download the dataset using one of the following links:\n",
    "- [dataset page 1](https://marcobaroni.org/composes/sick.html)\n",
    "- [dataset page 2](https://huggingface.co/datasets/sick)    \n",
    "\n",
    "The relevant columns for the project are `sentence_A`, `sentence_B`, `relatedness_score`, where `relatedness_score` is the label. <br><br>\n",
    "**Hint: For each task make sure to decide whether the label should be normalized or not.**<br><br>"
   ]
  },
  {
   "cell_type": "code",
   "execution_count": 7,
   "id": "dhkDYIGKa2pM",
   "metadata": {
    "colab": {
     "base_uri": "https://localhost:8080/"
    },
    "executionInfo": {
     "elapsed": 10358,
     "status": "ok",
     "timestamp": 1647026363538,
     "user": {
      "displayName": "Faria Alam",
      "photoUrl": "https://lh3.googleusercontent.com/a-/AOh14GgA-IA0pDrCGKBsIUIuXVLu5X2mFDhecwjQ6LIp=s64",
      "userId": "01141680939008758463"
     },
     "user_tz": -60
    },
    "id": "dhkDYIGKa2pM",
    "outputId": "46593ab4-4a93-46a7-ce43-0ed6ac69a1d8"
   },
   "outputs": [
    {
     "name": "stdout",
     "output_type": "stream",
     "text": [
      "Collecting datasets\n",
      "  Downloading datasets-1.18.4-py3-none-any.whl (312 kB)\n",
      "\u001b[?25l\r",
      "\u001b[K     |█                               | 10 kB 17.0 MB/s eta 0:00:01\r",
      "\u001b[K     |██                              | 20 kB 23.5 MB/s eta 0:00:01\r",
      "\u001b[K     |███▏                            | 30 kB 27.0 MB/s eta 0:00:01\r",
      "\u001b[K     |████▏                           | 40 kB 11.9 MB/s eta 0:00:01\r",
      "\u001b[K     |█████▎                          | 51 kB 10.9 MB/s eta 0:00:01\r",
      "\u001b[K     |██████▎                         | 61 kB 12.6 MB/s eta 0:00:01\r",
      "\u001b[K     |███████▍                        | 71 kB 11.1 MB/s eta 0:00:01\r",
      "\u001b[K     |████████▍                       | 81 kB 12.0 MB/s eta 0:00:01\r",
      "\u001b[K     |█████████▌                      | 92 kB 13.1 MB/s eta 0:00:01\r",
      "\u001b[K     |██████████▌                     | 102 kB 12.4 MB/s eta 0:00:01\r",
      "\u001b[K     |███████████▌                    | 112 kB 12.4 MB/s eta 0:00:01\r",
      "\u001b[K     |████████████▋                   | 122 kB 12.4 MB/s eta 0:00:01\r",
      "\u001b[K     |█████████████▋                  | 133 kB 12.4 MB/s eta 0:00:01\r",
      "\u001b[K     |██████████████▊                 | 143 kB 12.4 MB/s eta 0:00:01\r",
      "\u001b[K     |███████████████▊                | 153 kB 12.4 MB/s eta 0:00:01\r",
      "\u001b[K     |████████████████▉               | 163 kB 12.4 MB/s eta 0:00:01\r",
      "\u001b[K     |█████████████████▉              | 174 kB 12.4 MB/s eta 0:00:01\r",
      "\u001b[K     |███████████████████             | 184 kB 12.4 MB/s eta 0:00:01\r",
      "\u001b[K     |████████████████████            | 194 kB 12.4 MB/s eta 0:00:01\r",
      "\u001b[K     |█████████████████████           | 204 kB 12.4 MB/s eta 0:00:01\r",
      "\u001b[K     |██████████████████████          | 215 kB 12.4 MB/s eta 0:00:01\r",
      "\u001b[K     |███████████████████████         | 225 kB 12.4 MB/s eta 0:00:01\r",
      "\u001b[K     |████████████████████████▏       | 235 kB 12.4 MB/s eta 0:00:01\r",
      "\u001b[K     |█████████████████████████▏      | 245 kB 12.4 MB/s eta 0:00:01\r",
      "\u001b[K     |██████████████████████████▎     | 256 kB 12.4 MB/s eta 0:00:01\r",
      "\u001b[K     |███████████████████████████▎    | 266 kB 12.4 MB/s eta 0:00:01\r",
      "\u001b[K     |████████████████████████████▍   | 276 kB 12.4 MB/s eta 0:00:01\r",
      "\u001b[K     |█████████████████████████████▍  | 286 kB 12.4 MB/s eta 0:00:01\r",
      "\u001b[K     |██████████████████████████████▌ | 296 kB 12.4 MB/s eta 0:00:01\r",
      "\u001b[K     |███████████████████████████████▌| 307 kB 12.4 MB/s eta 0:00:01\r",
      "\u001b[K     |████████████████████████████████| 312 kB 12.4 MB/s \n",
      "\u001b[?25hRequirement already satisfied: importlib-metadata in /usr/local/lib/python3.7/dist-packages (from datasets) (4.11.2)\n",
      "Requirement already satisfied: dill in /usr/local/lib/python3.7/dist-packages (from datasets) (0.3.4)\n",
      "Collecting xxhash\n",
      "  Downloading xxhash-3.0.0-cp37-cp37m-manylinux_2_17_x86_64.manylinux2014_x86_64.whl (212 kB)\n",
      "\u001b[K     |████████████████████████████████| 212 kB 49.1 MB/s \n",
      "\u001b[?25hCollecting huggingface-hub<1.0.0,>=0.1.0\n",
      "  Downloading huggingface_hub-0.4.0-py3-none-any.whl (67 kB)\n",
      "\u001b[K     |████████████████████████████████| 67 kB 5.6 MB/s \n",
      "\u001b[?25hRequirement already satisfied: pandas in /usr/local/lib/python3.7/dist-packages (from datasets) (1.3.5)\n",
      "Requirement already satisfied: numpy>=1.17 in /usr/local/lib/python3.7/dist-packages (from datasets) (1.21.5)\n",
      "Collecting fsspec[http]>=2021.05.0\n",
      "  Downloading fsspec-2022.2.0-py3-none-any.whl (134 kB)\n",
      "\u001b[K     |████████████████████████████████| 134 kB 52.6 MB/s \n",
      "\u001b[?25hRequirement already satisfied: packaging in /usr/local/lib/python3.7/dist-packages (from datasets) (21.3)\n",
      "Requirement already satisfied: tqdm>=4.62.1 in /usr/local/lib/python3.7/dist-packages (from datasets) (4.63.0)\n",
      "Collecting responses<0.19\n",
      "  Downloading responses-0.18.0-py3-none-any.whl (38 kB)\n",
      "Collecting aiohttp\n",
      "  Downloading aiohttp-3.8.1-cp37-cp37m-manylinux_2_5_x86_64.manylinux1_x86_64.manylinux_2_12_x86_64.manylinux2010_x86_64.whl (1.1 MB)\n",
      "\u001b[K     |████████████████████████████████| 1.1 MB 46.8 MB/s \n",
      "\u001b[?25hRequirement already satisfied: multiprocess in /usr/local/lib/python3.7/dist-packages (from datasets) (0.70.12.2)\n",
      "Requirement already satisfied: requests>=2.19.0 in /usr/local/lib/python3.7/dist-packages (from datasets) (2.23.0)\n",
      "Requirement already satisfied: pyarrow!=4.0.0,>=3.0.0 in /usr/local/lib/python3.7/dist-packages (from datasets) (6.0.1)\n",
      "Requirement already satisfied: filelock in /usr/local/lib/python3.7/dist-packages (from huggingface-hub<1.0.0,>=0.1.0->datasets) (3.6.0)\n",
      "Requirement already satisfied: pyyaml in /usr/local/lib/python3.7/dist-packages (from huggingface-hub<1.0.0,>=0.1.0->datasets) (3.13)\n",
      "Requirement already satisfied: typing-extensions>=3.7.4.3 in /usr/local/lib/python3.7/dist-packages (from huggingface-hub<1.0.0,>=0.1.0->datasets) (3.10.0.2)\n",
      "Requirement already satisfied: pyparsing!=3.0.5,>=2.0.2 in /usr/local/lib/python3.7/dist-packages (from packaging->datasets) (3.0.7)\n",
      "Requirement already satisfied: certifi>=2017.4.17 in /usr/local/lib/python3.7/dist-packages (from requests>=2.19.0->datasets) (2021.10.8)\n",
      "Requirement already satisfied: urllib3!=1.25.0,!=1.25.1,<1.26,>=1.21.1 in /usr/local/lib/python3.7/dist-packages (from requests>=2.19.0->datasets) (1.24.3)\n",
      "Requirement already satisfied: idna<3,>=2.5 in /usr/local/lib/python3.7/dist-packages (from requests>=2.19.0->datasets) (2.10)\n",
      "Requirement already satisfied: chardet<4,>=3.0.2 in /usr/local/lib/python3.7/dist-packages (from requests>=2.19.0->datasets) (3.0.4)\n",
      "Collecting urllib3!=1.25.0,!=1.25.1,<1.26,>=1.21.1\n",
      "  Downloading urllib3-1.25.11-py2.py3-none-any.whl (127 kB)\n",
      "\u001b[K     |████████████████████████████████| 127 kB 39.3 MB/s \n",
      "\u001b[?25hCollecting aiosignal>=1.1.2\n",
      "  Downloading aiosignal-1.2.0-py3-none-any.whl (8.2 kB)\n",
      "Collecting asynctest==0.13.0\n",
      "  Downloading asynctest-0.13.0-py3-none-any.whl (26 kB)\n",
      "Collecting yarl<2.0,>=1.0\n",
      "  Downloading yarl-1.7.2-cp37-cp37m-manylinux_2_5_x86_64.manylinux1_x86_64.manylinux_2_12_x86_64.manylinux2010_x86_64.whl (271 kB)\n",
      "\u001b[K     |████████████████████████████████| 271 kB 51.4 MB/s \n",
      "\u001b[?25hRequirement already satisfied: charset-normalizer<3.0,>=2.0 in /usr/local/lib/python3.7/dist-packages (from aiohttp->datasets) (2.0.12)\n",
      "Requirement already satisfied: attrs>=17.3.0 in /usr/local/lib/python3.7/dist-packages (from aiohttp->datasets) (21.4.0)\n",
      "Collecting async-timeout<5.0,>=4.0.0a3\n",
      "  Downloading async_timeout-4.0.2-py3-none-any.whl (5.8 kB)\n",
      "Collecting frozenlist>=1.1.1\n",
      "  Downloading frozenlist-1.3.0-cp37-cp37m-manylinux_2_5_x86_64.manylinux1_x86_64.manylinux_2_17_x86_64.manylinux2014_x86_64.whl (144 kB)\n",
      "\u001b[K     |████████████████████████████████| 144 kB 51.6 MB/s \n",
      "\u001b[?25hCollecting multidict<7.0,>=4.5\n",
      "  Downloading multidict-6.0.2-cp37-cp37m-manylinux_2_17_x86_64.manylinux2014_x86_64.whl (94 kB)\n",
      "\u001b[K     |████████████████████████████████| 94 kB 1.2 MB/s \n",
      "\u001b[?25hRequirement already satisfied: zipp>=0.5 in /usr/local/lib/python3.7/dist-packages (from importlib-metadata->datasets) (3.7.0)\n",
      "Requirement already satisfied: python-dateutil>=2.7.3 in /usr/local/lib/python3.7/dist-packages (from pandas->datasets) (2.8.2)\n",
      "Requirement already satisfied: pytz>=2017.3 in /usr/local/lib/python3.7/dist-packages (from pandas->datasets) (2018.9)\n",
      "Requirement already satisfied: six>=1.5 in /usr/local/lib/python3.7/dist-packages (from python-dateutil>=2.7.3->pandas->datasets) (1.15.0)\n",
      "Installing collected packages: multidict, frozenlist, yarl, urllib3, asynctest, async-timeout, aiosignal, fsspec, aiohttp, xxhash, responses, huggingface-hub, datasets\n",
      "  Attempting uninstall: urllib3\n",
      "    Found existing installation: urllib3 1.24.3\n",
      "    Uninstalling urllib3-1.24.3:\n",
      "      Successfully uninstalled urllib3-1.24.3\n",
      "\u001b[31mERROR: pip's dependency resolver does not currently take into account all the packages that are installed. This behaviour is the source of the following dependency conflicts.\n",
      "datascience 0.10.6 requires folium==0.2.1, but you have folium 0.8.3 which is incompatible.\u001b[0m\n",
      "Successfully installed aiohttp-3.8.1 aiosignal-1.2.0 async-timeout-4.0.2 asynctest-0.13.0 datasets-1.18.4 frozenlist-1.3.0 fsspec-2022.2.0 huggingface-hub-0.4.0 multidict-6.0.2 responses-0.18.0 urllib3-1.25.11 xxhash-3.0.0 yarl-1.7.2\n"
     ]
    }
   ],
   "source": [
    "!pip install datasets"
   ]
  },
  {
   "cell_type": "code",
   "execution_count": 8,
   "id": "c132db85",
   "metadata": {
    "colab": {
     "base_uri": "https://localhost:8080/"
    },
    "executionInfo": {
     "elapsed": 22,
     "status": "ok",
     "timestamp": 1647026363539,
     "user": {
      "displayName": "Faria Alam",
      "photoUrl": "https://lh3.googleusercontent.com/a-/AOh14GgA-IA0pDrCGKBsIUIuXVLu5X2mFDhecwjQ6LIp=s64",
      "userId": "01141680939008758463"
     },
     "user_tz": -60
    },
    "id": "c132db85",
    "outputId": "9249027f-53f8-4e58-bb07-1a0b57c5384f"
   },
   "outputs": [
    {
     "name": "stdout",
     "output_type": "stream",
     "text": [
      "The autoreload extension is already loaded. To reload it, use:\n",
      "  %reload_ext autoreload\n"
     ]
    }
   ],
   "source": [
    "%load_ext autoreload\n",
    "%autoreload 2"
   ]
  },
  {
   "cell_type": "code",
   "execution_count": 9,
   "id": "69b52c03",
   "metadata": {
    "executionInfo": {
     "elapsed": 2146,
     "status": "ok",
     "timestamp": 1647026365677,
     "user": {
      "displayName": "Faria Alam",
      "photoUrl": "https://lh3.googleusercontent.com/a-/AOh14GgA-IA0pDrCGKBsIUIuXVLu5X2mFDhecwjQ6LIp=s64",
      "userId": "01141680939008758463"
     },
     "user_tz": -60
    },
    "id": "69b52c03"
   },
   "outputs": [],
   "source": [
    "import torch\n",
    "from train import train_model\n",
    "from test import evaluate_test_set\n",
    "import sts_data\n",
    "from importlib import reload\n",
    "import numpy as np\n",
    "import random\n",
    "from datetime import datetime\n",
    "\n"
   ]
  },
  {
   "cell_type": "markdown",
   "id": "22d3a701",
   "metadata": {
    "id": "22d3a701"
   },
   "source": [
    "## Part 1. Data pipeline (3 points)\n",
    "Before starting working on the model, we must configure the data pipeline to load the data in the correct format. Please, implement the functions for processing the data."
   ]
  },
  {
   "cell_type": "markdown",
   "id": "9af7f4ee",
   "metadata": {
    "id": "9af7f4ee"
   },
   "source": [
    "### Part 1.1 Loading and preprocessing the data (1 point)\n",
    "Download the SICK dataset and store it in [pandas](https://pandas.pydata.org/docs/index.html) `Dataframe`'s. You should use the official data split.  \n",
    "\n",
    "Implement `load_data` method of `STSData` class in `sts_data.py`. The method must download the dataset and perform basic preprocessing. Minimal preprocessing required:  \n",
    "1. normalize text to lower case\n",
    "2. remove punctuations  \n",
    "3. remove [stopwords](https://en.wikipedia.org/wiki/Stop_word) - we provided you with the list of English stopwords.\n",
    "4. Optionally, any other preprocessing that you deem necessary.\n",
    "\n",
    "All the preprocessing code must be contained in the `preprocessing.py` file.  \n",
    "You can use Hugginface's [datasets library](https://huggingface.co/docs/datasets/) for easy dataset download."
   ]
  },
  {
   "cell_type": "markdown",
   "id": "fd87f192",
   "metadata": {
    "id": "fd87f192"
   },
   "source": [
    "### Part 1.2 Building vocabulary (1 point)\n",
    "Before we can feed our text to the model it must be vectorized. We use 300 dimensional pretrained [FastText embeddings](https://fasttext.cc/docs/en/english-vectors.html) for mapping words to vectors. To know more general information about embeddings you can refer to [this video](https://www.youtube.com/watch?v=ERibwqs9p38) (even though, we use different types of embeddings - FastText vs Word2Vec described in the video - the general purpose of them is the same).  \n",
    "In order to apply the embedding, we must first construct the vocabulary for data. Complete the `create_vocab` method of `STSData` class in `sts_data.py` where you concatenate each sentence pair, tokenize it and construct the vocabulary for the whole training data. You should use [torchtext](https://torchtext.readthedocs.io/en/latest/data.html\n",
    ") for processing the data. For tokenization, you can use any library (or write your own tokenizer), but we recommend you to use tokenizer by [spacy](https://spacy.io/). Use the `fasttext.simple.300d` as pretrained vectors.  \n",
    "In the end, you must have a vocabulary object capable of mapping your input to corresponding vectors. Remember that the vocabulary is created using only training data (not touching validation or test data)."
   ]
  },
  {
   "cell_type": "markdown",
   "id": "6b90724d",
   "metadata": {
    "id": "6b90724d"
   },
   "source": [
    "### Part 1.3 Creating DataLoader (1 point)\n",
    "Implement `get_data_loader` method of `STSData` class in `sts_data.py`. It must perform the following operations on each of the data splits:\n",
    "1. vectorize each pair of the sentences by replacing all tokens with their index in vocabulary\n",
    "2. normalize labels\n",
    "3. convert everything to PyTorch tensors\n",
    "4. pad every sentence so that all of them have the same length\n",
    "5. create `STSDataset` from `dataset.py`\n",
    "6. create PyTorch DataLoader out of the created dataset. \n",
    "\n",
    "\n",
    "We have provided you with the interfaces of possible helper functions, but you can change them as you need.   \n",
    "In the end, you must have 3 data loaders for each of the splits."
   ]
  },
  {
   "cell_type": "code",
   "execution_count": 10,
   "id": "62b40225",
   "metadata": {
    "colab": {
     "base_uri": "https://localhost:8080/",
     "height": 641,
     "referenced_widgets": [
      "44140ed3610c46a390a1311bd72a975c",
      "16b8b53fad2144b98a70e0e13b97bbe2",
      "20f933ca3b88405c8d22434e58f67966",
      "099c02a462914c0ab0db4773a2bd60fa",
      "fc0a3e4b77b84e98a45400d4554fce0b",
      "4d7a8e974fb64bc795860bad50cc9b89",
      "8ed14c76409440afb645a98fbb7fb94d",
      "2fcd8d6397c64ce78855abe237863729",
      "e6e44e79e432431d91309bcaffbf04c5",
      "3813efad36664ba686de1e54e64bb525",
      "381a43f5072642afb4489420ab67be5f",
      "ab2f340711c7454cb14f756dc1149b5b",
      "22c0756c03824f1dbfb3fef59ce56af3",
      "1ce1a077444b43a487cddde29954705c",
      "0c51991d0d2346ec81a1b8248999700e",
      "618a7eb4a5d944a4b56fd8a24fe30c08",
      "97decf8448e74189baf6ec7294f4b266",
      "d1fb8b15c33243bcb37c67ab53d31162",
      "33fd8653060345dc82a5d45ae9389c35",
      "516bc0ae9f074db58530593bbed985bc",
      "b8c12d6f36c043e38f0be01c8544c847",
      "ee321f042f0c48f883176a06957c455e",
      "f653489f15184e54a0186a119004f922",
      "ff07c5deaeaa4bd58d9feed29ac214f7",
      "43ca76c30c244296a7c77750dbc20ce0",
      "7bdc2c0996d64e0cac47178fb7c5d17c",
      "ccabded7c09f409594cfb9753733a331",
      "66dc23908b1e48ed93033a47625ebc8e",
      "d63ceccdd6344336b817c1cc16610097",
      "009a2c1db67443d0ba54d4cf29c2658b",
      "4d66fcc9fb0a4e7faa50dad03b79a743",
      "9ea70253e08e41c19ed21825ae5a5b51",
      "7e68563febda42168218ed1273bd1a66",
      "786eaeabb1984ef8a902248772c8bfee",
      "8bb5461712b34837adbc726935b643b7",
      "4af1fe7b2b5043bfac0dc52426eb1f8e",
      "6477f5185daa468881b04b3b3cfe25bc",
      "43583b1e76e34377b064db3603ed979f",
      "6a4f7fb78c8845b1846857db27bbfb91",
      "30dee32e159f484e83ef2836e3b30c6f",
      "4ae3212c683149a18f4a4144f524bb7b",
      "6076deb164674d9899df5c146380b104",
      "3a011cbffe7645eb98227255f6804eaa",
      "d1ca26df67ee42ff9a97aff06308bd64",
      "2b9e551448a8426dbfb7faf63a24c131",
      "947484cc378346a0b365e698dbebd9bd",
      "2dae4135191f4353a6bb4fbc403a5e68",
      "aa7968294b3f4fab88baa4dd92f46aaf",
      "e0aafa0abde04237b985eabe79c40c43",
      "4866b63726094a2caa65f40acdef4a11",
      "eff9a0bbcb474ed1940ba03bf166c809",
      "c1dc4806818e42cebdadab42ec6bd85e",
      "09f97e1e91db494fb37713420b6a6b74",
      "8c8a3b1d71b14bda92c136d17b665f56",
      "71799ba58a604cc498944a00d9fb4a5a",
      "f1bb7bb3150349868a48fb6838472f91",
      "58e932b628b74a3a8e17a3ab52d24f3d",
      "9fea1eaa21c249a9b1be5b978f7a21e1",
      "ee20906828c84102a5d558e5008ec482",
      "5408e573f72d4596870861289ea45b39",
      "b825a1f8abab4341a54268569f148ad0",
      "a3229bfb1f10410fb3986d76009415e2",
      "6b229c9dd271438381f6df207bc3f3b2",
      "db93dc6cd0cb49a8bda5448b0730e693",
      "386a4cbbd3ff487ab56d968f151ff53c",
      "808a63bc6d1f4b7495a0812e48ea6e30",
      "f9a35f89efa54d74b5bc18431b29d8dc",
      "cc57a685246740c89349123e5c241d64",
      "b1176a9c522e4c05ad0d0dfbba64a389",
      "13a5901748984eb1b08743d21a8c1d2d",
      "4121496b7eda447cad108c9a9138ecba",
      "dc85ce5621774640a8082e7eb71237cc",
      "01ca866453de45e7b33fe43bec96dc6e",
      "faafa8d33c9840dc96164ae12fc9ae35",
      "883a7c9853f94fa9ade4e2fb82290b17",
      "71afdf1dd07447608e80ce2d1f587149",
      "c95b791ad2ea4071b3145a518b863405"
     ]
    },
    "executionInfo": {
     "elapsed": 200758,
     "status": "ok",
     "timestamp": 1647026566429,
     "user": {
      "displayName": "Faria Alam",
      "photoUrl": "https://lh3.googleusercontent.com/a-/AOh14GgA-IA0pDrCGKBsIUIuXVLu5X2mFDhecwjQ6LIp=s64",
      "userId": "01141680939008758463"
     },
     "user_tz": -60
    },
    "id": "62b40225",
    "outputId": "c91e9ab8-a8d4-42d6-d98b-c71eac41a69d"
   },
   "outputs": [
    {
     "name": "stderr",
     "output_type": "stream",
     "text": [
      "INFO:root:loading and preprocessing data...\n"
     ]
    },
    {
     "data": {
      "application/vnd.jupyter.widget-view+json": {
       "model_id": "44140ed3610c46a390a1311bd72a975c",
       "version_major": 2,
       "version_minor": 0
      },
      "text/plain": [
       "Downloading:   0%|          | 0.00/2.04k [00:00<?, ?B/s]"
      ]
     },
     "metadata": {},
     "output_type": "display_data"
    },
    {
     "data": {
      "application/vnd.jupyter.widget-view+json": {
       "model_id": "ab2f340711c7454cb14f756dc1149b5b",
       "version_major": 2,
       "version_minor": 0
      },
      "text/plain": [
       "Downloading:   0%|          | 0.00/1.51k [00:00<?, ?B/s]"
      ]
     },
     "metadata": {},
     "output_type": "display_data"
    },
    {
     "name": "stderr",
     "output_type": "stream",
     "text": [
      "WARNING:datasets.builder:Using custom data configuration default\n"
     ]
    },
    {
     "name": "stdout",
     "output_type": "stream",
     "text": [
      "Downloading and preparing dataset sick/default (download: 212.48 KiB, generated: 2.50 MiB, post-processed: Unknown size, total: 2.71 MiB) to /root/.cache/huggingface/datasets/sick/default/0.0.0/c6b3b0b44eb84b134851396d6d464e5cb8f026960519d640e087fe33472626db...\n"
     ]
    },
    {
     "data": {
      "application/vnd.jupyter.widget-view+json": {
       "model_id": "f653489f15184e54a0186a119004f922",
       "version_major": 2,
       "version_minor": 0
      },
      "text/plain": [
       "Downloading:   0%|          | 0.00/218k [00:00<?, ?B/s]"
      ]
     },
     "metadata": {},
     "output_type": "display_data"
    },
    {
     "data": {
      "application/vnd.jupyter.widget-view+json": {
       "model_id": "786eaeabb1984ef8a902248772c8bfee",
       "version_major": 2,
       "version_minor": 0
      },
      "text/plain": [
       "0 examples [00:00, ? examples/s]"
      ]
     },
     "metadata": {},
     "output_type": "display_data"
    },
    {
     "data": {
      "application/vnd.jupyter.widget-view+json": {
       "model_id": "2b9e551448a8426dbfb7faf63a24c131",
       "version_major": 2,
       "version_minor": 0
      },
      "text/plain": [
       "0 examples [00:00, ? examples/s]"
      ]
     },
     "metadata": {},
     "output_type": "display_data"
    },
    {
     "data": {
      "application/vnd.jupyter.widget-view+json": {
       "model_id": "f1bb7bb3150349868a48fb6838472f91",
       "version_major": 2,
       "version_minor": 0
      },
      "text/plain": [
       "0 examples [00:00, ? examples/s]"
      ]
     },
     "metadata": {},
     "output_type": "display_data"
    },
    {
     "name": "stdout",
     "output_type": "stream",
     "text": [
      "Dataset sick downloaded and prepared to /root/.cache/huggingface/datasets/sick/default/0.0.0/c6b3b0b44eb84b134851396d6d464e5cb8f026960519d640e087fe33472626db. Subsequent calls will reuse this data.\n"
     ]
    },
    {
     "data": {
      "application/vnd.jupyter.widget-view+json": {
       "model_id": "f9a35f89efa54d74b5bc18431b29d8dc",
       "version_major": 2,
       "version_minor": 0
      },
      "text/plain": [
       "  0%|          | 0/3 [00:00<?, ?it/s]"
      ]
     },
     "metadata": {},
     "output_type": "display_data"
    },
    {
     "name": "stderr",
     "output_type": "stream",
     "text": [
      "INFO:root:reading and preprocessing data completed...\n"
     ]
    },
    {
     "name": "stdout",
     "output_type": "stream",
     "text": [
      "train- 4439\n",
      "                                   sentence_A  \\\n",
      "1  children playing house standing background   \n",
      "2        boys playing outdoors smiling nearby   \n",
      "3                 kids playing outdoors smile   \n",
      "4        boys playing outdoors smiling nearby   \n",
      "5                               dogs fighting   \n",
      "\n",
      "                              sentence_B  relatedness_score  \n",
      "1  kids playing yard standing background                3.2  \n",
      "2            kids playing outdoors smile                4.7  \n",
      "3  kids playing yard standing background                3.4  \n",
      "4  kids playing yard standing background                3.7  \n",
      "5                 dogs wrestling hugging                4.0  \n"
     ]
    },
    {
     "name": "stderr",
     "output_type": "stream",
     "text": [
      "INFO:root:creating vocabulary...\n",
      "INFO:torchtext.vocab.vectors:Downloading vectors from https://dl.fbaipublicfiles.com/fasttext/vectors-wiki/wiki.simple.vec\n",
      ".vector_cache/wiki.simple.vec: 293MB [00:13, 22.2MB/s]                           \n",
      "INFO:torchtext.vocab.vectors:Extracting vectors into .vector_cache\n",
      "INFO:torchtext.vocab.vectors:Loading vectors from .vector_cache/wiki.simple.vec\n",
      "  0%|          | 0/111051 [00:00<?, ?it/s]WARNING:torchtext.vocab.vectors:Skipping token b'111051' with 1-dimensional vector [b'300']; likely a header\n",
      "100%|██████████| 111051/111051 [00:15<00:00, 7112.06it/s]\n",
      "INFO:torchtext.vocab.vectors:Saving vectors to .vector_cache/wiki.simple.vec.pt\n",
      "INFO:root:creating vocabulary completed...\n"
     ]
    }
   ],
   "source": [
    "reload(sts_data)\n",
    "from sts_data import STSData\n",
    "\n",
    "columns_mapping = {\n",
    "        \"sent1\": \"sentence_A\",\n",
    "        \"sent2\": \"sentence_B\",\n",
    "        \"label\": \"relatedness_score\",\n",
    "    }\n",
    "dataset_name = \"sick\"\n",
    "sick_data = STSData(\n",
    "    dataset_name=dataset_name,\n",
    "    columns_mapping=columns_mapping,\n",
    "    normalize_labels=True,\n",
    "    normalization_const=5.0,\n",
    ")\n",
    "batch_size = 64\n",
    "sick_dataloaders = sick_data.get_data_loader(batch_size=batch_size)"
   ]
  },
  {
   "cell_type": "markdown",
   "id": "b98c6526",
   "metadata": {
    "id": "b98c6526"
   },
   "source": [
    "## Part 2. Model Configuration & Hyperparameter Tuning (3 points)\n",
    "In this part, you are required to define a model capable of learning self-attentive sentence embeddings described in [this ICLR paper](https://arxiv.org/pdf/1703.03130.pdf). The sentence embedding learned by this model will be used for computing the similarity score instead of the simpler embeddings described in the original AAAI paper.  \n",
    "Please familiarize yourself with the model described in the ICLR paper and implement `SiameseBiLSTMAttention` and `SelfAttention` classes in `siamese_lstm_attention.py`. Remember that you must run the model on each sentence in the sentence pair to calculate the similarity between them. You can use `similarity_score` from `utils.py` to compute the similarity score between two sentences. \n",
    "  \n",
    "To get more theoretical information about attention mechanisms you can refer to [this chapter](https://web.stanford.edu/~jurafsky/slp3/10.pdf) of [\"Speech and Language Processing\" book](https://web.stanford.edu/~jurafsky/slp3/) by Dan Jurafsky and James H. Martin, where the attention mechanism is described in the context of the machine translation task. \n",
    "\n",
    "Finally, once your implementation works on the default parameters stated below, make sure to perform **hyperparameter tuning** to find the best combination of hyperparameters."
   ]
  },
  {
   "cell_type": "code",
   "execution_count": 11,
   "id": "a530ec28",
   "metadata": {
    "executionInfo": {
     "elapsed": 34,
     "status": "ok",
     "timestamp": 1647026566435,
     "user": {
      "displayName": "Faria Alam",
      "photoUrl": "https://lh3.googleusercontent.com/a-/AOh14GgA-IA0pDrCGKBsIUIuXVLu5X2mFDhecwjQ6LIp=s64",
      "userId": "01141680939008758463"
     },
     "user_tz": -60
    },
    "id": "a530ec28"
   },
   "outputs": [],
   "source": [
    "torch.manual_seed(0)\n",
    "random.seed(0)\n",
    "np.random.seed(0)\n",
    "\n",
    "output_size = 1\n",
    "hidden_sizes = [32, 64, 128]\n",
    "vocab_size = len(sick_data.vocab)\n",
    "embedding_size = 300\n",
    "embedding_weights = sick_data.vocab.vectors\n",
    "lstm_layers = [2,4]\n",
    "learning_rates = [1e-02, 1e-3, 1e-04, 5e-03]\n",
    "fc_hidden_size = 64\n",
    "max_epochs = 30\n",
    "bidirectional = True\n",
    "device = torch.device(\"cuda:0\" if torch.cuda.is_available() else \"cpu\")\n",
    "## self attention config\n",
    "self_attention_config = {\n",
    "    \"hidden_size\": 150,  ## refers to variable 'da' in the ICLR paper\n",
    "    \"output_size\": 20,  ## refers to variable 'r' in the ICLR paper\n",
    "    \"penalty\": 1.0,  ## refers to penalty coefficient term in the ICLR paper\n",
    "    \"model_name\": \"siamese_lstm_attention\"\n",
    "}"
   ]
  },
  {
   "cell_type": "code",
   "execution_count": 12,
   "id": "a879b228",
   "metadata": {
    "colab": {
     "base_uri": "https://localhost:8080/"
    },
    "executionInfo": {
     "elapsed": 1651190,
     "status": "ok",
     "timestamp": 1647028217604,
     "user": {
      "displayName": "Faria Alam",
      "photoUrl": "https://lh3.googleusercontent.com/a-/AOh14GgA-IA0pDrCGKBsIUIuXVLu5X2mFDhecwjQ6LIp=s64",
      "userId": "01141680939008758463"
     },
     "user_tz": -60
    },
    "id": "a879b228",
    "outputId": "82ea7d4d-9a03-4127-8c63-a6bc0e89706e"
   },
   "outputs": [
    {
     "name": "stderr",
     "output_type": "stream",
     "text": [
      "\r",
      "  0%|          | 0/30 [00:00<?, ?it/s]"
     ]
    },
    {
     "name": "stdout",
     "output_type": "stream",
     "text": [
      "Epoch : 1, Iteration : 1 , Loss : 1.125708818435669\n",
      "Epoch : 1, Iteration : 11 , Loss : 1.14335036277771\n",
      "Epoch : 1, Iteration : 21 , Loss : 1.1228764057159424\n",
      "Epoch : 1, Iteration : 31 , Loss : 1.1335511207580566\n",
      "Epoch : 1, Iteration : 41 , Loss : 1.1427830457687378\n",
      "Epoch : 1, Iteration : 51 , Loss : 1.1241326332092285\n",
      "Epoch : 1, Iteration : 61 , Loss : 1.1151238679885864\n",
      "Epoch : 1 , Loss : 1.1423695951268293\n"
     ]
    },
    {
     "name": "stderr",
     "output_type": "stream",
     "text": [
      "INFO:root:Evaluating accuracy on dev set\n",
      "INFO:root:new model saved\n"
     ]
    },
    {
     "name": "stdout",
     "output_type": "stream",
     "text": [
      "Epoch : 1, Validation Iteration : 1 , Loss : 1.1252408027648926\n",
      "Epoch : 1, Validation Loss : 1.1227366753986903\n"
     ]
    },
    {
     "name": "stderr",
     "output_type": "stream",
     "text": [
      "INFO:root:Train loss: 1.1423695951268293 - acc: 0.45177769207614654 -- Validation loss: 1.1227366753986903 - acc: 0.5244010369288449\n",
      "  3%|▎         | 1/30 [00:02<01:18,  2.70s/it]"
     ]
    },
    {
     "name": "stdout",
     "output_type": "stream",
     "text": [
      "Epoch : 2, Iteration : 1 , Loss : 1.115677833557129\n",
      "Epoch : 2, Iteration : 11 , Loss : 1.1007912158966064\n",
      "Epoch : 2, Iteration : 21 , Loss : 1.0892558097839355\n",
      "Epoch : 2, Iteration : 31 , Loss : 1.0967206954956055\n",
      "Epoch : 2, Iteration : 41 , Loss : 1.0976494550704956\n",
      "Epoch : 2, Iteration : 51 , Loss : 1.0884277820587158\n"
     ]
    },
    {
     "name": "stderr",
     "output_type": "stream",
     "text": [
      "INFO:root:Evaluating accuracy on dev set\n"
     ]
    },
    {
     "name": "stdout",
     "output_type": "stream",
     "text": [
      "Epoch : 2, Iteration : 61 , Loss : 1.0791981220245361\n",
      "Epoch : 2 , Loss : 1.0945271737333657\n"
     ]
    },
    {
     "name": "stderr",
     "output_type": "stream",
     "text": [
      "INFO:root:Train loss: 1.0945271737333657 - acc: 0.5627000872452124 -- Validation loss: 1.1022907325199671 - acc: 0.4143221296374409\n",
      "  7%|▋         | 2/30 [00:04<00:59,  2.14s/it]"
     ]
    },
    {
     "name": "stdout",
     "output_type": "stream",
     "text": [
      "Epoch : 2, Validation Iteration : 1 , Loss : 1.0946364402770996\n",
      "Epoch : 2, Validation Loss : 1.1022907325199671\n",
      "Epoch : 3, Iteration : 1 , Loss : 1.0879333019256592\n",
      "Epoch : 3, Iteration : 11 , Loss : 1.0765657424926758\n",
      "Epoch : 3, Iteration : 21 , Loss : 1.054231882095337\n",
      "Epoch : 3, Iteration : 31 , Loss : 1.0628106594085693\n",
      "Epoch : 3, Iteration : 41 , Loss : 1.0349842309951782\n",
      "Epoch : 3, Iteration : 51 , Loss : 0.9893108606338501\n"
     ]
    },
    {
     "name": "stderr",
     "output_type": "stream",
     "text": [
      "INFO:root:Evaluating accuracy on dev set\n"
     ]
    },
    {
     "name": "stdout",
     "output_type": "stream",
     "text": [
      "Epoch : 3, Iteration : 61 , Loss : 0.903329074382782\n",
      "Epoch : 3 , Loss : 1.016590366328972\n"
     ]
    },
    {
     "name": "stderr",
     "output_type": "stream",
     "text": [
      "INFO:root:Train loss: 1.016590366328972 - acc: 0.5550884328074479 -- Validation loss: 0.8366351127624512 - acc: 0.4778668072632497\n",
      " 10%|█         | 3/30 [00:06<00:53,  1.97s/it]"
     ]
    },
    {
     "name": "stdout",
     "output_type": "stream",
     "text": [
      "Epoch : 3, Validation Iteration : 1 , Loss : 0.8299720287322998\n",
      "Epoch : 3, Validation Loss : 0.8366351127624512\n",
      "Epoch : 4, Iteration : 1 , Loss : 0.81623375415802\n",
      "Epoch : 4, Iteration : 11 , Loss : 1.4280529022216797\n",
      "Epoch : 4, Iteration : 21 , Loss : 0.7989844083786011\n",
      "Epoch : 4, Iteration : 31 , Loss : 0.7652615308761597\n",
      "Epoch : 4, Iteration : 41 , Loss : 0.7093328833580017\n",
      "Epoch : 4, Iteration : 51 , Loss : 0.6559848189353943\n"
     ]
    },
    {
     "name": "stderr",
     "output_type": "stream",
     "text": [
      "INFO:root:Evaluating accuracy on dev set\n"
     ]
    },
    {
     "name": "stdout",
     "output_type": "stream",
     "text": [
      "Epoch : 4, Iteration : 61 , Loss : 0.6472208499908447\n",
      "Epoch : 4 , Loss : 0.749106910781584\n"
     ]
    },
    {
     "name": "stderr",
     "output_type": "stream",
     "text": [
      "INFO:root:Train loss: 0.749106910781584 - acc: 0.4450920336383956 -- Validation loss: 0.6609149490083966 - acc: 0.35602763241037977\n",
      " 13%|█▎        | 4/30 [00:07<00:49,  1.89s/it]"
     ]
    },
    {
     "name": "stdout",
     "output_type": "stream",
     "text": [
      "Epoch : 4, Validation Iteration : 1 , Loss : 0.6538955569267273\n",
      "Epoch : 4, Validation Loss : 0.6609149490083966\n",
      "Epoch : 5, Iteration : 1 , Loss : 0.6392306089401245\n",
      "Epoch : 5, Iteration : 11 , Loss : 0.6535987257957458\n",
      "Epoch : 5, Iteration : 21 , Loss : 0.6241405010223389\n",
      "Epoch : 5, Iteration : 31 , Loss : 0.6377055644989014\n",
      "Epoch : 5, Iteration : 41 , Loss : 0.6301766633987427\n",
      "Epoch : 5, Iteration : 51 , Loss : 0.6099342107772827\n"
     ]
    },
    {
     "name": "stderr",
     "output_type": "stream",
     "text": [
      "INFO:root:Evaluating accuracy on dev set\n"
     ]
    },
    {
     "name": "stdout",
     "output_type": "stream",
     "text": [
      "Epoch : 5, Iteration : 61 , Loss : 0.6126325130462646\n",
      "Epoch : 5 , Loss : 0.6276028311770895\n"
     ]
    },
    {
     "name": "stderr",
     "output_type": "stream",
     "text": [
      "INFO:root:Train loss: 0.6276028311770895 - acc: 0.5077798513599525 -- Validation loss: 0.6327629089355469 - acc: 0.45226242316273585\n",
      " 17%|█▋        | 5/30 [00:09<00:46,  1.85s/it]"
     ]
    },
    {
     "name": "stdout",
     "output_type": "stream",
     "text": [
      "Epoch : 5, Validation Iteration : 1 , Loss : 0.6310017108917236\n",
      "Epoch : 5, Validation Loss : 0.6327629089355469\n",
      "Epoch : 6, Iteration : 1 , Loss : 0.6198756694793701\n",
      "Epoch : 6, Iteration : 11 , Loss : 0.630834698677063\n",
      "Epoch : 6, Iteration : 21 , Loss : 0.6283858418464661\n",
      "Epoch : 6, Iteration : 31 , Loss : 0.6247311234474182\n",
      "Epoch : 6, Iteration : 41 , Loss : 0.6126705408096313\n",
      "Epoch : 6, Iteration : 51 , Loss : 0.6121534109115601\n"
     ]
    },
    {
     "name": "stderr",
     "output_type": "stream",
     "text": [
      "INFO:root:Evaluating accuracy on dev set\n"
     ]
    },
    {
     "name": "stdout",
     "output_type": "stream",
     "text": [
      "Epoch : 6, Iteration : 61 , Loss : 0.6139212250709534\n",
      "Epoch : 6 , Loss : 0.6202881094338237\n"
     ]
    },
    {
     "name": "stderr",
     "output_type": "stream",
     "text": [
      "INFO:root:Train loss: 0.6202881094338237 - acc: 0.5633113910397957 -- Validation loss: 0.6240492463111877 - acc: 0.4686408764577609\n",
      " 20%|██        | 6/30 [00:11<00:43,  1.83s/it]"
     ]
    },
    {
     "name": "stdout",
     "output_type": "stream",
     "text": [
      "Epoch : 6, Validation Iteration : 1 , Loss : 0.6189873814582825\n",
      "Epoch : 6, Validation Loss : 0.6240492463111877\n",
      "Epoch : 7, Iteration : 1 , Loss : 0.614580512046814\n",
      "Epoch : 7, Iteration : 11 , Loss : 0.6255448460578918\n",
      "Epoch : 7, Iteration : 21 , Loss : 0.615565836429596\n",
      "Epoch : 7, Iteration : 31 , Loss : 0.6273490190505981\n",
      "Epoch : 7, Iteration : 41 , Loss : 0.6140768527984619\n",
      "Epoch : 7, Iteration : 51 , Loss : 0.6087983846664429\n"
     ]
    },
    {
     "name": "stderr",
     "output_type": "stream",
     "text": [
      "INFO:root:Evaluating accuracy on dev set\n"
     ]
    },
    {
     "name": "stdout",
     "output_type": "stream",
     "text": [
      "Epoch : 7, Iteration : 61 , Loss : 0.6071275472640991\n",
      "Epoch : 7 , Loss : 0.6158366497012152\n"
     ]
    },
    {
     "name": "stderr",
     "output_type": "stream",
     "text": [
      "INFO:root:Train loss: 0.6158366497012152 - acc: 0.5845853150584227 -- Validation loss: 0.6167390516826085 - acc: 0.4706772739667824\n",
      " 23%|██▎       | 7/30 [00:13<00:41,  1.81s/it]"
     ]
    },
    {
     "name": "stdout",
     "output_type": "stream",
     "text": [
      "Epoch : 7, Validation Iteration : 1 , Loss : 0.6093667149543762\n",
      "Epoch : 7, Validation Loss : 0.6167390516826085\n",
      "Epoch : 8, Iteration : 1 , Loss : 0.6024230718612671\n",
      "Epoch : 8, Iteration : 11 , Loss : 0.6253035068511963\n",
      "Epoch : 8, Iteration : 21 , Loss : 0.6094505786895752\n",
      "Epoch : 8, Iteration : 31 , Loss : 0.6116636991500854\n",
      "Epoch : 8, Iteration : 41 , Loss : 0.6061965227127075\n",
      "Epoch : 8, Iteration : 51 , Loss : 0.6080845594406128\n"
     ]
    },
    {
     "name": "stderr",
     "output_type": "stream",
     "text": [
      "INFO:root:Evaluating accuracy on dev set\n"
     ]
    },
    {
     "name": "stdout",
     "output_type": "stream",
     "text": [
      "Epoch : 8, Iteration : 61 , Loss : 0.6011970043182373\n",
      "Epoch : 8 , Loss : 0.6073854677919028\n"
     ]
    },
    {
     "name": "stderr",
     "output_type": "stream",
     "text": [
      "INFO:root:Train loss: 0.6073854677919028 - acc: 0.6125130697373276 -- Validation loss: 0.6170211434364319 - acc: 0.4843485172430768\n",
      " 27%|██▋       | 8/30 [00:15<00:39,  1.80s/it]"
     ]
    },
    {
     "name": "stdout",
     "output_type": "stream",
     "text": [
      "Epoch : 8, Validation Iteration : 1 , Loss : 0.6166857481002808\n",
      "Epoch : 8, Validation Loss : 0.6170211434364319\n",
      "Epoch : 9, Iteration : 1 , Loss : 0.6059167385101318\n",
      "Epoch : 9, Iteration : 11 , Loss : 0.6156669855117798\n",
      "Epoch : 9, Iteration : 21 , Loss : 0.6120525598526001\n",
      "Epoch : 9, Iteration : 31 , Loss : 0.6072695255279541\n",
      "Epoch : 9, Iteration : 41 , Loss : 0.6021448373794556\n",
      "Epoch : 9, Iteration : 51 , Loss : 0.609849214553833\n",
      "Epoch : 9, Iteration : 61 , Loss : 0.600723147392273\n",
      "Epoch : 9 , Loss : 0.6047620263652526\n"
     ]
    },
    {
     "name": "stderr",
     "output_type": "stream",
     "text": [
      "INFO:root:Evaluating accuracy on dev set\n",
      "INFO:root:Train loss: 0.6047620263652526 - acc: 0.6412860534659803 -- Validation loss: 0.6102559992245266 - acc: 0.502402161311126\n",
      " 30%|███       | 9/30 [00:16<00:37,  1.79s/it]"
     ]
    },
    {
     "name": "stdout",
     "output_type": "stream",
     "text": [
      "Epoch : 9, Validation Iteration : 1 , Loss : 0.6109966039657593\n",
      "Epoch : 9, Validation Loss : 0.6102559992245266\n",
      "Epoch : 10, Iteration : 1 , Loss : 0.596461296081543\n",
      "Epoch : 10, Iteration : 11 , Loss : 0.605910062789917\n",
      "Epoch : 10, Iteration : 21 , Loss : 0.6004976034164429\n",
      "Epoch : 10, Iteration : 31 , Loss : 0.6075176000595093\n",
      "Epoch : 10, Iteration : 41 , Loss : 0.5957752466201782\n",
      "Epoch : 10, Iteration : 51 , Loss : 0.5992223024368286\n"
     ]
    },
    {
     "name": "stderr",
     "output_type": "stream",
     "text": [
      "INFO:root:Evaluating accuracy on dev set\n"
     ]
    },
    {
     "name": "stdout",
     "output_type": "stream",
     "text": [
      "Epoch : 10, Iteration : 61 , Loss : 0.5962958931922913\n",
      "Epoch : 10 , Loss : 0.5998986613923225\n"
     ]
    },
    {
     "name": "stderr",
     "output_type": "stream",
     "text": [
      "INFO:root:Train loss: 0.5998986613923225 - acc: 0.6639392849645673 -- Validation loss: 0.6093129685946873 - acc: 0.4811794418018675\n",
      " 33%|███▎      | 10/30 [00:18<00:35,  1.77s/it]"
     ]
    },
    {
     "name": "stdout",
     "output_type": "stream",
     "text": [
      "Epoch : 10, Validation Iteration : 1 , Loss : 0.6065251231193542\n",
      "Epoch : 10, Validation Loss : 0.6093129685946873\n",
      "Epoch : 11, Iteration : 1 , Loss : 0.5923951864242554\n",
      "Epoch : 11, Iteration : 11 , Loss : 0.6007604598999023\n",
      "Epoch : 11, Iteration : 21 , Loss : 0.5977376699447632\n",
      "Epoch : 11, Iteration : 31 , Loss : 0.5976359844207764\n",
      "Epoch : 11, Iteration : 41 , Loss : 0.5909665822982788\n",
      "Epoch : 11, Iteration : 51 , Loss : 0.5967659950256348\n"
     ]
    },
    {
     "name": "stderr",
     "output_type": "stream",
     "text": [
      "INFO:root:Evaluating accuracy on dev set\n"
     ]
    },
    {
     "name": "stdout",
     "output_type": "stream",
     "text": [
      "Epoch : 11, Iteration : 61 , Loss : 0.5948514938354492\n",
      "Epoch : 11 , Loss : 0.5945882313493369\n"
     ]
    },
    {
     "name": "stderr",
     "output_type": "stream",
     "text": [
      "INFO:root:Train loss: 0.5945882313493369 - acc: 0.6812711105495661 -- Validation loss: 0.6053722245352608 - acc: 0.499387018701637\n",
      " 37%|███▋      | 11/30 [00:20<00:33,  1.76s/it]"
     ]
    },
    {
     "name": "stdout",
     "output_type": "stream",
     "text": [
      "Epoch : 11, Validation Iteration : 1 , Loss : 0.6022918224334717\n",
      "Epoch : 11, Validation Loss : 0.6053722245352608\n",
      "Epoch : 12, Iteration : 1 , Loss : 0.59170001745224\n",
      "Epoch : 12, Iteration : 11 , Loss : 0.6023150682449341\n",
      "Epoch : 12, Iteration : 21 , Loss : 0.5978013277053833\n",
      "Epoch : 12, Iteration : 31 , Loss : 0.595043420791626\n",
      "Epoch : 12, Iteration : 41 , Loss : 0.5885848999023438\n",
      "Epoch : 12, Iteration : 51 , Loss : 0.5920195579528809\n"
     ]
    },
    {
     "name": "stderr",
     "output_type": "stream",
     "text": [
      "INFO:root:Evaluating accuracy on dev set\n"
     ]
    },
    {
     "name": "stdout",
     "output_type": "stream",
     "text": [
      "Epoch : 12, Iteration : 61 , Loss : 0.5859390497207642\n",
      "Epoch : 12 , Loss : 0.5903274062750996\n"
     ]
    },
    {
     "name": "stderr",
     "output_type": "stream",
     "text": [
      "INFO:root:Train loss: 0.5903274062750996 - acc: 0.6840366475982639 -- Validation loss: 0.6026102474757603 - acc: 0.5080490199244848\n",
      " 40%|████      | 12/30 [00:22<00:31,  1.75s/it]"
     ]
    },
    {
     "name": "stdout",
     "output_type": "stream",
     "text": [
      "Epoch : 12, Validation Iteration : 1 , Loss : 0.5989704132080078\n",
      "Epoch : 12, Validation Loss : 0.6026102474757603\n",
      "Epoch : 13, Iteration : 1 , Loss : 0.5853502750396729\n",
      "Epoch : 13, Iteration : 11 , Loss : 0.5930986404418945\n",
      "Epoch : 13, Iteration : 21 , Loss : 0.5884506702423096\n",
      "Epoch : 13, Iteration : 31 , Loss : 0.5904216766357422\n",
      "Epoch : 13, Iteration : 41 , Loss : 0.5851378440856934\n",
      "Epoch : 13, Iteration : 51 , Loss : 0.5909955501556396\n"
     ]
    },
    {
     "name": "stderr",
     "output_type": "stream",
     "text": [
      "INFO:root:Evaluating accuracy on dev set\n"
     ]
    },
    {
     "name": "stdout",
     "output_type": "stream",
     "text": [
      "Epoch : 13, Iteration : 61 , Loss : 0.5839982628822327\n",
      "Epoch : 13 , Loss : 0.5876796971196714\n"
     ]
    },
    {
     "name": "stderr",
     "output_type": "stream",
     "text": [
      "INFO:root:Train loss: 0.5876796971196714 - acc: 0.6989937320799305 -- Validation loss: 0.6022356833730426 - acc: 0.5044550229404098\n",
      " 43%|████▎     | 13/30 [00:23<00:29,  1.74s/it]"
     ]
    },
    {
     "name": "stdout",
     "output_type": "stream",
     "text": [
      "Epoch : 13, Validation Iteration : 1 , Loss : 0.6050454378128052\n",
      "Epoch : 13, Validation Loss : 0.6022356833730426\n",
      "Epoch : 14, Iteration : 1 , Loss : 0.5846347808837891\n",
      "Epoch : 14, Iteration : 11 , Loss : 0.5914122462272644\n",
      "Epoch : 14, Iteration : 21 , Loss : 0.5888535976409912\n",
      "Epoch : 14, Iteration : 31 , Loss : 0.5889376401901245\n",
      "Epoch : 14, Iteration : 41 , Loss : 0.5825396776199341\n",
      "Epoch : 14, Iteration : 51 , Loss : 0.589728832244873\n"
     ]
    },
    {
     "name": "stderr",
     "output_type": "stream",
     "text": [
      "INFO:root:Evaluating accuracy on dev set\n"
     ]
    },
    {
     "name": "stdout",
     "output_type": "stream",
     "text": [
      "Epoch : 14, Iteration : 61 , Loss : 0.5820063352584839\n",
      "Epoch : 14 , Loss : 0.5861660734466885\n"
     ]
    },
    {
     "name": "stderr",
     "output_type": "stream",
     "text": [
      "INFO:root:Train loss: 0.5861660734466885 - acc: 0.7095293547111551 -- Validation loss: 0.6013277513640267 - acc: 0.4765027615922547\n",
      " 47%|████▋     | 14/30 [00:25<00:27,  1.74s/it]"
     ]
    },
    {
     "name": "stdout",
     "output_type": "stream",
     "text": [
      "Epoch : 14, Validation Iteration : 1 , Loss : 0.6013040542602539\n",
      "Epoch : 14, Validation Loss : 0.6013277513640267\n",
      "Epoch : 15, Iteration : 1 , Loss : 0.5820230841636658\n",
      "Epoch : 15, Iteration : 11 , Loss : 0.591536283493042\n",
      "Epoch : 15, Iteration : 21 , Loss : 0.5883725881576538\n",
      "Epoch : 15, Iteration : 31 , Loss : 0.5879045724868774\n",
      "Epoch : 15, Iteration : 41 , Loss : 0.5825817584991455\n",
      "Epoch : 15, Iteration : 51 , Loss : 0.5882735252380371\n",
      "Epoch : 15, Iteration : 61 , Loss : 0.5812469720840454\n",
      "Epoch : 15 , Loss : 0.5855588368747545\n"
     ]
    },
    {
     "name": "stderr",
     "output_type": "stream",
     "text": [
      "INFO:root:Evaluating accuracy on dev set\n",
      "INFO:root:Train loss: 0.5855588368747545 - acc: 0.7215519832066293 -- Validation loss: 0.5984496048518589 - acc: 0.49404467938581154\n",
      " 50%|█████     | 15/30 [00:27<00:26,  1.74s/it]"
     ]
    },
    {
     "name": "stdout",
     "output_type": "stream",
     "text": [
      "Epoch : 15, Validation Iteration : 1 , Loss : 0.6005676984786987\n",
      "Epoch : 15, Validation Loss : 0.5984496048518589\n",
      "Epoch : 16, Iteration : 1 , Loss : 0.5804292559623718\n",
      "Epoch : 16, Iteration : 11 , Loss : 0.5874841213226318\n",
      "Epoch : 16, Iteration : 21 , Loss : 0.5875366926193237\n",
      "Epoch : 16, Iteration : 31 , Loss : 0.5873839855194092\n",
      "Epoch : 16, Iteration : 41 , Loss : 0.5828695297241211\n",
      "Epoch : 16, Iteration : 51 , Loss : 0.5864178538322449\n"
     ]
    },
    {
     "name": "stderr",
     "output_type": "stream",
     "text": [
      "INFO:root:Evaluating accuracy on dev set\n"
     ]
    },
    {
     "name": "stdout",
     "output_type": "stream",
     "text": [
      "Epoch : 16, Iteration : 61 , Loss : 0.5823154449462891\n",
      "Epoch : 16 , Loss : 0.5836712467497673\n"
     ]
    },
    {
     "name": "stderr",
     "output_type": "stream",
     "text": [
      "INFO:root:Train loss: 0.5836712467497673 - acc: 0.7298126131257575 -- Validation loss: 0.597455450466701 - acc: 0.5175441324035294\n",
      " 53%|█████▎    | 16/30 [00:28<00:24,  1.73s/it]"
     ]
    },
    {
     "name": "stdout",
     "output_type": "stream",
     "text": [
      "Epoch : 16, Validation Iteration : 1 , Loss : 0.5997055768966675\n",
      "Epoch : 16, Validation Loss : 0.597455450466701\n",
      "Epoch : 17, Iteration : 1 , Loss : 0.5806565284729004\n",
      "Epoch : 17, Iteration : 11 , Loss : 0.5869461894035339\n",
      "Epoch : 17, Iteration : 21 , Loss : 0.5876817107200623\n",
      "Epoch : 17, Iteration : 31 , Loss : 0.5875451564788818\n",
      "Epoch : 17, Iteration : 41 , Loss : 0.5821382403373718\n",
      "Epoch : 17, Iteration : 51 , Loss : 0.5858911275863647\n"
     ]
    },
    {
     "name": "stderr",
     "output_type": "stream",
     "text": [
      "INFO:root:Evaluating accuracy on dev set\n"
     ]
    },
    {
     "name": "stdout",
     "output_type": "stream",
     "text": [
      "Epoch : 17, Iteration : 61 , Loss : 0.5810046792030334\n",
      "Epoch : 17 , Loss : 0.5837680066841237\n"
     ]
    },
    {
     "name": "stderr",
     "output_type": "stream",
     "text": [
      "INFO:root:Train loss: 0.5837680066841237 - acc: 0.7325553628843635 -- Validation loss: 0.5965020826884678 - acc: 0.5086377126148373\n",
      " 57%|█████▋    | 17/30 [00:30<00:22,  1.74s/it]"
     ]
    },
    {
     "name": "stdout",
     "output_type": "stream",
     "text": [
      "Epoch : 17, Validation Iteration : 1 , Loss : 0.5990662574768066\n",
      "Epoch : 17, Validation Loss : 0.5965020826884678\n",
      "Epoch : 18, Iteration : 1 , Loss : 0.5807085037231445\n",
      "Epoch : 18, Iteration : 11 , Loss : 0.5846074819564819\n",
      "Epoch : 18, Iteration : 21 , Loss : 0.5871801376342773\n",
      "Epoch : 18, Iteration : 31 , Loss : 0.5869585871696472\n",
      "Epoch : 18, Iteration : 41 , Loss : 0.5822513699531555\n",
      "Epoch : 18, Iteration : 51 , Loss : 0.5844548940658569\n"
     ]
    },
    {
     "name": "stderr",
     "output_type": "stream",
     "text": [
      "INFO:root:Evaluating accuracy on dev set\n"
     ]
    },
    {
     "name": "stdout",
     "output_type": "stream",
     "text": [
      "Epoch : 18, Iteration : 61 , Loss : 0.5815746188163757\n",
      "Epoch : 18 , Loss : 0.583011263522549\n"
     ]
    },
    {
     "name": "stderr",
     "output_type": "stream",
     "text": [
      "INFO:root:Train loss: 0.583011263522549 - acc: 0.7371358933551885 -- Validation loss: 0.5963137916156224 - acc: 0.5128725386700951\n",
      " 60%|██████    | 18/30 [00:32<00:20,  1.74s/it]"
     ]
    },
    {
     "name": "stdout",
     "output_type": "stream",
     "text": [
      "Epoch : 18, Validation Iteration : 1 , Loss : 0.5973834991455078\n",
      "Epoch : 18, Validation Loss : 0.5963137916156224\n",
      "Epoch : 19, Iteration : 1 , Loss : 0.57682204246521\n",
      "Epoch : 19, Iteration : 11 , Loss : 0.5850863456726074\n",
      "Epoch : 19, Iteration : 21 , Loss : 0.5843906402587891\n",
      "Epoch : 19, Iteration : 31 , Loss : 0.5868943929672241\n",
      "Epoch : 19, Iteration : 41 , Loss : 0.5796544551849365\n",
      "Epoch : 19, Iteration : 51 , Loss : 0.583712100982666\n",
      "Epoch : 19, Iteration : 61 , Loss : 0.5819098949432373\n",
      "Epoch : 19 , Loss : 0.5821654986644137\n"
     ]
    },
    {
     "name": "stderr",
     "output_type": "stream",
     "text": [
      "INFO:root:Evaluating accuracy on dev set\n",
      "INFO:root:new model saved\n",
      "INFO:root:Train loss: 0.5821654986644137 - acc: 0.7454116620406087 -- Validation loss: 0.5956234931945801 - acc: 0.5341901611164751\n",
      " 63%|██████▎   | 19/30 [00:34<00:19,  1.75s/it]"
     ]
    },
    {
     "name": "stdout",
     "output_type": "stream",
     "text": [
      "Epoch : 19, Validation Iteration : 1 , Loss : 0.5988156199455261\n",
      "Epoch : 19, Validation Loss : 0.5956234931945801\n",
      "Epoch : 20, Iteration : 1 , Loss : 0.5800249576568604\n",
      "Epoch : 20, Iteration : 11 , Loss : 0.5872014760971069\n",
      "Epoch : 20, Iteration : 21 , Loss : 0.5822280645370483\n",
      "Epoch : 20, Iteration : 31 , Loss : 0.5863752365112305\n",
      "Epoch : 20, Iteration : 41 , Loss : 0.5784634351730347\n",
      "Epoch : 20, Iteration : 51 , Loss : 0.5836024284362793\n"
     ]
    },
    {
     "name": "stderr",
     "output_type": "stream",
     "text": [
      "INFO:root:Evaluating accuracy on dev set\n"
     ]
    },
    {
     "name": "stdout",
     "output_type": "stream",
     "text": [
      "Epoch : 20, Iteration : 61 , Loss : 0.579290509223938\n",
      "Epoch : 20 , Loss : 0.5816983606504358\n"
     ]
    },
    {
     "name": "stderr",
     "output_type": "stream",
     "text": [
      "INFO:root:Train loss: 0.5816983606504358 - acc: 0.7500236397848752 -- Validation loss: 0.5957973429134914 - acc: 0.5140058189481461\n",
      " 67%|██████▋   | 20/30 [00:35<00:17,  1.75s/it]"
     ]
    },
    {
     "name": "stdout",
     "output_type": "stream",
     "text": [
      "Epoch : 20, Validation Iteration : 1 , Loss : 0.5957098007202148\n",
      "Epoch : 20, Validation Loss : 0.5957973429134914\n",
      "Epoch : 21, Iteration : 1 , Loss : 0.5754148960113525\n",
      "Epoch : 21, Iteration : 11 , Loss : 0.5846740007400513\n",
      "Epoch : 21, Iteration : 21 , Loss : 0.5827820301055908\n",
      "Epoch : 21, Iteration : 31 , Loss : 0.5848206281661987\n",
      "Epoch : 21, Iteration : 41 , Loss : 0.5768091678619385\n",
      "Epoch : 21, Iteration : 51 , Loss : 0.5821431279182434\n"
     ]
    },
    {
     "name": "stderr",
     "output_type": "stream",
     "text": [
      "INFO:root:Evaluating accuracy on dev set\n"
     ]
    },
    {
     "name": "stdout",
     "output_type": "stream",
     "text": [
      "Epoch : 21, Iteration : 61 , Loss : 0.5800559520721436\n",
      "Epoch : 21 , Loss : 0.5806126534074977\n"
     ]
    },
    {
     "name": "stderr",
     "output_type": "stream",
     "text": [
      "INFO:root:new model saved\n",
      "INFO:root:Train loss: 0.5806126534074977 - acc: 0.7548897404997348 -- Validation loss: 0.5929427572659084 - acc: 0.5385753059282735\n",
      " 70%|███████   | 21/30 [00:37<00:15,  1.75s/it]"
     ]
    },
    {
     "name": "stdout",
     "output_type": "stream",
     "text": [
      "Epoch : 21, Validation Iteration : 1 , Loss : 0.5935287475585938\n",
      "Epoch : 21, Validation Loss : 0.5929427572659084\n",
      "Epoch : 22, Iteration : 1 , Loss : 0.5742168426513672\n",
      "Epoch : 22, Iteration : 11 , Loss : 0.5817171335220337\n",
      "Epoch : 22, Iteration : 21 , Loss : 0.5822194814682007\n",
      "Epoch : 22, Iteration : 31 , Loss : 0.5852333307266235\n",
      "Epoch : 22, Iteration : 41 , Loss : 0.5784518122673035\n",
      "Epoch : 22, Iteration : 51 , Loss : 0.5822018980979919\n"
     ]
    },
    {
     "name": "stderr",
     "output_type": "stream",
     "text": [
      "INFO:root:Evaluating accuracy on dev set\n"
     ]
    },
    {
     "name": "stdout",
     "output_type": "stream",
     "text": [
      "Epoch : 22, Iteration : 61 , Loss : 0.5793939828872681\n",
      "Epoch : 22 , Loss : 0.5801534436751103\n"
     ]
    },
    {
     "name": "stderr",
     "output_type": "stream",
     "text": [
      "INFO:root:Train loss: 0.5801534436751103 - acc: 0.761474284275448 -- Validation loss: 0.5946415918213981 - acc: 0.5292783652382391\n",
      " 73%|███████▎  | 22/30 [00:39<00:13,  1.74s/it]"
     ]
    },
    {
     "name": "stdout",
     "output_type": "stream",
     "text": [
      "Epoch : 22, Validation Iteration : 1 , Loss : 0.5966172218322754\n",
      "Epoch : 22, Validation Loss : 0.5946415918213981\n",
      "Epoch : 23, Iteration : 1 , Loss : 0.5759949088096619\n",
      "Epoch : 23, Iteration : 11 , Loss : 0.581511914730072\n",
      "Epoch : 23, Iteration : 21 , Loss : 0.581735372543335\n",
      "Epoch : 23, Iteration : 31 , Loss : 0.5846635699272156\n",
      "Epoch : 23, Iteration : 41 , Loss : 0.5763494372367859\n",
      "Epoch : 23, Iteration : 51 , Loss : 0.5827643871307373\n"
     ]
    },
    {
     "name": "stderr",
     "output_type": "stream",
     "text": [
      "INFO:root:Evaluating accuracy on dev set\n"
     ]
    },
    {
     "name": "stdout",
     "output_type": "stream",
     "text": [
      "Epoch : 23, Iteration : 61 , Loss : 0.5798632502555847\n",
      "Epoch : 23 , Loss : 0.5799002465994462\n"
     ]
    },
    {
     "name": "stderr",
     "output_type": "stream",
     "text": [
      "INFO:root:Train loss: 0.5799002465994462 - acc: 0.7665907606470916 -- Validation loss: 0.5956879002707345 - acc: 0.5312349184567206\n",
      " 77%|███████▋  | 23/30 [00:41<00:12,  1.74s/it]"
     ]
    },
    {
     "name": "stdout",
     "output_type": "stream",
     "text": [
      "Epoch : 23, Validation Iteration : 1 , Loss : 0.5987140536308289\n",
      "Epoch : 23, Validation Loss : 0.5956879002707345\n",
      "Epoch : 24, Iteration : 1 , Loss : 0.5755071640014648\n",
      "Epoch : 24, Iteration : 11 , Loss : 0.5809136629104614\n",
      "Epoch : 24, Iteration : 21 , Loss : 0.5812410116195679\n",
      "Epoch : 24, Iteration : 31 , Loss : 0.5838446021080017\n",
      "Epoch : 24, Iteration : 41 , Loss : 0.5778636932373047\n",
      "Epoch : 24, Iteration : 51 , Loss : 0.5838149785995483\n"
     ]
    },
    {
     "name": "stderr",
     "output_type": "stream",
     "text": [
      "INFO:root:Evaluating accuracy on dev set\n"
     ]
    },
    {
     "name": "stdout",
     "output_type": "stream",
     "text": [
      "Epoch : 24, Iteration : 61 , Loss : 0.5794016122817993\n",
      "Epoch : 24 , Loss : 0.5799333090367524\n"
     ]
    },
    {
     "name": "stderr",
     "output_type": "stream",
     "text": [
      "INFO:root:Train loss: 0.5799333090367524 - acc: 0.7645723974692299 -- Validation loss: 0.5957899263926915 - acc: 0.5290666741309649\n",
      " 80%|████████  | 24/30 [00:42<00:10,  1.74s/it]"
     ]
    },
    {
     "name": "stdout",
     "output_type": "stream",
     "text": [
      "Epoch : 24, Validation Iteration : 1 , Loss : 0.5975964665412903\n",
      "Epoch : 24, Validation Loss : 0.5957899263926915\n",
      "Epoch : 25, Iteration : 1 , Loss : 0.5747946500778198\n",
      "Epoch : 25, Iteration : 11 , Loss : 0.5818824768066406\n",
      "Epoch : 25, Iteration : 21 , Loss : 0.5806825757026672\n",
      "Epoch : 25, Iteration : 31 , Loss : 0.5844500064849854\n",
      "Epoch : 25, Iteration : 41 , Loss : 0.5761474370956421\n",
      "Epoch : 25, Iteration : 51 , Loss : 0.5837932229042053\n"
     ]
    },
    {
     "name": "stderr",
     "output_type": "stream",
     "text": [
      "INFO:root:Evaluating accuracy on dev set\n"
     ]
    },
    {
     "name": "stdout",
     "output_type": "stream",
     "text": [
      "Epoch : 25, Iteration : 61 , Loss : 0.5796753168106079\n",
      "Epoch : 25 , Loss : 0.5796893748684205\n"
     ]
    },
    {
     "name": "stderr",
     "output_type": "stream",
     "text": [
      "INFO:root:Train loss: 0.5796893748684205 - acc: 0.7690774671196914 -- Validation loss: 0.5969839606966291 - acc: 0.5082684746006632\n",
      " 83%|████████▎ | 25/30 [00:44<00:08,  1.74s/it]"
     ]
    },
    {
     "name": "stdout",
     "output_type": "stream",
     "text": [
      "Epoch : 25, Validation Iteration : 1 , Loss : 0.6008068323135376\n",
      "Epoch : 25, Validation Loss : 0.5969839606966291\n",
      "Epoch : 26, Iteration : 1 , Loss : 0.5742145776748657\n",
      "Epoch : 26, Iteration : 11 , Loss : 0.5848544836044312\n",
      "Epoch : 26, Iteration : 21 , Loss : 0.5803440809249878\n",
      "Epoch : 26, Iteration : 31 , Loss : 0.5854247808456421\n",
      "Epoch : 26, Iteration : 41 , Loss : 0.5776647925376892\n",
      "Epoch : 26, Iteration : 51 , Loss : 0.582856297492981\n"
     ]
    },
    {
     "name": "stderr",
     "output_type": "stream",
     "text": [
      "INFO:root:Evaluating accuracy on dev set\n"
     ]
    },
    {
     "name": "stdout",
     "output_type": "stream",
     "text": [
      "Epoch : 26, Iteration : 61 , Loss : 0.5789361000061035\n",
      "Epoch : 26 , Loss : 0.5799122400905775\n"
     ]
    },
    {
     "name": "stderr",
     "output_type": "stream",
     "text": [
      "INFO:root:Train loss: 0.5799122400905775 - acc: 0.7685756174796188 -- Validation loss: 0.5961690289633614 - acc: 0.5292128433937808\n",
      " 87%|████████▋ | 26/30 [00:46<00:06,  1.75s/it]"
     ]
    },
    {
     "name": "stdout",
     "output_type": "stream",
     "text": [
      "Epoch : 26, Validation Iteration : 1 , Loss : 0.5974323153495789\n",
      "Epoch : 26, Validation Loss : 0.5961690289633614\n",
      "Epoch : 27, Iteration : 1 , Loss : 0.5732932090759277\n",
      "Epoch : 27, Iteration : 11 , Loss : 0.5817898511886597\n",
      "Epoch : 27, Iteration : 21 , Loss : 0.5799757242202759\n",
      "Epoch : 27, Iteration : 31 , Loss : 0.5849138498306274\n",
      "Epoch : 27, Iteration : 41 , Loss : 0.5764929056167603\n",
      "Epoch : 27, Iteration : 51 , Loss : 0.5820081233978271\n"
     ]
    },
    {
     "name": "stderr",
     "output_type": "stream",
     "text": [
      "INFO:root:Evaluating accuracy on dev set\n"
     ]
    },
    {
     "name": "stdout",
     "output_type": "stream",
     "text": [
      "Epoch : 27, Iteration : 61 , Loss : 0.5794637203216553\n",
      "Epoch : 27 , Loss : 0.5793310291525247\n"
     ]
    },
    {
     "name": "stderr",
     "output_type": "stream",
     "text": [
      "INFO:root:new model saved\n",
      "INFO:root:Train loss: 0.5793310291525247 - acc: 0.7718690026259234 -- Validation loss: 0.5968397515160697 - acc: 0.5395710505675485\n",
      " 90%|█████████ | 27/30 [00:48<00:05,  1.76s/it]"
     ]
    },
    {
     "name": "stdout",
     "output_type": "stream",
     "text": [
      "Epoch : 27, Validation Iteration : 1 , Loss : 0.5973613262176514\n",
      "Epoch : 27, Validation Loss : 0.5968397515160697\n",
      "Epoch : 28, Iteration : 1 , Loss : 0.574614942073822\n",
      "Epoch : 28, Iteration : 11 , Loss : 0.5821504592895508\n",
      "Epoch : 28, Iteration : 21 , Loss : 0.5799399018287659\n",
      "Epoch : 28, Iteration : 31 , Loss : 0.5845599174499512\n",
      "Epoch : 28, Iteration : 41 , Loss : 0.5784372091293335\n",
      "Epoch : 28, Iteration : 51 , Loss : 1.130207896232605\n"
     ]
    },
    {
     "name": "stderr",
     "output_type": "stream",
     "text": [
      "INFO:root:Evaluating accuracy on dev set\n"
     ]
    },
    {
     "name": "stdout",
     "output_type": "stream",
     "text": [
      "Epoch : 28, Iteration : 61 , Loss : 1.3781964778900146\n",
      "Epoch : 28 , Loss : 0.8185067185457202\n"
     ]
    },
    {
     "name": "stderr",
     "output_type": "stream",
     "text": [
      "INFO:root:Train loss: 0.8185067185457202 - acc: 0.6942951951691025 -- Validation loss: 1.1625044856752669 - acc: 0.48551894218269515\n",
      " 93%|█████████▎| 28/30 [00:49<00:03,  1.76s/it]"
     ]
    },
    {
     "name": "stdout",
     "output_type": "stream",
     "text": [
      "Epoch : 28, Validation Iteration : 1 , Loss : 1.165784478187561\n",
      "Epoch : 28, Validation Loss : 1.1625044856752669\n",
      "Epoch : 29, Iteration : 1 , Loss : 1.142232894897461\n",
      "Epoch : 29, Iteration : 11 , Loss : 1.1567983627319336\n",
      "Epoch : 29, Iteration : 21 , Loss : 1.152340054512024\n",
      "Epoch : 29, Iteration : 31 , Loss : 1.1448674201965332\n",
      "Epoch : 29, Iteration : 41 , Loss : 1.1146907806396484\n",
      "Epoch : 29, Iteration : 51 , Loss : 1.1026835441589355\n"
     ]
    },
    {
     "name": "stderr",
     "output_type": "stream",
     "text": [
      "INFO:root:Evaluating accuracy on dev set\n"
     ]
    },
    {
     "name": "stdout",
     "output_type": "stream",
     "text": [
      "Epoch : 29, Iteration : 61 , Loss : 1.0639463663101196\n",
      "Epoch : 29 , Loss : 1.120475223098976\n"
     ]
    },
    {
     "name": "stderr",
     "output_type": "stream",
     "text": [
      "INFO:root:Train loss: 1.120475223098976 - acc: 0.6081249507602323 -- Validation loss: 1.0824427604675293 - acc: 0.4176948119798479\n",
      " 97%|█████████▋| 29/30 [00:51<00:01,  1.75s/it]"
     ]
    },
    {
     "name": "stdout",
     "output_type": "stream",
     "text": [
      "Epoch : 29, Validation Iteration : 1 , Loss : 1.0767784118652344\n",
      "Epoch : 29, Validation Loss : 1.0824427604675293\n",
      "Epoch : 30, Iteration : 1 , Loss : 1.0599820613861084\n",
      "Epoch : 30, Iteration : 11 , Loss : 1.0655546188354492\n",
      "Epoch : 30, Iteration : 21 , Loss : 0.9209619760513306\n",
      "Epoch : 30, Iteration : 31 , Loss : 0.8907335996627808\n",
      "Epoch : 30, Iteration : 41 , Loss : 0.7887790203094482\n",
      "Epoch : 30, Iteration : 51 , Loss : 0.7645615339279175\n"
     ]
    },
    {
     "name": "stderr",
     "output_type": "stream",
     "text": [
      "INFO:root:Evaluating accuracy on dev set\n"
     ]
    },
    {
     "name": "stdout",
     "output_type": "stream",
     "text": [
      "Epoch : 30, Iteration : 61 , Loss : 0.7320369482040405\n",
      "Epoch : 30 , Loss : 0.8803398064945055\n"
     ]
    },
    {
     "name": "stderr",
     "output_type": "stream",
     "text": [
      "INFO:root:Train loss: 0.8803398064945055 - acc: 0.56135766948363 -- Validation loss: 0.7544480562210083 - acc: 0.39100304574210815\n",
      "100%|██████████| 30/30 [00:53<00:00,  1.78s/it]\n"
     ]
    },
    {
     "name": "stdout",
     "output_type": "stream",
     "text": [
      "Epoch : 30, Validation Iteration : 1 , Loss : 0.7441164255142212\n",
      "Epoch : 30, Validation Loss : 0.7544480562210083\n"
     ]
    },
    {
     "name": "stderr",
     "output_type": "stream",
     "text": [
      "\r",
      "  0%|          | 0/30 [00:00<?, ?it/s]"
     ]
    },
    {
     "name": "stdout",
     "output_type": "stream",
     "text": [
      "Epoch : 1, Iteration : 1 , Loss : 1.1268174648284912\n",
      "Epoch : 1, Iteration : 11 , Loss : 1.1403839588165283\n",
      "Epoch : 1, Iteration : 21 , Loss : 1.1219565868377686\n",
      "Epoch : 1, Iteration : 31 , Loss : 1.1393957138061523\n",
      "Epoch : 1, Iteration : 41 , Loss : 1.1390326023101807\n",
      "Epoch : 1, Iteration : 51 , Loss : 1.1209704875946045\n"
     ]
    },
    {
     "name": "stderr",
     "output_type": "stream",
     "text": [
      "INFO:root:Evaluating accuracy on dev set\n"
     ]
    },
    {
     "name": "stdout",
     "output_type": "stream",
     "text": [
      "Epoch : 1, Iteration : 61 , Loss : 1.1126208305358887\n",
      "Epoch : 1 , Loss : 1.1307253923968992\n"
     ]
    },
    {
     "name": "stderr",
     "output_type": "stream",
     "text": [
      "INFO:root:new model saved\n",
      "INFO:root:Train loss: 1.1307253923968992 - acc: 0.4711280486412353 -- Validation loss: 1.1229909317834037 - acc: 0.5494005319280167\n",
      "  3%|▎         | 1/30 [00:01<00:50,  1.74s/it]"
     ]
    },
    {
     "name": "stdout",
     "output_type": "stream",
     "text": [
      "Epoch : 1, Validation Iteration : 1 , Loss : 1.1213587522506714\n",
      "Epoch : 1, Validation Loss : 1.1229909317834037\n",
      "Epoch : 2, Iteration : 1 , Loss : 1.1165552139282227\n",
      "Epoch : 2, Iteration : 11 , Loss : 1.1222058534622192\n",
      "Epoch : 2, Iteration : 21 , Loss : 1.1171798706054688\n",
      "Epoch : 2, Iteration : 31 , Loss : 1.1262762546539307\n",
      "Epoch : 2, Iteration : 41 , Loss : 1.1231576204299927\n",
      "Epoch : 2, Iteration : 51 , Loss : 1.1228514909744263\n"
     ]
    },
    {
     "name": "stderr",
     "output_type": "stream",
     "text": [
      "INFO:root:Evaluating accuracy on dev set\n"
     ]
    },
    {
     "name": "stdout",
     "output_type": "stream",
     "text": [
      "Epoch : 2, Iteration : 61 , Loss : 1.1114623546600342\n",
      "Epoch : 2 , Loss : 1.1214756550996199\n"
     ]
    },
    {
     "name": "stderr",
     "output_type": "stream",
     "text": [
      "INFO:root:new model saved\n",
      "INFO:root:Train loss: 1.1214756550996199 - acc: 0.5972389147336442 -- Validation loss: 1.120382853916713 - acc: 0.5830560046914038\n",
      "  7%|▋         | 2/30 [00:03<00:48,  1.74s/it]"
     ]
    },
    {
     "name": "stdout",
     "output_type": "stream",
     "text": [
      "Epoch : 2, Validation Iteration : 1 , Loss : 1.1176831722259521\n",
      "Epoch : 2, Validation Loss : 1.120382853916713\n",
      "Epoch : 3, Iteration : 1 , Loss : 1.1124508380889893\n",
      "Epoch : 3, Iteration : 11 , Loss : 1.1188030242919922\n",
      "Epoch : 3, Iteration : 21 , Loss : 1.1161197423934937\n",
      "Epoch : 3, Iteration : 31 , Loss : 1.1200907230377197\n",
      "Epoch : 3, Iteration : 41 , Loss : 1.1163945198059082\n",
      "Epoch : 3, Iteration : 51 , Loss : 1.115859031677246\n"
     ]
    },
    {
     "name": "stderr",
     "output_type": "stream",
     "text": [
      "INFO:root:Evaluating accuracy on dev set\n"
     ]
    },
    {
     "name": "stdout",
     "output_type": "stream",
     "text": [
      "Epoch : 3, Iteration : 61 , Loss : 1.1105103492736816\n",
      "Epoch : 3 , Loss : 1.1167847488237463\n"
     ]
    },
    {
     "name": "stderr",
     "output_type": "stream",
     "text": [
      "INFO:root:new model saved\n",
      "INFO:root:Train loss: 1.1167847488237463 - acc: 0.6509507563629842 -- Validation loss: 1.1177044425691878 - acc: 0.6003905816533653\n",
      " 10%|█         | 3/30 [00:05<00:47,  1.75s/it]"
     ]
    },
    {
     "name": "stdout",
     "output_type": "stream",
     "text": [
      "Epoch : 3, Validation Iteration : 1 , Loss : 1.1160485744476318\n",
      "Epoch : 3, Validation Loss : 1.1177044425691878\n",
      "Epoch : 4, Iteration : 1 , Loss : 1.1087045669555664\n",
      "Epoch : 4, Iteration : 11 , Loss : 1.1079988479614258\n",
      "Epoch : 4, Iteration : 21 , Loss : 1.0925854444503784\n",
      "Epoch : 4, Iteration : 31 , Loss : 1.0919541120529175\n",
      "Epoch : 4, Iteration : 41 , Loss : 1.0851473808288574\n",
      "Epoch : 4, Iteration : 51 , Loss : 1.0874894857406616\n"
     ]
    },
    {
     "name": "stderr",
     "output_type": "stream",
     "text": [
      "INFO:root:Evaluating accuracy on dev set\n"
     ]
    },
    {
     "name": "stdout",
     "output_type": "stream",
     "text": [
      "Epoch : 4, Iteration : 61 , Loss : 1.0826022624969482\n",
      "Epoch : 4 , Loss : 1.0914905727773472\n"
     ]
    },
    {
     "name": "stderr",
     "output_type": "stream",
     "text": [
      "INFO:root:Train loss: 1.0914905727773472 - acc: 0.6899775943479041 -- Validation loss: 1.0896582092557634 - acc: 0.594629009616716\n",
      " 13%|█▎        | 4/30 [00:06<00:45,  1.73s/it]"
     ]
    },
    {
     "name": "stdout",
     "output_type": "stream",
     "text": [
      "Epoch : 4, Validation Iteration : 1 , Loss : 1.087920069694519\n",
      "Epoch : 4, Validation Loss : 1.0896582092557634\n",
      "Epoch : 5, Iteration : 1 , Loss : 1.0777826309204102\n",
      "Epoch : 5, Iteration : 11 , Loss : 1.0812299251556396\n",
      "Epoch : 5, Iteration : 21 , Loss : 1.079593539237976\n",
      "Epoch : 5, Iteration : 31 , Loss : 1.0682289600372314\n",
      "Epoch : 5, Iteration : 41 , Loss : 1.0550713539123535\n",
      "Epoch : 5, Iteration : 51 , Loss : 1.055726170539856\n"
     ]
    },
    {
     "name": "stderr",
     "output_type": "stream",
     "text": [
      "INFO:root:Evaluating accuracy on dev set\n"
     ]
    },
    {
     "name": "stdout",
     "output_type": "stream",
     "text": [
      "Epoch : 5, Iteration : 61 , Loss : 1.0509707927703857\n",
      "Epoch : 5 , Loss : 1.0643948282020679\n"
     ]
    },
    {
     "name": "stderr",
     "output_type": "stream",
     "text": [
      "INFO:root:Train loss: 1.0643948282020679 - acc: 0.709058523438258 -- Validation loss: 1.0549350466047014 - acc: 0.5961776408311391\n",
      " 17%|█▋        | 5/30 [00:08<00:43,  1.72s/it]"
     ]
    },
    {
     "name": "stdout",
     "output_type": "stream",
     "text": [
      "Epoch : 5, Validation Iteration : 1 , Loss : 1.052159070968628\n",
      "Epoch : 5, Validation Loss : 1.0549350466047014\n",
      "Epoch : 6, Iteration : 1 , Loss : 1.0442594289779663\n",
      "Epoch : 6, Iteration : 11 , Loss : 1.0461366176605225\n",
      "Epoch : 6, Iteration : 21 , Loss : 1.0391762256622314\n",
      "Epoch : 6, Iteration : 31 , Loss : 1.0284407138824463\n",
      "Epoch : 6, Iteration : 41 , Loss : 0.9996500611305237\n",
      "Epoch : 6, Iteration : 51 , Loss : 0.9780040979385376\n"
     ]
    },
    {
     "name": "stderr",
     "output_type": "stream",
     "text": [
      "INFO:root:Evaluating accuracy on dev set\n"
     ]
    },
    {
     "name": "stdout",
     "output_type": "stream",
     "text": [
      "Epoch : 6, Iteration : 61 , Loss : 0.9292133450508118\n",
      "Epoch : 6 , Loss : 1.0007027655408003\n"
     ]
    },
    {
     "name": "stderr",
     "output_type": "stream",
     "text": [
      "INFO:root:Train loss: 1.0007027655408003 - acc: 0.7176159632630363 -- Validation loss: 0.8969546471323285 - acc: 0.5974307879359774\n",
      " 20%|██        | 6/30 [00:10<00:41,  1.71s/it]"
     ]
    },
    {
     "name": "stdout",
     "output_type": "stream",
     "text": [
      "Epoch : 6, Validation Iteration : 1 , Loss : 0.8975258469581604\n",
      "Epoch : 6, Validation Loss : 0.8969546471323285\n",
      "Epoch : 7, Iteration : 1 , Loss : 0.8865551352500916\n",
      "Epoch : 7, Iteration : 11 , Loss : 0.851743221282959\n",
      "Epoch : 7, Iteration : 21 , Loss : 0.813451886177063\n",
      "Epoch : 7, Iteration : 31 , Loss : 0.7848626375198364\n",
      "Epoch : 7, Iteration : 41 , Loss : 0.7490323781967163\n",
      "Epoch : 7, Iteration : 51 , Loss : 0.7351348400115967\n"
     ]
    },
    {
     "name": "stderr",
     "output_type": "stream",
     "text": [
      "INFO:root:Evaluating accuracy on dev set\n"
     ]
    },
    {
     "name": "stdout",
     "output_type": "stream",
     "text": [
      "Epoch : 7, Iteration : 61 , Loss : 0.703727126121521\n",
      "Epoch : 7 , Loss : 0.7760700125625168\n"
     ]
    },
    {
     "name": "stderr",
     "output_type": "stream",
     "text": [
      "INFO:root:Train loss: 0.7760700125625168 - acc: 0.7214143680454894 -- Validation loss: 0.6940480555806842 - acc: 0.5896012286961448\n",
      " 23%|██▎       | 7/30 [00:12<00:39,  1.72s/it]"
     ]
    },
    {
     "name": "stdout",
     "output_type": "stream",
     "text": [
      "Epoch : 7, Validation Iteration : 1 , Loss : 0.6975268721580505\n",
      "Epoch : 7, Validation Loss : 0.6940480555806842\n",
      "Epoch : 8, Iteration : 1 , Loss : 0.6817089319229126\n",
      "Epoch : 8, Iteration : 11 , Loss : 0.6773437261581421\n",
      "Epoch : 8, Iteration : 21 , Loss : 0.6687777042388916\n",
      "Epoch : 8, Iteration : 31 , Loss : 0.6633884906768799\n",
      "Epoch : 8, Iteration : 41 , Loss : 0.6406235694885254\n",
      "Epoch : 8, Iteration : 51 , Loss : 0.6309596300125122\n"
     ]
    },
    {
     "name": "stderr",
     "output_type": "stream",
     "text": [
      "INFO:root:Evaluating accuracy on dev set\n"
     ]
    },
    {
     "name": "stdout",
     "output_type": "stream",
     "text": [
      "Epoch : 8, Iteration : 61 , Loss : 0.6134467124938965\n",
      "Epoch : 8 , Loss : 0.64852091540461\n",
      "Epoch : 8, Validation Iteration : 1 , Loss : 0.618159830570221\n"
     ]
    },
    {
     "name": "stderr",
     "output_type": "stream",
     "text": [
      "INFO:root:Train loss: 0.64852091540461 - acc: 0.7396366795727045 -- Validation loss: 0.6173781156539917 - acc: 0.5877055793371702\n",
      " 27%|██▋       | 8/30 [00:13<00:37,  1.71s/it]"
     ]
    },
    {
     "name": "stdout",
     "output_type": "stream",
     "text": [
      "Epoch : 8, Validation Loss : 0.6173781156539917\n",
      "Epoch : 9, Iteration : 1 , Loss : 0.6039173603057861\n",
      "Epoch : 9, Iteration : 11 , Loss : 0.6085612773895264\n",
      "Epoch : 9, Iteration : 21 , Loss : 0.6039282083511353\n",
      "Epoch : 9, Iteration : 31 , Loss : 0.6067014932632446\n",
      "Epoch : 9, Iteration : 41 , Loss : 0.5975574254989624\n",
      "Epoch : 9, Iteration : 51 , Loss : 0.6023081541061401\n"
     ]
    },
    {
     "name": "stderr",
     "output_type": "stream",
     "text": [
      "INFO:root:Evaluating accuracy on dev set\n"
     ]
    },
    {
     "name": "stdout",
     "output_type": "stream",
     "text": [
      "Epoch : 9, Iteration : 61 , Loss : 0.5966876745223999\n",
      "Epoch : 9 , Loss : 0.6012018979459569\n",
      "Epoch : 9, Validation Iteration : 1 , Loss : 0.6068288087844849\n"
     ]
    },
    {
     "name": "stderr",
     "output_type": "stream",
     "text": [
      "INFO:root:Train loss: 0.6012018979459569 - acc: 0.7539207443502438 -- Validation loss: 0.6049697995185852 - acc: 0.5964316300034773\n",
      " 30%|███       | 9/30 [00:15<00:35,  1.69s/it]"
     ]
    },
    {
     "name": "stdout",
     "output_type": "stream",
     "text": [
      "Epoch : 9, Validation Loss : 0.6049697995185852\n",
      "Epoch : 10, Iteration : 1 , Loss : 0.590918779373169\n",
      "Epoch : 10, Iteration : 11 , Loss : 0.5991938710212708\n",
      "Epoch : 10, Iteration : 21 , Loss : 0.5952962636947632\n",
      "Epoch : 10, Iteration : 31 , Loss : 0.5985503196716309\n",
      "Epoch : 10, Iteration : 41 , Loss : 0.5892510414123535\n",
      "Epoch : 10, Iteration : 51 , Loss : 0.5944774150848389\n"
     ]
    },
    {
     "name": "stderr",
     "output_type": "stream",
     "text": [
      "INFO:root:Evaluating accuracy on dev set\n"
     ]
    },
    {
     "name": "stdout",
     "output_type": "stream",
     "text": [
      "Epoch : 10, Iteration : 61 , Loss : 0.5903292894363403\n",
      "Epoch : 10 , Loss : 0.5927660283835038\n",
      "Epoch : 10, Validation Iteration : 1 , Loss : 0.6005975604057312\n"
     ]
    },
    {
     "name": "stderr",
     "output_type": "stream",
     "text": [
      "INFO:root:Train loss: 0.5927660283835038 - acc: 0.7650461218766885 -- Validation loss: 0.5984905958175659 - acc: 0.5771588379082043\n",
      " 33%|███▎      | 10/30 [00:17<00:33,  1.69s/it]"
     ]
    },
    {
     "name": "stdout",
     "output_type": "stream",
     "text": [
      "Epoch : 10, Validation Loss : 0.5984905958175659\n",
      "Epoch : 11, Iteration : 1 , Loss : 0.584648609161377\n",
      "Epoch : 11, Iteration : 11 , Loss : 0.5958921909332275\n",
      "Epoch : 11, Iteration : 21 , Loss : 0.5892007350921631\n",
      "Epoch : 11, Iteration : 31 , Loss : 0.5914508700370789\n",
      "Epoch : 11, Iteration : 41 , Loss : 0.5831030607223511\n",
      "Epoch : 11, Iteration : 51 , Loss : 0.5891998410224915\n"
     ]
    },
    {
     "name": "stderr",
     "output_type": "stream",
     "text": [
      "INFO:root:Evaluating accuracy on dev set\n"
     ]
    },
    {
     "name": "stdout",
     "output_type": "stream",
     "text": [
      "Epoch : 11, Iteration : 61 , Loss : 0.5853586196899414\n",
      "Epoch : 11 , Loss : 0.5869458654652471\n",
      "Epoch : 11, Validation Iteration : 1 , Loss : 0.5968313813209534\n"
     ]
    },
    {
     "name": "stderr",
     "output_type": "stream",
     "text": [
      "INFO:root:Train loss: 0.5869458654652471 - acc: 0.7681196036265292 -- Validation loss: 0.5949299846376691 - acc: 0.5817921492156631\n",
      " 37%|███▋      | 11/30 [00:18<00:31,  1.68s/it]"
     ]
    },
    {
     "name": "stdout",
     "output_type": "stream",
     "text": [
      "Epoch : 11, Validation Loss : 0.5949299846376691\n",
      "Epoch : 12, Iteration : 1 , Loss : 0.5801773071289062\n",
      "Epoch : 12, Iteration : 11 , Loss : 0.5901486873626709\n",
      "Epoch : 12, Iteration : 21 , Loss : 0.5851659774780273\n",
      "Epoch : 12, Iteration : 31 , Loss : 0.5891741514205933\n",
      "Epoch : 12, Iteration : 41 , Loss : 0.5812751650810242\n",
      "Epoch : 12, Iteration : 51 , Loss : 0.5874128937721252\n"
     ]
    },
    {
     "name": "stderr",
     "output_type": "stream",
     "text": [
      "INFO:root:Evaluating accuracy on dev set\n"
     ]
    },
    {
     "name": "stdout",
     "output_type": "stream",
     "text": [
      "Epoch : 12, Iteration : 61 , Loss : 0.5848677158355713\n",
      "Epoch : 12 , Loss : 0.5844128123228101\n"
     ]
    },
    {
     "name": "stderr",
     "output_type": "stream",
     "text": [
      "INFO:root:Train loss: 0.5844128123228101 - acc: 0.7740122302585544 -- Validation loss: 0.5937345709119525 - acc: 0.5776350257767647\n",
      " 40%|████      | 12/30 [00:20<00:30,  1.67s/it]"
     ]
    },
    {
     "name": "stdout",
     "output_type": "stream",
     "text": [
      "Epoch : 12, Validation Iteration : 1 , Loss : 0.594875156879425\n",
      "Epoch : 12, Validation Loss : 0.5937345709119525\n",
      "Epoch : 13, Iteration : 1 , Loss : 0.5791023969650269\n",
      "Epoch : 13, Iteration : 11 , Loss : 0.5890111923217773\n",
      "Epoch : 13, Iteration : 21 , Loss : 0.5834182500839233\n",
      "Epoch : 13, Iteration : 31 , Loss : 0.587709367275238\n",
      "Epoch : 13, Iteration : 41 , Loss : 0.5795274972915649\n",
      "Epoch : 13, Iteration : 51 , Loss : 0.5855343341827393\n"
     ]
    },
    {
     "name": "stderr",
     "output_type": "stream",
     "text": [
      "INFO:root:Evaluating accuracy on dev set\n"
     ]
    },
    {
     "name": "stdout",
     "output_type": "stream",
     "text": [
      "Epoch : 13, Iteration : 61 , Loss : 0.5839799046516418\n",
      "Epoch : 13 , Loss : 0.5829051180162291\n"
     ]
    },
    {
     "name": "stderr",
     "output_type": "stream",
     "text": [
      "INFO:root:Train loss: 0.5829051180162291 - acc: 0.7777388732141536 -- Validation loss: 0.5922470944268363 - acc: 0.5899833699928854\n",
      " 43%|████▎     | 13/30 [00:22<00:28,  1.68s/it]"
     ]
    },
    {
     "name": "stdout",
     "output_type": "stream",
     "text": [
      "Epoch : 13, Validation Iteration : 1 , Loss : 0.5939768552780151\n",
      "Epoch : 13, Validation Loss : 0.5922470944268363\n",
      "Epoch : 14, Iteration : 1 , Loss : 0.576939582824707\n",
      "Epoch : 14, Iteration : 11 , Loss : 0.5872197151184082\n",
      "Epoch : 14, Iteration : 21 , Loss : 0.5845166444778442\n",
      "Epoch : 14, Iteration : 31 , Loss : 0.5870165228843689\n",
      "Epoch : 14, Iteration : 41 , Loss : 0.578544557094574\n",
      "Epoch : 14, Iteration : 51 , Loss : 0.5852912664413452\n"
     ]
    },
    {
     "name": "stderr",
     "output_type": "stream",
     "text": [
      "INFO:root:Evaluating accuracy on dev set\n"
     ]
    },
    {
     "name": "stdout",
     "output_type": "stream",
     "text": [
      "Epoch : 14, Iteration : 61 , Loss : 0.5825244188308716\n",
      "Epoch : 14 , Loss : 0.5819349219833595\n"
     ]
    },
    {
     "name": "stderr",
     "output_type": "stream",
     "text": [
      "INFO:root:Train loss: 0.5819349219833595 - acc: 0.7820493558733841 -- Validation loss: 0.5918895261628287 - acc: 0.5826616020056093\n",
      " 47%|████▋     | 14/30 [00:23<00:26,  1.68s/it]"
     ]
    },
    {
     "name": "stdout",
     "output_type": "stream",
     "text": [
      "Epoch : 14, Validation Iteration : 1 , Loss : 0.5939337015151978\n",
      "Epoch : 14, Validation Loss : 0.5918895261628287\n",
      "Epoch : 15, Iteration : 1 , Loss : 0.5760164260864258\n",
      "Epoch : 15, Iteration : 11 , Loss : 0.5840480327606201\n",
      "Epoch : 15, Iteration : 21 , Loss : 0.5823806524276733\n",
      "Epoch : 15, Iteration : 31 , Loss : 0.5869578123092651\n",
      "Epoch : 15, Iteration : 41 , Loss : 0.5774413347244263\n",
      "Epoch : 15, Iteration : 51 , Loss : 0.5840619802474976\n"
     ]
    },
    {
     "name": "stderr",
     "output_type": "stream",
     "text": [
      "INFO:root:Evaluating accuracy on dev set\n"
     ]
    },
    {
     "name": "stdout",
     "output_type": "stream",
     "text": [
      "Epoch : 15, Iteration : 61 , Loss : 0.5809541940689087\n",
      "Epoch : 15 , Loss : 0.580513456593389\n"
     ]
    },
    {
     "name": "stderr",
     "output_type": "stream",
     "text": [
      "INFO:root:Train loss: 0.580513456593389 - acc: 0.7870336639084397 -- Validation loss: 0.5907439078603473 - acc: 0.5841439082477564\n",
      " 50%|█████     | 15/30 [00:25<00:25,  1.68s/it]"
     ]
    },
    {
     "name": "stdout",
     "output_type": "stream",
     "text": [
      "Epoch : 15, Validation Iteration : 1 , Loss : 0.5928009748458862\n",
      "Epoch : 15, Validation Loss : 0.5907439078603473\n",
      "Epoch : 16, Iteration : 1 , Loss : 0.5744650959968567\n",
      "Epoch : 16, Iteration : 11 , Loss : 0.5827693939208984\n",
      "Epoch : 16, Iteration : 21 , Loss : 0.5809510946273804\n",
      "Epoch : 16, Iteration : 31 , Loss : 0.5843594074249268\n",
      "Epoch : 16, Iteration : 41 , Loss : 0.5763257741928101\n",
      "Epoch : 16, Iteration : 51 , Loss : 0.5831425189971924\n"
     ]
    },
    {
     "name": "stderr",
     "output_type": "stream",
     "text": [
      "INFO:root:Evaluating accuracy on dev set\n"
     ]
    },
    {
     "name": "stdout",
     "output_type": "stream",
     "text": [
      "Epoch : 16, Iteration : 61 , Loss : 0.5803942680358887\n",
      "Epoch : 16 , Loss : 0.5796101326527803\n",
      "Epoch : 16, Validation Iteration : 1 , Loss : 0.5938785076141357\n"
     ]
    },
    {
     "name": "stderr",
     "output_type": "stream",
     "text": [
      "INFO:root:Train loss: 0.5796101326527803 - acc: 0.789875486353459 -- Validation loss: 0.5905023813247681 - acc: 0.5740793112186653\n",
      " 53%|█████▎    | 16/30 [00:27<00:23,  1.68s/it]"
     ]
    },
    {
     "name": "stdout",
     "output_type": "stream",
     "text": [
      "Epoch : 16, Validation Loss : 0.5905023813247681\n",
      "Epoch : 17, Iteration : 1 , Loss : 0.5735236406326294\n",
      "Epoch : 17, Iteration : 11 , Loss : 0.5844890475273132\n",
      "Epoch : 17, Iteration : 21 , Loss : 0.5794967412948608\n",
      "Epoch : 17, Iteration : 31 , Loss : 0.5841233730316162\n",
      "Epoch : 17, Iteration : 41 , Loss : 0.575068473815918\n",
      "Epoch : 17, Iteration : 51 , Loss : 0.5825875401496887\n"
     ]
    },
    {
     "name": "stderr",
     "output_type": "stream",
     "text": [
      "INFO:root:Evaluating accuracy on dev set\n"
     ]
    },
    {
     "name": "stdout",
     "output_type": "stream",
     "text": [
      "Epoch : 17, Iteration : 61 , Loss : 0.5797730684280396\n",
      "Epoch : 17 , Loss : 0.5787203372388646\n"
     ]
    },
    {
     "name": "stderr",
     "output_type": "stream",
     "text": [
      "INFO:root:Train loss: 0.5787203372388646 - acc: 0.7917305577686424 -- Validation loss: 0.5899146624973842 - acc: 0.5843531230442595\n",
      " 57%|█████▋    | 17/30 [00:28<00:21,  1.68s/it]"
     ]
    },
    {
     "name": "stdout",
     "output_type": "stream",
     "text": [
      "Epoch : 17, Validation Iteration : 1 , Loss : 0.5924917459487915\n",
      "Epoch : 17, Validation Loss : 0.5899146624973842\n",
      "Epoch : 18, Iteration : 1 , Loss : 0.5735836029052734\n",
      "Epoch : 18, Iteration : 11 , Loss : 0.5827372670173645\n",
      "Epoch : 18, Iteration : 21 , Loss : 0.578829288482666\n",
      "Epoch : 18, Iteration : 31 , Loss : 0.5841531753540039\n",
      "Epoch : 18, Iteration : 41 , Loss : 0.5744729042053223\n",
      "Epoch : 18, Iteration : 51 , Loss : 0.581842839717865\n"
     ]
    },
    {
     "name": "stderr",
     "output_type": "stream",
     "text": [
      "INFO:root:Evaluating accuracy on dev set\n"
     ]
    },
    {
     "name": "stdout",
     "output_type": "stream",
     "text": [
      "Epoch : 18, Iteration : 61 , Loss : 0.5783741474151611\n",
      "Epoch : 18 , Loss : 0.578127700349559\n"
     ]
    },
    {
     "name": "stderr",
     "output_type": "stream",
     "text": [
      "INFO:root:Train loss: 0.578127700349559 - acc: 0.7950191822958126 -- Validation loss: 0.5895132848194667 - acc: 0.5884207646588057\n",
      " 60%|██████    | 18/30 [00:30<00:20,  1.68s/it]"
     ]
    },
    {
     "name": "stdout",
     "output_type": "stream",
     "text": [
      "Epoch : 18, Validation Iteration : 1 , Loss : 0.591282844543457\n",
      "Epoch : 18, Validation Loss : 0.5895132848194667\n",
      "Epoch : 19, Iteration : 1 , Loss : 0.5726513862609863\n",
      "Epoch : 19, Iteration : 11 , Loss : 0.582270085811615\n",
      "Epoch : 19, Iteration : 21 , Loss : 0.5783506035804749\n",
      "Epoch : 19, Iteration : 31 , Loss : 0.5834529995918274\n",
      "Epoch : 19, Iteration : 41 , Loss : 0.5741527080535889\n",
      "Epoch : 19, Iteration : 51 , Loss : 0.5815732479095459\n"
     ]
    },
    {
     "name": "stderr",
     "output_type": "stream",
     "text": [
      "INFO:root:Evaluating accuracy on dev set\n"
     ]
    },
    {
     "name": "stdout",
     "output_type": "stream",
     "text": [
      "Epoch : 19, Iteration : 61 , Loss : 0.5782904624938965\n",
      "Epoch : 19 , Loss : 0.5776911256969839\n",
      "Epoch : 19, Validation Iteration : 1 , Loss : 0.5911679267883301\n"
     ]
    },
    {
     "name": "stderr",
     "output_type": "stream",
     "text": [
      "INFO:root:Train loss: 0.5776911256969839 - acc: 0.7963537880709813 -- Validation loss: 0.5894913588251386 - acc: 0.569874067038025\n",
      " 63%|██████▎   | 19/30 [00:32<00:18,  1.68s/it]"
     ]
    },
    {
     "name": "stdout",
     "output_type": "stream",
     "text": [
      "Epoch : 19, Validation Loss : 0.5894913588251386\n",
      "Epoch : 20, Iteration : 1 , Loss : 0.5730328559875488\n",
      "Epoch : 20, Iteration : 11 , Loss : 0.5819454789161682\n",
      "Epoch : 20, Iteration : 21 , Loss : 0.5782904624938965\n",
      "Epoch : 20, Iteration : 31 , Loss : 0.5834017992019653\n",
      "Epoch : 20, Iteration : 41 , Loss : 0.5737019777297974\n",
      "Epoch : 20, Iteration : 51 , Loss : 0.5811060070991516\n"
     ]
    },
    {
     "name": "stderr",
     "output_type": "stream",
     "text": [
      "INFO:root:Evaluating accuracy on dev set\n"
     ]
    },
    {
     "name": "stdout",
     "output_type": "stream",
     "text": [
      "Epoch : 20, Iteration : 61 , Loss : 0.5777654647827148\n",
      "Epoch : 20 , Loss : 0.5773895451987999\n",
      "Epoch : 20, Validation Iteration : 1 , Loss : 0.5918137431144714\n"
     ]
    },
    {
     "name": "stderr",
     "output_type": "stream",
     "text": [
      "INFO:root:Train loss: 0.5773895451987999 - acc: 0.7978711520389279 -- Validation loss: 0.5898963553564889 - acc: 0.5771322008355849\n",
      " 67%|██████▋   | 20/30 [00:33<00:16,  1.68s/it]"
     ]
    },
    {
     "name": "stdout",
     "output_type": "stream",
     "text": [
      "Epoch : 20, Validation Loss : 0.5898963553564889\n",
      "Epoch : 21, Iteration : 1 , Loss : 0.5726439952850342\n",
      "Epoch : 21, Iteration : 11 , Loss : 0.5823538899421692\n",
      "Epoch : 21, Iteration : 21 , Loss : 0.5779806971549988\n",
      "Epoch : 21, Iteration : 31 , Loss : 0.5824221968650818\n",
      "Epoch : 21, Iteration : 41 , Loss : 0.5737626552581787\n",
      "Epoch : 21, Iteration : 51 , Loss : 0.580737829208374\n"
     ]
    },
    {
     "name": "stderr",
     "output_type": "stream",
     "text": [
      "INFO:root:Evaluating accuracy on dev set\n"
     ]
    },
    {
     "name": "stdout",
     "output_type": "stream",
     "text": [
      "Epoch : 21, Iteration : 61 , Loss : 0.5770334005355835\n",
      "Epoch : 21 , Loss : 0.5772435017254042\n",
      "Epoch : 21, Validation Iteration : 1 , Loss : 0.5903123617172241\n"
     ]
    },
    {
     "name": "stderr",
     "output_type": "stream",
     "text": [
      "INFO:root:Train loss: 0.5772435017254042 - acc: 0.7975473311405421 -- Validation loss: 0.5894887106759208 - acc: 0.5778056904380197\n",
      " 70%|███████   | 21/30 [00:35<00:15,  1.68s/it]"
     ]
    },
    {
     "name": "stdout",
     "output_type": "stream",
     "text": [
      "Epoch : 21, Validation Loss : 0.5894887106759208\n",
      "Epoch : 22, Iteration : 1 , Loss : 0.5716235637664795\n",
      "Epoch : 22, Iteration : 11 , Loss : 0.5802977681159973\n",
      "Epoch : 22, Iteration : 21 , Loss : 0.5781257152557373\n",
      "Epoch : 22, Iteration : 31 , Loss : 0.5829602479934692\n",
      "Epoch : 22, Iteration : 41 , Loss : 0.5734471082687378\n",
      "Epoch : 22, Iteration : 51 , Loss : 0.5807391405105591\n"
     ]
    },
    {
     "name": "stderr",
     "output_type": "stream",
     "text": [
      "INFO:root:Evaluating accuracy on dev set\n"
     ]
    },
    {
     "name": "stdout",
     "output_type": "stream",
     "text": [
      "Epoch : 22, Iteration : 61 , Loss : 0.576984167098999\n",
      "Epoch : 22 , Loss : 0.5770752455877222\n"
     ]
    },
    {
     "name": "stderr",
     "output_type": "stream",
     "text": [
      "INFO:root:Train loss: 0.5770752455877222 - acc: 0.7992857767579467 -- Validation loss: 0.5897648675101144 - acc: 0.5681745816485162\n",
      " 73%|███████▎  | 22/30 [00:37<00:13,  1.67s/it]"
     ]
    },
    {
     "name": "stdout",
     "output_type": "stream",
     "text": [
      "Epoch : 22, Validation Iteration : 1 , Loss : 0.5913724303245544\n",
      "Epoch : 22, Validation Loss : 0.5897648675101144\n",
      "Epoch : 23, Iteration : 1 , Loss : 0.5713132619857788\n",
      "Epoch : 23, Iteration : 11 , Loss : 0.5803883075714111\n",
      "Epoch : 23, Iteration : 21 , Loss : 0.577752947807312\n",
      "Epoch : 23, Iteration : 31 , Loss : 0.582658588886261\n",
      "Epoch : 23, Iteration : 41 , Loss : 0.5732693672180176\n",
      "Epoch : 23, Iteration : 51 , Loss : 0.5809952616691589\n"
     ]
    },
    {
     "name": "stderr",
     "output_type": "stream",
     "text": [
      "INFO:root:Evaluating accuracy on dev set\n"
     ]
    },
    {
     "name": "stdout",
     "output_type": "stream",
     "text": [
      "Epoch : 23, Iteration : 61 , Loss : 0.5772575736045837\n",
      "Epoch : 23 , Loss : 0.577109069927879\n"
     ]
    },
    {
     "name": "stderr",
     "output_type": "stream",
     "text": [
      "INFO:root:Train loss: 0.577109069927879 - acc: 0.7990090720210584 -- Validation loss: 0.5893963830811637 - acc: 0.5757882333600317\n",
      " 77%|███████▋  | 23/30 [00:38<00:11,  1.68s/it]"
     ]
    },
    {
     "name": "stdout",
     "output_type": "stream",
     "text": [
      "Epoch : 23, Validation Iteration : 1 , Loss : 0.5912708044052124\n",
      "Epoch : 23, Validation Loss : 0.5893963830811637\n",
      "Epoch : 24, Iteration : 1 , Loss : 0.5723071098327637\n",
      "Epoch : 24, Iteration : 11 , Loss : 0.5793238878250122\n",
      "Epoch : 24, Iteration : 21 , Loss : 0.5776242017745972\n",
      "Epoch : 24, Iteration : 31 , Loss : 0.5824329853057861\n",
      "Epoch : 24, Iteration : 41 , Loss : 0.5732369422912598\n",
      "Epoch : 24, Iteration : 51 , Loss : 0.5808115005493164\n"
     ]
    },
    {
     "name": "stderr",
     "output_type": "stream",
     "text": [
      "INFO:root:Evaluating accuracy on dev set\n"
     ]
    },
    {
     "name": "stdout",
     "output_type": "stream",
     "text": [
      "Epoch : 24, Iteration : 61 , Loss : 0.5775216817855835\n",
      "Epoch : 24 , Loss : 0.5770051531169725\n"
     ]
    },
    {
     "name": "stderr",
     "output_type": "stream",
     "text": [
      "INFO:root:Train loss: 0.5770051531169725 - acc: 0.8004799159861874 -- Validation loss: 0.5890846848487854 - acc: 0.5713808686786109\n",
      " 80%|████████  | 24/30 [00:40<00:10,  1.68s/it]"
     ]
    },
    {
     "name": "stdout",
     "output_type": "stream",
     "text": [
      "Epoch : 24, Validation Iteration : 1 , Loss : 0.5904104709625244\n",
      "Epoch : 24, Validation Loss : 0.5890846848487854\n",
      "Epoch : 25, Iteration : 1 , Loss : 0.5718563199043274\n",
      "Epoch : 25, Iteration : 11 , Loss : 0.579079270362854\n",
      "Epoch : 25, Iteration : 21 , Loss : 0.5781799554824829\n",
      "Epoch : 25, Iteration : 31 , Loss : 0.5820811986923218\n",
      "Epoch : 25, Iteration : 41 , Loss : 0.5730995535850525\n",
      "Epoch : 25, Iteration : 51 , Loss : 0.5811036229133606\n"
     ]
    },
    {
     "name": "stderr",
     "output_type": "stream",
     "text": [
      "INFO:root:Evaluating accuracy on dev set\n"
     ]
    },
    {
     "name": "stdout",
     "output_type": "stream",
     "text": [
      "Epoch : 25, Iteration : 61 , Loss : 0.5770750641822815\n",
      "Epoch : 25 , Loss : 0.5769251887349115\n",
      "Epoch : 25, Validation Iteration : 1 , Loss : 0.5919297933578491\n"
     ]
    },
    {
     "name": "stderr",
     "output_type": "stream",
     "text": [
      "INFO:root:Train loss: 0.5769251887349115 - acc: 0.8006425420825188 -- Validation loss: 0.5894115907805306 - acc: 0.5765287172079238\n",
      " 83%|████████▎ | 25/30 [00:42<00:08,  1.68s/it]"
     ]
    },
    {
     "name": "stdout",
     "output_type": "stream",
     "text": [
      "Epoch : 25, Validation Loss : 0.5894115907805306\n",
      "Epoch : 26, Iteration : 1 , Loss : 0.5719220638275146\n",
      "Epoch : 26, Iteration : 11 , Loss : 0.5787572860717773\n",
      "Epoch : 26, Iteration : 21 , Loss : 0.5780787467956543\n",
      "Epoch : 26, Iteration : 31 , Loss : 0.5816563367843628\n",
      "Epoch : 26, Iteration : 41 , Loss : 0.5727171897888184\n",
      "Epoch : 26, Iteration : 51 , Loss : 0.5817877650260925\n"
     ]
    },
    {
     "name": "stderr",
     "output_type": "stream",
     "text": [
      "INFO:root:Evaluating accuracy on dev set\n"
     ]
    },
    {
     "name": "stdout",
     "output_type": "stream",
     "text": [
      "Epoch : 26, Iteration : 61 , Loss : 0.5771797895431519\n",
      "Epoch : 26 , Loss : 0.5768885629764502\n"
     ]
    },
    {
     "name": "stderr",
     "output_type": "stream",
     "text": [
      "INFO:root:Train loss: 0.5768885629764502 - acc: 0.8012648794351417 -- Validation loss: 0.5891719460487366 - acc: 0.5684370036629399\n",
      " 87%|████████▋ | 26/30 [00:43<00:06,  1.68s/it]"
     ]
    },
    {
     "name": "stdout",
     "output_type": "stream",
     "text": [
      "Epoch : 26, Validation Iteration : 1 , Loss : 0.5909823775291443\n",
      "Epoch : 26, Validation Loss : 0.5891719460487366\n",
      "Epoch : 27, Iteration : 1 , Loss : 0.5720945000648499\n",
      "Epoch : 27, Iteration : 11 , Loss : 0.5790526270866394\n",
      "Epoch : 27, Iteration : 21 , Loss : 0.578033983707428\n",
      "Epoch : 27, Iteration : 31 , Loss : 0.5818498730659485\n",
      "Epoch : 27, Iteration : 41 , Loss : 0.5731770396232605\n",
      "Epoch : 27, Iteration : 51 , Loss : 0.5818856358528137\n"
     ]
    },
    {
     "name": "stderr",
     "output_type": "stream",
     "text": [
      "INFO:root:Evaluating accuracy on dev set\n"
     ]
    },
    {
     "name": "stdout",
     "output_type": "stream",
     "text": [
      "Epoch : 27, Iteration : 61 , Loss : 0.576900839805603\n",
      "Epoch : 27 , Loss : 0.5769109043522157\n"
     ]
    },
    {
     "name": "stderr",
     "output_type": "stream",
     "text": [
      "INFO:root:Train loss: 0.5769109043522157 - acc: 0.8010827514575589 -- Validation loss: 0.5890763742583138 - acc: 0.5736333075705858\n",
      " 90%|█████████ | 27/30 [00:45<00:05,  1.68s/it]"
     ]
    },
    {
     "name": "stdout",
     "output_type": "stream",
     "text": [
      "Epoch : 27, Validation Iteration : 1 , Loss : 0.5900853276252747\n",
      "Epoch : 27, Validation Loss : 0.5890763742583138\n",
      "Epoch : 28, Iteration : 1 , Loss : 0.5714218616485596\n",
      "Epoch : 28, Iteration : 11 , Loss : 0.5789545774459839\n",
      "Epoch : 28, Iteration : 21 , Loss : 0.5780497789382935\n",
      "Epoch : 28, Iteration : 31 , Loss : 0.5814411044120789\n",
      "Epoch : 28, Iteration : 41 , Loss : 0.572825014591217\n",
      "Epoch : 28, Iteration : 51 , Loss : 0.5822641849517822\n"
     ]
    },
    {
     "name": "stderr",
     "output_type": "stream",
     "text": [
      "INFO:root:Evaluating accuracy on dev set\n"
     ]
    },
    {
     "name": "stdout",
     "output_type": "stream",
     "text": [
      "Epoch : 28, Iteration : 61 , Loss : 0.5769703388214111\n",
      "Epoch : 28 , Loss : 0.5769607977590699\n"
     ]
    },
    {
     "name": "stderr",
     "output_type": "stream",
     "text": [
      "INFO:root:Train loss: 0.5769607977590699 - acc: 0.8005917047651211 -- Validation loss: 0.5891635758536202 - acc: 0.5698951491432388\n",
      " 93%|█████████▎| 28/30 [00:47<00:03,  1.68s/it]"
     ]
    },
    {
     "name": "stdout",
     "output_type": "stream",
     "text": [
      "Epoch : 28, Validation Iteration : 1 , Loss : 0.5908787250518799\n",
      "Epoch : 28, Validation Loss : 0.5891635758536202\n",
      "Epoch : 29, Iteration : 1 , Loss : 0.5717443227767944\n",
      "Epoch : 29, Iteration : 11 , Loss : 0.5796216726303101\n",
      "Epoch : 29, Iteration : 21 , Loss : 0.5775894522666931\n",
      "Epoch : 29, Iteration : 31 , Loss : 0.5820614099502563\n",
      "Epoch : 29, Iteration : 41 , Loss : 0.5730177760124207\n",
      "Epoch : 29, Iteration : 51 , Loss : 0.5810669660568237\n"
     ]
    },
    {
     "name": "stderr",
     "output_type": "stream",
     "text": [
      "INFO:root:Evaluating accuracy on dev set\n"
     ]
    },
    {
     "name": "stdout",
     "output_type": "stream",
     "text": [
      "Epoch : 29, Iteration : 61 , Loss : 0.577471137046814\n",
      "Epoch : 29 , Loss : 0.5768868715866752\n"
     ]
    },
    {
     "name": "stderr",
     "output_type": "stream",
     "text": [
      "INFO:root:Train loss: 0.5768868715866752 - acc: 0.801688191691614 -- Validation loss: 0.5890762635639736 - acc: 0.5754149797067694\n",
      " 97%|█████████▋| 29/30 [00:48<00:01,  1.68s/it]"
     ]
    },
    {
     "name": "stdout",
     "output_type": "stream",
     "text": [
      "Epoch : 29, Validation Iteration : 1 , Loss : 0.591332733631134\n",
      "Epoch : 29, Validation Loss : 0.5890762635639736\n",
      "Epoch : 30, Iteration : 1 , Loss : 0.5716848373413086\n",
      "Epoch : 30, Iteration : 11 , Loss : 0.5796461701393127\n",
      "Epoch : 30, Iteration : 21 , Loss : 0.5777620077133179\n",
      "Epoch : 30, Iteration : 31 , Loss : 0.5819768905639648\n",
      "Epoch : 30, Iteration : 41 , Loss : 0.5729093551635742\n",
      "Epoch : 30, Iteration : 51 , Loss : 0.5808859467506409\n"
     ]
    },
    {
     "name": "stderr",
     "output_type": "stream",
     "text": [
      "INFO:root:Evaluating accuracy on dev set\n"
     ]
    },
    {
     "name": "stdout",
     "output_type": "stream",
     "text": [
      "Epoch : 30, Iteration : 61 , Loss : 0.5767926573753357\n",
      "Epoch : 30 , Loss : 0.5767614452735238\n",
      "Epoch : 30, Validation Iteration : 1 , Loss : 0.5913598537445068\n"
     ]
    },
    {
     "name": "stderr",
     "output_type": "stream",
     "text": [
      "INFO:root:Train loss: 0.5767614452735238 - acc: 0.802426198364376 -- Validation loss: 0.5897451894623893 - acc: 0.5681646094781134\n",
      "100%|██████████| 30/30 [00:50<00:00,  1.69s/it]\n"
     ]
    },
    {
     "name": "stdout",
     "output_type": "stream",
     "text": [
      "Epoch : 30, Validation Loss : 0.5897451894623893\n"
     ]
    },
    {
     "name": "stderr",
     "output_type": "stream",
     "text": [
      "\r",
      "  0%|          | 0/30 [00:00<?, ?it/s]"
     ]
    },
    {
     "name": "stdout",
     "output_type": "stream",
     "text": [
      "Epoch : 1, Iteration : 1 , Loss : 1.1242378950119019\n",
      "Epoch : 1, Iteration : 11 , Loss : 1.1429634094238281\n",
      "Epoch : 1, Iteration : 21 , Loss : 1.1197073459625244\n",
      "Epoch : 1, Iteration : 31 , Loss : 1.13446044921875\n",
      "Epoch : 1, Iteration : 41 , Loss : 1.1524893045425415\n",
      "Epoch : 1, Iteration : 51 , Loss : 1.1329110860824585\n"
     ]
    },
    {
     "name": "stderr",
     "output_type": "stream",
     "text": [
      "INFO:root:Evaluating accuracy on dev set\n"
     ]
    },
    {
     "name": "stdout",
     "output_type": "stream",
     "text": [
      "Epoch : 1, Iteration : 61 , Loss : 1.1234983205795288\n",
      "Epoch : 1 , Loss : 1.1329819482305776\n"
     ]
    },
    {
     "name": "stderr",
     "output_type": "stream",
     "text": [
      "INFO:root:new model saved\n",
      "INFO:root:Train loss: 1.1329819482305776 - acc: 0.4583524740025119 -- Validation loss: 1.1246542760304041 - acc: 0.5278439120285616\n",
      "  3%|▎         | 1/30 [00:01<00:49,  1.71s/it]"
     ]
    },
    {
     "name": "stdout",
     "output_type": "stream",
     "text": [
      "Epoch : 1, Validation Iteration : 1 , Loss : 1.1192660331726074\n",
      "Epoch : 1, Validation Loss : 1.1246542760304041\n",
      "Epoch : 2, Iteration : 1 , Loss : 1.1144230365753174\n",
      "Epoch : 2, Iteration : 11 , Loss : 1.1301219463348389\n",
      "Epoch : 2, Iteration : 21 , Loss : 1.1163897514343262\n",
      "Epoch : 2, Iteration : 31 , Loss : 1.1288530826568604\n",
      "Epoch : 2, Iteration : 41 , Loss : 1.1442756652832031\n",
      "Epoch : 2, Iteration : 51 , Loss : 1.1239231824874878\n"
     ]
    },
    {
     "name": "stderr",
     "output_type": "stream",
     "text": [
      "INFO:root:Evaluating accuracy on dev set\n"
     ]
    },
    {
     "name": "stdout",
     "output_type": "stream",
     "text": [
      "Epoch : 2, Iteration : 61 , Loss : 1.1204332113265991\n",
      "Epoch : 2 , Loss : 1.1261875888575679\n"
     ]
    },
    {
     "name": "stderr",
     "output_type": "stream",
     "text": [
      "INFO:root:new model saved\n",
      "INFO:root:Train loss: 1.1261875888575679 - acc: 0.5384441882034448 -- Validation loss: 1.1223315511431013 - acc: 0.5449409639384474\n",
      "  7%|▋         | 2/30 [00:03<00:47,  1.71s/it]"
     ]
    },
    {
     "name": "stdout",
     "output_type": "stream",
     "text": [
      "Epoch : 2, Validation Iteration : 1 , Loss : 1.1174159049987793\n",
      "Epoch : 2, Validation Loss : 1.1223315511431013\n",
      "Epoch : 3, Iteration : 1 , Loss : 1.1129796504974365\n",
      "Epoch : 3, Iteration : 11 , Loss : 1.1257094144821167\n",
      "Epoch : 3, Iteration : 21 , Loss : 1.115774393081665\n",
      "Epoch : 3, Iteration : 31 , Loss : 1.1248704195022583\n",
      "Epoch : 3, Iteration : 41 , Loss : 1.138243317604065\n",
      "Epoch : 3, Iteration : 51 , Loss : 1.1209285259246826\n"
     ]
    },
    {
     "name": "stderr",
     "output_type": "stream",
     "text": [
      "INFO:root:Evaluating accuracy on dev set\n"
     ]
    },
    {
     "name": "stdout",
     "output_type": "stream",
     "text": [
      "Epoch : 3, Iteration : 61 , Loss : 1.1174383163452148\n",
      "Epoch : 3 , Loss : 1.1227194018985913\n"
     ]
    },
    {
     "name": "stderr",
     "output_type": "stream",
     "text": [
      "INFO:root:new model saved\n",
      "INFO:root:Train loss: 1.1227194018985913 - acc: 0.5788860258939168 -- Validation loss: 1.1210809775761195 - acc: 0.5560311551907036\n",
      " 10%|█         | 3/30 [00:05<00:46,  1.71s/it]"
     ]
    },
    {
     "name": "stdout",
     "output_type": "stream",
     "text": [
      "Epoch : 3, Validation Iteration : 1 , Loss : 1.116363763809204\n",
      "Epoch : 3, Validation Loss : 1.1210809775761195\n",
      "Epoch : 4, Iteration : 1 , Loss : 1.111541748046875\n",
      "Epoch : 4, Iteration : 11 , Loss : 1.1236722469329834\n",
      "Epoch : 4, Iteration : 21 , Loss : 1.1153943538665771\n",
      "Epoch : 4, Iteration : 31 , Loss : 1.1230958700180054\n",
      "Epoch : 4, Iteration : 41 , Loss : 1.1333441734313965\n",
      "Epoch : 4, Iteration : 51 , Loss : 1.1191246509552002\n"
     ]
    },
    {
     "name": "stderr",
     "output_type": "stream",
     "text": [
      "INFO:root:Evaluating accuracy on dev set\n"
     ]
    },
    {
     "name": "stdout",
     "output_type": "stream",
     "text": [
      "Epoch : 4, Iteration : 61 , Loss : 1.115444540977478\n",
      "Epoch : 4 , Loss : 1.1203754155532173\n"
     ]
    },
    {
     "name": "stderr",
     "output_type": "stream",
     "text": [
      "INFO:root:new model saved\n",
      "INFO:root:Train loss: 1.1203754155532173 - acc: 0.6065331586881084 -- Validation loss: 1.1202506678445 - acc: 0.5606504117613529\n",
      " 13%|█▎        | 4/30 [00:06<00:45,  1.74s/it]"
     ]
    },
    {
     "name": "stdout",
     "output_type": "stream",
     "text": [
      "Epoch : 4, Validation Iteration : 1 , Loss : 1.1157772541046143\n",
      "Epoch : 4, Validation Loss : 1.1202506678445\n",
      "Epoch : 5, Iteration : 1 , Loss : 1.1104516983032227\n",
      "Epoch : 5, Iteration : 11 , Loss : 1.1220653057098389\n",
      "Epoch : 5, Iteration : 21 , Loss : 1.1150542497634888\n",
      "Epoch : 5, Iteration : 31 , Loss : 1.121896505355835\n",
      "Epoch : 5, Iteration : 41 , Loss : 1.129728078842163\n",
      "Epoch : 5, Iteration : 51 , Loss : 1.1176108121871948\n"
     ]
    },
    {
     "name": "stderr",
     "output_type": "stream",
     "text": [
      "INFO:root:Evaluating accuracy on dev set\n"
     ]
    },
    {
     "name": "stdout",
     "output_type": "stream",
     "text": [
      "Epoch : 5, Iteration : 61 , Loss : 1.1139607429504395\n",
      "Epoch : 5 , Loss : 1.1185440222422283\n"
     ]
    },
    {
     "name": "stderr",
     "output_type": "stream",
     "text": [
      "INFO:root:new model saved\n",
      "INFO:root:Train loss: 1.1185440222422283 - acc: 0.6277549211301974 -- Validation loss: 1.1195590496063232 - acc: 0.5660294272475186\n",
      " 17%|█▋        | 5/30 [00:08<00:43,  1.73s/it]"
     ]
    },
    {
     "name": "stdout",
     "output_type": "stream",
     "text": [
      "Epoch : 5, Validation Iteration : 1 , Loss : 1.1153028011322021\n",
      "Epoch : 5, Validation Loss : 1.1195590496063232\n",
      "Epoch : 6, Iteration : 1 , Loss : 1.1094353199005127\n",
      "Epoch : 6, Iteration : 11 , Loss : 1.1206623315811157\n",
      "Epoch : 6, Iteration : 21 , Loss : 1.1147420406341553\n",
      "Epoch : 6, Iteration : 31 , Loss : 1.1208317279815674\n",
      "Epoch : 6, Iteration : 41 , Loss : 1.126647710800171\n",
      "Epoch : 6, Iteration : 51 , Loss : 1.1164456605911255\n"
     ]
    },
    {
     "name": "stderr",
     "output_type": "stream",
     "text": [
      "INFO:root:Evaluating accuracy on dev set\n"
     ]
    },
    {
     "name": "stdout",
     "output_type": "stream",
     "text": [
      "Epoch : 6, Iteration : 61 , Loss : 1.1128178834915161\n",
      "Epoch : 6 , Loss : 1.117046858953393\n"
     ]
    },
    {
     "name": "stderr",
     "output_type": "stream",
     "text": [
      "INFO:root:new model saved\n",
      "INFO:root:Train loss: 1.117046858953393 - acc: 0.6452686986136532 -- Validation loss: 1.118997403553554 - acc: 0.5693704389690275\n",
      " 20%|██        | 6/30 [00:10<00:41,  1.73s/it]"
     ]
    },
    {
     "name": "stdout",
     "output_type": "stream",
     "text": [
      "Epoch : 6, Validation Iteration : 1 , Loss : 1.1149145364761353\n",
      "Epoch : 6, Validation Loss : 1.118997403553554\n",
      "Epoch : 7, Iteration : 1 , Loss : 1.10869300365448\n",
      "Epoch : 7, Iteration : 11 , Loss : 1.1192231178283691\n",
      "Epoch : 7, Iteration : 21 , Loss : 1.11443293094635\n",
      "Epoch : 7, Iteration : 31 , Loss : 1.1200836896896362\n",
      "Epoch : 7, Iteration : 41 , Loss : 1.1240620613098145\n",
      "Epoch : 7, Iteration : 51 , Loss : 1.1153870820999146\n"
     ]
    },
    {
     "name": "stderr",
     "output_type": "stream",
     "text": [
      "INFO:root:Evaluating accuracy on dev set\n"
     ]
    },
    {
     "name": "stdout",
     "output_type": "stream",
     "text": [
      "Epoch : 7, Iteration : 61 , Loss : 1.1118321418762207\n",
      "Epoch : 7 , Loss : 1.115765324537305\n"
     ]
    },
    {
     "name": "stderr",
     "output_type": "stream",
     "text": [
      "INFO:root:new model saved\n",
      "INFO:root:Train loss: 1.115765324537305 - acc: 0.6603221418353932 -- Validation loss: 1.1185013736997331 - acc: 0.572285792947171\n",
      " 23%|██▎       | 7/30 [00:12<00:39,  1.73s/it]"
     ]
    },
    {
     "name": "stdout",
     "output_type": "stream",
     "text": [
      "Epoch : 7, Validation Iteration : 1 , Loss : 1.1145780086517334\n",
      "Epoch : 7, Validation Loss : 1.1185013736997331\n",
      "Epoch : 8, Iteration : 1 , Loss : 1.107933759689331\n",
      "Epoch : 8, Iteration : 11 , Loss : 1.1179394721984863\n",
      "Epoch : 8, Iteration : 21 , Loss : 1.1141562461853027\n",
      "Epoch : 8, Iteration : 31 , Loss : 1.1193145513534546\n",
      "Epoch : 8, Iteration : 41 , Loss : 1.1217854022979736\n",
      "Epoch : 8, Iteration : 51 , Loss : 1.1145074367523193\n"
     ]
    },
    {
     "name": "stderr",
     "output_type": "stream",
     "text": [
      "INFO:root:Evaluating accuracy on dev set\n"
     ]
    },
    {
     "name": "stdout",
     "output_type": "stream",
     "text": [
      "Epoch : 8, Iteration : 61 , Loss : 1.1110399961471558\n",
      "Epoch : 8 , Loss : 1.1146397158719492\n",
      "Epoch : 8, Validation Iteration : 1 , Loss : 1.1142634153366089\n"
     ]
    },
    {
     "name": "stderr",
     "output_type": "stream",
     "text": [
      "INFO:root:new model saved\n",
      "INFO:root:Train loss: 1.1146397158719492 - acc: 0.6736101968553267 -- Validation loss: 1.1180625813347953 - acc: 0.5763305454189136\n",
      " 27%|██▋       | 8/30 [00:13<00:38,  1.73s/it]"
     ]
    },
    {
     "name": "stdout",
     "output_type": "stream",
     "text": [
      "Epoch : 8, Validation Loss : 1.1180625813347953\n",
      "Epoch : 9, Iteration : 1 , Loss : 1.1072912216186523\n",
      "Epoch : 9, Iteration : 11 , Loss : 1.1167429685592651\n",
      "Epoch : 9, Iteration : 21 , Loss : 1.1138575077056885\n",
      "Epoch : 9, Iteration : 31 , Loss : 1.1186513900756836\n",
      "Epoch : 9, Iteration : 41 , Loss : 1.1196198463439941\n",
      "Epoch : 9, Iteration : 51 , Loss : 1.113785982131958\n"
     ]
    },
    {
     "name": "stderr",
     "output_type": "stream",
     "text": [
      "INFO:root:Evaluating accuracy on dev set\n"
     ]
    },
    {
     "name": "stdout",
     "output_type": "stream",
     "text": [
      "Epoch : 9, Iteration : 61 , Loss : 1.1104443073272705\n",
      "Epoch : 9 , Loss : 1.1136592782062034\n"
     ]
    },
    {
     "name": "stderr",
     "output_type": "stream",
     "text": [
      "INFO:root:new model saved\n",
      "INFO:root:Train loss: 1.1136592782062034 - acc: 0.6852511427911455 -- Validation loss: 1.1177144050598145 - acc: 0.5794795426646812\n",
      " 30%|███       | 9/30 [00:15<00:36,  1.73s/it]"
     ]
    },
    {
     "name": "stdout",
     "output_type": "stream",
     "text": [
      "Epoch : 9, Validation Iteration : 1 , Loss : 1.1139857769012451\n",
      "Epoch : 9, Validation Loss : 1.1177144050598145\n",
      "Epoch : 10, Iteration : 1 , Loss : 1.106572151184082\n",
      "Epoch : 10, Iteration : 11 , Loss : 1.1156861782073975\n",
      "Epoch : 10, Iteration : 21 , Loss : 1.1135203838348389\n",
      "Epoch : 10, Iteration : 31 , Loss : 1.1179949045181274\n",
      "Epoch : 10, Iteration : 41 , Loss : 1.1176581382751465\n",
      "Epoch : 10, Iteration : 51 , Loss : 1.113102674484253\n"
     ]
    },
    {
     "name": "stderr",
     "output_type": "stream",
     "text": [
      "INFO:root:Evaluating accuracy on dev set\n"
     ]
    },
    {
     "name": "stdout",
     "output_type": "stream",
     "text": [
      "Epoch : 10, Iteration : 61 , Loss : 1.1099590063095093\n",
      "Epoch : 10 , Loss : 1.112791114959164\n"
     ]
    },
    {
     "name": "stderr",
     "output_type": "stream",
     "text": [
      "INFO:root:new model saved\n",
      "INFO:root:Train loss: 1.112791114959164 - acc: 0.695911318305409 -- Validation loss: 1.1173764978136336 - acc: 0.5841022125285557\n",
      " 33%|███▎      | 10/30 [00:17<00:34,  1.73s/it]"
     ]
    },
    {
     "name": "stdout",
     "output_type": "stream",
     "text": [
      "Epoch : 10, Validation Iteration : 1 , Loss : 1.1137449741363525\n",
      "Epoch : 10, Validation Loss : 1.1173764978136336\n",
      "Epoch : 11, Iteration : 1 , Loss : 1.1059149503707886\n",
      "Epoch : 11, Iteration : 11 , Loss : 1.114736795425415\n",
      "Epoch : 11, Iteration : 21 , Loss : 1.1132137775421143\n",
      "Epoch : 11, Iteration : 31 , Loss : 1.1173617839813232\n",
      "Epoch : 11, Iteration : 41 , Loss : 1.1158844232559204\n",
      "Epoch : 11, Iteration : 51 , Loss : 1.1125715970993042\n"
     ]
    },
    {
     "name": "stderr",
     "output_type": "stream",
     "text": [
      "INFO:root:Evaluating accuracy on dev set\n"
     ]
    },
    {
     "name": "stdout",
     "output_type": "stream",
     "text": [
      "Epoch : 11, Iteration : 61 , Loss : 1.1094844341278076\n",
      "Epoch : 11 , Loss : 1.112014851708343\n"
     ]
    },
    {
     "name": "stderr",
     "output_type": "stream",
     "text": [
      "INFO:root:new model saved\n",
      "INFO:root:Train loss: 1.112014851708343 - acc: 0.7054472607316595 -- Validation loss: 1.1171091794967651 - acc: 0.586704882076353\n",
      " 37%|███▋      | 11/30 [00:19<00:32,  1.74s/it]"
     ]
    },
    {
     "name": "stdout",
     "output_type": "stream",
     "text": [
      "Epoch : 11, Validation Iteration : 1 , Loss : 1.1134757995605469\n",
      "Epoch : 11, Validation Loss : 1.1171091794967651\n",
      "Epoch : 12, Iteration : 1 , Loss : 1.10533607006073\n",
      "Epoch : 12, Iteration : 11 , Loss : 1.1138873100280762\n",
      "Epoch : 12, Iteration : 21 , Loss : 1.1129411458969116\n",
      "Epoch : 12, Iteration : 31 , Loss : 1.1167607307434082\n",
      "Epoch : 12, Iteration : 41 , Loss : 1.1144189834594727\n",
      "Epoch : 12, Iteration : 51 , Loss : 1.112112045288086\n"
     ]
    },
    {
     "name": "stderr",
     "output_type": "stream",
     "text": [
      "INFO:root:Evaluating accuracy on dev set\n"
     ]
    },
    {
     "name": "stdout",
     "output_type": "stream",
     "text": [
      "Epoch : 12, Iteration : 61 , Loss : 1.1090679168701172\n",
      "Epoch : 12 , Loss : 1.1113140133843906\n"
     ]
    },
    {
     "name": "stderr",
     "output_type": "stream",
     "text": [
      "INFO:root:new model saved\n",
      "INFO:root:Train loss: 1.1113140133843906 - acc: 0.7142402319149275 -- Validation loss: 1.1168735708509172 - acc: 0.5892971778898385\n",
      " 40%|████      | 12/30 [00:20<00:31,  1.73s/it]"
     ]
    },
    {
     "name": "stdout",
     "output_type": "stream",
     "text": [
      "Epoch : 12, Validation Iteration : 1 , Loss : 1.113227128982544\n",
      "Epoch : 12, Validation Loss : 1.1168735708509172\n",
      "Epoch : 13, Iteration : 1 , Loss : 1.1047933101654053\n",
      "Epoch : 13, Iteration : 11 , Loss : 1.1131596565246582\n",
      "Epoch : 13, Iteration : 21 , Loss : 1.1125900745391846\n",
      "Epoch : 13, Iteration : 31 , Loss : 1.1160919666290283\n",
      "Epoch : 13, Iteration : 41 , Loss : 1.1130696535110474\n",
      "Epoch : 13, Iteration : 51 , Loss : 1.1117032766342163\n"
     ]
    },
    {
     "name": "stderr",
     "output_type": "stream",
     "text": [
      "INFO:root:Evaluating accuracy on dev set\n"
     ]
    },
    {
     "name": "stdout",
     "output_type": "stream",
     "text": [
      "Epoch : 13, Iteration : 61 , Loss : 1.1087465286254883\n",
      "Epoch : 13 , Loss : 1.1106880730476931\n",
      "Epoch : 13, Validation Iteration : 1 , Loss : 1.1129661798477173\n"
     ]
    },
    {
     "name": "stderr",
     "output_type": "stream",
     "text": [
      "INFO:root:new model saved\n",
      "INFO:root:Train loss: 1.1106880730476931 - acc: 0.7221159857282178 -- Validation loss: 1.1166882855551583 - acc: 0.5910802554997031\n",
      " 43%|████▎     | 13/30 [00:22<00:29,  1.72s/it]"
     ]
    },
    {
     "name": "stdout",
     "output_type": "stream",
     "text": [
      "Epoch : 13, Validation Loss : 1.1166882855551583\n",
      "Epoch : 14, Iteration : 1 , Loss : 1.1042927503585815\n",
      "Epoch : 14, Iteration : 11 , Loss : 1.1124709844589233\n",
      "Epoch : 14, Iteration : 21 , Loss : 1.1122334003448486\n",
      "Epoch : 14, Iteration : 31 , Loss : 1.1155222654342651\n",
      "Epoch : 14, Iteration : 41 , Loss : 1.1118860244750977\n",
      "Epoch : 14, Iteration : 51 , Loss : 1.1113815307617188\n"
     ]
    },
    {
     "name": "stderr",
     "output_type": "stream",
     "text": [
      "INFO:root:Evaluating accuracy on dev set\n"
     ]
    },
    {
     "name": "stdout",
     "output_type": "stream",
     "text": [
      "Epoch : 14, Iteration : 61 , Loss : 1.1083585023880005\n",
      "Epoch : 14 , Loss : 1.1101130817247473\n",
      "Epoch : 14, Validation Iteration : 1 , Loss : 1.1128253936767578\n"
     ]
    },
    {
     "name": "stderr",
     "output_type": "stream",
     "text": [
      "INFO:root:new model saved\n",
      "INFO:root:Train loss: 1.1101130817247473 - acc: 0.7292825882815395 -- Validation loss: 1.1165228060313634 - acc: 0.59399045607435\n",
      " 47%|████▋     | 14/30 [00:24<00:27,  1.72s/it]"
     ]
    },
    {
     "name": "stdout",
     "output_type": "stream",
     "text": [
      "Epoch : 14, Validation Loss : 1.1165228060313634\n",
      "Epoch : 15, Iteration : 1 , Loss : 1.1038322448730469\n",
      "Epoch : 15, Iteration : 11 , Loss : 1.1118168830871582\n",
      "Epoch : 15, Iteration : 21 , Loss : 1.1118543148040771\n",
      "Epoch : 15, Iteration : 31 , Loss : 1.1149258613586426\n",
      "Epoch : 15, Iteration : 41 , Loss : 1.1108119487762451\n",
      "Epoch : 15, Iteration : 51 , Loss : 1.1111574172973633\n"
     ]
    },
    {
     "name": "stderr",
     "output_type": "stream",
     "text": [
      "INFO:root:Evaluating accuracy on dev set\n"
     ]
    },
    {
     "name": "stdout",
     "output_type": "stream",
     "text": [
      "Epoch : 15, Iteration : 61 , Loss : 1.1080541610717773\n",
      "Epoch : 15 , Loss : 1.1095734903777854\n"
     ]
    },
    {
     "name": "stderr",
     "output_type": "stream",
     "text": [
      "INFO:root:new model saved\n",
      "INFO:root:Train loss: 1.1095734903777854 - acc: 0.735713712845411 -- Validation loss: 1.116348147392273 - acc: 0.5946634102582397\n",
      " 50%|█████     | 15/30 [00:25<00:25,  1.72s/it]"
     ]
    },
    {
     "name": "stdout",
     "output_type": "stream",
     "text": [
      "Epoch : 15, Validation Iteration : 1 , Loss : 1.1126739978790283\n",
      "Epoch : 15, Validation Loss : 1.116348147392273\n",
      "Epoch : 16, Iteration : 1 , Loss : 1.1033928394317627\n",
      "Epoch : 16, Iteration : 11 , Loss : 1.111189603805542\n",
      "Epoch : 16, Iteration : 21 , Loss : 1.1114147901535034\n",
      "Epoch : 16, Iteration : 31 , Loss : 1.1143531799316406\n",
      "Epoch : 16, Iteration : 41 , Loss : 1.109814167022705\n",
      "Epoch : 16, Iteration : 51 , Loss : 1.1107929944992065\n"
     ]
    },
    {
     "name": "stderr",
     "output_type": "stream",
     "text": [
      "INFO:root:Evaluating accuracy on dev set\n"
     ]
    },
    {
     "name": "stdout",
     "output_type": "stream",
     "text": [
      "Epoch : 16, Iteration : 61 , Loss : 1.1076576709747314\n",
      "Epoch : 16 , Loss : 1.1090040759763855\n",
      "Epoch : 16, Validation Iteration : 1 , Loss : 1.112468957901001\n"
     ]
    },
    {
     "name": "stderr",
     "output_type": "stream",
     "text": [
      "INFO:root:new model saved\n",
      "INFO:root:Train loss: 1.1090040759763855 - acc: 0.7417501777508908 -- Validation loss: 1.1160774741853987 - acc: 0.5964138942641704\n",
      " 53%|█████▎    | 16/30 [00:27<00:24,  1.72s/it]"
     ]
    },
    {
     "name": "stdout",
     "output_type": "stream",
     "text": [
      "Epoch : 16, Validation Loss : 1.1160774741853987\n",
      "Epoch : 17, Iteration : 1 , Loss : 1.10285222530365\n",
      "Epoch : 17, Iteration : 11 , Loss : 1.1104981899261475\n",
      "Epoch : 17, Iteration : 21 , Loss : 1.1108088493347168\n",
      "Epoch : 17, Iteration : 31 , Loss : 1.1135239601135254\n",
      "Epoch : 17, Iteration : 41 , Loss : 1.108565330505371\n",
      "Epoch : 17, Iteration : 51 , Loss : 1.1101102828979492\n"
     ]
    },
    {
     "name": "stderr",
     "output_type": "stream",
     "text": [
      "INFO:root:Evaluating accuracy on dev set\n"
     ]
    },
    {
     "name": "stdout",
     "output_type": "stream",
     "text": [
      "Epoch : 17, Iteration : 61 , Loss : 1.1065183877944946\n",
      "Epoch : 17 , Loss : 1.1081122712812561\n"
     ]
    },
    {
     "name": "stderr",
     "output_type": "stream",
     "text": [
      "INFO:root:new model saved\n",
      "INFO:root:Train loss: 1.1081122712812561 - acc: 0.7470593354663037 -- Validation loss: 1.1149753502437048 - acc: 0.5969224749547102\n",
      " 57%|█████▋    | 17/30 [00:29<00:22,  1.72s/it]"
     ]
    },
    {
     "name": "stdout",
     "output_type": "stream",
     "text": [
      "Epoch : 17, Validation Iteration : 1 , Loss : 1.1113592386245728\n",
      "Epoch : 17, Validation Loss : 1.1149753502437048\n",
      "Epoch : 18, Iteration : 1 , Loss : 1.1014132499694824\n",
      "Epoch : 18, Iteration : 11 , Loss : 1.1086957454681396\n",
      "Epoch : 18, Iteration : 21 , Loss : 1.1082091331481934\n",
      "Epoch : 18, Iteration : 31 , Loss : 1.109647274017334\n",
      "Epoch : 18, Iteration : 41 , Loss : 1.1018927097320557\n",
      "Epoch : 18, Iteration : 51 , Loss : 1.1006319522857666\n"
     ]
    },
    {
     "name": "stderr",
     "output_type": "stream",
     "text": [
      "INFO:root:Evaluating accuracy on dev set\n"
     ]
    },
    {
     "name": "stdout",
     "output_type": "stream",
     "text": [
      "Epoch : 18, Iteration : 61 , Loss : 1.0908349752426147\n",
      "Epoch : 18 , Loss : 1.1011766402617744\n"
     ]
    },
    {
     "name": "stderr",
     "output_type": "stream",
     "text": [
      "INFO:root:Train loss: 1.1011766402617744 - acc: 0.7467348850789014 -- Validation loss: 1.0961516414369856 - acc: 0.5831877845808197\n",
      " 60%|██████    | 18/30 [00:31<00:20,  1.71s/it]"
     ]
    },
    {
     "name": "stdout",
     "output_type": "stream",
     "text": [
      "Epoch : 18, Validation Iteration : 1 , Loss : 1.0918480157852173\n",
      "Epoch : 18, Validation Loss : 1.0961516414369856\n",
      "Epoch : 19, Iteration : 1 , Loss : 1.0830912590026855\n",
      "Epoch : 19, Iteration : 11 , Loss : 1.0884675979614258\n",
      "Epoch : 19, Iteration : 21 , Loss : 1.0845539569854736\n",
      "Epoch : 19, Iteration : 31 , Loss : 1.0857923030853271\n",
      "Epoch : 19, Iteration : 41 , Loss : 1.0792173147201538\n",
      "Epoch : 19, Iteration : 51 , Loss : 1.0813595056533813\n"
     ]
    },
    {
     "name": "stderr",
     "output_type": "stream",
     "text": [
      "INFO:root:Evaluating accuracy on dev set\n"
     ]
    },
    {
     "name": "stdout",
     "output_type": "stream",
     "text": [
      "Epoch : 19, Iteration : 61 , Loss : 1.0751750469207764\n",
      "Epoch : 19 , Loss : 1.080757120381231\n",
      "Epoch : 19, Validation Iteration : 1 , Loss : 1.0810108184814453\n"
     ]
    },
    {
     "name": "stderr",
     "output_type": "stream",
     "text": [
      "INFO:root:Train loss: 1.080757120381231 - acc: 0.7394055731460343 -- Validation loss: 1.0848343031747 - acc: 0.5887525903021399\n",
      " 63%|██████▎   | 19/30 [00:32<00:18,  1.71s/it]"
     ]
    },
    {
     "name": "stdout",
     "output_type": "stream",
     "text": [
      "Epoch : 19, Validation Loss : 1.0848343031747\n",
      "Epoch : 20, Iteration : 1 , Loss : 1.0702048540115356\n",
      "Epoch : 20, Iteration : 11 , Loss : 1.077412486076355\n",
      "Epoch : 20, Iteration : 21 , Loss : 1.075767993927002\n",
      "Epoch : 20, Iteration : 31 , Loss : 1.0772266387939453\n",
      "Epoch : 20, Iteration : 41 , Loss : 1.0699374675750732\n",
      "Epoch : 20, Iteration : 51 , Loss : 1.0729222297668457\n"
     ]
    },
    {
     "name": "stderr",
     "output_type": "stream",
     "text": [
      "INFO:root:Evaluating accuracy on dev set\n"
     ]
    },
    {
     "name": "stdout",
     "output_type": "stream",
     "text": [
      "Epoch : 20, Iteration : 61 , Loss : 1.0670924186706543\n",
      "Epoch : 20 , Loss : 1.0718556020570837\n"
     ]
    },
    {
     "name": "stderr",
     "output_type": "stream",
     "text": [
      "INFO:root:Train loss: 1.0718556020570837 - acc: 0.7524402907948012 -- Validation loss: 1.0756221498761858 - acc: 0.5959931891423473\n",
      " 67%|██████▋   | 20/30 [00:34<00:16,  1.70s/it]"
     ]
    },
    {
     "name": "stdout",
     "output_type": "stream",
     "text": [
      "Epoch : 20, Validation Iteration : 1 , Loss : 1.0717382431030273\n",
      "Epoch : 20, Validation Loss : 1.0756221498761858\n",
      "Epoch : 21, Iteration : 1 , Loss : 1.0611052513122559\n",
      "Epoch : 21, Iteration : 11 , Loss : 1.0670154094696045\n",
      "Epoch : 21, Iteration : 21 , Loss : 1.0654733180999756\n",
      "Epoch : 21, Iteration : 31 , Loss : 1.0664844512939453\n",
      "Epoch : 21, Iteration : 41 , Loss : 1.0582971572875977\n",
      "Epoch : 21, Iteration : 51 , Loss : 1.0609016418457031\n"
     ]
    },
    {
     "name": "stderr",
     "output_type": "stream",
     "text": [
      "INFO:root:Evaluating accuracy on dev set\n"
     ]
    },
    {
     "name": "stdout",
     "output_type": "stream",
     "text": [
      "Epoch : 21, Iteration : 61 , Loss : 1.0553406476974487\n",
      "Epoch : 21 , Loss : 1.0608869549156963\n"
     ]
    },
    {
     "name": "stderr",
     "output_type": "stream",
     "text": [
      "INFO:root:new model saved\n",
      "INFO:root:Train loss: 1.0608869549156963 - acc: 0.7577747027470649 -- Validation loss: 1.0634333746773856 - acc: 0.6043499348671624\n",
      " 70%|███████   | 21/30 [00:36<00:15,  1.71s/it]"
     ]
    },
    {
     "name": "stdout",
     "output_type": "stream",
     "text": [
      "Epoch : 21, Validation Iteration : 1 , Loss : 1.0593030452728271\n",
      "Epoch : 21, Validation Loss : 1.0634333746773856\n",
      "Epoch : 22, Iteration : 1 , Loss : 1.0488934516906738\n",
      "Epoch : 22, Iteration : 11 , Loss : 1.0552301406860352\n",
      "Epoch : 22, Iteration : 21 , Loss : 1.0539419651031494\n",
      "Epoch : 22, Iteration : 31 , Loss : 1.0558652877807617\n",
      "Epoch : 22, Iteration : 41 , Loss : 1.0474793910980225\n",
      "Epoch : 22, Iteration : 51 , Loss : 1.0502525568008423\n"
     ]
    },
    {
     "name": "stderr",
     "output_type": "stream",
     "text": [
      "INFO:root:Evaluating accuracy on dev set\n"
     ]
    },
    {
     "name": "stdout",
     "output_type": "stream",
     "text": [
      "Epoch : 22, Iteration : 61 , Loss : 1.045074701309204\n",
      "Epoch : 22 , Loss : 1.049882311751877\n"
     ]
    },
    {
     "name": "stderr",
     "output_type": "stream",
     "text": [
      "INFO:root:new model saved\n",
      "INFO:root:Train loss: 1.049882311751877 - acc: 0.7594326938581366 -- Validation loss: 1.0527822630746024 - acc: 0.6086761836389983\n",
      " 73%|███████▎  | 22/30 [00:37<00:13,  1.71s/it]"
     ]
    },
    {
     "name": "stdout",
     "output_type": "stream",
     "text": [
      "Epoch : 22, Validation Iteration : 1 , Loss : 1.0485589504241943\n",
      "Epoch : 22, Validation Loss : 1.0527822630746024\n",
      "Epoch : 23, Iteration : 1 , Loss : 1.0380377769470215\n",
      "Epoch : 23, Iteration : 11 , Loss : 1.0440776348114014\n",
      "Epoch : 23, Iteration : 21 , Loss : 1.0414831638336182\n",
      "Epoch : 23, Iteration : 31 , Loss : 1.0427789688110352\n",
      "Epoch : 23, Iteration : 41 , Loss : 1.0316994190216064\n",
      "Epoch : 23, Iteration : 51 , Loss : 1.0346097946166992\n"
     ]
    },
    {
     "name": "stderr",
     "output_type": "stream",
     "text": [
      "INFO:root:Evaluating accuracy on dev set\n"
     ]
    },
    {
     "name": "stdout",
     "output_type": "stream",
     "text": [
      "Epoch : 23, Iteration : 61 , Loss : 1.026930570602417\n",
      "Epoch : 23 , Loss : 1.0356298564136892\n"
     ]
    },
    {
     "name": "stderr",
     "output_type": "stream",
     "text": [
      "INFO:root:Train loss: 1.0356298564136892 - acc: 0.7565002857534059 -- Validation loss: 1.0324842929840088 - acc: 0.6052546583537681\n",
      " 77%|███████▋  | 23/30 [00:39<00:11,  1.70s/it]"
     ]
    },
    {
     "name": "stdout",
     "output_type": "stream",
     "text": [
      "Epoch : 23, Validation Iteration : 1 , Loss : 1.0295112133026123\n",
      "Epoch : 23, Validation Loss : 1.0324842929840088\n",
      "Epoch : 24, Iteration : 1 , Loss : 1.0178840160369873\n",
      "Epoch : 24, Iteration : 11 , Loss : 1.0221540927886963\n",
      "Epoch : 24, Iteration : 21 , Loss : 1.0176520347595215\n",
      "Epoch : 24, Iteration : 31 , Loss : 1.0179407596588135\n",
      "Epoch : 24, Iteration : 41 , Loss : 1.0052324533462524\n",
      "Epoch : 24, Iteration : 51 , Loss : 1.0080044269561768\n"
     ]
    },
    {
     "name": "stderr",
     "output_type": "stream",
     "text": [
      "INFO:root:Evaluating accuracy on dev set\n"
     ]
    },
    {
     "name": "stdout",
     "output_type": "stream",
     "text": [
      "Epoch : 24, Iteration : 61 , Loss : 0.9994009733200073\n",
      "Epoch : 24 , Loss : 1.010888864164767\n",
      "Epoch : 24, Validation Iteration : 1 , Loss : 1.0017718076705933\n"
     ]
    },
    {
     "name": "stderr",
     "output_type": "stream",
     "text": [
      "INFO:root:Train loss: 1.010888864164767 - acc: 0.750063773991429 -- Validation loss: 1.0042737211499895 - acc: 0.6015213186933273\n",
      " 80%|████████  | 24/30 [00:41<00:10,  1.68s/it]"
     ]
    },
    {
     "name": "stdout",
     "output_type": "stream",
     "text": [
      "Epoch : 24, Validation Loss : 1.0042737211499895\n",
      "Epoch : 25, Iteration : 1 , Loss : 0.9891972541809082\n",
      "Epoch : 25, Iteration : 11 , Loss : 0.9927160739898682\n",
      "Epoch : 25, Iteration : 21 , Loss : 0.9879835844039917\n",
      "Epoch : 25, Iteration : 31 , Loss : 0.9879644513130188\n",
      "Epoch : 25, Iteration : 41 , Loss : 0.9746898412704468\n",
      "Epoch : 25, Iteration : 51 , Loss : 0.9781211614608765\n"
     ]
    },
    {
     "name": "stderr",
     "output_type": "stream",
     "text": [
      "INFO:root:Evaluating accuracy on dev set\n"
     ]
    },
    {
     "name": "stdout",
     "output_type": "stream",
     "text": [
      "Epoch : 25, Iteration : 61 , Loss : 0.9687286019325256\n",
      "Epoch : 25 , Loss : 0.9809271304503732\n",
      "Epoch : 25, Validation Iteration : 1 , Loss : 0.9726498126983643\n"
     ]
    },
    {
     "name": "stderr",
     "output_type": "stream",
     "text": [
      "INFO:root:Train loss: 0.9809271304503732 - acc: 0.749461013503462 -- Validation loss: 0.9743158050945827 - acc: 0.5938220669419118\n",
      " 83%|████████▎ | 25/30 [00:42<00:08,  1.67s/it]"
     ]
    },
    {
     "name": "stdout",
     "output_type": "stream",
     "text": [
      "Epoch : 25, Validation Loss : 0.9743158050945827\n",
      "Epoch : 26, Iteration : 1 , Loss : 0.9582902193069458\n",
      "Epoch : 26, Iteration : 11 , Loss : 0.9613310098648071\n",
      "Epoch : 26, Iteration : 21 , Loss : 0.9570301175117493\n",
      "Epoch : 26, Iteration : 31 , Loss : 0.9558720588684082\n",
      "Epoch : 26, Iteration : 41 , Loss : 0.9420356750488281\n",
      "Epoch : 26, Iteration : 51 , Loss : 0.944894552230835\n"
     ]
    },
    {
     "name": "stderr",
     "output_type": "stream",
     "text": [
      "INFO:root:Evaluating accuracy on dev set\n"
     ]
    },
    {
     "name": "stdout",
     "output_type": "stream",
     "text": [
      "Epoch : 26, Iteration : 61 , Loss : 0.9359337091445923\n",
      "Epoch : 26 , Loss : 0.9490299648132877\n",
      "Epoch : 26, Validation Iteration : 1 , Loss : 0.939490795135498\n"
     ]
    },
    {
     "name": "stderr",
     "output_type": "stream",
     "text": [
      "INFO:root:Train loss: 0.9490299648132877 - acc: 0.751055427875402 -- Validation loss: 0.9417047245161874 - acc: 0.5852970659392949\n",
      " 87%|████████▋ | 26/30 [00:44<00:06,  1.67s/it]"
     ]
    },
    {
     "name": "stdout",
     "output_type": "stream",
     "text": [
      "Epoch : 26, Validation Loss : 0.9417047245161874\n",
      "Epoch : 27, Iteration : 1 , Loss : 0.9250525832176208\n",
      "Epoch : 27, Iteration : 11 , Loss : 0.9277483820915222\n",
      "Epoch : 27, Iteration : 21 , Loss : 0.9235413074493408\n",
      "Epoch : 27, Iteration : 31 , Loss : 0.9216533899307251\n",
      "Epoch : 27, Iteration : 41 , Loss : 0.907633364200592\n",
      "Epoch : 27, Iteration : 51 , Loss : 0.9104831218719482\n"
     ]
    },
    {
     "name": "stderr",
     "output_type": "stream",
     "text": [
      "INFO:root:Evaluating accuracy on dev set\n"
     ]
    },
    {
     "name": "stdout",
     "output_type": "stream",
     "text": [
      "Epoch : 27, Iteration : 61 , Loss : 0.9008522629737854\n",
      "Epoch : 27 , Loss : 0.9147470023321069\n",
      "Epoch : 27, Validation Iteration : 1 , Loss : 0.9050445556640625\n"
     ]
    },
    {
     "name": "stderr",
     "output_type": "stream",
     "text": [
      "INFO:root:Train loss: 0.9147470023321069 - acc: 0.7553985965148121 -- Validation loss: 0.9062539764813015 - acc: 0.5843516506432603\n",
      " 90%|█████████ | 27/30 [00:46<00:04,  1.67s/it]"
     ]
    },
    {
     "name": "stdout",
     "output_type": "stream",
     "text": [
      "Epoch : 27, Validation Loss : 0.9062539764813015\n",
      "Epoch : 28, Iteration : 1 , Loss : 0.8907898664474487\n",
      "Epoch : 28, Iteration : 11 , Loss : 0.8909234404563904\n",
      "Epoch : 28, Iteration : 21 , Loss : 0.8869569301605225\n",
      "Epoch : 28, Iteration : 31 , Loss : 0.883620023727417\n",
      "Epoch : 28, Iteration : 41 , Loss : 0.8681296706199646\n",
      "Epoch : 28, Iteration : 51 , Loss : 0.8701035976409912\n"
     ]
    },
    {
     "name": "stderr",
     "output_type": "stream",
     "text": [
      "INFO:root:Evaluating accuracy on dev set\n"
     ]
    },
    {
     "name": "stdout",
     "output_type": "stream",
     "text": [
      "Epoch : 28, Iteration : 61 , Loss : 0.8593368530273438\n",
      "Epoch : 28 , Loss : 0.8765778204669123\n",
      "Epoch : 28, Validation Iteration : 1 , Loss : 0.8626807928085327\n"
     ]
    },
    {
     "name": "stderr",
     "output_type": "stream",
     "text": [
      "INFO:root:Train loss: 0.8765778204669123 - acc: 0.7523072341462802 -- Validation loss: 0.8647553069250924 - acc: 0.5911881423365435\n",
      " 93%|█████████▎| 28/30 [00:47<00:03,  1.66s/it]"
     ]
    },
    {
     "name": "stdout",
     "output_type": "stream",
     "text": [
      "Epoch : 28, Validation Loss : 0.8647553069250924\n",
      "Epoch : 29, Iteration : 1 , Loss : 0.8491691946983337\n",
      "Epoch : 29, Iteration : 11 , Loss : 0.8482712507247925\n",
      "Epoch : 29, Iteration : 21 , Loss : 0.8425081968307495\n",
      "Epoch : 29, Iteration : 31 , Loss : 0.8400337100028992\n",
      "Epoch : 29, Iteration : 41 , Loss : 0.8246074318885803\n",
      "Epoch : 29, Iteration : 51 , Loss : 0.8266729116439819\n"
     ]
    },
    {
     "name": "stderr",
     "output_type": "stream",
     "text": [
      "INFO:root:Evaluating accuracy on dev set\n"
     ]
    },
    {
     "name": "stdout",
     "output_type": "stream",
     "text": [
      "Epoch : 29, Iteration : 61 , Loss : 0.816735029220581\n",
      "Epoch : 29 , Loss : 0.8335083956303804\n",
      "Epoch : 29, Validation Iteration : 1 , Loss : 0.8180360794067383\n"
     ]
    },
    {
     "name": "stderr",
     "output_type": "stream",
     "text": [
      "INFO:root:Train loss: 0.8335083956303804 - acc: 0.7538331196315478 -- Validation loss: 0.8198830144745963 - acc: 0.592703376819215\n",
      " 97%|█████████▋| 29/30 [00:49<00:01,  1.66s/it]"
     ]
    },
    {
     "name": "stdout",
     "output_type": "stream",
     "text": [
      "Epoch : 29, Validation Loss : 0.8198830144745963\n",
      "Epoch : 30, Iteration : 1 , Loss : 0.8042815923690796\n",
      "Epoch : 30, Iteration : 11 , Loss : 0.8060032725334167\n",
      "Epoch : 30, Iteration : 21 , Loss : 0.7993084192276001\n",
      "Epoch : 30, Iteration : 31 , Loss : 0.7966058254241943\n",
      "Epoch : 30, Iteration : 41 , Loss : 0.7813536524772644\n",
      "Epoch : 30, Iteration : 51 , Loss : 0.7847640514373779\n"
     ]
    },
    {
     "name": "stderr",
     "output_type": "stream",
     "text": [
      "INFO:root:Evaluating accuracy on dev set\n"
     ]
    },
    {
     "name": "stdout",
     "output_type": "stream",
     "text": [
      "Epoch : 30, Iteration : 61 , Loss : 0.7750794291496277\n",
      "Epoch : 30 , Loss : 0.7902639240458391\n",
      "Epoch : 30, Validation Iteration : 1 , Loss : 0.7785165309906006\n"
     ]
    },
    {
     "name": "stderr",
     "output_type": "stream",
     "text": [
      "INFO:root:Train loss: 0.7902639240458391 - acc: 0.7583526827418119 -- Validation loss: 0.7806445445333209 - acc: 0.5913818299952384\n",
      "100%|██████████| 30/30 [00:51<00:00,  1.70s/it]\n"
     ]
    },
    {
     "name": "stdout",
     "output_type": "stream",
     "text": [
      "Epoch : 30, Validation Loss : 0.7806445445333209\n"
     ]
    },
    {
     "name": "stderr",
     "output_type": "stream",
     "text": [
      "\r",
      "  0%|          | 0/30 [00:00<?, ?it/s]"
     ]
    },
    {
     "name": "stdout",
     "output_type": "stream",
     "text": [
      "Epoch : 1, Iteration : 1 , Loss : 1.1274352073669434\n",
      "Epoch : 1, Iteration : 11 , Loss : 1.1373789310455322\n",
      "Epoch : 1, Iteration : 21 , Loss : 1.1170134544372559\n",
      "Epoch : 1, Iteration : 31 , Loss : 1.1238088607788086\n",
      "Epoch : 1, Iteration : 41 , Loss : 1.1288381814956665\n",
      "Epoch : 1, Iteration : 51 , Loss : 1.1222999095916748\n"
     ]
    },
    {
     "name": "stderr",
     "output_type": "stream",
     "text": [
      "INFO:root:Evaluating accuracy on dev set\n"
     ]
    },
    {
     "name": "stdout",
     "output_type": "stream",
     "text": [
      "Epoch : 1, Iteration : 61 , Loss : 1.1204352378845215\n",
      "Epoch : 1 , Loss : 1.133031888284545\n",
      "Epoch : 1, Validation Iteration : 1 , Loss : 1.1203515529632568\n"
     ]
    },
    {
     "name": "stderr",
     "output_type": "stream",
     "text": [
      "INFO:root:new model saved\n",
      "INFO:root:Train loss: 1.133031888284545 - acc: 0.47296422260087617 -- Validation loss: 1.125341534614563 - acc: 0.5237501687599412\n",
      "  3%|▎         | 1/30 [00:01<00:48,  1.68s/it]"
     ]
    },
    {
     "name": "stdout",
     "output_type": "stream",
     "text": [
      "Epoch : 1, Validation Loss : 1.125341534614563\n",
      "Epoch : 2, Iteration : 1 , Loss : 1.1157376766204834\n",
      "Epoch : 2, Iteration : 11 , Loss : 1.1276090145111084\n",
      "Epoch : 2, Iteration : 21 , Loss : 1.120600700378418\n",
      "Epoch : 2, Iteration : 31 , Loss : 1.132971167564392\n",
      "Epoch : 2, Iteration : 41 , Loss : 1.117579460144043\n",
      "Epoch : 2, Iteration : 51 , Loss : 1.0914103984832764\n"
     ]
    },
    {
     "name": "stderr",
     "output_type": "stream",
     "text": [
      "INFO:root:Evaluating accuracy on dev set\n"
     ]
    },
    {
     "name": "stdout",
     "output_type": "stream",
     "text": [
      "Epoch : 2, Iteration : 61 , Loss : 1.0840293169021606\n",
      "Epoch : 2 , Loss : 1.111946727918542\n",
      "Epoch : 2, Validation Iteration : 1 , Loss : 1.086411476135254\n"
     ]
    },
    {
     "name": "stderr",
     "output_type": "stream",
     "text": [
      "INFO:root:new model saved\n",
      "INFO:root:Train loss: 1.111946727918542 - acc: 0.5672503005662874 -- Validation loss: 1.0911640780312675 - acc: 0.5539372671154004\n",
      "  7%|▋         | 2/30 [00:03<00:47,  1.68s/it]"
     ]
    },
    {
     "name": "stdout",
     "output_type": "stream",
     "text": [
      "Epoch : 2, Validation Loss : 1.0911640780312675\n",
      "Epoch : 3, Iteration : 1 , Loss : 1.0847007036209106\n",
      "Epoch : 3, Iteration : 11 , Loss : 1.0893597602844238\n",
      "Epoch : 3, Iteration : 21 , Loss : 1.071183204650879\n",
      "Epoch : 3, Iteration : 31 , Loss : 1.067103624343872\n",
      "Epoch : 3, Iteration : 41 , Loss : 1.0570132732391357\n",
      "Epoch : 3, Iteration : 51 , Loss : 1.0554535388946533\n"
     ]
    },
    {
     "name": "stderr",
     "output_type": "stream",
     "text": [
      "INFO:root:Evaluating accuracy on dev set\n"
     ]
    },
    {
     "name": "stdout",
     "output_type": "stream",
     "text": [
      "Epoch : 3, Iteration : 61 , Loss : 1.0516616106033325\n",
      "Epoch : 3 , Loss : 1.0672992243283037\n"
     ]
    },
    {
     "name": "stderr",
     "output_type": "stream",
     "text": [
      "INFO:root:Train loss: 1.0672992243283037 - acc: 0.6071569569829331 -- Validation loss: 1.0578375373567854 - acc: 0.536927287646414\n",
      " 10%|█         | 3/30 [00:04<00:44,  1.66s/it]"
     ]
    },
    {
     "name": "stdout",
     "output_type": "stream",
     "text": [
      "Epoch : 3, Validation Iteration : 1 , Loss : 1.053555965423584\n",
      "Epoch : 3, Validation Loss : 1.0578375373567854\n",
      "Epoch : 4, Iteration : 1 , Loss : 1.0468651056289673\n",
      "Epoch : 4, Iteration : 11 , Loss : 1.0549697875976562\n",
      "Epoch : 4, Iteration : 21 , Loss : 1.03291916847229\n",
      "Epoch : 4, Iteration : 31 , Loss : 1.0010757446289062\n",
      "Epoch : 4, Iteration : 41 , Loss : 0.9211050271987915\n",
      "Epoch : 4, Iteration : 51 , Loss : 0.8544174432754517\n"
     ]
    },
    {
     "name": "stderr",
     "output_type": "stream",
     "text": [
      "INFO:root:Evaluating accuracy on dev set\n"
     ]
    },
    {
     "name": "stdout",
     "output_type": "stream",
     "text": [
      "Epoch : 4, Iteration : 61 , Loss : 0.8019324541091919\n",
      "Epoch : 4 , Loss : 0.942988181459731\n",
      "Epoch : 4, Validation Iteration : 1 , Loss : 0.9515794515609741\n"
     ]
    },
    {
     "name": "stderr",
     "output_type": "stream",
     "text": [
      "INFO:root:Train loss: 0.942988181459731 - acc: 0.6181700218924701 -- Validation loss: 0.9744680438722882 - acc: 0.4112517719904869\n",
      " 13%|█▎        | 4/30 [00:06<00:42,  1.65s/it]"
     ]
    },
    {
     "name": "stdout",
     "output_type": "stream",
     "text": [
      "Epoch : 4, Validation Loss : 0.9744680438722882\n",
      "Epoch : 5, Iteration : 1 , Loss : 0.9448895454406738\n",
      "Epoch : 5, Iteration : 11 , Loss : 0.827538251876831\n",
      "Epoch : 5, Iteration : 21 , Loss : 0.687334418296814\n",
      "Epoch : 5, Iteration : 31 , Loss : 0.6478527784347534\n",
      "Epoch : 5, Iteration : 41 , Loss : 0.6299201250076294\n",
      "Epoch : 5, Iteration : 51 , Loss : 0.6302164793014526\n"
     ]
    },
    {
     "name": "stderr",
     "output_type": "stream",
     "text": [
      "INFO:root:Evaluating accuracy on dev set\n"
     ]
    },
    {
     "name": "stdout",
     "output_type": "stream",
     "text": [
      "Epoch : 5, Iteration : 61 , Loss : 0.6241623163223267\n",
      "Epoch : 5 , Loss : 0.6882011009299237\n",
      "Epoch : 5, Validation Iteration : 1 , Loss : 0.6409856081008911\n"
     ]
    },
    {
     "name": "stderr",
     "output_type": "stream",
     "text": [
      "INFO:root:Train loss: 0.6882011009299237 - acc: 0.5138937713450399 -- Validation loss: 0.6463103464671544 - acc: 0.43644408459321776\n",
      " 17%|█▋        | 5/30 [00:08<00:40,  1.64s/it]"
     ]
    },
    {
     "name": "stdout",
     "output_type": "stream",
     "text": [
      "Epoch : 5, Validation Loss : 0.6463103464671544\n",
      "Epoch : 6, Iteration : 1 , Loss : 0.6309386491775513\n",
      "Epoch : 6, Iteration : 11 , Loss : 0.6326148509979248\n",
      "Epoch : 6, Iteration : 21 , Loss : 0.630355179309845\n",
      "Epoch : 6, Iteration : 31 , Loss : 0.6306027173995972\n",
      "Epoch : 6, Iteration : 41 , Loss : 0.6318684816360474\n",
      "Epoch : 6, Iteration : 51 , Loss : 0.6173146963119507\n"
     ]
    },
    {
     "name": "stderr",
     "output_type": "stream",
     "text": [
      "INFO:root:Evaluating accuracy on dev set\n"
     ]
    },
    {
     "name": "stdout",
     "output_type": "stream",
     "text": [
      "Epoch : 6, Iteration : 61 , Loss : 0.6039855480194092\n",
      "Epoch : 6 , Loss : 0.6235913115998973\n",
      "Epoch : 6, Validation Iteration : 1 , Loss : 0.6167516708374023\n"
     ]
    },
    {
     "name": "stderr",
     "output_type": "stream",
     "text": [
      "INFO:root:Train loss: 0.6235913115998973 - acc: 0.544686219381774 -- Validation loss: 0.6197735922677177 - acc: 0.44392896814463334\n",
      " 20%|██        | 6/30 [00:09<00:39,  1.64s/it]"
     ]
    },
    {
     "name": "stdout",
     "output_type": "stream",
     "text": [
      "Epoch : 6, Validation Loss : 0.6197735922677177\n",
      "Epoch : 7, Iteration : 1 , Loss : 0.6024601459503174\n",
      "Epoch : 7, Iteration : 11 , Loss : 0.6190553903579712\n",
      "Epoch : 7, Iteration : 21 , Loss : 0.6043472290039062\n",
      "Epoch : 7, Iteration : 31 , Loss : 0.6096799969673157\n",
      "Epoch : 7, Iteration : 41 , Loss : 0.6022472381591797\n",
      "Epoch : 7, Iteration : 51 , Loss : 0.5997176766395569\n"
     ]
    },
    {
     "name": "stderr",
     "output_type": "stream",
     "text": [
      "INFO:root:Evaluating accuracy on dev set\n"
     ]
    },
    {
     "name": "stdout",
     "output_type": "stream",
     "text": [
      "Epoch : 7, Iteration : 61 , Loss : 0.5966224670410156\n",
      "Epoch : 7 , Loss : 0.6038364837135094\n",
      "Epoch : 7, Validation Iteration : 1 , Loss : 0.606452465057373\n"
     ]
    },
    {
     "name": "stderr",
     "output_type": "stream",
     "text": [
      "INFO:root:Train loss: 0.6038364837135094 - acc: 0.6259573163065203 -- Validation loss: 0.6090624502726963 - acc: 0.4837909457556591\n",
      " 23%|██▎       | 7/30 [00:11<00:37,  1.64s/it]"
     ]
    },
    {
     "name": "stdout",
     "output_type": "stream",
     "text": [
      "Epoch : 7, Validation Loss : 0.6090624502726963\n",
      "Epoch : 8, Iteration : 1 , Loss : 0.5968410968780518\n",
      "Epoch : 8, Iteration : 11 , Loss : 0.6011639833450317\n",
      "Epoch : 8, Iteration : 21 , Loss : 0.5963354110717773\n",
      "Epoch : 8, Iteration : 31 , Loss : 0.6022129654884338\n",
      "Epoch : 8, Iteration : 41 , Loss : 0.5919667482376099\n",
      "Epoch : 8, Iteration : 51 , Loss : 0.5987211465835571\n"
     ]
    },
    {
     "name": "stderr",
     "output_type": "stream",
     "text": [
      "INFO:root:Evaluating accuracy on dev set\n"
     ]
    },
    {
     "name": "stdout",
     "output_type": "stream",
     "text": [
      "Epoch : 8, Iteration : 61 , Loss : 0.5931086540222168\n",
      "Epoch : 8 , Loss : 0.5970118330872577\n",
      "Epoch : 8, Validation Iteration : 1 , Loss : 0.5998026132583618\n"
     ]
    },
    {
     "name": "stderr",
     "output_type": "stream",
     "text": [
      "INFO:root:Train loss: 0.5970118330872577 - acc: 0.6751844388695992 -- Validation loss: 0.6039814863886152 - acc: 0.5241022733806715\n",
      " 27%|██▋       | 8/30 [00:13<00:36,  1.64s/it]"
     ]
    },
    {
     "name": "stdout",
     "output_type": "stream",
     "text": [
      "Epoch : 8, Validation Loss : 0.6039814863886152\n",
      "Epoch : 9, Iteration : 1 , Loss : 0.5911225080490112\n",
      "Epoch : 9, Iteration : 11 , Loss : 0.6034760475158691\n",
      "Epoch : 9, Iteration : 21 , Loss : 0.5940242409706116\n",
      "Epoch : 9, Iteration : 31 , Loss : 0.5959300994873047\n",
      "Epoch : 9, Iteration : 41 , Loss : 0.5920020341873169\n",
      "Epoch : 9, Iteration : 51 , Loss : 0.5926766395568848\n"
     ]
    },
    {
     "name": "stderr",
     "output_type": "stream",
     "text": [
      "INFO:root:Evaluating accuracy on dev set\n"
     ]
    },
    {
     "name": "stdout",
     "output_type": "stream",
     "text": [
      "Epoch : 9, Iteration : 61 , Loss : 0.5875735282897949\n",
      "Epoch : 9 , Loss : 0.5929155937139539\n",
      "Epoch : 9, Validation Iteration : 1 , Loss : 0.6009892225265503\n"
     ]
    },
    {
     "name": "stderr",
     "output_type": "stream",
     "text": [
      "INFO:root:Train loss: 0.5929155937139539 - acc: 0.696946529531962 -- Validation loss: 0.6015808071408953 - acc: 0.5013058249126878\n",
      " 30%|███       | 9/30 [00:14<00:34,  1.64s/it]"
     ]
    },
    {
     "name": "stdout",
     "output_type": "stream",
     "text": [
      "Epoch : 9, Validation Loss : 0.6015808071408953\n",
      "Epoch : 10, Iteration : 1 , Loss : 0.5862833261489868\n",
      "Epoch : 10, Iteration : 11 , Loss : 0.6017632484436035\n",
      "Epoch : 10, Iteration : 21 , Loss : 0.5890604853630066\n",
      "Epoch : 10, Iteration : 31 , Loss : 0.5927721261978149\n",
      "Epoch : 10, Iteration : 41 , Loss : 0.5848738551139832\n",
      "Epoch : 10, Iteration : 51 , Loss : 0.5926635265350342\n"
     ]
    },
    {
     "name": "stderr",
     "output_type": "stream",
     "text": [
      "INFO:root:Evaluating accuracy on dev set\n"
     ]
    },
    {
     "name": "stdout",
     "output_type": "stream",
     "text": [
      "Epoch : 10, Iteration : 61 , Loss : 0.5874620676040649\n",
      "Epoch : 10 , Loss : 0.5897762594015702\n",
      "Epoch : 10, Validation Iteration : 1 , Loss : 0.6002952456474304\n"
     ]
    },
    {
     "name": "stderr",
     "output_type": "stream",
     "text": [
      "INFO:root:Train loss: 0.5897762594015702 - acc: 0.7144948314993981 -- Validation loss: 0.5998162456921169 - acc: 0.5239411793259104\n",
      " 33%|███▎      | 10/30 [00:16<00:32,  1.64s/it]"
     ]
    },
    {
     "name": "stdout",
     "output_type": "stream",
     "text": [
      "Epoch : 10, Validation Loss : 0.5998162456921169\n",
      "Epoch : 11, Iteration : 1 , Loss : 0.584308385848999\n",
      "Epoch : 11, Iteration : 11 , Loss : 0.6016587018966675\n",
      "Epoch : 11, Iteration : 21 , Loss : 0.5906994342803955\n",
      "Epoch : 11, Iteration : 31 , Loss : 0.5910727977752686\n",
      "Epoch : 11, Iteration : 41 , Loss : 0.5852159857749939\n",
      "Epoch : 11, Iteration : 51 , Loss : 0.5914767980575562\n"
     ]
    },
    {
     "name": "stderr",
     "output_type": "stream",
     "text": [
      "INFO:root:Evaluating accuracy on dev set\n"
     ]
    },
    {
     "name": "stdout",
     "output_type": "stream",
     "text": [
      "Epoch : 11, Iteration : 61 , Loss : 0.5849997401237488\n",
      "Epoch : 11 , Loss : 0.5883606033048768\n",
      "Epoch : 11, Validation Iteration : 1 , Loss : 0.5989883542060852\n"
     ]
    },
    {
     "name": "stderr",
     "output_type": "stream",
     "text": [
      "INFO:root:Train loss: 0.5883606033048768 - acc: 0.7265038972355538 -- Validation loss: 0.6000229801450457 - acc: 0.4991547809076939\n",
      " 37%|███▋      | 11/30 [00:18<00:31,  1.64s/it]"
     ]
    },
    {
     "name": "stdout",
     "output_type": "stream",
     "text": [
      "Epoch : 11, Validation Loss : 0.6000229801450457\n",
      "Epoch : 12, Iteration : 1 , Loss : 0.582994818687439\n",
      "Epoch : 12, Iteration : 11 , Loss : 0.5904000997543335\n",
      "Epoch : 12, Iteration : 21 , Loss : 0.587306797504425\n",
      "Epoch : 12, Iteration : 31 , Loss : 0.5898932218551636\n",
      "Epoch : 12, Iteration : 41 , Loss : 0.5806312561035156\n",
      "Epoch : 12, Iteration : 51 , Loss : 0.5886061787605286\n"
     ]
    },
    {
     "name": "stderr",
     "output_type": "stream",
     "text": [
      "INFO:root:Evaluating accuracy on dev set\n"
     ]
    },
    {
     "name": "stdout",
     "output_type": "stream",
     "text": [
      "Epoch : 12, Iteration : 61 , Loss : 0.5823203325271606\n",
      "Epoch : 12 , Loss : 0.5857522487640381\n",
      "Epoch : 12, Validation Iteration : 1 , Loss : 0.5953012704849243\n"
     ]
    },
    {
     "name": "stderr",
     "output_type": "stream",
     "text": [
      "INFO:root:Train loss: 0.5857522487640381 - acc: 0.7413313803402861 -- Validation loss: 0.5990060908453805 - acc: 0.49451551306892083\n",
      " 40%|████      | 12/30 [00:19<00:29,  1.64s/it]"
     ]
    },
    {
     "name": "stdout",
     "output_type": "stream",
     "text": [
      "Epoch : 12, Validation Loss : 0.5990060908453805\n",
      "Epoch : 13, Iteration : 1 , Loss : 0.5827751159667969\n",
      "Epoch : 13, Iteration : 11 , Loss : 0.5929365158081055\n",
      "Epoch : 13, Iteration : 21 , Loss : 0.5873308181762695\n",
      "Epoch : 13, Iteration : 31 , Loss : 0.5879156589508057\n",
      "Epoch : 13, Iteration : 41 , Loss : 0.5810812711715698\n",
      "Epoch : 13, Iteration : 51 , Loss : 0.5875712633132935\n"
     ]
    },
    {
     "name": "stderr",
     "output_type": "stream",
     "text": [
      "INFO:root:Evaluating accuracy on dev set\n"
     ]
    },
    {
     "name": "stdout",
     "output_type": "stream",
     "text": [
      "Epoch : 13, Iteration : 61 , Loss : 0.5826568603515625\n",
      "Epoch : 13 , Loss : 0.5848229380621426\n",
      "Epoch : 13, Validation Iteration : 1 , Loss : 0.5956830978393555\n"
     ]
    },
    {
     "name": "stderr",
     "output_type": "stream",
     "text": [
      "INFO:root:Train loss: 0.5848229380621426 - acc: 0.7443261373297938 -- Validation loss: 0.5988216570445469 - acc: 0.49671166608634054\n",
      " 43%|████▎     | 13/30 [00:21<00:27,  1.64s/it]"
     ]
    },
    {
     "name": "stdout",
     "output_type": "stream",
     "text": [
      "Epoch : 13, Validation Loss : 0.5988216570445469\n",
      "Epoch : 14, Iteration : 1 , Loss : 0.5809013843536377\n",
      "Epoch : 14, Iteration : 11 , Loss : 0.5891814231872559\n",
      "Epoch : 14, Iteration : 21 , Loss : 0.5887414216995239\n",
      "Epoch : 14, Iteration : 31 , Loss : 0.5864701271057129\n",
      "Epoch : 14, Iteration : 41 , Loss : 0.5809007883071899\n",
      "Epoch : 14, Iteration : 51 , Loss : 0.5867280960083008\n"
     ]
    },
    {
     "name": "stderr",
     "output_type": "stream",
     "text": [
      "INFO:root:Evaluating accuracy on dev set\n"
     ]
    },
    {
     "name": "stdout",
     "output_type": "stream",
     "text": [
      "Epoch : 14, Iteration : 61 , Loss : 0.5812976360321045\n",
      "Epoch : 14 , Loss : 0.5834415356318156\n",
      "Epoch : 14, Validation Iteration : 1 , Loss : 0.594329833984375\n"
     ]
    },
    {
     "name": "stderr",
     "output_type": "stream",
     "text": [
      "INFO:root:Train loss: 0.5834415356318156 - acc: 0.7535979697196185 -- Validation loss: 0.5978315472602844 - acc: 0.504078222139286\n",
      " 47%|████▋     | 14/30 [00:22<00:26,  1.63s/it]"
     ]
    },
    {
     "name": "stdout",
     "output_type": "stream",
     "text": [
      "Epoch : 14, Validation Loss : 0.5978315472602844\n",
      "Epoch : 15, Iteration : 1 , Loss : 0.5780754685401917\n",
      "Epoch : 15, Iteration : 11 , Loss : 0.5848314762115479\n",
      "Epoch : 15, Iteration : 21 , Loss : 0.5852255821228027\n",
      "Epoch : 15, Iteration : 31 , Loss : 0.5865311622619629\n",
      "Epoch : 15, Iteration : 41 , Loss : 0.5813126564025879\n",
      "Epoch : 15, Iteration : 51 , Loss : 0.5838695764541626\n"
     ]
    },
    {
     "name": "stderr",
     "output_type": "stream",
     "text": [
      "INFO:root:Evaluating accuracy on dev set\n"
     ]
    },
    {
     "name": "stdout",
     "output_type": "stream",
     "text": [
      "Epoch : 15, Iteration : 61 , Loss : 0.5804969072341919\n",
      "Epoch : 15 , Loss : 0.5821012595425481\n",
      "Epoch : 15, Validation Iteration : 1 , Loss : 0.594565749168396\n"
     ]
    },
    {
     "name": "stderr",
     "output_type": "stream",
     "text": [
      "INFO:root:Train loss: 0.5821012595425481 - acc: 0.7626769540371826 -- Validation loss: 0.596541736807142 - acc: 0.5162339632236365\n",
      " 50%|█████     | 15/30 [00:24<00:24,  1.63s/it]"
     ]
    },
    {
     "name": "stdout",
     "output_type": "stream",
     "text": [
      "Epoch : 15, Validation Loss : 0.596541736807142\n",
      "Epoch : 16, Iteration : 1 , Loss : 0.5755952596664429\n",
      "Epoch : 16, Iteration : 11 , Loss : 0.585073709487915\n",
      "Epoch : 16, Iteration : 21 , Loss : 0.583468496799469\n",
      "Epoch : 16, Iteration : 31 , Loss : 0.5868515372276306\n",
      "Epoch : 16, Iteration : 41 , Loss : 0.5810381770133972\n",
      "Epoch : 16, Iteration : 51 , Loss : 0.5844660401344299\n"
     ]
    },
    {
     "name": "stderr",
     "output_type": "stream",
     "text": [
      "INFO:root:Evaluating accuracy on dev set\n"
     ]
    },
    {
     "name": "stdout",
     "output_type": "stream",
     "text": [
      "Epoch : 16, Iteration : 61 , Loss : 0.5800559520721436\n",
      "Epoch : 16 , Loss : 0.5820234495660533\n",
      "Epoch : 16, Validation Iteration : 1 , Loss : 0.5910460352897644"
     ]
    },
    {
     "name": "stderr",
     "output_type": "stream",
     "text": [
      "INFO:root:Train loss: 0.5820234495660533 - acc: 0.763753214249207 -- Validation loss: 0.5955210413251605 - acc: 0.5308800028886282\n",
      " 53%|█████▎    | 16/30 [00:26<00:22,  1.64s/it]"
     ]
    },
    {
     "name": "stdout",
     "output_type": "stream",
     "text": [
      "\n",
      "Epoch : 16, Validation Loss : 0.5955210413251605\n",
      "Epoch : 17, Iteration : 1 , Loss : 0.5758057236671448\n",
      "Epoch : 17, Iteration : 11 , Loss : 0.5831712484359741\n",
      "Epoch : 17, Iteration : 21 , Loss : 0.5835721492767334\n",
      "Epoch : 17, Iteration : 31 , Loss : 0.5903100967407227\n",
      "Epoch : 17, Iteration : 41 , Loss : 0.5794075727462769\n",
      "Epoch : 17, Iteration : 51 , Loss : 0.584587812423706\n"
     ]
    },
    {
     "name": "stderr",
     "output_type": "stream",
     "text": [
      "INFO:root:Evaluating accuracy on dev set\n"
     ]
    },
    {
     "name": "stdout",
     "output_type": "stream",
     "text": [
      "Epoch : 17, Iteration : 61 , Loss : 0.5800296068191528\n",
      "Epoch : 17 , Loss : 0.5812939845997355\n",
      "Epoch : 17, Validation Iteration : 1 , Loss : 0.5933018326759338\n"
     ]
    },
    {
     "name": "stderr",
     "output_type": "stream",
     "text": [
      "INFO:root:Train loss: 0.5812939845997355 - acc: 0.7689891039323833 -- Validation loss: 0.5951094201632908 - acc: 0.5259291883839172\n",
      " 57%|█████▋    | 17/30 [00:27<00:21,  1.64s/it]"
     ]
    },
    {
     "name": "stdout",
     "output_type": "stream",
     "text": [
      "Epoch : 17, Validation Loss : 0.5951094201632908\n",
      "Epoch : 18, Iteration : 1 , Loss : 0.5760605335235596\n",
      "Epoch : 18, Iteration : 11 , Loss : 0.5848233699798584\n",
      "Epoch : 18, Iteration : 21 , Loss : 0.5885341167449951\n",
      "Epoch : 18, Iteration : 31 , Loss : 0.584770917892456\n",
      "Epoch : 18, Iteration : 41 , Loss : 0.5822636485099792\n",
      "Epoch : 18, Iteration : 51 , Loss : 0.5830526351928711\n"
     ]
    },
    {
     "name": "stderr",
     "output_type": "stream",
     "text": [
      "INFO:root:Evaluating accuracy on dev set\n"
     ]
    },
    {
     "name": "stdout",
     "output_type": "stream",
     "text": [
      "Epoch : 18, Iteration : 61 , Loss : 0.5793272256851196\n",
      "Epoch : 18 , Loss : 0.5809844153514807\n",
      "Epoch : 18, Validation Iteration : 1 , Loss : 0.5903394818305969\n"
     ]
    },
    {
     "name": "stderr",
     "output_type": "stream",
     "text": [
      "INFO:root:Train loss: 0.5809844153514807 - acc: 0.7719220076935318 -- Validation loss: 0.5936560801097325 - acc: 0.5353674126425436\n",
      " 60%|██████    | 18/30 [00:29<00:19,  1.64s/it]"
     ]
    },
    {
     "name": "stdout",
     "output_type": "stream",
     "text": [
      "Epoch : 18, Validation Loss : 0.5936560801097325\n",
      "Epoch : 19, Iteration : 1 , Loss : 0.5744565725326538\n",
      "Epoch : 19, Iteration : 11 , Loss : 0.5825007557868958\n",
      "Epoch : 19, Iteration : 21 , Loss : 0.5824301838874817\n",
      "Epoch : 19, Iteration : 31 , Loss : 0.5851479768753052\n",
      "Epoch : 19, Iteration : 41 , Loss : 0.5782507658004761\n",
      "Epoch : 19, Iteration : 51 , Loss : 0.5826975703239441\n"
     ]
    },
    {
     "name": "stderr",
     "output_type": "stream",
     "text": [
      "INFO:root:Evaluating accuracy on dev set\n"
     ]
    },
    {
     "name": "stdout",
     "output_type": "stream",
     "text": [
      "Epoch : 19, Iteration : 61 , Loss : 0.5784417390823364\n",
      "Epoch : 19 , Loss : 0.5801152535106825\n",
      "Epoch : 19, Validation Iteration : 1 , Loss : 0.591955304145813\n"
     ]
    },
    {
     "name": "stderr",
     "output_type": "stream",
     "text": [
      "INFO:root:Train loss: 0.5801152535106825 - acc: 0.7768074126028216 -- Validation loss: 0.5940034900392804 - acc: 0.5415839565879031\n",
      " 63%|██████▎   | 19/30 [00:31<00:18,  1.64s/it]"
     ]
    },
    {
     "name": "stdout",
     "output_type": "stream",
     "text": [
      "Epoch : 19, Validation Loss : 0.5940034900392804\n",
      "Epoch : 20, Iteration : 1 , Loss : 0.5741852521896362\n",
      "Epoch : 20, Iteration : 11 , Loss : 0.5850822925567627\n",
      "Epoch : 20, Iteration : 21 , Loss : 0.5812978148460388\n",
      "Epoch : 20, Iteration : 31 , Loss : 0.5847374200820923\n",
      "Epoch : 20, Iteration : 41 , Loss : 0.5767196416854858\n",
      "Epoch : 20, Iteration : 51 , Loss : 0.583838939666748\n"
     ]
    },
    {
     "name": "stderr",
     "output_type": "stream",
     "text": [
      "INFO:root:Evaluating accuracy on dev set\n"
     ]
    },
    {
     "name": "stdout",
     "output_type": "stream",
     "text": [
      "Epoch : 20, Iteration : 61 , Loss : 0.5799373388290405\n",
      "Epoch : 20 , Loss : 0.5798007534897845\n",
      "Epoch : 20, Validation Iteration : 1 , Loss : 0.588947057723999\n"
     ]
    },
    {
     "name": "stderr",
     "output_type": "stream",
     "text": [
      "INFO:root:Train loss: 0.5798007534897845 - acc: 0.7786540486564381 -- Validation loss: 0.5936127049582345 - acc: 0.5354265094644605\n",
      " 67%|██████▋   | 20/30 [00:32<00:16,  1.64s/it]"
     ]
    },
    {
     "name": "stdout",
     "output_type": "stream",
     "text": [
      "Epoch : 20, Validation Loss : 0.5936127049582345\n",
      "Epoch : 21, Iteration : 1 , Loss : 0.5745599269866943\n",
      "Epoch : 21, Iteration : 11 , Loss : 0.5811789035797119\n",
      "Epoch : 21, Iteration : 21 , Loss : 0.5824853181838989\n",
      "Epoch : 21, Iteration : 31 , Loss : 0.5850944519042969\n",
      "Epoch : 21, Iteration : 41 , Loss : 0.5770972371101379\n",
      "Epoch : 21, Iteration : 51 , Loss : 0.5833427309989929\n"
     ]
    },
    {
     "name": "stderr",
     "output_type": "stream",
     "text": [
      "INFO:root:Evaluating accuracy on dev set\n"
     ]
    },
    {
     "name": "stdout",
     "output_type": "stream",
     "text": [
      "Epoch : 21, Iteration : 61 , Loss : 0.579401433467865\n",
      "Epoch : 21 , Loss : 0.5797257803488469\n",
      "Epoch : 21, Validation Iteration : 1 , Loss : 0.5912004709243774\n"
     ]
    },
    {
     "name": "stderr",
     "output_type": "stream",
     "text": [
      "INFO:root:Train loss: 0.5797257803488469 - acc: 0.7793636382873749 -- Validation loss: 0.5939716270991734 - acc: 0.5521428787887703\n",
      " 70%|███████   | 21/30 [00:34<00:14,  1.64s/it]"
     ]
    },
    {
     "name": "stdout",
     "output_type": "stream",
     "text": [
      "Epoch : 21, Validation Loss : 0.5939716270991734\n",
      "Epoch : 22, Iteration : 1 , Loss : 0.5740299224853516\n",
      "Epoch : 22, Iteration : 11 , Loss : 0.5814946889877319\n",
      "Epoch : 22, Iteration : 21 , Loss : 0.581133246421814\n",
      "Epoch : 22, Iteration : 31 , Loss : 0.5861588716506958\n",
      "Epoch : 22, Iteration : 41 , Loss : 0.5759599208831787\n",
      "Epoch : 22, Iteration : 51 , Loss : 0.5825934410095215\n"
     ]
    },
    {
     "name": "stderr",
     "output_type": "stream",
     "text": [
      "INFO:root:Evaluating accuracy on dev set\n"
     ]
    },
    {
     "name": "stdout",
     "output_type": "stream",
     "text": [
      "Epoch : 22, Iteration : 61 , Loss : 0.5791853666305542\n",
      "Epoch : 22 , Loss : 0.5793534223584161\n",
      "Epoch : 22, Validation Iteration : 1 , Loss : 0.5910590887069702\n"
     ]
    },
    {
     "name": "stderr",
     "output_type": "stream",
     "text": [
      "INFO:root:Train loss: 0.5793534223584161 - acc: 0.7827126968693742 -- Validation loss: 0.5933047703334263 - acc: 0.5378093896994884\n",
      " 73%|███████▎  | 22/30 [00:36<00:13,  1.64s/it]"
     ]
    },
    {
     "name": "stdout",
     "output_type": "stream",
     "text": [
      "Epoch : 22, Validation Loss : 0.5933047703334263\n",
      "Epoch : 23, Iteration : 1 , Loss : 0.5744496583938599\n",
      "Epoch : 23, Iteration : 11 , Loss : 0.5838121175765991\n",
      "Epoch : 23, Iteration : 21 , Loss : 0.5808779001235962\n",
      "Epoch : 23, Iteration : 31 , Loss : 0.5854061841964722\n",
      "Epoch : 23, Iteration : 41 , Loss : 0.5760842561721802\n",
      "Epoch : 23, Iteration : 51 , Loss : 0.5839424133300781\n"
     ]
    },
    {
     "name": "stderr",
     "output_type": "stream",
     "text": [
      "INFO:root:Evaluating accuracy on dev set\n"
     ]
    },
    {
     "name": "stdout",
     "output_type": "stream",
     "text": [
      "Epoch : 23, Iteration : 61 , Loss : 0.5795974731445312\n",
      "Epoch : 23 , Loss : 0.5792907156806061\n",
      "Epoch : 23, Validation Iteration : 1 , Loss : 0.5908223390579224\n"
     ]
    },
    {
     "name": "stderr",
     "output_type": "stream",
     "text": [
      "INFO:root:new model saved\n",
      "INFO:root:Train loss: 0.5792907156806061 - acc: 0.7846002917362056 -- Validation loss: 0.5918394156864711 - acc: 0.558600361079431\n",
      " 77%|███████▋  | 23/30 [00:37<00:11,  1.65s/it]"
     ]
    },
    {
     "name": "stdout",
     "output_type": "stream",
     "text": [
      "Epoch : 23, Validation Loss : 0.5918394156864711\n",
      "Epoch : 24, Iteration : 1 , Loss : 0.5729366540908813\n",
      "Epoch : 24, Iteration : 11 , Loss : 0.5824586153030396\n",
      "Epoch : 24, Iteration : 21 , Loss : 0.5802583694458008\n",
      "Epoch : 24, Iteration : 31 , Loss : 0.5843284726142883\n",
      "Epoch : 24, Iteration : 41 , Loss : 0.575042724609375\n",
      "Epoch : 24, Iteration : 51 , Loss : 0.5833301544189453\n"
     ]
    },
    {
     "name": "stderr",
     "output_type": "stream",
     "text": [
      "INFO:root:Evaluating accuracy on dev set\n"
     ]
    },
    {
     "name": "stdout",
     "output_type": "stream",
     "text": [
      "Epoch : 24, Iteration : 61 , Loss : 0.5794714689254761\n",
      "Epoch : 24 , Loss : 0.5790866742963376\n"
     ]
    },
    {
     "name": "stderr",
     "output_type": "stream",
     "text": [
      "INFO:root:Train loss: 0.5790866742963376 - acc: 0.7833489142205371 -- Validation loss: 0.5942982946123395 - acc: 0.5480734970639526\n",
      " 80%|████████  | 24/30 [00:39<00:09,  1.66s/it]"
     ]
    },
    {
     "name": "stdout",
     "output_type": "stream",
     "text": [
      "Epoch : 24, Validation Iteration : 1 , Loss : 0.5922578573226929\n",
      "Epoch : 24, Validation Loss : 0.5942982946123395\n",
      "Epoch : 25, Iteration : 1 , Loss : 0.5754650831222534\n",
      "Epoch : 25, Iteration : 11 , Loss : 0.5806835889816284\n",
      "Epoch : 25, Iteration : 21 , Loss : 0.5802691578865051\n",
      "Epoch : 25, Iteration : 31 , Loss : 0.585842490196228\n",
      "Epoch : 25, Iteration : 41 , Loss : 0.5758951306343079\n",
      "Epoch : 25, Iteration : 51 , Loss : 0.5828936100006104\n"
     ]
    },
    {
     "name": "stderr",
     "output_type": "stream",
     "text": [
      "INFO:root:Evaluating accuracy on dev set\n"
     ]
    },
    {
     "name": "stdout",
     "output_type": "stream",
     "text": [
      "Epoch : 25, Iteration : 61 , Loss : 0.5794022083282471\n",
      "Epoch : 25 , Loss : 0.5792859403983407\n"
     ]
    },
    {
     "name": "stderr",
     "output_type": "stream",
     "text": [
      "INFO:root:Train loss: 0.5792859403983407 - acc: 0.7822860205330684 -- Validation loss: 0.5931494746889386 - acc: 0.5487809188166839\n",
      " 83%|████████▎ | 25/30 [00:41<00:08,  1.66s/it]"
     ]
    },
    {
     "name": "stdout",
     "output_type": "stream",
     "text": [
      "Epoch : 25, Validation Iteration : 1 , Loss : 0.5947122573852539\n",
      "Epoch : 25, Validation Loss : 0.5931494746889386\n",
      "Epoch : 26, Iteration : 1 , Loss : 0.5750899910926819\n",
      "Epoch : 26, Iteration : 11 , Loss : 0.581277072429657\n",
      "Epoch : 26, Iteration : 21 , Loss : 0.5807276368141174\n",
      "Epoch : 26, Iteration : 31 , Loss : 0.5845730304718018\n",
      "Epoch : 26, Iteration : 41 , Loss : 0.5766459703445435\n",
      "Epoch : 26, Iteration : 51 , Loss : 0.5835610628128052\n"
     ]
    },
    {
     "name": "stderr",
     "output_type": "stream",
     "text": [
      "INFO:root:Evaluating accuracy on dev set\n"
     ]
    },
    {
     "name": "stdout",
     "output_type": "stream",
     "text": [
      "Epoch : 26, Iteration : 61 , Loss : 0.5785707235336304\n",
      "Epoch : 26 , Loss : 0.5791899173156075\n",
      "Epoch : 26, Validation Iteration : 1 , Loss : 0.5924453735351562\n"
     ]
    },
    {
     "name": "stderr",
     "output_type": "stream",
     "text": [
      "INFO:root:Train loss: 0.5791899173156075 - acc: 0.783340746856065 -- Validation loss: 0.5951285362243652 - acc: 0.5325336430652117\n",
      " 87%|████████▋ | 26/30 [00:42<00:06,  1.66s/it]"
     ]
    },
    {
     "name": "stdout",
     "output_type": "stream",
     "text": [
      "Epoch : 26, Validation Loss : 0.5951285362243652\n",
      "Epoch : 27, Iteration : 1 , Loss : 0.5740023851394653\n",
      "Epoch : 27, Iteration : 11 , Loss : 0.5810662508010864\n",
      "Epoch : 27, Iteration : 21 , Loss : 0.5789021253585815\n",
      "Epoch : 27, Iteration : 31 , Loss : 0.5846290588378906\n",
      "Epoch : 27, Iteration : 41 , Loss : 0.5762300491333008\n",
      "Epoch : 27, Iteration : 51 , Loss : 0.5824919939041138\n"
     ]
    },
    {
     "name": "stderr",
     "output_type": "stream",
     "text": [
      "INFO:root:Evaluating accuracy on dev set\n"
     ]
    },
    {
     "name": "stdout",
     "output_type": "stream",
     "text": [
      "Epoch : 27, Iteration : 61 , Loss : 0.578274130821228\n",
      "Epoch : 27 , Loss : 0.5784851399020873\n"
     ]
    },
    {
     "name": "stderr",
     "output_type": "stream",
     "text": [
      "INFO:root:new model saved\n",
      "INFO:root:Train loss: 0.5784851399020873 - acc: 0.787238585112632 -- Validation loss: 0.5934461525508335 - acc: 0.5594335392629459\n",
      " 90%|█████████ | 27/30 [00:44<00:05,  1.68s/it]"
     ]
    },
    {
     "name": "stdout",
     "output_type": "stream",
     "text": [
      "Epoch : 27, Validation Iteration : 1 , Loss : 0.5923993587493896\n",
      "Epoch : 27, Validation Loss : 0.5934461525508335\n",
      "Epoch : 28, Iteration : 1 , Loss : 0.5739029049873352\n",
      "Epoch : 28, Iteration : 11 , Loss : 0.5802648663520813\n",
      "Epoch : 28, Iteration : 21 , Loss : 0.5792367458343506\n",
      "Epoch : 28, Iteration : 31 , Loss : 0.5836622714996338\n",
      "Epoch : 28, Iteration : 41 , Loss : 0.5743204355239868\n",
      "Epoch : 28, Iteration : 51 , Loss : 0.5820861458778381\n"
     ]
    },
    {
     "name": "stderr",
     "output_type": "stream",
     "text": [
      "INFO:root:Evaluating accuracy on dev set\n"
     ]
    },
    {
     "name": "stdout",
     "output_type": "stream",
     "text": [
      "Epoch : 28, Iteration : 61 , Loss : 0.5775904059410095\n",
      "Epoch : 28 , Loss : 0.5782869009004123\n",
      "Epoch : 28, Validation Iteration : 1 , Loss : 0.5918916463851929\n"
     ]
    },
    {
     "name": "stderr",
     "output_type": "stream",
     "text": [
      "INFO:root:Train loss: 0.5782869009004123 - acc: 0.7901940296593242 -- Validation loss: 0.593007777418409 - acc: 0.5414140950544659\n",
      " 93%|█████████▎| 28/30 [00:46<00:03,  1.67s/it]"
     ]
    },
    {
     "name": "stdout",
     "output_type": "stream",
     "text": [
      "Epoch : 28, Validation Loss : 0.593007777418409\n",
      "Epoch : 29, Iteration : 1 , Loss : 0.5727272033691406\n",
      "Epoch : 29, Iteration : 11 , Loss : 0.5797910690307617\n",
      "Epoch : 29, Iteration : 21 , Loss : 0.5795719027519226\n",
      "Epoch : 29, Iteration : 31 , Loss : 0.5825362801551819\n",
      "Epoch : 29, Iteration : 41 , Loss : 0.5747414827346802\n",
      "Epoch : 29, Iteration : 51 , Loss : 0.5836024880409241\n"
     ]
    },
    {
     "name": "stderr",
     "output_type": "stream",
     "text": [
      "INFO:root:Evaluating accuracy on dev set\n"
     ]
    },
    {
     "name": "stdout",
     "output_type": "stream",
     "text": [
      "Epoch : 29, Iteration : 61 , Loss : 0.578309178352356\n",
      "Epoch : 29 , Loss : 0.5783829239831455\n",
      "Epoch : 29, Validation Iteration : 1 , Loss : 0.5931403636932373\n"
     ]
    },
    {
     "name": "stderr",
     "output_type": "stream",
     "text": [
      "INFO:root:Train loss: 0.5783829239831455 - acc: 0.7907596630243676 -- Validation loss: 0.593647471496037 - acc: 0.5422793983506876\n",
      " 97%|█████████▋| 29/30 [00:47<00:01,  1.66s/it]"
     ]
    },
    {
     "name": "stdout",
     "output_type": "stream",
     "text": [
      "Epoch : 29, Validation Loss : 0.593647471496037\n",
      "Epoch : 30, Iteration : 1 , Loss : 0.5737563967704773\n",
      "Epoch : 30, Iteration : 11 , Loss : 0.5825375318527222\n",
      "Epoch : 30, Iteration : 21 , Loss : 0.5794459581375122\n",
      "Epoch : 30, Iteration : 31 , Loss : 0.5830289125442505\n",
      "Epoch : 30, Iteration : 41 , Loss : 0.5743694305419922\n",
      "Epoch : 30, Iteration : 51 , Loss : 0.5833792090415955\n"
     ]
    },
    {
     "name": "stderr",
     "output_type": "stream",
     "text": [
      "INFO:root:Evaluating accuracy on dev set\n"
     ]
    },
    {
     "name": "stdout",
     "output_type": "stream",
     "text": [
      "Epoch : 30, Iteration : 61 , Loss : 0.5793496370315552\n",
      "Epoch : 30 , Loss : 0.5788674328638159\n",
      "Epoch : 30, Validation Iteration : 1 , Loss : 0.592427134513855\n"
     ]
    },
    {
     "name": "stderr",
     "output_type": "stream",
     "text": [
      "INFO:root:Train loss: 0.5788674328638159 - acc: 0.787404950963581 -- Validation loss: 0.5930434124810355 - acc: 0.543166653807259\n",
      "100%|██████████| 30/30 [00:49<00:00,  1.65s/it]\n"
     ]
    },
    {
     "name": "stdout",
     "output_type": "stream",
     "text": [
      "Epoch : 30, Validation Loss : 0.5930434124810355\n"
     ]
    },
    {
     "name": "stderr",
     "output_type": "stream",
     "text": [
      "\r",
      "  0%|          | 0/30 [00:00<?, ?it/s]"
     ]
    },
    {
     "name": "stdout",
     "output_type": "stream",
     "text": [
      "Epoch : 1, Iteration : 1 , Loss : 1.198466181755066\n",
      "Epoch : 1, Iteration : 11 , Loss : 1.1658146381378174\n",
      "Epoch : 1, Iteration : 21 , Loss : 1.1229474544525146\n",
      "Epoch : 1, Iteration : 31 , Loss : 1.1508471965789795\n",
      "Epoch : 1, Iteration : 41 , Loss : 1.1420304775238037\n",
      "Epoch : 1, Iteration : 51 , Loss : 1.1224693059921265\n",
      "Epoch : 1, Iteration : 61 , Loss : 1.0925534963607788\n"
     ]
    },
    {
     "name": "stderr",
     "output_type": "stream",
     "text": [
      "INFO:root:Evaluating accuracy on dev set\n",
      "INFO:root:new model saved\n",
      "INFO:root:Train loss: 1.1286604490833005 - acc: 0.40768456476509285 -- Validation loss: 1.1182782649993896 - acc: 0.4076612552269551\n",
      "  3%|▎         | 1/30 [00:02<01:24,  2.90s/it]"
     ]
    },
    {
     "name": "stdout",
     "output_type": "stream",
     "text": [
      "Epoch : 1 , Loss : 1.1286604490833005\n",
      "Epoch : 1, Validation Iteration : 1 , Loss : 1.1196521520614624\n",
      "Epoch : 1, Validation Loss : 1.1182782649993896\n",
      "Epoch : 2, Iteration : 1 , Loss : 1.120884895324707\n",
      "Epoch : 2, Iteration : 11 , Loss : 1.115060806274414\n",
      "Epoch : 2, Iteration : 21 , Loss : 1.0885021686553955\n",
      "Epoch : 2, Iteration : 31 , Loss : 1.1040160655975342\n",
      "Epoch : 2, Iteration : 41 , Loss : 1.0929358005523682\n",
      "Epoch : 2, Iteration : 51 , Loss : 1.0924376249313354\n",
      "Epoch : 2, Iteration : 61 , Loss : 1.0920774936676025\n"
     ]
    },
    {
     "name": "stderr",
     "output_type": "stream",
     "text": [
      "INFO:root:Evaluating accuracy on dev set\n",
      "INFO:root:new model saved\n",
      "INFO:root:Train loss: 1.100481138713118 - acc: 0.5087905841056 -- Validation loss: 1.1136524677276611 - acc: 0.4449530230394812\n",
      "  7%|▋         | 2/30 [00:05<01:20,  2.88s/it]"
     ]
    },
    {
     "name": "stdout",
     "output_type": "stream",
     "text": [
      "Epoch : 2 , Loss : 1.100481138713118\n",
      "Epoch : 2, Validation Iteration : 1 , Loss : 1.107295036315918\n",
      "Epoch : 2, Validation Loss : 1.1136524677276611\n",
      "Epoch : 3, Iteration : 1 , Loss : 1.0957674980163574\n",
      "Epoch : 3, Iteration : 11 , Loss : 1.0903921127319336\n",
      "Epoch : 3, Iteration : 21 , Loss : 1.0649547576904297\n",
      "Epoch : 3, Iteration : 31 , Loss : 1.079849362373352\n",
      "Epoch : 3, Iteration : 41 , Loss : 1.0738626718521118\n",
      "Epoch : 3, Iteration : 51 , Loss : 1.0584774017333984\n",
      "Epoch : 3, Iteration : 61 , Loss : 1.0163209438323975\n"
     ]
    },
    {
     "name": "stderr",
     "output_type": "stream",
     "text": [
      "INFO:root:Evaluating accuracy on dev set\n",
      "INFO:root:new model saved\n",
      "INFO:root:Train loss: 1.0643643538157146 - acc: 0.5121877408650038 -- Validation loss: 0.9576778922762189 - acc: 0.47869583595303994\n",
      " 10%|█         | 3/30 [00:08<01:17,  2.86s/it]"
     ]
    },
    {
     "name": "stdout",
     "output_type": "stream",
     "text": [
      "Epoch : 3 , Loss : 1.0643643538157146\n",
      "Epoch : 3, Validation Iteration : 1 , Loss : 0.9493768215179443\n",
      "Epoch : 3, Validation Loss : 0.9576778922762189\n",
      "Epoch : 4, Iteration : 1 , Loss : 0.949338436126709\n",
      "Epoch : 4, Iteration : 11 , Loss : 0.8240123987197876\n",
      "Epoch : 4, Iteration : 21 , Loss : 0.8465471267700195\n",
      "Epoch : 4, Iteration : 31 , Loss : 0.7219839096069336\n",
      "Epoch : 4, Iteration : 41 , Loss : 0.6470746994018555\n",
      "Epoch : 4, Iteration : 51 , Loss : 0.6388962864875793\n",
      "Epoch : 4, Iteration : 61 , Loss : 0.6383633017539978\n"
     ]
    },
    {
     "name": "stderr",
     "output_type": "stream",
     "text": [
      "INFO:root:Evaluating accuracy on dev set\n",
      "INFO:root:new model saved\n",
      "INFO:root:Train loss: 0.7246389103972394 - acc: 0.5828950648307506 -- Validation loss: 0.6480687771524701 - acc: 0.5109179932711579\n",
      " 13%|█▎        | 4/30 [00:11<01:14,  2.87s/it]"
     ]
    },
    {
     "name": "stdout",
     "output_type": "stream",
     "text": [
      "Epoch : 4 , Loss : 0.7246389103972394\n",
      "Epoch : 4, Validation Iteration : 1 , Loss : 0.6516319513320923\n",
      "Epoch : 4, Validation Loss : 0.6480687771524701\n",
      "Epoch : 5, Iteration : 1 , Loss : 0.6335989236831665\n",
      "Epoch : 5, Iteration : 11 , Loss : 0.6297427415847778\n",
      "Epoch : 5, Iteration : 21 , Loss : 0.6331233978271484\n",
      "Epoch : 5, Iteration : 31 , Loss : 0.6418368816375732\n",
      "Epoch : 5, Iteration : 41 , Loss : 0.6203593015670776\n",
      "Epoch : 5, Iteration : 51 , Loss : 0.6206950545310974\n",
      "Epoch : 5, Iteration : 61 , Loss : 0.6112498044967651\n"
     ]
    },
    {
     "name": "stderr",
     "output_type": "stream",
     "text": [
      "INFO:root:Evaluating accuracy on dev set\n",
      "INFO:root:Train loss: 0.6301924491274185 - acc: 0.5917869920447714 -- Validation loss: 0.6262790645871844 - acc: 0.5095220901967286\n",
      " 17%|█▋        | 5/30 [00:14<01:11,  2.85s/it]"
     ]
    },
    {
     "name": "stdout",
     "output_type": "stream",
     "text": [
      "Epoch : 5 , Loss : 0.6301924491274185\n",
      "Epoch : 5, Validation Iteration : 1 , Loss : 0.6285710334777832\n",
      "Epoch : 5, Validation Loss : 0.6262790645871844\n",
      "Epoch : 6, Iteration : 1 , Loss : 0.6158353686332703\n",
      "Epoch : 6, Iteration : 11 , Loss : 0.616797924041748\n",
      "Epoch : 6, Iteration : 21 , Loss : 0.627964198589325\n",
      "Epoch : 6, Iteration : 31 , Loss : 0.6277144551277161\n",
      "Epoch : 6, Iteration : 41 , Loss : 0.6105520725250244\n",
      "Epoch : 6, Iteration : 51 , Loss : 0.6204564571380615\n",
      "Epoch : 6, Iteration : 61 , Loss : 0.6074939370155334\n"
     ]
    },
    {
     "name": "stderr",
     "output_type": "stream",
     "text": [
      "INFO:root:Evaluating accuracy on dev set\n",
      "INFO:root:Train loss: 0.6209739014722299 - acc: 0.5780597748983555 -- Validation loss: 0.625135464327676 - acc: 0.4645792583018472\n",
      " 20%|██        | 6/30 [00:17<01:08,  2.84s/it]"
     ]
    },
    {
     "name": "stdout",
     "output_type": "stream",
     "text": [
      "Epoch : 6 , Loss : 0.6209739014722299\n",
      "Epoch : 6, Validation Iteration : 1 , Loss : 0.6194009780883789\n",
      "Epoch : 6, Validation Loss : 0.625135464327676\n",
      "Epoch : 7, Iteration : 1 , Loss : 0.6038973927497864\n",
      "Epoch : 7, Iteration : 11 , Loss : 0.6129496097564697\n",
      "Epoch : 7, Iteration : 21 , Loss : 0.6133105754852295\n",
      "Epoch : 7, Iteration : 31 , Loss : 0.628563404083252\n",
      "Epoch : 7, Iteration : 41 , Loss : 0.6133328676223755\n",
      "Epoch : 7, Iteration : 51 , Loss : 0.6111032962799072\n",
      "Epoch : 7, Iteration : 61 , Loss : 0.6016931533813477\n"
     ]
    },
    {
     "name": "stderr",
     "output_type": "stream",
     "text": [
      "INFO:root:Evaluating accuracy on dev set\n",
      "INFO:root:Train loss: 0.6114195853039839 - acc: 0.610754258335899 -- Validation loss: 0.616831260068076 - acc: 0.47342296719344307\n",
      " 23%|██▎       | 7/30 [00:19<01:05,  2.83s/it]"
     ]
    },
    {
     "name": "stdout",
     "output_type": "stream",
     "text": [
      "Epoch : 7 , Loss : 0.6114195853039839\n",
      "Epoch : 7, Validation Iteration : 1 , Loss : 0.6169488430023193\n",
      "Epoch : 7, Validation Loss : 0.616831260068076\n",
      "Epoch : 8, Iteration : 1 , Loss : 0.6040884256362915\n",
      "Epoch : 8, Iteration : 11 , Loss : 0.6432461738586426\n",
      "Epoch : 8, Iteration : 21 , Loss : 0.7176681756973267\n",
      "Epoch : 8, Iteration : 31 , Loss : 0.749632716178894\n",
      "Epoch : 8, Iteration : 41 , Loss : 0.6685924530029297\n",
      "Epoch : 8, Iteration : 51 , Loss : 0.6377851963043213\n",
      "Epoch : 8, Iteration : 61 , Loss : 0.620710015296936\n"
     ]
    },
    {
     "name": "stderr",
     "output_type": "stream",
     "text": [
      "INFO:root:Evaluating accuracy on dev set\n",
      "INFO:root:Train loss: 0.6686682571535525 - acc: 0.6367092263348754 -- Validation loss: 0.6292341692107064 - acc: 0.5002600855667628\n",
      " 27%|██▋       | 8/30 [00:22<01:02,  2.82s/it]"
     ]
    },
    {
     "name": "stdout",
     "output_type": "stream",
     "text": [
      "Epoch : 8 , Loss : 0.6686682571535525\n",
      "Epoch : 8, Validation Iteration : 1 , Loss : 0.6330455541610718\n",
      "Epoch : 8, Validation Loss : 0.6292341692107064\n",
      "Epoch : 9, Iteration : 1 , Loss : 0.613472580909729\n",
      "Epoch : 9, Iteration : 11 , Loss : 0.6295787692070007\n",
      "Epoch : 9, Iteration : 21 , Loss : 0.6151894330978394\n",
      "Epoch : 9, Iteration : 31 , Loss : 0.6173837184906006\n",
      "Epoch : 9, Iteration : 41 , Loss : 0.6108580827713013\n",
      "Epoch : 9, Iteration : 51 , Loss : 0.6118584871292114\n",
      "Epoch : 9, Iteration : 61 , Loss : 0.6134752035140991\n"
     ]
    },
    {
     "name": "stderr",
     "output_type": "stream",
     "text": [
      "INFO:root:Evaluating accuracy on dev set\n",
      "INFO:root:Train loss: 0.6158584045327228 - acc: 0.6502909598372616 -- Validation loss: 0.620230461869921 - acc: 0.48825392703845355\n",
      " 30%|███       | 9/30 [00:25<00:59,  2.82s/it]"
     ]
    },
    {
     "name": "stdout",
     "output_type": "stream",
     "text": [
      "Epoch : 9 , Loss : 0.6158584045327228\n",
      "Epoch : 9, Validation Iteration : 1 , Loss : 0.6247274875640869\n",
      "Epoch : 9, Validation Loss : 0.620230461869921\n",
      "Epoch : 10, Iteration : 1 , Loss : 0.6033236980438232\n",
      "Epoch : 10, Iteration : 11 , Loss : 0.6104241609573364\n",
      "Epoch : 10, Iteration : 21 , Loss : 0.6051797866821289\n",
      "Epoch : 10, Iteration : 31 , Loss : 0.6083795428276062\n",
      "Epoch : 10, Iteration : 41 , Loss : 0.5988374948501587\n",
      "Epoch : 10, Iteration : 51 , Loss : 0.6096130609512329\n",
      "Epoch : 10, Iteration : 61 , Loss : 0.6080105900764465\n"
     ]
    },
    {
     "name": "stderr",
     "output_type": "stream",
     "text": [
      "INFO:root:Evaluating accuracy on dev set\n",
      "INFO:root:Train loss: 0.6065480795459471 - acc: 0.6786799274458404 -- Validation loss: 0.6215618848800659 - acc: 0.4905236331785082\n",
      " 33%|███▎      | 10/30 [00:28<00:56,  2.83s/it]"
     ]
    },
    {
     "name": "stdout",
     "output_type": "stream",
     "text": [
      "Epoch : 10 , Loss : 0.6065480795459471\n",
      "Epoch : 10, Validation Iteration : 1 , Loss : 0.6183201670646667\n",
      "Epoch : 10, Validation Loss : 0.6215618848800659\n",
      "Epoch : 11, Iteration : 1 , Loss : 0.6034144163131714\n",
      "Epoch : 11, Iteration : 11 , Loss : 0.6063970327377319\n",
      "Epoch : 11, Iteration : 21 , Loss : 0.6039937734603882\n",
      "Epoch : 11, Iteration : 31 , Loss : 0.6092334389686584\n",
      "Epoch : 11, Iteration : 41 , Loss : 0.5990184545516968\n",
      "Epoch : 11, Iteration : 51 , Loss : 0.6084156632423401\n",
      "Epoch : 11, Iteration : 61 , Loss : 0.6027450561523438\n"
     ]
    },
    {
     "name": "stderr",
     "output_type": "stream",
     "text": [
      "INFO:root:Evaluating accuracy on dev set\n",
      "INFO:root:Train loss: 0.6028454061867534 - acc: 0.7051361282578448 -- Validation loss: 0.6202442560877118 - acc: 0.4773898831941897\n",
      " 37%|███▋      | 11/30 [00:31<00:53,  2.83s/it]"
     ]
    },
    {
     "name": "stdout",
     "output_type": "stream",
     "text": [
      "Epoch : 11 , Loss : 0.6028454061867534\n",
      "Epoch : 11, Validation Iteration : 1 , Loss : 0.6204656362533569\n",
      "Epoch : 11, Validation Loss : 0.6202442560877118\n",
      "Epoch : 12, Iteration : 1 , Loss : 0.5958176851272583\n",
      "Epoch : 12, Iteration : 11 , Loss : 0.5994206666946411\n",
      "Epoch : 12, Iteration : 21 , Loss : 0.6002917289733887\n",
      "Epoch : 12, Iteration : 31 , Loss : 0.6054773330688477\n",
      "Epoch : 12, Iteration : 41 , Loss : 0.5941538214683533\n",
      "Epoch : 12, Iteration : 51 , Loss : 0.6028772592544556\n",
      "Epoch : 12, Iteration : 61 , Loss : 0.5977236032485962\n"
     ]
    },
    {
     "name": "stderr",
     "output_type": "stream",
     "text": [
      "INFO:root:Evaluating accuracy on dev set\n",
      "INFO:root:Train loss: 0.5986294098522352 - acc: 0.7243485350105673 -- Validation loss: 0.6175206814493451 - acc: 0.4909367085860634\n",
      " 40%|████      | 12/30 [00:34<00:50,  2.83s/it]"
     ]
    },
    {
     "name": "stdout",
     "output_type": "stream",
     "text": [
      "Epoch : 12 , Loss : 0.5986294098522352\n",
      "Epoch : 12, Validation Iteration : 1 , Loss : 0.6146577596664429\n",
      "Epoch : 12, Validation Loss : 0.6175206814493451\n",
      "Epoch : 13, Iteration : 1 , Loss : 0.592138409614563\n",
      "Epoch : 13, Iteration : 11 , Loss : 0.6017462015151978\n",
      "Epoch : 13, Iteration : 21 , Loss : 0.6000369191169739\n",
      "Epoch : 13, Iteration : 31 , Loss : 0.6020464897155762\n",
      "Epoch : 13, Iteration : 41 , Loss : 0.5916221737861633\n",
      "Epoch : 13, Iteration : 51 , Loss : 0.6036562323570251\n",
      "Epoch : 13, Iteration : 61 , Loss : 0.6007698774337769\n"
     ]
    },
    {
     "name": "stderr",
     "output_type": "stream",
     "text": [
      "INFO:root:Evaluating accuracy on dev set\n",
      "INFO:root:Train loss: 0.5991432709970336 - acc: 0.7144035152435018 -- Validation loss: 0.6179241112300328 - acc: 0.46349222480063035\n",
      " 43%|████▎     | 13/30 [00:36<00:48,  2.83s/it]"
     ]
    },
    {
     "name": "stdout",
     "output_type": "stream",
     "text": [
      "Epoch : 13 , Loss : 0.5991432709970336\n",
      "Epoch : 13, Validation Iteration : 1 , Loss : 0.6217208504676819\n",
      "Epoch : 13, Validation Loss : 0.6179241112300328\n",
      "Epoch : 14, Iteration : 1 , Loss : 0.594790518283844\n",
      "Epoch : 14, Iteration : 11 , Loss : 0.6032658219337463\n",
      "Epoch : 14, Iteration : 21 , Loss : 0.6017295122146606\n",
      "Epoch : 14, Iteration : 31 , Loss : 0.6014741659164429\n",
      "Epoch : 14, Iteration : 41 , Loss : 0.5915428400039673\n",
      "Epoch : 14, Iteration : 51 , Loss : 0.6073833703994751\n",
      "Epoch : 14, Iteration : 61 , Loss : 0.595687747001648\n"
     ]
    },
    {
     "name": "stderr",
     "output_type": "stream",
     "text": [
      "INFO:root:Evaluating accuracy on dev set\n",
      "INFO:root:Train loss: 0.5994564484858859 - acc: 0.7082372349336117 -- Validation loss: 0.61753397328513 - acc: 0.4678125839684702\n",
      " 47%|████▋     | 14/30 [00:39<00:45,  2.83s/it]"
     ]
    },
    {
     "name": "stdout",
     "output_type": "stream",
     "text": [
      "Epoch : 14 , Loss : 0.5994564484858859\n",
      "Epoch : 14, Validation Iteration : 1 , Loss : 0.620891273021698\n",
      "Epoch : 14, Validation Loss : 0.61753397328513\n",
      "Epoch : 15, Iteration : 1 , Loss : 0.594394326210022\n",
      "Epoch : 15, Iteration : 11 , Loss : 0.6035271883010864\n",
      "Epoch : 15, Iteration : 21 , Loss : 0.5993127226829529\n",
      "Epoch : 15, Iteration : 31 , Loss : 0.6030000448226929\n",
      "Epoch : 15, Iteration : 41 , Loss : 0.5932837724685669\n",
      "Epoch : 15, Iteration : 51 , Loss : 0.6051065921783447\n",
      "Epoch : 15, Iteration : 61 , Loss : 0.5950214266777039\n"
     ]
    },
    {
     "name": "stderr",
     "output_type": "stream",
     "text": [
      "INFO:root:Evaluating accuracy on dev set\n",
      "INFO:root:Train loss: 0.5985718084418256 - acc: 0.7240978326353592 -- Validation loss: 0.6159362707819257 - acc: 0.4608750320247969\n",
      " 50%|█████     | 15/30 [00:42<00:42,  2.83s/it]"
     ]
    },
    {
     "name": "stdout",
     "output_type": "stream",
     "text": [
      "Epoch : 15 , Loss : 0.5985718084418256\n",
      "Epoch : 15, Validation Iteration : 1 , Loss : 0.6201210021972656\n",
      "Epoch : 15, Validation Loss : 0.6159362707819257\n",
      "Epoch : 16, Iteration : 1 , Loss : 0.5936128497123718\n",
      "Epoch : 16, Iteration : 11 , Loss : 0.6028614044189453\n",
      "Epoch : 16, Iteration : 21 , Loss : 0.5980704426765442\n",
      "Epoch : 16, Iteration : 31 , Loss : 0.599934995174408\n",
      "Epoch : 16, Iteration : 41 , Loss : 0.5917425155639648\n",
      "Epoch : 16, Iteration : 51 , Loss : 0.5983588099479675\n",
      "Epoch : 16, Iteration : 61 , Loss : 0.5917998552322388\n"
     ]
    },
    {
     "name": "stderr",
     "output_type": "stream",
     "text": [
      "INFO:root:Evaluating accuracy on dev set\n",
      "INFO:root:Train loss: 0.5968237907990165 - acc: 0.7337483757457399 -- Validation loss: 0.613474428653717 - acc: 0.47774948367455167\n",
      " 53%|█████▎    | 16/30 [00:45<00:39,  2.83s/it]"
     ]
    },
    {
     "name": "stdout",
     "output_type": "stream",
     "text": [
      "Epoch : 16 , Loss : 0.5968237907990165\n",
      "Epoch : 16, Validation Iteration : 1 , Loss : 0.6174010634422302\n",
      "Epoch : 16, Validation Loss : 0.613474428653717\n",
      "Epoch : 17, Iteration : 1 , Loss : 0.5931512117385864\n",
      "Epoch : 17, Iteration : 11 , Loss : 0.604265034198761\n",
      "Epoch : 17, Iteration : 21 , Loss : 0.5964660048484802\n",
      "Epoch : 17, Iteration : 31 , Loss : 0.596869707107544\n",
      "Epoch : 17, Iteration : 41 , Loss : 0.589076817035675\n",
      "Epoch : 17, Iteration : 51 , Loss : 0.5983753204345703\n",
      "Epoch : 17, Iteration : 61 , Loss : 0.5944212675094604\n"
     ]
    },
    {
     "name": "stderr",
     "output_type": "stream",
     "text": [
      "INFO:root:Evaluating accuracy on dev set\n",
      "INFO:root:Train loss: 0.5955410193705905 - acc: 0.7270682520469389 -- Validation loss: 0.6135806781905038 - acc: 0.4822075792631219\n",
      " 57%|█████▋    | 17/30 [00:48<00:36,  2.82s/it]"
     ]
    },
    {
     "name": "stdout",
     "output_type": "stream",
     "text": [
      "Epoch : 17 , Loss : 0.5955410193705905\n",
      "Epoch : 17, Validation Iteration : 1 , Loss : 0.6171711683273315\n",
      "Epoch : 17, Validation Loss : 0.6135806781905038\n",
      "Epoch : 18, Iteration : 1 , Loss : 0.6012756824493408\n",
      "Epoch : 18, Iteration : 11 , Loss : 0.6044931411743164\n",
      "Epoch : 18, Iteration : 21 , Loss : 0.5956377983093262\n",
      "Epoch : 18, Iteration : 31 , Loss : 0.6004016399383545\n",
      "Epoch : 18, Iteration : 41 , Loss : 0.5872308015823364\n",
      "Epoch : 18, Iteration : 51 , Loss : 0.6001608371734619\n",
      "Epoch : 18, Iteration : 61 , Loss : 0.5935087203979492\n"
     ]
    },
    {
     "name": "stderr",
     "output_type": "stream",
     "text": [
      "INFO:root:Evaluating accuracy on dev set\n",
      "INFO:root:Train loss: 0.5956799094227777 - acc: 0.7273818816195686 -- Validation loss: 0.6114598682948521 - acc: 0.4869721350414516\n",
      " 60%|██████    | 18/30 [00:50<00:33,  2.81s/it]"
     ]
    },
    {
     "name": "stdout",
     "output_type": "stream",
     "text": [
      "Epoch : 18 , Loss : 0.5956799094227777\n",
      "Epoch : 18, Validation Iteration : 1 , Loss : 0.6151305437088013\n",
      "Epoch : 18, Validation Loss : 0.6114598682948521\n",
      "Epoch : 19, Iteration : 1 , Loss : 0.5949867963790894\n",
      "Epoch : 19, Iteration : 11 , Loss : 0.6048979759216309\n",
      "Epoch : 19, Iteration : 21 , Loss : 0.5985064506530762\n",
      "Epoch : 19, Iteration : 31 , Loss : 0.6007921099662781\n",
      "Epoch : 19, Iteration : 41 , Loss : 0.5873087644577026\n",
      "Epoch : 19, Iteration : 51 , Loss : 0.5938470363616943\n",
      "Epoch : 19, Iteration : 61 , Loss : 0.5912700891494751\n"
     ]
    },
    {
     "name": "stderr",
     "output_type": "stream",
     "text": [
      "INFO:root:Evaluating accuracy on dev set\n",
      "INFO:root:Train loss: 0.5953145234481149 - acc: 0.7352305384953118 -- Validation loss: 0.6100021856171745 - acc: 0.49600605137119896\n",
      " 63%|██████▎   | 19/30 [00:53<00:30,  2.82s/it]"
     ]
    },
    {
     "name": "stdout",
     "output_type": "stream",
     "text": [
      "Epoch : 19 , Loss : 0.5953145234481149\n",
      "Epoch : 19, Validation Iteration : 1 , Loss : 0.6130486130714417\n",
      "Epoch : 19, Validation Loss : 0.6100021856171745\n",
      "Epoch : 20, Iteration : 1 , Loss : 0.5936703681945801\n",
      "Epoch : 20, Iteration : 11 , Loss : 0.5999885201454163\n",
      "Epoch : 20, Iteration : 21 , Loss : 0.5965263843536377\n",
      "Epoch : 20, Iteration : 31 , Loss : 0.5979300141334534\n",
      "Epoch : 20, Iteration : 41 , Loss : 0.5881566405296326\n",
      "Epoch : 20, Iteration : 51 , Loss : 0.5930334329605103\n",
      "Epoch : 20, Iteration : 61 , Loss : 0.5905009508132935\n"
     ]
    },
    {
     "name": "stderr",
     "output_type": "stream",
     "text": [
      "INFO:root:Evaluating accuracy on dev set\n",
      "INFO:root:Train loss: 0.5938941654951676 - acc: 0.7480974090636707 -- Validation loss: 0.6076539584568569 - acc: 0.4989929506524333\n",
      " 67%|██████▋   | 20/30 [00:56<00:28,  2.81s/it]"
     ]
    },
    {
     "name": "stdout",
     "output_type": "stream",
     "text": [
      "Epoch : 20 , Loss : 0.5938941654951676\n",
      "Epoch : 20, Validation Iteration : 1 , Loss : 0.6107791066169739\n",
      "Epoch : 20, Validation Loss : 0.6076539584568569\n",
      "Epoch : 21, Iteration : 1 , Loss : 0.5902113914489746\n",
      "Epoch : 21, Iteration : 11 , Loss : 0.5948535203933716\n",
      "Epoch : 21, Iteration : 21 , Loss : 0.594241201877594\n",
      "Epoch : 21, Iteration : 31 , Loss : 0.5975693464279175\n",
      "Epoch : 21, Iteration : 41 , Loss : 0.5871082544326782\n",
      "Epoch : 21, Iteration : 51 , Loss : 0.5928957462310791\n",
      "Epoch : 21, Iteration : 61 , Loss : 0.5911201238632202\n"
     ]
    },
    {
     "name": "stderr",
     "output_type": "stream",
     "text": [
      "INFO:root:Evaluating accuracy on dev set\n",
      "INFO:root:Train loss: 0.5920091098633365 - acc: 0.7573099352703295 -- Validation loss: 0.6050718682152885 - acc: 0.5075103219407824\n",
      " 70%|███████   | 21/30 [00:59<00:25,  2.81s/it]"
     ]
    },
    {
     "name": "stdout",
     "output_type": "stream",
     "text": [
      "Epoch : 21 , Loss : 0.5920091098633365\n",
      "Epoch : 21, Validation Iteration : 1 , Loss : 0.606974720954895\n",
      "Epoch : 21, Validation Loss : 0.6050718682152885\n",
      "Epoch : 22, Iteration : 1 , Loss : 0.5880768299102783\n",
      "Epoch : 22, Iteration : 11 , Loss : 0.592421293258667\n",
      "Epoch : 22, Iteration : 21 , Loss : 0.5925543904304504\n",
      "Epoch : 22, Iteration : 31 , Loss : 0.5959728956222534\n",
      "Epoch : 22, Iteration : 41 , Loss : 0.5872533321380615\n",
      "Epoch : 22, Iteration : 51 , Loss : 0.5944415330886841\n",
      "Epoch : 22, Iteration : 61 , Loss : 0.5898593664169312\n"
     ]
    },
    {
     "name": "stderr",
     "output_type": "stream",
     "text": [
      "INFO:root:Evaluating accuracy on dev set\n",
      "INFO:root:Train loss: 0.5905887398166932 - acc: 0.7625246822679107 -- Validation loss: 0.6063625727381025 - acc: 0.5026037463933614\n",
      " 73%|███████▎  | 22/30 [01:02<00:22,  2.81s/it]"
     ]
    },
    {
     "name": "stdout",
     "output_type": "stream",
     "text": [
      "Epoch : 22 , Loss : 0.5905887398166932\n",
      "Epoch : 22, Validation Iteration : 1 , Loss : 0.6087456941604614\n",
      "Epoch : 22, Validation Loss : 0.6063625727381025\n",
      "Epoch : 23, Iteration : 1 , Loss : 0.5874315500259399\n",
      "Epoch : 23, Iteration : 11 , Loss : 0.5933334827423096\n",
      "Epoch : 23, Iteration : 21 , Loss : 0.5902372598648071\n",
      "Epoch : 23, Iteration : 31 , Loss : 0.5961474180221558\n",
      "Epoch : 23, Iteration : 41 , Loss : 0.5868902206420898\n",
      "Epoch : 23, Iteration : 51 , Loss : 0.5925577878952026\n",
      "Epoch : 23, Iteration : 61 , Loss : 0.5887390375137329\n"
     ]
    },
    {
     "name": "stderr",
     "output_type": "stream",
     "text": [
      "INFO:root:Evaluating accuracy on dev set\n",
      "INFO:root:Train loss: 0.5899652907813805 - acc: 0.7711548489879739 -- Validation loss: 0.6055977089064462 - acc: 0.500225952634512\n",
      " 77%|███████▋  | 23/30 [01:05<00:19,  2.83s/it]"
     ]
    },
    {
     "name": "stdout",
     "output_type": "stream",
     "text": [
      "Epoch : 23 , Loss : 0.5899652907813805\n",
      "Epoch : 23, Validation Iteration : 1 , Loss : 0.6050968170166016\n",
      "Epoch : 23, Validation Loss : 0.6055977089064462\n",
      "Epoch : 24, Iteration : 1 , Loss : 0.5886865258216858\n",
      "Epoch : 24, Iteration : 11 , Loss : 0.5910188555717468\n",
      "Epoch : 24, Iteration : 21 , Loss : 0.5904968976974487\n",
      "Epoch : 24, Iteration : 31 , Loss : 0.5946671366691589\n",
      "Epoch : 24, Iteration : 41 , Loss : 0.5867912173271179\n",
      "Epoch : 24, Iteration : 51 , Loss : 0.5915340781211853\n",
      "Epoch : 24, Iteration : 61 , Loss : 0.5878932476043701\n"
     ]
    },
    {
     "name": "stderr",
     "output_type": "stream",
     "text": [
      "INFO:root:Evaluating accuracy on dev set\n",
      "INFO:root:Train loss: 0.5892427814179573 - acc: 0.7731395932474416 -- Validation loss: 0.6057097230638776 - acc: 0.4915934663589634\n",
      " 80%|████████  | 24/30 [01:07<00:16,  2.82s/it]"
     ]
    },
    {
     "name": "stdout",
     "output_type": "stream",
     "text": [
      "Epoch : 24 , Loss : 0.5892427814179573\n",
      "Epoch : 24, Validation Iteration : 1 , Loss : 0.60589599609375\n",
      "Epoch : 24, Validation Loss : 0.6057097230638776\n",
      "Epoch : 25, Iteration : 1 , Loss : 0.5883320569992065\n",
      "Epoch : 25, Iteration : 11 , Loss : 0.5901433229446411\n",
      "Epoch : 25, Iteration : 21 , Loss : 0.5902228355407715\n",
      "Epoch : 25, Iteration : 31 , Loss : 0.5928493738174438\n",
      "Epoch : 25, Iteration : 41 , Loss : 0.5872287750244141\n",
      "Epoch : 25, Iteration : 51 , Loss : 0.591891884803772\n",
      "Epoch : 25, Iteration : 61 , Loss : 0.5878332853317261\n"
     ]
    },
    {
     "name": "stderr",
     "output_type": "stream",
     "text": [
      "INFO:root:Evaluating accuracy on dev set\n",
      "INFO:root:Train loss: 0.5885690303816311 - acc: 0.7702150783449574 -- Validation loss: 0.6060529266084943 - acc: 0.48091889375235164\n",
      " 83%|████████▎ | 25/30 [01:10<00:14,  2.81s/it]"
     ]
    },
    {
     "name": "stdout",
     "output_type": "stream",
     "text": [
      "Epoch : 25 , Loss : 0.5885690303816311\n",
      "Epoch : 25, Validation Iteration : 1 , Loss : 0.6069949269294739\n",
      "Epoch : 25, Validation Loss : 0.6060529266084943\n",
      "Epoch : 26, Iteration : 1 , Loss : 0.5849664807319641\n",
      "Epoch : 26, Iteration : 11 , Loss : 0.5906947255134583\n",
      "Epoch : 26, Iteration : 21 , Loss : 0.5893057584762573\n",
      "Epoch : 26, Iteration : 31 , Loss : 0.5927624702453613\n",
      "Epoch : 26, Iteration : 41 , Loss : 0.5848986506462097\n",
      "Epoch : 26, Iteration : 51 , Loss : 0.5909450054168701\n",
      "Epoch : 26, Iteration : 61 , Loss : 0.5861244201660156\n"
     ]
    },
    {
     "name": "stderr",
     "output_type": "stream",
     "text": [
      "INFO:root:Evaluating accuracy on dev set\n",
      "INFO:root:Train loss: 0.5878131285957668 - acc: 0.7751332016139582 -- Validation loss: 0.6044535211154393 - acc: 0.4964125009742583\n",
      " 87%|████████▋ | 26/30 [01:13<00:11,  2.81s/it]"
     ]
    },
    {
     "name": "stdout",
     "output_type": "stream",
     "text": [
      "Epoch : 26 , Loss : 0.5878131285957668\n",
      "Epoch : 26, Validation Iteration : 1 , Loss : 0.6067456603050232\n",
      "Epoch : 26, Validation Loss : 0.6044535211154393\n",
      "Epoch : 27, Iteration : 1 , Loss : 0.5837578773498535\n",
      "Epoch : 27, Iteration : 11 , Loss : 0.5904054641723633\n",
      "Epoch : 27, Iteration : 21 , Loss : 0.5893012881278992\n",
      "Epoch : 27, Iteration : 31 , Loss : 0.5924065113067627\n",
      "Epoch : 27, Iteration : 41 , Loss : 0.5830978155136108\n",
      "Epoch : 27, Iteration : 51 , Loss : 0.5896763801574707\n",
      "Epoch : 27, Iteration : 61 , Loss : 0.5864614248275757\n"
     ]
    },
    {
     "name": "stderr",
     "output_type": "stream",
     "text": [
      "INFO:root:Evaluating accuracy on dev set\n",
      "INFO:root:Train loss: 0.5873478365981061 - acc: 0.7788730662431923 -- Validation loss: 0.6075323905263629 - acc: 0.4813266149744556\n",
      " 90%|█████████ | 27/30 [01:16<00:08,  2.80s/it]"
     ]
    },
    {
     "name": "stdout",
     "output_type": "stream",
     "text": [
      "Epoch : 27 , Loss : 0.5873478365981061\n",
      "Epoch : 27, Validation Iteration : 1 , Loss : 0.6113594174385071\n",
      "Epoch : 27, Validation Loss : 0.6075323905263629\n",
      "Epoch : 28, Iteration : 1 , Loss : 0.5838353633880615\n",
      "Epoch : 28, Iteration : 11 , Loss : 0.5893428325653076\n",
      "Epoch : 28, Iteration : 21 , Loss : 0.5877704620361328\n",
      "Epoch : 28, Iteration : 31 , Loss : 0.5925737619400024\n",
      "Epoch : 28, Iteration : 41 , Loss : 0.5833624601364136\n",
      "Epoch : 28, Iteration : 51 , Loss : 0.5897178053855896\n",
      "Epoch : 28, Iteration : 61 , Loss : 0.5878880023956299\n"
     ]
    },
    {
     "name": "stderr",
     "output_type": "stream",
     "text": [
      "INFO:root:Evaluating accuracy on dev set\n",
      "INFO:root:new model saved\n",
      "INFO:root:Train loss: 0.5870510261991749 - acc: 0.7843564585061683 -- Validation loss: 0.6050018497875759 - acc: 0.5121114412082161\n",
      " 93%|█████████▎| 28/30 [01:19<00:05,  2.81s/it]"
     ]
    },
    {
     "name": "stdout",
     "output_type": "stream",
     "text": [
      "Epoch : 28 , Loss : 0.5870510261991749\n",
      "Epoch : 28, Validation Iteration : 1 , Loss : 0.6075608730316162\n",
      "Epoch : 28, Validation Loss : 0.6050018497875759\n",
      "Epoch : 29, Iteration : 1 , Loss : 0.5832313299179077\n",
      "Epoch : 29, Iteration : 11 , Loss : 0.5894775390625\n",
      "Epoch : 29, Iteration : 21 , Loss : 0.5873546600341797\n",
      "Epoch : 29, Iteration : 31 , Loss : 0.5932446718215942\n",
      "Epoch : 29, Iteration : 41 , Loss : 0.5839501619338989\n",
      "Epoch : 29, Iteration : 51 , Loss : 0.5903667211532593\n",
      "Epoch : 29, Iteration : 61 , Loss : 0.5869755744934082\n"
     ]
    },
    {
     "name": "stderr",
     "output_type": "stream",
     "text": [
      "INFO:root:Evaluating accuracy on dev set\n",
      "INFO:root:Train loss: 0.5872970638067826 - acc: 0.7877416305071478 -- Validation loss: 0.6034179755619594 - acc: 0.5087190293063764\n",
      " 97%|█████████▋| 29/30 [01:21<00:02,  2.81s/it]"
     ]
    },
    {
     "name": "stdout",
     "output_type": "stream",
     "text": [
      "Epoch : 29 , Loss : 0.5872970638067826\n",
      "Epoch : 29, Validation Iteration : 1 , Loss : 0.6085140705108643\n",
      "Epoch : 29, Validation Loss : 0.6034179755619594\n",
      "Epoch : 30, Iteration : 1 , Loss : 0.5817150473594666\n",
      "Epoch : 30, Iteration : 11 , Loss : 0.5895006060600281\n",
      "Epoch : 30, Iteration : 21 , Loss : 0.5888566374778748\n",
      "Epoch : 30, Iteration : 31 , Loss : 0.5926579236984253\n",
      "Epoch : 30, Iteration : 41 , Loss : 0.5842422246932983\n",
      "Epoch : 30, Iteration : 51 , Loss : 0.590125560760498\n",
      "Epoch : 30, Iteration : 61 , Loss : 0.5863242149353027\n"
     ]
    },
    {
     "name": "stderr",
     "output_type": "stream",
     "text": [
      "INFO:root:Evaluating accuracy on dev set\n",
      "INFO:root:Train loss: 0.5870713211488032 - acc: 0.7904354741115709 -- Validation loss: 0.6031691176550729 - acc: 0.5071430917461526\n",
      "100%|██████████| 30/30 [01:24<00:00,  2.82s/it]\n"
     ]
    },
    {
     "name": "stdout",
     "output_type": "stream",
     "text": [
      "Epoch : 30 , Loss : 0.5870713211488032\n",
      "Epoch : 30, Validation Iteration : 1 , Loss : 0.6067124605178833\n",
      "Epoch : 30, Validation Loss : 0.6031691176550729\n"
     ]
    },
    {
     "name": "stderr",
     "output_type": "stream",
     "text": [
      "\r",
      "  0%|          | 0/30 [00:00<?, ?it/s]"
     ]
    },
    {
     "name": "stdout",
     "output_type": "stream",
     "text": [
      "Epoch : 1, Iteration : 1 , Loss : 1.1943488121032715\n",
      "Epoch : 1, Iteration : 11 , Loss : 1.147782802581787\n",
      "Epoch : 1, Iteration : 21 , Loss : 1.124114751815796\n",
      "Epoch : 1, Iteration : 31 , Loss : 1.1575429439544678\n",
      "Epoch : 1, Iteration : 41 , Loss : 1.1524858474731445\n",
      "Epoch : 1, Iteration : 51 , Loss : 1.1228002309799194\n",
      "Epoch : 1, Iteration : 61 , Loss : 1.1140947341918945\n"
     ]
    },
    {
     "name": "stderr",
     "output_type": "stream",
     "text": [
      "INFO:root:Evaluating accuracy on dev set\n",
      "INFO:root:new model saved\n",
      "INFO:root:Train loss: 1.1404451425524726 - acc: 0.38312901938902744 -- Validation loss: 1.1279945543834142 - acc: 0.4710912863567914\n",
      "  3%|▎         | 1/30 [00:02<01:22,  2.84s/it]"
     ]
    },
    {
     "name": "stdout",
     "output_type": "stream",
     "text": [
      "Epoch : 1 , Loss : 1.1404451425524726\n",
      "Epoch : 1, Validation Iteration : 1 , Loss : 1.1239709854125977\n",
      "Epoch : 1, Validation Loss : 1.1279945543834142\n",
      "Epoch : 2, Iteration : 1 , Loss : 1.1167867183685303\n",
      "Epoch : 2, Iteration : 11 , Loss : 1.1325230598449707\n",
      "Epoch : 2, Iteration : 21 , Loss : 1.109162449836731\n",
      "Epoch : 2, Iteration : 31 , Loss : 1.1145265102386475\n",
      "Epoch : 2, Iteration : 41 , Loss : 1.1017894744873047\n",
      "Epoch : 2, Iteration : 51 , Loss : 1.091746211051941\n",
      "Epoch : 2, Iteration : 61 , Loss : 1.0796486139297485\n"
     ]
    },
    {
     "name": "stderr",
     "output_type": "stream",
     "text": [
      "INFO:root:Evaluating accuracy on dev set\n",
      "INFO:root:new model saved\n",
      "INFO:root:Train loss: 1.1051635465760161 - acc: 0.5701270399099472 -- Validation loss: 1.09077330998012 - acc: 0.528464796758939\n",
      "  7%|▋         | 2/30 [00:05<01:19,  2.85s/it]"
     ]
    },
    {
     "name": "stdout",
     "output_type": "stream",
     "text": [
      "Epoch : 2 , Loss : 1.1051635465760161\n",
      "Epoch : 2, Validation Iteration : 1 , Loss : 1.0898942947387695\n",
      "Epoch : 2, Validation Loss : 1.09077330998012\n",
      "Epoch : 3, Iteration : 1 , Loss : 1.0831265449523926\n",
      "Epoch : 3, Iteration : 11 , Loss : 1.0863299369812012\n",
      "Epoch : 3, Iteration : 21 , Loss : 1.0775864124298096\n",
      "Epoch : 3, Iteration : 31 , Loss : 1.0815434455871582\n",
      "Epoch : 3, Iteration : 41 , Loss : 1.0679678916931152\n",
      "Epoch : 3, Iteration : 51 , Loss : 1.0671483278274536\n",
      "Epoch : 3, Iteration : 61 , Loss : 1.0507758855819702\n"
     ]
    },
    {
     "name": "stderr",
     "output_type": "stream",
     "text": [
      "INFO:root:Evaluating accuracy on dev set\n",
      "INFO:root:new model saved\n",
      "INFO:root:Train loss: 1.0723347750262937 - acc: 0.6404200085629108 -- Validation loss: 1.055512513433184 - acc: 0.5399119113988315\n",
      " 10%|█         | 3/30 [00:08<01:16,  2.85s/it]"
     ]
    },
    {
     "name": "stdout",
     "output_type": "stream",
     "text": [
      "Epoch : 3 , Loss : 1.0723347750262937\n",
      "Epoch : 3, Validation Iteration : 1 , Loss : 1.0569076538085938\n",
      "Epoch : 3, Validation Loss : 1.055512513433184\n",
      "Epoch : 4, Iteration : 1 , Loss : 1.043938398361206\n",
      "Epoch : 4, Iteration : 11 , Loss : 1.0419747829437256\n",
      "Epoch : 4, Iteration : 21 , Loss : 1.0186583995819092\n",
      "Epoch : 4, Iteration : 31 , Loss : 0.9991768598556519\n",
      "Epoch : 4, Iteration : 41 , Loss : 0.9603956937789917\n",
      "Epoch : 4, Iteration : 51 , Loss : 0.9323444366455078\n",
      "Epoch : 4, Iteration : 61 , Loss : 0.876099705696106\n"
     ]
    },
    {
     "name": "stderr",
     "output_type": "stream",
     "text": [
      "INFO:root:Evaluating accuracy on dev set\n",
      "INFO:root:Train loss: 0.969107108703558 - acc: 0.6694685959862929 -- Validation loss: 0.8446051478385925 - acc: 0.5339649506909366\n",
      " 13%|█▎        | 4/30 [00:11<01:13,  2.81s/it]"
     ]
    },
    {
     "name": "stdout",
     "output_type": "stream",
     "text": [
      "Epoch : 4 , Loss : 0.969107108703558\n",
      "Epoch : 4, Validation Iteration : 1 , Loss : 0.8496062159538269\n",
      "Epoch : 4, Validation Loss : 0.8446051478385925\n",
      "Epoch : 5, Iteration : 1 , Loss : 0.8329969048500061\n",
      "Epoch : 5, Iteration : 11 , Loss : 0.7936261296272278\n",
      "Epoch : 5, Iteration : 21 , Loss : 0.750450611114502\n",
      "Epoch : 5, Iteration : 31 , Loss : 0.7243533730506897\n",
      "Epoch : 5, Iteration : 41 , Loss : 0.694879949092865\n",
      "Epoch : 5, Iteration : 51 , Loss : 0.6858440637588501\n",
      "Epoch : 5, Iteration : 61 , Loss : 0.6656567454338074\n"
     ]
    },
    {
     "name": "stderr",
     "output_type": "stream",
     "text": [
      "INFO:root:Evaluating accuracy on dev set\n",
      "INFO:root:new model saved\n",
      "INFO:root:Train loss: 0.7240978755812714 - acc: 0.687372752208717 -- Validation loss: 0.6581555690084185 - acc: 0.5445196564707612\n",
      " 17%|█▋        | 5/30 [00:14<01:10,  2.81s/it]"
     ]
    },
    {
     "name": "stdout",
     "output_type": "stream",
     "text": [
      "Epoch : 5 , Loss : 0.7240978755812714\n",
      "Epoch : 5, Validation Iteration : 1 , Loss : 0.6584804058074951\n",
      "Epoch : 5, Validation Loss : 0.6581555690084185\n",
      "Epoch : 6, Iteration : 1 , Loss : 0.643785834312439\n",
      "Epoch : 6, Iteration : 11 , Loss : 0.6447828412055969\n",
      "Epoch : 6, Iteration : 21 , Loss : 0.6298089027404785\n",
      "Epoch : 6, Iteration : 31 , Loss : 0.6272861957550049\n",
      "Epoch : 6, Iteration : 41 , Loss : 0.6183760762214661\n",
      "Epoch : 6, Iteration : 51 , Loss : 0.6221625208854675\n",
      "Epoch : 6, Iteration : 61 , Loss : 0.6190921068191528\n"
     ]
    },
    {
     "name": "stderr",
     "output_type": "stream",
     "text": [
      "INFO:root:Evaluating accuracy on dev set\n",
      "INFO:root:new model saved\n",
      "INFO:root:Train loss: 0.6267410508100537 - acc: 0.7075635889528217 -- Validation loss: 0.6226394772529602 - acc: 0.556180001546245\n",
      " 20%|██        | 6/30 [00:16<01:07,  2.81s/it]"
     ]
    },
    {
     "name": "stdout",
     "output_type": "stream",
     "text": [
      "Epoch : 6 , Loss : 0.6267410508100537\n",
      "Epoch : 6, Validation Iteration : 1 , Loss : 0.6234040260314941\n",
      "Epoch : 6, Validation Loss : 0.6226394772529602\n",
      "Epoch : 7, Iteration : 1 , Loss : 0.6099483966827393\n",
      "Epoch : 7, Iteration : 11 , Loss : 0.6172590851783752\n",
      "Epoch : 7, Iteration : 21 , Loss : 0.6123716831207275\n",
      "Epoch : 7, Iteration : 31 , Loss : 0.611962080001831\n",
      "Epoch : 7, Iteration : 41 , Loss : 0.6039186120033264\n",
      "Epoch : 7, Iteration : 51 , Loss : 0.6054258346557617\n",
      "Epoch : 7, Iteration : 61 , Loss : 0.6043294668197632\n"
     ]
    },
    {
     "name": "stderr",
     "output_type": "stream",
     "text": [
      "INFO:root:Evaluating accuracy on dev set\n",
      "INFO:root:new model saved\n",
      "INFO:root:Train loss: 0.6083760434302731 - acc: 0.7165908631240658 -- Validation loss: 0.6101630244936261 - acc: 0.5652095676003135\n",
      " 23%|██▎       | 7/30 [00:19<01:04,  2.81s/it]"
     ]
    },
    {
     "name": "stdout",
     "output_type": "stream",
     "text": [
      "Epoch : 7 , Loss : 0.6083760434302731\n",
      "Epoch : 7, Validation Iteration : 1 , Loss : 0.6096246242523193\n",
      "Epoch : 7, Validation Loss : 0.6101630244936261\n",
      "Epoch : 8, Iteration : 1 , Loss : 0.5967925786972046\n",
      "Epoch : 8, Iteration : 11 , Loss : 0.6042077541351318\n",
      "Epoch : 8, Iteration : 21 , Loss : 0.6007057428359985\n",
      "Epoch : 8, Iteration : 31 , Loss : 0.6021850109100342\n",
      "Epoch : 8, Iteration : 41 , Loss : 0.5923720598220825\n",
      "Epoch : 8, Iteration : 51 , Loss : 0.5996899604797363\n",
      "Epoch : 8, Iteration : 61 , Loss : 0.5918961763381958\n"
     ]
    },
    {
     "name": "stderr",
     "output_type": "stream",
     "text": [
      "INFO:root:Evaluating accuracy on dev set\n",
      "INFO:root:new model saved\n",
      "INFO:root:Train loss: 0.5977713353392007 - acc: 0.7332745627722854 -- Validation loss: 0.600825582231794 - acc: 0.5676156716147358\n",
      " 27%|██▋       | 8/30 [00:22<01:01,  2.81s/it]"
     ]
    },
    {
     "name": "stdout",
     "output_type": "stream",
     "text": [
      "Epoch : 8 , Loss : 0.5977713353392007\n",
      "Epoch : 8, Validation Iteration : 1 , Loss : 0.5989992618560791\n",
      "Epoch : 8, Validation Loss : 0.600825582231794\n",
      "Epoch : 9, Iteration : 1 , Loss : 0.5865753889083862\n",
      "Epoch : 9, Iteration : 11 , Loss : 0.5983408689498901\n",
      "Epoch : 9, Iteration : 21 , Loss : 0.591909646987915\n",
      "Epoch : 9, Iteration : 31 , Loss : 0.5932332873344421\n",
      "Epoch : 9, Iteration : 41 , Loss : 0.5829097628593445\n",
      "Epoch : 9, Iteration : 51 , Loss : 0.5896397233009338\n",
      "Epoch : 9, Iteration : 61 , Loss : 0.5846163034439087\n"
     ]
    },
    {
     "name": "stderr",
     "output_type": "stream",
     "text": [
      "INFO:root:Evaluating accuracy on dev set\n",
      "INFO:root:Train loss: 0.5887967486312424 - acc: 0.7457792180881021 -- Validation loss: 0.595060910497393 - acc: 0.5578707863843957\n",
      " 30%|███       | 9/30 [00:25<00:58,  2.79s/it]"
     ]
    },
    {
     "name": "stdout",
     "output_type": "stream",
     "text": [
      "Epoch : 9 , Loss : 0.5887967486312424\n",
      "Epoch : 9, Validation Iteration : 1 , Loss : 0.5945179462432861\n",
      "Epoch : 9, Validation Loss : 0.595060910497393\n",
      "Epoch : 10, Iteration : 1 , Loss : 0.5791029930114746\n",
      "Epoch : 10, Iteration : 11 , Loss : 0.5939394235610962\n",
      "Epoch : 10, Iteration : 21 , Loss : 0.5860686302185059\n",
      "Epoch : 10, Iteration : 31 , Loss : 0.5876420736312866\n",
      "Epoch : 10, Iteration : 41 , Loss : 0.5786087512969971\n",
      "Epoch : 10, Iteration : 51 , Loss : 0.5868068933486938\n",
      "Epoch : 10, Iteration : 61 , Loss : 0.5819336771965027\n"
     ]
    },
    {
     "name": "stderr",
     "output_type": "stream",
     "text": [
      "INFO:root:Evaluating accuracy on dev set\n",
      "INFO:root:Train loss: 0.5842144584310227 - acc: 0.7540781564554038 -- Validation loss: 0.5930978826114109 - acc: 0.5563133876912965\n",
      " 33%|███▎      | 10/30 [00:28<00:55,  2.78s/it]"
     ]
    },
    {
     "name": "stdout",
     "output_type": "stream",
     "text": [
      "Epoch : 10 , Loss : 0.5842144584310227\n",
      "Epoch : 10, Validation Iteration : 1 , Loss : 0.5915288925170898\n",
      "Epoch : 10, Validation Loss : 0.5930978826114109\n",
      "Epoch : 11, Iteration : 1 , Loss : 0.5779555439949036\n",
      "Epoch : 11, Iteration : 11 , Loss : 0.5907512903213501\n",
      "Epoch : 11, Iteration : 21 , Loss : 0.5848832726478577\n",
      "Epoch : 11, Iteration : 31 , Loss : 0.5872561931610107\n",
      "Epoch : 11, Iteration : 41 , Loss : 0.5779937505722046\n",
      "Epoch : 11, Iteration : 51 , Loss : 0.5854126214981079\n",
      "Epoch : 11, Iteration : 61 , Loss : 0.5807523727416992\n"
     ]
    },
    {
     "name": "stderr",
     "output_type": "stream",
     "text": [
      "INFO:root:Evaluating accuracy on dev set\n",
      "INFO:root:Train loss: 0.5829651796299479 - acc: 0.755951761199992 -- Validation loss: 0.592835545539856 - acc: 0.5553444809065954\n",
      " 37%|███▋      | 11/30 [00:30<00:52,  2.78s/it]"
     ]
    },
    {
     "name": "stdout",
     "output_type": "stream",
     "text": [
      "Epoch : 11 , Loss : 0.5829651796299479\n",
      "Epoch : 11, Validation Iteration : 1 , Loss : 0.5918500423431396\n",
      "Epoch : 11, Validation Loss : 0.592835545539856\n",
      "Epoch : 12, Iteration : 1 , Loss : 0.5774794816970825\n",
      "Epoch : 12, Iteration : 11 , Loss : 0.5885797142982483\n",
      "Epoch : 12, Iteration : 21 , Loss : 0.5831068158149719\n",
      "Epoch : 12, Iteration : 31 , Loss : 0.5857065320014954\n",
      "Epoch : 12, Iteration : 41 , Loss : 0.5776175260543823\n",
      "Epoch : 12, Iteration : 51 , Loss : 0.5848246812820435\n",
      "Epoch : 12, Iteration : 61 , Loss : 0.5829232335090637\n"
     ]
    },
    {
     "name": "stderr",
     "output_type": "stream",
     "text": [
      "INFO:root:Evaluating accuracy on dev set\n",
      "INFO:root:Train loss: 0.5819254413894985 - acc: 0.7617504721663939 -- Validation loss: 0.5924577031816755 - acc: 0.5600389637828332\n",
      " 40%|████      | 12/30 [00:33<00:49,  2.77s/it]"
     ]
    },
    {
     "name": "stdout",
     "output_type": "stream",
     "text": [
      "Epoch : 12 , Loss : 0.5819254413894985\n",
      "Epoch : 12, Validation Iteration : 1 , Loss : 0.5912374258041382\n",
      "Epoch : 12, Validation Loss : 0.5924577031816755\n",
      "Epoch : 13, Iteration : 1 , Loss : 0.5767651200294495\n",
      "Epoch : 13, Iteration : 11 , Loss : 0.5870718955993652\n",
      "Epoch : 13, Iteration : 21 , Loss : 0.5814633369445801\n",
      "Epoch : 13, Iteration : 31 , Loss : 0.5858219861984253\n",
      "Epoch : 13, Iteration : 41 , Loss : 0.5765979886054993\n",
      "Epoch : 13, Iteration : 51 , Loss : 0.5833393335342407\n",
      "Epoch : 13, Iteration : 61 , Loss : 0.5807657241821289\n"
     ]
    },
    {
     "name": "stderr",
     "output_type": "stream",
     "text": [
      "INFO:root:Evaluating accuracy on dev set\n",
      "INFO:root:Train loss: 0.5811611621276193 - acc: 0.7684870364570142 -- Validation loss: 0.5917749915804181 - acc: 0.5596968313325056\n",
      " 43%|████▎     | 13/30 [00:36<00:47,  2.77s/it]"
     ]
    },
    {
     "name": "stdout",
     "output_type": "stream",
     "text": [
      "Epoch : 13 , Loss : 0.5811611621276193\n",
      "Epoch : 13, Validation Iteration : 1 , Loss : 0.5911048054695129\n",
      "Epoch : 13, Validation Loss : 0.5917749915804181\n",
      "Epoch : 14, Iteration : 1 , Loss : 0.5780264139175415\n",
      "Epoch : 14, Iteration : 11 , Loss : 0.5852376818656921\n",
      "Epoch : 14, Iteration : 21 , Loss : 0.581243097782135\n",
      "Epoch : 14, Iteration : 31 , Loss : 0.5841177105903625\n",
      "Epoch : 14, Iteration : 41 , Loss : 0.5761332511901855\n",
      "Epoch : 14, Iteration : 51 , Loss : 0.5841808319091797\n",
      "Epoch : 14, Iteration : 61 , Loss : 0.581052303314209\n"
     ]
    },
    {
     "name": "stderr",
     "output_type": "stream",
     "text": [
      "INFO:root:Evaluating accuracy on dev set\n",
      "INFO:root:Train loss: 0.5805772352909696 - acc: 0.7710800713479042 -- Validation loss: 0.5913537229810443 - acc: 0.5659206034282243\n",
      " 47%|████▋     | 14/30 [00:39<00:44,  2.76s/it]"
     ]
    },
    {
     "name": "stdout",
     "output_type": "stream",
     "text": [
      "Epoch : 14 , Loss : 0.5805772352909696\n",
      "Epoch : 14, Validation Iteration : 1 , Loss : 0.5918912887573242\n",
      "Epoch : 14, Validation Loss : 0.5913537229810443\n",
      "Epoch : 15, Iteration : 1 , Loss : 0.575756311416626\n",
      "Epoch : 15, Iteration : 11 , Loss : 0.5834906697273254\n",
      "Epoch : 15, Iteration : 21 , Loss : 0.5816961526870728\n",
      "Epoch : 15, Iteration : 31 , Loss : 0.5855422019958496\n",
      "Epoch : 15, Iteration : 41 , Loss : 0.5760221481323242\n",
      "Epoch : 15, Iteration : 51 , Loss : 0.5828602313995361\n",
      "Epoch : 15, Iteration : 61 , Loss : 0.5798240303993225\n"
     ]
    },
    {
     "name": "stderr",
     "output_type": "stream",
     "text": [
      "INFO:root:Evaluating accuracy on dev set\n",
      "INFO:root:Train loss: 0.5798688375431559 - acc: 0.7771517396238086 -- Validation loss: 0.5909517322267804 - acc: 0.5641092155627868\n",
      " 50%|█████     | 15/30 [00:41<00:41,  2.75s/it]"
     ]
    },
    {
     "name": "stdout",
     "output_type": "stream",
     "text": [
      "Epoch : 15 , Loss : 0.5798688375431559\n",
      "Epoch : 15, Validation Iteration : 1 , Loss : 0.5893958806991577\n",
      "Epoch : 15, Validation Loss : 0.5909517322267804\n",
      "Epoch : 16, Iteration : 1 , Loss : 0.5759680271148682\n",
      "Epoch : 16, Iteration : 11 , Loss : 0.5832496881484985\n",
      "Epoch : 16, Iteration : 21 , Loss : 0.5802052021026611\n",
      "Epoch : 16, Iteration : 31 , Loss : 0.5841984748840332\n",
      "Epoch : 16, Iteration : 41 , Loss : 0.576423168182373\n",
      "Epoch : 16, Iteration : 51 , Loss : 0.5832136869430542\n",
      "Epoch : 16, Iteration : 61 , Loss : 0.5796496868133545\n"
     ]
    },
    {
     "name": "stderr",
     "output_type": "stream",
     "text": [
      "INFO:root:Evaluating accuracy on dev set\n",
      "INFO:root:Train loss: 0.5792019073513971 - acc: 0.781392628732521 -- Validation loss: 0.5904394813946315 - acc: 0.5639408933576667\n",
      " 53%|█████▎    | 16/30 [00:44<00:38,  2.75s/it]"
     ]
    },
    {
     "name": "stdout",
     "output_type": "stream",
     "text": [
      "Epoch : 16 , Loss : 0.5792019073513971\n",
      "Epoch : 16, Validation Iteration : 1 , Loss : 0.5901894569396973\n",
      "Epoch : 16, Validation Loss : 0.5904394813946315\n",
      "Epoch : 17, Iteration : 1 , Loss : 0.5746867656707764\n",
      "Epoch : 17, Iteration : 11 , Loss : 0.581814169883728\n",
      "Epoch : 17, Iteration : 21 , Loss : 0.5806999206542969\n",
      "Epoch : 17, Iteration : 31 , Loss : 0.5842666029930115\n",
      "Epoch : 17, Iteration : 41 , Loss : 0.5758475661277771\n",
      "Epoch : 17, Iteration : 51 , Loss : 0.5830985307693481\n",
      "Epoch : 17, Iteration : 61 , Loss : 0.5793309807777405\n"
     ]
    },
    {
     "name": "stderr",
     "output_type": "stream",
     "text": [
      "INFO:root:Evaluating accuracy on dev set\n",
      "INFO:root:new model saved\n",
      "INFO:root:Train loss: 0.5790814550026603 - acc: 0.7807718875350318 -- Validation loss: 0.5896634459495544 - acc: 0.5713200317464224\n",
      " 57%|█████▋    | 17/30 [00:47<00:35,  2.77s/it]"
     ]
    },
    {
     "name": "stdout",
     "output_type": "stream",
     "text": [
      "Epoch : 17 , Loss : 0.5790814550026603\n",
      "Epoch : 17, Validation Iteration : 1 , Loss : 0.5875619649887085\n",
      "Epoch : 17, Validation Loss : 0.5896634459495544\n",
      "Epoch : 18, Iteration : 1 , Loss : 0.5749449133872986\n",
      "Epoch : 18, Iteration : 11 , Loss : 0.5811095237731934\n",
      "Epoch : 18, Iteration : 21 , Loss : 0.5829250812530518\n",
      "Epoch : 18, Iteration : 31 , Loss : 0.5833301544189453\n",
      "Epoch : 18, Iteration : 41 , Loss : 0.5762877464294434\n",
      "Epoch : 18, Iteration : 51 , Loss : 0.5824801921844482\n",
      "Epoch : 18, Iteration : 61 , Loss : 0.5793910026550293\n"
     ]
    },
    {
     "name": "stderr",
     "output_type": "stream",
     "text": [
      "INFO:root:Evaluating accuracy on dev set\n",
      "INFO:root:Train loss: 0.5788948760516401 - acc: 0.7800849466093847 -- Validation loss: 0.5898301005363464 - acc: 0.564678566258197\n",
      " 60%|██████    | 18/30 [00:50<00:33,  2.77s/it]"
     ]
    },
    {
     "name": "stdout",
     "output_type": "stream",
     "text": [
      "Epoch : 18 , Loss : 0.5788948760516401\n",
      "Epoch : 18, Validation Iteration : 1 , Loss : 0.5916082859039307\n",
      "Epoch : 18, Validation Loss : 0.5898301005363464\n",
      "Epoch : 19, Iteration : 1 , Loss : 0.5741356015205383\n",
      "Epoch : 19, Iteration : 11 , Loss : 0.580599844455719\n",
      "Epoch : 19, Iteration : 21 , Loss : 0.5805040597915649\n",
      "Epoch : 19, Iteration : 31 , Loss : 0.5834387540817261\n",
      "Epoch : 19, Iteration : 41 , Loss : 0.5745120048522949\n",
      "Epoch : 19, Iteration : 51 , Loss : 0.5831324458122253\n",
      "Epoch : 19, Iteration : 61 , Loss : 0.5793176889419556\n"
     ]
    },
    {
     "name": "stderr",
     "output_type": "stream",
     "text": [
      "INFO:root:Evaluating accuracy on dev set\n",
      "INFO:root:Train loss: 0.578469857789468 - acc: 0.7833598775303275 -- Validation loss: 0.5892856546810695 - acc: 0.5706448689610341\n",
      " 63%|██████▎   | 19/30 [00:52<00:30,  2.77s/it]"
     ]
    },
    {
     "name": "stdout",
     "output_type": "stream",
     "text": [
      "Epoch : 19 , Loss : 0.578469857789468\n",
      "Epoch : 19, Validation Iteration : 1 , Loss : 0.5868532657623291\n",
      "Epoch : 19, Validation Loss : 0.5892856546810695\n",
      "Epoch : 20, Iteration : 1 , Loss : 0.5738493800163269\n",
      "Epoch : 20, Iteration : 11 , Loss : 0.5803977251052856\n",
      "Epoch : 20, Iteration : 21 , Loss : 0.5821787714958191\n",
      "Epoch : 20, Iteration : 31 , Loss : 0.5827248096466064\n",
      "Epoch : 20, Iteration : 41 , Loss : 0.5750516653060913\n",
      "Epoch : 20, Iteration : 51 , Loss : 0.5850204229354858\n",
      "Epoch : 20, Iteration : 61 , Loss : 0.5785581469535828\n"
     ]
    },
    {
     "name": "stderr",
     "output_type": "stream",
     "text": [
      "INFO:root:Evaluating accuracy on dev set\n",
      "INFO:root:new model saved\n",
      "INFO:root:Train loss: 0.5781726241111755 - acc: 0.7873873599958123 -- Validation loss: 0.589334385735648 - acc: 0.5745061736537571\n",
      " 67%|██████▋   | 20/30 [00:55<00:27,  2.78s/it]"
     ]
    },
    {
     "name": "stdout",
     "output_type": "stream",
     "text": [
      "Epoch : 20 , Loss : 0.5781726241111755\n",
      "Epoch : 20, Validation Iteration : 1 , Loss : 0.5906671285629272\n",
      "Epoch : 20, Validation Loss : 0.589334385735648\n",
      "Epoch : 21, Iteration : 1 , Loss : 0.5737545490264893\n",
      "Epoch : 21, Iteration : 11 , Loss : 0.5799409747123718\n",
      "Epoch : 21, Iteration : 21 , Loss : 0.5798243284225464\n",
      "Epoch : 21, Iteration : 31 , Loss : 0.583038330078125\n",
      "Epoch : 21, Iteration : 41 , Loss : 0.5743318796157837\n",
      "Epoch : 21, Iteration : 51 , Loss : 0.5825477838516235\n",
      "Epoch : 21, Iteration : 61 , Loss : 0.5786539316177368\n"
     ]
    },
    {
     "name": "stderr",
     "output_type": "stream",
     "text": [
      "INFO:root:Evaluating accuracy on dev set\n",
      "INFO:root:Train loss: 0.5778459379638451 - acc: 0.7904987328737025 -- Validation loss: 0.5891629457473755 - acc: 0.5720010172084886\n",
      " 70%|███████   | 21/30 [00:58<00:25,  2.78s/it]"
     ]
    },
    {
     "name": "stdout",
     "output_type": "stream",
     "text": [
      "Epoch : 21 , Loss : 0.5778459379638451\n",
      "Epoch : 21, Validation Iteration : 1 , Loss : 0.5889106392860413\n",
      "Epoch : 21, Validation Loss : 0.5891629457473755\n",
      "Epoch : 22, Iteration : 1 , Loss : 0.5723394155502319\n",
      "Epoch : 22, Iteration : 11 , Loss : 0.5798464417457581\n",
      "Epoch : 22, Iteration : 21 , Loss : 0.5779420137405396\n",
      "Epoch : 22, Iteration : 31 , Loss : 0.5833320021629333\n",
      "Epoch : 22, Iteration : 41 , Loss : 0.5740501880645752\n",
      "Epoch : 22, Iteration : 51 , Loss : 0.5808775424957275\n",
      "Epoch : 22, Iteration : 61 , Loss : 0.5789659023284912\n"
     ]
    },
    {
     "name": "stderr",
     "output_type": "stream",
     "text": [
      "INFO:root:Evaluating accuracy on dev set\n",
      "INFO:root:Train loss: 0.5775942024977311 - acc: 0.792747877496273 -- Validation loss: 0.5891429952212742 - acc: 0.5708845356872906\n",
      " 73%|███████▎  | 22/30 [01:01<00:22,  2.77s/it]"
     ]
    },
    {
     "name": "stdout",
     "output_type": "stream",
     "text": [
      "Epoch : 22 , Loss : 0.5775942024977311\n",
      "Epoch : 22, Validation Iteration : 1 , Loss : 0.5894291996955872\n",
      "Epoch : 22, Validation Loss : 0.5891429952212742\n",
      "Epoch : 23, Iteration : 1 , Loss : 0.5723617076873779\n",
      "Epoch : 23, Iteration : 11 , Loss : 0.5801870822906494\n",
      "Epoch : 23, Iteration : 21 , Loss : 0.5780428647994995\n",
      "Epoch : 23, Iteration : 31 , Loss : 0.5829733610153198\n",
      "Epoch : 23, Iteration : 41 , Loss : 0.5737967491149902\n",
      "Epoch : 23, Iteration : 51 , Loss : 0.581350564956665\n",
      "Epoch : 23, Iteration : 61 , Loss : 0.5787888169288635\n"
     ]
    },
    {
     "name": "stderr",
     "output_type": "stream",
     "text": [
      "INFO:root:Evaluating accuracy on dev set\n",
      "INFO:root:Train loss: 0.5773773193359375 - acc: 0.7944842559756843 -- Validation loss: 0.5894520112446376 - acc: 0.5715262348136092\n",
      " 77%|███████▋  | 23/30 [01:03<00:19,  2.76s/it]"
     ]
    },
    {
     "name": "stdout",
     "output_type": "stream",
     "text": [
      "Epoch : 23 , Loss : 0.5773773193359375\n",
      "Epoch : 23, Validation Iteration : 1 , Loss : 0.5886793732643127\n",
      "Epoch : 23, Validation Loss : 0.5894520112446376\n",
      "Epoch : 24, Iteration : 1 , Loss : 0.5724421739578247\n",
      "Epoch : 24, Iteration : 11 , Loss : 0.5803154110908508\n",
      "Epoch : 24, Iteration : 21 , Loss : 0.5784347057342529\n",
      "Epoch : 24, Iteration : 31 , Loss : 0.5823637247085571\n",
      "Epoch : 24, Iteration : 41 , Loss : 0.5735659599304199\n",
      "Epoch : 24, Iteration : 51 , Loss : 0.5811760425567627\n",
      "Epoch : 24, Iteration : 61 , Loss : 0.577387273311615\n"
     ]
    },
    {
     "name": "stderr",
     "output_type": "stream",
     "text": [
      "INFO:root:Evaluating accuracy on dev set\n",
      "INFO:root:Train loss: 0.5772323470184768 - acc: 0.796099008789049 -- Validation loss: 0.5896297182355609 - acc: 0.5683540137884475\n",
      " 80%|████████  | 24/30 [01:06<00:16,  2.76s/it]"
     ]
    },
    {
     "name": "stdout",
     "output_type": "stream",
     "text": [
      "Epoch : 24 , Loss : 0.5772323470184768\n",
      "Epoch : 24, Validation Iteration : 1 , Loss : 0.5893997550010681\n",
      "Epoch : 24, Validation Loss : 0.5896297182355609\n",
      "Epoch : 25, Iteration : 1 , Loss : 0.5722752809524536\n",
      "Epoch : 25, Iteration : 11 , Loss : 0.5793263912200928\n",
      "Epoch : 25, Iteration : 21 , Loss : 0.5781275033950806\n",
      "Epoch : 25, Iteration : 31 , Loss : 0.5822659730911255\n",
      "Epoch : 25, Iteration : 41 , Loss : 0.5738290548324585\n",
      "Epoch : 25, Iteration : 51 , Loss : 0.5810663104057312\n",
      "Epoch : 25, Iteration : 61 , Loss : 0.5770009160041809\n"
     ]
    },
    {
     "name": "stderr",
     "output_type": "stream",
     "text": [
      "INFO:root:Evaluating accuracy on dev set\n",
      "INFO:root:Train loss: 0.5769992669423422 - acc: 0.7991588386412446 -- Validation loss: 0.5904012152126857 - acc: 0.5625034284186731\n",
      " 83%|████████▎ | 25/30 [01:09<00:13,  2.75s/it]"
     ]
    },
    {
     "name": "stdout",
     "output_type": "stream",
     "text": [
      "Epoch : 25 , Loss : 0.5769992669423422\n",
      "Epoch : 25, Validation Iteration : 1 , Loss : 0.5902611017227173\n",
      "Epoch : 25, Validation Loss : 0.5904012152126857\n",
      "Epoch : 26, Iteration : 1 , Loss : 0.5716923475265503\n",
      "Epoch : 26, Iteration : 11 , Loss : 0.5784093141555786\n",
      "Epoch : 26, Iteration : 21 , Loss : 0.5782716274261475\n",
      "Epoch : 26, Iteration : 31 , Loss : 0.5829494595527649\n",
      "Epoch : 26, Iteration : 41 , Loss : 0.5738046765327454\n",
      "Epoch : 26, Iteration : 51 , Loss : 0.5810216069221497\n",
      "Epoch : 26, Iteration : 61 , Loss : 0.5769749879837036\n"
     ]
    },
    {
     "name": "stderr",
     "output_type": "stream",
     "text": [
      "INFO:root:Evaluating accuracy on dev set\n",
      "INFO:root:Train loss: 0.5768806908441626 - acc: 0.7998960129792122 -- Validation loss: 0.5904389449528286 - acc: 0.5686213214970953\n",
      " 87%|████████▋ | 26/30 [01:12<00:11,  2.75s/it]"
     ]
    },
    {
     "name": "stdout",
     "output_type": "stream",
     "text": [
      "Epoch : 26 , Loss : 0.5768806908441626\n",
      "Epoch : 26, Validation Iteration : 1 , Loss : 0.5908153057098389\n",
      "Epoch : 26, Validation Loss : 0.5904389449528286\n",
      "Epoch : 27, Iteration : 1 , Loss : 0.5719640254974365\n",
      "Epoch : 27, Iteration : 11 , Loss : 0.5788288116455078\n",
      "Epoch : 27, Iteration : 21 , Loss : 0.5779093503952026\n",
      "Epoch : 27, Iteration : 31 , Loss : 0.5821784734725952\n",
      "Epoch : 27, Iteration : 41 , Loss : 0.5735248327255249\n",
      "Epoch : 27, Iteration : 51 , Loss : 0.5805932283401489\n",
      "Epoch : 27, Iteration : 61 , Loss : 0.5769593715667725\n"
     ]
    },
    {
     "name": "stderr",
     "output_type": "stream",
     "text": [
      "INFO:root:Evaluating accuracy on dev set\n",
      "INFO:root:Train loss: 0.5768097250357919 - acc: 0.8011459800485824 -- Validation loss: 0.5899193372045245 - acc: 0.5619202906957262\n",
      " 90%|█████████ | 27/30 [01:14<00:08,  2.75s/it]"
     ]
    },
    {
     "name": "stdout",
     "output_type": "stream",
     "text": [
      "Epoch : 27 , Loss : 0.5768097250357919\n",
      "Epoch : 27, Validation Iteration : 1 , Loss : 0.589525043964386\n",
      "Epoch : 27, Validation Loss : 0.5899193372045245\n",
      "Epoch : 28, Iteration : 1 , Loss : 0.5719586610794067\n",
      "Epoch : 28, Iteration : 11 , Loss : 0.5785098075866699\n",
      "Epoch : 28, Iteration : 21 , Loss : 0.577335774898529\n",
      "Epoch : 28, Iteration : 31 , Loss : 0.5824052095413208\n",
      "Epoch : 28, Iteration : 41 , Loss : 0.5739351511001587\n",
      "Epoch : 28, Iteration : 51 , Loss : 0.5803665518760681\n",
      "Epoch : 28, Iteration : 61 , Loss : 0.577241063117981\n"
     ]
    },
    {
     "name": "stderr",
     "output_type": "stream",
     "text": [
      "INFO:root:Evaluating accuracy on dev set\n",
      "INFO:root:Train loss: 0.5767590913219728 - acc: 0.8014696192823727 -- Validation loss: 0.5910398619515556 - acc: 0.56764177326881\n",
      " 93%|█████████▎| 28/30 [01:17<00:05,  2.75s/it]"
     ]
    },
    {
     "name": "stdout",
     "output_type": "stream",
     "text": [
      "Epoch : 28 , Loss : 0.5767590913219728\n",
      "Epoch : 28, Validation Iteration : 1 , Loss : 0.5904884934425354\n",
      "Epoch : 28, Validation Loss : 0.5910398619515556\n",
      "Epoch : 29, Iteration : 1 , Loss : 0.5722379684448242\n",
      "Epoch : 29, Iteration : 11 , Loss : 0.5791637897491455\n",
      "Epoch : 29, Iteration : 21 , Loss : 0.5775505304336548\n",
      "Epoch : 29, Iteration : 31 , Loss : 0.5820949077606201\n",
      "Epoch : 29, Iteration : 41 , Loss : 0.5729331970214844\n",
      "Epoch : 29, Iteration : 51 , Loss : 0.5806751847267151\n",
      "Epoch : 29, Iteration : 61 , Loss : 0.5769131183624268\n"
     ]
    },
    {
     "name": "stderr",
     "output_type": "stream",
     "text": [
      "INFO:root:Evaluating accuracy on dev set\n",
      "INFO:root:Train loss: 0.5766857136850772 - acc: 0.8023746536093304 -- Validation loss: 0.5900789754731315 - acc: 0.566271904921137\n",
      " 97%|█████████▋| 29/30 [01:20<00:02,  2.76s/it]"
     ]
    },
    {
     "name": "stdout",
     "output_type": "stream",
     "text": [
      "Epoch : 29 , Loss : 0.5766857136850772\n",
      "Epoch : 29, Validation Iteration : 1 , Loss : 0.5885558128356934\n",
      "Epoch : 29, Validation Loss : 0.5900789754731315\n",
      "Epoch : 30, Iteration : 1 , Loss : 0.5718743801116943\n",
      "Epoch : 30, Iteration : 11 , Loss : 0.5794119834899902\n",
      "Epoch : 30, Iteration : 21 , Loss : 0.5774029493331909\n",
      "Epoch : 30, Iteration : 31 , Loss : 0.5819598436355591\n",
      "Epoch : 30, Iteration : 41 , Loss : 0.5730592012405396\n",
      "Epoch : 30, Iteration : 51 , Loss : 0.5809223651885986\n",
      "Epoch : 30, Iteration : 61 , Loss : 0.5771952867507935\n"
     ]
    },
    {
     "name": "stderr",
     "output_type": "stream",
     "text": [
      "INFO:root:Evaluating accuracy on dev set\n",
      "INFO:root:Train loss: 0.5767126161119213 - acc: 0.8018564841945486 -- Validation loss: 0.5897862655775887 - acc: 0.5680200464709328\n",
      "100%|██████████| 30/30 [01:23<00:00,  2.78s/it]\n"
     ]
    },
    {
     "name": "stdout",
     "output_type": "stream",
     "text": [
      "Epoch : 30 , Loss : 0.5767126161119213\n",
      "Epoch : 30, Validation Iteration : 1 , Loss : 0.5905557870864868\n",
      "Epoch : 30, Validation Loss : 0.5897862655775887\n"
     ]
    },
    {
     "name": "stderr",
     "output_type": "stream",
     "text": [
      "\r",
      "  0%|          | 0/30 [00:00<?, ?it/s]"
     ]
    },
    {
     "name": "stdout",
     "output_type": "stream",
     "text": [
      "Epoch : 1, Iteration : 1 , Loss : 1.1953266859054565\n",
      "Epoch : 1, Iteration : 11 , Loss : 1.2023744583129883\n",
      "Epoch : 1, Iteration : 21 , Loss : 1.1412131786346436\n",
      "Epoch : 1, Iteration : 31 , Loss : 1.1892986297607422\n",
      "Epoch : 1, Iteration : 41 , Loss : 1.2107570171356201\n",
      "Epoch : 1, Iteration : 51 , Loss : 1.142868995666504\n",
      "Epoch : 1, Iteration : 61 , Loss : 1.1228883266448975\n"
     ]
    },
    {
     "name": "stderr",
     "output_type": "stream",
     "text": [
      "INFO:root:Evaluating accuracy on dev set\n",
      "INFO:root:new model saved\n",
      "INFO:root:Train loss: 1.1659120407657346 - acc: 0.2872202178118737 -- Validation loss: 1.1385207346507482 - acc: 0.38003941404845326\n",
      "  3%|▎         | 1/30 [00:02<01:21,  2.80s/it]"
     ]
    },
    {
     "name": "stdout",
     "output_type": "stream",
     "text": [
      "Epoch : 1 , Loss : 1.1659120407657346\n",
      "Epoch : 1, Validation Iteration : 1 , Loss : 1.1336209774017334\n",
      "Epoch : 1, Validation Loss : 1.1385207346507482\n",
      "Epoch : 2, Iteration : 1 , Loss : 1.1345160007476807\n",
      "Epoch : 2, Iteration : 11 , Loss : 1.1567059755325317\n",
      "Epoch : 2, Iteration : 21 , Loss : 1.1216226816177368\n",
      "Epoch : 2, Iteration : 31 , Loss : 1.1361230611801147\n",
      "Epoch : 2, Iteration : 41 , Loss : 1.1626160144805908\n",
      "Epoch : 2, Iteration : 51 , Loss : 1.1439670324325562\n",
      "Epoch : 2, Iteration : 61 , Loss : 1.120048999786377\n"
     ]
    },
    {
     "name": "stderr",
     "output_type": "stream",
     "text": [
      "INFO:root:Evaluating accuracy on dev set\n",
      "INFO:root:new model saved\n",
      "INFO:root:Train loss: 1.1379971659701804 - acc: 0.4170638361211547 -- Validation loss: 1.1320987769535609 - acc: 0.43019247073315314\n",
      "  7%|▋         | 2/30 [00:05<01:18,  2.79s/it]"
     ]
    },
    {
     "name": "stdout",
     "output_type": "stream",
     "text": [
      "Epoch : 2 , Loss : 1.1379971659701804\n",
      "Epoch : 2, Validation Iteration : 1 , Loss : 1.1276977062225342\n",
      "Epoch : 2, Validation Loss : 1.1320987769535609\n",
      "Epoch : 3, Iteration : 1 , Loss : 1.1302375793457031\n",
      "Epoch : 3, Iteration : 11 , Loss : 1.1473362445831299\n",
      "Epoch : 3, Iteration : 21 , Loss : 1.1212046146392822\n",
      "Epoch : 3, Iteration : 31 , Loss : 1.128230094909668\n",
      "Epoch : 3, Iteration : 41 , Loss : 1.1489367485046387\n",
      "Epoch : 3, Iteration : 51 , Loss : 1.1299078464508057\n",
      "Epoch : 3, Iteration : 61 , Loss : 1.1183733940124512\n"
     ]
    },
    {
     "name": "stderr",
     "output_type": "stream",
     "text": [
      "INFO:root:Evaluating accuracy on dev set\n",
      "INFO:root:new model saved\n",
      "INFO:root:Train loss: 1.1314563716667285 - acc: 0.48016568261387166 -- Validation loss: 1.1285740647997176 - acc: 0.46570792059494676\n",
      " 10%|█         | 3/30 [00:08<01:15,  2.79s/it]"
     ]
    },
    {
     "name": "stdout",
     "output_type": "stream",
     "text": [
      "Epoch : 3 , Loss : 1.1314563716667285\n",
      "Epoch : 3, Validation Iteration : 1 , Loss : 1.1245371103286743\n",
      "Epoch : 3, Validation Loss : 1.1285740647997176\n",
      "Epoch : 4, Iteration : 1 , Loss : 1.1238937377929688\n",
      "Epoch : 4, Iteration : 11 , Loss : 1.1389487981796265\n",
      "Epoch : 4, Iteration : 21 , Loss : 1.1193753480911255\n",
      "Epoch : 4, Iteration : 31 , Loss : 1.1245319843292236\n",
      "Epoch : 4, Iteration : 41 , Loss : 1.1401655673980713\n",
      "Epoch : 4, Iteration : 51 , Loss : 1.122704267501831\n",
      "Epoch : 4, Iteration : 61 , Loss : 1.118265151977539\n"
     ]
    },
    {
     "name": "stderr",
     "output_type": "stream",
     "text": [
      "INFO:root:Evaluating accuracy on dev set\n",
      "INFO:root:new model saved\n",
      "INFO:root:Train loss: 1.1272234208341958 - acc: 0.5287762329726321 -- Validation loss: 1.1261956180844988 - acc: 0.48901756773842187\n",
      " 13%|█▎        | 4/30 [00:11<01:12,  2.80s/it]"
     ]
    },
    {
     "name": "stdout",
     "output_type": "stream",
     "text": [
      "Epoch : 4 , Loss : 1.1272234208341958\n",
      "Epoch : 4, Validation Iteration : 1 , Loss : 1.1227000951766968\n",
      "Epoch : 4, Validation Loss : 1.1261956180844988\n",
      "Epoch : 5, Iteration : 1 , Loss : 1.1197179555892944\n",
      "Epoch : 5, Iteration : 11 , Loss : 1.1330732107162476\n",
      "Epoch : 5, Iteration : 21 , Loss : 1.1180870532989502\n",
      "Epoch : 5, Iteration : 31 , Loss : 1.1222121715545654\n",
      "Epoch : 5, Iteration : 41 , Loss : 1.133898377418518\n",
      "Epoch : 5, Iteration : 51 , Loss : 1.1182385683059692\n",
      "Epoch : 5, Iteration : 61 , Loss : 1.117830514907837\n"
     ]
    },
    {
     "name": "stderr",
     "output_type": "stream",
     "text": [
      "INFO:root:Evaluating accuracy on dev set\n",
      "INFO:root:new model saved\n",
      "INFO:root:Train loss: 1.1240209392879321 - acc: 0.5666349672527402 -- Validation loss: 1.1244291407721383 - acc: 0.5063242360087195\n",
      " 17%|█▋        | 5/30 [00:13<01:09,  2.80s/it]"
     ]
    },
    {
     "name": "stdout",
     "output_type": "stream",
     "text": [
      "Epoch : 5 , Loss : 1.1240209392879321\n",
      "Epoch : 5, Validation Iteration : 1 , Loss : 1.121755838394165\n",
      "Epoch : 5, Validation Loss : 1.1244291407721383\n",
      "Epoch : 6, Iteration : 1 , Loss : 1.1169683933258057\n",
      "Epoch : 6, Iteration : 11 , Loss : 1.128926396369934\n",
      "Epoch : 6, Iteration : 21 , Loss : 1.1168745756149292\n",
      "Epoch : 6, Iteration : 31 , Loss : 1.1205248832702637\n",
      "Epoch : 6, Iteration : 41 , Loss : 1.129398226737976\n",
      "Epoch : 6, Iteration : 51 , Loss : 1.1158695220947266\n",
      "Epoch : 6, Iteration : 61 , Loss : 1.1173579692840576\n"
     ]
    },
    {
     "name": "stderr",
     "output_type": "stream",
     "text": [
      "INFO:root:Evaluating accuracy on dev set\n",
      "INFO:root:new model saved\n",
      "INFO:root:Train loss: 1.1214539918346682 - acc: 0.5966513386005201 -- Validation loss: 1.1230856009892054 - acc: 0.5186313666867006\n",
      " 20%|██        | 6/30 [00:16<01:07,  2.80s/it]"
     ]
    },
    {
     "name": "stdout",
     "output_type": "stream",
     "text": [
      "Epoch : 6 , Loss : 1.1214539918346682\n",
      "Epoch : 6, Validation Iteration : 1 , Loss : 1.1212882995605469\n",
      "Epoch : 6, Validation Loss : 1.1230856009892054\n",
      "Epoch : 7, Iteration : 1 , Loss : 1.1149383783340454\n",
      "Epoch : 7, Iteration : 11 , Loss : 1.1260926723480225\n",
      "Epoch : 7, Iteration : 21 , Loss : 1.1157631874084473\n",
      "Epoch : 7, Iteration : 31 , Loss : 1.1190770864486694\n",
      "Epoch : 7, Iteration : 41 , Loss : 1.1261415481567383\n",
      "Epoch : 7, Iteration : 51 , Loss : 1.1144428253173828\n",
      "Epoch : 7, Iteration : 61 , Loss : 1.1165966987609863\n"
     ]
    },
    {
     "name": "stderr",
     "output_type": "stream",
     "text": [
      "INFO:root:Evaluating accuracy on dev set\n",
      "INFO:root:new model saved\n",
      "INFO:root:Train loss: 1.1193605264027913 - acc: 0.6202359895824102 -- Validation loss: 1.1220300197601318 - acc: 0.5275009764504164\n",
      " 23%|██▎       | 7/30 [00:19<01:04,  2.81s/it]"
     ]
    },
    {
     "name": "stdout",
     "output_type": "stream",
     "text": [
      "Epoch : 7 , Loss : 1.1193605264027913\n",
      "Epoch : 7, Validation Iteration : 1 , Loss : 1.1210176944732666\n",
      "Epoch : 7, Validation Loss : 1.1220300197601318\n",
      "Epoch : 8, Iteration : 1 , Loss : 1.1132283210754395\n",
      "Epoch : 8, Iteration : 11 , Loss : 1.123902440071106\n",
      "Epoch : 8, Iteration : 21 , Loss : 1.1147832870483398\n",
      "Epoch : 8, Iteration : 31 , Loss : 1.1179418563842773\n",
      "Epoch : 8, Iteration : 41 , Loss : 1.1233305931091309\n",
      "Epoch : 8, Iteration : 51 , Loss : 1.1131961345672607\n",
      "Epoch : 8, Iteration : 61 , Loss : 1.1153278350830078\n"
     ]
    },
    {
     "name": "stderr",
     "output_type": "stream",
     "text": [
      "INFO:root:Evaluating accuracy on dev set\n",
      "INFO:root:new model saved\n",
      "INFO:root:Train loss: 1.1174513257068137 - acc: 0.6393523090645907 -- Validation loss: 1.120786087853568 - acc: 0.5350825030492249\n",
      " 27%|██▋       | 8/30 [00:22<01:01,  2.81s/it]"
     ]
    },
    {
     "name": "stdout",
     "output_type": "stream",
     "text": [
      "Epoch : 8 , Loss : 1.1174513257068137\n",
      "Epoch : 8, Validation Iteration : 1 , Loss : 1.1205605268478394\n",
      "Epoch : 8, Validation Loss : 1.120786087853568\n",
      "Epoch : 9, Iteration : 1 , Loss : 1.1113557815551758\n",
      "Epoch : 9, Iteration : 11 , Loss : 1.1215089559555054\n",
      "Epoch : 9, Iteration : 21 , Loss : 1.112861156463623\n",
      "Epoch : 9, Iteration : 31 , Loss : 1.1154991388320923\n",
      "Epoch : 9, Iteration : 41 , Loss : 1.1183109283447266\n",
      "Epoch : 9, Iteration : 51 , Loss : 1.107914686203003\n",
      "Epoch : 9, Iteration : 61 , Loss : 1.1057331562042236\n"
     ]
    },
    {
     "name": "stderr",
     "output_type": "stream",
     "text": [
      "INFO:root:Evaluating accuracy on dev set\n",
      "INFO:root:new model saved\n",
      "INFO:root:Train loss: 1.1125469864278599 - acc: 0.6558475351206444 -- Validation loss: 1.1084391730172294 - acc: 0.5403661471070423\n",
      " 30%|███       | 9/30 [00:25<00:59,  2.81s/it]"
     ]
    },
    {
     "name": "stdout",
     "output_type": "stream",
     "text": [
      "Epoch : 9 , Loss : 1.1125469864278599\n",
      "Epoch : 9, Validation Iteration : 1 , Loss : 1.1091164350509644\n",
      "Epoch : 9, Validation Loss : 1.1084391730172294\n",
      "Epoch : 10, Iteration : 1 , Loss : 1.0981736183166504\n",
      "Epoch : 10, Iteration : 11 , Loss : 1.1060898303985596\n",
      "Epoch : 10, Iteration : 21 , Loss : 1.0965445041656494\n",
      "Epoch : 10, Iteration : 31 , Loss : 1.0982003211975098\n",
      "Epoch : 10, Iteration : 41 , Loss : 1.0990091562271118\n",
      "Epoch : 10, Iteration : 51 , Loss : 1.0903502702713013\n",
      "Epoch : 10, Iteration : 61 , Loss : 1.089485764503479\n"
     ]
    },
    {
     "name": "stderr",
     "output_type": "stream",
     "text": [
      "INFO:root:Evaluating accuracy on dev set\n",
      "INFO:root:new model saved\n",
      "INFO:root:Train loss: 1.0958434084187383 - acc: 0.6683702931203893 -- Validation loss: 1.0945730549948556 - acc: 0.549639663235728\n",
      " 33%|███▎      | 10/30 [00:28<00:56,  2.81s/it]"
     ]
    },
    {
     "name": "stdout",
     "output_type": "stream",
     "text": [
      "Epoch : 10 , Loss : 1.0958434084187383\n",
      "Epoch : 10, Validation Iteration : 1 , Loss : 1.094998836517334\n",
      "Epoch : 10, Validation Loss : 1.0945730549948556\n",
      "Epoch : 11, Iteration : 1 , Loss : 1.0833191871643066\n",
      "Epoch : 11, Iteration : 11 , Loss : 1.0922815799713135\n",
      "Epoch : 11, Iteration : 21 , Loss : 1.083735704421997\n",
      "Epoch : 11, Iteration : 31 , Loss : 1.0861605405807495\n",
      "Epoch : 11, Iteration : 41 , Loss : 1.0868492126464844\n",
      "Epoch : 11, Iteration : 51 , Loss : 1.0805268287658691\n",
      "Epoch : 11, Iteration : 61 , Loss : 1.0807466506958008\n"
     ]
    },
    {
     "name": "stderr",
     "output_type": "stream",
     "text": [
      "INFO:root:Evaluating accuracy on dev set\n",
      "INFO:root:new model saved\n",
      "INFO:root:Train loss: 1.0841927131017048 - acc: 0.6786749859454112 -- Validation loss: 1.0865523644856043 - acc: 0.5523186299262038\n",
      " 37%|███▋      | 11/30 [00:30<00:53,  2.82s/it]"
     ]
    },
    {
     "name": "stdout",
     "output_type": "stream",
     "text": [
      "Epoch : 11 , Loss : 1.0841927131017048\n",
      "Epoch : 11, Validation Iteration : 1 , Loss : 1.0869381427764893\n",
      "Epoch : 11, Validation Loss : 1.0865523644856043\n",
      "Epoch : 12, Iteration : 1 , Loss : 1.0748151540756226\n",
      "Epoch : 12, Iteration : 11 , Loss : 1.084477424621582\n",
      "Epoch : 12, Iteration : 21 , Loss : 1.0773015022277832\n",
      "Epoch : 12, Iteration : 31 , Loss : 1.0796713829040527\n",
      "Epoch : 12, Iteration : 41 , Loss : 1.0788222551345825\n",
      "Epoch : 12, Iteration : 51 , Loss : 1.073256015777588\n",
      "Epoch : 12, Iteration : 61 , Loss : 1.0727620124816895\n"
     ]
    },
    {
     "name": "stderr",
     "output_type": "stream",
     "text": [
      "INFO:root:Evaluating accuracy on dev set\n",
      "INFO:root:new model saved\n",
      "INFO:root:Train loss: 1.076501110325689 - acc: 0.6897556893912494 -- Validation loss: 1.0789700065340315 - acc: 0.5551714068618874\n",
      " 40%|████      | 12/30 [00:33<00:50,  2.82s/it]"
     ]
    },
    {
     "name": "stdout",
     "output_type": "stream",
     "text": [
      "Epoch : 12 , Loss : 1.076501110325689\n",
      "Epoch : 12, Validation Iteration : 1 , Loss : 1.0795257091522217\n",
      "Epoch : 12, Validation Loss : 1.0789700065340315\n",
      "Epoch : 13, Iteration : 1 , Loss : 1.0669225454330444\n",
      "Epoch : 13, Iteration : 11 , Loss : 1.0762313604354858\n",
      "Epoch : 13, Iteration : 21 , Loss : 1.069396734237671\n",
      "Epoch : 13, Iteration : 31 , Loss : 1.0716772079467773\n",
      "Epoch : 13, Iteration : 41 , Loss : 1.0699166059494019\n",
      "Epoch : 13, Iteration : 51 , Loss : 1.065305471420288\n",
      "Epoch : 13, Iteration : 61 , Loss : 1.0641236305236816\n"
     ]
    },
    {
     "name": "stderr",
     "output_type": "stream",
     "text": [
      "INFO:root:Evaluating accuracy on dev set\n",
      "INFO:root:new model saved\n",
      "INFO:root:Train loss: 1.0681027899617734 - acc: 0.6996049894626656 -- Validation loss: 1.0708916527884347 - acc: 0.5575772618547419\n",
      " 43%|████▎     | 13/30 [00:36<00:47,  2.82s/it]"
     ]
    },
    {
     "name": "stdout",
     "output_type": "stream",
     "text": [
      "Epoch : 13 , Loss : 1.0681027899617734\n",
      "Epoch : 13, Validation Iteration : 1 , Loss : 1.0716660022735596\n",
      "Epoch : 13, Validation Loss : 1.0708916527884347\n",
      "Epoch : 14, Iteration : 1 , Loss : 1.0584673881530762\n",
      "Epoch : 14, Iteration : 11 , Loss : 1.0676243305206299\n",
      "Epoch : 14, Iteration : 21 , Loss : 1.0609443187713623\n",
      "Epoch : 14, Iteration : 31 , Loss : 1.0630033016204834\n",
      "Epoch : 14, Iteration : 41 , Loss : 1.060394048690796\n",
      "Epoch : 14, Iteration : 51 , Loss : 1.056544542312622\n",
      "Epoch : 14, Iteration : 61 , Loss : 1.0549476146697998\n"
     ]
    },
    {
     "name": "stderr",
     "output_type": "stream",
     "text": [
      "INFO:root:Evaluating accuracy on dev set\n",
      "INFO:root:new model saved\n",
      "INFO:root:Train loss: 1.0591667182203652 - acc: 0.7081011783180216 -- Validation loss: 1.0622717993600028 - acc: 0.5614068243109622\n",
      " 47%|████▋     | 14/30 [00:39<00:45,  2.82s/it]"
     ]
    },
    {
     "name": "stdout",
     "output_type": "stream",
     "text": [
      "Epoch : 14 , Loss : 1.0591667182203652\n",
      "Epoch : 14, Validation Iteration : 1 , Loss : 1.0632400512695312\n",
      "Epoch : 14, Validation Loss : 1.0622717993600028\n",
      "Epoch : 15, Iteration : 1 , Loss : 1.0493733882904053\n",
      "Epoch : 15, Iteration : 11 , Loss : 1.0589395761489868\n",
      "Epoch : 15, Iteration : 21 , Loss : 1.0527751445770264\n",
      "Epoch : 15, Iteration : 31 , Loss : 1.0548949241638184\n",
      "Epoch : 15, Iteration : 41 , Loss : 1.0517070293426514\n",
      "Epoch : 15, Iteration : 51 , Loss : 1.048344612121582\n",
      "Epoch : 15, Iteration : 61 , Loss : 1.0460638999938965\n"
     ]
    },
    {
     "name": "stderr",
     "output_type": "stream",
     "text": [
      "INFO:root:Evaluating accuracy on dev set\n",
      "INFO:root:new model saved\n",
      "INFO:root:Train loss: 1.050551150156104 - acc: 0.7154752688823182 -- Validation loss: 1.0531225034168787 - acc: 0.5630376422720601\n",
      " 50%|█████     | 15/30 [00:42<00:42,  2.82s/it]"
     ]
    },
    {
     "name": "stdout",
     "output_type": "stream",
     "text": [
      "Epoch : 15 , Loss : 1.050551150156104\n",
      "Epoch : 15, Validation Iteration : 1 , Loss : 1.0542453527450562\n",
      "Epoch : 15, Validation Loss : 1.0531225034168787\n",
      "Epoch : 16, Iteration : 1 , Loss : 1.0397706031799316\n",
      "Epoch : 16, Iteration : 11 , Loss : 1.04850435256958\n",
      "Epoch : 16, Iteration : 21 , Loss : 1.0411930084228516\n",
      "Epoch : 16, Iteration : 31 , Loss : 1.0416960716247559\n",
      "Epoch : 16, Iteration : 41 , Loss : 1.03578519821167\n",
      "Epoch : 16, Iteration : 51 , Loss : 1.0312696695327759\n",
      "Epoch : 16, Iteration : 61 , Loss : 1.0263314247131348\n"
     ]
    },
    {
     "name": "stderr",
     "output_type": "stream",
     "text": [
      "INFO:root:Evaluating accuracy on dev set\n",
      "INFO:root:Train loss: 1.035951738772185 - acc: 0.7214663586748348 -- Validation loss: 1.0322964702333723 - acc: 0.5626631839270713\n",
      " 53%|█████▎    | 16/30 [00:44<00:39,  2.82s/it]"
     ]
    },
    {
     "name": "stdout",
     "output_type": "stream",
     "text": [
      "Epoch : 16 , Loss : 1.035951738772185\n",
      "Epoch : 16, Validation Iteration : 1 , Loss : 1.0333945751190186\n",
      "Epoch : 16, Validation Loss : 1.0322964702333723\n",
      "Epoch : 17, Iteration : 1 , Loss : 1.0183093547821045\n",
      "Epoch : 17, Iteration : 11 , Loss : 1.0257964134216309\n",
      "Epoch : 17, Iteration : 21 , Loss : 1.0173604488372803\n",
      "Epoch : 17, Iteration : 31 , Loss : 1.017099380493164\n",
      "Epoch : 17, Iteration : 41 , Loss : 1.0095248222351074\n",
      "Epoch : 17, Iteration : 51 , Loss : 1.0055930614471436\n",
      "Epoch : 17, Iteration : 61 , Loss : 0.9996564984321594\n"
     ]
    },
    {
     "name": "stderr",
     "output_type": "stream",
     "text": [
      "INFO:root:Evaluating accuracy on dev set\n",
      "INFO:root:Train loss: 1.011082371075948 - acc: 0.7259654159958 -- Validation loss: 1.0060114349637712 - acc: 0.5614439020452112\n",
      " 57%|█████▋    | 17/30 [00:47<00:36,  2.80s/it]"
     ]
    },
    {
     "name": "stdout",
     "output_type": "stream",
     "text": [
      "Epoch : 17 , Loss : 1.011082371075948\n",
      "Epoch : 17, Validation Iteration : 1 , Loss : 1.0075770616531372\n",
      "Epoch : 17, Validation Loss : 1.0060114349637712\n",
      "Epoch : 18, Iteration : 1 , Loss : 0.9913685321807861\n",
      "Epoch : 18, Iteration : 11 , Loss : 0.9985607266426086\n",
      "Epoch : 18, Iteration : 21 , Loss : 0.9905441999435425\n",
      "Epoch : 18, Iteration : 31 , Loss : 0.9898639917373657\n",
      "Epoch : 18, Iteration : 41 , Loss : 0.9815740585327148\n",
      "Epoch : 18, Iteration : 51 , Loss : 0.9785165190696716\n",
      "Epoch : 18, Iteration : 61 , Loss : 0.9721951484680176\n"
     ]
    },
    {
     "name": "stderr",
     "output_type": "stream",
     "text": [
      "INFO:root:Evaluating accuracy on dev set\n",
      "INFO:root:Train loss: 0.9837670870449232 - acc: 0.7308409972073617 -- Validation loss: 0.9791861346789769 - acc: 0.5585144933302584\n",
      " 60%|██████    | 18/30 [00:50<00:33,  2.79s/it]"
     ]
    },
    {
     "name": "stdout",
     "output_type": "stream",
     "text": [
      "Epoch : 18 , Loss : 0.9837670870449232\n",
      "Epoch : 18, Validation Iteration : 1 , Loss : 0.9812016487121582\n",
      "Epoch : 18, Validation Loss : 0.9791861346789769\n",
      "Epoch : 19, Iteration : 1 , Loss : 0.9637999534606934\n",
      "Epoch : 19, Iteration : 11 , Loss : 0.9712845087051392\n",
      "Epoch : 19, Iteration : 21 , Loss : 0.9639461040496826\n",
      "Epoch : 19, Iteration : 31 , Loss : 0.9631791114807129\n",
      "Epoch : 19, Iteration : 41 , Loss : 0.9549291133880615\n",
      "Epoch : 19, Iteration : 51 , Loss : 0.9519640207290649\n",
      "Epoch : 19, Iteration : 61 , Loss : 0.9451248645782471\n"
     ]
    },
    {
     "name": "stderr",
     "output_type": "stream",
     "text": [
      "INFO:root:Evaluating accuracy on dev set\n",
      "INFO:root:Train loss: 0.9568395856497944 - acc: 0.7369465340698971 -- Validation loss: 0.9524108426911491 - acc: 0.5602655127547345\n",
      " 63%|██████▎   | 19/30 [00:53<00:30,  2.78s/it]"
     ]
    },
    {
     "name": "stdout",
     "output_type": "stream",
     "text": [
      "Epoch : 19 , Loss : 0.9568395856497944\n",
      "Epoch : 19, Validation Iteration : 1 , Loss : 0.9547591805458069\n",
      "Epoch : 19, Validation Loss : 0.9524108426911491\n",
      "Epoch : 20, Iteration : 1 , Loss : 0.9365619421005249\n",
      "Epoch : 20, Iteration : 11 , Loss : 0.943566083908081\n",
      "Epoch : 20, Iteration : 21 , Loss : 0.9358726739883423\n",
      "Epoch : 20, Iteration : 31 , Loss : 0.934055507183075\n",
      "Epoch : 20, Iteration : 41 , Loss : 0.9249961376190186\n",
      "Epoch : 20, Iteration : 51 , Loss : 0.9209651350975037\n",
      "Epoch : 20, Iteration : 61 , Loss : 0.9130398631095886\n"
     ]
    },
    {
     "name": "stderr",
     "output_type": "stream",
     "text": [
      "INFO:root:Evaluating accuracy on dev set\n",
      "INFO:root:Train loss: 0.927245116752127 - acc: 0.7426903622392232 -- Validation loss: 0.9197486128125872 - acc: 0.5611608664168006\n",
      " 67%|██████▋   | 20/30 [00:56<00:27,  2.78s/it]"
     ]
    },
    {
     "name": "stdout",
     "output_type": "stream",
     "text": [
      "Epoch : 20 , Loss : 0.927245116752127\n",
      "Epoch : 20, Validation Iteration : 1 , Loss : 0.9220535755157471\n",
      "Epoch : 20, Validation Loss : 0.9197486128125872\n",
      "Epoch : 21, Iteration : 1 , Loss : 0.9034192562103271\n",
      "Epoch : 21, Iteration : 11 , Loss : 0.908799946308136\n",
      "Epoch : 21, Iteration : 21 , Loss : 0.9002197980880737\n",
      "Epoch : 21, Iteration : 31 , Loss : 0.8969529867172241\n",
      "Epoch : 21, Iteration : 41 , Loss : 0.8863483667373657\n",
      "Epoch : 21, Iteration : 51 , Loss : 0.8811183571815491\n",
      "Epoch : 21, Iteration : 61 , Loss : 0.8714925050735474\n"
     ]
    },
    {
     "name": "stderr",
     "output_type": "stream",
     "text": [
      "INFO:root:Evaluating accuracy on dev set\n",
      "INFO:root:Train loss: 0.8895323354264965 - acc: 0.7465912674432033 -- Validation loss: 0.8772690636771066 - acc: 0.5594958485961335\n",
      " 70%|███████   | 21/30 [00:58<00:24,  2.78s/it]"
     ]
    },
    {
     "name": "stdout",
     "output_type": "stream",
     "text": [
      "Epoch : 21 , Loss : 0.8895323354264965\n",
      "Epoch : 21, Validation Iteration : 1 , Loss : 0.8796041011810303\n",
      "Epoch : 21, Validation Loss : 0.8772690636771066\n",
      "Epoch : 22, Iteration : 1 , Loss : 0.8604042530059814\n",
      "Epoch : 22, Iteration : 11 , Loss : 0.8656548261642456\n",
      "Epoch : 22, Iteration : 21 , Loss : 0.85471510887146\n",
      "Epoch : 22, Iteration : 31 , Loss : 0.8520010113716125\n",
      "Epoch : 22, Iteration : 41 , Loss : 0.8416378498077393\n",
      "Epoch : 22, Iteration : 51 , Loss : 0.8373377919197083\n",
      "Epoch : 22, Iteration : 61 , Loss : 0.828803539276123\n"
     ]
    },
    {
     "name": "stderr",
     "output_type": "stream",
     "text": [
      "INFO:root:Evaluating accuracy on dev set\n",
      "INFO:root:Train loss: 0.8456883905590444 - acc: 0.7504407757908237 -- Validation loss: 0.8358914766992841 - acc: 0.5578626212515827\n",
      " 73%|███████▎  | 22/30 [01:01<00:22,  2.78s/it]"
     ]
    },
    {
     "name": "stdout",
     "output_type": "stream",
     "text": [
      "Epoch : 22 , Loss : 0.8456883905590444\n",
      "Epoch : 22, Validation Iteration : 1 , Loss : 0.8383798599243164\n",
      "Epoch : 22, Validation Loss : 0.8358914766992841\n",
      "Epoch : 23, Iteration : 1 , Loss : 0.8190121650695801\n",
      "Epoch : 23, Iteration : 11 , Loss : 0.8249101638793945\n",
      "Epoch : 23, Iteration : 21 , Loss : 0.8164020776748657\n",
      "Epoch : 23, Iteration : 31 , Loss : 0.815784215927124\n",
      "Epoch : 23, Iteration : 41 , Loss : 0.8064676523208618\n",
      "Epoch : 23, Iteration : 51 , Loss : 0.8036057353019714\n",
      "Epoch : 23, Iteration : 61 , Loss : 0.7961146831512451\n"
     ]
    },
    {
     "name": "stderr",
     "output_type": "stream",
     "text": [
      "INFO:root:Evaluating accuracy on dev set\n",
      "INFO:root:Train loss: 0.8092504152353259 - acc: 0.7549305617447366 -- Validation loss: 0.8034115007945469 - acc: 0.5572980893230784\n",
      " 77%|███████▋  | 23/30 [01:04<00:19,  2.79s/it]"
     ]
    },
    {
     "name": "stdout",
     "output_type": "stream",
     "text": [
      "Epoch : 23 , Loss : 0.8092504152353259\n",
      "Epoch : 23, Validation Iteration : 1 , Loss : 0.806054949760437\n",
      "Epoch : 23, Validation Loss : 0.8034115007945469\n",
      "Epoch : 24, Iteration : 1 , Loss : 0.7864478230476379\n",
      "Epoch : 24, Iteration : 11 , Loss : 0.792089581489563\n",
      "Epoch : 24, Iteration : 21 , Loss : 0.7830257415771484\n",
      "Epoch : 24, Iteration : 31 , Loss : 0.7816100120544434\n",
      "Epoch : 24, Iteration : 41 , Loss : 0.7711008787155151\n",
      "Epoch : 24, Iteration : 51 , Loss : 0.7676950693130493\n",
      "Epoch : 24, Iteration : 61 , Loss : 0.758770227432251\n"
     ]
    },
    {
     "name": "stderr",
     "output_type": "stream",
     "text": [
      "INFO:root:Evaluating accuracy on dev set\n",
      "INFO:root:Train loss: 0.7746025030163751 - acc: 0.7582409707299236 -- Validation loss: 0.7659819296428135 - acc: 0.5536619950558939\n",
      " 80%|████████  | 24/30 [01:07<00:16,  2.80s/it]"
     ]
    },
    {
     "name": "stdout",
     "output_type": "stream",
     "text": [
      "Epoch : 24 , Loss : 0.7746025030163751\n",
      "Epoch : 24, Validation Iteration : 1 , Loss : 0.7690216898918152\n",
      "Epoch : 24, Validation Loss : 0.7659819296428135\n",
      "Epoch : 25, Iteration : 1 , Loss : 0.7484016418457031\n",
      "Epoch : 25, Iteration : 11 , Loss : 0.7543460726737976\n",
      "Epoch : 25, Iteration : 21 , Loss : 0.7438398003578186\n",
      "Epoch : 25, Iteration : 31 , Loss : 0.7431213855743408\n",
      "Epoch : 25, Iteration : 41 , Loss : 0.7317261695861816\n",
      "Epoch : 25, Iteration : 51 , Loss : 0.7288477420806885\n",
      "Epoch : 25, Iteration : 61 , Loss : 0.7205212712287903\n"
     ]
    },
    {
     "name": "stderr",
     "output_type": "stream",
     "text": [
      "INFO:root:Evaluating accuracy on dev set\n",
      "INFO:root:Train loss: 0.73579726530158 - acc: 0.7611813820909455 -- Validation loss: 0.7290131534848895 - acc: 0.5513242238332917\n",
      " 83%|████████▎ | 25/30 [01:10<00:14,  2.80s/it]"
     ]
    },
    {
     "name": "stdout",
     "output_type": "stream",
     "text": [
      "Epoch : 25 , Loss : 0.73579726530158\n",
      "Epoch : 25, Validation Iteration : 1 , Loss : 0.732549786567688\n",
      "Epoch : 25, Validation Loss : 0.7290131534848895\n",
      "Epoch : 26, Iteration : 1 , Loss : 0.7110576629638672\n",
      "Epoch : 26, Iteration : 11 , Loss : 0.7179162502288818\n",
      "Epoch : 26, Iteration : 21 , Loss : 0.7085641622543335\n",
      "Epoch : 26, Iteration : 31 , Loss : 0.7088204622268677\n",
      "Epoch : 26, Iteration : 41 , Loss : 0.6983598470687866\n",
      "Epoch : 26, Iteration : 51 , Loss : 0.6969996690750122\n",
      "Epoch : 26, Iteration : 61 , Loss : 0.6895764470100403\n"
     ]
    },
    {
     "name": "stderr",
     "output_type": "stream",
     "text": [
      "INFO:root:Evaluating accuracy on dev set\n",
      "INFO:root:Train loss: 0.7020357277082361 - acc: 0.764243056630083 -- Validation loss: 0.6994658367974418 - acc: 0.5504278662614535\n",
      " 87%|████████▋ | 26/30 [01:12<00:11,  2.81s/it]"
     ]
    },
    {
     "name": "stdout",
     "output_type": "stream",
     "text": [
      "Epoch : 26 , Loss : 0.7020357277082361\n",
      "Epoch : 26, Validation Iteration : 1 , Loss : 0.7033755779266357\n",
      "Epoch : 26, Validation Loss : 0.6994658367974418\n",
      "Epoch : 27, Iteration : 1 , Loss : 0.681132435798645\n",
      "Epoch : 27, Iteration : 11 , Loss : 0.6888034343719482\n",
      "Epoch : 27, Iteration : 21 , Loss : 0.680719256401062\n",
      "Epoch : 27, Iteration : 31 , Loss : 0.6823817491531372\n",
      "Epoch : 27, Iteration : 41 , Loss : 0.6728641986846924\n",
      "Epoch : 27, Iteration : 51 , Loss : 0.6724303960800171\n",
      "Epoch : 27, Iteration : 61 , Loss : 0.6661811470985413\n"
     ]
    },
    {
     "name": "stderr",
     "output_type": "stream",
     "text": [
      "INFO:root:Evaluating accuracy on dev set\n",
      "INFO:root:Train loss: 0.6758051082707833 - acc: 0.7680284129803766 -- Validation loss: 0.6771152104650225 - acc: 0.5512690087958269\n",
      " 90%|█████████ | 27/30 [01:15<00:08,  2.80s/it]"
     ]
    },
    {
     "name": "stdout",
     "output_type": "stream",
     "text": [
      "Epoch : 27 , Loss : 0.6758051082707833\n",
      "Epoch : 27, Validation Iteration : 1 , Loss : 0.6814001202583313\n",
      "Epoch : 27, Validation Loss : 0.6771152104650225\n",
      "Epoch : 28, Iteration : 1 , Loss : 0.6587458252906799\n",
      "Epoch : 28, Iteration : 11 , Loss : 0.6668074131011963\n",
      "Epoch : 28, Iteration : 21 , Loss : 0.6602854132652283\n",
      "Epoch : 28, Iteration : 31 , Loss : 0.662774920463562\n",
      "Epoch : 28, Iteration : 41 , Loss : 0.6545169353485107\n",
      "Epoch : 28, Iteration : 51 , Loss : 0.6555038690567017\n",
      "Epoch : 28, Iteration : 61 , Loss : 0.6502285003662109\n"
     ]
    },
    {
     "name": "stderr",
     "output_type": "stream",
     "text": [
      "INFO:root:Evaluating accuracy on dev set\n",
      "INFO:root:Train loss: 0.657072997611502 - acc: 0.7719247462522154 -- Validation loss: 0.6622326629502433 - acc: 0.5511891645052868\n",
      " 93%|█████████▎| 28/30 [01:18<00:05,  2.79s/it]"
     ]
    },
    {
     "name": "stdout",
     "output_type": "stream",
     "text": [
      "Epoch : 28 , Loss : 0.657072997611502\n",
      "Epoch : 28, Validation Iteration : 1 , Loss : 0.6669456958770752\n",
      "Epoch : 28, Validation Loss : 0.6622326629502433\n",
      "Epoch : 29, Iteration : 1 , Loss : 0.6436114311218262\n",
      "Epoch : 29, Iteration : 11 , Loss : 0.6520787477493286\n",
      "Epoch : 29, Iteration : 21 , Loss : 0.6472010612487793\n",
      "Epoch : 29, Iteration : 31 , Loss : 0.650067925453186\n",
      "Epoch : 29, Iteration : 41 , Loss : 0.6425350904464722\n",
      "Epoch : 29, Iteration : 51 , Loss : 0.6444091796875\n",
      "Epoch : 29, Iteration : 61 , Loss : 0.639678418636322\n"
     ]
    },
    {
     "name": "stderr",
     "output_type": "stream",
     "text": [
      "INFO:root:Evaluating accuracy on dev set\n",
      "INFO:root:Train loss: 0.6445942106454269 - acc: 0.7751488566079843 -- Validation loss: 0.6524713890893119 - acc: 0.5513384124247372\n",
      " 97%|█████████▋| 29/30 [01:21<00:02,  2.78s/it]"
     ]
    },
    {
     "name": "stdout",
     "output_type": "stream",
     "text": [
      "Epoch : 29 , Loss : 0.6445942106454269\n",
      "Epoch : 29, Validation Iteration : 1 , Loss : 0.6571710109710693\n",
      "Epoch : 29, Validation Loss : 0.6524713890893119\n",
      "Epoch : 30, Iteration : 1 , Loss : 0.6335921287536621\n",
      "Epoch : 30, Iteration : 11 , Loss : 0.6423475742340088\n",
      "Epoch : 30, Iteration : 21 , Loss : 0.6380554437637329\n",
      "Epoch : 30, Iteration : 31 , Loss : 0.6415274739265442\n",
      "Epoch : 30, Iteration : 41 , Loss : 0.6342393159866333\n",
      "Epoch : 30, Iteration : 51 , Loss : 0.6366299390792847\n",
      "Epoch : 30, Iteration : 61 , Loss : 0.6322222948074341\n"
     ]
    },
    {
     "name": "stderr",
     "output_type": "stream",
     "text": [
      "INFO:root:Evaluating accuracy on dev set\n",
      "INFO:root:Train loss: 0.6359262276386869 - acc: 0.77847382482268 -- Validation loss: 0.6454065442085266 - acc: 0.5512251044751275\n",
      "100%|██████████| 30/30 [01:23<00:00,  2.80s/it]\n"
     ]
    },
    {
     "name": "stdout",
     "output_type": "stream",
     "text": [
      "Epoch : 30 , Loss : 0.6359262276386869\n",
      "Epoch : 30, Validation Iteration : 1 , Loss : 0.6495928764343262\n",
      "Epoch : 30, Validation Loss : 0.6454065442085266\n"
     ]
    },
    {
     "name": "stderr",
     "output_type": "stream",
     "text": [
      "\r",
      "  0%|          | 0/30 [00:00<?, ?it/s]"
     ]
    },
    {
     "name": "stdout",
     "output_type": "stream",
     "text": [
      "Epoch : 1, Iteration : 1 , Loss : 1.1945455074310303\n",
      "Epoch : 1, Iteration : 11 , Loss : 1.1363072395324707\n",
      "Epoch : 1, Iteration : 21 , Loss : 1.1210482120513916\n",
      "Epoch : 1, Iteration : 31 , Loss : 1.1377151012420654\n",
      "Epoch : 1, Iteration : 41 , Loss : 1.1430160999298096\n",
      "Epoch : 1, Iteration : 51 , Loss : 1.1165602207183838\n",
      "Epoch : 1, Iteration : 61 , Loss : 1.0943617820739746\n"
     ]
    },
    {
     "name": "stderr",
     "output_type": "stream",
     "text": [
      "INFO:root:Evaluating accuracy on dev set\n",
      "INFO:root:new model saved\n",
      "INFO:root:Train loss: 1.1286685708640278 - acc: 0.4347572994472798 -- Validation loss: 1.1006328548703874 - acc: 0.4731586712141113\n",
      "  3%|▎         | 1/30 [00:02<01:20,  2.78s/it]"
     ]
    },
    {
     "name": "stdout",
     "output_type": "stream",
     "text": [
      "Epoch : 1 , Loss : 1.1286685708640278\n",
      "Epoch : 1, Validation Iteration : 1 , Loss : 1.0923242568969727\n",
      "Epoch : 1, Validation Loss : 1.1006328548703874\n",
      "Epoch : 2, Iteration : 1 , Loss : 1.103377342224121\n",
      "Epoch : 2, Iteration : 11 , Loss : 1.1010510921478271\n",
      "Epoch : 2, Iteration : 21 , Loss : 1.0856870412826538\n",
      "Epoch : 2, Iteration : 31 , Loss : 1.1022982597351074\n",
      "Epoch : 2, Iteration : 41 , Loss : 1.0965452194213867\n",
      "Epoch : 2, Iteration : 51 , Loss : 1.0870742797851562\n",
      "Epoch : 2, Iteration : 61 , Loss : 1.0712945461273193\n"
     ]
    },
    {
     "name": "stderr",
     "output_type": "stream",
     "text": [
      "INFO:root:Evaluating accuracy on dev set\n",
      "INFO:root:new model saved\n",
      "INFO:root:Train loss: 1.092419753903928 - acc: 0.5348965208861616 -- Validation loss: 1.083554642541068 - acc: 0.5209123166162027\n",
      "  7%|▋         | 2/30 [00:05<01:18,  2.79s/it]"
     ]
    },
    {
     "name": "stdout",
     "output_type": "stream",
     "text": [
      "Epoch : 2 , Loss : 1.092419753903928\n",
      "Epoch : 2, Validation Iteration : 1 , Loss : 1.0824697017669678\n",
      "Epoch : 2, Validation Loss : 1.083554642541068\n",
      "Epoch : 3, Iteration : 1 , Loss : 1.075674295425415\n",
      "Epoch : 3, Iteration : 11 , Loss : 1.0553710460662842\n",
      "Epoch : 3, Iteration : 21 , Loss : 0.989660382270813\n",
      "Epoch : 3, Iteration : 31 , Loss : 0.9016011357307434\n",
      "Epoch : 3, Iteration : 41 , Loss : 0.8060938119888306\n",
      "Epoch : 3, Iteration : 51 , Loss : 0.7487483024597168\n",
      "Epoch : 3, Iteration : 61 , Loss : 0.732443630695343\n"
     ]
    },
    {
     "name": "stderr",
     "output_type": "stream",
     "text": [
      "INFO:root:Evaluating accuracy on dev set\n",
      "INFO:root:Train loss: 0.8843374226404273 - acc: 0.5985732324210611 -- Validation loss: 0.6953169448035104 - acc: 0.5056524865165563\n",
      " 10%|█         | 3/30 [00:08<01:15,  2.78s/it]"
     ]
    },
    {
     "name": "stdout",
     "output_type": "stream",
     "text": [
      "Epoch : 3 , Loss : 0.8843374226404273\n",
      "Epoch : 3, Validation Iteration : 1 , Loss : 0.6958571672439575\n",
      "Epoch : 3, Validation Loss : 0.6953169448035104\n",
      "Epoch : 4, Iteration : 1 , Loss : 0.6794941425323486\n",
      "Epoch : 4, Iteration : 11 , Loss : 0.6442002654075623\n",
      "Epoch : 4, Iteration : 21 , Loss : 0.6764811277389526\n",
      "Epoch : 4, Iteration : 31 , Loss : 0.6512026786804199\n",
      "Epoch : 4, Iteration : 41 , Loss : 0.624866247177124\n",
      "Epoch : 4, Iteration : 51 , Loss : 0.6244461536407471\n",
      "Epoch : 4, Iteration : 61 , Loss : 0.6224790215492249\n"
     ]
    },
    {
     "name": "stderr",
     "output_type": "stream",
     "text": [
      "INFO:root:Evaluating accuracy on dev set\n",
      "INFO:root:new model saved\n",
      "INFO:root:Train loss: 0.6456825810930004 - acc: 0.6254319981564681 -- Validation loss: 0.6337373682430812 - acc: 0.5362294365001765\n",
      " 13%|█▎        | 4/30 [00:11<01:12,  2.78s/it]"
     ]
    },
    {
     "name": "stdout",
     "output_type": "stream",
     "text": [
      "Epoch : 4 , Loss : 0.6456825810930004\n",
      "Epoch : 4, Validation Iteration : 1 , Loss : 0.6320482492446899\n",
      "Epoch : 4, Validation Loss : 0.6337373682430812\n",
      "Epoch : 5, Iteration : 1 , Loss : 0.6226295828819275\n",
      "Epoch : 5, Iteration : 11 , Loss : 0.6210571527481079\n",
      "Epoch : 5, Iteration : 21 , Loss : 0.6295498609542847\n",
      "Epoch : 5, Iteration : 31 , Loss : 0.6354126930236816\n",
      "Epoch : 5, Iteration : 41 , Loss : 0.6159632802009583\n",
      "Epoch : 5, Iteration : 51 , Loss : 0.6179251670837402\n",
      "Epoch : 5, Iteration : 61 , Loss : 0.6135517358779907\n"
     ]
    },
    {
     "name": "stderr",
     "output_type": "stream",
     "text": [
      "INFO:root:Evaluating accuracy on dev set\n",
      "INFO:root:new model saved\n",
      "INFO:root:Train loss: 0.6209174515544504 - acc: 0.6455267889384602 -- Validation loss: 0.6217483452388218 - acc: 0.5389213870903714\n",
      " 17%|█▋        | 5/30 [00:13<01:09,  2.79s/it]"
     ]
    },
    {
     "name": "stdout",
     "output_type": "stream",
     "text": [
      "Epoch : 5 , Loss : 0.6209174515544504\n",
      "Epoch : 5, Validation Iteration : 1 , Loss : 0.6222411394119263\n",
      "Epoch : 5, Validation Loss : 0.6217483452388218\n",
      "Epoch : 6, Iteration : 1 , Loss : 0.6081246733665466\n",
      "Epoch : 6, Iteration : 11 , Loss : 0.6141607761383057\n",
      "Epoch : 6, Iteration : 21 , Loss : 0.6179190874099731\n",
      "Epoch : 6, Iteration : 31 , Loss : 0.6217593550682068\n",
      "Epoch : 6, Iteration : 41 , Loss : 0.6111193895339966\n",
      "Epoch : 6, Iteration : 51 , Loss : 0.60943603515625\n",
      "Epoch : 6, Iteration : 61 , Loss : 0.6042228937149048\n"
     ]
    },
    {
     "name": "stderr",
     "output_type": "stream",
     "text": [
      "INFO:root:Evaluating accuracy on dev set\n",
      "INFO:root:new model saved\n",
      "INFO:root:Train loss: 0.6124652321787848 - acc: 0.6565427336436966 -- Validation loss: 0.6129823497363499 - acc: 0.5598266034023776\n",
      " 20%|██        | 6/30 [00:16<01:07,  2.79s/it]"
     ]
    },
    {
     "name": "stdout",
     "output_type": "stream",
     "text": [
      "Epoch : 6 , Loss : 0.6124652321787848\n",
      "Epoch : 6, Validation Iteration : 1 , Loss : 0.6127161383628845\n",
      "Epoch : 6, Validation Loss : 0.6129823497363499\n",
      "Epoch : 7, Iteration : 1 , Loss : 0.5987498164176941\n",
      "Epoch : 7, Iteration : 11 , Loss : 0.6093637943267822\n",
      "Epoch : 7, Iteration : 21 , Loss : 0.603840708732605\n",
      "Epoch : 7, Iteration : 31 , Loss : 0.6123949289321899\n",
      "Epoch : 7, Iteration : 41 , Loss : 0.6030874848365784\n",
      "Epoch : 7, Iteration : 51 , Loss : 0.6048265695571899\n",
      "Epoch : 7, Iteration : 61 , Loss : 0.5992432832717896\n"
     ]
    },
    {
     "name": "stderr",
     "output_type": "stream",
     "text": [
      "INFO:root:Evaluating accuracy on dev set\n",
      "INFO:root:new model saved\n",
      "INFO:root:Train loss: 0.6052643786305967 - acc: 0.671714161509933 -- Validation loss: 0.6074468067714146 - acc: 0.5735986392197896\n",
      " 23%|██▎       | 7/30 [00:19<01:04,  2.79s/it]"
     ]
    },
    {
     "name": "stdout",
     "output_type": "stream",
     "text": [
      "Epoch : 7 , Loss : 0.6052643786305967\n",
      "Epoch : 7, Validation Iteration : 1 , Loss : 0.6105716824531555\n",
      "Epoch : 7, Validation Loss : 0.6074468067714146\n",
      "Epoch : 8, Iteration : 1 , Loss : 0.5920298099517822\n",
      "Epoch : 8, Iteration : 11 , Loss : 0.6018518209457397\n",
      "Epoch : 8, Iteration : 21 , Loss : 0.5988978147506714\n",
      "Epoch : 8, Iteration : 31 , Loss : 0.6046615839004517\n",
      "Epoch : 8, Iteration : 41 , Loss : 0.5945602059364319\n",
      "Epoch : 8, Iteration : 51 , Loss : 0.5996555685997009\n",
      "Epoch : 8, Iteration : 61 , Loss : 0.5998073220252991\n"
     ]
    },
    {
     "name": "stderr",
     "output_type": "stream",
     "text": [
      "INFO:root:Evaluating accuracy on dev set\n",
      "INFO:root:new model saved\n",
      "INFO:root:Train loss: 0.5990641263947971 - acc: 0.701909014534506 -- Validation loss: 0.6017427955354963 - acc: 0.586855870106075\n",
      " 27%|██▋       | 8/30 [00:22<01:01,  2.80s/it]"
     ]
    },
    {
     "name": "stdout",
     "output_type": "stream",
     "text": [
      "Epoch : 8 , Loss : 0.5990641263947971\n",
      "Epoch : 8, Validation Iteration : 1 , Loss : 0.6063249707221985\n",
      "Epoch : 8, Validation Loss : 0.6017427955354963\n",
      "Epoch : 9, Iteration : 1 , Loss : 0.5885062217712402\n",
      "Epoch : 9, Iteration : 11 , Loss : 0.6014167070388794\n",
      "Epoch : 9, Iteration : 21 , Loss : 0.5919044017791748\n",
      "Epoch : 9, Iteration : 31 , Loss : 0.5940372943878174\n",
      "Epoch : 9, Iteration : 41 , Loss : 0.587151825428009\n",
      "Epoch : 9, Iteration : 51 , Loss : 0.5934885740280151\n",
      "Epoch : 9, Iteration : 61 , Loss : 0.7311046123504639\n"
     ]
    },
    {
     "name": "stderr",
     "output_type": "stream",
     "text": [
      "INFO:root:Evaluating accuracy on dev set\n",
      "INFO:root:new model saved\n",
      "INFO:root:Train loss: 0.6037700737732045 - acc: 0.7195038457540263 -- Validation loss: 0.6172993353434971 - acc: 0.5937993116537444\n",
      " 30%|███       | 9/30 [00:25<00:58,  2.80s/it]"
     ]
    },
    {
     "name": "stdout",
     "output_type": "stream",
     "text": [
      "Epoch : 9 , Loss : 0.6037700737732045\n",
      "Epoch : 9, Validation Iteration : 1 , Loss : 0.6153468489646912\n",
      "Epoch : 9, Validation Loss : 0.6172993353434971\n",
      "Epoch : 10, Iteration : 1 , Loss : 0.6012744903564453\n",
      "Epoch : 10, Iteration : 11 , Loss : 0.617275595664978\n",
      "Epoch : 10, Iteration : 21 , Loss : 0.5964152812957764\n",
      "Epoch : 10, Iteration : 31 , Loss : 0.5978152751922607\n",
      "Epoch : 10, Iteration : 41 , Loss : 0.5852986574172974\n",
      "Epoch : 10, Iteration : 51 , Loss : 0.5911692976951599\n",
      "Epoch : 10, Iteration : 61 , Loss : 0.5901093482971191\n"
     ]
    },
    {
     "name": "stderr",
     "output_type": "stream",
     "text": [
      "INFO:root:Evaluating accuracy on dev set\n",
      "INFO:root:Train loss: 0.5930246719415637 - acc: 0.7397037858254095 -- Validation loss: 0.59811384337289 - acc: 0.5917230923904302\n",
      " 33%|███▎      | 10/30 [00:27<00:55,  2.79s/it]"
     ]
    },
    {
     "name": "stdout",
     "output_type": "stream",
     "text": [
      "Epoch : 10 , Loss : 0.5930246719415637\n",
      "Epoch : 10, Validation Iteration : 1 , Loss : 0.5973683595657349\n",
      "Epoch : 10, Validation Loss : 0.59811384337289\n",
      "Epoch : 11, Iteration : 1 , Loss : 0.5817816853523254\n",
      "Epoch : 11, Iteration : 11 , Loss : 0.5962538123130798\n",
      "Epoch : 11, Iteration : 21 , Loss : 0.5884573459625244\n",
      "Epoch : 11, Iteration : 31 , Loss : 0.5921911001205444\n",
      "Epoch : 11, Iteration : 41 , Loss : 0.5822787284851074\n",
      "Epoch : 11, Iteration : 51 , Loss : 0.5925123691558838\n",
      "Epoch : 11, Iteration : 61 , Loss : 0.5862904787063599\n"
     ]
    },
    {
     "name": "stderr",
     "output_type": "stream",
     "text": [
      "INFO:root:Evaluating accuracy on dev set\n",
      "INFO:root:Train loss: 0.5864153348881266 - acc: 0.7519914246578707 -- Validation loss: 0.5965330004692078 - acc: 0.586239536433331\n",
      " 37%|███▋      | 11/30 [00:30<00:52,  2.78s/it]"
     ]
    },
    {
     "name": "stdout",
     "output_type": "stream",
     "text": [
      "Epoch : 11 , Loss : 0.5864153348881266\n",
      "Epoch : 11, Validation Iteration : 1 , Loss : 0.5967651009559631\n",
      "Epoch : 11, Validation Loss : 0.5965330004692078\n",
      "Epoch : 12, Iteration : 1 , Loss : 0.580926775932312\n",
      "Epoch : 12, Iteration : 11 , Loss : 0.590533971786499\n",
      "Epoch : 12, Iteration : 21 , Loss : 0.5877803564071655\n",
      "Epoch : 12, Iteration : 31 , Loss : 0.5907264351844788\n",
      "Epoch : 12, Iteration : 41 , Loss : 0.5816918611526489\n",
      "Epoch : 12, Iteration : 51 , Loss : 0.5898265838623047\n",
      "Epoch : 12, Iteration : 61 , Loss : 0.5832979679107666\n"
     ]
    },
    {
     "name": "stderr",
     "output_type": "stream",
     "text": [
      "INFO:root:Evaluating accuracy on dev set\n",
      "INFO:root:Train loss: 0.5858099961626357 - acc: 0.7533721532285972 -- Validation loss: 0.5965024488312858 - acc: 0.5695540875300015\n",
      " 40%|████      | 12/30 [00:33<00:50,  2.78s/it]"
     ]
    },
    {
     "name": "stdout",
     "output_type": "stream",
     "text": [
      "Epoch : 12 , Loss : 0.5858099961626357\n",
      "Epoch : 12, Validation Iteration : 1 , Loss : 0.5989961624145508\n",
      "Epoch : 12, Validation Loss : 0.5965024488312858\n",
      "Epoch : 13, Iteration : 1 , Loss : 0.5798329710960388\n",
      "Epoch : 13, Iteration : 11 , Loss : 0.5917563438415527\n",
      "Epoch : 13, Iteration : 21 , Loss : 0.5864376425743103\n",
      "Epoch : 13, Iteration : 31 , Loss : 0.5890018939971924\n",
      "Epoch : 13, Iteration : 41 , Loss : 0.5794249773025513\n",
      "Epoch : 13, Iteration : 51 , Loss : 0.5876591205596924\n",
      "Epoch : 13, Iteration : 61 , Loss : 0.5827436447143555\n"
     ]
    },
    {
     "name": "stderr",
     "output_type": "stream",
     "text": [
      "INFO:root:Evaluating accuracy on dev set\n",
      "INFO:root:Train loss: 0.5857611739117167 - acc: 0.7544539513164444 -- Validation loss: 0.597307596887861 - acc: 0.5672161155254448\n",
      " 43%|████▎     | 13/30 [00:36<00:47,  2.77s/it]"
     ]
    },
    {
     "name": "stdout",
     "output_type": "stream",
     "text": [
      "Epoch : 13 , Loss : 0.5857611739117167\n",
      "Epoch : 13, Validation Iteration : 1 , Loss : 0.6008346080780029\n",
      "Epoch : 13, Validation Loss : 0.597307596887861\n",
      "Epoch : 14, Iteration : 1 , Loss : 0.5812175273895264\n",
      "Epoch : 14, Iteration : 11 , Loss : 0.5942180156707764\n",
      "Epoch : 14, Iteration : 21 , Loss : 0.5860976576805115\n",
      "Epoch : 14, Iteration : 31 , Loss : 0.5890924334526062\n",
      "Epoch : 14, Iteration : 41 , Loss : 0.5802145004272461\n",
      "Epoch : 14, Iteration : 51 , Loss : 0.5877040028572083\n",
      "Epoch : 14, Iteration : 61 , Loss : 0.5835210084915161\n"
     ]
    },
    {
     "name": "stderr",
     "output_type": "stream",
     "text": [
      "INFO:root:Evaluating accuracy on dev set\n",
      "INFO:root:Train loss: 0.5857565895370815 - acc: 0.7525286409739103 -- Validation loss: 0.5988215378352574 - acc: 0.5539238147244545\n",
      " 47%|████▋     | 14/30 [00:38<00:44,  2.77s/it]"
     ]
    },
    {
     "name": "stdout",
     "output_type": "stream",
     "text": [
      "Epoch : 14 , Loss : 0.5857565895370815\n",
      "Epoch : 14, Validation Iteration : 1 , Loss : 0.6032466888427734\n",
      "Epoch : 14, Validation Loss : 0.5988215378352574\n",
      "Epoch : 15, Iteration : 1 , Loss : 0.58017897605896\n",
      "Epoch : 15, Iteration : 11 , Loss : 0.5968597531318665\n",
      "Epoch : 15, Iteration : 21 , Loss : 0.5855646133422852\n",
      "Epoch : 15, Iteration : 31 , Loss : 0.5923233032226562\n",
      "Epoch : 15, Iteration : 41 , Loss : 0.5800525546073914\n",
      "Epoch : 15, Iteration : 51 , Loss : 0.5863234996795654\n",
      "Epoch : 15, Iteration : 61 , Loss : 0.5824735164642334\n"
     ]
    },
    {
     "name": "stderr",
     "output_type": "stream",
     "text": [
      "INFO:root:Evaluating accuracy on dev set\n",
      "INFO:root:Train loss: 0.5854993341625601 - acc: 0.7535883517484299 -- Validation loss: 0.5994718159948077 - acc: 0.5545532661515536\n",
      " 50%|█████     | 15/30 [00:41<00:41,  2.76s/it]"
     ]
    },
    {
     "name": "stdout",
     "output_type": "stream",
     "text": [
      "Epoch : 15 , Loss : 0.5854993341625601\n",
      "Epoch : 15, Validation Iteration : 1 , Loss : 0.6026465892791748\n",
      "Epoch : 15, Validation Loss : 0.5994718159948077\n",
      "Epoch : 16, Iteration : 1 , Loss : 0.5790519118309021\n",
      "Epoch : 16, Iteration : 11 , Loss : 0.5928139686584473\n",
      "Epoch : 16, Iteration : 21 , Loss : 0.5854400396347046\n",
      "Epoch : 16, Iteration : 31 , Loss : 0.5905798673629761\n",
      "Epoch : 16, Iteration : 41 , Loss : 0.5795965790748596\n",
      "Epoch : 16, Iteration : 51 , Loss : 0.5878411531448364\n",
      "Epoch : 16, Iteration : 61 , Loss : 0.5835620164871216\n"
     ]
    },
    {
     "name": "stderr",
     "output_type": "stream",
     "text": [
      "INFO:root:Evaluating accuracy on dev set\n",
      "INFO:root:Train loss: 0.5850367969360905 - acc: 0.7627284789641358 -- Validation loss: 0.5998620390892029 - acc: 0.5419811032937413\n",
      " 53%|█████▎    | 16/30 [00:44<00:38,  2.76s/it]"
     ]
    },
    {
     "name": "stdout",
     "output_type": "stream",
     "text": [
      "Epoch : 16 , Loss : 0.5850367969360905\n",
      "Epoch : 16, Validation Iteration : 1 , Loss : 0.5995662808418274\n",
      "Epoch : 16, Validation Loss : 0.5998620390892029\n",
      "Epoch : 17, Iteration : 1 , Loss : 0.5795397162437439\n",
      "Epoch : 17, Iteration : 11 , Loss : 0.5911443829536438\n",
      "Epoch : 17, Iteration : 21 , Loss : 0.5867514610290527\n",
      "Epoch : 17, Iteration : 31 , Loss : 0.5910217761993408\n",
      "Epoch : 17, Iteration : 41 , Loss : 0.5798033475875854\n",
      "Epoch : 17, Iteration : 51 , Loss : 0.5913841724395752\n",
      "Epoch : 17, Iteration : 61 , Loss : 0.582911491394043\n"
     ]
    },
    {
     "name": "stderr",
     "output_type": "stream",
     "text": [
      "INFO:root:Evaluating accuracy on dev set\n",
      "INFO:root:Train loss: 0.5849801258764405 - acc: 0.7610911442991852 -- Validation loss: 0.5997553723199027 - acc: 0.5380841932677681\n",
      " 57%|█████▋    | 17/30 [00:47<00:35,  2.75s/it]"
     ]
    },
    {
     "name": "stdout",
     "output_type": "stream",
     "text": [
      "Epoch : 17 , Loss : 0.5849801258764405\n",
      "Epoch : 17, Validation Iteration : 1 , Loss : 0.5983200073242188\n",
      "Epoch : 17, Validation Loss : 0.5997553723199027\n",
      "Epoch : 18, Iteration : 1 , Loss : 0.5788946151733398\n",
      "Epoch : 18, Iteration : 11 , Loss : 0.5892932415008545\n",
      "Epoch : 18, Iteration : 21 , Loss : 0.5865514278411865\n",
      "Epoch : 18, Iteration : 31 , Loss : 0.5897160768508911\n",
      "Epoch : 18, Iteration : 41 , Loss : 0.5830241441726685\n",
      "Epoch : 18, Iteration : 51 , Loss : 0.5884767174720764\n",
      "Epoch : 18, Iteration : 61 , Loss : 0.5839027166366577\n"
     ]
    },
    {
     "name": "stderr",
     "output_type": "stream",
     "text": [
      "INFO:root:Evaluating accuracy on dev set\n",
      "INFO:root:Train loss: 0.5852280017258464 - acc: 0.7597136603236324 -- Validation loss: 0.5989261525017875 - acc: 0.5325540558972441\n",
      " 60%|██████    | 18/30 [00:49<00:32,  2.74s/it]"
     ]
    },
    {
     "name": "stdout",
     "output_type": "stream",
     "text": [
      "Epoch : 18 , Loss : 0.5852280017258464\n",
      "Epoch : 18, Validation Iteration : 1 , Loss : 0.5972990989685059\n",
      "Epoch : 18, Validation Loss : 0.5989261525017875\n",
      "Epoch : 19, Iteration : 1 , Loss : 0.5791826248168945\n",
      "Epoch : 19, Iteration : 11 , Loss : 0.5908492803573608\n",
      "Epoch : 19, Iteration : 21 , Loss : 0.5843826532363892\n",
      "Epoch : 19, Iteration : 31 , Loss : 0.5901150703430176\n",
      "Epoch : 19, Iteration : 41 , Loss : 0.5803883075714111\n",
      "Epoch : 19, Iteration : 51 , Loss : 0.5912735462188721\n",
      "Epoch : 19, Iteration : 61 , Loss : 0.5845434665679932\n"
     ]
    },
    {
     "name": "stderr",
     "output_type": "stream",
     "text": [
      "INFO:root:Evaluating accuracy on dev set\n",
      "INFO:root:Train loss: 0.5845892774885979 - acc: 0.764527291672644 -- Validation loss: 0.6048413940838405 - acc: 0.5360833341646786\n",
      " 63%|██████▎   | 19/30 [00:52<00:30,  2.75s/it]"
     ]
    },
    {
     "name": "stdout",
     "output_type": "stream",
     "text": [
      "Epoch : 19 , Loss : 0.5845892774885979\n",
      "Epoch : 19, Validation Iteration : 1 , Loss : 0.6056091785430908\n",
      "Epoch : 19, Validation Loss : 0.6048413940838405\n",
      "Epoch : 20, Iteration : 1 , Loss : 0.5857641696929932\n",
      "Epoch : 20, Iteration : 11 , Loss : 0.8735685348510742\n",
      "Epoch : 20, Iteration : 21 , Loss : 0.9812459945678711\n",
      "Epoch : 20, Iteration : 31 , Loss : 0.8709673881530762\n",
      "Epoch : 20, Iteration : 41 , Loss : 0.8270384073257446\n",
      "Epoch : 20, Iteration : 51 , Loss : 0.8101551532745361\n",
      "Epoch : 20, Iteration : 61 , Loss : 0.762691855430603\n"
     ]
    },
    {
     "name": "stderr",
     "output_type": "stream",
     "text": [
      "INFO:root:Evaluating accuracy on dev set\n",
      "INFO:root:Train loss: 0.8277355812597966 - acc: 0.7193972758144427 -- Validation loss: 0.7857658607619149 - acc: 0.5028920023525869\n",
      " 67%|██████▋   | 20/30 [00:55<00:27,  2.74s/it]"
     ]
    },
    {
     "name": "stdout",
     "output_type": "stream",
     "text": [
      "Epoch : 20 , Loss : 0.8277355812597966\n",
      "Epoch : 20, Validation Iteration : 1 , Loss : 0.7881627678871155\n",
      "Epoch : 20, Validation Loss : 0.7857658607619149\n",
      "Epoch : 21, Iteration : 1 , Loss : 0.7704113721847534\n",
      "Epoch : 21, Iteration : 11 , Loss : 0.7446463108062744\n",
      "Epoch : 21, Iteration : 21 , Loss : 0.7169218063354492\n",
      "Epoch : 21, Iteration : 31 , Loss : 0.6940498352050781\n",
      "Epoch : 21, Iteration : 41 , Loss : 0.676682710647583\n",
      "Epoch : 21, Iteration : 51 , Loss : 0.6839426755905151\n",
      "Epoch : 21, Iteration : 61 , Loss : 0.6710731983184814\n"
     ]
    },
    {
     "name": "stderr",
     "output_type": "stream",
     "text": [
      "INFO:root:Evaluating accuracy on dev set\n",
      "INFO:root:Train loss: 0.6986043893772623 - acc: 0.7397513889836962 -- Validation loss: 0.6829784171921867 - acc: 0.5450643109857779\n",
      " 70%|███████   | 21/30 [00:58<00:24,  2.74s/it]"
     ]
    },
    {
     "name": "stdout",
     "output_type": "stream",
     "text": [
      "Epoch : 21 , Loss : 0.6986043893772623\n",
      "Epoch : 21, Validation Iteration : 1 , Loss : 0.6865883469581604\n",
      "Epoch : 21, Validation Loss : 0.6829784171921867\n",
      "Epoch : 22, Iteration : 1 , Loss : 0.6659471988677979\n",
      "Epoch : 22, Iteration : 11 , Loss : 0.6747016906738281\n",
      "Epoch : 22, Iteration : 21 , Loss : 0.668879508972168\n",
      "Epoch : 22, Iteration : 31 , Loss : 0.672276496887207\n",
      "Epoch : 22, Iteration : 41 , Loss : 0.6548933982849121\n",
      "Epoch : 22, Iteration : 51 , Loss : 0.6464479565620422\n",
      "Epoch : 22, Iteration : 61 , Loss : 0.6408437490463257\n"
     ]
    },
    {
     "name": "stderr",
     "output_type": "stream",
     "text": [
      "INFO:root:Evaluating accuracy on dev set\n",
      "INFO:root:Train loss: 0.6585332060205764 - acc: 0.7649111372216725 -- Validation loss: 0.6552736333438328 - acc: 0.5241639803679958\n",
      " 73%|███████▎  | 22/30 [01:00<00:21,  2.74s/it]"
     ]
    },
    {
     "name": "stdout",
     "output_type": "stream",
     "text": [
      "Epoch : 22 , Loss : 0.6585332060205764\n",
      "Epoch : 22, Validation Iteration : 1 , Loss : 0.6596990823745728\n",
      "Epoch : 22, Validation Loss : 0.6552736333438328\n",
      "Epoch : 23, Iteration : 1 , Loss : 0.6398636102676392\n",
      "Epoch : 23, Iteration : 11 , Loss : 0.647523045539856\n",
      "Epoch : 23, Iteration : 21 , Loss : 0.6392990350723267\n",
      "Epoch : 23, Iteration : 31 , Loss : 0.6438842415809631\n",
      "Epoch : 23, Iteration : 41 , Loss : 0.6328423023223877\n",
      "Epoch : 23, Iteration : 51 , Loss : 0.6452252864837646\n",
      "Epoch : 23, Iteration : 61 , Loss : 0.6382148861885071\n"
     ]
    },
    {
     "name": "stderr",
     "output_type": "stream",
     "text": [
      "INFO:root:Evaluating accuracy on dev set\n",
      "INFO:root:Train loss: 0.639377898928048 - acc: 0.7746905896252508 -- Validation loss: 0.6525325519698006 - acc: 0.5417664673844688\n",
      " 77%|███████▋  | 23/30 [01:03<00:19,  2.74s/it]"
     ]
    },
    {
     "name": "stdout",
     "output_type": "stream",
     "text": [
      "Epoch : 23 , Loss : 0.639377898928048\n",
      "Epoch : 23, Validation Iteration : 1 , Loss : 0.6554518938064575\n",
      "Epoch : 23, Validation Loss : 0.6525325519698006\n",
      "Epoch : 24, Iteration : 1 , Loss : 0.6340899467468262\n",
      "Epoch : 24, Iteration : 11 , Loss : 0.6450875997543335\n",
      "Epoch : 24, Iteration : 21 , Loss : 0.639150857925415\n",
      "Epoch : 24, Iteration : 31 , Loss : 0.6431677341461182\n",
      "Epoch : 24, Iteration : 41 , Loss : 0.6354387998580933\n",
      "Epoch : 24, Iteration : 51 , Loss : 0.642724335193634\n",
      "Epoch : 24, Iteration : 61 , Loss : 0.6384130120277405\n"
     ]
    },
    {
     "name": "stderr",
     "output_type": "stream",
     "text": [
      "INFO:root:Evaluating accuracy on dev set\n",
      "INFO:root:Train loss: 0.6397546408832937 - acc: 0.760089699429277 -- Validation loss: 0.6529077121189663 - acc: 0.5323348020030202\n",
      " 80%|████████  | 24/30 [01:06<00:16,  2.74s/it]"
     ]
    },
    {
     "name": "stdout",
     "output_type": "stream",
     "text": [
      "Epoch : 24 , Loss : 0.6397546408832937\n",
      "Epoch : 24, Validation Iteration : 1 , Loss : 0.6528283953666687\n",
      "Epoch : 24, Validation Loss : 0.6529077121189663\n",
      "Epoch : 25, Iteration : 1 , Loss : 0.6335943937301636\n",
      "Epoch : 25, Iteration : 11 , Loss : 0.6485174894332886\n",
      "Epoch : 25, Iteration : 21 , Loss : 0.6438003778457642\n",
      "Epoch : 25, Iteration : 31 , Loss : 0.648485541343689\n",
      "Epoch : 25, Iteration : 41 , Loss : 0.6350078582763672\n",
      "Epoch : 25, Iteration : 51 , Loss : 0.6455788016319275\n",
      "Epoch : 25, Iteration : 61 , Loss : 0.6402317881584167\n"
     ]
    },
    {
     "name": "stderr",
     "output_type": "stream",
     "text": [
      "INFO:root:Evaluating accuracy on dev set\n",
      "INFO:root:Train loss: 0.6398268635722174 - acc: 0.7594513928958766 -- Validation loss: 0.6526983891214643 - acc: 0.5304091692055191\n",
      " 83%|████████▎ | 25/30 [01:09<00:13,  2.73s/it]"
     ]
    },
    {
     "name": "stdout",
     "output_type": "stream",
     "text": [
      "Epoch : 25 , Loss : 0.6398268635722174\n",
      "Epoch : 25, Validation Iteration : 1 , Loss : 0.6523466110229492\n",
      "Epoch : 25, Validation Loss : 0.6526983891214643\n",
      "Epoch : 26, Iteration : 1 , Loss : 0.6339723467826843\n",
      "Epoch : 26, Iteration : 11 , Loss : 0.6478781700134277\n",
      "Epoch : 26, Iteration : 21 , Loss : 0.6418325901031494\n",
      "Epoch : 26, Iteration : 31 , Loss : 0.645078718662262\n",
      "Epoch : 26, Iteration : 41 , Loss : 0.6357563734054565\n",
      "Epoch : 26, Iteration : 51 , Loss : 0.6413483619689941\n",
      "Epoch : 26, Iteration : 61 , Loss : 0.6372413635253906\n"
     ]
    },
    {
     "name": "stderr",
     "output_type": "stream",
     "text": [
      "INFO:root:Evaluating accuracy on dev set\n",
      "INFO:root:Train loss: 0.6386697145475857 - acc: 0.7688270795814334 -- Validation loss: 0.6525748116629464 - acc: 0.5120249041858621\n",
      " 87%|████████▋ | 26/30 [01:11<00:10,  2.74s/it]"
     ]
    },
    {
     "name": "stdout",
     "output_type": "stream",
     "text": [
      "Epoch : 26 , Loss : 0.6386697145475857\n",
      "Epoch : 26, Validation Iteration : 1 , Loss : 0.6547964215278625\n",
      "Epoch : 26, Validation Loss : 0.6525748116629464\n",
      "Epoch : 27, Iteration : 1 , Loss : 0.6318002343177795\n",
      "Epoch : 27, Iteration : 11 , Loss : 0.6464499235153198\n",
      "Epoch : 27, Iteration : 21 , Loss : 0.6380637884140015\n",
      "Epoch : 27, Iteration : 31 , Loss : 0.6428601741790771\n",
      "Epoch : 27, Iteration : 41 , Loss : 0.6328921318054199\n",
      "Epoch : 27, Iteration : 51 , Loss : 0.648057222366333\n",
      "Epoch : 27, Iteration : 61 , Loss : 0.6387210488319397\n"
     ]
    },
    {
     "name": "stderr",
     "output_type": "stream",
     "text": [
      "INFO:root:Evaluating accuracy on dev set\n",
      "INFO:root:Train loss: 0.6385344292806543 - acc: 0.7639015236678004 -- Validation loss: 0.6523378831999642 - acc: 0.5172839859179224\n",
      " 90%|█████████ | 27/30 [01:14<00:08,  2.75s/it]"
     ]
    },
    {
     "name": "stdout",
     "output_type": "stream",
     "text": [
      "Epoch : 27 , Loss : 0.6385344292806543\n",
      "Epoch : 27, Validation Iteration : 1 , Loss : 0.6470273733139038\n",
      "Epoch : 27, Validation Loss : 0.6523378831999642\n",
      "Epoch : 28, Iteration : 1 , Loss : 0.6329556703567505\n",
      "Epoch : 28, Iteration : 11 , Loss : 0.6434766054153442\n",
      "Epoch : 28, Iteration : 21 , Loss : 0.6404287815093994\n",
      "Epoch : 28, Iteration : 31 , Loss : 0.6436114311218262\n",
      "Epoch : 28, Iteration : 41 , Loss : 0.6327052116394043\n",
      "Epoch : 28, Iteration : 51 , Loss : 0.6428945064544678\n",
      "Epoch : 28, Iteration : 61 , Loss : 0.6366739273071289\n"
     ]
    },
    {
     "name": "stderr",
     "output_type": "stream",
     "text": [
      "INFO:root:Evaluating accuracy on dev set\n",
      "INFO:root:Train loss: 0.6387513660002446 - acc: 0.7605545935453001 -- Validation loss: 0.653338006564549 - acc: 0.5167849089065583\n",
      " 93%|█████████▎| 28/30 [01:17<00:05,  2.75s/it]"
     ]
    },
    {
     "name": "stdout",
     "output_type": "stream",
     "text": [
      "Epoch : 28 , Loss : 0.6387513660002446\n",
      "Epoch : 28, Validation Iteration : 1 , Loss : 0.6486808657646179\n",
      "Epoch : 28, Validation Loss : 0.653338006564549\n",
      "Epoch : 29, Iteration : 1 , Loss : 0.6324743032455444\n",
      "Epoch : 29, Iteration : 11 , Loss : 0.6401520371437073\n",
      "Epoch : 29, Iteration : 21 , Loss : 0.6394741535186768\n",
      "Epoch : 29, Iteration : 31 , Loss : 0.6412490606307983\n",
      "Epoch : 29, Iteration : 41 , Loss : 0.6306878328323364\n",
      "Epoch : 29, Iteration : 51 , Loss : 0.6439192295074463\n",
      "Epoch : 29, Iteration : 61 , Loss : 0.6346249580383301\n"
     ]
    },
    {
     "name": "stderr",
     "output_type": "stream",
     "text": [
      "INFO:root:Evaluating accuracy on dev set\n",
      "INFO:root:Train loss: 0.6372181427651558 - acc: 0.7638565415480721 -- Validation loss: 0.6518785868372236 - acc: 0.48758605933074245\n",
      " 97%|█████████▋| 29/30 [01:20<00:02,  2.75s/it]"
     ]
    },
    {
     "name": "stdout",
     "output_type": "stream",
     "text": [
      "Epoch : 29 , Loss : 0.6372181427651558\n",
      "Epoch : 29, Validation Iteration : 1 , Loss : 0.6499078869819641\n",
      "Epoch : 29, Validation Loss : 0.6518785868372236\n",
      "Epoch : 30, Iteration : 1 , Loss : 0.632463812828064\n",
      "Epoch : 30, Iteration : 11 , Loss : 0.6429985761642456\n",
      "Epoch : 30, Iteration : 21 , Loss : 0.6362838745117188\n",
      "Epoch : 30, Iteration : 31 , Loss : 0.6420413255691528\n",
      "Epoch : 30, Iteration : 41 , Loss : 0.6319605112075806\n",
      "Epoch : 30, Iteration : 51 , Loss : 0.64363694190979\n",
      "Epoch : 30, Iteration : 61 , Loss : 0.6333370208740234\n"
     ]
    },
    {
     "name": "stderr",
     "output_type": "stream",
     "text": [
      "INFO:root:Evaluating accuracy on dev set\n",
      "INFO:root:Train loss: 0.6358610486638718 - acc: 0.7582453793894368 -- Validation loss: 0.653036790234702 - acc: 0.4965957479713235\n",
      "100%|██████████| 30/30 [01:22<00:00,  2.76s/it]\n"
     ]
    },
    {
     "name": "stdout",
     "output_type": "stream",
     "text": [
      "Epoch : 30 , Loss : 0.6358610486638718\n",
      "Epoch : 30, Validation Iteration : 1 , Loss : 0.6522760391235352\n",
      "Epoch : 30, Validation Loss : 0.653036790234702\n"
     ]
    },
    {
     "name": "stderr",
     "output_type": "stream",
     "text": [
      "\r",
      "  0%|          | 0/30 [00:00<?, ?it/s]"
     ]
    },
    {
     "name": "stdout",
     "output_type": "stream",
     "text": [
      "Epoch : 1, Iteration : 1 , Loss : 1.1354279518127441\n",
      "Epoch : 1, Iteration : 11 , Loss : 1.1811648607254028\n",
      "Epoch : 1, Iteration : 21 , Loss : 1.1360530853271484\n",
      "Epoch : 1, Iteration : 31 , Loss : 1.1461105346679688\n",
      "Epoch : 1, Iteration : 41 , Loss : 1.1338636875152588\n",
      "Epoch : 1, Iteration : 51 , Loss : 1.1290919780731201\n"
     ]
    },
    {
     "name": "stderr",
     "output_type": "stream",
     "text": [
      "INFO:root:Evaluating accuracy on dev set\n"
     ]
    },
    {
     "name": "stdout",
     "output_type": "stream",
     "text": [
      "Epoch : 1, Iteration : 61 , Loss : 1.119649887084961\n",
      "Epoch : 1 , Loss : 1.1708619197209675\n",
      "Epoch : 1, Validation Iteration : 1 , Loss : 1.1294746398925781\n"
     ]
    },
    {
     "name": "stderr",
     "output_type": "stream",
     "text": [
      "INFO:root:new model saved\n",
      "INFO:root:Train loss: 1.1708619197209675 - acc: 0.4109033959200034 -- Validation loss: 1.1351688759667533 - acc: 0.5049087232300754\n",
      "  3%|▎         | 1/30 [00:01<00:44,  1.54s/it]"
     ]
    },
    {
     "name": "stdout",
     "output_type": "stream",
     "text": [
      "Epoch : 1, Validation Loss : 1.1351688759667533\n",
      "Epoch : 2, Iteration : 1 , Loss : 1.145298719406128\n",
      "Epoch : 2, Iteration : 11 , Loss : 1.1345001459121704\n",
      "Epoch : 2, Iteration : 21 , Loss : 1.1173021793365479\n",
      "Epoch : 2, Iteration : 31 , Loss : 1.1332038640975952\n",
      "Epoch : 2, Iteration : 41 , Loss : 1.1266820430755615\n",
      "Epoch : 2, Iteration : 51 , Loss : 1.1231685876846313\n",
      "Epoch : 2, Iteration : 61 , Loss : 1.1167564392089844\n"
     ]
    },
    {
     "name": "stderr",
     "output_type": "stream",
     "text": [
      "INFO:root:Evaluating accuracy on dev set\n",
      "INFO:root:new model saved\n",
      "INFO:root:Train loss: 1.1278932561045107 - acc: 0.5219878273735606 -- Validation loss: 1.134729061807905 - acc: 0.5236756117275342\n",
      "  7%|▋         | 2/30 [00:02<00:41,  1.48s/it]"
     ]
    },
    {
     "name": "stdout",
     "output_type": "stream",
     "text": [
      "Epoch : 2 , Loss : 1.1278932561045107\n",
      "Epoch : 2, Validation Iteration : 1 , Loss : 1.1372616291046143\n",
      "Epoch : 2, Validation Loss : 1.134729061807905\n",
      "Epoch : 3, Iteration : 1 , Loss : 1.134539008140564\n",
      "Epoch : 3, Iteration : 11 , Loss : 1.1280484199523926\n",
      "Epoch : 3, Iteration : 21 , Loss : 1.126448392868042\n",
      "Epoch : 3, Iteration : 31 , Loss : 1.1317031383514404\n",
      "Epoch : 3, Iteration : 41 , Loss : 1.1199015378952026\n",
      "Epoch : 3, Iteration : 51 , Loss : 1.1192944049835205\n",
      "Epoch : 3, Iteration : 61 , Loss : 1.113598346710205\n"
     ]
    },
    {
     "name": "stderr",
     "output_type": "stream",
     "text": [
      "INFO:root:Evaluating accuracy on dev set\n",
      "INFO:root:new model saved\n",
      "INFO:root:Train loss: 1.12408273116402 - acc: 0.5710607378630219 -- Validation loss: 1.1250545297350203 - acc: 0.5347682123632432\n",
      " 10%|█         | 3/30 [00:04<00:39,  1.46s/it]"
     ]
    },
    {
     "name": "stdout",
     "output_type": "stream",
     "text": [
      "Epoch : 3 , Loss : 1.12408273116402\n",
      "Epoch : 3, Validation Iteration : 1 , Loss : 1.1201144456863403\n",
      "Epoch : 3, Validation Loss : 1.1250545297350203\n",
      "Epoch : 4, Iteration : 1 , Loss : 1.123589038848877\n",
      "Epoch : 4, Iteration : 11 , Loss : 1.124107837677002\n",
      "Epoch : 4, Iteration : 21 , Loss : 1.121360421180725\n",
      "Epoch : 4, Iteration : 31 , Loss : 1.1309356689453125\n",
      "Epoch : 4, Iteration : 41 , Loss : 1.1132652759552002\n",
      "Epoch : 4, Iteration : 51 , Loss : 1.1158288717269897\n",
      "Epoch : 4, Iteration : 61 , Loss : 1.112034797668457\n"
     ]
    },
    {
     "name": "stderr",
     "output_type": "stream",
     "text": [
      "INFO:root:Evaluating accuracy on dev set\n",
      "INFO:root:new model saved\n",
      "INFO:root:Train loss: 1.1207171505776004 - acc: 0.6150606757936018 -- Validation loss: 1.124341300555638 - acc: 0.5528909254236122\n",
      " 13%|█▎        | 4/30 [00:05<00:37,  1.46s/it]"
     ]
    },
    {
     "name": "stdout",
     "output_type": "stream",
     "text": [
      "Epoch : 4 , Loss : 1.1207171505776004\n",
      "Epoch : 4, Validation Iteration : 1 , Loss : 1.1202428340911865\n",
      "Epoch : 4, Validation Loss : 1.124341300555638\n",
      "Epoch : 5, Iteration : 1 , Loss : 1.114065408706665\n",
      "Epoch : 5, Iteration : 11 , Loss : 1.117391586303711\n",
      "Epoch : 5, Iteration : 21 , Loss : 1.1198244094848633\n",
      "Epoch : 5, Iteration : 31 , Loss : 1.1259169578552246\n",
      "Epoch : 5, Iteration : 41 , Loss : 1.1169428825378418\n",
      "Epoch : 5, Iteration : 51 , Loss : 1.1170778274536133\n",
      "Epoch : 5, Iteration : 61 , Loss : 1.121269702911377\n"
     ]
    },
    {
     "name": "stderr",
     "output_type": "stream",
     "text": [
      "INFO:root:Evaluating accuracy on dev set\n",
      "INFO:root:Train loss: 1.1193853668544604 - acc: 0.6305191700153119 -- Validation loss: 1.1229434183665685 - acc: 0.5174483594112722\n",
      " 17%|█▋        | 5/30 [00:07<00:35,  1.43s/it]"
     ]
    },
    {
     "name": "stdout",
     "output_type": "stream",
     "text": [
      "Epoch : 5 , Loss : 1.1193853668544604\n",
      "Epoch : 5, Validation Iteration : 1 , Loss : 1.1219520568847656\n",
      "Epoch : 5, Validation Loss : 1.1229434183665685\n",
      "Epoch : 6, Iteration : 1 , Loss : 1.114639163017273\n",
      "Epoch : 6, Iteration : 11 , Loss : 1.1187139749526978\n",
      "Epoch : 6, Iteration : 21 , Loss : 1.1162779331207275\n",
      "Epoch : 6, Iteration : 31 , Loss : 1.1231613159179688\n",
      "Epoch : 6, Iteration : 41 , Loss : 1.109455943107605\n",
      "Epoch : 6, Iteration : 51 , Loss : 1.1154935359954834\n",
      "Epoch : 6, Iteration : 61 , Loss : 1.121131181716919\n"
     ]
    },
    {
     "name": "stderr",
     "output_type": "stream",
     "text": [
      "INFO:root:Evaluating accuracy on dev set\n",
      "INFO:root:Train loss: 1.1189233876656794 - acc: 0.6397762355104241 -- Validation loss: 1.1201610565185547 - acc: 0.550138271755865\n",
      " 20%|██        | 6/30 [00:08<00:34,  1.42s/it]"
     ]
    },
    {
     "name": "stdout",
     "output_type": "stream",
     "text": [
      "Epoch : 6 , Loss : 1.1189233876656794\n",
      "Epoch : 6, Validation Iteration : 1 , Loss : 1.1183685064315796\n",
      "Epoch : 6, Validation Loss : 1.1201610565185547\n",
      "Epoch : 7, Iteration : 1 , Loss : 1.1090761423110962\n",
      "Epoch : 7, Iteration : 11 , Loss : 1.1195414066314697\n",
      "Epoch : 7, Iteration : 21 , Loss : 1.1116235256195068\n",
      "Epoch : 7, Iteration : 31 , Loss : 1.11482572555542\n",
      "Epoch : 7, Iteration : 41 , Loss : 1.1126930713653564\n",
      "Epoch : 7, Iteration : 51 , Loss : 1.113797903060913\n",
      "Epoch : 7, Iteration : 61 , Loss : 1.1153837442398071\n"
     ]
    },
    {
     "name": "stderr",
     "output_type": "stream",
     "text": [
      "INFO:root:Evaluating accuracy on dev set\n",
      "INFO:root:Train loss: 1.114657291467639 - acc: 0.674176724826869 -- Validation loss: 1.1221519368035453 - acc: 0.5293286276541617\n",
      " 23%|██▎       | 7/30 [00:10<00:32,  1.42s/it]"
     ]
    },
    {
     "name": "stdout",
     "output_type": "stream",
     "text": [
      "Epoch : 7 , Loss : 1.114657291467639\n",
      "Epoch : 7, Validation Iteration : 1 , Loss : 1.1230275630950928\n",
      "Epoch : 7, Validation Loss : 1.1221519368035453\n",
      "Epoch : 8, Iteration : 1 , Loss : 1.1090006828308105\n",
      "Epoch : 8, Iteration : 11 , Loss : 1.1393717527389526\n",
      "Epoch : 8, Iteration : 21 , Loss : 1.1144614219665527\n",
      "Epoch : 8, Iteration : 31 , Loss : 1.1165084838867188\n",
      "Epoch : 8, Iteration : 41 , Loss : 1.1091227531433105\n",
      "Epoch : 8, Iteration : 51 , Loss : 1.1137362718582153\n",
      "Epoch : 8, Iteration : 61 , Loss : 1.116161823272705\n"
     ]
    },
    {
     "name": "stderr",
     "output_type": "stream",
     "text": [
      "INFO:root:Evaluating accuracy on dev set\n",
      "INFO:root:new model saved\n",
      "INFO:root:Train loss: 1.1131155974623086 - acc: 0.6862357880130342 -- Validation loss: 1.121758188520159 - acc: 0.5543233038864273\n",
      " 27%|██▋       | 8/30 [00:11<00:31,  1.42s/it]"
     ]
    },
    {
     "name": "stdout",
     "output_type": "stream",
     "text": [
      "Epoch : 8 , Loss : 1.1131155974623086\n",
      "Epoch : 8, Validation Iteration : 1 , Loss : 1.1188009977340698\n",
      "Epoch : 8, Validation Loss : 1.121758188520159\n",
      "Epoch : 9, Iteration : 1 , Loss : 1.1091656684875488\n",
      "Epoch : 9, Iteration : 11 , Loss : 1.1203029155731201\n",
      "Epoch : 9, Iteration : 21 , Loss : 1.1098628044128418\n",
      "Epoch : 9, Iteration : 31 , Loss : 1.1164209842681885\n",
      "Epoch : 9, Iteration : 41 , Loss : 1.106872797012329\n",
      "Epoch : 9, Iteration : 51 , Loss : 1.1139789819717407\n",
      "Epoch : 9, Iteration : 61 , Loss : 1.1119028329849243\n"
     ]
    },
    {
     "name": "stderr",
     "output_type": "stream",
     "text": [
      "INFO:root:Evaluating accuracy on dev set\n",
      "INFO:root:Train loss: 1.1110782502354055 - acc: 0.7127847349016103 -- Validation loss: 1.1215363911220007 - acc: 0.5413331129995175\n",
      " 30%|███       | 9/30 [00:12<00:29,  1.42s/it]"
     ]
    },
    {
     "name": "stdout",
     "output_type": "stream",
     "text": [
      "Epoch : 9 , Loss : 1.1110782502354055\n",
      "Epoch : 9, Validation Iteration : 1 , Loss : 1.117082118988037\n",
      "Epoch : 9, Validation Loss : 1.1215363911220007\n",
      "Epoch : 10, Iteration : 1 , Loss : 1.106156587600708\n",
      "Epoch : 10, Iteration : 11 , Loss : 1.1107879877090454\n",
      "Epoch : 10, Iteration : 21 , Loss : 1.1102745532989502\n",
      "Epoch : 10, Iteration : 31 , Loss : 1.116135835647583\n",
      "Epoch : 10, Iteration : 41 , Loss : 1.097494125366211\n",
      "Epoch : 10, Iteration : 51 , Loss : 1.088698148727417\n",
      "Epoch : 10, Iteration : 61 , Loss : 1.066055178642273\n"
     ]
    },
    {
     "name": "stderr",
     "output_type": "stream",
     "text": [
      "INFO:root:Evaluating accuracy on dev set\n",
      "INFO:root:Train loss: 1.0973558149475982 - acc: 0.7086636967935864 -- Validation loss: 1.0809783254350935 - acc: 0.5187298836990016\n",
      " 33%|███▎      | 10/30 [00:14<00:28,  1.41s/it]"
     ]
    },
    {
     "name": "stdout",
     "output_type": "stream",
     "text": [
      "Epoch : 10 , Loss : 1.0973558149475982\n",
      "Epoch : 10, Validation Iteration : 1 , Loss : 1.068166732788086\n",
      "Epoch : 10, Validation Loss : 1.0809783254350935\n",
      "Epoch : 11, Iteration : 1 , Loss : 1.0608807802200317\n",
      "Epoch : 11, Iteration : 11 , Loss : 1.0578422546386719\n",
      "Epoch : 11, Iteration : 21 , Loss : 1.0338151454925537\n",
      "Epoch : 11, Iteration : 31 , Loss : 1.030329942703247\n",
      "Epoch : 11, Iteration : 41 , Loss : 1.0206434726715088\n",
      "Epoch : 11, Iteration : 51 , Loss : 1.0261280536651611\n",
      "Epoch : 11, Iteration : 61 , Loss : 1.0151911973953247\n"
     ]
    },
    {
     "name": "stderr",
     "output_type": "stream",
     "text": [
      "INFO:root:Evaluating accuracy on dev set\n",
      "INFO:root:Train loss: 1.0332786138506904 - acc: 0.6834145058603517 -- Validation loss: 1.092878086226327 - acc: 0.5186173788772096\n",
      " 37%|███▋      | 11/30 [00:15<00:26,  1.41s/it]"
     ]
    },
    {
     "name": "stdout",
     "output_type": "stream",
     "text": [
      "Epoch : 11 , Loss : 1.0332786138506904\n",
      "Epoch : 11, Validation Iteration : 1 , Loss : 1.0774844884872437\n",
      "Epoch : 11, Validation Loss : 1.092878086226327\n",
      "Epoch : 12, Iteration : 1 , Loss : 1.0679328441619873\n",
      "Epoch : 12, Iteration : 11 , Loss : 1.001905918121338\n",
      "Epoch : 12, Iteration : 21 , Loss : 0.9992939233779907\n",
      "Epoch : 12, Iteration : 31 , Loss : 1.0003353357315063\n",
      "Epoch : 12, Iteration : 41 , Loss : 0.9912705421447754\n",
      "Epoch : 12, Iteration : 51 , Loss : 0.9970700740814209\n",
      "Epoch : 12, Iteration : 61 , Loss : 0.9911317825317383\n"
     ]
    },
    {
     "name": "stderr",
     "output_type": "stream",
     "text": [
      "INFO:root:Evaluating accuracy on dev set\n",
      "INFO:root:Train loss: 0.9971924130467401 - acc: 0.6817927456967761 -- Validation loss: 1.0008303778512138 - acc: 0.5469409529864011\n",
      " 40%|████      | 12/30 [00:17<00:25,  1.42s/it]"
     ]
    },
    {
     "name": "stdout",
     "output_type": "stream",
     "text": [
      "Epoch : 12 , Loss : 0.9971924130467401\n",
      "Epoch : 12, Validation Iteration : 1 , Loss : 1.0014559030532837\n",
      "Epoch : 12, Validation Loss : 1.0008303778512138\n",
      "Epoch : 13, Iteration : 1 , Loss : 0.9941306114196777\n",
      "Epoch : 13, Iteration : 11 , Loss : 0.9908328056335449\n",
      "Epoch : 13, Iteration : 21 , Loss : 0.9968748092651367\n",
      "Epoch : 13, Iteration : 31 , Loss : 0.99960857629776\n",
      "Epoch : 13, Iteration : 41 , Loss : 0.987064003944397\n",
      "Epoch : 13, Iteration : 51 , Loss : 0.9929004907608032\n",
      "Epoch : 13, Iteration : 61 , Loss : 0.9890466928482056\n"
     ]
    },
    {
     "name": "stderr",
     "output_type": "stream",
     "text": [
      "INFO:root:Evaluating accuracy on dev set\n",
      "INFO:root:Train loss: 0.9934889924698982 - acc: 0.6995502344412531 -- Validation loss: 1.0075119393212455 - acc: 0.4985341638865891\n",
      " 43%|████▎     | 13/30 [00:18<00:23,  1.41s/it]"
     ]
    },
    {
     "name": "stdout",
     "output_type": "stream",
     "text": [
      "Epoch : 13 , Loss : 0.9934889924698982\n",
      "Epoch : 13, Validation Iteration : 1 , Loss : 0.9979466199874878\n",
      "Epoch : 13, Validation Loss : 1.0075119393212455\n",
      "Epoch : 14, Iteration : 1 , Loss : 0.9847030639648438\n",
      "Epoch : 14, Iteration : 11 , Loss : 0.9895851612091064\n",
      "Epoch : 14, Iteration : 21 , Loss : 0.969672679901123\n",
      "Epoch : 14, Iteration : 31 , Loss : 0.9563695192337036\n",
      "Epoch : 14, Iteration : 41 , Loss : 0.9202936887741089\n",
      "Epoch : 14, Iteration : 51 , Loss : 0.9178553819656372\n",
      "Epoch : 14, Iteration : 61 , Loss : 0.8924391269683838\n"
     ]
    },
    {
     "name": "stderr",
     "output_type": "stream",
     "text": [
      "INFO:root:Evaluating accuracy on dev set\n",
      "INFO:root:Train loss: 0.9409072157265483 - acc: 0.6882909606226385 -- Validation loss: 0.9723152688571385 - acc: 0.45467381443529126\n",
      " 47%|████▋     | 14/30 [00:19<00:22,  1.41s/it]"
     ]
    },
    {
     "name": "stdout",
     "output_type": "stream",
     "text": [
      "Epoch : 14 , Loss : 0.9409072157265483\n",
      "Epoch : 14, Validation Iteration : 1 , Loss : 0.9732354879379272\n",
      "Epoch : 14, Validation Loss : 0.9723152688571385\n",
      "Epoch : 15, Iteration : 1 , Loss : 0.9625893235206604\n",
      "Epoch : 15, Iteration : 11 , Loss : 0.8743609189987183\n",
      "Epoch : 15, Iteration : 21 , Loss : 0.8501244783401489\n",
      "Epoch : 15, Iteration : 31 , Loss : 0.8402427434921265\n",
      "Epoch : 15, Iteration : 41 , Loss : 0.7943263649940491\n",
      "Epoch : 15, Iteration : 51 , Loss : 0.816615104675293\n",
      "Epoch : 15, Iteration : 61 , Loss : 0.7786978483200073\n"
     ]
    },
    {
     "name": "stderr",
     "output_type": "stream",
     "text": [
      "INFO:root:Evaluating accuracy on dev set\n",
      "INFO:root:Train loss: 0.8373309373855591 - acc: 0.5936732136278309 -- Validation loss: 0.7814670545714242 - acc: 0.4469807869244627\n",
      " 50%|█████     | 15/30 [00:21<00:21,  1.40s/it]"
     ]
    },
    {
     "name": "stdout",
     "output_type": "stream",
     "text": [
      "Epoch : 15 , Loss : 0.8373309373855591\n",
      "Epoch : 15, Validation Iteration : 1 , Loss : 0.7670083045959473\n",
      "Epoch : 15, Validation Loss : 0.7814670545714242\n",
      "Epoch : 16, Iteration : 1 , Loss : 0.7607712149620056\n",
      "Epoch : 16, Iteration : 11 , Loss : 0.7800477743148804\n",
      "Epoch : 16, Iteration : 21 , Loss : 0.7563265562057495\n",
      "Epoch : 16, Iteration : 31 , Loss : 0.8094189167022705\n",
      "Epoch : 16, Iteration : 41 , Loss : 0.7247591614723206\n",
      "Epoch : 16, Iteration : 51 , Loss : 0.7310163974761963\n",
      "Epoch : 16, Iteration : 61 , Loss : 0.6756756901741028\n"
     ]
    },
    {
     "name": "stderr",
     "output_type": "stream",
     "text": [
      "INFO:root:Evaluating accuracy on dev set\n",
      "INFO:root:Train loss: 0.7498413298441016 - acc: 0.5592797296285144 -- Validation loss: 0.7183517983981541 - acc: 0.41266715091449474\n",
      " 53%|█████▎    | 16/30 [00:22<00:19,  1.41s/it]"
     ]
    },
    {
     "name": "stdout",
     "output_type": "stream",
     "text": [
      "Epoch : 16 , Loss : 0.7498413298441016\n",
      "Epoch : 16, Validation Iteration : 1 , Loss : 0.6973832845687866\n",
      "Epoch : 16, Validation Loss : 0.7183517983981541\n",
      "Epoch : 17, Iteration : 1 , Loss : 0.6897696256637573\n",
      "Epoch : 17, Iteration : 11 , Loss : 0.7122944593429565\n",
      "Epoch : 17, Iteration : 21 , Loss : 0.6854621171951294\n",
      "Epoch : 17, Iteration : 31 , Loss : 0.689122200012207\n",
      "Epoch : 17, Iteration : 41 , Loss : 0.6636691093444824\n",
      "Epoch : 17, Iteration : 51 , Loss : 0.6977586150169373\n",
      "Epoch : 17, Iteration : 61 , Loss : 0.6529072523117065\n"
     ]
    },
    {
     "name": "stderr",
     "output_type": "stream",
     "text": [
      "INFO:root:Evaluating accuracy on dev set\n",
      "INFO:root:Train loss: 0.6993616275165392 - acc: 0.46754930863396454 -- Validation loss: 0.7207237482070923 - acc: 0.40109715771849863\n",
      " 57%|█████▋    | 17/30 [00:24<00:18,  1.40s/it]"
     ]
    },
    {
     "name": "stdout",
     "output_type": "stream",
     "text": [
      "Epoch : 17 , Loss : 0.6993616275165392\n",
      "Epoch : 17, Validation Iteration : 1 , Loss : 0.7128786444664001\n",
      "Epoch : 17, Validation Loss : 0.7207237482070923\n",
      "Epoch : 18, Iteration : 1 , Loss : 0.6897246241569519\n",
      "Epoch : 18, Iteration : 11 , Loss : 0.6578812003135681\n",
      "Epoch : 18, Iteration : 21 , Loss : 0.6436285376548767\n",
      "Epoch : 18, Iteration : 31 , Loss : 0.6424503326416016\n",
      "Epoch : 18, Iteration : 41 , Loss : 0.6253752708435059\n",
      "Epoch : 18, Iteration : 51 , Loss : 0.6464623808860779\n",
      "Epoch : 18, Iteration : 61 , Loss : 0.6194663643836975\n"
     ]
    },
    {
     "name": "stderr",
     "output_type": "stream",
     "text": [
      "INFO:root:Evaluating accuracy on dev set\n",
      "INFO:root:Train loss: 0.6419708253680796 - acc: 0.5426521795437218 -- Validation loss: 0.6408783197402954 - acc: 0.4808169634468256\n",
      " 60%|██████    | 18/30 [00:25<00:16,  1.40s/it]"
     ]
    },
    {
     "name": "stdout",
     "output_type": "stream",
     "text": [
      "Epoch : 18 , Loss : 0.6419708253680796\n",
      "Epoch : 18, Validation Iteration : 1 , Loss : 0.6301213502883911\n",
      "Epoch : 18, Validation Loss : 0.6408783197402954\n",
      "Epoch : 19, Iteration : 1 , Loss : 0.6194548606872559\n",
      "Epoch : 19, Iteration : 11 , Loss : 0.6333209276199341\n",
      "Epoch : 19, Iteration : 21 , Loss : 0.6208264827728271\n",
      "Epoch : 19, Iteration : 31 , Loss : 0.6261738538742065\n",
      "Epoch : 19, Iteration : 41 , Loss : 0.6143193244934082\n",
      "Epoch : 19, Iteration : 51 , Loss : 0.6233282089233398\n",
      "Epoch : 19, Iteration : 61 , Loss : 0.6125701069831848\n"
     ]
    },
    {
     "name": "stderr",
     "output_type": "stream",
     "text": [
      "INFO:root:Evaluating accuracy on dev set\n",
      "INFO:root:Train loss: 0.624469172263491 - acc: 0.5922124354832355 -- Validation loss: 0.6286231364522662 - acc: 0.4631719775833343\n",
      " 63%|██████▎   | 19/30 [00:26<00:15,  1.40s/it]"
     ]
    },
    {
     "name": "stdout",
     "output_type": "stream",
     "text": [
      "Epoch : 19 , Loss : 0.624469172263491\n",
      "Epoch : 19, Validation Iteration : 1 , Loss : 0.6237531900405884\n",
      "Epoch : 19, Validation Loss : 0.6286231364522662\n",
      "Epoch : 20, Iteration : 1 , Loss : 0.6075966358184814\n",
      "Epoch : 20, Iteration : 11 , Loss : 0.615607500076294\n",
      "Epoch : 20, Iteration : 21 , Loss : 0.6111432313919067\n",
      "Epoch : 20, Iteration : 31 , Loss : 0.6134564876556396\n",
      "Epoch : 20, Iteration : 41 , Loss : 0.6071065664291382\n",
      "Epoch : 20, Iteration : 51 , Loss : 0.6160717606544495\n",
      "Epoch : 20, Iteration : 61 , Loss : 0.6087231040000916\n"
     ]
    },
    {
     "name": "stderr",
     "output_type": "stream",
     "text": [
      "INFO:root:Evaluating accuracy on dev set\n",
      "INFO:root:Train loss: 0.6142922898997432 - acc: 0.6320329308035378 -- Validation loss: 0.6215929729597909 - acc: 0.5022599407600803\n",
      " 67%|██████▋   | 20/30 [00:28<00:14,  1.40s/it]"
     ]
    },
    {
     "name": "stdout",
     "output_type": "stream",
     "text": [
      "Epoch : 20 , Loss : 0.6142922898997432\n",
      "Epoch : 20, Validation Iteration : 1 , Loss : 0.6178052425384521\n",
      "Epoch : 20, Validation Loss : 0.6215929729597909\n",
      "Epoch : 21, Iteration : 1 , Loss : 0.6046714782714844\n",
      "Epoch : 21, Iteration : 11 , Loss : 0.6155121326446533\n",
      "Epoch : 21, Iteration : 21 , Loss : 0.6107614040374756\n",
      "Epoch : 21, Iteration : 31 , Loss : 0.6082890033721924\n",
      "Epoch : 21, Iteration : 41 , Loss : 0.6005541682243347\n",
      "Epoch : 21, Iteration : 51 , Loss : 0.6181563138961792\n",
      "Epoch : 21, Iteration : 61 , Loss : 0.6062747836112976\n"
     ]
    },
    {
     "name": "stderr",
     "output_type": "stream",
     "text": [
      "INFO:root:Evaluating accuracy on dev set\n",
      "INFO:root:Train loss: 0.6096716549085535 - acc: 0.6722710301712512 -- Validation loss: 0.6172811048371452 - acc: 0.502380008368822\n",
      " 70%|███████   | 21/30 [00:29<00:12,  1.41s/it]"
     ]
    },
    {
     "name": "stdout",
     "output_type": "stream",
     "text": [
      "Epoch : 21 , Loss : 0.6096716549085535\n",
      "Epoch : 21, Validation Iteration : 1 , Loss : 0.615095853805542\n",
      "Epoch : 21, Validation Loss : 0.6172811048371452\n",
      "Epoch : 22, Iteration : 1 , Loss : 0.6034549474716187\n",
      "Epoch : 22, Iteration : 11 , Loss : 0.6048543453216553\n",
      "Epoch : 22, Iteration : 21 , Loss : 0.6025060415267944\n",
      "Epoch : 22, Iteration : 31 , Loss : 0.6071286201477051\n",
      "Epoch : 22, Iteration : 41 , Loss : 0.5990433692932129\n",
      "Epoch : 22, Iteration : 51 , Loss : 0.6069876551628113\n",
      "Epoch : 22, Iteration : 61 , Loss : 0.6040040254592896\n"
     ]
    },
    {
     "name": "stderr",
     "output_type": "stream",
     "text": [
      "INFO:root:Evaluating accuracy on dev set\n",
      "INFO:root:Train loss: 0.6051927519881207 - acc: 0.6909546105826695 -- Validation loss: 0.6160292625427246 - acc: 0.514827418705623\n",
      " 73%|███████▎  | 22/30 [00:31<00:11,  1.40s/it]"
     ]
    },
    {
     "name": "stdout",
     "output_type": "stream",
     "text": [
      "Epoch : 22 , Loss : 0.6051927519881207\n",
      "Epoch : 22, Validation Iteration : 1 , Loss : 0.6111942529678345\n",
      "Epoch : 22, Validation Loss : 0.6160292625427246\n",
      "Epoch : 23, Iteration : 1 , Loss : 0.5970977544784546\n",
      "Epoch : 23, Iteration : 11 , Loss : 0.6034067869186401\n",
      "Epoch : 23, Iteration : 21 , Loss : 0.5998411178588867\n",
      "Epoch : 23, Iteration : 31 , Loss : 0.6031540632247925\n",
      "Epoch : 23, Iteration : 41 , Loss : 0.5983389616012573\n",
      "Epoch : 23, Iteration : 51 , Loss : 0.6040294170379639\n",
      "Epoch : 23, Iteration : 61 , Loss : 0.6031054258346558\n"
     ]
    },
    {
     "name": "stderr",
     "output_type": "stream",
     "text": [
      "INFO:root:Evaluating accuracy on dev set\n",
      "INFO:root:Train loss: 0.6029502896295078 - acc: 0.7067377353850466 -- Validation loss: 0.6146461197308132 - acc: 0.5236242784745213\n",
      " 77%|███████▋  | 23/30 [00:32<00:09,  1.40s/it]"
     ]
    },
    {
     "name": "stdout",
     "output_type": "stream",
     "text": [
      "Epoch : 23 , Loss : 0.6029502896295078\n",
      "Epoch : 23, Validation Iteration : 1 , Loss : 0.6106297373771667\n",
      "Epoch : 23, Validation Loss : 0.6146461197308132\n",
      "Epoch : 24, Iteration : 1 , Loss : 0.5950080156326294\n",
      "Epoch : 24, Iteration : 11 , Loss : 0.6029696464538574\n",
      "Epoch : 24, Iteration : 21 , Loss : 0.5986047983169556\n",
      "Epoch : 24, Iteration : 31 , Loss : 0.6042317152023315\n",
      "Epoch : 24, Iteration : 41 , Loss : 0.5951412320137024\n",
      "Epoch : 24, Iteration : 51 , Loss : 0.6042975187301636\n",
      "Epoch : 24, Iteration : 61 , Loss : 0.598994255065918\n"
     ]
    },
    {
     "name": "stderr",
     "output_type": "stream",
     "text": [
      "INFO:root:Evaluating accuracy on dev set\n",
      "INFO:root:Train loss: 0.6017642539480458 - acc: 0.715246751290619 -- Validation loss: 0.6125953963824681 - acc: 0.5233893635878527\n",
      " 80%|████████  | 24/30 [00:33<00:08,  1.40s/it]"
     ]
    },
    {
     "name": "stdout",
     "output_type": "stream",
     "text": [
      "Epoch : 24 , Loss : 0.6017642539480458\n",
      "Epoch : 24, Validation Iteration : 1 , Loss : 0.6099691390991211\n",
      "Epoch : 24, Validation Loss : 0.6125953963824681\n",
      "Epoch : 25, Iteration : 1 , Loss : 0.5952491760253906\n",
      "Epoch : 25, Iteration : 11 , Loss : 0.6049996018409729\n",
      "Epoch : 25, Iteration : 21 , Loss : 0.5963132977485657\n",
      "Epoch : 25, Iteration : 31 , Loss : 0.5973271727561951\n",
      "Epoch : 25, Iteration : 41 , Loss : 0.5904160737991333\n",
      "Epoch : 25, Iteration : 51 , Loss : 0.599332869052887\n",
      "Epoch : 25, Iteration : 61 , Loss : 0.5928916931152344\n"
     ]
    },
    {
     "name": "stderr",
     "output_type": "stream",
     "text": [
      "INFO:root:Evaluating accuracy on dev set\n",
      "INFO:root:Train loss: 0.5984520393869152 - acc: 0.7268083232843642 -- Validation loss: 0.6156772204807827 - acc: 0.5026989170397553\n",
      " 83%|████████▎ | 25/30 [00:35<00:06,  1.40s/it]"
     ]
    },
    {
     "name": "stdout",
     "output_type": "stream",
     "text": [
      "Epoch : 25 , Loss : 0.5984520393869152\n",
      "Epoch : 25, Validation Iteration : 1 , Loss : 0.6086822748184204\n",
      "Epoch : 25, Validation Loss : 0.6156772204807827\n",
      "Epoch : 26, Iteration : 1 , Loss : 0.596390962600708\n",
      "Epoch : 26, Iteration : 11 , Loss : 0.5976428389549255\n",
      "Epoch : 26, Iteration : 21 , Loss : 0.5963550806045532\n",
      "Epoch : 26, Iteration : 31 , Loss : 0.599590539932251\n",
      "Epoch : 26, Iteration : 41 , Loss : 0.5908017754554749\n",
      "Epoch : 26, Iteration : 51 , Loss : 0.6207545399665833\n",
      "Epoch : 26, Iteration : 61 , Loss : 0.60261070728302\n"
     ]
    },
    {
     "name": "stderr",
     "output_type": "stream",
     "text": [
      "INFO:root:Evaluating accuracy on dev set\n",
      "INFO:root:Train loss: 0.599012653896774 - acc: 0.7268944657249854 -- Validation loss: 0.6075886573110308 - acc: 0.5006354808942056\n",
      " 87%|████████▋ | 26/30 [00:36<00:05,  1.40s/it]"
     ]
    },
    {
     "name": "stdout",
     "output_type": "stream",
     "text": [
      "Epoch : 26 , Loss : 0.599012653896774\n",
      "Epoch : 26, Validation Iteration : 1 , Loss : 0.6026296615600586\n",
      "Epoch : 26, Validation Loss : 0.6075886573110308\n",
      "Epoch : 27, Iteration : 1 , Loss : 0.5900143384933472\n",
      "Epoch : 27, Iteration : 11 , Loss : 0.5987440347671509\n",
      "Epoch : 27, Iteration : 21 , Loss : 0.5957099199295044\n",
      "Epoch : 27, Iteration : 31 , Loss : 0.596589207649231\n",
      "Epoch : 27, Iteration : 41 , Loss : 0.5911827087402344\n",
      "Epoch : 27, Iteration : 51 , Loss : 0.6006054282188416\n",
      "Epoch : 27, Iteration : 61 , Loss : 0.5925936698913574\n"
     ]
    },
    {
     "name": "stderr",
     "output_type": "stream",
     "text": [
      "INFO:root:Evaluating accuracy on dev set\n",
      "INFO:root:Train loss: 0.5991899025612983 - acc: 0.725512186664917 -- Validation loss: 0.6092885562351772 - acc: 0.49173220668946593\n",
      " 90%|█████████ | 27/30 [00:38<00:04,  1.41s/it]"
     ]
    },
    {
     "name": "stdout",
     "output_type": "stream",
     "text": [
      "Epoch : 27 , Loss : 0.5991899025612983\n",
      "Epoch : 27, Validation Iteration : 1 , Loss : 0.6083357930183411\n",
      "Epoch : 27, Validation Loss : 0.6092885562351772\n",
      "Epoch : 28, Iteration : 1 , Loss : 0.5907061696052551\n",
      "Epoch : 28, Iteration : 11 , Loss : 0.5978599786758423\n",
      "Epoch : 28, Iteration : 21 , Loss : 0.5923537015914917\n",
      "Epoch : 28, Iteration : 31 , Loss : 0.5957608819007874\n",
      "Epoch : 28, Iteration : 41 , Loss : 0.5901565551757812\n",
      "Epoch : 28, Iteration : 51 , Loss : 0.6015359163284302\n",
      "Epoch : 28, Iteration : 61 , Loss : 0.5965263247489929\n"
     ]
    },
    {
     "name": "stderr",
     "output_type": "stream",
     "text": [
      "INFO:root:Evaluating accuracy on dev set\n",
      "INFO:root:Train loss: 0.5953746990881105 - acc: 0.7299625410795554 -- Validation loss: 0.6057625668389457 - acc: 0.5276765268058955\n",
      " 93%|█████████▎| 28/30 [00:39<00:02,  1.41s/it]"
     ]
    },
    {
     "name": "stdout",
     "output_type": "stream",
     "text": [
      "Epoch : 28 , Loss : 0.5953746990881105\n",
      "Epoch : 28, Validation Iteration : 1 , Loss : 0.604399561882019\n",
      "Epoch : 28, Validation Loss : 0.6057625668389457\n",
      "Epoch : 29, Iteration : 1 , Loss : 0.5879889726638794\n",
      "Epoch : 29, Iteration : 11 , Loss : 0.5963823795318604\n",
      "Epoch : 29, Iteration : 21 , Loss : 0.5922288298606873\n",
      "Epoch : 29, Iteration : 31 , Loss : 0.595096230506897\n",
      "Epoch : 29, Iteration : 41 , Loss : 0.5878034234046936\n",
      "Epoch : 29, Iteration : 51 , Loss : 0.5957088470458984\n",
      "Epoch : 29, Iteration : 61 , Loss : 0.5904169082641602\n"
     ]
    },
    {
     "name": "stderr",
     "output_type": "stream",
     "text": [
      "INFO:root:Evaluating accuracy on dev set\n",
      "INFO:root:Train loss: 0.5932078586108442 - acc: 0.7371632026657772 -- Validation loss: 0.6047082373074123 - acc: 0.4976738801392278\n",
      " 97%|█████████▋| 29/30 [00:41<00:01,  1.41s/it]"
     ]
    },
    {
     "name": "stdout",
     "output_type": "stream",
     "text": [
      "Epoch : 29 , Loss : 0.5932078586108442\n",
      "Epoch : 29, Validation Iteration : 1 , Loss : 0.604518711566925\n",
      "Epoch : 29, Validation Loss : 0.6047082373074123\n",
      "Epoch : 30, Iteration : 1 , Loss : 0.5854588150978088\n",
      "Epoch : 30, Iteration : 11 , Loss : 0.5958582162857056\n",
      "Epoch : 30, Iteration : 21 , Loss : 0.588892936706543\n",
      "Epoch : 30, Iteration : 31 , Loss : 0.5931700468063354\n",
      "Epoch : 30, Iteration : 41 , Loss : 0.5868406295776367\n",
      "Epoch : 30, Iteration : 51 , Loss : 0.5988406538963318\n",
      "Epoch : 30, Iteration : 61 , Loss : 0.5888332724571228\n"
     ]
    },
    {
     "name": "stderr",
     "output_type": "stream",
     "text": [
      "INFO:root:Evaluating accuracy on dev set\n",
      "INFO:root:Train loss: 0.5912017113920571 - acc: 0.744903409525334 -- Validation loss: 0.6015338046210152 - acc: 0.5239191602382427\n",
      "100%|██████████| 30/30 [00:42<00:00,  1.41s/it]\n"
     ]
    },
    {
     "name": "stdout",
     "output_type": "stream",
     "text": [
      "Epoch : 30 , Loss : 0.5912017113920571\n",
      "Epoch : 30, Validation Iteration : 1 , Loss : 0.6020334959030151\n",
      "Epoch : 30, Validation Loss : 0.6015338046210152\n"
     ]
    },
    {
     "name": "stderr",
     "output_type": "stream",
     "text": [
      "\r",
      "  0%|          | 0/30 [00:00<?, ?it/s]"
     ]
    },
    {
     "name": "stdout",
     "output_type": "stream",
     "text": [
      "Epoch : 1, Iteration : 1 , Loss : 1.1389518976211548\n",
      "Epoch : 1, Iteration : 11 , Loss : 1.1334888935089111\n",
      "Epoch : 1, Iteration : 21 , Loss : 1.1270323991775513\n",
      "Epoch : 1, Iteration : 31 , Loss : 1.143399715423584\n",
      "Epoch : 1, Iteration : 41 , Loss : 1.146147608757019\n",
      "Epoch : 1, Iteration : 51 , Loss : 1.1200096607208252\n",
      "Epoch : 1, Iteration : 61 , Loss : 1.1158349514007568\n"
     ]
    },
    {
     "name": "stderr",
     "output_type": "stream",
     "text": [
      "INFO:root:Evaluating accuracy on dev set\n"
     ]
    },
    {
     "name": "stdout",
     "output_type": "stream",
     "text": [
      "Epoch : 1 , Loss : 1.1310055359550144\n",
      "Epoch : 1, Validation Iteration : 1 , Loss : 1.1222413778305054\n"
     ]
    },
    {
     "name": "stderr",
     "output_type": "stream",
     "text": [
      "INFO:root:new model saved\n",
      "INFO:root:Train loss: 1.1310055359550144 - acc: 0.4753251660128932 -- Validation loss: 1.1227736473083496 - acc: 0.5520054100773125\n",
      "  3%|▎         | 1/30 [00:01<00:42,  1.46s/it]"
     ]
    },
    {
     "name": "stdout",
     "output_type": "stream",
     "text": [
      "Epoch : 1, Validation Loss : 1.1227736473083496\n",
      "Epoch : 2, Iteration : 1 , Loss : 1.1138815879821777\n",
      "Epoch : 2, Iteration : 11 , Loss : 1.1242315769195557\n",
      "Epoch : 2, Iteration : 21 , Loss : 1.1218299865722656\n",
      "Epoch : 2, Iteration : 31 , Loss : 1.1285531520843506\n",
      "Epoch : 2, Iteration : 41 , Loss : 1.128976821899414\n",
      "Epoch : 2, Iteration : 51 , Loss : 1.1194918155670166\n",
      "Epoch : 2, Iteration : 61 , Loss : 1.1103954315185547\n"
     ]
    },
    {
     "name": "stderr",
     "output_type": "stream",
     "text": [
      "INFO:root:Evaluating accuracy on dev set\n",
      "INFO:root:new model saved\n",
      "INFO:root:Train loss: 1.1214876434077388 - acc: 0.5927618348878503 -- Validation loss: 1.1205850328717912 - acc: 0.559418145979774\n",
      "  7%|▋         | 2/30 [00:02<00:40,  1.46s/it]"
     ]
    },
    {
     "name": "stdout",
     "output_type": "stream",
     "text": [
      "Epoch : 2 , Loss : 1.1214876434077388\n",
      "Epoch : 2, Validation Iteration : 1 , Loss : 1.1186063289642334\n",
      "Epoch : 2, Validation Loss : 1.1205850328717912\n",
      "Epoch : 3, Iteration : 1 , Loss : 1.11203134059906\n",
      "Epoch : 3, Iteration : 11 , Loss : 1.116533875465393\n",
      "Epoch : 3, Iteration : 21 , Loss : 1.1207849979400635\n",
      "Epoch : 3, Iteration : 31 , Loss : 1.1235841512680054\n",
      "Epoch : 3, Iteration : 41 , Loss : 1.1206672191619873\n",
      "Epoch : 3, Iteration : 51 , Loss : 1.1122103929519653\n",
      "Epoch : 3, Iteration : 61 , Loss : 1.0916156768798828\n"
     ]
    },
    {
     "name": "stderr",
     "output_type": "stream",
     "text": [
      "INFO:root:Evaluating accuracy on dev set\n",
      "INFO:root:new model saved\n",
      "INFO:root:Train loss: 1.112159654714059 - acc: 0.645542027175315 -- Validation loss: 1.0944405964442663 - acc: 0.5818470296165372\n",
      " 10%|█         | 3/30 [00:04<00:39,  1.46s/it]"
     ]
    },
    {
     "name": "stdout",
     "output_type": "stream",
     "text": [
      "Epoch : 3 , Loss : 1.112159654714059\n",
      "Epoch : 3, Validation Iteration : 1 , Loss : 1.090929388999939\n",
      "Epoch : 3, Validation Loss : 1.0944405964442663\n",
      "Epoch : 4, Iteration : 1 , Loss : 1.0861592292785645\n",
      "Epoch : 4, Iteration : 11 , Loss : 1.0893537998199463\n",
      "Epoch : 4, Iteration : 21 , Loss : 1.0845927000045776\n",
      "Epoch : 4, Iteration : 31 , Loss : 1.0918986797332764\n",
      "Epoch : 4, Iteration : 41 , Loss : 1.0789597034454346\n",
      "Epoch : 4, Iteration : 51 , Loss : 1.0633985996246338\n",
      "Epoch : 4, Iteration : 61 , Loss : 1.0588691234588623\n"
     ]
    },
    {
     "name": "stderr",
     "output_type": "stream",
     "text": [
      "INFO:root:Evaluating accuracy on dev set\n",
      "INFO:root:new model saved\n",
      "INFO:root:Train loss: 1.0768629226131716 - acc: 0.6670302577491013 -- Validation loss: 1.061183316367013 - acc: 0.5899313142292074\n",
      " 13%|█▎        | 4/30 [00:05<00:37,  1.46s/it]"
     ]
    },
    {
     "name": "stdout",
     "output_type": "stream",
     "text": [
      "Epoch : 4 , Loss : 1.0768629226131716\n",
      "Epoch : 4, Validation Iteration : 1 , Loss : 1.0590633153915405\n",
      "Epoch : 4, Validation Loss : 1.061183316367013\n",
      "Epoch : 5, Iteration : 1 , Loss : 1.0504021644592285\n",
      "Epoch : 5, Iteration : 11 , Loss : 1.0547288656234741\n",
      "Epoch : 5, Iteration : 21 , Loss : 1.0449182987213135\n",
      "Epoch : 5, Iteration : 31 , Loss : 1.0396301746368408\n",
      "Epoch : 5, Iteration : 41 , Loss : 1.0010151863098145\n",
      "Epoch : 5, Iteration : 51 , Loss : 0.9752479791641235\n",
      "Epoch : 5, Iteration : 61 , Loss : 0.9219279289245605\n"
     ]
    },
    {
     "name": "stderr",
     "output_type": "stream",
     "text": [
      "INFO:root:Evaluating accuracy on dev set\n",
      "INFO:root:new model saved\n",
      "INFO:root:Train loss: 1.0025141627892205 - acc: 0.6911641416678278 -- Validation loss: 0.8895874449184963 - acc: 0.6080282602720927\n",
      " 17%|█▋        | 5/30 [00:07<00:36,  1.46s/it]"
     ]
    },
    {
     "name": "stdout",
     "output_type": "stream",
     "text": [
      "Epoch : 5 , Loss : 1.0025141627892205\n",
      "Epoch : 5, Validation Iteration : 1 , Loss : 0.8869808912277222\n",
      "Epoch : 5, Validation Loss : 0.8895874449184963\n",
      "Epoch : 6, Iteration : 1 , Loss : 0.8818051815032959\n",
      "Epoch : 6, Iteration : 11 , Loss : 0.8478058576583862\n",
      "Epoch : 6, Iteration : 21 , Loss : 0.8026732206344604\n",
      "Epoch : 6, Iteration : 31 , Loss : 0.762168288230896\n",
      "Epoch : 6, Iteration : 41 , Loss : 0.724208414554596\n",
      "Epoch : 6, Iteration : 51 , Loss : 0.7131128311157227\n",
      "Epoch : 6, Iteration : 61 , Loss : 0.6940202116966248\n"
     ]
    },
    {
     "name": "stderr",
     "output_type": "stream",
     "text": [
      "INFO:root:Evaluating accuracy on dev set\n",
      "INFO:root:Train loss: 0.7617327527723451 - acc: 0.7053116306374398 -- Validation loss: 0.6788210868835449 - acc: 0.5947636004534941\n",
      " 20%|██        | 6/30 [00:08<00:34,  1.44s/it]"
     ]
    },
    {
     "name": "stdout",
     "output_type": "stream",
     "text": [
      "Epoch : 6 , Loss : 0.7617327527723451\n",
      "Epoch : 6, Validation Iteration : 1 , Loss : 0.6774109601974487\n",
      "Epoch : 6, Validation Loss : 0.6788210868835449\n",
      "Epoch : 7, Iteration : 1 , Loss : 0.66791832447052\n",
      "Epoch : 7, Iteration : 11 , Loss : 0.654167890548706\n",
      "Epoch : 7, Iteration : 21 , Loss : 0.6262577772140503\n",
      "Epoch : 7, Iteration : 31 , Loss : 0.6227352619171143\n",
      "Epoch : 7, Iteration : 41 , Loss : 0.6105608940124512\n",
      "Epoch : 7, Iteration : 51 , Loss : 0.6143127679824829\n",
      "Epoch : 7, Iteration : 61 , Loss : 0.607172966003418\n"
     ]
    },
    {
     "name": "stderr",
     "output_type": "stream",
     "text": [
      "INFO:root:Evaluating accuracy on dev set\n",
      "INFO:root:Train loss: 0.6236624225326206 - acc: 0.7235207294559836 -- Validation loss: 0.6132163916315351 - acc: 0.6006828532516792\n",
      " 23%|██▎       | 7/30 [00:10<00:32,  1.42s/it]"
     ]
    },
    {
     "name": "stdout",
     "output_type": "stream",
     "text": [
      "Epoch : 7 , Loss : 0.6236624225326206\n",
      "Epoch : 7, Validation Iteration : 1 , Loss : 0.6100722551345825\n",
      "Epoch : 7, Validation Loss : 0.6132163916315351\n",
      "Epoch : 8, Iteration : 1 , Loss : 0.6013835668563843\n",
      "Epoch : 8, Iteration : 11 , Loss : 0.6146334409713745\n",
      "Epoch : 8, Iteration : 21 , Loss : 0.6015063524246216\n",
      "Epoch : 8, Iteration : 31 , Loss : 0.6037526726722717\n",
      "Epoch : 8, Iteration : 41 , Loss : 0.592784583568573\n",
      "Epoch : 8, Iteration : 51 , Loss : 0.5949855446815491\n",
      "Epoch : 8, Iteration : 61 , Loss : 0.5914400219917297\n"
     ]
    },
    {
     "name": "stderr",
     "output_type": "stream",
     "text": [
      "INFO:root:Evaluating accuracy on dev set\n",
      "INFO:root:Train loss: 0.59767603787823 - acc: 0.7460038786524181 -- Validation loss: 0.5976012689726693 - acc: 0.6047610693824914\n",
      " 27%|██▋       | 8/30 [00:11<00:31,  1.42s/it]"
     ]
    },
    {
     "name": "stdout",
     "output_type": "stream",
     "text": [
      "Epoch : 8 , Loss : 0.59767603787823\n",
      "Epoch : 8, Validation Iteration : 1 , Loss : 0.5968033671379089\n",
      "Epoch : 8, Validation Loss : 0.5976012689726693\n",
      "Epoch : 9, Iteration : 1 , Loss : 0.5847155451774597\n",
      "Epoch : 9, Iteration : 11 , Loss : 0.5946155786514282\n",
      "Epoch : 9, Iteration : 21 , Loss : 0.5892534255981445\n",
      "Epoch : 9, Iteration : 31 , Loss : 0.5932281017303467\n",
      "Epoch : 9, Iteration : 41 , Loss : 0.5838621854782104\n",
      "Epoch : 9, Iteration : 51 , Loss : 0.5888417959213257\n",
      "Epoch : 9, Iteration : 61 , Loss : 0.5863474607467651\n"
     ]
    },
    {
     "name": "stderr",
     "output_type": "stream",
     "text": [
      "INFO:root:Evaluating accuracy on dev set\n",
      "INFO:root:Train loss: 0.5874903677166372 - acc: 0.7588400219154038 -- Validation loss: 0.5937955975532532 - acc: 0.5929757710040415\n",
      " 30%|███       | 9/30 [00:12<00:29,  1.41s/it]"
     ]
    },
    {
     "name": "stdout",
     "output_type": "stream",
     "text": [
      "Epoch : 9 , Loss : 0.5874903677166372\n",
      "Epoch : 9, Validation Iteration : 1 , Loss : 0.5925633907318115\n",
      "Epoch : 9, Validation Loss : 0.5937955975532532\n",
      "Epoch : 10, Iteration : 1 , Loss : 0.5797629356384277\n",
      "Epoch : 10, Iteration : 11 , Loss : 0.5912926197052002\n",
      "Epoch : 10, Iteration : 21 , Loss : 0.5852762460708618\n",
      "Epoch : 10, Iteration : 31 , Loss : 0.5888688564300537\n",
      "Epoch : 10, Iteration : 41 , Loss : 0.5805371403694153\n",
      "Epoch : 10, Iteration : 51 , Loss : 0.5873615741729736\n",
      "Epoch : 10, Iteration : 61 , Loss : 0.5826635360717773\n"
     ]
    },
    {
     "name": "stderr",
     "output_type": "stream",
     "text": [
      "INFO:root:Evaluating accuracy on dev set\n",
      "INFO:root:Train loss: 0.5841692418291948 - acc: 0.7657287020112141 -- Validation loss: 0.5908687199865069 - acc: 0.583599454514694\n",
      " 33%|███▎      | 10/30 [00:14<00:28,  1.41s/it]"
     ]
    },
    {
     "name": "stdout",
     "output_type": "stream",
     "text": [
      "Epoch : 10 , Loss : 0.5841692418291948\n",
      "Epoch : 10, Validation Iteration : 1 , Loss : 0.5904744267463684\n",
      "Epoch : 10, Validation Loss : 0.5908687199865069\n",
      "Epoch : 11, Iteration : 1 , Loss : 0.5763752460479736\n",
      "Epoch : 11, Iteration : 11 , Loss : 0.5884953141212463\n",
      "Epoch : 11, Iteration : 21 , Loss : 0.5820051431655884\n",
      "Epoch : 11, Iteration : 31 , Loss : 0.5869134068489075\n",
      "Epoch : 11, Iteration : 41 , Loss : 0.5777549147605896\n",
      "Epoch : 11, Iteration : 51 , Loss : 0.5859477519989014\n",
      "Epoch : 11, Iteration : 61 , Loss : 0.5807746648788452\n"
     ]
    },
    {
     "name": "stderr",
     "output_type": "stream",
     "text": [
      "INFO:root:Evaluating accuracy on dev set\n",
      "INFO:root:Train loss: 0.5808812371198682 - acc: 0.7704944382998502 -- Validation loss: 0.5896677545138768 - acc: 0.5986876160433134\n",
      " 37%|███▋      | 11/30 [00:15<00:26,  1.40s/it]"
     ]
    },
    {
     "name": "stdout",
     "output_type": "stream",
     "text": [
      "Epoch : 11 , Loss : 0.5808812371198682\n",
      "Epoch : 11, Validation Iteration : 1 , Loss : 0.5899011492729187\n",
      "Epoch : 11, Validation Loss : 0.5896677545138768\n",
      "Epoch : 12, Iteration : 1 , Loss : 0.5754629373550415\n",
      "Epoch : 12, Iteration : 11 , Loss : 0.5880813598632812\n",
      "Epoch : 12, Iteration : 21 , Loss : 0.5814559459686279\n",
      "Epoch : 12, Iteration : 31 , Loss : 0.5844079256057739\n",
      "Epoch : 12, Iteration : 41 , Loss : 0.5765368342399597\n",
      "Epoch : 12, Iteration : 51 , Loss : 0.5851268768310547\n"
     ]
    },
    {
     "name": "stderr",
     "output_type": "stream",
     "text": [
      "INFO:root:Evaluating accuracy on dev set\n"
     ]
    },
    {
     "name": "stdout",
     "output_type": "stream",
     "text": [
      "Epoch : 12, Iteration : 61 , Loss : 0.5794445872306824\n",
      "Epoch : 12 , Loss : 0.5799244495405667\n",
      "Epoch : 12, Validation Iteration : 1 , Loss : 0.5891073942184448\n"
     ]
    },
    {
     "name": "stderr",
     "output_type": "stream",
     "text": [
      "INFO:root:Train loss: 0.5799244495405667 - acc: 0.7754131121474743 -- Validation loss: 0.5883829508508954 - acc: 0.6019303784617941\n",
      " 40%|████      | 12/30 [00:17<00:25,  1.41s/it]"
     ]
    },
    {
     "name": "stdout",
     "output_type": "stream",
     "text": [
      "Epoch : 12, Validation Loss : 0.5883829508508954\n",
      "Epoch : 13, Iteration : 1 , Loss : 0.5742395520210266\n",
      "Epoch : 13, Iteration : 11 , Loss : 0.5834078192710876\n",
      "Epoch : 13, Iteration : 21 , Loss : 0.5799833536148071\n",
      "Epoch : 13, Iteration : 31 , Loss : 0.5840189456939697\n",
      "Epoch : 13, Iteration : 41 , Loss : 0.5764471292495728\n",
      "Epoch : 13, Iteration : 51 , Loss : 0.5831273794174194\n",
      "Epoch : 13, Iteration : 61 , Loss : 0.5797812938690186\n"
     ]
    },
    {
     "name": "stderr",
     "output_type": "stream",
     "text": [
      "INFO:root:Evaluating accuracy on dev set\n",
      "INFO:root:Train loss: 0.5791865777278292 - acc: 0.7818761577036147 -- Validation loss: 0.5886931419372559 - acc: 0.6017214313745635\n",
      " 43%|████▎     | 13/30 [00:18<00:23,  1.41s/it]"
     ]
    },
    {
     "name": "stdout",
     "output_type": "stream",
     "text": [
      "Epoch : 13 , Loss : 0.5791865777278292\n",
      "Epoch : 13, Validation Iteration : 1 , Loss : 0.5892696380615234\n",
      "Epoch : 13, Validation Loss : 0.5886931419372559\n",
      "Epoch : 14, Iteration : 1 , Loss : 0.5730879902839661\n",
      "Epoch : 14, Iteration : 11 , Loss : 0.5824525356292725\n",
      "Epoch : 14, Iteration : 21 , Loss : 0.5801094770431519\n",
      "Epoch : 14, Iteration : 31 , Loss : 0.5844227075576782\n",
      "Epoch : 14, Iteration : 41 , Loss : 0.5753408670425415\n",
      "Epoch : 14, Iteration : 51 , Loss : 0.5831323862075806\n",
      "Epoch : 14, Iteration : 61 , Loss : 0.5804752111434937\n"
     ]
    },
    {
     "name": "stderr",
     "output_type": "stream",
     "text": [
      "INFO:root:Evaluating accuracy on dev set\n",
      "INFO:root:Train loss: 0.5787940448608951 - acc: 0.7841917915471448 -- Validation loss: 0.5880738241331918 - acc: 0.6014256126283881\n",
      " 47%|████▋     | 14/30 [00:19<00:22,  1.41s/it]"
     ]
    },
    {
     "name": "stdout",
     "output_type": "stream",
     "text": [
      "Epoch : 14 , Loss : 0.5787940448608951\n",
      "Epoch : 14, Validation Iteration : 1 , Loss : 0.5900866985321045\n",
      "Epoch : 14, Validation Loss : 0.5880738241331918\n",
      "Epoch : 15, Iteration : 1 , Loss : 0.5727634429931641\n",
      "Epoch : 15, Iteration : 11 , Loss : 0.5812455415725708\n",
      "Epoch : 15, Iteration : 21 , Loss : 0.5792516469955444\n",
      "Epoch : 15, Iteration : 31 , Loss : 0.5837901830673218\n",
      "Epoch : 15, Iteration : 41 , Loss : 0.5744954943656921\n",
      "Epoch : 15, Iteration : 51 , Loss : 0.5823401212692261\n",
      "Epoch : 15, Iteration : 61 , Loss : 0.5790314674377441\n"
     ]
    },
    {
     "name": "stderr",
     "output_type": "stream",
     "text": [
      "INFO:root:Evaluating accuracy on dev set\n",
      "INFO:root:Train loss: 0.5784350106681603 - acc: 0.7876964698070433 -- Validation loss: 0.5885941641671317 - acc: 0.5982378644654182\n",
      " 50%|█████     | 15/30 [00:21<00:21,  1.41s/it]"
     ]
    },
    {
     "name": "stdout",
     "output_type": "stream",
     "text": [
      "Epoch : 15 , Loss : 0.5784350106681603\n",
      "Epoch : 15, Validation Iteration : 1 , Loss : 0.5896679162979126\n",
      "Epoch : 15, Validation Loss : 0.5885941641671317\n",
      "Epoch : 16, Iteration : 1 , Loss : 0.5730184316635132\n",
      "Epoch : 16, Iteration : 11 , Loss : 0.5801889300346375\n",
      "Epoch : 16, Iteration : 21 , Loss : 0.5790112018585205\n",
      "Epoch : 16, Iteration : 31 , Loss : 0.5833640098571777\n",
      "Epoch : 16, Iteration : 41 , Loss : 0.5740538239479065\n",
      "Epoch : 16, Iteration : 51 , Loss : 0.5826027393341064\n",
      "Epoch : 16, Iteration : 61 , Loss : 0.5789177417755127\n"
     ]
    },
    {
     "name": "stderr",
     "output_type": "stream",
     "text": [
      "INFO:root:Evaluating accuracy on dev set\n",
      "INFO:root:Train loss: 0.5779644864192908 - acc: 0.7922120471563289 -- Validation loss: 0.5886021256446838 - acc: 0.5960085824255195\n",
      " 53%|█████▎    | 16/30 [00:22<00:19,  1.41s/it]"
     ]
    },
    {
     "name": "stdout",
     "output_type": "stream",
     "text": [
      "Epoch : 16 , Loss : 0.5779644864192908\n",
      "Epoch : 16, Validation Iteration : 1 , Loss : 0.589751124382019\n",
      "Epoch : 16, Validation Loss : 0.5886021256446838\n",
      "Epoch : 17, Iteration : 1 , Loss : 0.5726191997528076\n",
      "Epoch : 17, Iteration : 11 , Loss : 0.5799577236175537\n",
      "Epoch : 17, Iteration : 21 , Loss : 0.5787270069122314\n",
      "Epoch : 17, Iteration : 31 , Loss : 0.5827445983886719\n",
      "Epoch : 17, Iteration : 41 , Loss : 0.5740395188331604\n",
      "Epoch : 17, Iteration : 51 , Loss : 0.5816220045089722\n",
      "Epoch : 17, Iteration : 61 , Loss : 0.5777194499969482\n"
     ]
    },
    {
     "name": "stderr",
     "output_type": "stream",
     "text": [
      "INFO:root:Evaluating accuracy on dev set\n",
      "INFO:root:Train loss: 0.5777718191561492 - acc: 0.7942740719084401 -- Validation loss: 0.5884146094322205 - acc: 0.5947022281027603\n",
      " 57%|█████▋    | 17/30 [00:24<00:18,  1.41s/it]"
     ]
    },
    {
     "name": "stdout",
     "output_type": "stream",
     "text": [
      "Epoch : 17 , Loss : 0.5777718191561492\n",
      "Epoch : 17, Validation Iteration : 1 , Loss : 0.5901517271995544\n",
      "Epoch : 17, Validation Loss : 0.5884146094322205\n",
      "Epoch : 18, Iteration : 1 , Loss : 0.5722812414169312\n",
      "Epoch : 18, Iteration : 11 , Loss : 0.5797252058982849\n",
      "Epoch : 18, Iteration : 21 , Loss : 0.5786426663398743\n",
      "Epoch : 18, Iteration : 31 , Loss : 0.5822347402572632\n",
      "Epoch : 18, Iteration : 41 , Loss : 0.5738199353218079\n",
      "Epoch : 18, Iteration : 51 , Loss : 0.5813202261924744\n",
      "Epoch : 18, Iteration : 61 , Loss : 0.5780712366104126\n"
     ]
    },
    {
     "name": "stderr",
     "output_type": "stream",
     "text": [
      "INFO:root:Evaluating accuracy on dev set\n",
      "INFO:root:Train loss: 0.577635759892671 - acc: 0.7949862804358968 -- Validation loss: 0.5883400099618095 - acc: 0.5920381862042295\n",
      " 60%|██████    | 18/30 [00:25<00:16,  1.41s/it]"
     ]
    },
    {
     "name": "stdout",
     "output_type": "stream",
     "text": [
      "Epoch : 18 , Loss : 0.577635759892671\n",
      "Epoch : 18, Validation Iteration : 1 , Loss : 0.589502215385437\n",
      "Epoch : 18, Validation Loss : 0.5883400099618095\n",
      "Epoch : 19, Iteration : 1 , Loss : 0.5719655752182007\n",
      "Epoch : 19, Iteration : 11 , Loss : 0.5796659588813782\n",
      "Epoch : 19, Iteration : 21 , Loss : 0.5786662697792053\n",
      "Epoch : 19, Iteration : 31 , Loss : 0.5831079483032227\n",
      "Epoch : 19, Iteration : 41 , Loss : 0.5734114646911621\n",
      "Epoch : 19, Iteration : 51 , Loss : 0.5820887088775635\n",
      "Epoch : 19, Iteration : 61 , Loss : 0.5776274800300598\n"
     ]
    },
    {
     "name": "stderr",
     "output_type": "stream",
     "text": [
      "INFO:root:Evaluating accuracy on dev set\n",
      "INFO:root:Train loss: 0.5775189235590507 - acc: 0.7957133521469179 -- Validation loss: 0.5884290848459516 - acc: 0.6014187727353715\n",
      " 63%|██████▎   | 19/30 [00:26<00:15,  1.40s/it]"
     ]
    },
    {
     "name": "stdout",
     "output_type": "stream",
     "text": [
      "Epoch : 19 , Loss : 0.5775189235590507\n",
      "Epoch : 19, Validation Iteration : 1 , Loss : 0.5901314616203308\n",
      "Epoch : 19, Validation Loss : 0.5884290848459516\n",
      "Epoch : 20, Iteration : 1 , Loss : 0.5723746418952942\n",
      "Epoch : 20, Iteration : 11 , Loss : 0.5802026987075806\n",
      "Epoch : 20, Iteration : 21 , Loss : 0.5786312818527222\n",
      "Epoch : 20, Iteration : 31 , Loss : 0.582338809967041\n",
      "Epoch : 20, Iteration : 41 , Loss : 0.5733344554901123\n",
      "Epoch : 20, Iteration : 51 , Loss : 0.5811721086502075\n",
      "Epoch : 20, Iteration : 61 , Loss : 0.5779726505279541\n"
     ]
    },
    {
     "name": "stderr",
     "output_type": "stream",
     "text": [
      "INFO:root:Evaluating accuracy on dev set\n",
      "INFO:root:Train loss: 0.5774633625279302 - acc: 0.7951285477669595 -- Validation loss: 0.5882705194609505 - acc: 0.5930289782219622\n",
      " 67%|██████▋   | 20/30 [00:28<00:14,  1.41s/it]"
     ]
    },
    {
     "name": "stdout",
     "output_type": "stream",
     "text": [
      "Epoch : 20 , Loss : 0.5774633625279302\n",
      "Epoch : 20, Validation Iteration : 1 , Loss : 0.587864875793457\n",
      "Epoch : 20, Validation Loss : 0.5882705194609505\n",
      "Epoch : 21, Iteration : 1 , Loss : 0.5719239711761475\n",
      "Epoch : 21, Iteration : 11 , Loss : 0.5816368460655212\n",
      "Epoch : 21, Iteration : 21 , Loss : 0.578675389289856\n",
      "Epoch : 21, Iteration : 31 , Loss : 0.5830373764038086\n",
      "Epoch : 21, Iteration : 41 , Loss : 0.5732460021972656\n",
      "Epoch : 21, Iteration : 51 , Loss : 0.5815244317054749\n",
      "Epoch : 21, Iteration : 61 , Loss : 0.5775339603424072\n"
     ]
    },
    {
     "name": "stderr",
     "output_type": "stream",
     "text": [
      "INFO:root:Evaluating accuracy on dev set\n",
      "INFO:root:Train loss: 0.5773923155190288 - acc: 0.796470687696711 -- Validation loss: 0.588124326297215 - acc: 0.5933377139405382\n",
      " 70%|███████   | 21/30 [00:29<00:12,  1.41s/it]"
     ]
    },
    {
     "name": "stdout",
     "output_type": "stream",
     "text": [
      "Epoch : 21 , Loss : 0.5773923155190288\n",
      "Epoch : 21, Validation Iteration : 1 , Loss : 0.5898784399032593\n",
      "Epoch : 21, Validation Loss : 0.588124326297215\n",
      "Epoch : 22, Iteration : 1 , Loss : 0.5724270343780518\n",
      "Epoch : 22, Iteration : 11 , Loss : 0.5847370624542236\n",
      "Epoch : 22, Iteration : 21 , Loss : 0.5783424377441406\n",
      "Epoch : 22, Iteration : 31 , Loss : 0.5825366973876953\n",
      "Epoch : 22, Iteration : 41 , Loss : 0.5728201270103455\n",
      "Epoch : 22, Iteration : 51 , Loss : 0.5812671184539795\n",
      "Epoch : 22, Iteration : 61 , Loss : 0.5768754482269287\n"
     ]
    },
    {
     "name": "stderr",
     "output_type": "stream",
     "text": [
      "INFO:root:Evaluating accuracy on dev set\n",
      "INFO:root:Train loss: 0.5773201368857122 - acc: 0.7972293411955568 -- Validation loss: 0.5879501274653843 - acc: 0.5975833822213348\n",
      " 73%|███████▎  | 22/30 [00:31<00:11,  1.41s/it]"
     ]
    },
    {
     "name": "stdout",
     "output_type": "stream",
     "text": [
      "Epoch : 22 , Loss : 0.5773201368857122\n",
      "Epoch : 22, Validation Iteration : 1 , Loss : 0.5871611833572388\n",
      "Epoch : 22, Validation Loss : 0.5879501274653843\n",
      "Epoch : 23, Iteration : 1 , Loss : 0.5722724199295044\n",
      "Epoch : 23, Iteration : 11 , Loss : 0.5840157866477966\n",
      "Epoch : 23, Iteration : 21 , Loss : 0.5780490040779114\n",
      "Epoch : 23, Iteration : 31 , Loss : 0.5820267200469971\n",
      "Epoch : 23, Iteration : 41 , Loss : 0.5730574131011963\n",
      "Epoch : 23, Iteration : 51 , Loss : 0.5812063217163086\n",
      "Epoch : 23, Iteration : 61 , Loss : 0.5771225690841675\n"
     ]
    },
    {
     "name": "stderr",
     "output_type": "stream",
     "text": [
      "INFO:root:Evaluating accuracy on dev set\n",
      "INFO:root:Train loss: 0.5771292983621791 - acc: 0.7987100336767776 -- Validation loss: 0.5878081662314278 - acc: 0.5953819419457821\n",
      " 77%|███████▋  | 23/30 [00:32<00:09,  1.41s/it]"
     ]
    },
    {
     "name": "stdout",
     "output_type": "stream",
     "text": [
      "Epoch : 23 , Loss : 0.5771292983621791\n",
      "Epoch : 23, Validation Iteration : 1 , Loss : 0.5893075466156006\n",
      "Epoch : 23, Validation Loss : 0.5878081662314278\n",
      "Epoch : 24, Iteration : 1 , Loss : 0.5718631148338318\n",
      "Epoch : 24, Iteration : 11 , Loss : 0.581057071685791\n",
      "Epoch : 24, Iteration : 21 , Loss : 0.5783299207687378\n",
      "Epoch : 24, Iteration : 31 , Loss : 0.5823564529418945\n",
      "Epoch : 24, Iteration : 41 , Loss : 0.5726879239082336\n",
      "Epoch : 24, Iteration : 51 , Loss : 0.5811998844146729\n",
      "Epoch : 24, Iteration : 61 , Loss : 0.5767898559570312\n"
     ]
    },
    {
     "name": "stderr",
     "output_type": "stream",
     "text": [
      "INFO:root:Evaluating accuracy on dev set\n",
      "INFO:root:Train loss: 0.576975569344949 - acc: 0.8002120517934905 -- Validation loss: 0.5880815386772156 - acc: 0.5902592580880895\n",
      " 80%|████████  | 24/30 [00:34<00:08,  1.41s/it]"
     ]
    },
    {
     "name": "stdout",
     "output_type": "stream",
     "text": [
      "Epoch : 24 , Loss : 0.576975569344949\n",
      "Epoch : 24, Validation Iteration : 1 , Loss : 0.5877387523651123\n",
      "Epoch : 24, Validation Loss : 0.5880815386772156\n",
      "Epoch : 25, Iteration : 1 , Loss : 0.5720168352127075\n",
      "Epoch : 25, Iteration : 11 , Loss : 0.5803532004356384\n",
      "Epoch : 25, Iteration : 21 , Loss : 0.5779622793197632\n",
      "Epoch : 25, Iteration : 31 , Loss : 0.5820550322532654\n",
      "Epoch : 25, Iteration : 41 , Loss : 0.5726845860481262\n",
      "Epoch : 25, Iteration : 51 , Loss : 0.5810118913650513\n",
      "Epoch : 25, Iteration : 61 , Loss : 0.5768102407455444\n"
     ]
    },
    {
     "name": "stderr",
     "output_type": "stream",
     "text": [
      "INFO:root:Evaluating accuracy on dev set\n",
      "INFO:root:Train loss: 0.5769195591194042 - acc: 0.8003867427666088 -- Validation loss: 0.5883946759360177 - acc: 0.5908156918110988\n",
      " 83%|████████▎ | 25/30 [00:35<00:07,  1.41s/it]"
     ]
    },
    {
     "name": "stdout",
     "output_type": "stream",
     "text": [
      "Epoch : 25 , Loss : 0.5769195591194042\n",
      "Epoch : 25, Validation Iteration : 1 , Loss : 0.5886634588241577\n",
      "Epoch : 25, Validation Loss : 0.5883946759360177\n",
      "Epoch : 26, Iteration : 1 , Loss : 0.571491003036499\n",
      "Epoch : 26, Iteration : 11 , Loss : 0.5799287557601929\n",
      "Epoch : 26, Iteration : 21 , Loss : 0.5779522657394409\n",
      "Epoch : 26, Iteration : 31 , Loss : 0.5819212794303894\n",
      "Epoch : 26, Iteration : 41 , Loss : 0.5724784731864929\n",
      "Epoch : 26, Iteration : 51 , Loss : 0.5806059837341309\n",
      "Epoch : 26, Iteration : 61 , Loss : 0.576493501663208\n"
     ]
    },
    {
     "name": "stderr",
     "output_type": "stream",
     "text": [
      "INFO:root:Evaluating accuracy on dev set\n",
      "INFO:root:Train loss: 0.5768372632455134 - acc: 0.8012027361025749 -- Validation loss: 0.5885642000607082 - acc: 0.575069166253944\n",
      " 87%|████████▋ | 26/30 [00:36<00:05,  1.41s/it]"
     ]
    },
    {
     "name": "stdout",
     "output_type": "stream",
     "text": [
      "Epoch : 26 , Loss : 0.5768372632455134\n",
      "Epoch : 26, Validation Iteration : 1 , Loss : 0.5892637372016907\n",
      "Epoch : 26, Validation Loss : 0.5885642000607082\n",
      "Epoch : 27, Iteration : 1 , Loss : 0.5713555812835693\n",
      "Epoch : 27, Iteration : 11 , Loss : 0.5805174112319946\n",
      "Epoch : 27, Iteration : 21 , Loss : 0.5778733491897583\n",
      "Epoch : 27, Iteration : 31 , Loss : 0.5822798609733582\n",
      "Epoch : 27, Iteration : 41 , Loss : 0.5727571845054626\n",
      "Epoch : 27, Iteration : 51 , Loss : 0.5806691646575928\n",
      "Epoch : 27, Iteration : 61 , Loss : 0.5767447352409363\n"
     ]
    },
    {
     "name": "stderr",
     "output_type": "stream",
     "text": [
      "INFO:root:Evaluating accuracy on dev set\n",
      "INFO:root:Train loss: 0.5768496437349181 - acc: 0.8013710254208212 -- Validation loss: 0.5881706731660026 - acc: 0.5920098288630818\n",
      " 90%|█████████ | 27/30 [00:38<00:04,  1.41s/it]"
     ]
    },
    {
     "name": "stdout",
     "output_type": "stream",
     "text": [
      "Epoch : 27 , Loss : 0.5768496437349181\n",
      "Epoch : 27, Validation Iteration : 1 , Loss : 0.5889278650283813\n",
      "Epoch : 27, Validation Loss : 0.5881706731660026\n",
      "Epoch : 28, Iteration : 1 , Loss : 0.5710733532905579\n",
      "Epoch : 28, Iteration : 11 , Loss : 0.58039391040802\n",
      "Epoch : 28, Iteration : 21 , Loss : 0.577877402305603\n",
      "Epoch : 28, Iteration : 31 , Loss : 0.5818043947219849\n",
      "Epoch : 28, Iteration : 41 , Loss : 0.5725118517875671\n",
      "Epoch : 28, Iteration : 51 , Loss : 0.5809060335159302\n",
      "Epoch : 28, Iteration : 61 , Loss : 0.5771770477294922\n"
     ]
    },
    {
     "name": "stderr",
     "output_type": "stream",
     "text": [
      "INFO:root:Evaluating accuracy on dev set\n",
      "INFO:root:Train loss: 0.5768371673597805 - acc: 0.800785296445597 -- Validation loss: 0.5884408269609723 - acc: 0.5825479594194091\n",
      " 93%|█████████▎| 28/30 [00:39<00:02,  1.42s/it]"
     ]
    },
    {
     "name": "stdout",
     "output_type": "stream",
     "text": [
      "Epoch : 28 , Loss : 0.5768371673597805\n",
      "Epoch : 28, Validation Iteration : 1 , Loss : 0.5903873443603516\n",
      "Epoch : 28, Validation Loss : 0.5884408269609723\n",
      "Epoch : 29, Iteration : 1 , Loss : 0.571131706237793\n",
      "Epoch : 29, Iteration : 11 , Loss : 0.5793750286102295\n",
      "Epoch : 29, Iteration : 21 , Loss : 0.5774176120758057\n",
      "Epoch : 29, Iteration : 31 , Loss : 0.5819544792175293\n",
      "Epoch : 29, Iteration : 41 , Loss : 0.5726386904716492\n",
      "Epoch : 29, Iteration : 51 , Loss : 0.5807485580444336\n",
      "Epoch : 29, Iteration : 61 , Loss : 0.57741379737854\n"
     ]
    },
    {
     "name": "stderr",
     "output_type": "stream",
     "text": [
      "INFO:root:Evaluating accuracy on dev set\n",
      "INFO:root:Train loss: 0.5768380951190341 - acc: 0.80083805767684 -- Validation loss: 0.5889035633632115 - acc: 0.5811596191319295\n",
      " 97%|█████████▋| 29/30 [00:41<00:01,  1.42s/it]"
     ]
    },
    {
     "name": "stdout",
     "output_type": "stream",
     "text": [
      "Epoch : 29 , Loss : 0.5768380951190341\n",
      "Epoch : 29, Validation Iteration : 1 , Loss : 0.5893042087554932\n",
      "Epoch : 29, Validation Loss : 0.5889035633632115\n",
      "Epoch : 30, Iteration : 1 , Loss : 0.5713024735450745\n",
      "Epoch : 30, Iteration : 11 , Loss : 0.5789812803268433\n",
      "Epoch : 30, Iteration : 21 , Loss : 0.5775507092475891\n",
      "Epoch : 30, Iteration : 31 , Loss : 0.581721842288971\n",
      "Epoch : 30, Iteration : 41 , Loss : 0.5725932717323303\n",
      "Epoch : 30, Iteration : 51 , Loss : 0.5812578797340393\n",
      "Epoch : 30, Iteration : 61 , Loss : 0.5777425765991211\n"
     ]
    },
    {
     "name": "stderr",
     "output_type": "stream",
     "text": [
      "INFO:root:Evaluating accuracy on dev set\n",
      "INFO:root:Train loss: 0.576792818048726 - acc: 0.8012995492600111 -- Validation loss: 0.5883118680545262 - acc: 0.584366843144478\n",
      "100%|██████████| 30/30 [00:42<00:00,  1.42s/it]\n"
     ]
    },
    {
     "name": "stdout",
     "output_type": "stream",
     "text": [
      "Epoch : 30 , Loss : 0.576792818048726\n",
      "Epoch : 30, Validation Iteration : 1 , Loss : 0.5896326303482056\n",
      "Epoch : 30, Validation Loss : 0.5883118680545262\n"
     ]
    },
    {
     "name": "stderr",
     "output_type": "stream",
     "text": [
      "\r",
      "  0%|          | 0/30 [00:00<?, ?it/s]"
     ]
    },
    {
     "name": "stdout",
     "output_type": "stream",
     "text": [
      "Epoch : 1, Iteration : 1 , Loss : 1.136610507965088\n",
      "Epoch : 1, Iteration : 11 , Loss : 1.1502269506454468\n",
      "Epoch : 1, Iteration : 21 , Loss : 1.122661828994751\n",
      "Epoch : 1, Iteration : 31 , Loss : 1.1335110664367676\n",
      "Epoch : 1, Iteration : 41 , Loss : 1.1514415740966797\n",
      "Epoch : 1, Iteration : 51 , Loss : 1.1248329877853394\n",
      "Epoch : 1, Iteration : 61 , Loss : 1.1174545288085938\n"
     ]
    },
    {
     "name": "stderr",
     "output_type": "stream",
     "text": [
      "INFO:root:Evaluating accuracy on dev set\n"
     ]
    },
    {
     "name": "stdout",
     "output_type": "stream",
     "text": [
      "Epoch : 1 , Loss : 1.1348783797112063\n",
      "Epoch : 1, Validation Iteration : 1 , Loss : 1.1198307275772095\n"
     ]
    },
    {
     "name": "stderr",
     "output_type": "stream",
     "text": [
      "INFO:root:new model saved\n",
      "INFO:root:Train loss: 1.1348783797112063 - acc: 0.433011901643587 -- Validation loss: 1.1247810636247908 - acc: 0.512823480945899\n",
      "  3%|▎         | 1/30 [00:01<00:42,  1.45s/it]"
     ]
    },
    {
     "name": "stdout",
     "output_type": "stream",
     "text": [
      "Epoch : 1, Validation Loss : 1.1247810636247908\n",
      "Epoch : 2, Iteration : 1 , Loss : 1.1148054599761963\n",
      "Epoch : 2, Iteration : 11 , Loss : 1.1307978630065918\n",
      "Epoch : 2, Iteration : 21 , Loss : 1.1155498027801514\n",
      "Epoch : 2, Iteration : 31 , Loss : 1.1251026391983032\n",
      "Epoch : 2, Iteration : 41 , Loss : 1.137091875076294\n",
      "Epoch : 2, Iteration : 51 , Loss : 1.116642713546753\n",
      "Epoch : 2, Iteration : 61 , Loss : 1.115557312965393\n"
     ]
    },
    {
     "name": "stderr",
     "output_type": "stream",
     "text": [
      "INFO:root:Evaluating accuracy on dev set\n",
      "INFO:root:new model saved\n",
      "INFO:root:Train loss: 1.1239418689755425 - acc: 0.5557261704271749 -- Validation loss: 1.121085797037397 - acc: 0.5495766026579372\n",
      "  7%|▋         | 2/30 [00:02<00:40,  1.45s/it]"
     ]
    },
    {
     "name": "stdout",
     "output_type": "stream",
     "text": [
      "Epoch : 2 , Loss : 1.1239418689755425\n",
      "Epoch : 2, Validation Iteration : 1 , Loss : 1.1162803173065186\n",
      "Epoch : 2, Validation Loss : 1.121085797037397\n",
      "Epoch : 3, Iteration : 1 , Loss : 1.1126353740692139\n",
      "Epoch : 3, Iteration : 11 , Loss : 1.125312089920044\n",
      "Epoch : 3, Iteration : 21 , Loss : 1.1145844459533691\n",
      "Epoch : 3, Iteration : 31 , Loss : 1.1218430995941162\n",
      "Epoch : 3, Iteration : 41 , Loss : 1.134132742881775\n",
      "Epoch : 3, Iteration : 51 , Loss : 1.1154108047485352\n",
      "Epoch : 3, Iteration : 61 , Loss : 1.1137454509735107\n"
     ]
    },
    {
     "name": "stderr",
     "output_type": "stream",
     "text": [
      "INFO:root:Evaluating accuracy on dev set\n",
      "INFO:root:new model saved\n",
      "INFO:root:Train loss: 1.1204189390375994 - acc: 0.5981855567620152 -- Validation loss: 1.119641866002764 - acc: 0.564555486920139\n",
      " 10%|█         | 3/30 [00:04<00:39,  1.46s/it]"
     ]
    },
    {
     "name": "stdout",
     "output_type": "stream",
     "text": [
      "Epoch : 3 , Loss : 1.1204189390375994\n",
      "Epoch : 3, Validation Iteration : 1 , Loss : 1.1153507232666016\n",
      "Epoch : 3, Validation Loss : 1.119641866002764\n",
      "Epoch : 4, Iteration : 1 , Loss : 1.1110711097717285\n",
      "Epoch : 4, Iteration : 11 , Loss : 1.1226069927215576\n",
      "Epoch : 4, Iteration : 21 , Loss : 1.1141036748886108\n",
      "Epoch : 4, Iteration : 31 , Loss : 1.1203885078430176\n",
      "Epoch : 4, Iteration : 41 , Loss : 1.1300456523895264\n",
      "Epoch : 4, Iteration : 51 , Loss : 1.114880084991455\n",
      "Epoch : 4, Iteration : 61 , Loss : 1.1124670505523682\n"
     ]
    },
    {
     "name": "stderr",
     "output_type": "stream",
     "text": [
      "INFO:root:Evaluating accuracy on dev set\n",
      "INFO:root:new model saved\n",
      "INFO:root:Train loss: 1.1181447246800298 - acc: 0.6266184736819805 -- Validation loss: 1.118657418659755 - acc: 0.5780305662269675\n",
      " 13%|█▎        | 4/30 [00:05<00:38,  1.46s/it]"
     ]
    },
    {
     "name": "stdout",
     "output_type": "stream",
     "text": [
      "Epoch : 4 , Loss : 1.1181447246800298\n",
      "Epoch : 4, Validation Iteration : 1 , Loss : 1.114885926246643\n",
      "Epoch : 4, Validation Loss : 1.118657418659755\n",
      "Epoch : 5, Iteration : 1 , Loss : 1.1098010540008545\n",
      "Epoch : 5, Iteration : 11 , Loss : 1.12059485912323\n",
      "Epoch : 5, Iteration : 21 , Loss : 1.1139123439788818\n",
      "Epoch : 5, Iteration : 31 , Loss : 1.1192632913589478\n",
      "Epoch : 5, Iteration : 41 , Loss : 1.1259961128234863\n",
      "Epoch : 5, Iteration : 51 , Loss : 1.11427640914917\n",
      "Epoch : 5, Iteration : 61 , Loss : 1.1115853786468506\n"
     ]
    },
    {
     "name": "stderr",
     "output_type": "stream",
     "text": [
      "INFO:root:Evaluating accuracy on dev set\n",
      "INFO:root:new model saved\n",
      "INFO:root:Train loss: 1.1163872255795244 - acc: 0.648183368389823 -- Validation loss: 1.1179331881659371 - acc: 0.5883411880775382\n",
      " 17%|█▋        | 5/30 [00:07<00:37,  1.49s/it]"
     ]
    },
    {
     "name": "stdout",
     "output_type": "stream",
     "text": [
      "Epoch : 5 , Loss : 1.1163872255795244\n",
      "Epoch : 5, Validation Iteration : 1 , Loss : 1.1148744821548462\n",
      "Epoch : 5, Validation Loss : 1.1179331881659371\n",
      "Epoch : 6, Iteration : 1 , Loss : 1.1087255477905273\n",
      "Epoch : 6, Iteration : 11 , Loss : 1.1188836097717285\n",
      "Epoch : 6, Iteration : 21 , Loss : 1.113600492477417\n",
      "Epoch : 6, Iteration : 31 , Loss : 1.118356704711914\n",
      "Epoch : 6, Iteration : 41 , Loss : 1.1225594282150269\n",
      "Epoch : 6, Iteration : 51 , Loss : 1.113717794418335\n"
     ]
    },
    {
     "name": "stderr",
     "output_type": "stream",
     "text": [
      "INFO:root:Evaluating accuracy on dev set\n"
     ]
    },
    {
     "name": "stdout",
     "output_type": "stream",
     "text": [
      "Epoch : 6, Iteration : 61 , Loss : 1.1110094785690308\n",
      "Epoch : 6 , Loss : 1.1149429981259331\n",
      "Epoch : 6, Validation Iteration : 1 , Loss : 1.115030288696289\n"
     ]
    },
    {
     "name": "stderr",
     "output_type": "stream",
     "text": [
      "INFO:root:new model saved\n",
      "INFO:root:Train loss: 1.1149429981259331 - acc: 0.6655838530324685 -- Validation loss: 1.1174069813319616 - acc: 0.5944873244842154\n",
      " 20%|██        | 6/30 [00:08<00:35,  1.48s/it]"
     ]
    },
    {
     "name": "stdout",
     "output_type": "stream",
     "text": [
      "Epoch : 6, Validation Loss : 1.1174069813319616\n",
      "Epoch : 7, Iteration : 1 , Loss : 1.1078996658325195\n",
      "Epoch : 7, Iteration : 11 , Loss : 1.117455244064331\n",
      "Epoch : 7, Iteration : 21 , Loss : 1.1131694316864014\n",
      "Epoch : 7, Iteration : 31 , Loss : 1.1176800727844238\n",
      "Epoch : 7, Iteration : 41 , Loss : 1.119647741317749\n",
      "Epoch : 7, Iteration : 51 , Loss : 1.113245964050293\n",
      "Epoch : 7, Iteration : 61 , Loss : 1.11018967628479\n"
     ]
    },
    {
     "name": "stderr",
     "output_type": "stream",
     "text": [
      "INFO:root:Evaluating accuracy on dev set\n",
      "INFO:root:new model saved\n",
      "INFO:root:Train loss: 1.1137404735537544 - acc: 0.6804078625386039 -- Validation loss: 1.1169700111661638 - acc: 0.6005444475577674\n",
      " 23%|██▎       | 7/30 [00:10<00:33,  1.47s/it]"
     ]
    },
    {
     "name": "stdout",
     "output_type": "stream",
     "text": [
      "Epoch : 7 , Loss : 1.1137404735537544\n",
      "Epoch : 7, Validation Iteration : 1 , Loss : 1.1150195598602295\n",
      "Epoch : 7, Validation Loss : 1.1169700111661638\n",
      "Epoch : 8, Iteration : 1 , Loss : 1.1071170568466187\n",
      "Epoch : 8, Iteration : 11 , Loss : 1.1162481307983398\n",
      "Epoch : 8, Iteration : 21 , Loss : 1.1126599311828613\n",
      "Epoch : 8, Iteration : 31 , Loss : 1.117067575454712\n",
      "Epoch : 8, Iteration : 41 , Loss : 1.1170990467071533\n",
      "Epoch : 8, Iteration : 51 , Loss : 1.1128491163253784\n",
      "Epoch : 8, Iteration : 61 , Loss : 1.1096757650375366\n"
     ]
    },
    {
     "name": "stderr",
     "output_type": "stream",
     "text": [
      "INFO:root:Evaluating accuracy on dev set\n",
      "INFO:root:new model saved\n",
      "INFO:root:Train loss: 1.1126919120982073 - acc: 0.6933828037532082 -- Validation loss: 1.1166198253631592 - acc: 0.604615636320175\n",
      " 27%|██▋       | 8/30 [00:11<00:32,  1.47s/it]"
     ]
    },
    {
     "name": "stdout",
     "output_type": "stream",
     "text": [
      "Epoch : 8 , Loss : 1.1126919120982073\n",
      "Epoch : 8, Validation Iteration : 1 , Loss : 1.1151096820831299\n",
      "Epoch : 8, Validation Loss : 1.1166198253631592\n",
      "Epoch : 9, Iteration : 1 , Loss : 1.1063048839569092\n",
      "Epoch : 9, Iteration : 11 , Loss : 1.115039587020874\n",
      "Epoch : 9, Iteration : 21 , Loss : 1.11214280128479\n",
      "Epoch : 9, Iteration : 31 , Loss : 1.116470217704773\n",
      "Epoch : 9, Iteration : 41 , Loss : 1.114786982536316\n",
      "Epoch : 9, Iteration : 51 , Loss : 1.1123685836791992\n",
      "Epoch : 9, Iteration : 61 , Loss : 1.1091489791870117\n"
     ]
    },
    {
     "name": "stderr",
     "output_type": "stream",
     "text": [
      "INFO:root:Evaluating accuracy on dev set\n",
      "INFO:root:new model saved\n",
      "INFO:root:Train loss: 1.1117437369581582 - acc: 0.7049173569924123 -- Validation loss: 1.1162944861820765 - acc: 0.6067800657887967\n",
      " 30%|███       | 9/30 [00:13<00:30,  1.48s/it]"
     ]
    },
    {
     "name": "stdout",
     "output_type": "stream",
     "text": [
      "Epoch : 9 , Loss : 1.1117437369581582\n",
      "Epoch : 9, Validation Iteration : 1 , Loss : 1.115196943283081\n",
      "Epoch : 9, Validation Loss : 1.1162944861820765\n",
      "Epoch : 10, Iteration : 1 , Loss : 1.1054798364639282\n",
      "Epoch : 10, Iteration : 11 , Loss : 1.1139377355575562\n",
      "Epoch : 10, Iteration : 21 , Loss : 1.1115455627441406\n",
      "Epoch : 10, Iteration : 31 , Loss : 1.115796446800232\n",
      "Epoch : 10, Iteration : 41 , Loss : 1.1126422882080078\n",
      "Epoch : 10, Iteration : 51 , Loss : 1.1119036674499512\n",
      "Epoch : 10, Iteration : 61 , Loss : 1.1084611415863037\n"
     ]
    },
    {
     "name": "stderr",
     "output_type": "stream",
     "text": [
      "INFO:root:Evaluating accuracy on dev set\n",
      "INFO:root:new model saved\n",
      "INFO:root:Train loss: 1.1108154974121978 - acc: 0.7150587443290617 -- Validation loss: 1.1157384770257133 - acc: 0.6102831085475205\n",
      " 33%|███▎      | 10/30 [00:14<00:29,  1.47s/it]"
     ]
    },
    {
     "name": "stdout",
     "output_type": "stream",
     "text": [
      "Epoch : 10 , Loss : 1.1108154974121978\n",
      "Epoch : 10, Validation Iteration : 1 , Loss : 1.1149578094482422\n",
      "Epoch : 10, Validation Loss : 1.1157384770257133\n",
      "Epoch : 11, Iteration : 1 , Loss : 1.1045043468475342\n",
      "Epoch : 11, Iteration : 11 , Loss : 1.1125602722167969\n",
      "Epoch : 11, Iteration : 21 , Loss : 1.110429048538208\n",
      "Epoch : 11, Iteration : 31 , Loss : 1.1143263578414917\n",
      "Epoch : 11, Iteration : 41 , Loss : 1.1095256805419922\n",
      "Epoch : 11, Iteration : 51 , Loss : 1.1094233989715576\n",
      "Epoch : 11, Iteration : 61 , Loss : 1.1035892963409424\n"
     ]
    },
    {
     "name": "stderr",
     "output_type": "stream",
     "text": [
      "INFO:root:Evaluating accuracy on dev set\n",
      "INFO:root:new model saved\n",
      "INFO:root:Train loss: 1.1082719564437866 - acc: 0.724087795605196 -- Validation loss: 1.1072387525013514 - acc: 0.6144776443572587\n",
      " 37%|███▋      | 11/30 [00:16<00:27,  1.47s/it]"
     ]
    },
    {
     "name": "stdout",
     "output_type": "stream",
     "text": [
      "Epoch : 11 , Loss : 1.1082719564437866\n",
      "Epoch : 11, Validation Iteration : 1 , Loss : 1.1069843769073486\n",
      "Epoch : 11, Validation Loss : 1.1072387525013514\n",
      "Epoch : 12, Iteration : 1 , Loss : 1.095942735671997\n",
      "Epoch : 12, Iteration : 11 , Loss : 1.0975756645202637\n",
      "Epoch : 12, Iteration : 21 , Loss : 1.0908000469207764\n",
      "Epoch : 12, Iteration : 31 , Loss : 1.092918038368225\n",
      "Epoch : 12, Iteration : 41 , Loss : 1.0856060981750488\n",
      "Epoch : 12, Iteration : 51 , Loss : 1.0863356590270996\n",
      "Epoch : 12, Iteration : 61 , Loss : 1.080547571182251\n"
     ]
    },
    {
     "name": "stderr",
     "output_type": "stream",
     "text": [
      "INFO:root:Evaluating accuracy on dev set\n",
      "INFO:root:new model saved\n",
      "INFO:root:Train loss: 1.0881077776784482 - acc: 0.721555675381417 -- Validation loss: 1.0866626501083374 - acc: 0.6161621380275042\n",
      " 40%|████      | 12/30 [00:17<00:26,  1.47s/it]"
     ]
    },
    {
     "name": "stdout",
     "output_type": "stream",
     "text": [
      "Epoch : 12 , Loss : 1.0881077776784482\n",
      "Epoch : 12, Validation Iteration : 1 , Loss : 1.0862596035003662\n",
      "Epoch : 12, Validation Loss : 1.0866626501083374\n",
      "Epoch : 13, Iteration : 1 , Loss : 1.076184868812561\n",
      "Epoch : 13, Iteration : 11 , Loss : 1.0821263790130615\n",
      "Epoch : 13, Iteration : 21 , Loss : 1.0793763399124146\n",
      "Epoch : 13, Iteration : 31 , Loss : 1.0830192565917969\n",
      "Epoch : 13, Iteration : 41 , Loss : 1.0766063928604126\n",
      "Epoch : 13, Iteration : 51 , Loss : 1.079072117805481\n",
      "Epoch : 13, Iteration : 61 , Loss : 1.0738165378570557\n"
     ]
    },
    {
     "name": "stderr",
     "output_type": "stream",
     "text": [
      "INFO:root:Evaluating accuracy on dev set\n",
      "INFO:root:Train loss: 1.0778844218323196 - acc: 0.7319592730156941 -- Validation loss: 1.080727985927037 - acc: 0.6157857387902894\n",
      " 43%|████▎     | 13/30 [00:19<00:24,  1.46s/it]"
     ]
    },
    {
     "name": "stdout",
     "output_type": "stream",
     "text": [
      "Epoch : 13 , Loss : 1.0778844218323196\n",
      "Epoch : 13, Validation Iteration : 1 , Loss : 1.0802782773971558\n",
      "Epoch : 13, Validation Loss : 1.080727985927037\n",
      "Epoch : 14, Iteration : 1 , Loss : 1.0687479972839355\n",
      "Epoch : 14, Iteration : 11 , Loss : 1.0755181312561035\n",
      "Epoch : 14, Iteration : 21 , Loss : 1.0724940299987793\n",
      "Epoch : 14, Iteration : 31 , Loss : 1.0753520727157593\n",
      "Epoch : 14, Iteration : 41 , Loss : 1.0674467086791992\n",
      "Epoch : 14, Iteration : 51 , Loss : 1.0699138641357422\n",
      "Epoch : 14, Iteration : 61 , Loss : 1.0636076927185059\n"
     ]
    },
    {
     "name": "stderr",
     "output_type": "stream",
     "text": [
      "INFO:root:Evaluating accuracy on dev set\n",
      "INFO:root:Train loss: 1.0694411474725474 - acc: 0.7438968433259588 -- Validation loss: 1.0700123139790125 - acc: 0.6130377031074938\n",
      " 47%|████▋     | 14/30 [00:20<00:23,  1.44s/it]"
     ]
    },
    {
     "name": "stdout",
     "output_type": "stream",
     "text": [
      "Epoch : 14 , Loss : 1.0694411474725474\n",
      "Epoch : 14, Validation Iteration : 1 , Loss : 1.0694642066955566\n",
      "Epoch : 14, Validation Loss : 1.0700123139790125\n",
      "Epoch : 15, Iteration : 1 , Loss : 1.057370901107788\n",
      "Epoch : 15, Iteration : 11 , Loss : 1.0631451606750488\n",
      "Epoch : 15, Iteration : 21 , Loss : 1.0592883825302124\n",
      "Epoch : 15, Iteration : 31 , Loss : 1.0605627298355103\n",
      "Epoch : 15, Iteration : 41 , Loss : 1.050760269165039\n",
      "Epoch : 15, Iteration : 51 , Loss : 1.0519551038742065\n",
      "Epoch : 15, Iteration : 61 , Loss : 1.0444536209106445\n"
     ]
    },
    {
     "name": "stderr",
     "output_type": "stream",
     "text": [
      "INFO:root:Evaluating accuracy on dev set\n",
      "INFO:root:new model saved\n",
      "INFO:root:Train loss: 1.053891016089398 - acc: 0.7477236903944964 -- Validation loss: 1.048847692353385 - acc: 0.6170845972534168\n",
      " 50%|█████     | 15/30 [00:21<00:21,  1.45s/it]"
     ]
    },
    {
     "name": "stdout",
     "output_type": "stream",
     "text": [
      "Epoch : 15 , Loss : 1.053891016089398\n",
      "Epoch : 15, Validation Iteration : 1 , Loss : 1.0480362176895142\n",
      "Epoch : 15, Validation Loss : 1.048847692353385\n",
      "Epoch : 16, Iteration : 1 , Loss : 1.036864995956421\n",
      "Epoch : 16, Iteration : 11 , Loss : 1.0400400161743164\n",
      "Epoch : 16, Iteration : 21 , Loss : 1.0339524745941162\n",
      "Epoch : 16, Iteration : 31 , Loss : 1.0323337316513062\n",
      "Epoch : 16, Iteration : 41 , Loss : 1.0203840732574463\n",
      "Epoch : 16, Iteration : 51 , Loss : 1.0197981595993042\n",
      "Epoch : 16, Iteration : 61 , Loss : 1.0100377798080444\n"
     ]
    },
    {
     "name": "stderr",
     "output_type": "stream",
     "text": [
      "INFO:root:Evaluating accuracy on dev set\n",
      "INFO:root:Train loss: 1.0253316405890645 - acc: 0.7410499060050943 -- Validation loss: 1.0123215743473597 - acc: 0.6169158734843878\n",
      " 53%|█████▎    | 16/30 [00:23<00:20,  1.44s/it]"
     ]
    },
    {
     "name": "stdout",
     "output_type": "stream",
     "text": [
      "Epoch : 16 , Loss : 1.0253316405890645\n",
      "Epoch : 16, Validation Iteration : 1 , Loss : 1.0123029947280884\n",
      "Epoch : 16, Validation Loss : 1.0123215743473597\n",
      "Epoch : 17, Iteration : 1 , Loss : 1.000036358833313\n",
      "Epoch : 17, Iteration : 11 , Loss : 1.0024776458740234\n",
      "Epoch : 17, Iteration : 21 , Loss : 0.9951757788658142\n",
      "Epoch : 17, Iteration : 31 , Loss : 0.9927548170089722\n",
      "Epoch : 17, Iteration : 41 , Loss : 0.9797167778015137\n",
      "Epoch : 17, Iteration : 51 , Loss : 0.9787445068359375\n",
      "Epoch : 17, Iteration : 61 , Loss : 0.9682124853134155\n"
     ]
    },
    {
     "name": "stderr",
     "output_type": "stream",
     "text": [
      "INFO:root:Evaluating accuracy on dev set\n",
      "INFO:root:Train loss: 0.9858332310897716 - acc: 0.739000073065315 -- Validation loss: 0.9700347099985395 - acc: 0.6139592922782706\n",
      " 57%|█████▋    | 17/30 [00:24<00:18,  1.43s/it]"
     ]
    },
    {
     "name": "stdout",
     "output_type": "stream",
     "text": [
      "Epoch : 17 , Loss : 0.9858332310897716\n",
      "Epoch : 17, Validation Iteration : 1 , Loss : 0.9708899259567261\n",
      "Epoch : 17, Validation Loss : 0.9700347099985395\n",
      "Epoch : 18, Iteration : 1 , Loss : 0.9575085639953613\n",
      "Epoch : 18, Iteration : 11 , Loss : 0.9601121544837952\n",
      "Epoch : 18, Iteration : 21 , Loss : 0.9516000151634216\n",
      "Epoch : 18, Iteration : 31 , Loss : 0.9492135047912598\n",
      "Epoch : 18, Iteration : 41 , Loss : 0.9358513355255127\n",
      "Epoch : 18, Iteration : 51 , Loss : 0.935465931892395\n",
      "Epoch : 18, Iteration : 61 , Loss : 0.9252351522445679\n"
     ]
    },
    {
     "name": "stderr",
     "output_type": "stream",
     "text": [
      "INFO:root:Evaluating accuracy on dev set\n",
      "INFO:root:Train loss: 0.942404588063558 - acc: 0.7455389795864915 -- Validation loss: 0.9279837438038417 - acc: 0.6126702052035914\n",
      " 60%|██████    | 18/30 [00:26<00:17,  1.42s/it]"
     ]
    },
    {
     "name": "stdout",
     "output_type": "stream",
     "text": [
      "Epoch : 18 , Loss : 0.942404588063558\n",
      "Epoch : 18, Validation Iteration : 1 , Loss : 0.9284753203392029\n",
      "Epoch : 18, Validation Loss : 0.9279837438038417\n",
      "Epoch : 19, Iteration : 1 , Loss : 0.914574384689331\n",
      "Epoch : 19, Iteration : 11 , Loss : 0.9169367551803589\n",
      "Epoch : 19, Iteration : 21 , Loss : 0.9094011783599854\n",
      "Epoch : 19, Iteration : 31 , Loss : 0.9062497019767761\n",
      "Epoch : 19, Iteration : 41 , Loss : 0.8920809030532837\n",
      "Epoch : 19, Iteration : 51 , Loss : 0.8920804262161255\n",
      "Epoch : 19, Iteration : 61 , Loss : 0.8809217810630798\n"
     ]
    },
    {
     "name": "stderr",
     "output_type": "stream",
     "text": [
      "INFO:root:Evaluating accuracy on dev set\n",
      "INFO:root:Train loss: 0.8990402498107025 - acc: 0.7532766815147443 -- Validation loss: 0.8839338081223624 - acc: 0.6140956901526383\n",
      " 63%|██████▎   | 19/30 [00:27<00:15,  1.42s/it]"
     ]
    },
    {
     "name": "stdout",
     "output_type": "stream",
     "text": [
      "Epoch : 19 , Loss : 0.8990402498107025\n",
      "Epoch : 19, Validation Iteration : 1 , Loss : 0.8854712247848511\n",
      "Epoch : 19, Validation Loss : 0.8839338081223624\n",
      "Epoch : 20, Iteration : 1 , Loss : 0.8700298070907593\n",
      "Epoch : 20, Iteration : 11 , Loss : 0.8717893362045288\n",
      "Epoch : 20, Iteration : 21 , Loss : 0.8649859428405762\n",
      "Epoch : 20, Iteration : 31 , Loss : 0.8621257543563843\n",
      "Epoch : 20, Iteration : 41 , Loss : 0.8486526012420654\n",
      "Epoch : 20, Iteration : 51 , Loss : 0.8483020067214966\n",
      "Epoch : 20, Iteration : 61 , Loss : 0.8373076915740967\n"
     ]
    },
    {
     "name": "stderr",
     "output_type": "stream",
     "text": [
      "INFO:root:Evaluating accuracy on dev set\n",
      "INFO:root:Train loss: 0.8550884214000426 - acc: 0.758035972001788 -- Validation loss: 0.8405571324484689 - acc: 0.607250430980679\n",
      " 67%|██████▋   | 20/30 [00:28<00:14,  1.41s/it]"
     ]
    },
    {
     "name": "stdout",
     "output_type": "stream",
     "text": [
      "Epoch : 20 , Loss : 0.8550884214000426\n",
      "Epoch : 20, Validation Iteration : 1 , Loss : 0.8421493172645569\n",
      "Epoch : 20, Validation Loss : 0.8405571324484689\n",
      "Epoch : 21, Iteration : 1 , Loss : 0.8265987634658813\n",
      "Epoch : 21, Iteration : 11 , Loss : 0.8276764750480652\n",
      "Epoch : 21, Iteration : 21 , Loss : 0.8196393251419067\n",
      "Epoch : 21, Iteration : 31 , Loss : 0.8152949810028076\n",
      "Epoch : 21, Iteration : 41 , Loss : 0.801019012928009\n",
      "Epoch : 21, Iteration : 51 , Loss : 0.8004999160766602\n",
      "Epoch : 21, Iteration : 61 , Loss : 0.7897160053253174\n"
     ]
    },
    {
     "name": "stderr",
     "output_type": "stream",
     "text": [
      "INFO:root:Evaluating accuracy on dev set\n",
      "INFO:root:Train loss: 0.8085489601328752 - acc: 0.7624393605417242 -- Validation loss: 0.7934043151991708 - acc: 0.6046397301547051\n",
      " 70%|███████   | 21/30 [00:30<00:12,  1.41s/it]"
     ]
    },
    {
     "name": "stdout",
     "output_type": "stream",
     "text": [
      "Epoch : 21 , Loss : 0.8085489601328752\n",
      "Epoch : 21, Validation Iteration : 1 , Loss : 0.7948933839797974\n",
      "Epoch : 21, Validation Loss : 0.7934043151991708\n",
      "Epoch : 22, Iteration : 1 , Loss : 0.779085099697113\n",
      "Epoch : 22, Iteration : 11 , Loss : 0.7801827192306519\n",
      "Epoch : 22, Iteration : 21 , Loss : 0.7737087607383728\n",
      "Epoch : 22, Iteration : 31 , Loss : 0.7701992392539978\n",
      "Epoch : 22, Iteration : 41 , Loss : 0.7569433450698853\n",
      "Epoch : 22, Iteration : 51 , Loss : 0.757472038269043\n"
     ]
    },
    {
     "name": "stderr",
     "output_type": "stream",
     "text": [
      "INFO:root:Evaluating accuracy on dev set\n"
     ]
    },
    {
     "name": "stdout",
     "output_type": "stream",
     "text": [
      "Epoch : 22, Iteration : 61 , Loss : 0.7477109432220459\n",
      "Epoch : 22 , Loss : 0.764042968335359\n",
      "Epoch : 22, Validation Iteration : 1 , Loss : 0.7532650828361511\n"
     ]
    },
    {
     "name": "stderr",
     "output_type": "stream",
     "text": [
      "INFO:root:Train loss: 0.764042968335359 - acc: 0.764787178539882 -- Validation loss: 0.7526524918419975 - acc: 0.6009537750355067\n",
      " 73%|███████▎  | 22/30 [00:31<00:11,  1.42s/it]"
     ]
    },
    {
     "name": "stdout",
     "output_type": "stream",
     "text": [
      "Epoch : 22, Validation Loss : 0.7526524918419975\n",
      "Epoch : 23, Iteration : 1 , Loss : 0.7380141019821167\n",
      "Epoch : 23, Iteration : 11 , Loss : 0.7397542595863342\n",
      "Epoch : 23, Iteration : 21 , Loss : 0.733564019203186\n",
      "Epoch : 23, Iteration : 31 , Loss : 0.7307220697402954\n",
      "Epoch : 23, Iteration : 41 , Loss : 0.7173059582710266\n",
      "Epoch : 23, Iteration : 51 , Loss : 0.7182040214538574\n",
      "Epoch : 23, Iteration : 61 , Loss : 0.7086217403411865\n"
     ]
    },
    {
     "name": "stderr",
     "output_type": "stream",
     "text": [
      "INFO:root:Evaluating accuracy on dev set\n",
      "INFO:root:Train loss: 0.7242945009383602 - acc: 0.765946277497547 -- Validation loss: 0.7135181256702968 - acc: 0.6082608327026265\n",
      " 77%|███████▋  | 23/30 [00:33<00:09,  1.42s/it]"
     ]
    },
    {
     "name": "stdout",
     "output_type": "stream",
     "text": [
      "Epoch : 23 , Loss : 0.7242945009383602\n",
      "Epoch : 23, Validation Iteration : 1 , Loss : 0.7152040004730225\n",
      "Epoch : 23, Validation Loss : 0.7135181256702968\n",
      "Epoch : 24, Iteration : 1 , Loss : 0.6987985372543335\n",
      "Epoch : 24, Iteration : 11 , Loss : 0.7010254263877869\n",
      "Epoch : 24, Iteration : 21 , Loss : 0.6958714723587036\n",
      "Epoch : 24, Iteration : 31 , Loss : 0.6948122978210449\n",
      "Epoch : 24, Iteration : 41 , Loss : 0.6823257207870483\n",
      "Epoch : 24, Iteration : 51 , Loss : 0.6843761205673218\n",
      "Epoch : 24, Iteration : 61 , Loss : 0.6769161224365234\n"
     ]
    },
    {
     "name": "stderr",
     "output_type": "stream",
     "text": [
      "INFO:root:Evaluating accuracy on dev set\n",
      "INFO:root:Train loss: 0.6886520757191423 - acc: 0.7703711707602838 -- Validation loss: 0.6830558521406991 - acc: 0.6059593360864557\n",
      " 80%|████████  | 24/30 [00:34<00:08,  1.42s/it]"
     ]
    },
    {
     "name": "stdout",
     "output_type": "stream",
     "text": [
      "Epoch : 24 , Loss : 0.6886520757191423\n",
      "Epoch : 24, Validation Iteration : 1 , Loss : 0.684027373790741\n",
      "Epoch : 24, Validation Loss : 0.6830558521406991\n",
      "Epoch : 25, Iteration : 1 , Loss : 0.6680951118469238\n",
      "Epoch : 25, Iteration : 11 , Loss : 0.6721491813659668\n",
      "Epoch : 25, Iteration : 21 , Loss : 0.668159008026123\n",
      "Epoch : 25, Iteration : 31 , Loss : 0.6685270071029663\n",
      "Epoch : 25, Iteration : 41 , Loss : 0.6576426029205322\n",
      "Epoch : 25, Iteration : 51 , Loss : 0.6612856388092041\n",
      "Epoch : 25, Iteration : 61 , Loss : 0.6550289392471313\n"
     ]
    },
    {
     "name": "stderr",
     "output_type": "stream",
     "text": [
      "INFO:root:Evaluating accuracy on dev set\n",
      "INFO:root:Train loss: 0.6630124199217644 - acc: 0.7747815555795978 -- Validation loss: 0.6629960792405265 - acc: 0.6060837539708763\n",
      " 83%|████████▎ | 25/30 [00:36<00:07,  1.42s/it]"
     ]
    },
    {
     "name": "stdout",
     "output_type": "stream",
     "text": [
      "Epoch : 25 , Loss : 0.6630124199217644\n",
      "Epoch : 25, Validation Iteration : 1 , Loss : 0.6649192571640015\n",
      "Epoch : 25, Validation Loss : 0.6629960792405265\n",
      "Epoch : 26, Iteration : 1 , Loss : 0.6479648351669312\n",
      "Epoch : 26, Iteration : 11 , Loss : 0.6532630324363708\n",
      "Epoch : 26, Iteration : 21 , Loss : 0.6503888368606567\n",
      "Epoch : 26, Iteration : 31 , Loss : 0.6524007320404053\n",
      "Epoch : 26, Iteration : 41 , Loss : 0.6424829959869385\n",
      "Epoch : 26, Iteration : 51 , Loss : 0.6470872759819031\n",
      "Epoch : 26, Iteration : 61 , Loss : 0.6417288780212402\n"
     ]
    },
    {
     "name": "stderr",
     "output_type": "stream",
     "text": [
      "INFO:root:Evaluating accuracy on dev set\n",
      "INFO:root:Train loss: 0.6469331210938053 - acc: 0.7784339897381091 -- Validation loss: 0.6510229706764221 - acc: 0.6021760017193648\n",
      " 87%|████████▋ | 26/30 [00:37<00:05,  1.42s/it]"
     ]
    },
    {
     "name": "stdout",
     "output_type": "stream",
     "text": [
      "Epoch : 26 , Loss : 0.6469331210938053\n",
      "Epoch : 26, Validation Iteration : 1 , Loss : 0.6535465717315674\n",
      "Epoch : 26, Validation Loss : 0.6510229706764221\n",
      "Epoch : 27, Iteration : 1 , Loss : 0.635545015335083\n",
      "Epoch : 27, Iteration : 11 , Loss : 0.6416515707969666\n",
      "Epoch : 27, Iteration : 21 , Loss : 0.6390236616134644\n",
      "Epoch : 27, Iteration : 31 , Loss : 0.642197847366333\n",
      "Epoch : 27, Iteration : 41 , Loss : 0.6330875158309937\n",
      "Epoch : 27, Iteration : 51 , Loss : 0.637877345085144\n",
      "Epoch : 27, Iteration : 61 , Loss : 0.6327784061431885\n"
     ]
    },
    {
     "name": "stderr",
     "output_type": "stream",
     "text": [
      "INFO:root:Evaluating accuracy on dev set\n",
      "INFO:root:Train loss: 0.6367266445920088 - acc: 0.7813286888000305 -- Validation loss: 0.6429526891027179 - acc: 0.6022384449071887\n",
      " 90%|█████████ | 27/30 [00:38<00:04,  1.41s/it]"
     ]
    },
    {
     "name": "stdout",
     "output_type": "stream",
     "text": [
      "Epoch : 27 , Loss : 0.6367266445920088\n",
      "Epoch : 27, Validation Iteration : 1 , Loss : 0.6476749181747437\n",
      "Epoch : 27, Validation Loss : 0.6429526891027179\n",
      "Epoch : 28, Iteration : 1 , Loss : 0.6270865797996521\n",
      "Epoch : 28, Iteration : 11 , Loss : 0.6341597437858582\n",
      "Epoch : 28, Iteration : 21 , Loss : 0.6315469741821289\n",
      "Epoch : 28, Iteration : 31 , Loss : 0.6343814730644226\n",
      "Epoch : 28, Iteration : 41 , Loss : 0.6256270408630371\n",
      "Epoch : 28, Iteration : 51 , Loss : 0.6308913230895996\n",
      "Epoch : 28, Iteration : 61 , Loss : 0.6263003945350647\n"
     ]
    },
    {
     "name": "stderr",
     "output_type": "stream",
     "text": [
      "INFO:root:Evaluating accuracy on dev set\n",
      "INFO:root:Train loss: 0.6293977334879447 - acc: 0.7828936462036543 -- Validation loss: 0.6367617419787815 - acc: 0.6003142175833686\n",
      " 93%|█████████▎| 28/30 [00:40<00:02,  1.41s/it]"
     ]
    },
    {
     "name": "stdout",
     "output_type": "stream",
     "text": [
      "Epoch : 28 , Loss : 0.6293977334879447\n",
      "Epoch : 28, Validation Iteration : 1 , Loss : 0.6421783566474915\n",
      "Epoch : 28, Validation Loss : 0.6367617419787815\n",
      "Epoch : 29, Iteration : 1 , Loss : 0.6210391521453857\n",
      "Epoch : 29, Iteration : 11 , Loss : 0.6278154850006104\n",
      "Epoch : 29, Iteration : 21 , Loss : 0.6256102323532104\n",
      "Epoch : 29, Iteration : 31 , Loss : 0.6279748678207397\n",
      "Epoch : 29, Iteration : 41 , Loss : 0.6196961998939514\n",
      "Epoch : 29, Iteration : 51 , Loss : 0.6252785325050354\n",
      "Epoch : 29, Iteration : 61 , Loss : 0.6209246516227722\n"
     ]
    },
    {
     "name": "stderr",
     "output_type": "stream",
     "text": [
      "INFO:root:Evaluating accuracy on dev set\n",
      "INFO:root:Train loss: 0.6235773580661719 - acc: 0.7821149796544484 -- Validation loss: 0.6311638951301575 - acc: 0.5986030868405037\n",
      " 97%|█████████▋| 29/30 [00:41<00:01,  1.41s/it]"
     ]
    },
    {
     "name": "stdout",
     "output_type": "stream",
     "text": [
      "Epoch : 29 , Loss : 0.6235773580661719\n",
      "Epoch : 29, Validation Iteration : 1 , Loss : 0.6357660293579102\n",
      "Epoch : 29, Validation Loss : 0.6311638951301575\n",
      "Epoch : 30, Iteration : 1 , Loss : 0.615379810333252\n",
      "Epoch : 30, Iteration : 11 , Loss : 0.6222171187400818\n",
      "Epoch : 30, Iteration : 21 , Loss : 0.6201549768447876\n",
      "Epoch : 30, Iteration : 31 , Loss : 0.622539222240448\n",
      "Epoch : 30, Iteration : 41 , Loss : 0.6142880320549011\n",
      "Epoch : 30, Iteration : 51 , Loss : 0.6205288767814636\n",
      "Epoch : 30, Iteration : 61 , Loss : 0.6155222654342651\n"
     ]
    },
    {
     "name": "stderr",
     "output_type": "stream",
     "text": [
      "INFO:root:Evaluating accuracy on dev set\n",
      "INFO:root:Train loss: 0.6181021842403688 - acc: 0.7832056099543526 -- Validation loss: 0.624752334186009 - acc: 0.6103992943718103\n",
      "100%|██████████| 30/30 [00:43<00:00,  1.44s/it]\n"
     ]
    },
    {
     "name": "stdout",
     "output_type": "stream",
     "text": [
      "Epoch : 30 , Loss : 0.6181021842403688\n",
      "Epoch : 30, Validation Iteration : 1 , Loss : 0.6261392831802368\n",
      "Epoch : 30, Validation Loss : 0.624752334186009\n"
     ]
    },
    {
     "name": "stderr",
     "output_type": "stream",
     "text": [
      "\r",
      "  0%|          | 0/30 [00:00<?, ?it/s]"
     ]
    },
    {
     "name": "stdout",
     "output_type": "stream",
     "text": [
      "Epoch : 1, Iteration : 1 , Loss : 1.1413477659225464\n",
      "Epoch : 1, Iteration : 11 , Loss : 1.132491111755371\n",
      "Epoch : 1, Iteration : 21 , Loss : 1.1235424280166626\n",
      "Epoch : 1, Iteration : 31 , Loss : 1.1292550563812256\n",
      "Epoch : 1, Iteration : 41 , Loss : 1.1223713159561157\n",
      "Epoch : 1, Iteration : 51 , Loss : 1.120792031288147\n",
      "Epoch : 1, Iteration : 61 , Loss : 1.116496205329895\n"
     ]
    },
    {
     "name": "stderr",
     "output_type": "stream",
     "text": [
      "INFO:root:Evaluating accuracy on dev set\n"
     ]
    },
    {
     "name": "stdout",
     "output_type": "stream",
     "text": [
      "Epoch : 1 , Loss : 1.1347984455633855\n",
      "Epoch : 1, Validation Iteration : 1 , Loss : 1.0964131355285645\n"
     ]
    },
    {
     "name": "stderr",
     "output_type": "stream",
     "text": [
      "INFO:root:new model saved\n",
      "INFO:root:Train loss: 1.1347984455633855 - acc: 0.4683103602395114 -- Validation loss: 1.1006299086979456 - acc: 0.5325177812908126\n",
      "  3%|▎         | 1/30 [00:01<00:42,  1.47s/it]"
     ]
    },
    {
     "name": "stdout",
     "output_type": "stream",
     "text": [
      "Epoch : 1, Validation Loss : 1.1006299086979456\n",
      "Epoch : 2, Iteration : 1 , Loss : 1.0927915573120117\n",
      "Epoch : 2, Iteration : 11 , Loss : 1.0962598323822021\n",
      "Epoch : 2, Iteration : 21 , Loss : 1.093670129776001\n",
      "Epoch : 2, Iteration : 31 , Loss : 1.0970237255096436\n",
      "Epoch : 2, Iteration : 41 , Loss : 1.0918327569961548\n",
      "Epoch : 2, Iteration : 51 , Loss : 1.0899431705474854\n",
      "Epoch : 2, Iteration : 61 , Loss : 1.0855553150177002\n"
     ]
    },
    {
     "name": "stderr",
     "output_type": "stream",
     "text": [
      "INFO:root:Evaluating accuracy on dev set\n",
      "INFO:root:new model saved\n",
      "INFO:root:Train loss: 1.094842943592348 - acc: 0.5704096615465513 -- Validation loss: 1.0927087579454695 - acc: 0.5456378781022309\n",
      "  7%|▋         | 2/30 [00:02<00:40,  1.46s/it]"
     ]
    },
    {
     "name": "stdout",
     "output_type": "stream",
     "text": [
      "Epoch : 2 , Loss : 1.094842943592348\n",
      "Epoch : 2, Validation Iteration : 1 , Loss : 1.0913341045379639\n",
      "Epoch : 2, Validation Loss : 1.0927087579454695\n",
      "Epoch : 3, Iteration : 1 , Loss : 1.080723524093628\n",
      "Epoch : 3, Iteration : 11 , Loss : 1.0887049436569214\n",
      "Epoch : 3, Iteration : 21 , Loss : 1.0872414112091064\n",
      "Epoch : 3, Iteration : 31 , Loss : 1.0795146226882935\n",
      "Epoch : 3, Iteration : 41 , Loss : 1.0696488618850708\n",
      "Epoch : 3, Iteration : 51 , Loss : 1.0565056800842285\n",
      "Epoch : 3, Iteration : 61 , Loss : 1.0397062301635742\n"
     ]
    },
    {
     "name": "stderr",
     "output_type": "stream",
     "text": [
      "INFO:root:Evaluating accuracy on dev set\n",
      "INFO:root:Train loss: 1.0704112795815952 - acc: 0.6125981485499161 -- Validation loss: 1.0337013687406267 - acc: 0.5169463375979102\n",
      " 10%|█         | 3/30 [00:04<00:38,  1.44s/it]"
     ]
    },
    {
     "name": "stdout",
     "output_type": "stream",
     "text": [
      "Epoch : 3 , Loss : 1.0704112795815952\n",
      "Epoch : 3, Validation Iteration : 1 , Loss : 1.0283571481704712\n",
      "Epoch : 3, Validation Loss : 1.0337013687406267\n",
      "Epoch : 4, Iteration : 1 , Loss : 1.0175508260726929\n",
      "Epoch : 4, Iteration : 11 , Loss : 0.9578302502632141\n",
      "Epoch : 4, Iteration : 21 , Loss : 0.8688682317733765\n",
      "Epoch : 4, Iteration : 31 , Loss : 0.7817281484603882\n",
      "Epoch : 4, Iteration : 41 , Loss : 0.7157272100448608\n",
      "Epoch : 4, Iteration : 51 , Loss : 0.7349912524223328\n",
      "Epoch : 4, Iteration : 61 , Loss : 0.6851094961166382\n"
     ]
    },
    {
     "name": "stderr",
     "output_type": "stream",
     "text": [
      "INFO:root:Evaluating accuracy on dev set\n",
      "INFO:root:Train loss: 0.7981981868329255 - acc: 0.5999283701549019 -- Validation loss: 0.680820882320404 - acc: 0.47723320634242583\n",
      " 13%|█▎        | 4/30 [00:05<00:37,  1.42s/it]"
     ]
    },
    {
     "name": "stdout",
     "output_type": "stream",
     "text": [
      "Epoch : 4 , Loss : 0.7981981868329255\n",
      "Epoch : 4, Validation Iteration : 1 , Loss : 0.6771268844604492\n",
      "Epoch : 4, Validation Loss : 0.680820882320404\n",
      "Epoch : 5, Iteration : 1 , Loss : 0.6690472364425659\n",
      "Epoch : 5, Iteration : 11 , Loss : 0.6580474972724915\n",
      "Epoch : 5, Iteration : 21 , Loss : 0.6339614391326904\n",
      "Epoch : 5, Iteration : 31 , Loss : 0.643809974193573\n",
      "Epoch : 5, Iteration : 41 , Loss : 0.625646710395813\n",
      "Epoch : 5, Iteration : 51 , Loss : 0.6247819662094116\n",
      "Epoch : 5, Iteration : 61 , Loss : 0.6196891069412231\n"
     ]
    },
    {
     "name": "stderr",
     "output_type": "stream",
     "text": [
      "INFO:root:Evaluating accuracy on dev set\n",
      "INFO:root:Train loss: 0.6345268038735874 - acc: 0.5990288677896821 -- Validation loss: 0.6353000743048531 - acc: 0.4481038942501567\n",
      " 17%|█▋        | 5/30 [00:07<00:35,  1.42s/it]"
     ]
    },
    {
     "name": "stdout",
     "output_type": "stream",
     "text": [
      "Epoch : 5 , Loss : 0.6345268038735874\n",
      "Epoch : 5, Validation Iteration : 1 , Loss : 0.6318932771682739\n",
      "Epoch : 5, Validation Loss : 0.6353000743048531\n",
      "Epoch : 6, Iteration : 1 , Loss : 0.623693585395813\n",
      "Epoch : 6, Iteration : 11 , Loss : 0.6241468191146851\n",
      "Epoch : 6, Iteration : 21 , Loss : 0.6171540021896362\n",
      "Epoch : 6, Iteration : 31 , Loss : 0.6213781833648682\n",
      "Epoch : 6, Iteration : 41 , Loss : 0.6094446182250977\n",
      "Epoch : 6, Iteration : 51 , Loss : 0.6093292832374573\n",
      "Epoch : 6, Iteration : 61 , Loss : 0.6044175624847412\n"
     ]
    },
    {
     "name": "stderr",
     "output_type": "stream",
     "text": [
      "INFO:root:Evaluating accuracy on dev set\n",
      "INFO:root:Train loss: 0.6175032007521477 - acc: 0.6062548283933662 -- Validation loss: 0.6221073610442025 - acc: 0.4932000566308949\n",
      " 20%|██        | 6/30 [00:08<00:34,  1.42s/it]"
     ]
    },
    {
     "name": "stdout",
     "output_type": "stream",
     "text": [
      "Epoch : 6 , Loss : 0.6175032007521477\n",
      "Epoch : 6, Validation Iteration : 1 , Loss : 0.6183201670646667\n",
      "Epoch : 6, Validation Loss : 0.6221073610442025\n",
      "Epoch : 7, Iteration : 1 , Loss : 0.6042653918266296\n",
      "Epoch : 7, Iteration : 11 , Loss : 0.6239060163497925\n",
      "Epoch : 7, Iteration : 21 , Loss : 0.6064748764038086\n",
      "Epoch : 7, Iteration : 31 , Loss : 0.6112284660339355\n",
      "Epoch : 7, Iteration : 41 , Loss : 0.6016253232955933\n",
      "Epoch : 7, Iteration : 51 , Loss : 0.6032764911651611\n",
      "Epoch : 7, Iteration : 61 , Loss : 0.6012883186340332\n"
     ]
    },
    {
     "name": "stderr",
     "output_type": "stream",
     "text": [
      "INFO:root:Evaluating accuracy on dev set\n",
      "INFO:root:Train loss: 0.6082581057064775 - acc: 0.6298115601664253 -- Validation loss: 0.6116399339267186 - acc: 0.48734445171226\n",
      " 23%|██▎       | 7/30 [00:09<00:32,  1.42s/it]"
     ]
    },
    {
     "name": "stdout",
     "output_type": "stream",
     "text": [
      "Epoch : 7 , Loss : 0.6082581057064775\n",
      "Epoch : 7, Validation Iteration : 1 , Loss : 0.6061691045761108\n",
      "Epoch : 7, Validation Loss : 0.6116399339267186\n",
      "Epoch : 8, Iteration : 1 , Loss : 0.5976284146308899\n",
      "Epoch : 8, Iteration : 11 , Loss : 0.6038947701454163\n",
      "Epoch : 8, Iteration : 21 , Loss : 0.605522871017456\n",
      "Epoch : 8, Iteration : 31 , Loss : 0.6085524559020996\n",
      "Epoch : 8, Iteration : 41 , Loss : 0.5922114253044128\n",
      "Epoch : 8, Iteration : 51 , Loss : 0.6000370383262634\n",
      "Epoch : 8, Iteration : 61 , Loss : 0.6003768444061279\n"
     ]
    },
    {
     "name": "stderr",
     "output_type": "stream",
     "text": [
      "INFO:root:Evaluating accuracy on dev set\n",
      "INFO:root:Train loss: 0.6010083253832831 - acc: 0.6636558368249506 -- Validation loss: 0.6089444245610919 - acc: 0.5392223592400432\n",
      " 27%|██▋       | 8/30 [00:11<00:31,  1.41s/it]"
     ]
    },
    {
     "name": "stdout",
     "output_type": "stream",
     "text": [
      "Epoch : 8 , Loss : 0.6010083253832831\n",
      "Epoch : 8, Validation Iteration : 1 , Loss : 0.6047632694244385\n",
      "Epoch : 8, Validation Loss : 0.6089444245610919\n",
      "Epoch : 9, Iteration : 1 , Loss : 0.5924952030181885\n",
      "Epoch : 9, Iteration : 11 , Loss : 0.6028546094894409\n",
      "Epoch : 9, Iteration : 21 , Loss : 0.6006437540054321\n",
      "Epoch : 9, Iteration : 31 , Loss : 0.6075121760368347\n",
      "Epoch : 9, Iteration : 41 , Loss : 0.5934165120124817\n",
      "Epoch : 9, Iteration : 51 , Loss : 0.6000088453292847\n",
      "Epoch : 9, Iteration : 61 , Loss : 0.5951874852180481\n"
     ]
    },
    {
     "name": "stderr",
     "output_type": "stream",
     "text": [
      "INFO:root:Evaluating accuracy on dev set\n",
      "INFO:root:Train loss: 0.5994729425596155 - acc: 0.6772824415121398 -- Validation loss: 0.6076308829443795 - acc: 0.5395629523620536\n",
      " 30%|███       | 9/30 [00:12<00:29,  1.42s/it]"
     ]
    },
    {
     "name": "stdout",
     "output_type": "stream",
     "text": [
      "Epoch : 9 , Loss : 0.5994729425596155\n",
      "Epoch : 9, Validation Iteration : 1 , Loss : 0.6093957424163818\n",
      "Epoch : 9, Validation Loss : 0.6076308829443795\n",
      "Epoch : 10, Iteration : 1 , Loss : 0.5906298160552979\n",
      "Epoch : 10, Iteration : 11 , Loss : 0.5987304449081421\n",
      "Epoch : 10, Iteration : 21 , Loss : 0.5977227687835693\n",
      "Epoch : 10, Iteration : 31 , Loss : 0.6003431677818298\n",
      "Epoch : 10, Iteration : 41 , Loss : 0.5895418524742126\n",
      "Epoch : 10, Iteration : 51 , Loss : 0.5975926518440247\n",
      "Epoch : 10, Iteration : 61 , Loss : 0.5964871644973755\n"
     ]
    },
    {
     "name": "stderr",
     "output_type": "stream",
     "text": [
      "INFO:root:Evaluating accuracy on dev set\n",
      "INFO:root:new model saved\n",
      "INFO:root:Train loss: 0.5963403763978378 - acc: 0.7054030110468059 -- Validation loss: 0.6059264710971287 - acc: 0.5475575543684175\n",
      " 33%|███▎      | 10/30 [00:14<00:28,  1.44s/it]"
     ]
    },
    {
     "name": "stdout",
     "output_type": "stream",
     "text": [
      "Epoch : 10 , Loss : 0.5963403763978378\n",
      "Epoch : 10, Validation Iteration : 1 , Loss : 0.6051042079925537\n",
      "Epoch : 10, Validation Loss : 0.6059264710971287\n",
      "Epoch : 11, Iteration : 1 , Loss : 0.5920521020889282\n",
      "Epoch : 11, Iteration : 11 , Loss : 0.5983536243438721\n",
      "Epoch : 11, Iteration : 21 , Loss : 0.5933427810668945\n",
      "Epoch : 11, Iteration : 31 , Loss : 0.6003724336624146\n",
      "Epoch : 11, Iteration : 41 , Loss : 0.5900863409042358\n",
      "Epoch : 11, Iteration : 51 , Loss : 0.5953953266143799\n",
      "Epoch : 11, Iteration : 61 , Loss : 0.59441077709198\n"
     ]
    },
    {
     "name": "stderr",
     "output_type": "stream",
     "text": [
      "INFO:root:Evaluating accuracy on dev set\n",
      "INFO:root:Train loss: 0.594367303710053 - acc: 0.723976581346889 -- Validation loss: 0.6069186159542629 - acc: 0.5434933929744146\n",
      " 37%|███▋      | 11/30 [00:15<00:27,  1.43s/it]"
     ]
    },
    {
     "name": "stdout",
     "output_type": "stream",
     "text": [
      "Epoch : 11 , Loss : 0.594367303710053\n",
      "Epoch : 11, Validation Iteration : 1 , Loss : 0.6041694283485413\n",
      "Epoch : 11, Validation Loss : 0.6069186159542629\n",
      "Epoch : 12, Iteration : 1 , Loss : 0.5921285152435303\n",
      "Epoch : 12, Iteration : 11 , Loss : 0.5970020294189453\n",
      "Epoch : 12, Iteration : 21 , Loss : 0.595893144607544\n",
      "Epoch : 12, Iteration : 31 , Loss : 0.5964987277984619\n",
      "Epoch : 12, Iteration : 41 , Loss : 0.5870458483695984\n",
      "Epoch : 12, Iteration : 51 , Loss : 0.5951724052429199\n",
      "Epoch : 12, Iteration : 61 , Loss : 0.5955857634544373\n"
     ]
    },
    {
     "name": "stderr",
     "output_type": "stream",
     "text": [
      "INFO:root:Evaluating accuracy on dev set\n",
      "INFO:root:new model saved\n",
      "INFO:root:Train loss: 0.5931265768797501 - acc: 0.738856976786791 -- Validation loss: 0.605357119015285 - acc: 0.5570485173537374\n",
      " 40%|████      | 12/30 [00:17<00:25,  1.44s/it]"
     ]
    },
    {
     "name": "stdout",
     "output_type": "stream",
     "text": [
      "Epoch : 12 , Loss : 0.5931265768797501\n",
      "Epoch : 12, Validation Iteration : 1 , Loss : 0.603413462638855\n",
      "Epoch : 12, Validation Loss : 0.605357119015285\n",
      "Epoch : 13, Iteration : 1 , Loss : 0.5867326855659485\n",
      "Epoch : 13, Iteration : 11 , Loss : 0.6020228266716003\n",
      "Epoch : 13, Iteration : 21 , Loss : 0.590182900428772\n",
      "Epoch : 13, Iteration : 31 , Loss : 0.5932794809341431\n",
      "Epoch : 13, Iteration : 41 , Loss : 0.5853223204612732\n",
      "Epoch : 13, Iteration : 51 , Loss : 0.5924783945083618\n",
      "Epoch : 13, Iteration : 61 , Loss : 0.5886092185974121\n"
     ]
    },
    {
     "name": "stderr",
     "output_type": "stream",
     "text": [
      "INFO:root:Evaluating accuracy on dev set\n",
      "INFO:root:Train loss: 0.5902409778125044 - acc: 0.746008157633712 -- Validation loss: 0.6023658854620797 - acc: 0.5323134521885338\n",
      " 43%|████▎     | 13/30 [00:18<00:24,  1.43s/it]"
     ]
    },
    {
     "name": "stdout",
     "output_type": "stream",
     "text": [
      "Epoch : 13 , Loss : 0.5902409778125044\n",
      "Epoch : 13, Validation Iteration : 1 , Loss : 0.5998444557189941\n",
      "Epoch : 13, Validation Loss : 0.6023658854620797\n",
      "Epoch : 14, Iteration : 1 , Loss : 0.5859192609786987\n",
      "Epoch : 14, Iteration : 11 , Loss : 0.6037006378173828\n",
      "Epoch : 14, Iteration : 21 , Loss : 0.5911675691604614\n",
      "Epoch : 14, Iteration : 31 , Loss : 0.5927220582962036\n",
      "Epoch : 14, Iteration : 41 , Loss : 0.5843645334243774\n",
      "Epoch : 14, Iteration : 51 , Loss : 0.5960170030593872\n",
      "Epoch : 14, Iteration : 61 , Loss : 0.5893576145172119\n"
     ]
    },
    {
     "name": "stderr",
     "output_type": "stream",
     "text": [
      "INFO:root:Evaluating accuracy on dev set\n",
      "INFO:root:Train loss: 0.5905396083126897 - acc: 0.7374126356371745 -- Validation loss: 0.6038641674177987 - acc: 0.5046981029598914\n",
      " 47%|████▋     | 14/30 [00:20<00:22,  1.42s/it]"
     ]
    },
    {
     "name": "stdout",
     "output_type": "stream",
     "text": [
      "Epoch : 14 , Loss : 0.5905396083126897\n",
      "Epoch : 14, Validation Iteration : 1 , Loss : 0.6013078689575195\n",
      "Epoch : 14, Validation Loss : 0.6038641674177987\n",
      "Epoch : 15, Iteration : 1 , Loss : 0.5843260288238525\n",
      "Epoch : 15, Iteration : 11 , Loss : 0.6013634204864502\n",
      "Epoch : 15, Iteration : 21 , Loss : 0.5909802913665771\n",
      "Epoch : 15, Iteration : 31 , Loss : 0.5935853719711304\n",
      "Epoch : 15, Iteration : 41 , Loss : 0.5892006158828735\n",
      "Epoch : 15, Iteration : 51 , Loss : 0.5953388214111328\n",
      "Epoch : 15, Iteration : 61 , Loss : 0.5876016616821289\n"
     ]
    },
    {
     "name": "stderr",
     "output_type": "stream",
     "text": [
      "INFO:root:Evaluating accuracy on dev set\n",
      "INFO:root:Train loss: 0.5906193861062976 - acc: 0.7293580125736244 -- Validation loss: 0.601769575050899 - acc: 0.526363680533277\n",
      " 50%|█████     | 15/30 [00:21<00:21,  1.42s/it]"
     ]
    },
    {
     "name": "stdout",
     "output_type": "stream",
     "text": [
      "Epoch : 15 , Loss : 0.5906193861062976\n",
      "Epoch : 15, Validation Iteration : 1 , Loss : 0.5972468852996826\n",
      "Epoch : 15, Validation Loss : 0.601769575050899\n",
      "Epoch : 16, Iteration : 1 , Loss : 0.5867081880569458\n",
      "Epoch : 16, Iteration : 11 , Loss : 0.6007582545280457\n",
      "Epoch : 16, Iteration : 21 , Loss : 0.5892879962921143\n",
      "Epoch : 16, Iteration : 31 , Loss : 0.5949434638023376\n",
      "Epoch : 16, Iteration : 41 , Loss : 0.5842016935348511\n",
      "Epoch : 16, Iteration : 51 , Loss : 0.5928311347961426\n",
      "Epoch : 16, Iteration : 61 , Loss : 0.5873532891273499\n"
     ]
    },
    {
     "name": "stderr",
     "output_type": "stream",
     "text": [
      "INFO:root:Evaluating accuracy on dev set\n",
      "INFO:root:Train loss: 0.5899825692176819 - acc: 0.7390997238085972 -- Validation loss: 0.6040025097983224 - acc: 0.5124682307412162\n",
      " 53%|█████▎    | 16/30 [00:22<00:19,  1.42s/it]"
     ]
    },
    {
     "name": "stdout",
     "output_type": "stream",
     "text": [
      "Epoch : 16 , Loss : 0.5899825692176819\n",
      "Epoch : 16, Validation Iteration : 1 , Loss : 0.6051325798034668\n",
      "Epoch : 16, Validation Loss : 0.6040025097983224\n",
      "Epoch : 17, Iteration : 1 , Loss : 0.584636390209198\n",
      "Epoch : 17, Iteration : 11 , Loss : 0.5982425212860107\n",
      "Epoch : 17, Iteration : 21 , Loss : 0.5899994373321533\n",
      "Epoch : 17, Iteration : 31 , Loss : 0.5949274897575378\n",
      "Epoch : 17, Iteration : 41 , Loss : 0.5868597030639648\n",
      "Epoch : 17, Iteration : 51 , Loss : 0.5919250249862671\n",
      "Epoch : 17, Iteration : 61 , Loss : 0.5874706506729126\n"
     ]
    },
    {
     "name": "stderr",
     "output_type": "stream",
     "text": [
      "INFO:root:Evaluating accuracy on dev set\n",
      "INFO:root:Train loss: 0.5900299419527468 - acc: 0.7427681408778571 -- Validation loss: 0.600765952042171 - acc: 0.5357928026766364\n",
      " 57%|█████▋    | 17/30 [00:24<00:18,  1.42s/it]"
     ]
    },
    {
     "name": "stdout",
     "output_type": "stream",
     "text": [
      "Epoch : 17 , Loss : 0.5900299419527468\n",
      "Epoch : 17, Validation Iteration : 1 , Loss : 0.6002196073532104\n",
      "Epoch : 17, Validation Loss : 0.600765952042171\n",
      "Epoch : 18, Iteration : 1 , Loss : 0.5854759216308594\n",
      "Epoch : 18, Iteration : 11 , Loss : 0.5962604284286499\n",
      "Epoch : 18, Iteration : 21 , Loss : 0.5919739007949829\n",
      "Epoch : 18, Iteration : 31 , Loss : 0.5937026739120483\n",
      "Epoch : 18, Iteration : 41 , Loss : 0.5853415131568909\n",
      "Epoch : 18, Iteration : 51 , Loss : 0.5913048982620239\n",
      "Epoch : 18, Iteration : 61 , Loss : 0.5861101150512695\n"
     ]
    },
    {
     "name": "stderr",
     "output_type": "stream",
     "text": [
      "INFO:root:Evaluating accuracy on dev set\n",
      "INFO:root:Train loss: 0.5887695196746052 - acc: 0.7487732657165906 -- Validation loss: 0.6008849484579903 - acc: 0.5014403488221476\n",
      " 60%|██████    | 18/30 [00:25<00:17,  1.43s/it]"
     ]
    },
    {
     "name": "stdout",
     "output_type": "stream",
     "text": [
      "Epoch : 18 , Loss : 0.5887695196746052\n",
      "Epoch : 18, Validation Iteration : 1 , Loss : 0.6007159948348999\n",
      "Epoch : 18, Validation Loss : 0.6008849484579903\n",
      "Epoch : 19, Iteration : 1 , Loss : 0.5811493396759033\n",
      "Epoch : 19, Iteration : 11 , Loss : 0.594528079032898\n",
      "Epoch : 19, Iteration : 21 , Loss : 0.5873723030090332\n",
      "Epoch : 19, Iteration : 31 , Loss : 0.5920290946960449\n",
      "Epoch : 19, Iteration : 41 , Loss : 0.5820484161376953\n",
      "Epoch : 19, Iteration : 51 , Loss : 0.5909919142723083\n",
      "Epoch : 19, Iteration : 61 , Loss : 0.5850808620452881\n"
     ]
    },
    {
     "name": "stderr",
     "output_type": "stream",
     "text": [
      "INFO:root:Evaluating accuracy on dev set\n",
      "INFO:root:Train loss: 0.5866106748580933 - acc: 0.7553820388407959 -- Validation loss: 0.5987060495785305 - acc: 0.5094486709287299\n",
      " 63%|██████▎   | 19/30 [00:27<00:15,  1.42s/it]"
     ]
    },
    {
     "name": "stdout",
     "output_type": "stream",
     "text": [
      "Epoch : 19 , Loss : 0.5866106748580933\n",
      "Epoch : 19, Validation Iteration : 1 , Loss : 0.5943946242332458\n",
      "Epoch : 19, Validation Loss : 0.5987060495785305\n",
      "Epoch : 20, Iteration : 1 , Loss : 0.5799057483673096\n",
      "Epoch : 20, Iteration : 11 , Loss : 0.5930249094963074\n",
      "Epoch : 20, Iteration : 21 , Loss : 0.5861889123916626\n",
      "Epoch : 20, Iteration : 31 , Loss : 0.5892724394798279\n",
      "Epoch : 20, Iteration : 41 , Loss : 0.5794926881790161\n",
      "Epoch : 20, Iteration : 51 , Loss : 0.5880372524261475\n",
      "Epoch : 20, Iteration : 61 , Loss : 0.5827401876449585\n"
     ]
    },
    {
     "name": "stderr",
     "output_type": "stream",
     "text": [
      "INFO:root:Evaluating accuracy on dev set\n",
      "INFO:root:Train loss: 0.5847313654595527 - acc: 0.7610680166753725 -- Validation loss: 0.5971256920269558 - acc: 0.5054925971535217\n",
      " 67%|██████▋   | 20/30 [00:28<00:14,  1.42s/it]"
     ]
    },
    {
     "name": "stdout",
     "output_type": "stream",
     "text": [
      "Epoch : 20 , Loss : 0.5847313654595527\n",
      "Epoch : 20, Validation Iteration : 1 , Loss : 0.5941348075866699\n",
      "Epoch : 20, Validation Loss : 0.5971256920269558\n",
      "Epoch : 21, Iteration : 1 , Loss : 0.5779966115951538\n",
      "Epoch : 21, Iteration : 11 , Loss : 0.588227391242981\n",
      "Epoch : 21, Iteration : 21 , Loss : 0.584918737411499\n",
      "Epoch : 21, Iteration : 31 , Loss : 0.5880410671234131\n",
      "Epoch : 21, Iteration : 41 , Loss : 0.5795913338661194\n",
      "Epoch : 21, Iteration : 51 , Loss : 0.5884009003639221\n",
      "Epoch : 21, Iteration : 61 , Loss : 0.5823683738708496\n"
     ]
    },
    {
     "name": "stderr",
     "output_type": "stream",
     "text": [
      "INFO:root:Evaluating accuracy on dev set\n",
      "INFO:root:Train loss: 0.5836245469425035 - acc: 0.7662447989026501 -- Validation loss: 0.5996770858764648 - acc: 0.5006359493854327\n",
      " 70%|███████   | 21/30 [00:29<00:12,  1.42s/it]"
     ]
    },
    {
     "name": "stdout",
     "output_type": "stream",
     "text": [
      "Epoch : 21 , Loss : 0.5836245469425035\n",
      "Epoch : 21, Validation Iteration : 1 , Loss : 0.5936626195907593\n",
      "Epoch : 21, Validation Loss : 0.5996770858764648\n",
      "Epoch : 22, Iteration : 1 , Loss : 0.5780680775642395\n",
      "Epoch : 22, Iteration : 11 , Loss : 0.5901587009429932\n",
      "Epoch : 22, Iteration : 21 , Loss : 0.5852186679840088\n",
      "Epoch : 22, Iteration : 31 , Loss : 0.5875275135040283\n",
      "Epoch : 22, Iteration : 41 , Loss : 0.5796642303466797\n",
      "Epoch : 22, Iteration : 51 , Loss : 0.5899145603179932\n",
      "Epoch : 22, Iteration : 61 , Loss : 0.5825347304344177\n"
     ]
    },
    {
     "name": "stderr",
     "output_type": "stream",
     "text": [
      "INFO:root:Evaluating accuracy on dev set\n",
      "INFO:root:Train loss: 0.5838003443635028 - acc: 0.7667519313455019 -- Validation loss: 0.5992142813546317 - acc: 0.5121838565664428\n",
      " 73%|███████▎  | 22/30 [00:31<00:11,  1.41s/it]"
     ]
    },
    {
     "name": "stdout",
     "output_type": "stream",
     "text": [
      "Epoch : 22 , Loss : 0.5838003443635028\n",
      "Epoch : 22, Validation Iteration : 1 , Loss : 0.5940327644348145\n",
      "Epoch : 22, Validation Loss : 0.5992142813546317\n",
      "Epoch : 23, Iteration : 1 , Loss : 0.5806394219398499\n",
      "Epoch : 23, Iteration : 11 , Loss : 0.586878776550293\n",
      "Epoch : 23, Iteration : 21 , Loss : 0.5854576230049133\n",
      "Epoch : 23, Iteration : 31 , Loss : 0.5878298282623291\n",
      "Epoch : 23, Iteration : 41 , Loss : 0.5789790153503418\n",
      "Epoch : 23, Iteration : 51 , Loss : 0.5883668065071106\n",
      "Epoch : 23, Iteration : 61 , Loss : 0.582440972328186\n"
     ]
    },
    {
     "name": "stderr",
     "output_type": "stream",
     "text": [
      "INFO:root:Evaluating accuracy on dev set\n",
      "INFO:root:Train loss: 0.5838019338206969 - acc: 0.7638753933415101 -- Validation loss: 0.6001976728439331 - acc: 0.5013196788675427\n",
      " 77%|███████▋  | 23/30 [00:32<00:09,  1.42s/it]"
     ]
    },
    {
     "name": "stdout",
     "output_type": "stream",
     "text": [
      "Epoch : 23 , Loss : 0.5838019338206969\n",
      "Epoch : 23, Validation Iteration : 1 , Loss : 0.5934334993362427\n",
      "Epoch : 23, Validation Loss : 0.6001976728439331\n",
      "Epoch : 24, Iteration : 1 , Loss : 0.5779343843460083\n",
      "Epoch : 24, Iteration : 11 , Loss : 0.5860185623168945\n",
      "Epoch : 24, Iteration : 21 , Loss : 0.5847132802009583\n",
      "Epoch : 24, Iteration : 31 , Loss : 0.5852547883987427\n",
      "Epoch : 24, Iteration : 41 , Loss : 0.5785493850708008\n",
      "Epoch : 24, Iteration : 51 , Loss : 0.5872288942337036\n",
      "Epoch : 24, Iteration : 61 , Loss : 0.5818673372268677\n"
     ]
    },
    {
     "name": "stderr",
     "output_type": "stream",
     "text": [
      "INFO:root:Evaluating accuracy on dev set\n",
      "INFO:root:Train loss: 0.5831388615179753 - acc: 0.7592809407392865 -- Validation loss: 0.5984032324382237 - acc: 0.4960929899574618\n",
      " 80%|████████  | 24/30 [00:34<00:08,  1.41s/it]"
     ]
    },
    {
     "name": "stdout",
     "output_type": "stream",
     "text": [
      "Epoch : 24 , Loss : 0.5831388615179753\n",
      "Epoch : 24, Validation Iteration : 1 , Loss : 0.5921056866645813\n",
      "Epoch : 24, Validation Loss : 0.5984032324382237\n",
      "Epoch : 25, Iteration : 1 , Loss : 0.5778104066848755\n",
      "Epoch : 25, Iteration : 11 , Loss : 0.5856091976165771\n",
      "Epoch : 25, Iteration : 21 , Loss : 0.5839335918426514\n",
      "Epoch : 25, Iteration : 31 , Loss : 0.5865761041641235\n",
      "Epoch : 25, Iteration : 41 , Loss : 0.5773173570632935\n",
      "Epoch : 25, Iteration : 51 , Loss : 0.5863344669342041\n",
      "Epoch : 25, Iteration : 61 , Loss : 0.5808083415031433\n"
     ]
    },
    {
     "name": "stderr",
     "output_type": "stream",
     "text": [
      "INFO:root:Evaluating accuracy on dev set\n",
      "INFO:root:Train loss: 0.5820601617080577 - acc: 0.761437889263475 -- Validation loss: 0.5969165563583374 - acc: 0.5284411044883176\n",
      " 83%|████████▎ | 25/30 [00:35<00:07,  1.42s/it]"
     ]
    },
    {
     "name": "stdout",
     "output_type": "stream",
     "text": [
      "Epoch : 25 , Loss : 0.5820601617080577\n",
      "Epoch : 25, Validation Iteration : 1 , Loss : 0.5907860994338989\n",
      "Epoch : 25, Validation Loss : 0.5969165563583374\n",
      "Epoch : 26, Iteration : 1 , Loss : 0.5754386782646179\n",
      "Epoch : 26, Iteration : 11 , Loss : 0.5850396752357483\n",
      "Epoch : 26, Iteration : 21 , Loss : 0.5834125280380249\n",
      "Epoch : 26, Iteration : 31 , Loss : 0.5852245092391968\n",
      "Epoch : 26, Iteration : 41 , Loss : 0.5766995549201965\n",
      "Epoch : 26, Iteration : 51 , Loss : 0.5870599746704102\n",
      "Epoch : 26, Iteration : 61 , Loss : 0.5813121795654297\n"
     ]
    },
    {
     "name": "stderr",
     "output_type": "stream",
     "text": [
      "INFO:root:Evaluating accuracy on dev set\n",
      "INFO:root:Train loss: 0.5813518036966738 - acc: 0.7681432866243902 -- Validation loss: 0.5954701730183193 - acc: 0.5372140042773221\n",
      " 87%|████████▋ | 26/30 [00:37<00:05,  1.41s/it]"
     ]
    },
    {
     "name": "stdout",
     "output_type": "stream",
     "text": [
      "Epoch : 26 , Loss : 0.5813518036966738\n",
      "Epoch : 26, Validation Iteration : 1 , Loss : 0.5910975933074951\n",
      "Epoch : 26, Validation Loss : 0.5954701730183193\n",
      "Epoch : 27, Iteration : 1 , Loss : 0.5768722295761108\n",
      "Epoch : 27, Iteration : 11 , Loss : 0.5851905941963196\n",
      "Epoch : 27, Iteration : 21 , Loss : 0.5819018483161926\n",
      "Epoch : 27, Iteration : 31 , Loss : 0.5859535932540894\n",
      "Epoch : 27, Iteration : 41 , Loss : 0.5772252082824707\n",
      "Epoch : 27, Iteration : 51 , Loss : 0.5837012529373169\n",
      "Epoch : 27, Iteration : 61 , Loss : 0.5831515192985535\n"
     ]
    },
    {
     "name": "stderr",
     "output_type": "stream",
     "text": [
      "INFO:root:Evaluating accuracy on dev set\n",
      "INFO:root:Train loss: 0.580494659534399 - acc: 0.7717296041696494 -- Validation loss: 0.5951128602027893 - acc: 0.5316578991073604\n",
      " 90%|█████████ | 27/30 [00:38<00:04,  1.41s/it]"
     ]
    },
    {
     "name": "stdout",
     "output_type": "stream",
     "text": [
      "Epoch : 27 , Loss : 0.580494659534399\n",
      "Epoch : 27, Validation Iteration : 1 , Loss : 0.5890156030654907\n",
      "Epoch : 27, Validation Loss : 0.5951128602027893\n",
      "Epoch : 28, Iteration : 1 , Loss : 0.5755447149276733\n",
      "Epoch : 28, Iteration : 11 , Loss : 0.5814046859741211\n",
      "Epoch : 28, Iteration : 21 , Loss : 0.5816688537597656\n",
      "Epoch : 28, Iteration : 31 , Loss : 0.5840311050415039\n",
      "Epoch : 28, Iteration : 41 , Loss : 0.5754464864730835\n",
      "Epoch : 28, Iteration : 51 , Loss : 0.5839506387710571\n",
      "Epoch : 28, Iteration : 61 , Loss : 0.5802918672561646\n"
     ]
    },
    {
     "name": "stderr",
     "output_type": "stream",
     "text": [
      "INFO:root:Evaluating accuracy on dev set\n",
      "INFO:root:Train loss: 0.5795004341913306 - acc: 0.7772543094306645 -- Validation loss: 0.5934707522392273 - acc: 0.5470784216978589\n",
      " 93%|█████████▎| 28/30 [00:39<00:02,  1.41s/it]"
     ]
    },
    {
     "name": "stdout",
     "output_type": "stream",
     "text": [
      "Epoch : 28 , Loss : 0.5795004341913306\n",
      "Epoch : 28, Validation Iteration : 1 , Loss : 0.5876450538635254\n",
      "Epoch : 28, Validation Loss : 0.5934707522392273\n",
      "Epoch : 29, Iteration : 1 , Loss : 0.5732570886611938\n",
      "Epoch : 29, Iteration : 11 , Loss : 0.5829264521598816\n",
      "Epoch : 29, Iteration : 21 , Loss : 0.5819822549819946\n",
      "Epoch : 29, Iteration : 31 , Loss : 0.5845677852630615\n",
      "Epoch : 29, Iteration : 41 , Loss : 0.5763963460922241\n",
      "Epoch : 29, Iteration : 51 , Loss : 0.5834337472915649\n",
      "Epoch : 29, Iteration : 61 , Loss : 0.5784950256347656\n"
     ]
    },
    {
     "name": "stderr",
     "output_type": "stream",
     "text": [
      "INFO:root:Evaluating accuracy on dev set\n",
      "INFO:root:Train loss: 0.5791261403456979 - acc: 0.7811500698329952 -- Validation loss: 0.5932236313819885 - acc: 0.5547831614893619\n",
      " 97%|█████████▋| 29/30 [00:41<00:01,  1.41s/it]"
     ]
    },
    {
     "name": "stdout",
     "output_type": "stream",
     "text": [
      "Epoch : 29 , Loss : 0.5791261403456979\n",
      "Epoch : 29, Validation Iteration : 1 , Loss : 0.5899699330329895\n",
      "Epoch : 29, Validation Loss : 0.5932236313819885\n",
      "Epoch : 30, Iteration : 1 , Loss : 0.5731774568557739\n",
      "Epoch : 30, Iteration : 11 , Loss : 0.5814822316169739\n",
      "Epoch : 30, Iteration : 21 , Loss : 0.5804340839385986\n",
      "Epoch : 30, Iteration : 31 , Loss : 0.5840295553207397\n",
      "Epoch : 30, Iteration : 41 , Loss : 0.5760431289672852\n",
      "Epoch : 30, Iteration : 51 , Loss : 0.5825947523117065\n",
      "Epoch : 30, Iteration : 61 , Loss : 0.5786459445953369\n"
     ]
    },
    {
     "name": "stderr",
     "output_type": "stream",
     "text": [
      "INFO:root:Evaluating accuracy on dev set\n",
      "INFO:root:Train loss: 0.5789931900259377 - acc: 0.7842392717072433 -- Validation loss: 0.5938976407051086 - acc: 0.5518712208044434\n",
      "100%|██████████| 30/30 [00:42<00:00,  1.42s/it]\n"
     ]
    },
    {
     "name": "stdout",
     "output_type": "stream",
     "text": [
      "Epoch : 30 , Loss : 0.5789931900259377\n",
      "Epoch : 30, Validation Iteration : 1 , Loss : 0.5885875225067139\n",
      "Epoch : 30, Validation Loss : 0.5938976407051086\n"
     ]
    },
    {
     "name": "stderr",
     "output_type": "stream",
     "text": [
      "\r",
      "  0%|          | 0/30 [00:00<?, ?it/s]"
     ]
    },
    {
     "name": "stdout",
     "output_type": "stream",
     "text": [
      "Epoch : 1, Iteration : 1 , Loss : 1.2015964984893799\n",
      "Epoch : 1, Iteration : 11 , Loss : 1.147505521774292\n",
      "Epoch : 1, Iteration : 21 , Loss : 1.1271203756332397\n",
      "Epoch : 1, Iteration : 31 , Loss : 1.1331253051757812\n",
      "Epoch : 1, Iteration : 41 , Loss : 1.1438508033752441\n",
      "Epoch : 1, Iteration : 51 , Loss : 1.105130910873413\n",
      "Epoch : 1, Iteration : 61 , Loss : 1.092132568359375\n"
     ]
    },
    {
     "name": "stderr",
     "output_type": "stream",
     "text": [
      "INFO:root:Evaluating accuracy on dev set\n",
      "INFO:root:new model saved\n",
      "INFO:root:Train loss: 1.1394245417221733 - acc: 0.3895449758482984 -- Validation loss: 1.1203826325280326 - acc: 0.45627705834131577\n",
      "  3%|▎         | 1/30 [00:02<01:10,  2.43s/it]"
     ]
    },
    {
     "name": "stdout",
     "output_type": "stream",
     "text": [
      "Epoch : 1 , Loss : 1.1394245417221733\n",
      "Epoch : 1, Validation Iteration : 1 , Loss : 1.120631217956543\n",
      "Epoch : 1, Validation Loss : 1.1203826325280326\n",
      "Epoch : 2, Iteration : 1 , Loss : 1.1305248737335205\n",
      "Epoch : 2, Iteration : 11 , Loss : 1.114145040512085\n",
      "Epoch : 2, Iteration : 21 , Loss : 1.0936710834503174\n",
      "Epoch : 2, Iteration : 31 , Loss : 1.0979831218719482\n",
      "Epoch : 2, Iteration : 41 , Loss : 1.1113274097442627\n",
      "Epoch : 2, Iteration : 51 , Loss : 1.1047877073287964\n",
      "Epoch : 2, Iteration : 61 , Loss : 1.089439034461975\n"
     ]
    },
    {
     "name": "stderr",
     "output_type": "stream",
     "text": [
      "INFO:root:Evaluating accuracy on dev set\n",
      "INFO:root:new model saved\n",
      "INFO:root:Train loss: 1.1033648442530977 - acc: 0.48204784911790505 -- Validation loss: 1.1060222727911813 - acc: 0.4869643714725474\n",
      "  7%|▋         | 2/30 [00:04<01:08,  2.44s/it]"
     ]
    },
    {
     "name": "stdout",
     "output_type": "stream",
     "text": [
      "Epoch : 2 , Loss : 1.1033648442530977\n",
      "Epoch : 2, Validation Iteration : 1 , Loss : 1.106727957725525\n",
      "Epoch : 2, Validation Loss : 1.1060222727911813\n",
      "Epoch : 3, Iteration : 1 , Loss : 1.1056303977966309\n",
      "Epoch : 3, Iteration : 11 , Loss : 1.1186952590942383\n",
      "Epoch : 3, Iteration : 21 , Loss : 1.0877256393432617\n",
      "Epoch : 3, Iteration : 31 , Loss : 1.076937198638916\n",
      "Epoch : 3, Iteration : 41 , Loss : 1.0126515626907349\n",
      "Epoch : 3, Iteration : 51 , Loss : 0.8910126090049744\n",
      "Epoch : 3, Iteration : 61 , Loss : 0.8293988704681396\n"
     ]
    },
    {
     "name": "stderr",
     "output_type": "stream",
     "text": [
      "INFO:root:Evaluating accuracy on dev set\n",
      "INFO:root:Train loss: 1.004785128261732 - acc: 0.5114793646098237 -- Validation loss: 0.8067903348377773 - acc: 0.44268492315506186\n",
      " 10%|█         | 3/30 [00:07<01:05,  2.43s/it]"
     ]
    },
    {
     "name": "stdout",
     "output_type": "stream",
     "text": [
      "Epoch : 3 , Loss : 1.004785128261732\n",
      "Epoch : 3, Validation Iteration : 1 , Loss : 0.8021305799484253\n",
      "Epoch : 3, Validation Loss : 0.8067903348377773\n",
      "Epoch : 4, Iteration : 1 , Loss : 0.7878632545471191\n",
      "Epoch : 4, Iteration : 11 , Loss : 0.7714923024177551\n",
      "Epoch : 4, Iteration : 21 , Loss : 0.7397991418838501\n",
      "Epoch : 4, Iteration : 31 , Loss : 0.7457672953605652\n",
      "Epoch : 4, Iteration : 41 , Loss : 0.7205198407173157\n",
      "Epoch : 4, Iteration : 51 , Loss : 0.7017949223518372\n",
      "Epoch : 4, Iteration : 61 , Loss : 0.685407280921936\n"
     ]
    },
    {
     "name": "stderr",
     "output_type": "stream",
     "text": [
      "INFO:root:Evaluating accuracy on dev set\n",
      "INFO:root:Train loss: 0.7338556128999462 - acc: 0.5612969216977578 -- Validation loss: 0.7122467500822884 - acc: 0.46367346397815135\n",
      " 13%|█▎        | 4/30 [00:09<01:03,  2.43s/it]"
     ]
    },
    {
     "name": "stdout",
     "output_type": "stream",
     "text": [
      "Epoch : 4 , Loss : 0.7338556128999462\n",
      "Epoch : 4, Validation Iteration : 1 , Loss : 0.7084599733352661\n",
      "Epoch : 4, Validation Loss : 0.7122467500822884\n",
      "Epoch : 5, Iteration : 1 , Loss : 0.7091619968414307\n",
      "Epoch : 5, Iteration : 11 , Loss : 0.6422981023788452\n",
      "Epoch : 5, Iteration : 21 , Loss : 0.6219205856323242\n",
      "Epoch : 5, Iteration : 31 , Loss : 0.6260998845100403\n",
      "Epoch : 5, Iteration : 41 , Loss : 0.6219102144241333\n",
      "Epoch : 5, Iteration : 51 , Loss : 0.6246619820594788\n",
      "Epoch : 5, Iteration : 61 , Loss : 0.6174483299255371\n"
     ]
    },
    {
     "name": "stderr",
     "output_type": "stream",
     "text": [
      "INFO:root:Evaluating accuracy on dev set\n",
      "INFO:root:Train loss: 0.6328393592350725 - acc: 0.6143264402631102 -- Validation loss: 0.6540924821581159 - acc: 0.4479539101302067\n",
      " 17%|█▋        | 5/30 [00:12<01:00,  2.43s/it]"
     ]
    },
    {
     "name": "stdout",
     "output_type": "stream",
     "text": [
      "Epoch : 5 , Loss : 0.6328393592350725\n",
      "Epoch : 5, Validation Iteration : 1 , Loss : 0.6477146148681641\n",
      "Epoch : 5, Validation Loss : 0.6540924821581159\n",
      "Epoch : 6, Iteration : 1 , Loss : 0.625522792339325\n",
      "Epoch : 6, Iteration : 11 , Loss : 0.6172317266464233\n",
      "Epoch : 6, Iteration : 21 , Loss : 0.6159806251525879\n",
      "Epoch : 6, Iteration : 31 , Loss : 0.6163128614425659\n",
      "Epoch : 6, Iteration : 41 , Loss : 0.6230883002281189\n",
      "Epoch : 6, Iteration : 51 , Loss : 0.6118830442428589\n",
      "Epoch : 6, Iteration : 61 , Loss : 0.6144536733627319\n"
     ]
    },
    {
     "name": "stderr",
     "output_type": "stream",
     "text": [
      "INFO:root:Evaluating accuracy on dev set\n",
      "INFO:root:Train loss: 0.6185509268788324 - acc: 0.607160576373302 -- Validation loss: 0.6327167068208966 - acc: 0.42296519042925534\n",
      " 20%|██        | 6/30 [00:14<00:58,  2.42s/it]"
     ]
    },
    {
     "name": "stdout",
     "output_type": "stream",
     "text": [
      "Epoch : 6 , Loss : 0.6185509268788324\n",
      "Epoch : 6, Validation Iteration : 1 , Loss : 0.6375001668930054\n",
      "Epoch : 6, Validation Loss : 0.6327167068208966\n",
      "Epoch : 7, Iteration : 1 , Loss : 0.6061171293258667\n",
      "Epoch : 7, Iteration : 11 , Loss : 0.6157757043838501\n",
      "Epoch : 7, Iteration : 21 , Loss : 0.6118165254592896\n",
      "Epoch : 7, Iteration : 31 , Loss : 0.614820122718811\n",
      "Epoch : 7, Iteration : 41 , Loss : 0.6133241653442383\n",
      "Epoch : 7, Iteration : 51 , Loss : 0.6127282977104187\n",
      "Epoch : 7, Iteration : 61 , Loss : 0.6061102151870728\n"
     ]
    },
    {
     "name": "stderr",
     "output_type": "stream",
     "text": [
      "INFO:root:Evaluating accuracy on dev set\n",
      "INFO:root:Train loss: 0.6133787459221439 - acc: 0.6105851631323012 -- Validation loss: 0.6205811926296779 - acc: 0.4588285284907365\n",
      " 23%|██▎       | 7/30 [00:16<00:55,  2.42s/it]"
     ]
    },
    {
     "name": "stdout",
     "output_type": "stream",
     "text": [
      "Epoch : 7 , Loss : 0.6133787459221439\n",
      "Epoch : 7, Validation Iteration : 1 , Loss : 0.626838743686676\n",
      "Epoch : 7, Validation Loss : 0.6205811926296779\n",
      "Epoch : 8, Iteration : 1 , Loss : 0.6027323007583618\n",
      "Epoch : 8, Iteration : 11 , Loss : 0.6119592189788818\n",
      "Epoch : 8, Iteration : 21 , Loss : 0.6050693988800049\n",
      "Epoch : 8, Iteration : 31 , Loss : 0.6231547594070435\n",
      "Epoch : 8, Iteration : 41 , Loss : 0.6192131042480469\n",
      "Epoch : 8, Iteration : 51 , Loss : 0.6087746620178223\n",
      "Epoch : 8, Iteration : 61 , Loss : 0.6062426567077637\n"
     ]
    },
    {
     "name": "stderr",
     "output_type": "stream",
     "text": [
      "INFO:root:Evaluating accuracy on dev set\n",
      "INFO:root:Train loss: 0.610651036967402 - acc: 0.6209661489945288 -- Validation loss: 0.6208423801830837 - acc: 0.461710686519083\n",
      " 27%|██▋       | 8/30 [00:19<00:53,  2.41s/it]"
     ]
    },
    {
     "name": "stdout",
     "output_type": "stream",
     "text": [
      "Epoch : 8 , Loss : 0.610651036967402\n",
      "Epoch : 8, Validation Iteration : 1 , Loss : 0.6261007785797119\n",
      "Epoch : 8, Validation Loss : 0.6208423801830837\n",
      "Epoch : 9, Iteration : 1 , Loss : 0.601213812828064\n",
      "Epoch : 9, Iteration : 11 , Loss : 0.6075979471206665\n",
      "Epoch : 9, Iteration : 21 , Loss : 0.60499107837677\n",
      "Epoch : 9, Iteration : 31 , Loss : 0.6156889200210571\n",
      "Epoch : 9, Iteration : 41 , Loss : 0.6012907028198242\n",
      "Epoch : 9, Iteration : 51 , Loss : 0.6100260019302368\n",
      "Epoch : 9, Iteration : 61 , Loss : 0.6049544811248779\n"
     ]
    },
    {
     "name": "stderr",
     "output_type": "stream",
     "text": [
      "INFO:root:Evaluating accuracy on dev set\n",
      "INFO:root:new model saved\n",
      "INFO:root:Train loss: 0.6090331587238588 - acc: 0.6154672536355371 -- Validation loss: 0.635480420930045 - acc: 0.4979129445196211\n",
      " 30%|███       | 9/30 [00:21<00:50,  2.43s/it]"
     ]
    },
    {
     "name": "stdout",
     "output_type": "stream",
     "text": [
      "Epoch : 9 , Loss : 0.6090331587238588\n",
      "Epoch : 9, Validation Iteration : 1 , Loss : 0.6272509098052979\n",
      "Epoch : 9, Validation Loss : 0.635480420930045\n",
      "Epoch : 10, Iteration : 1 , Loss : 0.6085958480834961\n",
      "Epoch : 10, Iteration : 11 , Loss : 0.606689989566803\n",
      "Epoch : 10, Iteration : 21 , Loss : 0.6071475744247437\n",
      "Epoch : 10, Iteration : 31 , Loss : 0.6125783324241638\n",
      "Epoch : 10, Iteration : 41 , Loss : 0.6073856353759766\n",
      "Epoch : 10, Iteration : 51 , Loss : 0.6062794327735901\n",
      "Epoch : 10, Iteration : 61 , Loss : 0.5991687774658203\n"
     ]
    },
    {
     "name": "stderr",
     "output_type": "stream",
     "text": [
      "INFO:root:Evaluating accuracy on dev set\n",
      "INFO:root:new model saved\n",
      "INFO:root:Train loss: 0.6059135138124659 - acc: 0.6481777449130156 -- Validation loss: 0.6151293345860073 - acc: 0.5304126494260621\n",
      " 33%|███▎      | 10/30 [00:24<00:48,  2.43s/it]"
     ]
    },
    {
     "name": "stdout",
     "output_type": "stream",
     "text": [
      "Epoch : 10 , Loss : 0.6059135138124659\n",
      "Epoch : 10, Validation Iteration : 1 , Loss : 0.6138535141944885\n",
      "Epoch : 10, Validation Loss : 0.6151293345860073\n",
      "Epoch : 11, Iteration : 1 , Loss : 0.5983949899673462\n",
      "Epoch : 11, Iteration : 11 , Loss : 0.6069091558456421\n",
      "Epoch : 11, Iteration : 21 , Loss : 0.6085455417633057\n",
      "Epoch : 11, Iteration : 31 , Loss : 0.6180691123008728\n",
      "Epoch : 11, Iteration : 41 , Loss : 0.5965025424957275\n",
      "Epoch : 11, Iteration : 51 , Loss : 0.6071019172668457\n",
      "Epoch : 11, Iteration : 61 , Loss : 0.5995402932167053\n"
     ]
    },
    {
     "name": "stderr",
     "output_type": "stream",
     "text": [
      "INFO:root:Evaluating accuracy on dev set\n",
      "INFO:root:Train loss: 0.6051072841105254 - acc: 0.6676985122074329 -- Validation loss: 0.6162128789084298 - acc: 0.5155468204483012\n",
      " 37%|███▋      | 11/30 [00:26<00:46,  2.42s/it]"
     ]
    },
    {
     "name": "stdout",
     "output_type": "stream",
     "text": [
      "Epoch : 11 , Loss : 0.6051072841105254\n",
      "Epoch : 11, Validation Iteration : 1 , Loss : 0.6152855753898621\n",
      "Epoch : 11, Validation Loss : 0.6162128789084298\n",
      "Epoch : 12, Iteration : 1 , Loss : 0.5950630307197571\n",
      "Epoch : 12, Iteration : 11 , Loss : 0.6018919348716736\n",
      "Epoch : 12, Iteration : 21 , Loss : 0.609411358833313\n",
      "Epoch : 12, Iteration : 31 , Loss : 0.6127368211746216\n",
      "Epoch : 12, Iteration : 41 , Loss : 0.6013917922973633\n",
      "Epoch : 12, Iteration : 51 , Loss : 0.6033909320831299\n",
      "Epoch : 12, Iteration : 61 , Loss : 0.6049431562423706\n"
     ]
    },
    {
     "name": "stderr",
     "output_type": "stream",
     "text": [
      "INFO:root:Evaluating accuracy on dev set\n",
      "INFO:root:Train loss: 0.6050772727399633 - acc: 0.6578980155301669 -- Validation loss: 0.6141458238874163 - acc: 0.5223342544173882\n",
      " 40%|████      | 12/30 [00:29<00:43,  2.41s/it]"
     ]
    },
    {
     "name": "stdout",
     "output_type": "stream",
     "text": [
      "Epoch : 12 , Loss : 0.6050772727399633\n",
      "Epoch : 12, Validation Iteration : 1 , Loss : 0.6106575727462769\n",
      "Epoch : 12, Validation Loss : 0.6141458238874163\n",
      "Epoch : 13, Iteration : 1 , Loss : 0.5961219072341919\n",
      "Epoch : 13, Iteration : 11 , Loss : 0.6027318239212036\n",
      "Epoch : 13, Iteration : 21 , Loss : 0.6031062006950378\n",
      "Epoch : 13, Iteration : 31 , Loss : 0.6095374822616577\n",
      "Epoch : 13, Iteration : 41 , Loss : 0.5994422435760498\n",
      "Epoch : 13, Iteration : 51 , Loss : 0.6018383502960205\n",
      "Epoch : 13, Iteration : 61 , Loss : 0.6024261713027954\n"
     ]
    },
    {
     "name": "stderr",
     "output_type": "stream",
     "text": [
      "INFO:root:Evaluating accuracy on dev set\n",
      "INFO:root:Train loss: 0.6037711017373679 - acc: 0.6806513367950153 -- Validation loss: 0.6157160656792777 - acc: 0.4945036000062921\n",
      " 43%|████▎     | 13/30 [00:31<00:40,  2.41s/it]"
     ]
    },
    {
     "name": "stdout",
     "output_type": "stream",
     "text": [
      "Epoch : 13 , Loss : 0.6037711017373679\n",
      "Epoch : 13, Validation Iteration : 1 , Loss : 0.6170828938484192\n",
      "Epoch : 13, Validation Loss : 0.6157160656792777\n",
      "Epoch : 14, Iteration : 1 , Loss : 0.5990797281265259\n",
      "Epoch : 14, Iteration : 11 , Loss : 0.6027873754501343\n",
      "Epoch : 14, Iteration : 21 , Loss : 0.6029609441757202\n",
      "Epoch : 14, Iteration : 31 , Loss : 0.6068700551986694\n",
      "Epoch : 14, Iteration : 41 , Loss : 0.6025032997131348\n",
      "Epoch : 14, Iteration : 51 , Loss : 0.6075133681297302\n",
      "Epoch : 14, Iteration : 61 , Loss : 0.6025453805923462\n"
     ]
    },
    {
     "name": "stderr",
     "output_type": "stream",
     "text": [
      "INFO:root:Evaluating accuracy on dev set\n",
      "INFO:root:Train loss: 0.603383241356283 - acc: 0.6861703794797822 -- Validation loss: 0.6116638949939183 - acc: 0.5228421658347466\n",
      " 47%|████▋     | 14/30 [00:33<00:38,  2.42s/it]"
     ]
    },
    {
     "name": "stdout",
     "output_type": "stream",
     "text": [
      "Epoch : 14 , Loss : 0.603383241356283\n",
      "Epoch : 14, Validation Iteration : 1 , Loss : 0.6141864657402039\n",
      "Epoch : 14, Validation Loss : 0.6116638949939183\n",
      "Epoch : 15, Iteration : 1 , Loss : 0.5986019372940063\n",
      "Epoch : 15, Iteration : 11 , Loss : 0.6184684634208679\n",
      "Epoch : 15, Iteration : 21 , Loss : 0.5989359617233276\n",
      "Epoch : 15, Iteration : 31 , Loss : 0.6024733185768127\n",
      "Epoch : 15, Iteration : 41 , Loss : 0.6015928983688354\n",
      "Epoch : 15, Iteration : 51 , Loss : 0.6014654636383057\n",
      "Epoch : 15, Iteration : 61 , Loss : 0.5978977084159851\n"
     ]
    },
    {
     "name": "stderr",
     "output_type": "stream",
     "text": [
      "INFO:root:Evaluating accuracy on dev set\n",
      "INFO:root:new model saved\n",
      "INFO:root:Train loss: 0.6025319695472717 - acc: 0.6850595432973737 -- Validation loss: 0.6076991387775966 - acc: 0.5417965177503132\n",
      " 50%|█████     | 15/30 [00:36<00:36,  2.43s/it]"
     ]
    },
    {
     "name": "stdout",
     "output_type": "stream",
     "text": [
      "Epoch : 15 , Loss : 0.6025319695472717\n",
      "Epoch : 15, Validation Iteration : 1 , Loss : 0.611417293548584\n",
      "Epoch : 15, Validation Loss : 0.6076991387775966\n",
      "Epoch : 16, Iteration : 1 , Loss : 0.5956356525421143\n",
      "Epoch : 16, Iteration : 11 , Loss : 0.7433909177780151\n",
      "Epoch : 16, Iteration : 21 , Loss : 0.7143076062202454\n",
      "Epoch : 16, Iteration : 31 , Loss : 0.8490331768989563\n",
      "Epoch : 16, Iteration : 41 , Loss : 0.7530927658081055\n",
      "Epoch : 16, Iteration : 51 , Loss : 0.6669992208480835\n",
      "Epoch : 16, Iteration : 61 , Loss : 0.6209062337875366\n"
     ]
    },
    {
     "name": "stderr",
     "output_type": "stream",
     "text": [
      "INFO:root:Evaluating accuracy on dev set\n",
      "INFO:root:Train loss: 0.7291172889695652 - acc: 0.6337055821260875 -- Validation loss: 0.6389875411987305 - acc: 0.5256372514221941\n",
      " 53%|█████▎    | 16/30 [00:38<00:34,  2.43s/it]"
     ]
    },
    {
     "name": "stdout",
     "output_type": "stream",
     "text": [
      "Epoch : 16 , Loss : 0.7291172889695652\n",
      "Epoch : 16, Validation Iteration : 1 , Loss : 0.6460906267166138\n",
      "Epoch : 16, Validation Loss : 0.6389875411987305\n",
      "Epoch : 17, Iteration : 1 , Loss : 0.61879563331604\n",
      "Epoch : 17, Iteration : 11 , Loss : 0.6162347793579102\n",
      "Epoch : 17, Iteration : 21 , Loss : 0.6080657243728638\n",
      "Epoch : 17, Iteration : 31 , Loss : 0.607875406742096\n",
      "Epoch : 17, Iteration : 41 , Loss : 0.6013174057006836\n",
      "Epoch : 17, Iteration : 51 , Loss : 0.6014567613601685\n",
      "Epoch : 17, Iteration : 61 , Loss : 0.5980292558670044\n"
     ]
    },
    {
     "name": "stderr",
     "output_type": "stream",
     "text": [
      "INFO:root:Evaluating accuracy on dev set\n",
      "INFO:root:new model saved\n",
      "INFO:root:Train loss: 0.6050143112307009 - acc: 0.6952160528448906 -- Validation loss: 0.6092602610588074 - acc: 0.5548545060104982\n",
      " 57%|█████▋    | 17/30 [00:41<00:31,  2.44s/it]"
     ]
    },
    {
     "name": "stdout",
     "output_type": "stream",
     "text": [
      "Epoch : 17 , Loss : 0.6050143112307009\n",
      "Epoch : 17, Validation Iteration : 1 , Loss : 0.6142150163650513\n",
      "Epoch : 17, Validation Loss : 0.6092602610588074\n",
      "Epoch : 18, Iteration : 1 , Loss : 0.5951448678970337\n",
      "Epoch : 18, Iteration : 11 , Loss : 0.6063228249549866\n",
      "Epoch : 18, Iteration : 21 , Loss : 0.5996330380439758\n",
      "Epoch : 18, Iteration : 31 , Loss : 0.6011272072792053\n",
      "Epoch : 18, Iteration : 41 , Loss : 0.5915003418922424\n",
      "Epoch : 18, Iteration : 51 , Loss : 0.5962051749229431\n",
      "Epoch : 18, Iteration : 61 , Loss : 0.5951542854309082\n"
     ]
    },
    {
     "name": "stderr",
     "output_type": "stream",
     "text": [
      "INFO:root:Evaluating accuracy on dev set\n",
      "INFO:root:Train loss: 0.597164379513782 - acc: 0.7241619072918916 -- Validation loss: 0.6071783048766 - acc: 0.5433973522728848\n",
      " 60%|██████    | 18/30 [00:43<00:29,  2.43s/it]"
     ]
    },
    {
     "name": "stdout",
     "output_type": "stream",
     "text": [
      "Epoch : 18 , Loss : 0.597164379513782\n",
      "Epoch : 18, Validation Iteration : 1 , Loss : 0.609169065952301\n",
      "Epoch : 18, Validation Loss : 0.6071783048766\n",
      "Epoch : 19, Iteration : 1 , Loss : 0.5902048349380493\n",
      "Epoch : 19, Iteration : 11 , Loss : 0.6024388670921326\n",
      "Epoch : 19, Iteration : 21 , Loss : 0.5971226692199707\n",
      "Epoch : 19, Iteration : 31 , Loss : 0.5978504419326782\n",
      "Epoch : 19, Iteration : 41 , Loss : 0.5879806280136108\n",
      "Epoch : 19, Iteration : 51 , Loss : 0.596668004989624\n",
      "Epoch : 19, Iteration : 61 , Loss : 0.5969090461730957\n"
     ]
    },
    {
     "name": "stderr",
     "output_type": "stream",
     "text": [
      "INFO:root:Evaluating accuracy on dev set\n",
      "INFO:root:Train loss: 0.5963500833165818 - acc: 0.7077330867435433 -- Validation loss: 0.6108822056225368 - acc: 0.5473835433412556\n",
      " 63%|██████▎   | 19/30 [00:46<00:26,  2.41s/it]"
     ]
    },
    {
     "name": "stdout",
     "output_type": "stream",
     "text": [
      "Epoch : 19 , Loss : 0.5963500833165818\n",
      "Epoch : 19, Validation Iteration : 1 , Loss : 0.6104331016540527\n",
      "Epoch : 19, Validation Loss : 0.6108822056225368\n",
      "Epoch : 20, Iteration : 1 , Loss : 0.5898193120956421\n",
      "Epoch : 20, Iteration : 11 , Loss : 0.5964035987854004\n",
      "Epoch : 20, Iteration : 21 , Loss : 0.5963361263275146\n",
      "Epoch : 20, Iteration : 31 , Loss : 0.5951511263847351\n",
      "Epoch : 20, Iteration : 41 , Loss : 0.5873825550079346\n",
      "Epoch : 20, Iteration : 51 , Loss : 0.6078445911407471\n",
      "Epoch : 20, Iteration : 61 , Loss : 0.597918689250946\n"
     ]
    },
    {
     "name": "stderr",
     "output_type": "stream",
     "text": [
      "INFO:root:Evaluating accuracy on dev set\n",
      "INFO:root:Train loss: 0.5959662941918857 - acc: 0.7008106082338901 -- Validation loss: 0.6183040056909833 - acc: 0.512792225888328\n",
      " 67%|██████▋   | 20/30 [00:48<00:24,  2.41s/it]"
     ]
    },
    {
     "name": "stdout",
     "output_type": "stream",
     "text": [
      "Epoch : 20 , Loss : 0.5959662941918857\n",
      "Epoch : 20, Validation Iteration : 1 , Loss : 0.6172589063644409\n",
      "Epoch : 20, Validation Loss : 0.6183040056909833\n",
      "Epoch : 21, Iteration : 1 , Loss : 0.5925248861312866\n",
      "Epoch : 21, Iteration : 11 , Loss : 0.6003042459487915\n",
      "Epoch : 21, Iteration : 21 , Loss : 0.597678542137146\n",
      "Epoch : 21, Iteration : 31 , Loss : 0.605926513671875\n",
      "Epoch : 21, Iteration : 41 , Loss : 0.593109130859375\n",
      "Epoch : 21, Iteration : 51 , Loss : 0.5957185626029968\n",
      "Epoch : 21, Iteration : 61 , Loss : 0.5933801531791687\n"
     ]
    },
    {
     "name": "stderr",
     "output_type": "stream",
     "text": [
      "INFO:root:Evaluating accuracy on dev set\n",
      "INFO:root:new model saved\n",
      "INFO:root:Train loss: 0.5951059961664504 - acc: 0.7181524292294923 -- Validation loss: 0.6064648713384356 - acc: 0.5611041789783368\n",
      " 70%|███████   | 21/30 [00:50<00:21,  2.42s/it]"
     ]
    },
    {
     "name": "stdout",
     "output_type": "stream",
     "text": [
      "Epoch : 21 , Loss : 0.5951059961664504\n",
      "Epoch : 21, Validation Iteration : 1 , Loss : 0.6056245565414429\n",
      "Epoch : 21, Validation Loss : 0.6064648713384356\n",
      "Epoch : 22, Iteration : 1 , Loss : 0.5895002484321594\n",
      "Epoch : 22, Iteration : 11 , Loss : 0.5933949947357178\n",
      "Epoch : 22, Iteration : 21 , Loss : 0.5928649306297302\n",
      "Epoch : 22, Iteration : 31 , Loss : 0.5967870950698853\n",
      "Epoch : 22, Iteration : 41 , Loss : 0.5871378183364868\n",
      "Epoch : 22, Iteration : 51 , Loss : 0.593253493309021\n",
      "Epoch : 22, Iteration : 61 , Loss : 0.5934025645256042\n"
     ]
    },
    {
     "name": "stderr",
     "output_type": "stream",
     "text": [
      "INFO:root:Evaluating accuracy on dev set\n",
      "INFO:root:Train loss: 0.5930237994677778 - acc: 0.7403848392888392 -- Validation loss: 0.6070657117026192 - acc: 0.5461038930184341\n",
      " 73%|███████▎  | 22/30 [00:53<00:19,  2.41s/it]"
     ]
    },
    {
     "name": "stdout",
     "output_type": "stream",
     "text": [
      "Epoch : 22 , Loss : 0.5930237994677778\n",
      "Epoch : 22, Validation Iteration : 1 , Loss : 0.6092049479484558\n",
      "Epoch : 22, Validation Loss : 0.6070657117026192\n",
      "Epoch : 23, Iteration : 1 , Loss : 0.586692750453949\n",
      "Epoch : 23, Iteration : 11 , Loss : 0.5980048179626465\n",
      "Epoch : 23, Iteration : 21 , Loss : 0.5920843482017517\n",
      "Epoch : 23, Iteration : 31 , Loss : 0.595238447189331\n",
      "Epoch : 23, Iteration : 41 , Loss : 0.5861845016479492\n",
      "Epoch : 23, Iteration : 51 , Loss : 0.5985897779464722\n",
      "Epoch : 23, Iteration : 61 , Loss : 0.5943041443824768\n"
     ]
    },
    {
     "name": "stderr",
     "output_type": "stream",
     "text": [
      "INFO:root:Evaluating accuracy on dev set\n",
      "INFO:root:Train loss: 0.5936993844267251 - acc: 0.7353095696341564 -- Validation loss: 0.6087426543235779 - acc: 0.5365296055220308\n",
      " 77%|███████▋  | 23/30 [00:55<00:16,  2.40s/it]"
     ]
    },
    {
     "name": "stdout",
     "output_type": "stream",
     "text": [
      "Epoch : 23 , Loss : 0.5936993844267251\n",
      "Epoch : 23, Validation Iteration : 1 , Loss : 0.6091970801353455\n",
      "Epoch : 23, Validation Loss : 0.6087426543235779\n",
      "Epoch : 24, Iteration : 1 , Loss : 0.5925472974777222\n",
      "Epoch : 24, Iteration : 11 , Loss : 0.6049069762229919\n",
      "Epoch : 24, Iteration : 21 , Loss : 0.5910892486572266\n",
      "Epoch : 24, Iteration : 31 , Loss : 0.5960456132888794\n",
      "Epoch : 24, Iteration : 41 , Loss : 0.5871837139129639\n",
      "Epoch : 24, Iteration : 51 , Loss : 0.593769907951355\n",
      "Epoch : 24, Iteration : 61 , Loss : 0.5908470153808594\n"
     ]
    },
    {
     "name": "stderr",
     "output_type": "stream",
     "text": [
      "INFO:root:Evaluating accuracy on dev set\n",
      "INFO:root:Train loss: 0.5945844097413878 - acc: 0.7284408219728699 -- Validation loss: 0.6116569553102765 - acc: 0.5217580771355279\n",
      " 80%|████████  | 24/30 [00:58<00:14,  2.40s/it]"
     ]
    },
    {
     "name": "stdout",
     "output_type": "stream",
     "text": [
      "Epoch : 24 , Loss : 0.5945844097413878\n",
      "Epoch : 24, Validation Iteration : 1 , Loss : 0.6163113117218018\n",
      "Epoch : 24, Validation Loss : 0.6116569553102765\n",
      "Epoch : 25, Iteration : 1 , Loss : 0.5957661867141724\n",
      "Epoch : 25, Iteration : 11 , Loss : 0.6227457523345947\n",
      "Epoch : 25, Iteration : 21 , Loss : 0.5926568508148193\n",
      "Epoch : 25, Iteration : 31 , Loss : 0.5944412350654602\n",
      "Epoch : 25, Iteration : 41 , Loss : 0.5914141535758972\n",
      "Epoch : 25, Iteration : 51 , Loss : 0.5955070853233337\n",
      "Epoch : 25, Iteration : 61 , Loss : 0.5931215882301331\n"
     ]
    },
    {
     "name": "stderr",
     "output_type": "stream",
     "text": [
      "INFO:root:Evaluating accuracy on dev set\n",
      "INFO:root:Train loss: 0.5961817753487739 - acc: 0.707670914955004 -- Validation loss: 0.6120074987411499 - acc: 0.5290549618502906\n",
      " 83%|████████▎ | 25/30 [01:00<00:12,  2.40s/it]"
     ]
    },
    {
     "name": "stdout",
     "output_type": "stream",
     "text": [
      "Epoch : 25 , Loss : 0.5961817753487739\n",
      "Epoch : 25, Validation Iteration : 1 , Loss : 0.6143075227737427\n",
      "Epoch : 25, Validation Loss : 0.6120074987411499\n",
      "Epoch : 26, Iteration : 1 , Loss : 0.5986760854721069\n",
      "Epoch : 26, Iteration : 11 , Loss : 0.6187601089477539\n",
      "Epoch : 26, Iteration : 21 , Loss : 0.591208815574646\n",
      "Epoch : 26, Iteration : 31 , Loss : 0.595315158367157\n",
      "Epoch : 26, Iteration : 41 , Loss : 0.5930966734886169\n",
      "Epoch : 26, Iteration : 51 , Loss : 0.5951087474822998\n",
      "Epoch : 26, Iteration : 61 , Loss : 0.5875777006149292\n"
     ]
    },
    {
     "name": "stderr",
     "output_type": "stream",
     "text": [
      "INFO:root:Evaluating accuracy on dev set\n",
      "INFO:root:Train loss: 0.5932733986688696 - acc: 0.7155495287532435 -- Validation loss: 0.6087886946541923 - acc: 0.5302826765742359\n",
      " 87%|████████▋ | 26/30 [01:02<00:09,  2.40s/it]"
     ]
    },
    {
     "name": "stdout",
     "output_type": "stream",
     "text": [
      "Epoch : 26 , Loss : 0.5932733986688696\n",
      "Epoch : 26, Validation Iteration : 1 , Loss : 0.6124008297920227\n",
      "Epoch : 26, Validation Loss : 0.6087886946541923\n",
      "Epoch : 27, Iteration : 1 , Loss : 0.5922482013702393\n",
      "Epoch : 27, Iteration : 11 , Loss : 0.5994488000869751\n",
      "Epoch : 27, Iteration : 21 , Loss : 0.5958895683288574\n",
      "Epoch : 27, Iteration : 31 , Loss : 0.5958669185638428\n",
      "Epoch : 27, Iteration : 41 , Loss : 0.5907267332077026\n",
      "Epoch : 27, Iteration : 51 , Loss : 0.5924372673034668\n",
      "Epoch : 27, Iteration : 61 , Loss : 0.5870013236999512\n"
     ]
    },
    {
     "name": "stderr",
     "output_type": "stream",
     "text": [
      "INFO:root:Evaluating accuracy on dev set\n",
      "INFO:root:Train loss: 0.5917604608812194 - acc: 0.7227400764779551 -- Validation loss: 0.6060180068016052 - acc: 0.5280863897021799\n",
      " 90%|█████████ | 27/30 [01:05<00:07,  2.40s/it]"
     ]
    },
    {
     "name": "stdout",
     "output_type": "stream",
     "text": [
      "Epoch : 27 , Loss : 0.5917604608812194\n",
      "Epoch : 27, Validation Iteration : 1 , Loss : 0.607170045375824\n",
      "Epoch : 27, Validation Loss : 0.6060180068016052\n",
      "Epoch : 28, Iteration : 1 , Loss : 0.5897918343544006\n",
      "Epoch : 28, Iteration : 11 , Loss : 0.5908551812171936\n",
      "Epoch : 28, Iteration : 21 , Loss : 0.5940150022506714\n",
      "Epoch : 28, Iteration : 31 , Loss : 0.594122588634491\n",
      "Epoch : 28, Iteration : 41 , Loss : 0.5912790298461914\n",
      "Epoch : 28, Iteration : 51 , Loss : 0.5897917747497559\n",
      "Epoch : 28, Iteration : 61 , Loss : 0.585590124130249\n"
     ]
    },
    {
     "name": "stderr",
     "output_type": "stream",
     "text": [
      "INFO:root:Evaluating accuracy on dev set\n",
      "INFO:root:Train loss: 0.5904009618620941 - acc: 0.7357016742849674 -- Validation loss: 0.6033125179154533 - acc: 0.529123495424065\n",
      " 93%|█████████▎| 28/30 [01:07<00:04,  2.39s/it]"
     ]
    },
    {
     "name": "stdout",
     "output_type": "stream",
     "text": [
      "Epoch : 28 , Loss : 0.5904009618620941\n",
      "Epoch : 28, Validation Iteration : 1 , Loss : 0.6024723052978516\n",
      "Epoch : 28, Validation Loss : 0.6033125179154533\n",
      "Epoch : 29, Iteration : 1 , Loss : 0.5853210091590881\n",
      "Epoch : 29, Iteration : 11 , Loss : 0.5902554988861084\n",
      "Epoch : 29, Iteration : 21 , Loss : 0.5926293134689331\n",
      "Epoch : 29, Iteration : 31 , Loss : 0.5935730934143066\n",
      "Epoch : 29, Iteration : 41 , Loss : 0.5861390829086304\n",
      "Epoch : 29, Iteration : 51 , Loss : 0.589769721031189\n",
      "Epoch : 29, Iteration : 61 , Loss : 0.586935818195343\n"
     ]
    },
    {
     "name": "stderr",
     "output_type": "stream",
     "text": [
      "INFO:root:Evaluating accuracy on dev set\n",
      "INFO:root:Train loss: 0.5892539646314539 - acc: 0.7442642825818517 -- Validation loss: 0.6042112963540214 - acc: 0.5170332092568548\n",
      " 97%|█████████▋| 29/30 [01:10<00:02,  2.39s/it]"
     ]
    },
    {
     "name": "stdout",
     "output_type": "stream",
     "text": [
      "Epoch : 29 , Loss : 0.5892539646314539\n",
      "Epoch : 29, Validation Iteration : 1 , Loss : 0.603134274482727\n",
      "Epoch : 29, Validation Loss : 0.6042112963540214\n",
      "Epoch : 30, Iteration : 1 , Loss : 0.5841622352600098\n",
      "Epoch : 30, Iteration : 11 , Loss : 0.5886863470077515\n",
      "Epoch : 30, Iteration : 21 , Loss : 0.5899104475975037\n",
      "Epoch : 30, Iteration : 31 , Loss : 0.5913169384002686\n",
      "Epoch : 30, Iteration : 41 , Loss : 0.5881995558738708\n",
      "Epoch : 30, Iteration : 51 , Loss : 0.5910348892211914\n",
      "Epoch : 30, Iteration : 61 , Loss : 0.58744215965271\n"
     ]
    },
    {
     "name": "stderr",
     "output_type": "stream",
     "text": [
      "INFO:root:Evaluating accuracy on dev set\n",
      "INFO:root:Train loss: 0.588593620321025 - acc: 0.7490201880662324 -- Validation loss: 0.6028733423777989 - acc: 0.510467037001536\n",
      "100%|██████████| 30/30 [01:12<00:00,  2.41s/it]\n"
     ]
    },
    {
     "name": "stdout",
     "output_type": "stream",
     "text": [
      "Epoch : 30 , Loss : 0.588593620321025\n",
      "Epoch : 30, Validation Iteration : 1 , Loss : 0.6033883094787598\n",
      "Epoch : 30, Validation Loss : 0.6028733423777989\n"
     ]
    },
    {
     "name": "stderr",
     "output_type": "stream",
     "text": [
      "\r",
      "  0%|          | 0/30 [00:00<?, ?it/s]"
     ]
    },
    {
     "name": "stdout",
     "output_type": "stream",
     "text": [
      "Epoch : 1, Iteration : 1 , Loss : 1.2018218040466309\n",
      "Epoch : 1, Iteration : 11 , Loss : 1.1385021209716797\n",
      "Epoch : 1, Iteration : 21 , Loss : 1.1223642826080322\n",
      "Epoch : 1, Iteration : 31 , Loss : 1.1453144550323486\n",
      "Epoch : 1, Iteration : 41 , Loss : 1.1464753150939941\n",
      "Epoch : 1, Iteration : 51 , Loss : 1.1248692274093628\n",
      "Epoch : 1, Iteration : 61 , Loss : 1.1164977550506592\n"
     ]
    },
    {
     "name": "stderr",
     "output_type": "stream",
     "text": [
      "INFO:root:Evaluating accuracy on dev set\n",
      "INFO:root:new model saved\n",
      "INFO:root:Train loss: 1.1379934048307114 - acc: 0.40416144088434147 -- Validation loss: 1.1243987424033028 - acc: 0.5109748814915762\n",
      "  3%|▎         | 1/30 [00:02<01:10,  2.44s/it]"
     ]
    },
    {
     "name": "stdout",
     "output_type": "stream",
     "text": [
      "Epoch : 1 , Loss : 1.1379934048307114\n",
      "Epoch : 1, Validation Iteration : 1 , Loss : 1.1239957809448242\n",
      "Epoch : 1, Validation Loss : 1.1243987424033028\n",
      "Epoch : 2, Iteration : 1 , Loss : 1.1212003231048584\n",
      "Epoch : 2, Iteration : 11 , Loss : 1.122021198272705\n",
      "Epoch : 2, Iteration : 21 , Loss : 1.1167938709259033\n",
      "Epoch : 2, Iteration : 31 , Loss : 1.1112241744995117\n",
      "Epoch : 2, Iteration : 41 , Loss : 1.1040736436843872\n",
      "Epoch : 2, Iteration : 51 , Loss : 1.0927999019622803\n",
      "Epoch : 2, Iteration : 61 , Loss : 1.0834543704986572\n"
     ]
    },
    {
     "name": "stderr",
     "output_type": "stream",
     "text": [
      "INFO:root:Evaluating accuracy on dev set\n",
      "INFO:root:new model saved\n",
      "INFO:root:Train loss: 1.1077500011609949 - acc: 0.562717774871913 -- Validation loss: 1.0904817581176758 - acc: 0.5189915695129259\n",
      "  7%|▋         | 2/30 [00:04<01:08,  2.44s/it]"
     ]
    },
    {
     "name": "stdout",
     "output_type": "stream",
     "text": [
      "Epoch : 2 , Loss : 1.1077500011609949\n",
      "Epoch : 2, Validation Iteration : 1 , Loss : 1.0878018140792847\n",
      "Epoch : 2, Validation Loss : 1.0904817581176758\n",
      "Epoch : 3, Iteration : 1 , Loss : 1.086810827255249\n",
      "Epoch : 3, Iteration : 11 , Loss : 1.0863345861434937\n",
      "Epoch : 3, Iteration : 21 , Loss : 1.0735299587249756\n",
      "Epoch : 3, Iteration : 31 , Loss : 1.075880527496338\n",
      "Epoch : 3, Iteration : 41 , Loss : 1.06477689743042\n",
      "Epoch : 3, Iteration : 51 , Loss : 1.0505226850509644\n",
      "Epoch : 3, Iteration : 61 , Loss : 1.0192739963531494\n"
     ]
    },
    {
     "name": "stderr",
     "output_type": "stream",
     "text": [
      "INFO:root:Evaluating accuracy on dev set\n",
      "INFO:root:new model saved\n",
      "INFO:root:Train loss: 1.0597898113554802 - acc: 0.6213678675175777 -- Validation loss: 0.9982914158276149 - acc: 0.545649991946814\n",
      " 10%|█         | 3/30 [00:07<01:05,  2.43s/it]"
     ]
    },
    {
     "name": "stdout",
     "output_type": "stream",
     "text": [
      "Epoch : 3 , Loss : 1.0597898113554802\n",
      "Epoch : 3, Validation Iteration : 1 , Loss : 1.0005404949188232\n",
      "Epoch : 3, Validation Loss : 0.9982914158276149\n",
      "Epoch : 4, Iteration : 1 , Loss : 0.9887388348579407\n",
      "Epoch : 4, Iteration : 11 , Loss : 0.9555206894874573\n",
      "Epoch : 4, Iteration : 21 , Loss : 0.8994207382202148\n",
      "Epoch : 4, Iteration : 31 , Loss : 0.8486916422843933\n",
      "Epoch : 4, Iteration : 41 , Loss : 0.8040672540664673\n",
      "Epoch : 4, Iteration : 51 , Loss : 0.7798412442207336\n",
      "Epoch : 4, Iteration : 61 , Loss : 0.7625299692153931\n"
     ]
    },
    {
     "name": "stderr",
     "output_type": "stream",
     "text": [
      "INFO:root:Evaluating accuracy on dev set\n",
      "INFO:root:new model saved\n",
      "INFO:root:Train loss: 0.8481742368228193 - acc: 0.6556107796999788 -- Validation loss: 0.7467131784984044 - acc: 0.5700443301353711\n",
      " 13%|█▎        | 4/30 [00:09<01:03,  2.44s/it]"
     ]
    },
    {
     "name": "stdout",
     "output_type": "stream",
     "text": [
      "Epoch : 4 , Loss : 0.8481742368228193\n",
      "Epoch : 4, Validation Iteration : 1 , Loss : 0.7463492155075073\n",
      "Epoch : 4, Validation Loss : 0.7467131784984044\n",
      "Epoch : 5, Iteration : 1 , Loss : 0.7355572581291199\n",
      "Epoch : 5, Iteration : 11 , Loss : 0.717490553855896\n",
      "Epoch : 5, Iteration : 21 , Loss : 0.6896382570266724\n",
      "Epoch : 5, Iteration : 31 , Loss : 0.6818755269050598\n",
      "Epoch : 5, Iteration : 41 , Loss : 0.6672961711883545\n",
      "Epoch : 5, Iteration : 51 , Loss : 0.6656091213226318\n",
      "Epoch : 5, Iteration : 61 , Loss : 0.6554991006851196\n"
     ]
    },
    {
     "name": "stderr",
     "output_type": "stream",
     "text": [
      "INFO:root:Evaluating accuracy on dev set\n",
      "INFO:root:Train loss: 0.6832817551018535 - acc: 0.6809123900372804 -- Validation loss: 0.669578092438834 - acc: 0.5642419993619749\n",
      " 17%|█▋        | 5/30 [00:12<01:00,  2.42s/it]"
     ]
    },
    {
     "name": "stdout",
     "output_type": "stream",
     "text": [
      "Epoch : 5 , Loss : 0.6832817551018535\n",
      "Epoch : 5, Validation Iteration : 1 , Loss : 0.6659835577011108\n",
      "Epoch : 5, Validation Loss : 0.669578092438834\n",
      "Epoch : 6, Iteration : 1 , Loss : 0.6561006307601929\n",
      "Epoch : 6, Iteration : 11 , Loss : 0.6469471454620361\n",
      "Epoch : 6, Iteration : 21 , Loss : 0.6247364282608032\n",
      "Epoch : 6, Iteration : 31 , Loss : 0.6210095882415771\n",
      "Epoch : 6, Iteration : 41 , Loss : 0.6062005758285522\n",
      "Epoch : 6, Iteration : 51 , Loss : 0.6113099455833435\n",
      "Epoch : 6, Iteration : 61 , Loss : 0.6051616072654724\n"
     ]
    },
    {
     "name": "stderr",
     "output_type": "stream",
     "text": [
      "INFO:root:Evaluating accuracy on dev set\n",
      "INFO:root:new model saved\n",
      "INFO:root:Train loss: 0.620302148487257 - acc: 0.6930599709817423 -- Validation loss: 0.6063329066549029 - acc: 0.5866753671290535\n",
      " 20%|██        | 6/30 [00:14<00:58,  2.42s/it]"
     ]
    },
    {
     "name": "stdout",
     "output_type": "stream",
     "text": [
      "Epoch : 6 , Loss : 0.620302148487257\n",
      "Epoch : 6, Validation Iteration : 1 , Loss : 0.6045774221420288\n",
      "Epoch : 6, Validation Loss : 0.6063329066549029\n",
      "Epoch : 7, Iteration : 1 , Loss : 0.5949504375457764\n",
      "Epoch : 7, Iteration : 11 , Loss : 0.6029113531112671\n",
      "Epoch : 7, Iteration : 21 , Loss : 0.5962996482849121\n",
      "Epoch : 7, Iteration : 31 , Loss : 0.5996209979057312\n",
      "Epoch : 7, Iteration : 41 , Loss : 0.5899875164031982\n",
      "Epoch : 7, Iteration : 51 , Loss : 0.5989917516708374\n",
      "Epoch : 7, Iteration : 61 , Loss : 0.5919086933135986\n"
     ]
    },
    {
     "name": "stderr",
     "output_type": "stream",
     "text": [
      "INFO:root:Evaluating accuracy on dev set\n",
      "INFO:root:Train loss: 0.5957510479982349 - acc: 0.7109243557454886 -- Validation loss: 0.5985775675092425 - acc: 0.5798361983430449\n",
      " 23%|██▎       | 7/30 [00:16<00:55,  2.41s/it]"
     ]
    },
    {
     "name": "stdout",
     "output_type": "stream",
     "text": [
      "Epoch : 7 , Loss : 0.5957510479982349\n",
      "Epoch : 7, Validation Iteration : 1 , Loss : 0.5979170799255371\n",
      "Epoch : 7, Validation Loss : 0.5985775675092425\n",
      "Epoch : 8, Iteration : 1 , Loss : 0.5839715003967285\n",
      "Epoch : 8, Iteration : 11 , Loss : 0.5942457914352417\n",
      "Epoch : 8, Iteration : 21 , Loss : 0.5896308422088623\n",
      "Epoch : 8, Iteration : 31 , Loss : 0.5926730632781982\n",
      "Epoch : 8, Iteration : 41 , Loss : 0.5825070142745972\n",
      "Epoch : 8, Iteration : 51 , Loss : 0.5900285243988037\n",
      "Epoch : 8, Iteration : 61 , Loss : 0.5855733156204224\n"
     ]
    },
    {
     "name": "stderr",
     "output_type": "stream",
     "text": [
      "INFO:root:Evaluating accuracy on dev set\n",
      "INFO:root:new model saved\n",
      "INFO:root:Train loss: 0.5883020205774169 - acc: 0.7309132162081007 -- Validation loss: 0.592965475150517 - acc: 0.592189375015906\n",
      " 27%|██▋       | 8/30 [00:19<00:53,  2.41s/it]"
     ]
    },
    {
     "name": "stdout",
     "output_type": "stream",
     "text": [
      "Epoch : 8 , Loss : 0.5883020205774169\n",
      "Epoch : 8, Validation Iteration : 1 , Loss : 0.5933200120925903\n",
      "Epoch : 8, Validation Loss : 0.592965475150517\n",
      "Epoch : 9, Iteration : 1 , Loss : 0.5792354345321655\n",
      "Epoch : 9, Iteration : 11 , Loss : 0.5933958292007446\n",
      "Epoch : 9, Iteration : 21 , Loss : 0.584461510181427\n",
      "Epoch : 9, Iteration : 31 , Loss : 0.5893746018409729\n",
      "Epoch : 9, Iteration : 41 , Loss : 0.5771757364273071\n",
      "Epoch : 9, Iteration : 51 , Loss : 0.5853385925292969\n",
      "Epoch : 9, Iteration : 61 , Loss : 0.5826724171638489\n"
     ]
    },
    {
     "name": "stderr",
     "output_type": "stream",
     "text": [
      "INFO:root:Evaluating accuracy on dev set\n",
      "INFO:root:new model saved\n",
      "INFO:root:Train loss: 0.5844516235849132 - acc: 0.7339578932560261 -- Validation loss: 0.5912414704050336 - acc: 0.5973268498109072\n",
      " 30%|███       | 9/30 [00:21<00:50,  2.42s/it]"
     ]
    },
    {
     "name": "stdout",
     "output_type": "stream",
     "text": [
      "Epoch : 9 , Loss : 0.5844516235849132\n",
      "Epoch : 9, Validation Iteration : 1 , Loss : 0.5936667919158936\n",
      "Epoch : 9, Validation Loss : 0.5912414704050336\n",
      "Epoch : 10, Iteration : 1 , Loss : 0.5771620869636536\n",
      "Epoch : 10, Iteration : 11 , Loss : 0.5927087664604187\n",
      "Epoch : 10, Iteration : 21 , Loss : 0.5829023122787476\n",
      "Epoch : 10, Iteration : 31 , Loss : 0.5872105360031128\n",
      "Epoch : 10, Iteration : 41 , Loss : 0.5777217149734497\n",
      "Epoch : 10, Iteration : 51 , Loss : 0.5841424465179443\n",
      "Epoch : 10, Iteration : 61 , Loss : 0.5813419818878174\n"
     ]
    },
    {
     "name": "stderr",
     "output_type": "stream",
     "text": [
      "INFO:root:Evaluating accuracy on dev set\n",
      "INFO:root:Train loss: 0.5828941006591355 - acc: 0.7409340136115681 -- Validation loss: 0.5907389521598816 - acc: 0.5817875312307114\n",
      " 33%|███▎      | 10/30 [00:24<00:48,  2.41s/it]"
     ]
    },
    {
     "name": "stdout",
     "output_type": "stream",
     "text": [
      "Epoch : 10 , Loss : 0.5828941006591355\n",
      "Epoch : 10, Validation Iteration : 1 , Loss : 0.5907756090164185\n",
      "Epoch : 10, Validation Loss : 0.5907389521598816\n",
      "Epoch : 11, Iteration : 1 , Loss : 0.5758908987045288\n",
      "Epoch : 11, Iteration : 11 , Loss : 0.6027030944824219\n",
      "Epoch : 11, Iteration : 21 , Loss : 0.5815261602401733\n",
      "Epoch : 11, Iteration : 31 , Loss : 0.5879268646240234\n",
      "Epoch : 11, Iteration : 41 , Loss : 0.5776615738868713\n",
      "Epoch : 11, Iteration : 51 , Loss : 0.5877745747566223\n",
      "Epoch : 11, Iteration : 61 , Loss : 0.5805730819702148\n"
     ]
    },
    {
     "name": "stderr",
     "output_type": "stream",
     "text": [
      "INFO:root:Evaluating accuracy on dev set\n",
      "INFO:root:Train loss: 0.5823742997819099 - acc: 0.745367050267767 -- Validation loss: 0.5911327174731663 - acc: 0.57887605903702\n",
      " 37%|███▋      | 11/30 [00:26<00:45,  2.40s/it]"
     ]
    },
    {
     "name": "stdout",
     "output_type": "stream",
     "text": [
      "Epoch : 11 , Loss : 0.5823742997819099\n",
      "Epoch : 11, Validation Iteration : 1 , Loss : 0.5922565460205078\n",
      "Epoch : 11, Validation Loss : 0.5911327174731663\n",
      "Epoch : 12, Iteration : 1 , Loss : 0.575459361076355\n",
      "Epoch : 12, Iteration : 11 , Loss : 0.595763087272644\n",
      "Epoch : 12, Iteration : 21 , Loss : 0.5838196277618408\n",
      "Epoch : 12, Iteration : 31 , Loss : 0.5884883999824524\n",
      "Epoch : 12, Iteration : 41 , Loss : 0.5784432291984558\n",
      "Epoch : 12, Iteration : 51 , Loss : 0.5841619968414307\n",
      "Epoch : 12, Iteration : 61 , Loss : 0.5806785225868225\n"
     ]
    },
    {
     "name": "stderr",
     "output_type": "stream",
     "text": [
      "INFO:root:Evaluating accuracy on dev set\n",
      "INFO:root:Train loss: 0.5815812496171482 - acc: 0.7505321541530726 -- Validation loss: 0.5909067562648228 - acc: 0.5708465878979058\n",
      " 40%|████      | 12/30 [00:28<00:43,  2.41s/it]"
     ]
    },
    {
     "name": "stdout",
     "output_type": "stream",
     "text": [
      "Epoch : 12 , Loss : 0.5815812496171482\n",
      "Epoch : 12, Validation Iteration : 1 , Loss : 0.590846061706543\n",
      "Epoch : 12, Validation Loss : 0.5909067562648228\n",
      "Epoch : 13, Iteration : 1 , Loss : 0.5753304958343506\n",
      "Epoch : 13, Iteration : 11 , Loss : 0.5966087579727173\n",
      "Epoch : 13, Iteration : 21 , Loss : 0.5815390348434448\n",
      "Epoch : 13, Iteration : 31 , Loss : 0.5872237086296082\n",
      "Epoch : 13, Iteration : 41 , Loss : 0.5771661996841431\n",
      "Epoch : 13, Iteration : 51 , Loss : 0.5843120813369751\n",
      "Epoch : 13, Iteration : 61 , Loss : 0.5797461271286011\n"
     ]
    },
    {
     "name": "stderr",
     "output_type": "stream",
     "text": [
      "INFO:root:Evaluating accuracy on dev set\n",
      "INFO:root:Train loss: 0.5811115002286606 - acc: 0.7581492389791892 -- Validation loss: 0.591643648488181 - acc: 0.5653342531940067\n",
      " 43%|████▎     | 13/30 [00:31<00:40,  2.40s/it]"
     ]
    },
    {
     "name": "stdout",
     "output_type": "stream",
     "text": [
      "Epoch : 13 , Loss : 0.5811115002286606\n",
      "Epoch : 13, Validation Iteration : 1 , Loss : 0.5920107364654541\n",
      "Epoch : 13, Validation Loss : 0.591643648488181\n",
      "Epoch : 14, Iteration : 1 , Loss : 0.5738904476165771\n",
      "Epoch : 14, Iteration : 11 , Loss : 0.5885860919952393\n",
      "Epoch : 14, Iteration : 21 , Loss : 0.5817521810531616\n",
      "Epoch : 14, Iteration : 31 , Loss : 0.5849155187606812\n",
      "Epoch : 14, Iteration : 41 , Loss : 0.5764518976211548\n",
      "Epoch : 14, Iteration : 51 , Loss : 0.5846608281135559\n",
      "Epoch : 14, Iteration : 61 , Loss : 0.580372154712677\n"
     ]
    },
    {
     "name": "stderr",
     "output_type": "stream",
     "text": [
      "INFO:root:Evaluating accuracy on dev set\n",
      "INFO:root:Train loss: 0.5805893540382385 - acc: 0.765659230291406 -- Validation loss: 0.5915816937174115 - acc: 0.5721481234537587\n",
      " 47%|████▋     | 14/30 [00:33<00:38,  2.40s/it]"
     ]
    },
    {
     "name": "stdout",
     "output_type": "stream",
     "text": [
      "Epoch : 14 , Loss : 0.5805893540382385\n",
      "Epoch : 14, Validation Iteration : 1 , Loss : 0.5925021171569824\n",
      "Epoch : 14, Validation Loss : 0.5915816937174115\n",
      "Epoch : 15, Iteration : 1 , Loss : 0.5743874311447144\n",
      "Epoch : 15, Iteration : 11 , Loss : 0.5929956436157227\n",
      "Epoch : 15, Iteration : 21 , Loss : 0.580540120601654\n",
      "Epoch : 15, Iteration : 31 , Loss : 0.5843473672866821\n",
      "Epoch : 15, Iteration : 41 , Loss : 0.5767002105712891\n",
      "Epoch : 15, Iteration : 51 , Loss : 0.5874351263046265\n",
      "Epoch : 15, Iteration : 61 , Loss : 0.5791138410568237\n"
     ]
    },
    {
     "name": "stderr",
     "output_type": "stream",
     "text": [
      "INFO:root:Evaluating accuracy on dev set\n",
      "INFO:root:Train loss: 0.5802748376044674 - acc: 0.7658035047243428 -- Validation loss: 0.591437075819288 - acc: 0.5609303687331292\n",
      " 50%|█████     | 15/30 [00:36<00:35,  2.39s/it]"
     ]
    },
    {
     "name": "stdout",
     "output_type": "stream",
     "text": [
      "Epoch : 15 , Loss : 0.5802748376044674\n",
      "Epoch : 15, Validation Iteration : 1 , Loss : 0.5921541452407837\n",
      "Epoch : 15, Validation Loss : 0.591437075819288\n",
      "Epoch : 16, Iteration : 1 , Loss : 0.5753694772720337\n",
      "Epoch : 16, Iteration : 11 , Loss : 0.5910699367523193\n",
      "Epoch : 16, Iteration : 21 , Loss : 0.5806801319122314\n",
      "Epoch : 16, Iteration : 31 , Loss : 0.5838983058929443\n",
      "Epoch : 16, Iteration : 41 , Loss : 0.5750540494918823\n",
      "Epoch : 16, Iteration : 51 , Loss : 0.5882084369659424\n",
      "Epoch : 16, Iteration : 61 , Loss : 0.5788413286209106\n"
     ]
    },
    {
     "name": "stderr",
     "output_type": "stream",
     "text": [
      "INFO:root:Evaluating accuracy on dev set\n",
      "INFO:root:Train loss: 0.5800513210503951 - acc: 0.7686895692871409 -- Validation loss: 0.5913822565759931 - acc: 0.5721864058797342\n",
      " 53%|█████▎    | 16/30 [00:38<00:33,  2.39s/it]"
     ]
    },
    {
     "name": "stdout",
     "output_type": "stream",
     "text": [
      "Epoch : 16 , Loss : 0.5800513210503951\n",
      "Epoch : 16, Validation Iteration : 1 , Loss : 0.5931470394134521\n",
      "Epoch : 16, Validation Loss : 0.5913822565759931\n",
      "Epoch : 17, Iteration : 1 , Loss : 0.575691819190979\n",
      "Epoch : 17, Iteration : 11 , Loss : 0.5886317491531372\n",
      "Epoch : 17, Iteration : 21 , Loss : 0.5807554721832275\n",
      "Epoch : 17, Iteration : 31 , Loss : 0.5840610861778259\n",
      "Epoch : 17, Iteration : 41 , Loss : 0.5753018260002136\n",
      "Epoch : 17, Iteration : 51 , Loss : 0.5849288702011108\n",
      "Epoch : 17, Iteration : 61 , Loss : 0.5790863037109375\n"
     ]
    },
    {
     "name": "stderr",
     "output_type": "stream",
     "text": [
      "INFO:root:Evaluating accuracy on dev set\n",
      "INFO:root:Train loss: 0.5796229450599008 - acc: 0.7728209972772184 -- Validation loss: 0.5907759410994393 - acc: 0.5790295903048314\n",
      " 57%|█████▋    | 17/30 [00:40<00:31,  2.40s/it]"
     ]
    },
    {
     "name": "stdout",
     "output_type": "stream",
     "text": [
      "Epoch : 17 , Loss : 0.5796229450599008\n",
      "Epoch : 17, Validation Iteration : 1 , Loss : 0.5916445255279541\n",
      "Epoch : 17, Validation Loss : 0.5907759410994393\n",
      "Epoch : 18, Iteration : 1 , Loss : 0.5747530460357666\n",
      "Epoch : 18, Iteration : 11 , Loss : 0.5832753777503967\n",
      "Epoch : 18, Iteration : 21 , Loss : 0.5796973705291748\n",
      "Epoch : 18, Iteration : 31 , Loss : 0.5833617448806763\n",
      "Epoch : 18, Iteration : 41 , Loss : 0.5748617649078369\n",
      "Epoch : 18, Iteration : 51 , Loss : 0.5836008787155151\n",
      "Epoch : 18, Iteration : 61 , Loss : 0.5788966417312622\n"
     ]
    },
    {
     "name": "stderr",
     "output_type": "stream",
     "text": [
      "INFO:root:Evaluating accuracy on dev set\n",
      "INFO:root:Train loss: 0.5792031054911406 - acc: 0.7795659548965993 -- Validation loss: 0.5907928347587585 - acc: 0.5828036887020188\n",
      " 60%|██████    | 18/30 [00:43<00:28,  2.40s/it]"
     ]
    },
    {
     "name": "stdout",
     "output_type": "stream",
     "text": [
      "Epoch : 18 , Loss : 0.5792031054911406\n",
      "Epoch : 18, Validation Iteration : 1 , Loss : 0.5911364555358887\n",
      "Epoch : 18, Validation Loss : 0.5907928347587585\n",
      "Epoch : 19, Iteration : 1 , Loss : 0.574091911315918\n",
      "Epoch : 19, Iteration : 11 , Loss : 0.5824798345565796\n",
      "Epoch : 19, Iteration : 21 , Loss : 0.580119252204895\n",
      "Epoch : 19, Iteration : 31 , Loss : 0.5834217071533203\n",
      "Epoch : 19, Iteration : 41 , Loss : 0.5746965408325195\n",
      "Epoch : 19, Iteration : 51 , Loss : 0.5831241607666016\n",
      "Epoch : 19, Iteration : 61 , Loss : 0.5789124965667725\n"
     ]
    },
    {
     "name": "stderr",
     "output_type": "stream",
     "text": [
      "INFO:root:Evaluating accuracy on dev set\n",
      "INFO:root:Train loss: 0.5790639398754507 - acc: 0.7777670493185137 -- Validation loss: 0.5894046596118382 - acc: 0.5895635486160327\n",
      " 63%|██████▎   | 19/30 [00:45<00:26,  2.40s/it]"
     ]
    },
    {
     "name": "stdout",
     "output_type": "stream",
     "text": [
      "Epoch : 19 , Loss : 0.5790639398754507\n",
      "Epoch : 19, Validation Iteration : 1 , Loss : 0.5867191553115845\n",
      "Epoch : 19, Validation Loss : 0.5894046596118382\n",
      "Epoch : 20, Iteration : 1 , Loss : 0.5744012594223022\n",
      "Epoch : 20, Iteration : 11 , Loss : 0.5813020467758179\n",
      "Epoch : 20, Iteration : 21 , Loss : 0.5805115103721619\n",
      "Epoch : 20, Iteration : 31 , Loss : 0.5832858085632324\n",
      "Epoch : 20, Iteration : 41 , Loss : 0.5745600461959839\n",
      "Epoch : 20, Iteration : 51 , Loss : 0.582956075668335\n",
      "Epoch : 20, Iteration : 61 , Loss : 0.5794368982315063\n"
     ]
    },
    {
     "name": "stderr",
     "output_type": "stream",
     "text": [
      "INFO:root:Evaluating accuracy on dev set\n",
      "INFO:root:Train loss: 0.5790512924608977 - acc: 0.7769105221750191 -- Validation loss: 0.5896120582308088 - acc: 0.5879984532813474\n",
      " 67%|██████▋   | 20/30 [00:48<00:23,  2.40s/it]"
     ]
    },
    {
     "name": "stdout",
     "output_type": "stream",
     "text": [
      "Epoch : 20 , Loss : 0.5790512924608977\n",
      "Epoch : 20, Validation Iteration : 1 , Loss : 0.5899260640144348\n",
      "Epoch : 20, Validation Loss : 0.5896120582308088\n",
      "Epoch : 21, Iteration : 1 , Loss : 0.5738316774368286\n",
      "Epoch : 21, Iteration : 11 , Loss : 0.5812435150146484\n",
      "Epoch : 21, Iteration : 21 , Loss : 0.5791394710540771\n",
      "Epoch : 21, Iteration : 31 , Loss : 0.5847111940383911\n",
      "Epoch : 21, Iteration : 41 , Loss : 0.5744949579238892\n",
      "Epoch : 21, Iteration : 51 , Loss : 0.5815263986587524\n",
      "Epoch : 21, Iteration : 61 , Loss : 0.578501284122467\n"
     ]
    },
    {
     "name": "stderr",
     "output_type": "stream",
     "text": [
      "INFO:root:Evaluating accuracy on dev set\n",
      "INFO:root:Train loss: 0.5787645336510479 - acc: 0.7797006926273754 -- Validation loss: 0.5898137773786273 - acc: 0.578383741684788\n",
      " 70%|███████   | 21/30 [00:50<00:21,  2.40s/it]"
     ]
    },
    {
     "name": "stdout",
     "output_type": "stream",
     "text": [
      "Epoch : 21 , Loss : 0.5787645336510479\n",
      "Epoch : 21, Validation Iteration : 1 , Loss : 0.5877234935760498\n",
      "Epoch : 21, Validation Loss : 0.5898137773786273\n",
      "Epoch : 22, Iteration : 1 , Loss : 0.573954701423645\n",
      "Epoch : 22, Iteration : 11 , Loss : 0.5816622972488403\n",
      "Epoch : 22, Iteration : 21 , Loss : 0.5786616802215576\n",
      "Epoch : 22, Iteration : 31 , Loss : 0.5836179256439209\n",
      "Epoch : 22, Iteration : 41 , Loss : 0.5745245218276978\n",
      "Epoch : 22, Iteration : 51 , Loss : 0.5815370082855225\n",
      "Epoch : 22, Iteration : 61 , Loss : 0.578376829624176\n"
     ]
    },
    {
     "name": "stderr",
     "output_type": "stream",
     "text": [
      "INFO:root:Evaluating accuracy on dev set\n",
      "INFO:root:Train loss: 0.578514285709547 - acc: 0.7830322199652513 -- Validation loss: 0.5885217019489833 - acc: 0.5929118554152186\n",
      " 73%|███████▎  | 22/30 [00:52<00:19,  2.40s/it]"
     ]
    },
    {
     "name": "stdout",
     "output_type": "stream",
     "text": [
      "Epoch : 22 , Loss : 0.578514285709547\n",
      "Epoch : 22, Validation Iteration : 1 , Loss : 0.587921142578125\n",
      "Epoch : 22, Validation Loss : 0.5885217019489833\n",
      "Epoch : 23, Iteration : 1 , Loss : 0.5728495717048645\n",
      "Epoch : 23, Iteration : 11 , Loss : 0.5833561420440674\n",
      "Epoch : 23, Iteration : 21 , Loss : 0.5794544816017151\n",
      "Epoch : 23, Iteration : 31 , Loss : 0.5838943719863892\n",
      "Epoch : 23, Iteration : 41 , Loss : 0.5752140283584595\n",
      "Epoch : 23, Iteration : 51 , Loss : 0.5830421447753906\n",
      "Epoch : 23, Iteration : 61 , Loss : 0.5781075954437256\n"
     ]
    },
    {
     "name": "stderr",
     "output_type": "stream",
     "text": [
      "INFO:root:Evaluating accuracy on dev set\n",
      "INFO:root:Train loss: 0.5782514007195182 - acc: 0.7852267375910048 -- Validation loss: 0.5887519632066999 - acc: 0.5899268300988921\n",
      " 77%|███████▋  | 23/30 [00:55<00:16,  2.40s/it]"
     ]
    },
    {
     "name": "stdout",
     "output_type": "stream",
     "text": [
      "Epoch : 23 , Loss : 0.5782514007195182\n",
      "Epoch : 23, Validation Iteration : 1 , Loss : 0.5875929594039917\n",
      "Epoch : 23, Validation Loss : 0.5887519632066999\n",
      "Epoch : 24, Iteration : 1 , Loss : 0.5726328492164612\n",
      "Epoch : 24, Iteration : 11 , Loss : 0.5815241932868958\n",
      "Epoch : 24, Iteration : 21 , Loss : 0.5791012048721313\n",
      "Epoch : 24, Iteration : 31 , Loss : 0.5853091478347778\n",
      "Epoch : 24, Iteration : 41 , Loss : 0.5756174325942993\n",
      "Epoch : 24, Iteration : 51 , Loss : 0.5834975242614746\n",
      "Epoch : 24, Iteration : 61 , Loss : 0.5784226655960083\n"
     ]
    },
    {
     "name": "stderr",
     "output_type": "stream",
     "text": [
      "INFO:root:Evaluating accuracy on dev set\n",
      "INFO:root:Train loss: 0.5782044892725737 - acc: 0.7852931744179734 -- Validation loss: 0.5887033087866647 - acc: 0.5830717995384845\n",
      " 80%|████████  | 24/30 [00:57<00:14,  2.40s/it]"
     ]
    },
    {
     "name": "stdout",
     "output_type": "stream",
     "text": [
      "Epoch : 24 , Loss : 0.5782044892725737\n",
      "Epoch : 24, Validation Iteration : 1 , Loss : 0.5891111493110657\n",
      "Epoch : 24, Validation Loss : 0.5887033087866647\n",
      "Epoch : 25, Iteration : 1 , Loss : 0.572219967842102\n",
      "Epoch : 25, Iteration : 11 , Loss : 0.5805398225784302\n",
      "Epoch : 25, Iteration : 21 , Loss : 0.5813562870025635\n",
      "Epoch : 25, Iteration : 31 , Loss : 0.583997368812561\n",
      "Epoch : 25, Iteration : 41 , Loss : 0.5757274627685547\n",
      "Epoch : 25, Iteration : 51 , Loss : 0.582865834236145\n",
      "Epoch : 25, Iteration : 61 , Loss : 0.5786120891571045\n"
     ]
    },
    {
     "name": "stderr",
     "output_type": "stream",
     "text": [
      "INFO:root:Evaluating accuracy on dev set\n",
      "INFO:root:Train loss: 0.5780741071355515 - acc: 0.7869894759518169 -- Validation loss: 0.5889935578618731 - acc: 0.5822183423775735\n",
      " 83%|████████▎ | 25/30 [01:00<00:11,  2.39s/it]"
     ]
    },
    {
     "name": "stdout",
     "output_type": "stream",
     "text": [
      "Epoch : 25 , Loss : 0.5780741071355515\n",
      "Epoch : 25, Validation Iteration : 1 , Loss : 0.5899646282196045\n",
      "Epoch : 25, Validation Loss : 0.5889935578618731\n",
      "Epoch : 26, Iteration : 1 , Loss : 0.572796642780304\n",
      "Epoch : 26, Iteration : 11 , Loss : 0.5794562101364136\n",
      "Epoch : 26, Iteration : 21 , Loss : 0.5785449743270874\n",
      "Epoch : 26, Iteration : 31 , Loss : 0.5845673680305481\n",
      "Epoch : 26, Iteration : 41 , Loss : 0.5745430588722229\n",
      "Epoch : 26, Iteration : 51 , Loss : 0.5820709466934204\n",
      "Epoch : 26, Iteration : 61 , Loss : 0.5773971080780029\n"
     ]
    },
    {
     "name": "stderr",
     "output_type": "stream",
     "text": [
      "INFO:root:Evaluating accuracy on dev set\n",
      "INFO:root:Train loss: 0.5778664436893187 - acc: 0.7890212740282546 -- Validation loss: 0.5890442132949829 - acc: 0.5769197735278112\n",
      " 87%|████████▋ | 26/30 [01:02<00:09,  2.39s/it]"
     ]
    },
    {
     "name": "stdout",
     "output_type": "stream",
     "text": [
      "Epoch : 26 , Loss : 0.5778664436893187\n",
      "Epoch : 26, Validation Iteration : 1 , Loss : 0.5901004076004028\n",
      "Epoch : 26, Validation Loss : 0.5890442132949829\n",
      "Epoch : 27, Iteration : 1 , Loss : 0.5719372034072876\n",
      "Epoch : 27, Iteration : 11 , Loss : 0.5799039602279663\n",
      "Epoch : 27, Iteration : 21 , Loss : 0.5790427923202515\n",
      "Epoch : 27, Iteration : 31 , Loss : 0.583818793296814\n",
      "Epoch : 27, Iteration : 41 , Loss : 0.5749009847640991\n",
      "Epoch : 27, Iteration : 51 , Loss : 0.5813869833946228\n",
      "Epoch : 27, Iteration : 61 , Loss : 0.5781618356704712\n"
     ]
    },
    {
     "name": "stderr",
     "output_type": "stream",
     "text": [
      "INFO:root:Evaluating accuracy on dev set\n",
      "INFO:root:Train loss: 0.5777596235275269 - acc: 0.7905346157314825 -- Validation loss: 0.588476164000375 - acc: 0.589334924897269\n",
      " 90%|█████████ | 27/30 [01:04<00:07,  2.39s/it]"
     ]
    },
    {
     "name": "stdout",
     "output_type": "stream",
     "text": [
      "Epoch : 27 , Loss : 0.5777596235275269\n",
      "Epoch : 27, Validation Iteration : 1 , Loss : 0.5891821384429932\n",
      "Epoch : 27, Validation Loss : 0.588476164000375\n",
      "Epoch : 28, Iteration : 1 , Loss : 0.5725216865539551\n",
      "Epoch : 28, Iteration : 11 , Loss : 0.5793527364730835\n",
      "Epoch : 28, Iteration : 21 , Loss : 0.5818328857421875\n",
      "Epoch : 28, Iteration : 31 , Loss : 0.5834876298904419\n",
      "Epoch : 28, Iteration : 41 , Loss : 0.5750887989997864\n",
      "Epoch : 28, Iteration : 51 , Loss : 0.5822773575782776\n",
      "Epoch : 28, Iteration : 61 , Loss : 0.5780972242355347\n"
     ]
    },
    {
     "name": "stderr",
     "output_type": "stream",
     "text": [
      "INFO:root:Evaluating accuracy on dev set\n",
      "INFO:root:Train loss: 0.5777372225471165 - acc: 0.7901530440499004 -- Validation loss: 0.5885130763053894 - acc: 0.5922016227151256\n",
      " 93%|█████████▎| 28/30 [01:07<00:04,  2.38s/it]"
     ]
    },
    {
     "name": "stdout",
     "output_type": "stream",
     "text": [
      "Epoch : 28 , Loss : 0.5777372225471165\n",
      "Epoch : 28, Validation Iteration : 1 , Loss : 0.588894784450531\n",
      "Epoch : 28, Validation Loss : 0.5885130763053894\n",
      "Epoch : 29, Iteration : 1 , Loss : 0.5724482536315918\n",
      "Epoch : 29, Iteration : 11 , Loss : 0.5795159339904785\n",
      "Epoch : 29, Iteration : 21 , Loss : 0.5794754028320312\n",
      "Epoch : 29, Iteration : 31 , Loss : 0.5832518339157104\n",
      "Epoch : 29, Iteration : 41 , Loss : 0.5746595859527588\n",
      "Epoch : 29, Iteration : 51 , Loss : 0.5811305046081543\n",
      "Epoch : 29, Iteration : 61 , Loss : 0.5780985355377197\n"
     ]
    },
    {
     "name": "stderr",
     "output_type": "stream",
     "text": [
      "INFO:root:Evaluating accuracy on dev set\n",
      "INFO:root:Train loss: 0.5774645442548005 - acc: 0.7947922483004969 -- Validation loss: 0.5891936251095363 - acc: 0.5813700386201591\n",
      " 97%|█████████▋| 29/30 [01:09<00:02,  2.39s/it]"
     ]
    },
    {
     "name": "stdout",
     "output_type": "stream",
     "text": [
      "Epoch : 29 , Loss : 0.5774645442548005\n",
      "Epoch : 29, Validation Iteration : 1 , Loss : 0.5923896431922913\n",
      "Epoch : 29, Validation Loss : 0.5891936251095363\n",
      "Epoch : 30, Iteration : 1 , Loss : 0.5719857215881348\n",
      "Epoch : 30, Iteration : 11 , Loss : 0.5797675848007202\n",
      "Epoch : 30, Iteration : 21 , Loss : 0.578488826751709\n",
      "Epoch : 30, Iteration : 31 , Loss : 0.5835122466087341\n",
      "Epoch : 30, Iteration : 41 , Loss : 0.5740900039672852\n",
      "Epoch : 30, Iteration : 51 , Loss : 0.5814439058303833\n",
      "Epoch : 30, Iteration : 61 , Loss : 0.5792235136032104\n"
     ]
    },
    {
     "name": "stderr",
     "output_type": "stream",
     "text": [
      "INFO:root:Evaluating accuracy on dev set\n",
      "INFO:root:Train loss: 0.5773371708565864 - acc: 0.7956856694642568 -- Validation loss: 0.588690595967429 - acc: 0.5929457875655152\n",
      "100%|██████████| 30/30 [01:12<00:00,  2.40s/it]\n"
     ]
    },
    {
     "name": "stdout",
     "output_type": "stream",
     "text": [
      "Epoch : 30 , Loss : 0.5773371708565864\n",
      "Epoch : 30, Validation Iteration : 1 , Loss : 0.588253915309906\n",
      "Epoch : 30, Validation Loss : 0.588690595967429\n"
     ]
    },
    {
     "name": "stderr",
     "output_type": "stream",
     "text": [
      "\r",
      "  0%|          | 0/30 [00:00<?, ?it/s]"
     ]
    },
    {
     "name": "stdout",
     "output_type": "stream",
     "text": [
      "Epoch : 1, Iteration : 1 , Loss : 1.2020049095153809\n",
      "Epoch : 1, Iteration : 11 , Loss : 1.2065393924713135\n",
      "Epoch : 1, Iteration : 21 , Loss : 1.139238953590393\n",
      "Epoch : 1, Iteration : 31 , Loss : 1.1768852472305298\n",
      "Epoch : 1, Iteration : 41 , Loss : 1.185129165649414\n",
      "Epoch : 1, Iteration : 51 , Loss : 1.1710662841796875\n",
      "Epoch : 1, Iteration : 61 , Loss : 1.118474006652832\n"
     ]
    },
    {
     "name": "stderr",
     "output_type": "stream",
     "text": [
      "INFO:root:Evaluating accuracy on dev set\n",
      "INFO:root:new model saved\n",
      "INFO:root:Train loss: 1.1671567654264146 - acc: 0.2697729696712274 -- Validation loss: 1.136603696005685 - acc: 0.4332187232774534\n",
      "  3%|▎         | 1/30 [00:02<01:10,  2.43s/it]"
     ]
    },
    {
     "name": "stdout",
     "output_type": "stream",
     "text": [
      "Epoch : 1 , Loss : 1.1671567654264146\n",
      "Epoch : 1, Validation Iteration : 1 , Loss : 1.1305882930755615\n",
      "Epoch : 1, Validation Loss : 1.136603696005685\n",
      "Epoch : 2, Iteration : 1 , Loss : 1.1367273330688477\n",
      "Epoch : 2, Iteration : 11 , Loss : 1.1449332237243652\n",
      "Epoch : 2, Iteration : 21 , Loss : 1.1227259635925293\n",
      "Epoch : 2, Iteration : 31 , Loss : 1.1302205324172974\n",
      "Epoch : 2, Iteration : 41 , Loss : 1.1515693664550781\n",
      "Epoch : 2, Iteration : 51 , Loss : 1.1304359436035156\n",
      "Epoch : 2, Iteration : 61 , Loss : 1.1200776100158691\n"
     ]
    },
    {
     "name": "stderr",
     "output_type": "stream",
     "text": [
      "INFO:root:Evaluating accuracy on dev set\n",
      "INFO:root:new model saved\n",
      "INFO:root:Train loss: 1.1338068972463193 - acc: 0.44077466748173055 -- Validation loss: 1.1295617307935442 - acc: 0.47528160574548683\n",
      "  7%|▋         | 2/30 [00:04<01:08,  2.44s/it]"
     ]
    },
    {
     "name": "stdout",
     "output_type": "stream",
     "text": [
      "Epoch : 2 , Loss : 1.1338068972463193\n",
      "Epoch : 2, Validation Iteration : 1 , Loss : 1.1261982917785645\n",
      "Epoch : 2, Validation Loss : 1.1295617307935442\n",
      "Epoch : 3, Iteration : 1 , Loss : 1.1261858940124512\n",
      "Epoch : 3, Iteration : 11 , Loss : 1.1330162286758423\n",
      "Epoch : 3, Iteration : 21 , Loss : 1.1176722049713135\n",
      "Epoch : 3, Iteration : 31 , Loss : 1.1220136880874634\n",
      "Epoch : 3, Iteration : 41 , Loss : 1.1422617435455322\n",
      "Epoch : 3, Iteration : 51 , Loss : 1.1253045797348022\n",
      "Epoch : 3, Iteration : 61 , Loss : 1.1191375255584717\n"
     ]
    },
    {
     "name": "stderr",
     "output_type": "stream",
     "text": [
      "INFO:root:Evaluating accuracy on dev set\n",
      "INFO:root:new model saved\n",
      "INFO:root:Train loss: 1.1274766887443652 - acc: 0.5128478837973728 -- Validation loss: 1.1260867289134435 - acc: 0.5050512784177118\n",
      " 10%|█         | 3/30 [00:07<01:05,  2.43s/it]"
     ]
    },
    {
     "name": "stdout",
     "output_type": "stream",
     "text": [
      "Epoch : 3 , Loss : 1.1274766887443652\n",
      "Epoch : 3, Validation Iteration : 1 , Loss : 1.1242141723632812\n",
      "Epoch : 3, Validation Loss : 1.1260867289134435\n",
      "Epoch : 4, Iteration : 1 , Loss : 1.1219384670257568\n",
      "Epoch : 4, Iteration : 11 , Loss : 1.1278831958770752\n",
      "Epoch : 4, Iteration : 21 , Loss : 1.115934133529663\n",
      "Epoch : 4, Iteration : 31 , Loss : 1.1198564767837524\n",
      "Epoch : 4, Iteration : 41 , Loss : 1.136709213256836\n",
      "Epoch : 4, Iteration : 51 , Loss : 1.1230530738830566\n",
      "Epoch : 4, Iteration : 61 , Loss : 1.1173217296600342\n"
     ]
    },
    {
     "name": "stderr",
     "output_type": "stream",
     "text": [
      "INFO:root:Evaluating accuracy on dev set\n",
      "INFO:root:new model saved\n",
      "INFO:root:Train loss: 1.1239483270092288 - acc: 0.5545394112757764 -- Validation loss: 1.1237396172114782 - acc: 0.5264634691646225\n",
      " 13%|█▎        | 4/30 [00:09<01:03,  2.44s/it]"
     ]
    },
    {
     "name": "stdout",
     "output_type": "stream",
     "text": [
      "Epoch : 4 , Loss : 1.1239483270092288\n",
      "Epoch : 4, Validation Iteration : 1 , Loss : 1.12269926071167\n",
      "Epoch : 4, Validation Loss : 1.1237396172114782\n",
      "Epoch : 5, Iteration : 1 , Loss : 1.1189134120941162\n",
      "Epoch : 5, Iteration : 11 , Loss : 1.1243770122528076\n",
      "Epoch : 5, Iteration : 21 , Loss : 1.1151561737060547\n",
      "Epoch : 5, Iteration : 31 , Loss : 1.1189544200897217\n",
      "Epoch : 5, Iteration : 41 , Loss : 1.1325901746749878\n",
      "Epoch : 5, Iteration : 51 , Loss : 1.121342658996582\n",
      "Epoch : 5, Iteration : 61 , Loss : 1.115511417388916\n"
     ]
    },
    {
     "name": "stderr",
     "output_type": "stream",
     "text": [
      "INFO:root:Evaluating accuracy on dev set\n",
      "INFO:root:new model saved\n",
      "INFO:root:Train loss: 1.1213363028954768 - acc: 0.5857471563842722 -- Validation loss: 1.1219585623059953 - acc: 0.5423274521651115\n",
      " 17%|█▋        | 5/30 [00:12<01:00,  2.43s/it]"
     ]
    },
    {
     "name": "stdout",
     "output_type": "stream",
     "text": [
      "Epoch : 5 , Loss : 1.1213363028954768\n",
      "Epoch : 5, Validation Iteration : 1 , Loss : 1.1215929985046387\n",
      "Epoch : 5, Validation Loss : 1.1219585623059953\n",
      "Epoch : 6, Iteration : 1 , Loss : 1.1165423393249512\n",
      "Epoch : 6, Iteration : 11 , Loss : 1.121941089630127\n",
      "Epoch : 6, Iteration : 21 , Loss : 1.1148509979248047\n",
      "Epoch : 6, Iteration : 31 , Loss : 1.1183685064315796\n",
      "Epoch : 6, Iteration : 41 , Loss : 1.1290168762207031\n",
      "Epoch : 6, Iteration : 51 , Loss : 1.1198784112930298\n",
      "Epoch : 6, Iteration : 61 , Loss : 1.1136707067489624\n"
     ]
    },
    {
     "name": "stderr",
     "output_type": "stream",
     "text": [
      "INFO:root:Evaluating accuracy on dev set\n",
      "INFO:root:new model saved\n",
      "INFO:root:Train loss: 1.119115706803142 - acc: 0.611163514551945 -- Validation loss: 1.1202680213110787 - acc: 0.5548670883463083\n",
      " 20%|██        | 6/30 [00:14<00:58,  2.43s/it]"
     ]
    },
    {
     "name": "stdout",
     "output_type": "stream",
     "text": [
      "Epoch : 6 , Loss : 1.119115706803142\n",
      "Epoch : 6, Validation Iteration : 1 , Loss : 1.1207127571105957\n",
      "Epoch : 6, Validation Loss : 1.1202680213110787\n",
      "Epoch : 7, Iteration : 1 , Loss : 1.1141762733459473\n",
      "Epoch : 7, Iteration : 11 , Loss : 1.11961030960083\n",
      "Epoch : 7, Iteration : 21 , Loss : 1.114055871963501\n",
      "Epoch : 7, Iteration : 31 , Loss : 1.1167936325073242\n",
      "Epoch : 7, Iteration : 41 , Loss : 1.1237754821777344\n",
      "Epoch : 7, Iteration : 51 , Loss : 1.1147732734680176\n",
      "Epoch : 7, Iteration : 61 , Loss : 1.1032371520996094\n"
     ]
    },
    {
     "name": "stderr",
     "output_type": "stream",
     "text": [
      "INFO:root:Evaluating accuracy on dev set\n",
      "INFO:root:new model saved\n",
      "INFO:root:Train loss: 1.1140082625375278 - acc: 0.633683225529056 -- Validation loss: 1.1050234862736292 - acc: 0.5655889116395264\n",
      " 23%|██▎       | 7/30 [00:17<00:55,  2.43s/it]"
     ]
    },
    {
     "name": "stdout",
     "output_type": "stream",
     "text": [
      "Epoch : 7 , Loss : 1.1140082625375278\n",
      "Epoch : 7, Validation Iteration : 1 , Loss : 1.1056482791900635\n",
      "Epoch : 7, Validation Loss : 1.1050234862736292\n",
      "Epoch : 8, Iteration : 1 , Loss : 1.0984469652175903\n",
      "Epoch : 8, Iteration : 11 , Loss : 1.1016530990600586\n",
      "Epoch : 8, Iteration : 21 , Loss : 1.0951228141784668\n",
      "Epoch : 8, Iteration : 31 , Loss : 1.0949740409851074\n",
      "Epoch : 8, Iteration : 41 , Loss : 1.097090244293213\n",
      "Epoch : 8, Iteration : 51 , Loss : 1.0886268615722656\n",
      "Epoch : 8, Iteration : 61 , Loss : 1.0812654495239258\n"
     ]
    },
    {
     "name": "stderr",
     "output_type": "stream",
     "text": [
      "INFO:root:Evaluating accuracy on dev set\n",
      "INFO:root:new model saved\n",
      "INFO:root:Train loss: 1.0921805371408877 - acc: 0.6498274132881253 -- Validation loss: 1.0876358577183314 - acc: 0.5694615939763331\n",
      " 27%|██▋       | 8/30 [00:19<00:53,  2.43s/it]"
     ]
    },
    {
     "name": "stdout",
     "output_type": "stream",
     "text": [
      "Epoch : 8 , Loss : 1.0921805371408877\n",
      "Epoch : 8, Validation Iteration : 1 , Loss : 1.0888727903366089\n",
      "Epoch : 8, Validation Loss : 1.0876358577183314\n",
      "Epoch : 9, Iteration : 1 , Loss : 1.0797841548919678\n",
      "Epoch : 9, Iteration : 11 , Loss : 1.085010051727295\n",
      "Epoch : 9, Iteration : 21 , Loss : 1.0811553001403809\n",
      "Epoch : 9, Iteration : 31 , Loss : 1.082356572151184\n",
      "Epoch : 9, Iteration : 41 , Loss : 1.084640622138977\n",
      "Epoch : 9, Iteration : 51 , Loss : 1.078625202178955\n",
      "Epoch : 9, Iteration : 61 , Loss : 1.0703999996185303\n"
     ]
    },
    {
     "name": "stderr",
     "output_type": "stream",
     "text": [
      "INFO:root:Evaluating accuracy on dev set\n",
      "INFO:root:new model saved\n",
      "INFO:root:Train loss: 1.0789019733235456 - acc: 0.6670046709484471 -- Validation loss: 1.076226796422686 - acc: 0.5765773064408929\n",
      " 30%|███       | 9/30 [00:21<00:51,  2.44s/it]"
     ]
    },
    {
     "name": "stdout",
     "output_type": "stream",
     "text": [
      "Epoch : 9 , Loss : 1.0789019733235456\n",
      "Epoch : 9, Validation Iteration : 1 , Loss : 1.0774482488632202\n",
      "Epoch : 9, Validation Loss : 1.076226796422686\n",
      "Epoch : 10, Iteration : 1 , Loss : 1.0679423809051514\n",
      "Epoch : 10, Iteration : 11 , Loss : 1.0719969272613525\n",
      "Epoch : 10, Iteration : 21 , Loss : 1.067967176437378\n",
      "Epoch : 10, Iteration : 31 , Loss : 1.067084550857544\n",
      "Epoch : 10, Iteration : 41 , Loss : 1.0662379264831543\n",
      "Epoch : 10, Iteration : 51 , Loss : 1.0597853660583496\n",
      "Epoch : 10, Iteration : 61 , Loss : 1.0491917133331299\n"
     ]
    },
    {
     "name": "stderr",
     "output_type": "stream",
     "text": [
      "INFO:root:Evaluating accuracy on dev set\n",
      "INFO:root:new model saved\n",
      "INFO:root:Train loss: 1.062107559563457 - acc: 0.6808048112247705 -- Validation loss: 1.0534405367715018 - acc: 0.5799798912950898\n",
      " 33%|███▎      | 10/30 [00:24<00:48,  2.44s/it]"
     ]
    },
    {
     "name": "stdout",
     "output_type": "stream",
     "text": [
      "Epoch : 10 , Loss : 1.062107559563457\n",
      "Epoch : 10, Validation Iteration : 1 , Loss : 1.0547361373901367\n",
      "Epoch : 10, Validation Loss : 1.0534405367715018\n",
      "Epoch : 11, Iteration : 1 , Loss : 1.0446786880493164\n",
      "Epoch : 11, Iteration : 11 , Loss : 1.0467966794967651\n",
      "Epoch : 11, Iteration : 21 , Loss : 1.0414881706237793\n",
      "Epoch : 11, Iteration : 31 , Loss : 1.0380094051361084\n",
      "Epoch : 11, Iteration : 41 , Loss : 1.0340765714645386\n",
      "Epoch : 11, Iteration : 51 , Loss : 1.026296615600586\n",
      "Epoch : 11, Iteration : 61 , Loss : 1.0135443210601807\n"
     ]
    },
    {
     "name": "stderr",
     "output_type": "stream",
     "text": [
      "INFO:root:Evaluating accuracy on dev set\n",
      "INFO:root:Train loss: 1.0318802180497542 - acc: 0.6901838636979153 -- Validation loss: 1.015706283705575 - acc: 0.5747880715177595\n",
      " 37%|███▋      | 11/30 [00:26<00:46,  2.43s/it]"
     ]
    },
    {
     "name": "stdout",
     "output_type": "stream",
     "text": [
      "Epoch : 11 , Loss : 1.0318802180497542\n",
      "Epoch : 11, Validation Iteration : 1 , Loss : 1.0176362991333008\n",
      "Epoch : 11, Validation Loss : 1.015706283705575\n",
      "Epoch : 12, Iteration : 1 , Loss : 1.0062484741210938\n",
      "Epoch : 12, Iteration : 11 , Loss : 1.0059142112731934\n",
      "Epoch : 12, Iteration : 21 , Loss : 0.9986568689346313\n",
      "Epoch : 12, Iteration : 31 , Loss : 0.9940583109855652\n",
      "Epoch : 12, Iteration : 41 , Loss : 0.9876469969749451\n",
      "Epoch : 12, Iteration : 51 , Loss : 0.9795451164245605\n",
      "Epoch : 12, Iteration : 61 , Loss : 0.9671971797943115\n"
     ]
    },
    {
     "name": "stderr",
     "output_type": "stream",
     "text": [
      "INFO:root:Evaluating accuracy on dev set\n",
      "INFO:root:Train loss: 0.9878237247467041 - acc: 0.6990119867895147 -- Validation loss: 0.9701768415314811 - acc: 0.5760260261213802\n",
      " 40%|████      | 12/30 [00:29<00:43,  2.42s/it]"
     ]
    },
    {
     "name": "stdout",
     "output_type": "stream",
     "text": [
      "Epoch : 12 , Loss : 0.9878237247467041\n",
      "Epoch : 12, Validation Iteration : 1 , Loss : 0.971717357635498\n",
      "Epoch : 12, Validation Loss : 0.9701768415314811\n",
      "Epoch : 13, Iteration : 1 , Loss : 0.9598836898803711\n",
      "Epoch : 13, Iteration : 11 , Loss : 0.9598613977432251\n",
      "Epoch : 13, Iteration : 21 , Loss : 0.9541298747062683\n",
      "Epoch : 13, Iteration : 31 , Loss : 0.9498890042304993\n",
      "Epoch : 13, Iteration : 41 , Loss : 0.9431988000869751\n",
      "Epoch : 13, Iteration : 51 , Loss : 0.9361368417739868\n",
      "Epoch : 13, Iteration : 61 , Loss : 0.9240249991416931\n"
     ]
    },
    {
     "name": "stderr",
     "output_type": "stream",
     "text": [
      "INFO:root:Evaluating accuracy on dev set\n",
      "INFO:root:Train loss: 0.9435320151024971 - acc: 0.7098126032339778 -- Validation loss: 0.9279994198254177 - acc: 0.5798703982026141\n",
      " 43%|████▎     | 13/30 [00:31<00:40,  2.41s/it]"
     ]
    },
    {
     "name": "stdout",
     "output_type": "stream",
     "text": [
      "Epoch : 13 , Loss : 0.9435320151024971\n",
      "Epoch : 13, Validation Iteration : 1 , Loss : 0.9292274117469788\n",
      "Epoch : 13, Validation Loss : 0.9279994198254177\n",
      "Epoch : 14, Iteration : 1 , Loss : 0.9171301126480103\n",
      "Epoch : 14, Iteration : 11 , Loss : 0.9167314171791077\n",
      "Epoch : 14, Iteration : 21 , Loss : 0.9106388092041016\n",
      "Epoch : 14, Iteration : 31 , Loss : 0.9044561386108398\n",
      "Epoch : 14, Iteration : 41 , Loss : 0.8958839178085327\n",
      "Epoch : 14, Iteration : 51 , Loss : 0.8875192999839783\n",
      "Epoch : 14, Iteration : 61 , Loss : 0.8742478489875793\n"
     ]
    },
    {
     "name": "stderr",
     "output_type": "stream",
     "text": [
      "INFO:root:Evaluating accuracy on dev set\n",
      "INFO:root:new model saved\n",
      "INFO:root:Train loss: 0.8971458466156669 - acc: 0.7189189062309778 -- Validation loss: 0.876812926360539 - acc: 0.5822799155102615\n",
      " 47%|████▋     | 14/30 [00:33<00:38,  2.42s/it]"
     ]
    },
    {
     "name": "stdout",
     "output_type": "stream",
     "text": [
      "Epoch : 14 , Loss : 0.8971458466156669\n",
      "Epoch : 14, Validation Iteration : 1 , Loss : 0.877511739730835\n",
      "Epoch : 14, Validation Loss : 0.876812926360539\n",
      "Epoch : 15, Iteration : 1 , Loss : 0.8657904863357544\n",
      "Epoch : 15, Iteration : 11 , Loss : 0.8642107248306274\n",
      "Epoch : 15, Iteration : 21 , Loss : 0.8575103282928467\n",
      "Epoch : 15, Iteration : 31 , Loss : 0.8504655361175537\n",
      "Epoch : 15, Iteration : 41 , Loss : 0.8410121202468872\n",
      "Epoch : 15, Iteration : 51 , Loss : 0.8321884870529175\n",
      "Epoch : 15, Iteration : 61 , Loss : 0.818930983543396\n"
     ]
    },
    {
     "name": "stderr",
     "output_type": "stream",
     "text": [
      "INFO:root:Evaluating accuracy on dev set\n",
      "INFO:root:new model saved\n",
      "INFO:root:Train loss: 0.8429855643839076 - acc: 0.7250847443404786 -- Validation loss: 0.8213739480291095 - acc: 0.5829103708471328\n",
      " 50%|█████     | 15/30 [00:36<00:36,  2.42s/it]"
     ]
    },
    {
     "name": "stdout",
     "output_type": "stream",
     "text": [
      "Epoch : 15 , Loss : 0.8429855643839076\n",
      "Epoch : 15, Validation Iteration : 1 , Loss : 0.8219001889228821\n",
      "Epoch : 15, Validation Loss : 0.8213739480291095\n",
      "Epoch : 16, Iteration : 1 , Loss : 0.8098745942115784\n",
      "Epoch : 16, Iteration : 11 , Loss : 0.8070365190505981\n",
      "Epoch : 16, Iteration : 21 , Loss : 0.8008175492286682\n",
      "Epoch : 16, Iteration : 31 , Loss : 0.7940599918365479\n",
      "Epoch : 16, Iteration : 41 , Loss : 0.7844961881637573\n",
      "Epoch : 16, Iteration : 51 , Loss : 0.7776244878768921\n",
      "Epoch : 16, Iteration : 61 , Loss : 0.7664816379547119\n"
     ]
    },
    {
     "name": "stderr",
     "output_type": "stream",
     "text": [
      "INFO:root:Evaluating accuracy on dev set\n",
      "INFO:root:new model saved\n",
      "INFO:root:Train loss: 0.7875235288039498 - acc: 0.7316588707575443 -- Validation loss: 0.7704156807490757 - acc: 0.5839410515464765\n",
      " 53%|█████▎    | 16/30 [00:38<00:34,  2.43s/it]"
     ]
    },
    {
     "name": "stdout",
     "output_type": "stream",
     "text": [
      "Epoch : 16 , Loss : 0.7875235288039498\n",
      "Epoch : 16, Validation Iteration : 1 , Loss : 0.7703225612640381\n",
      "Epoch : 16, Validation Loss : 0.7704156807490757\n",
      "Epoch : 17, Iteration : 1 , Loss : 0.7589787840843201\n",
      "Epoch : 17, Iteration : 11 , Loss : 0.7574421763420105\n",
      "Epoch : 17, Iteration : 21 , Loss : 0.753338098526001\n",
      "Epoch : 17, Iteration : 31 , Loss : 0.7489068508148193\n",
      "Epoch : 17, Iteration : 41 , Loss : 0.7403907775878906\n",
      "Epoch : 17, Iteration : 51 , Loss : 0.7356419563293457\n",
      "Epoch : 17, Iteration : 61 , Loss : 0.7271403074264526\n"
     ]
    },
    {
     "name": "stderr",
     "output_type": "stream",
     "text": [
      "INFO:root:Evaluating accuracy on dev set\n",
      "INFO:root:Train loss: 0.7427341134651847 - acc: 0.7388958204364918 -- Validation loss: 0.7325408288410732 - acc: 0.5816427005142581\n",
      " 57%|█████▋    | 17/30 [00:41<00:31,  2.42s/it]"
     ]
    },
    {
     "name": "stdout",
     "output_type": "stream",
     "text": [
      "Epoch : 17 , Loss : 0.7427341134651847\n",
      "Epoch : 17, Validation Iteration : 1 , Loss : 0.7319071888923645\n",
      "Epoch : 17, Validation Loss : 0.7325408288410732\n",
      "Epoch : 18, Iteration : 1 , Loss : 0.7210054397583008\n",
      "Epoch : 18, Iteration : 11 , Loss : 0.7206435799598694\n",
      "Epoch : 18, Iteration : 21 , Loss : 0.7178667783737183\n",
      "Epoch : 18, Iteration : 31 , Loss : 0.7152338027954102\n",
      "Epoch : 18, Iteration : 41 , Loss : 0.7079761028289795\n",
      "Epoch : 18, Iteration : 51 , Loss : 0.7053046226501465\n",
      "Epoch : 18, Iteration : 61 , Loss : 0.6985695362091064\n"
     ]
    },
    {
     "name": "stderr",
     "output_type": "stream",
     "text": [
      "INFO:root:Evaluating accuracy on dev set\n",
      "INFO:root:Train loss: 0.7096479699231576 - acc: 0.7455238954436895 -- Validation loss: 0.705005407333374 - acc: 0.5838930646593707\n",
      " 60%|██████    | 18/30 [00:43<00:28,  2.41s/it]"
     ]
    },
    {
     "name": "stdout",
     "output_type": "stream",
     "text": [
      "Epoch : 18 , Loss : 0.7096479699231576\n",
      "Epoch : 18, Validation Iteration : 1 , Loss : 0.7042622566223145\n",
      "Epoch : 18, Validation Loss : 0.705005407333374\n",
      "Epoch : 19, Iteration : 1 , Loss : 0.6932448148727417\n",
      "Epoch : 19, Iteration : 11 , Loss : 0.6947768926620483\n",
      "Epoch : 19, Iteration : 21 , Loss : 0.6934314966201782\n",
      "Epoch : 19, Iteration : 31 , Loss : 0.692524790763855\n",
      "Epoch : 19, Iteration : 41 , Loss : 0.6866881251335144\n",
      "Epoch : 19, Iteration : 51 , Loss : 0.6857177019119263\n",
      "Epoch : 19, Iteration : 61 , Loss : 0.6809197664260864\n"
     ]
    },
    {
     "name": "stderr",
     "output_type": "stream",
     "text": [
      "INFO:root:Evaluating accuracy on dev set\n",
      "INFO:root:Train loss: 0.6874598662058512 - acc: 0.7519306879489758 -- Validation loss: 0.6886944345065525 - acc: 0.5826365042613072\n",
      " 63%|██████▎   | 19/30 [00:46<00:26,  2.41s/it]"
     ]
    },
    {
     "name": "stdout",
     "output_type": "stream",
     "text": [
      "Epoch : 19 , Loss : 0.6874598662058512\n",
      "Epoch : 19, Validation Iteration : 1 , Loss : 0.6877366900444031\n",
      "Epoch : 19, Validation Loss : 0.6886944345065525\n",
      "Epoch : 20, Iteration : 1 , Loss : 0.6765193343162537\n",
      "Epoch : 20, Iteration : 11 , Loss : 0.6798334121704102\n",
      "Epoch : 20, Iteration : 21 , Loss : 0.6791205406188965\n",
      "Epoch : 20, Iteration : 31 , Loss : 0.6798027753829956\n",
      "Epoch : 20, Iteration : 41 , Loss : 0.6748210191726685\n",
      "Epoch : 20, Iteration : 51 , Loss : 0.6750154495239258\n",
      "Epoch : 20, Iteration : 61 , Loss : 0.6710216999053955\n"
     ]
    },
    {
     "name": "stderr",
     "output_type": "stream",
     "text": [
      "INFO:root:Evaluating accuracy on dev set\n",
      "INFO:root:Train loss: 0.6748849991439045 - acc: 0.7574072392730565 -- Validation loss: 0.6796505110604423 - acc: 0.5831708519693306\n",
      " 67%|██████▋   | 20/30 [00:48<00:24,  2.41s/it]"
     ]
    },
    {
     "name": "stdout",
     "output_type": "stream",
     "text": [
      "Epoch : 20 , Loss : 0.6748849991439045\n",
      "Epoch : 20, Validation Iteration : 1 , Loss : 0.6790271401405334\n",
      "Epoch : 20, Validation Loss : 0.6796505110604423\n",
      "Epoch : 21, Iteration : 1 , Loss : 0.6672340631484985\n",
      "Epoch : 21, Iteration : 11 , Loss : 0.6712014079093933\n",
      "Epoch : 21, Iteration : 21 , Loss : 0.6706559658050537\n",
      "Epoch : 21, Iteration : 31 , Loss : 0.672139585018158\n",
      "Epoch : 21, Iteration : 41 , Loss : 0.6671490669250488\n",
      "Epoch : 21, Iteration : 51 , Loss : 0.6679643392562866\n",
      "Epoch : 21, Iteration : 61 , Loss : 0.6641892194747925\n"
     ]
    },
    {
     "name": "stderr",
     "output_type": "stream",
     "text": [
      "INFO:root:Evaluating accuracy on dev set\n",
      "INFO:root:Train loss: 0.6671188309572745 - acc: 0.762519614375365 -- Validation loss: 0.6733219538416181 - acc: 0.5834454547556557\n",
      " 70%|███████   | 21/30 [00:50<00:21,  2.39s/it]"
     ]
    },
    {
     "name": "stdout",
     "output_type": "stream",
     "text": [
      "Epoch : 21 , Loss : 0.6671188309572745\n",
      "Epoch : 21, Validation Iteration : 1 , Loss : 0.6730024814605713\n",
      "Epoch : 21, Validation Loss : 0.6733219538416181\n",
      "Epoch : 22, Iteration : 1 , Loss : 0.6606476306915283\n",
      "Epoch : 22, Iteration : 11 , Loss : 0.6647630929946899\n",
      "Epoch : 22, Iteration : 21 , Loss : 0.6640668511390686\n",
      "Epoch : 22, Iteration : 31 , Loss : 0.6653905510902405\n",
      "Epoch : 22, Iteration : 41 , Loss : 0.6598252058029175\n",
      "Epoch : 22, Iteration : 51 , Loss : 0.6606494188308716\n",
      "Epoch : 22, Iteration : 61 , Loss : 0.6562261581420898\n"
     ]
    },
    {
     "name": "stderr",
     "output_type": "stream",
     "text": [
      "INFO:root:Evaluating accuracy on dev set\n",
      "INFO:root:Train loss: 0.6600518537604291 - acc: 0.7671568966946964 -- Validation loss: 0.6650594132287162 - acc: 0.5827252498851597\n",
      " 73%|███████▎  | 22/30 [00:53<00:19,  2.39s/it]"
     ]
    },
    {
     "name": "stdout",
     "output_type": "stream",
     "text": [
      "Epoch : 22 , Loss : 0.6600518537604291\n",
      "Epoch : 22, Validation Iteration : 1 , Loss : 0.6651159524917603\n",
      "Epoch : 22, Validation Loss : 0.6650594132287162\n",
      "Epoch : 23, Iteration : 1 , Loss : 0.6520621180534363\n",
      "Epoch : 23, Iteration : 11 , Loss : 0.6551612615585327\n",
      "Epoch : 23, Iteration : 21 , Loss : 0.6533006429672241\n",
      "Epoch : 23, Iteration : 31 , Loss : 0.6535854339599609\n",
      "Epoch : 23, Iteration : 41 , Loss : 0.6465548276901245\n",
      "Epoch : 23, Iteration : 51 , Loss : 0.6468718647956848\n",
      "Epoch : 23, Iteration : 61 , Loss : 0.6417721509933472\n"
     ]
    },
    {
     "name": "stderr",
     "output_type": "stream",
     "text": [
      "INFO:root:Evaluating accuracy on dev set\n",
      "INFO:root:Train loss: 0.6479586708372918 - acc: 0.7712101361928265 -- Validation loss: 0.6506093314715794 - acc: 0.5804283043266225\n",
      " 77%|███████▋  | 23/30 [00:55<00:16,  2.39s/it]"
     ]
    },
    {
     "name": "stdout",
     "output_type": "stream",
     "text": [
      "Epoch : 23 , Loss : 0.6479586708372918\n",
      "Epoch : 23, Validation Iteration : 1 , Loss : 0.6507648229598999\n",
      "Epoch : 23, Validation Loss : 0.6506093314715794\n",
      "Epoch : 24, Iteration : 1 , Loss : 0.637374997138977\n",
      "Epoch : 24, Iteration : 11 , Loss : 0.6402392983436584\n",
      "Epoch : 24, Iteration : 21 , Loss : 0.6384384036064148\n",
      "Epoch : 24, Iteration : 31 , Loss : 0.6393302083015442\n",
      "Epoch : 24, Iteration : 41 , Loss : 0.6325140595436096\n",
      "Epoch : 24, Iteration : 51 , Loss : 0.6337519884109497\n",
      "Epoch : 24, Iteration : 61 , Loss : 0.6292648315429688\n"
     ]
    },
    {
     "name": "stderr",
     "output_type": "stream",
     "text": [
      "INFO:root:Evaluating accuracy on dev set\n",
      "INFO:root:Train loss: 0.6340910809627478 - acc: 0.7749131901412213 -- Validation loss: 0.6391131111553737 - acc: 0.5774833015465433\n",
      " 80%|████████  | 24/30 [00:57<00:14,  2.39s/it]"
     ]
    },
    {
     "name": "stdout",
     "output_type": "stream",
     "text": [
      "Epoch : 24 , Loss : 0.6340910809627478\n",
      "Epoch : 24, Validation Iteration : 1 , Loss : 0.6392878293991089\n",
      "Epoch : 24, Validation Loss : 0.6391131111553737\n",
      "Epoch : 25, Iteration : 1 , Loss : 0.6255961060523987\n",
      "Epoch : 25, Iteration : 11 , Loss : 0.6290464401245117\n",
      "Epoch : 25, Iteration : 21 , Loss : 0.6279716491699219\n",
      "Epoch : 25, Iteration : 31 , Loss : 0.6293680667877197\n",
      "Epoch : 25, Iteration : 41 , Loss : 0.6227935552597046\n",
      "Epoch : 25, Iteration : 51 , Loss : 0.6250656843185425\n",
      "Epoch : 25, Iteration : 61 , Loss : 0.6208672523498535\n"
     ]
    },
    {
     "name": "stderr",
     "output_type": "stream",
     "text": [
      "INFO:root:Evaluating accuracy on dev set\n",
      "INFO:root:Train loss: 0.624327944672626 - acc: 0.7782027522282152 -- Validation loss: 0.6314593298094613 - acc: 0.576231693770022\n",
      " 83%|████████▎ | 25/30 [01:00<00:11,  2.39s/it]"
     ]
    },
    {
     "name": "stdout",
     "output_type": "stream",
     "text": [
      "Epoch : 25 , Loss : 0.624327944672626\n",
      "Epoch : 25, Validation Iteration : 1 , Loss : 0.6315778493881226\n",
      "Epoch : 25, Validation Loss : 0.6314593298094613\n",
      "Epoch : 26, Iteration : 1 , Loss : 0.6177522540092468\n",
      "Epoch : 26, Iteration : 11 , Loss : 0.6215270161628723\n",
      "Epoch : 26, Iteration : 21 , Loss : 0.6206349730491638\n",
      "Epoch : 26, Iteration : 31 , Loss : 0.6224315166473389\n",
      "Epoch : 26, Iteration : 41 , Loss : 0.6158664226531982\n",
      "Epoch : 26, Iteration : 51 , Loss : 0.6186270713806152\n",
      "Epoch : 26, Iteration : 61 , Loss : 0.6145204901695251\n"
     ]
    },
    {
     "name": "stderr",
     "output_type": "stream",
     "text": [
      "INFO:root:Evaluating accuracy on dev set\n",
      "INFO:root:Train loss: 0.6174422649369724 - acc: 0.7808515997061534 -- Validation loss: 0.6256009255136762 - acc: 0.5751259875470442\n",
      " 87%|████████▋ | 26/30 [01:02<00:09,  2.39s/it]"
     ]
    },
    {
     "name": "stdout",
     "output_type": "stream",
     "text": [
      "Epoch : 26 , Loss : 0.6174422649369724\n",
      "Epoch : 26, Validation Iteration : 1 , Loss : 0.6256056427955627\n",
      "Epoch : 26, Validation Loss : 0.6256009255136762\n",
      "Epoch : 27, Iteration : 1 , Loss : 0.6116899251937866\n",
      "Epoch : 27, Iteration : 11 , Loss : 0.615649402141571\n",
      "Epoch : 27, Iteration : 21 , Loss : 0.6146670579910278\n",
      "Epoch : 27, Iteration : 31 , Loss : 0.6164745092391968\n",
      "Epoch : 27, Iteration : 41 , Loss : 0.6095397472381592\n",
      "Epoch : 27, Iteration : 51 , Loss : 0.6127009391784668\n",
      "Epoch : 27, Iteration : 61 , Loss : 0.608328104019165\n"
     ]
    },
    {
     "name": "stderr",
     "output_type": "stream",
     "text": [
      "INFO:root:Evaluating accuracy on dev set\n",
      "INFO:root:Train loss: 0.6114102178725643 - acc: 0.7834776135345501 -- Validation loss: 0.619411826133728 - acc: 0.5728685960335271\n",
      " 90%|█████████ | 27/30 [01:05<00:07,  2.38s/it]"
     ]
    },
    {
     "name": "stdout",
     "output_type": "stream",
     "text": [
      "Epoch : 27 , Loss : 0.6114102178725643\n",
      "Epoch : 27, Validation Iteration : 1 , Loss : 0.6191673278808594\n",
      "Epoch : 27, Validation Loss : 0.619411826133728\n",
      "Epoch : 28, Iteration : 1 , Loss : 0.6052125692367554\n",
      "Epoch : 28, Iteration : 11 , Loss : 0.6089892387390137\n",
      "Epoch : 28, Iteration : 21 , Loss : 0.6075748205184937\n",
      "Epoch : 28, Iteration : 31 , Loss : 0.6093615889549255\n",
      "Epoch : 28, Iteration : 41 , Loss : 0.6020824909210205\n",
      "Epoch : 28, Iteration : 51 , Loss : 0.6055779457092285\n",
      "Epoch : 28, Iteration : 61 , Loss : 0.6015475988388062\n"
     ]
    },
    {
     "name": "stderr",
     "output_type": "stream",
     "text": [
      "INFO:root:Evaluating accuracy on dev set\n",
      "INFO:root:Train loss: 0.6044713068699491 - acc: 0.7853870353100008 -- Validation loss: 0.6132937840053013 - acc: 0.5685444889358716\n",
      " 93%|█████████▎| 28/30 [01:07<00:04,  2.38s/it]"
     ]
    },
    {
     "name": "stdout",
     "output_type": "stream",
     "text": [
      "Epoch : 28 , Loss : 0.6044713068699491\n",
      "Epoch : 28, Validation Iteration : 1 , Loss : 0.612817108631134\n",
      "Epoch : 28, Validation Loss : 0.6132937840053013\n",
      "Epoch : 29, Iteration : 1 , Loss : 0.5987502336502075\n",
      "Epoch : 29, Iteration : 11 , Loss : 0.6032560467720032\n",
      "Epoch : 29, Iteration : 21 , Loss : 0.6025789976119995\n",
      "Epoch : 29, Iteration : 31 , Loss : 0.6045774221420288\n",
      "Epoch : 29, Iteration : 41 , Loss : 0.5976521968841553\n",
      "Epoch : 29, Iteration : 51 , Loss : 0.6019055843353271\n",
      "Epoch : 29, Iteration : 61 , Loss : 0.5980889201164246\n"
     ]
    },
    {
     "name": "stderr",
     "output_type": "stream",
     "text": [
      "INFO:root:Evaluating accuracy on dev set\n",
      "INFO:root:Train loss: 0.599815629530644 - acc: 0.7875428902915409 -- Validation loss: 0.6099787609917777 - acc: 0.5734263683028993\n",
      " 97%|█████████▋| 29/30 [01:09<00:02,  2.38s/it]"
     ]
    },
    {
     "name": "stdout",
     "output_type": "stream",
     "text": [
      "Epoch : 29 , Loss : 0.599815629530644\n",
      "Epoch : 29, Validation Iteration : 1 , Loss : 0.609845757484436\n",
      "Epoch : 29, Validation Loss : 0.6099787609917777\n",
      "Epoch : 30, Iteration : 1 , Loss : 0.595293402671814\n",
      "Epoch : 30, Iteration : 11 , Loss : 0.6001132130622864\n",
      "Epoch : 30, Iteration : 21 , Loss : 0.5990874171257019\n",
      "Epoch : 30, Iteration : 31 , Loss : 0.6017172336578369\n",
      "Epoch : 30, Iteration : 41 , Loss : 0.5944383144378662\n",
      "Epoch : 30, Iteration : 51 , Loss : 0.599068284034729\n",
      "Epoch : 30, Iteration : 61 , Loss : 0.5951906442642212\n"
     ]
    },
    {
     "name": "stderr",
     "output_type": "stream",
     "text": [
      "INFO:root:Evaluating accuracy on dev set\n",
      "INFO:root:Train loss: 0.5968023512674414 - acc: 0.7886701949710102 -- Validation loss: 0.607638588973454 - acc: 0.5664475222039341\n",
      "100%|██████████| 30/30 [01:12<00:00,  2.41s/it]\n"
     ]
    },
    {
     "name": "stdout",
     "output_type": "stream",
     "text": [
      "Epoch : 30 , Loss : 0.5968023512674414\n",
      "Epoch : 30, Validation Iteration : 1 , Loss : 0.6067770719528198\n",
      "Epoch : 30, Validation Loss : 0.607638588973454\n"
     ]
    },
    {
     "name": "stderr",
     "output_type": "stream",
     "text": [
      "\r",
      "  0%|          | 0/30 [00:00<?, ?it/s]"
     ]
    },
    {
     "name": "stdout",
     "output_type": "stream",
     "text": [
      "Epoch : 1, Iteration : 1 , Loss : 1.1996259689331055\n",
      "Epoch : 1, Iteration : 11 , Loss : 1.1480212211608887\n",
      "Epoch : 1, Iteration : 21 , Loss : 1.11871337890625\n",
      "Epoch : 1, Iteration : 31 , Loss : 1.13215172290802\n",
      "Epoch : 1, Iteration : 41 , Loss : 1.1260714530944824\n",
      "Epoch : 1, Iteration : 51 , Loss : 1.1258362531661987\n",
      "Epoch : 1, Iteration : 61 , Loss : 1.0913724899291992\n"
     ]
    },
    {
     "name": "stderr",
     "output_type": "stream",
     "text": [
      "INFO:root:Evaluating accuracy on dev set\n",
      "INFO:root:new model saved\n",
      "INFO:root:Train loss: 1.128139879392541 - acc: 0.44791624220414883 -- Validation loss: 1.127418807574681 - acc: 0.4634689340939179\n",
      "  3%|▎         | 1/30 [00:02<01:10,  2.42s/it]"
     ]
    },
    {
     "name": "stdout",
     "output_type": "stream",
     "text": [
      "Epoch : 1 , Loss : 1.128139879392541\n",
      "Epoch : 1, Validation Iteration : 1 , Loss : 1.1175199747085571\n",
      "Epoch : 1, Validation Loss : 1.127418807574681\n",
      "Epoch : 2, Iteration : 1 , Loss : 1.134634256362915\n",
      "Epoch : 2, Iteration : 11 , Loss : 1.0911200046539307\n",
      "Epoch : 2, Iteration : 21 , Loss : 1.0676207542419434\n",
      "Epoch : 2, Iteration : 31 , Loss : 1.0786237716674805\n",
      "Epoch : 2, Iteration : 41 , Loss : 1.0630993843078613\n",
      "Epoch : 2, Iteration : 51 , Loss : 1.0664865970611572\n",
      "Epoch : 2, Iteration : 61 , Loss : 1.0419334173202515\n"
     ]
    },
    {
     "name": "stderr",
     "output_type": "stream",
     "text": [
      "INFO:root:Evaluating accuracy on dev set\n",
      "INFO:root:new model saved\n",
      "INFO:root:Train loss: 1.0699997311053069 - acc: 0.4924761803052398 -- Validation loss: 1.0166885682514735 - acc: 0.47204065036459597\n",
      "  7%|▋         | 2/30 [00:04<01:08,  2.43s/it]"
     ]
    },
    {
     "name": "stdout",
     "output_type": "stream",
     "text": [
      "Epoch : 2 , Loss : 1.0699997311053069\n",
      "Epoch : 2, Validation Iteration : 1 , Loss : 1.0221765041351318\n",
      "Epoch : 2, Validation Loss : 1.0166885682514735\n",
      "Epoch : 3, Iteration : 1 , Loss : 1.0204459428787231\n",
      "Epoch : 3, Iteration : 11 , Loss : 0.9309828281402588\n",
      "Epoch : 3, Iteration : 21 , Loss : 0.8463945388793945\n",
      "Epoch : 3, Iteration : 31 , Loss : 0.740759015083313\n",
      "Epoch : 3, Iteration : 41 , Loss : 0.6833767890930176\n",
      "Epoch : 3, Iteration : 51 , Loss : 0.6430956125259399\n",
      "Epoch : 3, Iteration : 61 , Loss : 0.625262975692749\n"
     ]
    },
    {
     "name": "stderr",
     "output_type": "stream",
     "text": [
      "INFO:root:Evaluating accuracy on dev set\n",
      "INFO:root:new model saved\n",
      "INFO:root:Train loss: 0.7633831259133159 - acc: 0.5553792416320502 -- Validation loss: 0.6329947028841291 - acc: 0.4976450344651098\n",
      " 10%|█         | 3/30 [00:07<01:05,  2.44s/it]"
     ]
    },
    {
     "name": "stdout",
     "output_type": "stream",
     "text": [
      "Epoch : 3 , Loss : 0.7633831259133159\n",
      "Epoch : 3, Validation Iteration : 1 , Loss : 0.6217284202575684\n",
      "Epoch : 3, Validation Loss : 0.6329947028841291\n",
      "Epoch : 4, Iteration : 1 , Loss : 0.6127495169639587\n",
      "Epoch : 4, Iteration : 11 , Loss : 0.624384343624115\n",
      "Epoch : 4, Iteration : 21 , Loss : 0.6098437309265137\n",
      "Epoch : 4, Iteration : 31 , Loss : 0.6128066182136536\n",
      "Epoch : 4, Iteration : 41 , Loss : 0.6009737253189087\n",
      "Epoch : 4, Iteration : 51 , Loss : 0.6118893623352051\n",
      "Epoch : 4, Iteration : 61 , Loss : 0.6029329895973206\n"
     ]
    },
    {
     "name": "stderr",
     "output_type": "stream",
     "text": [
      "INFO:root:Evaluating accuracy on dev set\n",
      "INFO:root:new model saved\n",
      "INFO:root:Train loss: 0.6153351552244546 - acc: 0.5938538857333222 -- Validation loss: 0.6128495591027396 - acc: 0.5156506916460534\n",
      " 13%|█▎        | 4/30 [00:09<01:03,  2.44s/it]"
     ]
    },
    {
     "name": "stdout",
     "output_type": "stream",
     "text": [
      "Epoch : 4 , Loss : 0.6153351552244546\n",
      "Epoch : 4, Validation Iteration : 1 , Loss : 0.6090102791786194\n",
      "Epoch : 4, Validation Loss : 0.6128495591027396\n",
      "Epoch : 5, Iteration : 1 , Loss : 0.5995444059371948\n",
      "Epoch : 5, Iteration : 11 , Loss : 0.606480062007904\n",
      "Epoch : 5, Iteration : 21 , Loss : 0.5996084213256836\n",
      "Epoch : 5, Iteration : 31 , Loss : 0.6097134351730347\n",
      "Epoch : 5, Iteration : 41 , Loss : 0.60469651222229\n",
      "Epoch : 5, Iteration : 51 , Loss : 0.5995399951934814\n",
      "Epoch : 5, Iteration : 61 , Loss : 0.5990020632743835\n"
     ]
    },
    {
     "name": "stderr",
     "output_type": "stream",
     "text": [
      "INFO:root:Evaluating accuracy on dev set\n",
      "INFO:root:Train loss: 0.6060301238212032 - acc: 0.6010937073455472 -- Validation loss: 0.6099606922694615 - acc: 0.4983216027241791\n",
      " 17%|█▋        | 5/30 [00:12<01:00,  2.43s/it]"
     ]
    },
    {
     "name": "stdout",
     "output_type": "stream",
     "text": [
      "Epoch : 5 , Loss : 0.6060301238212032\n",
      "Epoch : 5, Validation Iteration : 1 , Loss : 0.6075847148895264\n",
      "Epoch : 5, Validation Loss : 0.6099606922694615\n",
      "Epoch : 6, Iteration : 1 , Loss : 0.6195418834686279\n",
      "Epoch : 6, Iteration : 11 , Loss : 0.6062636375427246\n",
      "Epoch : 6, Iteration : 21 , Loss : 0.5983860492706299\n",
      "Epoch : 6, Iteration : 31 , Loss : 0.6111747026443481\n",
      "Epoch : 6, Iteration : 41 , Loss : 0.5942785739898682\n",
      "Epoch : 6, Iteration : 51 , Loss : 0.593536376953125\n",
      "Epoch : 6, Iteration : 61 , Loss : 0.5906389951705933\n"
     ]
    },
    {
     "name": "stderr",
     "output_type": "stream",
     "text": [
      "INFO:root:Evaluating accuracy on dev set\n",
      "INFO:root:new model saved\n",
      "INFO:root:Train loss: 0.6008022799008135 - acc: 0.6219026906663172 -- Validation loss: 0.6059846026556832 - acc: 0.539922218205825\n",
      " 20%|██        | 6/30 [00:14<00:58,  2.44s/it]"
     ]
    },
    {
     "name": "stdout",
     "output_type": "stream",
     "text": [
      "Epoch : 6 , Loss : 0.6008022799008135\n",
      "Epoch : 6, Validation Iteration : 1 , Loss : 0.6003104448318481\n",
      "Epoch : 6, Validation Loss : 0.6059846026556832\n",
      "Epoch : 7, Iteration : 1 , Loss : 0.5925055742263794\n",
      "Epoch : 7, Iteration : 11 , Loss : 1.0435668230056763\n",
      "Epoch : 7, Iteration : 21 , Loss : 0.980500340461731\n",
      "Epoch : 7, Iteration : 31 , Loss : 0.9761121273040771\n",
      "Epoch : 7, Iteration : 41 , Loss : 0.9398521184921265\n",
      "Epoch : 7, Iteration : 51 , Loss : 0.9202588796615601\n",
      "Epoch : 7, Iteration : 61 , Loss : 0.8981654644012451\n"
     ]
    },
    {
     "name": "stderr",
     "output_type": "stream",
     "text": [
      "INFO:root:Evaluating accuracy on dev set\n",
      "INFO:root:Train loss: 0.9628102140150209 - acc: 0.6148666831042098 -- Validation loss: 0.9119336094175067 - acc: 0.5179233425881061\n",
      " 23%|██▎       | 7/30 [00:17<00:55,  2.43s/it]"
     ]
    },
    {
     "name": "stdout",
     "output_type": "stream",
     "text": [
      "Epoch : 7 , Loss : 0.9628102140150209\n",
      "Epoch : 7, Validation Iteration : 1 , Loss : 0.9085642099380493\n",
      "Epoch : 7, Validation Loss : 0.9119336094175067\n",
      "Epoch : 8, Iteration : 1 , Loss : 0.9020595550537109\n",
      "Epoch : 8, Iteration : 11 , Loss : 0.8888585567474365\n",
      "Epoch : 8, Iteration : 21 , Loss : 0.8696496486663818\n",
      "Epoch : 8, Iteration : 31 , Loss : 0.8671286106109619\n",
      "Epoch : 8, Iteration : 41 , Loss : 0.85964035987854\n",
      "Epoch : 8, Iteration : 51 , Loss : 0.8560193777084351\n",
      "Epoch : 8, Iteration : 61 , Loss : 0.8395280241966248\n"
     ]
    },
    {
     "name": "stderr",
     "output_type": "stream",
     "text": [
      "INFO:root:Evaluating accuracy on dev set\n",
      "INFO:root:Train loss: 0.8664493517599244 - acc: 0.6420725965051892 -- Validation loss: 0.8393785272325788 - acc: 0.534619566789656\n",
      " 27%|██▋       | 8/30 [00:19<00:53,  2.41s/it]"
     ]
    },
    {
     "name": "stdout",
     "output_type": "stream",
     "text": [
      "Epoch : 8 , Loss : 0.8664493517599244\n",
      "Epoch : 8, Validation Iteration : 1 , Loss : 0.8411647081375122\n",
      "Epoch : 8, Validation Loss : 0.8393785272325788\n",
      "Epoch : 9, Iteration : 1 , Loss : 0.8337769508361816\n",
      "Epoch : 9, Iteration : 11 , Loss : 0.8296271562576294\n",
      "Epoch : 9, Iteration : 21 , Loss : 0.8198553919792175\n",
      "Epoch : 9, Iteration : 31 , Loss : 0.826675534248352\n",
      "Epoch : 9, Iteration : 41 , Loss : 0.8065890073776245\n",
      "Epoch : 9, Iteration : 51 , Loss : 0.8016538023948669\n",
      "Epoch : 9, Iteration : 61 , Loss : 0.7973110675811768\n"
     ]
    },
    {
     "name": "stderr",
     "output_type": "stream",
     "text": [
      "INFO:root:Evaluating accuracy on dev set\n",
      "INFO:root:Train loss: 0.8147054884744727 - acc: 0.6565461382717903 -- Validation loss: 0.8005883608545575 - acc: 0.5186235361904784\n",
      " 30%|███       | 9/30 [00:21<00:50,  2.40s/it]"
     ]
    },
    {
     "name": "stdout",
     "output_type": "stream",
     "text": [
      "Epoch : 9 , Loss : 0.8147054884744727\n",
      "Epoch : 9, Validation Iteration : 1 , Loss : 0.8023058772087097\n",
      "Epoch : 9, Validation Loss : 0.8005883608545575\n",
      "Epoch : 10, Iteration : 1 , Loss : 0.7880858182907104\n",
      "Epoch : 10, Iteration : 11 , Loss : 0.7887778282165527\n",
      "Epoch : 10, Iteration : 21 , Loss : 0.7802294492721558\n",
      "Epoch : 10, Iteration : 31 , Loss : 0.7882022857666016\n",
      "Epoch : 10, Iteration : 41 , Loss : 0.777840256690979\n",
      "Epoch : 10, Iteration : 51 , Loss : 0.7749841213226318\n",
      "Epoch : 10, Iteration : 61 , Loss : 0.765850305557251\n"
     ]
    },
    {
     "name": "stderr",
     "output_type": "stream",
     "text": [
      "INFO:root:Evaluating accuracy on dev set\n",
      "INFO:root:Train loss: 0.7781993504883586 - acc: 0.6911636021214786 -- Validation loss: 0.769148085798536 - acc: 0.5363188513972104\n",
      " 33%|███▎      | 10/30 [00:24<00:48,  2.40s/it]"
     ]
    },
    {
     "name": "stdout",
     "output_type": "stream",
     "text": [
      "Epoch : 10 , Loss : 0.7781993504883586\n",
      "Epoch : 10, Validation Iteration : 1 , Loss : 0.7681617140769958\n",
      "Epoch : 10, Validation Loss : 0.769148085798536\n",
      "Epoch : 11, Iteration : 1 , Loss : 0.753198504447937\n",
      "Epoch : 11, Iteration : 11 , Loss : 0.7562497854232788\n",
      "Epoch : 11, Iteration : 21 , Loss : 0.732940673828125\n",
      "Epoch : 11, Iteration : 31 , Loss : 0.8082906007766724\n",
      "Epoch : 11, Iteration : 41 , Loss : 0.7879648208618164\n",
      "Epoch : 11, Iteration : 51 , Loss : 0.7313721179962158\n",
      "Epoch : 11, Iteration : 61 , Loss : 0.7077966928482056\n"
     ]
    },
    {
     "name": "stderr",
     "output_type": "stream",
     "text": [
      "INFO:root:Evaluating accuracy on dev set\n",
      "INFO:root:new model saved\n",
      "INFO:root:Train loss: 0.7502093954362731 - acc: 0.689810696959129 -- Validation loss: 0.6863568595477513 - acc: 0.5411848020625211\n",
      " 37%|███▋      | 11/30 [00:26<00:45,  2.41s/it]"
     ]
    },
    {
     "name": "stdout",
     "output_type": "stream",
     "text": [
      "Epoch : 11 , Loss : 0.7502093954362731\n",
      "Epoch : 11, Validation Iteration : 1 , Loss : 0.6873021125793457\n",
      "Epoch : 11, Validation Loss : 0.6863568595477513\n",
      "Epoch : 12, Iteration : 1 , Loss : 0.6734435558319092\n",
      "Epoch : 12, Iteration : 11 , Loss : 0.6751737594604492\n",
      "Epoch : 12, Iteration : 21 , Loss : 0.6538263559341431\n",
      "Epoch : 12, Iteration : 31 , Loss : 0.6535876989364624\n",
      "Epoch : 12, Iteration : 41 , Loss : 0.6499001383781433\n",
      "Epoch : 12, Iteration : 51 , Loss : 0.6470533013343811\n",
      "Epoch : 12, Iteration : 61 , Loss : 0.6481469869613647\n"
     ]
    },
    {
     "name": "stderr",
     "output_type": "stream",
     "text": [
      "INFO:root:Evaluating accuracy on dev set\n",
      "INFO:root:Train loss: 0.6537768141083096 - acc: 0.6928399130344829 -- Validation loss: 0.6554990070206779 - acc: 0.5337048711326476\n",
      " 40%|████      | 12/30 [00:28<00:43,  2.40s/it]"
     ]
    },
    {
     "name": "stdout",
     "output_type": "stream",
     "text": [
      "Epoch : 12 , Loss : 0.6537768141083096\n",
      "Epoch : 12, Validation Iteration : 1 , Loss : 0.6615871787071228\n",
      "Epoch : 12, Validation Loss : 0.6554990070206779\n",
      "Epoch : 13, Iteration : 1 , Loss : 0.6444686651229858\n",
      "Epoch : 13, Iteration : 11 , Loss : 0.6458684802055359\n",
      "Epoch : 13, Iteration : 21 , Loss : 0.6452246904373169\n",
      "Epoch : 13, Iteration : 31 , Loss : 0.6463494300842285\n",
      "Epoch : 13, Iteration : 41 , Loss : 0.6372231245040894\n",
      "Epoch : 13, Iteration : 51 , Loss : 0.6459964513778687\n",
      "Epoch : 13, Iteration : 61 , Loss : 0.6452199220657349\n"
     ]
    },
    {
     "name": "stderr",
     "output_type": "stream",
     "text": [
      "INFO:root:Evaluating accuracy on dev set\n",
      "INFO:root:Train loss: 0.6450759993083235 - acc: 0.6962191638162251 -- Validation loss: 0.6549780964851379 - acc: 0.49963518519729716\n",
      " 43%|████▎     | 13/30 [00:31<00:40,  2.40s/it]"
     ]
    },
    {
     "name": "stdout",
     "output_type": "stream",
     "text": [
      "Epoch : 13 , Loss : 0.6450759993083235\n",
      "Epoch : 13, Validation Iteration : 1 , Loss : 0.6571409106254578\n",
      "Epoch : 13, Validation Loss : 0.6549780964851379\n",
      "Epoch : 14, Iteration : 1 , Loss : 0.6382686495780945\n",
      "Epoch : 14, Iteration : 11 , Loss : 0.6553431749343872\n",
      "Epoch : 14, Iteration : 21 , Loss : 0.6461486220359802\n",
      "Epoch : 14, Iteration : 31 , Loss : 0.6484601497650146\n",
      "Epoch : 14, Iteration : 41 , Loss : 0.6372714042663574\n",
      "Epoch : 14, Iteration : 51 , Loss : 0.6442526578903198\n",
      "Epoch : 14, Iteration : 61 , Loss : 0.6448072195053101\n"
     ]
    },
    {
     "name": "stderr",
     "output_type": "stream",
     "text": [
      "INFO:root:Evaluating accuracy on dev set\n",
      "INFO:root:Train loss: 0.6437931380410126 - acc: 0.6895959425760739 -- Validation loss: 0.6599838818822589 - acc: 0.4970571449025751\n",
      " 47%|████▋     | 14/30 [00:33<00:38,  2.40s/it]"
     ]
    },
    {
     "name": "stdout",
     "output_type": "stream",
     "text": [
      "Epoch : 14 , Loss : 0.6437931380410126\n",
      "Epoch : 14, Validation Iteration : 1 , Loss : 0.658456027507782\n",
      "Epoch : 14, Validation Loss : 0.6599838818822589\n",
      "Epoch : 15, Iteration : 1 , Loss : 0.6455446481704712\n",
      "Epoch : 15, Iteration : 11 , Loss : 0.648499608039856\n",
      "Epoch : 15, Iteration : 21 , Loss : 0.6412763595581055\n",
      "Epoch : 15, Iteration : 31 , Loss : 0.6494083404541016\n",
      "Epoch : 15, Iteration : 41 , Loss : 0.6373907327651978\n",
      "Epoch : 15, Iteration : 51 , Loss : 0.6468030214309692\n",
      "Epoch : 15, Iteration : 61 , Loss : 0.6402887105941772\n"
     ]
    },
    {
     "name": "stderr",
     "output_type": "stream",
     "text": [
      "INFO:root:Evaluating accuracy on dev set\n",
      "INFO:root:Train loss: 0.642143776451332 - acc: 0.707855203017632 -- Validation loss: 0.6560339842523847 - acc: 0.5154841095512048\n",
      " 50%|█████     | 15/30 [00:36<00:35,  2.40s/it]"
     ]
    },
    {
     "name": "stdout",
     "output_type": "stream",
     "text": [
      "Epoch : 15 , Loss : 0.642143776451332\n",
      "Epoch : 15, Validation Iteration : 1 , Loss : 0.6571328639984131\n",
      "Epoch : 15, Validation Loss : 0.6560339842523847\n",
      "Epoch : 16, Iteration : 1 , Loss : 0.6400853991508484\n",
      "Epoch : 16, Iteration : 11 , Loss : 0.6475077867507935\n",
      "Epoch : 16, Iteration : 21 , Loss : 0.641135573387146\n",
      "Epoch : 16, Iteration : 31 , Loss : 0.6458951234817505\n",
      "Epoch : 16, Iteration : 41 , Loss : 0.6334877014160156\n",
      "Epoch : 16, Iteration : 51 , Loss : 0.6392778754234314\n",
      "Epoch : 16, Iteration : 61 , Loss : 0.6355748176574707\n"
     ]
    },
    {
     "name": "stderr",
     "output_type": "stream",
     "text": [
      "INFO:root:Evaluating accuracy on dev set\n",
      "INFO:root:Train loss: 0.6392262655755748 - acc: 0.72846516807185 -- Validation loss: 0.6513603329658508 - acc: 0.522239418407585\n",
      " 53%|█████▎    | 16/30 [00:38<00:33,  2.39s/it]"
     ]
    },
    {
     "name": "stdout",
     "output_type": "stream",
     "text": [
      "Epoch : 16 , Loss : 0.6392262655755748\n",
      "Epoch : 16, Validation Iteration : 1 , Loss : 0.6498962640762329\n",
      "Epoch : 16, Validation Loss : 0.6513603329658508\n",
      "Epoch : 17, Iteration : 1 , Loss : 0.6328684091567993\n",
      "Epoch : 17, Iteration : 11 , Loss : 0.6373673677444458\n",
      "Epoch : 17, Iteration : 21 , Loss : 0.6360253095626831\n",
      "Epoch : 17, Iteration : 31 , Loss : 0.6414191126823425\n",
      "Epoch : 17, Iteration : 41 , Loss : 0.6321526169776917\n",
      "Epoch : 17, Iteration : 51 , Loss : 0.6389943361282349\n",
      "Epoch : 17, Iteration : 61 , Loss : 0.6351814270019531\n"
     ]
    },
    {
     "name": "stderr",
     "output_type": "stream",
     "text": [
      "INFO:root:Evaluating accuracy on dev set\n",
      "INFO:root:Train loss: 0.6366537800733594 - acc: 0.7426070612964437 -- Validation loss: 0.6512726375034877 - acc: 0.5135521186584806\n",
      " 57%|█████▋    | 17/30 [00:40<00:31,  2.39s/it]"
     ]
    },
    {
     "name": "stdout",
     "output_type": "stream",
     "text": [
      "Epoch : 17 , Loss : 0.6366537800733594\n",
      "Epoch : 17, Validation Iteration : 1 , Loss : 0.6496090888977051\n",
      "Epoch : 17, Validation Loss : 0.6512726375034877\n",
      "Epoch : 18, Iteration : 1 , Loss : 0.6305783987045288\n",
      "Epoch : 18, Iteration : 11 , Loss : 0.6411043405532837\n",
      "Epoch : 18, Iteration : 21 , Loss : 0.6382213234901428\n",
      "Epoch : 18, Iteration : 31 , Loss : 0.6428511142730713\n",
      "Epoch : 18, Iteration : 41 , Loss : 0.6310795545578003\n",
      "Epoch : 18, Iteration : 51 , Loss : 0.638215184211731\n",
      "Epoch : 18, Iteration : 61 , Loss : 0.6367599964141846\n"
     ]
    },
    {
     "name": "stderr",
     "output_type": "stream",
     "text": [
      "INFO:root:Evaluating accuracy on dev set\n",
      "INFO:root:Train loss: 0.6366769619609999 - acc: 0.7337831019604025 -- Validation loss: 0.6500586186136518 - acc: 0.5245093253295942\n",
      " 60%|██████    | 18/30 [00:43<00:28,  2.39s/it]"
     ]
    },
    {
     "name": "stdout",
     "output_type": "stream",
     "text": [
      "Epoch : 18 , Loss : 0.6366769619609999\n",
      "Epoch : 18, Validation Iteration : 1 , Loss : 0.6503465175628662\n",
      "Epoch : 18, Validation Loss : 0.6500586186136518\n",
      "Epoch : 19, Iteration : 1 , Loss : 0.6311331987380981\n",
      "Epoch : 19, Iteration : 11 , Loss : 0.6361360549926758\n",
      "Epoch : 19, Iteration : 21 , Loss : 0.636171281337738\n",
      "Epoch : 19, Iteration : 31 , Loss : 0.6379659175872803\n",
      "Epoch : 19, Iteration : 41 , Loss : 0.6290413737297058\n",
      "Epoch : 19, Iteration : 51 , Loss : 0.6392179727554321\n",
      "Epoch : 19, Iteration : 61 , Loss : 0.6338842511177063\n"
     ]
    },
    {
     "name": "stderr",
     "output_type": "stream",
     "text": [
      "INFO:root:Evaluating accuracy on dev set\n",
      "INFO:root:Train loss: 0.6352233221565468 - acc: 0.7511542390989109 -- Validation loss: 0.6495067732674735 - acc: 0.5049403798515552\n",
      " 63%|██████▎   | 19/30 [00:45<00:26,  2.39s/it]"
     ]
    },
    {
     "name": "stdout",
     "output_type": "stream",
     "text": [
      "Epoch : 19 , Loss : 0.6352233221565468\n",
      "Epoch : 19, Validation Iteration : 1 , Loss : 0.6497994661331177\n",
      "Epoch : 19, Validation Loss : 0.6495067732674735\n",
      "Epoch : 20, Iteration : 1 , Loss : 0.6305871605873108\n",
      "Epoch : 20, Iteration : 11 , Loss : 0.6390244960784912\n",
      "Epoch : 20, Iteration : 21 , Loss : 0.6347794532775879\n",
      "Epoch : 20, Iteration : 31 , Loss : 0.6382207274436951\n",
      "Epoch : 20, Iteration : 41 , Loss : 0.6296184062957764\n",
      "Epoch : 20, Iteration : 51 , Loss : 0.6381171941757202\n",
      "Epoch : 20, Iteration : 61 , Loss : 0.6337201595306396\n"
     ]
    },
    {
     "name": "stderr",
     "output_type": "stream",
     "text": [
      "INFO:root:Evaluating accuracy on dev set\n",
      "INFO:root:Train loss: 0.6354774452637935 - acc: 0.7472758605032136 -- Validation loss: 0.6502599205289569 - acc: 0.48806070787098565\n",
      " 67%|██████▋   | 20/30 [00:48<00:23,  2.39s/it]"
     ]
    },
    {
     "name": "stdout",
     "output_type": "stream",
     "text": [
      "Epoch : 20 , Loss : 0.6354774452637935\n",
      "Epoch : 20, Validation Iteration : 1 , Loss : 0.6528722047805786\n",
      "Epoch : 20, Validation Loss : 0.6502599205289569\n",
      "Epoch : 21, Iteration : 1 , Loss : 0.6342321634292603\n",
      "Epoch : 21, Iteration : 11 , Loss : 0.6452943086624146\n",
      "Epoch : 21, Iteration : 21 , Loss : 0.6340018510818481\n",
      "Epoch : 21, Iteration : 31 , Loss : 0.6404385566711426\n",
      "Epoch : 21, Iteration : 41 , Loss : 0.633913516998291\n",
      "Epoch : 21, Iteration : 51 , Loss : 0.6372320652008057\n",
      "Epoch : 21, Iteration : 61 , Loss : 0.633998692035675\n"
     ]
    },
    {
     "name": "stderr",
     "output_type": "stream",
     "text": [
      "INFO:root:Evaluating accuracy on dev set\n",
      "INFO:root:Train loss: 0.6368760077849679 - acc: 0.7344848387769386 -- Validation loss: 0.6493890626089913 - acc: 0.48577393526480556\n",
      " 70%|███████   | 21/30 [00:50<00:21,  2.39s/it]"
     ]
    },
    {
     "name": "stdout",
     "output_type": "stream",
     "text": [
      "Epoch : 21 , Loss : 0.6368760077849679\n",
      "Epoch : 21, Validation Iteration : 1 , Loss : 0.6527172327041626\n",
      "Epoch : 21, Validation Loss : 0.6493890626089913\n",
      "Epoch : 22, Iteration : 1 , Loss : 0.6315250396728516\n",
      "Epoch : 22, Iteration : 11 , Loss : 0.6535689234733582\n",
      "Epoch : 22, Iteration : 21 , Loss : 0.6346312165260315\n",
      "Epoch : 22, Iteration : 31 , Loss : 0.6391245126724243\n",
      "Epoch : 22, Iteration : 41 , Loss : 0.6255273222923279\n",
      "Epoch : 22, Iteration : 51 , Loss : 0.6280915141105652\n",
      "Epoch : 22, Iteration : 61 , Loss : 0.695699155330658\n"
     ]
    },
    {
     "name": "stderr",
     "output_type": "stream",
     "text": [
      "INFO:root:Evaluating accuracy on dev set\n",
      "INFO:root:Train loss: 0.658911809541177 - acc: 0.7266933517400705 -- Validation loss: 0.8369774307523455 - acc: 0.4475235005472535\n",
      " 73%|███████▎  | 22/30 [00:52<00:19,  2.39s/it]"
     ]
    },
    {
     "name": "stdout",
     "output_type": "stream",
     "text": [
      "Epoch : 22 , Loss : 0.658911809541177\n",
      "Epoch : 22, Validation Iteration : 1 , Loss : 0.8397898077964783\n",
      "Epoch : 22, Validation Loss : 0.8369774307523455\n",
      "Epoch : 23, Iteration : 1 , Loss : 0.8198198080062866\n",
      "Epoch : 23, Iteration : 11 , Loss : 0.7909005880355835\n",
      "Epoch : 23, Iteration : 21 , Loss : 0.7175208330154419\n",
      "Epoch : 23, Iteration : 31 , Loss : 0.7075628042221069\n",
      "Epoch : 23, Iteration : 41 , Loss : 0.6905862092971802\n",
      "Epoch : 23, Iteration : 51 , Loss : 0.6983122825622559\n",
      "Epoch : 23, Iteration : 61 , Loss : 0.689372181892395\n"
     ]
    },
    {
     "name": "stderr",
     "output_type": "stream",
     "text": [
      "INFO:root:Evaluating accuracy on dev set\n",
      "INFO:root:Train loss: 0.7184796385143114 - acc: 0.7104968448521122 -- Validation loss: 0.7073480486869812 - acc: 0.4949916340101631\n",
      " 77%|███████▋  | 23/30 [00:55<00:16,  2.38s/it]"
     ]
    },
    {
     "name": "stdout",
     "output_type": "stream",
     "text": [
      "Epoch : 23 , Loss : 0.7184796385143114\n",
      "Epoch : 23, Validation Iteration : 1 , Loss : 0.7087390422821045\n",
      "Epoch : 23, Validation Loss : 0.7073480486869812\n",
      "Epoch : 24, Iteration : 1 , Loss : 0.6868432760238647\n",
      "Epoch : 24, Iteration : 11 , Loss : 0.69770348072052\n",
      "Epoch : 24, Iteration : 21 , Loss : 0.692215085029602\n",
      "Epoch : 24, Iteration : 31 , Loss : 0.6953969597816467\n",
      "Epoch : 24, Iteration : 41 , Loss : 0.6856065988540649\n",
      "Epoch : 24, Iteration : 51 , Loss : 0.692480742931366\n",
      "Epoch : 24, Iteration : 61 , Loss : 0.6847171783447266\n"
     ]
    },
    {
     "name": "stderr",
     "output_type": "stream",
     "text": [
      "INFO:root:Evaluating accuracy on dev set\n",
      "INFO:root:Train loss: 0.6890299294305884 - acc: 0.7327525190948883 -- Validation loss: 0.7032780987875802 - acc: 0.4644029717458686\n",
      " 80%|████████  | 24/30 [00:57<00:14,  2.38s/it]"
     ]
    },
    {
     "name": "stdout",
     "output_type": "stream",
     "text": [
      "Epoch : 24 , Loss : 0.6890299294305884\n",
      "Epoch : 24, Validation Iteration : 1 , Loss : 0.7014714479446411\n",
      "Epoch : 24, Validation Loss : 0.7032780987875802\n",
      "Epoch : 25, Iteration : 1 , Loss : 0.6793735027313232\n",
      "Epoch : 25, Iteration : 11 , Loss : 0.6895129084587097\n",
      "Epoch : 25, Iteration : 21 , Loss : 0.6922889947891235\n",
      "Epoch : 25, Iteration : 31 , Loss : 0.6903548240661621\n",
      "Epoch : 25, Iteration : 41 , Loss : 0.6828802824020386\n",
      "Epoch : 25, Iteration : 51 , Loss : 0.6921302080154419\n",
      "Epoch : 25, Iteration : 61 , Loss : 0.6816329956054688\n"
     ]
    },
    {
     "name": "stderr",
     "output_type": "stream",
     "text": [
      "INFO:root:Evaluating accuracy on dev set\n",
      "INFO:root:Train loss: 0.686349194118942 - acc: 0.7373492133964734 -- Validation loss: 0.701103857585362 - acc: 0.47961086624663907\n",
      " 83%|████████▎ | 25/30 [01:00<00:11,  2.38s/it]"
     ]
    },
    {
     "name": "stdout",
     "output_type": "stream",
     "text": [
      "Epoch : 25 , Loss : 0.686349194118942\n",
      "Epoch : 25, Validation Iteration : 1 , Loss : 0.7004101276397705\n",
      "Epoch : 25, Validation Loss : 0.701103857585362\n",
      "Epoch : 26, Iteration : 1 , Loss : 0.6785393953323364\n",
      "Epoch : 26, Iteration : 11 , Loss : 0.6867680549621582\n",
      "Epoch : 26, Iteration : 21 , Loss : 0.6876643896102905\n",
      "Epoch : 26, Iteration : 31 , Loss : 0.6897802352905273\n",
      "Epoch : 26, Iteration : 41 , Loss : 0.6790119409561157\n",
      "Epoch : 26, Iteration : 51 , Loss : 0.689399003982544\n",
      "Epoch : 26, Iteration : 61 , Loss : 0.6823779940605164\n"
     ]
    },
    {
     "name": "stderr",
     "output_type": "stream",
     "text": [
      "INFO:root:Evaluating accuracy on dev set\n",
      "INFO:root:Train loss: 0.6843757180200107 - acc: 0.7457702836813076 -- Validation loss: 0.6979654601642064 - acc: 0.5051226229388482\n",
      " 87%|████████▋ | 26/30 [01:02<00:09,  2.38s/it]"
     ]
    },
    {
     "name": "stdout",
     "output_type": "stream",
     "text": [
      "Epoch : 26 , Loss : 0.6843757180200107\n",
      "Epoch : 26, Validation Iteration : 1 , Loss : 0.6988490223884583\n",
      "Epoch : 26, Validation Loss : 0.6979654601642064\n",
      "Epoch : 27, Iteration : 1 , Loss : 0.6783186793327332\n",
      "Epoch : 27, Iteration : 11 , Loss : 0.6841435432434082\n",
      "Epoch : 27, Iteration : 21 , Loss : 0.6862583160400391\n",
      "Epoch : 27, Iteration : 31 , Loss : 0.6878042221069336\n",
      "Epoch : 27, Iteration : 41 , Loss : 0.6816655397415161\n",
      "Epoch : 27, Iteration : 51 , Loss : 0.691378653049469\n",
      "Epoch : 27, Iteration : 61 , Loss : 0.6851485371589661\n"
     ]
    },
    {
     "name": "stderr",
     "output_type": "stream",
     "text": [
      "INFO:root:Evaluating accuracy on dev set\n",
      "INFO:root:Train loss: 0.6838600013567053 - acc: 0.7495644616016898 -- Validation loss: 0.6987596579960415 - acc: 0.4933978268559962\n",
      " 90%|█████████ | 27/30 [01:04<00:07,  2.38s/it]"
     ]
    },
    {
     "name": "stdout",
     "output_type": "stream",
     "text": [
      "Epoch : 27 , Loss : 0.6838600013567053\n",
      "Epoch : 27, Validation Iteration : 1 , Loss : 0.6962831020355225\n",
      "Epoch : 27, Validation Loss : 0.6987596579960415\n",
      "Epoch : 28, Iteration : 1 , Loss : 0.6813045740127563\n",
      "Epoch : 28, Iteration : 11 , Loss : 0.6821009516716003\n",
      "Epoch : 28, Iteration : 21 , Loss : 0.6848811507225037\n",
      "Epoch : 28, Iteration : 31 , Loss : 0.6869117021560669\n",
      "Epoch : 28, Iteration : 41 , Loss : 0.6869480609893799\n",
      "Epoch : 28, Iteration : 51 , Loss : 0.6899509429931641\n",
      "Epoch : 28, Iteration : 61 , Loss : 0.6823740005493164\n"
     ]
    },
    {
     "name": "stderr",
     "output_type": "stream",
     "text": [
      "INFO:root:Evaluating accuracy on dev set\n",
      "INFO:root:Train loss: 0.6832396275755288 - acc: 0.7563416742015558 -- Validation loss: 0.6997833592551095 - acc: 0.48112743927567336\n",
      " 93%|█████████▎| 28/30 [01:07<00:04,  2.38s/it]"
     ]
    },
    {
     "name": "stdout",
     "output_type": "stream",
     "text": [
      "Epoch : 28 , Loss : 0.6832396275755288\n",
      "Epoch : 28, Validation Iteration : 1 , Loss : 0.7024984359741211\n",
      "Epoch : 28, Validation Loss : 0.6997833592551095\n",
      "Epoch : 29, Iteration : 1 , Loss : 0.6789528727531433\n",
      "Epoch : 29, Iteration : 11 , Loss : 0.684011697769165\n",
      "Epoch : 29, Iteration : 21 , Loss : 0.6823675632476807\n",
      "Epoch : 29, Iteration : 31 , Loss : 0.6869972348213196\n",
      "Epoch : 29, Iteration : 41 , Loss : 0.6846408843994141\n",
      "Epoch : 29, Iteration : 51 , Loss : 0.6855281591415405\n",
      "Epoch : 29, Iteration : 61 , Loss : 0.6841116547584534\n"
     ]
    },
    {
     "name": "stderr",
     "output_type": "stream",
     "text": [
      "INFO:root:Evaluating accuracy on dev set\n",
      "INFO:root:Train loss: 0.6829994571381721 - acc: 0.7600149145522782 -- Validation loss: 0.699886645589556 - acc: 0.4841027601308696\n",
      " 97%|█████████▋| 29/30 [01:09<00:02,  2.38s/it]"
     ]
    },
    {
     "name": "stdout",
     "output_type": "stream",
     "text": [
      "Epoch : 29 , Loss : 0.6829994571381721\n",
      "Epoch : 29, Validation Iteration : 1 , Loss : 0.7003270387649536\n",
      "Epoch : 29, Validation Loss : 0.699886645589556\n",
      "Epoch : 30, Iteration : 1 , Loss : 0.6796313524246216\n",
      "Epoch : 30, Iteration : 11 , Loss : 0.6863750219345093\n",
      "Epoch : 30, Iteration : 21 , Loss : 0.6807986497879028\n",
      "Epoch : 30, Iteration : 31 , Loss : 0.6858527660369873\n",
      "Epoch : 30, Iteration : 41 , Loss : 0.6811932325363159\n",
      "Epoch : 30, Iteration : 51 , Loss : 0.6848984360694885\n",
      "Epoch : 30, Iteration : 61 , Loss : 0.6896377205848694\n"
     ]
    },
    {
     "name": "stderr",
     "output_type": "stream",
     "text": [
      "INFO:root:Evaluating accuracy on dev set\n",
      "INFO:root:Train loss: 0.6824219667393229 - acc: 0.7615694482681388 -- Validation loss: 0.6994247436523438 - acc: 0.4967514209133153\n",
      "100%|██████████| 30/30 [01:11<00:00,  2.40s/it]\n"
     ]
    },
    {
     "name": "stdout",
     "output_type": "stream",
     "text": [
      "Epoch : 30 , Loss : 0.6824219667393229\n",
      "Epoch : 30, Validation Iteration : 1 , Loss : 0.7018246650695801\n",
      "Epoch : 30, Validation Loss : 0.6994247436523438\n"
     ]
    },
    {
     "name": "stderr",
     "output_type": "stream",
     "text": [
      "\r",
      "  0%|          | 0/30 [00:00<?, ?it/s]"
     ]
    },
    {
     "name": "stdout",
     "output_type": "stream",
     "text": [
      "Epoch : 1, Iteration : 1 , Loss : 1.1501049995422363\n",
      "Epoch : 1, Iteration : 11 , Loss : 1.5043413639068604\n",
      "Epoch : 1, Iteration : 21 , Loss : 1.3706765174865723\n",
      "Epoch : 1, Iteration : 31 , Loss : 1.0889991521835327\n",
      "Epoch : 1, Iteration : 41 , Loss : 0.9934775829315186\n",
      "Epoch : 1, Iteration : 51 , Loss : 1.0688045024871826\n"
     ]
    },
    {
     "name": "stderr",
     "output_type": "stream",
     "text": [
      "INFO:root:Evaluating accuracy on dev set\n"
     ]
    },
    {
     "name": "stdout",
     "output_type": "stream",
     "text": [
      "Epoch : 1, Iteration : 61 , Loss : 0.9549323916435242\n",
      "Epoch : 1 , Loss : 1.19370712922967\n"
     ]
    },
    {
     "name": "stderr",
     "output_type": "stream",
     "text": [
      "INFO:root:new model saved\n",
      "INFO:root:Train loss: 1.19370712922967 - acc: 0.24556198694820086 -- Validation loss: 0.9923055171966553 - acc: 0.306889890449948\n",
      "  3%|▎         | 1/30 [00:01<00:53,  1.84s/it]"
     ]
    },
    {
     "name": "stdout",
     "output_type": "stream",
     "text": [
      "Epoch : 1, Validation Iteration : 1 , Loss : 0.9868655204772949\n",
      "Epoch : 1, Validation Loss : 0.9923055171966553\n",
      "Epoch : 2, Iteration : 1 , Loss : 0.9290726184844971\n",
      "Epoch : 2, Iteration : 11 , Loss : 0.9145088791847229\n",
      "Epoch : 2, Iteration : 21 , Loss : 0.813896656036377\n",
      "Epoch : 2, Iteration : 31 , Loss : 0.7814083099365234\n",
      "Epoch : 2, Iteration : 41 , Loss : 0.7979523539543152\n",
      "Epoch : 2, Iteration : 51 , Loss : 0.9568185806274414\n"
     ]
    },
    {
     "name": "stderr",
     "output_type": "stream",
     "text": [
      "INFO:root:Evaluating accuracy on dev set\n"
     ]
    },
    {
     "name": "stdout",
     "output_type": "stream",
     "text": [
      "Epoch : 2, Iteration : 61 , Loss : 0.9133280515670776\n",
      "Epoch : 2 , Loss : 0.9135378668273705\n",
      "Epoch : 2, Validation Iteration : 1 , Loss : 0.9243216514587402\n"
     ]
    },
    {
     "name": "stderr",
     "output_type": "stream",
     "text": [
      "INFO:root:Train loss: 0.9135378668273705 - acc: 0.27308379451178333 -- Validation loss: 0.9094001225062779 - acc: 0.3056988114514627\n",
      "  7%|▋         | 2/30 [00:03<00:50,  1.80s/it]"
     ]
    },
    {
     "name": "stdout",
     "output_type": "stream",
     "text": [
      "Epoch : 2, Validation Loss : 0.9094001225062779\n",
      "Epoch : 3, Iteration : 1 , Loss : 0.8904761075973511\n",
      "Epoch : 3, Iteration : 11 , Loss : 0.8565897941589355\n",
      "Epoch : 3, Iteration : 21 , Loss : 0.784457266330719\n",
      "Epoch : 3, Iteration : 31 , Loss : 0.7518256902694702\n",
      "Epoch : 3, Iteration : 41 , Loss : 0.7637383937835693\n",
      "Epoch : 3, Iteration : 51 , Loss : 0.9112818241119385\n"
     ]
    },
    {
     "name": "stderr",
     "output_type": "stream",
     "text": [
      "INFO:root:Evaluating accuracy on dev set\n"
     ]
    },
    {
     "name": "stdout",
     "output_type": "stream",
     "text": [
      "Epoch : 3, Iteration : 61 , Loss : 0.8890933394432068\n",
      "Epoch : 3 , Loss : 0.8678799694862919\n"
     ]
    },
    {
     "name": "stderr",
     "output_type": "stream",
     "text": [
      "INFO:root:new model saved\n",
      "INFO:root:Train loss: 0.8678799694862919 - acc: 0.2856909006151588 -- Validation loss: 0.8900971242359706 - acc: 0.30712716402649476\n",
      " 10%|█         | 3/30 [00:05<00:49,  1.82s/it]"
     ]
    },
    {
     "name": "stdout",
     "output_type": "stream",
     "text": [
      "Epoch : 3, Validation Iteration : 1 , Loss : 0.9410496950149536\n",
      "Epoch : 3, Validation Loss : 0.8900971242359706\n",
      "Epoch : 4, Iteration : 1 , Loss : 0.8723771572113037\n",
      "Epoch : 4, Iteration : 11 , Loss : 0.8263742923736572\n",
      "Epoch : 4, Iteration : 21 , Loss : 0.7880595922470093\n",
      "Epoch : 4, Iteration : 31 , Loss : 0.7376452684402466\n",
      "Epoch : 4, Iteration : 41 , Loss : 0.7586538791656494\n",
      "Epoch : 4, Iteration : 51 , Loss : 0.9046294093132019\n"
     ]
    },
    {
     "name": "stderr",
     "output_type": "stream",
     "text": [
      "INFO:root:Evaluating accuracy on dev set\n"
     ]
    },
    {
     "name": "stdout",
     "output_type": "stream",
     "text": [
      "Epoch : 4, Iteration : 61 , Loss : 0.8864341378211975\n",
      "Epoch : 4 , Loss : 0.8559984875761945\n"
     ]
    },
    {
     "name": "stderr",
     "output_type": "stream",
     "text": [
      "INFO:root:new model saved\n",
      "INFO:root:Train loss: 0.8559984875761945 - acc: 0.2938017041102016 -- Validation loss: 0.8679448281015668 - acc: 0.3252894724007185\n",
      " 13%|█▎        | 4/30 [00:07<00:47,  1.83s/it]"
     ]
    },
    {
     "name": "stdout",
     "output_type": "stream",
     "text": [
      "Epoch : 4, Validation Iteration : 1 , Loss : 0.8892658948898315\n",
      "Epoch : 4, Validation Loss : 0.8679448281015668\n",
      "Epoch : 5, Iteration : 1 , Loss : 0.8555096387863159\n",
      "Epoch : 5, Iteration : 11 , Loss : 0.8321557641029358\n",
      "Epoch : 5, Iteration : 21 , Loss : 0.7739441394805908\n",
      "Epoch : 5, Iteration : 31 , Loss : 0.7270400524139404\n",
      "Epoch : 5, Iteration : 41 , Loss : 0.7557741403579712\n",
      "Epoch : 5, Iteration : 51 , Loss : 0.8947878479957581\n"
     ]
    },
    {
     "name": "stderr",
     "output_type": "stream",
     "text": [
      "INFO:root:Evaluating accuracy on dev set\n"
     ]
    },
    {
     "name": "stdout",
     "output_type": "stream",
     "text": [
      "Epoch : 5, Iteration : 61 , Loss : 0.8664774298667908\n",
      "Epoch : 5 , Loss : 0.8430362041445746\n"
     ]
    },
    {
     "name": "stderr",
     "output_type": "stream",
     "text": [
      "INFO:root:Train loss: 0.8430362041445746 - acc: 0.3035897611812834 -- Validation loss: 0.8708141616412571 - acc: 0.31517510701912793\n",
      " 17%|█▋        | 5/30 [00:09<00:45,  1.82s/it]"
     ]
    },
    {
     "name": "stdout",
     "output_type": "stream",
     "text": [
      "Epoch : 5, Validation Iteration : 1 , Loss : 0.8934862613677979\n",
      "Epoch : 5, Validation Loss : 0.8708141616412571\n",
      "Epoch : 6, Iteration : 1 , Loss : 0.848496675491333\n",
      "Epoch : 6, Iteration : 11 , Loss : 0.8253209590911865\n",
      "Epoch : 6, Iteration : 21 , Loss : 0.7757097482681274\n",
      "Epoch : 6, Iteration : 31 , Loss : 0.7330592274665833\n",
      "Epoch : 6, Iteration : 41 , Loss : 0.7425853610038757\n",
      "Epoch : 6, Iteration : 51 , Loss : 0.8885322213172913\n"
     ]
    },
    {
     "name": "stderr",
     "output_type": "stream",
     "text": [
      "INFO:root:Evaluating accuracy on dev set\n"
     ]
    },
    {
     "name": "stdout",
     "output_type": "stream",
     "text": [
      "Epoch : 6, Iteration : 61 , Loss : 0.8644742369651794\n",
      "Epoch : 6 , Loss : 0.8477006805115852\n"
     ]
    },
    {
     "name": "stderr",
     "output_type": "stream",
     "text": [
      "INFO:root:Train loss: 0.8477006805115852 - acc: 0.3093235115194684 -- Validation loss: 1.103732602936881 - acc: 0.32446219432449946\n",
      " 20%|██        | 6/30 [00:10<00:43,  1.80s/it]"
     ]
    },
    {
     "name": "stdout",
     "output_type": "stream",
     "text": [
      "Epoch : 6, Validation Iteration : 1 , Loss : 1.1251261234283447\n",
      "Epoch : 6, Validation Loss : 1.103732602936881\n",
      "Epoch : 7, Iteration : 1 , Loss : 1.0953154563903809\n",
      "Epoch : 7, Iteration : 11 , Loss : 1.045158863067627\n",
      "Epoch : 7, Iteration : 21 , Loss : 0.8631282448768616\n",
      "Epoch : 7, Iteration : 31 , Loss : 0.760128378868103\n",
      "Epoch : 7, Iteration : 41 , Loss : 0.7522636651992798\n",
      "Epoch : 7, Iteration : 51 , Loss : 0.8923505544662476\n"
     ]
    },
    {
     "name": "stderr",
     "output_type": "stream",
     "text": [
      "INFO:root:Evaluating accuracy on dev set\n"
     ]
    },
    {
     "name": "stdout",
     "output_type": "stream",
     "text": [
      "Epoch : 7, Iteration : 61 , Loss : 0.8693240880966187\n",
      "Epoch : 7 , Loss : 0.8993290680042212\n"
     ]
    },
    {
     "name": "stderr",
     "output_type": "stream",
     "text": [
      "INFO:root:Train loss: 0.8993290680042212 - acc: 0.30629838700662076 -- Validation loss: 0.8544483610561916 - acc: 0.30306912996378443\n",
      " 23%|██▎       | 7/30 [00:12<00:41,  1.80s/it]"
     ]
    },
    {
     "name": "stdout",
     "output_type": "stream",
     "text": [
      "Epoch : 7, Validation Iteration : 1 , Loss : 0.8680078983306885\n",
      "Epoch : 7, Validation Loss : 0.8544483610561916\n",
      "Epoch : 8, Iteration : 1 , Loss : 0.8452413082122803\n",
      "Epoch : 8, Iteration : 11 , Loss : 0.8323754072189331\n",
      "Epoch : 8, Iteration : 21 , Loss : 0.7689660787582397\n",
      "Epoch : 8, Iteration : 31 , Loss : 0.7221312522888184\n",
      "Epoch : 8, Iteration : 41 , Loss : 0.7519135475158691\n",
      "Epoch : 8, Iteration : 51 , Loss : 0.8813265562057495\n"
     ]
    },
    {
     "name": "stderr",
     "output_type": "stream",
     "text": [
      "INFO:root:Evaluating accuracy on dev set\n"
     ]
    },
    {
     "name": "stdout",
     "output_type": "stream",
     "text": [
      "Epoch : 8, Iteration : 61 , Loss : 0.864391565322876\n",
      "Epoch : 8 , Loss : 0.8344675838083461\n"
     ]
    },
    {
     "name": "stderr",
     "output_type": "stream",
     "text": [
      "INFO:root:Train loss: 0.8344675838083461 - acc: 0.30832823661406067 -- Validation loss: 0.8607620511736188 - acc: 0.32245608238710866\n",
      " 27%|██▋       | 8/30 [00:14<00:39,  1.79s/it]"
     ]
    },
    {
     "name": "stdout",
     "output_type": "stream",
     "text": [
      "Epoch : 8, Validation Iteration : 1 , Loss : 0.8948198556900024\n",
      "Epoch : 8, Validation Loss : 0.8607620511736188\n",
      "Epoch : 9, Iteration : 1 , Loss : 0.8721155524253845\n",
      "Epoch : 9, Iteration : 11 , Loss : 0.8222556114196777\n",
      "Epoch : 9, Iteration : 21 , Loss : 0.7683054208755493\n",
      "Epoch : 9, Iteration : 31 , Loss : 0.7159296870231628\n",
      "Epoch : 9, Iteration : 41 , Loss : 0.7442346215248108\n",
      "Epoch : 9, Iteration : 51 , Loss : 0.8815343379974365\n",
      "Epoch : 9, Iteration : 61 , Loss : 0.8589705228805542\n",
      "Epoch : 9 , Loss : 0.8316486270531364\n"
     ]
    },
    {
     "name": "stderr",
     "output_type": "stream",
     "text": [
      "INFO:root:Evaluating accuracy on dev set\n",
      "INFO:root:new model saved\n",
      "INFO:root:Train loss: 0.8316486270531364 - acc: 0.31537467225278426 -- Validation loss: 0.8298698834010533 - acc: 0.3353674922316579\n",
      " 30%|███       | 9/30 [00:16<00:37,  1.80s/it]"
     ]
    },
    {
     "name": "stdout",
     "output_type": "stream",
     "text": [
      "Epoch : 9, Validation Iteration : 1 , Loss : 0.8661512136459351\n",
      "Epoch : 9, Validation Loss : 0.8298698834010533\n",
      "Epoch : 10, Iteration : 1 , Loss : 0.8304423093795776\n",
      "Epoch : 10, Iteration : 11 , Loss : 0.8296792507171631\n",
      "Epoch : 10, Iteration : 21 , Loss : 0.7674496173858643\n",
      "Epoch : 10, Iteration : 31 , Loss : 0.7027781009674072\n",
      "Epoch : 10, Iteration : 41 , Loss : 0.7440216541290283\n",
      "Epoch : 10, Iteration : 51 , Loss : 0.8779104948043823\n",
      "Epoch : 10, Iteration : 61 , Loss : 0.8631225228309631\n",
      "Epoch : 10 , Loss : 0.8293878703877546\n"
     ]
    },
    {
     "name": "stderr",
     "output_type": "stream",
     "text": [
      "INFO:root:Evaluating accuracy on dev set\n",
      "INFO:root:Train loss: 0.8293878703877546 - acc: 0.31787050430955466 -- Validation loss: 0.830274053982326 - acc: 0.33414079025542637\n",
      " 33%|███▎      | 10/30 [00:18<00:35,  1.80s/it]"
     ]
    },
    {
     "name": "stdout",
     "output_type": "stream",
     "text": [
      "Epoch : 10, Validation Iteration : 1 , Loss : 0.872530460357666\n",
      "Epoch : 10, Validation Loss : 0.830274053982326\n",
      "Epoch : 11, Iteration : 1 , Loss : 0.8253962993621826\n",
      "Epoch : 11, Iteration : 11 , Loss : 0.8208191394805908\n",
      "Epoch : 11, Iteration : 21 , Loss : 0.7672346234321594\n",
      "Epoch : 11, Iteration : 31 , Loss : 0.7059947848320007\n",
      "Epoch : 11, Iteration : 41 , Loss : 0.7395147085189819\n",
      "Epoch : 11, Iteration : 51 , Loss : 0.8746801614761353\n"
     ]
    },
    {
     "name": "stderr",
     "output_type": "stream",
     "text": [
      "INFO:root:Evaluating accuracy on dev set\n"
     ]
    },
    {
     "name": "stdout",
     "output_type": "stream",
     "text": [
      "Epoch : 11, Iteration : 61 , Loss : 0.8568987846374512\n",
      "Epoch : 11 , Loss : 0.8261954179708508\n"
     ]
    },
    {
     "name": "stderr",
     "output_type": "stream",
     "text": [
      "INFO:root:new model saved\n",
      "INFO:root:Train loss: 0.8261954179708508 - acc: 0.31976176032677534 -- Validation loss: 0.8303799799510411 - acc: 0.3358607264071117\n",
      " 37%|███▋      | 11/30 [00:19<00:34,  1.81s/it]"
     ]
    },
    {
     "name": "stdout",
     "output_type": "stream",
     "text": [
      "Epoch : 11, Validation Iteration : 1 , Loss : 0.8664542436599731\n",
      "Epoch : 11, Validation Loss : 0.8303799799510411\n",
      "Epoch : 12, Iteration : 1 , Loss : 0.826629102230072\n",
      "Epoch : 12, Iteration : 11 , Loss : 0.8238421082496643\n",
      "Epoch : 12, Iteration : 21 , Loss : 0.7686091661453247\n",
      "Epoch : 12, Iteration : 31 , Loss : 0.7059259414672852\n",
      "Epoch : 12, Iteration : 41 , Loss : 0.7389049530029297\n",
      "Epoch : 12, Iteration : 51 , Loss : 0.8790512084960938\n",
      "Epoch : 12, Iteration : 61 , Loss : 0.8575295805931091\n",
      "Epoch : 12 , Loss : 0.8271615747092427\n"
     ]
    },
    {
     "name": "stderr",
     "output_type": "stream",
     "text": [
      "INFO:root:Evaluating accuracy on dev set\n",
      "INFO:root:Train loss: 0.8271615747092427 - acc: 0.32724898776035 -- Validation loss: 0.8388250385011945 - acc: 0.33348316977240383\n",
      " 40%|████      | 12/30 [00:21<00:32,  1.81s/it]"
     ]
    },
    {
     "name": "stdout",
     "output_type": "stream",
     "text": [
      "Epoch : 12, Validation Iteration : 1 , Loss : 0.8585599660873413\n",
      "Epoch : 12, Validation Loss : 0.8388250385011945\n",
      "Epoch : 13, Iteration : 1 , Loss : 0.8321350812911987\n",
      "Epoch : 13, Iteration : 11 , Loss : 0.8201602697372437\n",
      "Epoch : 13, Iteration : 21 , Loss : 0.7665531635284424\n",
      "Epoch : 13, Iteration : 31 , Loss : 0.701289713382721\n",
      "Epoch : 13, Iteration : 41 , Loss : 0.7391149401664734\n",
      "Epoch : 13, Iteration : 51 , Loss : 0.8779922723770142\n"
     ]
    },
    {
     "name": "stderr",
     "output_type": "stream",
     "text": [
      "INFO:root:Evaluating accuracy on dev set\n"
     ]
    },
    {
     "name": "stdout",
     "output_type": "stream",
     "text": [
      "Epoch : 13, Iteration : 61 , Loss : 0.8592296838760376\n",
      "Epoch : 13 , Loss : 0.8274054371792338\n"
     ]
    },
    {
     "name": "stderr",
     "output_type": "stream",
     "text": [
      "INFO:root:Train loss: 0.8274054371792338 - acc: 0.3293288999412657 -- Validation loss: 0.8413195354597909 - acc: 0.3255537182260197\n",
      " 43%|████▎     | 13/30 [00:23<00:30,  1.80s/it]"
     ]
    },
    {
     "name": "stdout",
     "output_type": "stream",
     "text": [
      "Epoch : 13, Validation Iteration : 1 , Loss : 0.8736441731452942\n",
      "Epoch : 13, Validation Loss : 0.8413195354597909\n",
      "Epoch : 14, Iteration : 1 , Loss : 0.8436149954795837\n",
      "Epoch : 14, Iteration : 11 , Loss : 0.8167425990104675\n",
      "Epoch : 14, Iteration : 21 , Loss : 0.7657515406608582\n",
      "Epoch : 14, Iteration : 31 , Loss : 0.6999179124832153\n",
      "Epoch : 14, Iteration : 41 , Loss : 0.7361560463905334\n",
      "Epoch : 14, Iteration : 51 , Loss : 0.8730971813201904\n"
     ]
    },
    {
     "name": "stderr",
     "output_type": "stream",
     "text": [
      "INFO:root:Evaluating accuracy on dev set\n"
     ]
    },
    {
     "name": "stdout",
     "output_type": "stream",
     "text": [
      "Epoch : 14, Iteration : 61 , Loss : 0.8542994856834412\n",
      "Epoch : 14 , Loss : 0.82433130170988\n"
     ]
    },
    {
     "name": "stderr",
     "output_type": "stream",
     "text": [
      "INFO:root:Train loss: 0.82433130170988 - acc: 0.3364654852392911 -- Validation loss: 0.8368938394955227 - acc: 0.33099598905619726\n",
      " 47%|████▋     | 14/30 [00:25<00:28,  1.80s/it]"
     ]
    },
    {
     "name": "stdout",
     "output_type": "stream",
     "text": [
      "Epoch : 14, Validation Iteration : 1 , Loss : 0.8655093312263489\n",
      "Epoch : 14, Validation Loss : 0.8368938394955227\n",
      "Epoch : 15, Iteration : 1 , Loss : 0.8304190635681152\n",
      "Epoch : 15, Iteration : 11 , Loss : 0.813639760017395\n",
      "Epoch : 15, Iteration : 21 , Loss : 0.7675105333328247\n",
      "Epoch : 15, Iteration : 31 , Loss : 0.7160475850105286\n",
      "Epoch : 15, Iteration : 41 , Loss : 0.7433692216873169\n",
      "Epoch : 15, Iteration : 51 , Loss : 0.8869528770446777\n",
      "Epoch : 15, Iteration : 61 , Loss : 0.8590033054351807\n"
     ]
    },
    {
     "name": "stderr",
     "output_type": "stream",
     "text": [
      "INFO:root:Evaluating accuracy on dev set\n",
      "INFO:root:new model saved\n",
      "INFO:root:Train loss: 0.8298270667808644 - acc: 0.3314074730245891 -- Validation loss: 0.8273943151746478 - acc: 0.3382691170349306\n",
      " 50%|█████     | 15/30 [00:27<00:27,  1.81s/it]"
     ]
    },
    {
     "name": "stdout",
     "output_type": "stream",
     "text": [
      "Epoch : 15 , Loss : 0.8298270667808644\n",
      "Epoch : 15, Validation Iteration : 1 , Loss : 0.8634529113769531\n",
      "Epoch : 15, Validation Loss : 0.8273943151746478\n",
      "Epoch : 16, Iteration : 1 , Loss : 0.8253587484359741\n",
      "Epoch : 16, Iteration : 11 , Loss : 0.8139564990997314\n",
      "Epoch : 16, Iteration : 21 , Loss : 0.7761737108230591\n",
      "Epoch : 16, Iteration : 31 , Loss : 0.7034956812858582\n",
      "Epoch : 16, Iteration : 41 , Loss : 0.7401683926582336\n",
      "Epoch : 16, Iteration : 51 , Loss : 0.8726586699485779\n"
     ]
    },
    {
     "name": "stderr",
     "output_type": "stream",
     "text": [
      "INFO:root:Evaluating accuracy on dev set\n"
     ]
    },
    {
     "name": "stdout",
     "output_type": "stream",
     "text": [
      "Epoch : 16, Iteration : 61 , Loss : 0.8539772033691406\n",
      "Epoch : 16 , Loss : 0.8247864064962968\n"
     ]
    },
    {
     "name": "stderr",
     "output_type": "stream",
     "text": [
      "INFO:root:Train loss: 0.8247864064962968 - acc: 0.3341120820536805 -- Validation loss: 0.8439471210752215 - acc: 0.3188583368647507\n",
      " 53%|█████▎    | 16/30 [00:28<00:25,  1.80s/it]"
     ]
    },
    {
     "name": "stdout",
     "output_type": "stream",
     "text": [
      "Epoch : 16, Validation Iteration : 1 , Loss : 0.870468258857727\n",
      "Epoch : 16, Validation Loss : 0.8439471210752215\n",
      "Epoch : 17, Iteration : 1 , Loss : 0.832879364490509\n",
      "Epoch : 17, Iteration : 11 , Loss : 0.811994194984436\n",
      "Epoch : 17, Iteration : 21 , Loss : 0.7672070264816284\n",
      "Epoch : 17, Iteration : 31 , Loss : 0.7017307281494141\n",
      "Epoch : 17, Iteration : 41 , Loss : 0.7369257211685181\n",
      "Epoch : 17, Iteration : 51 , Loss : 0.8689530491828918\n"
     ]
    },
    {
     "name": "stderr",
     "output_type": "stream",
     "text": [
      "INFO:root:Evaluating accuracy on dev set\n"
     ]
    },
    {
     "name": "stdout",
     "output_type": "stream",
     "text": [
      "Epoch : 17, Iteration : 61 , Loss : 0.8538550734519958\n",
      "Epoch : 17 , Loss : 0.8230854722036831\n"
     ]
    },
    {
     "name": "stderr",
     "output_type": "stream",
     "text": [
      "INFO:root:Train loss: 0.8230854722036831 - acc: 0.336597924749386 -- Validation loss: 0.8299128583499363 - acc: 0.32326646114256585\n",
      " 57%|█████▋    | 17/30 [00:30<00:23,  1.79s/it]"
     ]
    },
    {
     "name": "stdout",
     "output_type": "stream",
     "text": [
      "Epoch : 17, Validation Iteration : 1 , Loss : 0.8669313192367554\n",
      "Epoch : 17, Validation Loss : 0.8299128583499363\n",
      "Epoch : 18, Iteration : 1 , Loss : 0.8254852294921875\n",
      "Epoch : 18, Iteration : 11 , Loss : 0.8129820227622986\n",
      "Epoch : 18, Iteration : 21 , Loss : 0.7636082172393799\n",
      "Epoch : 18, Iteration : 31 , Loss : 0.7042039632797241\n",
      "Epoch : 18, Iteration : 41 , Loss : 0.7399954199790955\n",
      "Epoch : 18, Iteration : 51 , Loss : 0.8694765567779541\n"
     ]
    },
    {
     "name": "stderr",
     "output_type": "stream",
     "text": [
      "INFO:root:Evaluating accuracy on dev set\n"
     ]
    },
    {
     "name": "stdout",
     "output_type": "stream",
     "text": [
      "Epoch : 18, Iteration : 61 , Loss : 0.8520153760910034\n",
      "Epoch : 18 , Loss : 0.8218286331149115\n"
     ]
    },
    {
     "name": "stderr",
     "output_type": "stream",
     "text": [
      "INFO:root:new model saved\n",
      "INFO:root:Train loss: 0.8218286331149115 - acc: 0.34288747444462053 -- Validation loss: 0.82445056949343 - acc: 0.33880352555147847\n",
      " 60%|██████    | 18/30 [00:32<00:21,  1.82s/it]"
     ]
    },
    {
     "name": "stdout",
     "output_type": "stream",
     "text": [
      "Epoch : 18, Validation Iteration : 1 , Loss : 0.8550867438316345\n",
      "Epoch : 18, Validation Loss : 0.82445056949343\n",
      "Epoch : 19, Iteration : 1 , Loss : 0.8242846727371216\n",
      "Epoch : 19, Iteration : 11 , Loss : 0.8088146448135376\n",
      "Epoch : 19, Iteration : 21 , Loss : 0.7647316455841064\n",
      "Epoch : 19, Iteration : 31 , Loss : 0.7008334994316101\n",
      "Epoch : 19, Iteration : 41 , Loss : 0.7457913160324097\n",
      "Epoch : 19, Iteration : 51 , Loss : 0.8701322674751282\n"
     ]
    },
    {
     "name": "stderr",
     "output_type": "stream",
     "text": [
      "INFO:root:Evaluating accuracy on dev set\n"
     ]
    },
    {
     "name": "stdout",
     "output_type": "stream",
     "text": [
      "Epoch : 19, Iteration : 61 , Loss : 0.8529975414276123\n",
      "Epoch : 19 , Loss : 0.8219029454217441\n"
     ]
    },
    {
     "name": "stderr",
     "output_type": "stream",
     "text": [
      "INFO:root:Train loss: 0.8219029454217441 - acc: 0.3434709159844296 -- Validation loss: 0.8308702962739127 - acc: 0.33655228882403226\n",
      " 63%|██████▎   | 19/30 [00:34<00:19,  1.81s/it]"
     ]
    },
    {
     "name": "stdout",
     "output_type": "stream",
     "text": [
      "Epoch : 19, Validation Iteration : 1 , Loss : 0.8628482818603516\n",
      "Epoch : 19, Validation Loss : 0.8308702962739127\n",
      "Epoch : 20, Iteration : 1 , Loss : 0.82151198387146\n",
      "Epoch : 20, Iteration : 11 , Loss : 0.8082288503646851\n",
      "Epoch : 20, Iteration : 21 , Loss : 0.7676950693130493\n",
      "Epoch : 20, Iteration : 31 , Loss : 0.7010849714279175\n",
      "Epoch : 20, Iteration : 41 , Loss : 0.7363774180412292\n",
      "Epoch : 20, Iteration : 51 , Loss : 0.8697335720062256\n"
     ]
    },
    {
     "name": "stderr",
     "output_type": "stream",
     "text": [
      "INFO:root:Evaluating accuracy on dev set\n"
     ]
    },
    {
     "name": "stdout",
     "output_type": "stream",
     "text": [
      "Epoch : 20, Iteration : 61 , Loss : 0.853168249130249\n",
      "Epoch : 20 , Loss : 0.8225800006285958\n"
     ]
    },
    {
     "name": "stderr",
     "output_type": "stream",
     "text": [
      "INFO:root:Train loss: 0.8225800006285958 - acc: 0.3430018426899043 -- Validation loss: 0.8324062143053327 - acc: 0.3366880816544714\n",
      " 67%|██████▋   | 20/30 [00:36<00:17,  1.80s/it]"
     ]
    },
    {
     "name": "stdout",
     "output_type": "stream",
     "text": [
      "Epoch : 20, Validation Iteration : 1 , Loss : 0.862457275390625\n",
      "Epoch : 20, Validation Loss : 0.8324062143053327\n",
      "Epoch : 21, Iteration : 1 , Loss : 0.8317793607711792\n",
      "Epoch : 21, Iteration : 11 , Loss : 0.8123151063919067\n",
      "Epoch : 21, Iteration : 21 , Loss : 0.7640613317489624\n",
      "Epoch : 21, Iteration : 31 , Loss : 0.7024731636047363\n",
      "Epoch : 21, Iteration : 41 , Loss : 0.7361001968383789\n",
      "Epoch : 21, Iteration : 51 , Loss : 0.8682248592376709\n"
     ]
    },
    {
     "name": "stderr",
     "output_type": "stream",
     "text": [
      "INFO:root:Evaluating accuracy on dev set\n"
     ]
    },
    {
     "name": "stdout",
     "output_type": "stream",
     "text": [
      "Epoch : 21, Iteration : 61 , Loss : 0.8526507616043091\n",
      "Epoch : 21 , Loss : 0.8220258458800938\n"
     ]
    },
    {
     "name": "stderr",
     "output_type": "stream",
     "text": [
      "INFO:root:new model saved\n",
      "INFO:root:Train loss: 0.8220258458800938 - acc: 0.3453111380734666 -- Validation loss: 0.8258563450404576 - acc: 0.34289164366593644\n",
      " 70%|███████   | 21/30 [00:37<00:16,  1.81s/it]"
     ]
    },
    {
     "name": "stdout",
     "output_type": "stream",
     "text": [
      "Epoch : 21, Validation Iteration : 1 , Loss : 0.8592660427093506\n",
      "Epoch : 21, Validation Loss : 0.8258563450404576\n",
      "Epoch : 22, Iteration : 1 , Loss : 0.8215804100036621\n",
      "Epoch : 22, Iteration : 11 , Loss : 0.8104526400566101\n",
      "Epoch : 22, Iteration : 21 , Loss : 0.7637722492218018\n",
      "Epoch : 22, Iteration : 31 , Loss : 0.6999126672744751\n",
      "Epoch : 22, Iteration : 41 , Loss : 0.7357889413833618\n",
      "Epoch : 22, Iteration : 51 , Loss : 0.8689591288566589\n",
      "Epoch : 22, Iteration : 61 , Loss : 0.8522865176200867\n",
      "Epoch : 22 , Loss : 0.8221452331197434\n"
     ]
    },
    {
     "name": "stderr",
     "output_type": "stream",
     "text": [
      "INFO:root:Evaluating accuracy on dev set\n",
      "INFO:root:Train loss: 0.8221452331197434 - acc: 0.3454101807518351 -- Validation loss: 0.8272530436515808 - acc: 0.34201594452039974\n",
      " 73%|███████▎  | 22/30 [00:39<00:14,  1.81s/it]"
     ]
    },
    {
     "name": "stdout",
     "output_type": "stream",
     "text": [
      "Epoch : 22, Validation Iteration : 1 , Loss : 0.8604094386100769\n",
      "Epoch : 22, Validation Loss : 0.8272530436515808\n",
      "Epoch : 23, Iteration : 1 , Loss : 0.8267640471458435\n",
      "Epoch : 23, Iteration : 11 , Loss : 0.8099091053009033\n",
      "Epoch : 23, Iteration : 21 , Loss : 0.7624694108963013\n",
      "Epoch : 23, Iteration : 31 , Loss : 0.6992143392562866\n",
      "Epoch : 23, Iteration : 41 , Loss : 0.7350640296936035\n",
      "Epoch : 23, Iteration : 51 , Loss : 0.8722410202026367\n"
     ]
    },
    {
     "name": "stderr",
     "output_type": "stream",
     "text": [
      "INFO:root:Evaluating accuracy on dev set\n"
     ]
    },
    {
     "name": "stdout",
     "output_type": "stream",
     "text": [
      "Epoch : 23, Iteration : 61 , Loss : 0.8519498109817505\n",
      "Epoch : 23 , Loss : 0.8217569598253223\n"
     ]
    },
    {
     "name": "stderr",
     "output_type": "stream",
     "text": [
      "INFO:root:Train loss: 0.8217569598253223 - acc: 0.3477923567391384 -- Validation loss: 0.825678961617606 - acc: 0.3354322354967621\n",
      " 77%|███████▋  | 23/30 [00:41<00:12,  1.80s/it]"
     ]
    },
    {
     "name": "stdout",
     "output_type": "stream",
     "text": [
      "Epoch : 23, Validation Iteration : 1 , Loss : 0.8615424633026123\n",
      "Epoch : 23, Validation Loss : 0.825678961617606\n",
      "Epoch : 24, Iteration : 1 , Loss : 0.8228868246078491\n",
      "Epoch : 24, Iteration : 11 , Loss : 0.8087626695632935\n",
      "Epoch : 24, Iteration : 21 , Loss : 0.7685708999633789\n",
      "Epoch : 24, Iteration : 31 , Loss : 0.6994684934616089\n",
      "Epoch : 24, Iteration : 41 , Loss : 0.7345316410064697\n",
      "Epoch : 24, Iteration : 51 , Loss : 0.870882511138916\n"
     ]
    },
    {
     "name": "stderr",
     "output_type": "stream",
     "text": [
      "INFO:root:Evaluating accuracy on dev set\n"
     ]
    },
    {
     "name": "stdout",
     "output_type": "stream",
     "text": [
      "Epoch : 24, Iteration : 61 , Loss : 0.8526628017425537\n",
      "Epoch : 24 , Loss : 0.8213218018628549\n"
     ]
    },
    {
     "name": "stderr",
     "output_type": "stream",
     "text": [
      "INFO:root:new model saved\n",
      "INFO:root:Train loss: 0.8213218018628549 - acc: 0.350161815931564 -- Validation loss: 0.8232064417430333 - acc: 0.3459220641943326\n",
      " 80%|████████  | 24/30 [00:43<00:10,  1.82s/it]"
     ]
    },
    {
     "name": "stdout",
     "output_type": "stream",
     "text": [
      "Epoch : 24, Validation Iteration : 1 , Loss : 0.8546701073646545\n",
      "Epoch : 24, Validation Loss : 0.8232064417430333\n",
      "Epoch : 25, Iteration : 1 , Loss : 0.819802463054657\n",
      "Epoch : 25, Iteration : 11 , Loss : 0.8071772456169128\n",
      "Epoch : 25, Iteration : 21 , Loss : 0.7613650560379028\n",
      "Epoch : 25, Iteration : 31 , Loss : 0.6991313099861145\n",
      "Epoch : 25, Iteration : 41 , Loss : 0.7375563383102417\n",
      "Epoch : 25, Iteration : 51 , Loss : 0.8676608800888062\n"
     ]
    },
    {
     "name": "stderr",
     "output_type": "stream",
     "text": [
      "INFO:root:Evaluating accuracy on dev set\n"
     ]
    },
    {
     "name": "stdout",
     "output_type": "stream",
     "text": [
      "Epoch : 25, Iteration : 61 , Loss : 0.852802038192749\n",
      "Epoch : 25 , Loss : 0.8206586630448051\n"
     ]
    },
    {
     "name": "stderr",
     "output_type": "stream",
     "text": [
      "INFO:root:Train loss: 0.8206586630448051 - acc: 0.35251778571134007 -- Validation loss: 0.8258873564856393 - acc: 0.33758403198593967\n",
      " 83%|████████▎ | 25/30 [00:45<00:09,  1.81s/it]"
     ]
    },
    {
     "name": "stdout",
     "output_type": "stream",
     "text": [
      "Epoch : 25, Validation Iteration : 1 , Loss : 0.8581976294517517\n",
      "Epoch : 25, Validation Loss : 0.8258873564856393\n",
      "Epoch : 26, Iteration : 1 , Loss : 0.8211714029312134\n",
      "Epoch : 26, Iteration : 11 , Loss : 0.8070969581604004\n",
      "Epoch : 26, Iteration : 21 , Loss : 0.762904942035675\n",
      "Epoch : 26, Iteration : 31 , Loss : 0.6994079351425171\n",
      "Epoch : 26, Iteration : 41 , Loss : 0.7402241230010986\n",
      "Epoch : 26, Iteration : 51 , Loss : 0.8685855865478516\n"
     ]
    },
    {
     "name": "stderr",
     "output_type": "stream",
     "text": [
      "INFO:root:Evaluating accuracy on dev set\n"
     ]
    },
    {
     "name": "stdout",
     "output_type": "stream",
     "text": [
      "Epoch : 26, Iteration : 61 , Loss : 0.8529230952262878\n",
      "Epoch : 26 , Loss : 0.8211175004641215\n"
     ]
    },
    {
     "name": "stderr",
     "output_type": "stream",
     "text": [
      "INFO:root:Train loss: 0.8211175004641215 - acc: 0.35105217576745257 -- Validation loss: 0.8284839476857867 - acc: 0.33212051143989596\n",
      " 87%|████████▋ | 26/30 [00:46<00:07,  1.80s/it]"
     ]
    },
    {
     "name": "stdout",
     "output_type": "stream",
     "text": [
      "Epoch : 26, Validation Iteration : 1 , Loss : 0.86259925365448\n",
      "Epoch : 26, Validation Loss : 0.8284839476857867\n",
      "Epoch : 27, Iteration : 1 , Loss : 0.8195507526397705\n",
      "Epoch : 27, Iteration : 11 , Loss : 0.8083199262619019\n",
      "Epoch : 27, Iteration : 21 , Loss : 0.7613273859024048\n",
      "Epoch : 27, Iteration : 31 , Loss : 0.699103832244873\n",
      "Epoch : 27, Iteration : 41 , Loss : 0.7366766929626465\n",
      "Epoch : 27, Iteration : 51 , Loss : 0.8678035736083984\n"
     ]
    },
    {
     "name": "stderr",
     "output_type": "stream",
     "text": [
      "INFO:root:Evaluating accuracy on dev set\n"
     ]
    },
    {
     "name": "stdout",
     "output_type": "stream",
     "text": [
      "Epoch : 27, Iteration : 61 , Loss : 0.8525819778442383\n",
      "Epoch : 27 , Loss : 0.8206100783486298\n"
     ]
    },
    {
     "name": "stderr",
     "output_type": "stream",
     "text": [
      "INFO:root:Train loss: 0.8206100783486298 - acc: 0.352737295100436 -- Validation loss: 0.8274020212037223 - acc: 0.33844783341666096\n",
      " 90%|█████████ | 27/30 [00:48<00:05,  1.81s/it]"
     ]
    },
    {
     "name": "stdout",
     "output_type": "stream",
     "text": [
      "Epoch : 27, Validation Iteration : 1 , Loss : 0.8605437874794006\n",
      "Epoch : 27, Validation Loss : 0.8274020212037223\n",
      "Epoch : 28, Iteration : 1 , Loss : 0.819326639175415\n",
      "Epoch : 28, Iteration : 11 , Loss : 0.8084627389907837\n",
      "Epoch : 28, Iteration : 21 , Loss : 0.7618317008018494\n",
      "Epoch : 28, Iteration : 31 , Loss : 0.6989181041717529\n",
      "Epoch : 28, Iteration : 41 , Loss : 0.80034339427948\n",
      "Epoch : 28, Iteration : 51 , Loss : 0.9395549297332764\n"
     ]
    },
    {
     "name": "stderr",
     "output_type": "stream",
     "text": [
      "INFO:root:Evaluating accuracy on dev set\n"
     ]
    },
    {
     "name": "stdout",
     "output_type": "stream",
     "text": [
      "Epoch : 28, Iteration : 61 , Loss : 0.8725535869598389\n",
      "Epoch : 28 , Loss : 0.8430118085681528\n"
     ]
    },
    {
     "name": "stderr",
     "output_type": "stream",
     "text": [
      "INFO:root:Train loss: 0.8430118085681528 - acc: 0.34934359799904985 -- Validation loss: 0.8537430848394122 - acc: 0.3204404256589039\n",
      " 93%|█████████▎| 28/30 [00:50<00:03,  1.80s/it]"
     ]
    },
    {
     "name": "stdout",
     "output_type": "stream",
     "text": [
      "Epoch : 28, Validation Iteration : 1 , Loss : 0.8835773468017578\n",
      "Epoch : 28, Validation Loss : 0.8537430848394122\n",
      "Epoch : 29, Iteration : 1 , Loss : 0.8337902426719666\n",
      "Epoch : 29, Iteration : 11 , Loss : 0.8213754296302795\n",
      "Epoch : 29, Iteration : 21 , Loss : 0.7735774517059326\n",
      "Epoch : 29, Iteration : 31 , Loss : 0.7044520378112793\n",
      "Epoch : 29, Iteration : 41 , Loss : 0.7413194179534912\n",
      "Epoch : 29, Iteration : 51 , Loss : 0.8759051561355591\n"
     ]
    },
    {
     "name": "stderr",
     "output_type": "stream",
     "text": [
      "INFO:root:Evaluating accuracy on dev set\n"
     ]
    },
    {
     "name": "stdout",
     "output_type": "stream",
     "text": [
      "Epoch : 29, Iteration : 61 , Loss : 0.8566848039627075\n",
      "Epoch : 29 , Loss : 0.8276064750077068\n"
     ]
    },
    {
     "name": "stderr",
     "output_type": "stream",
     "text": [
      "INFO:root:Train loss: 0.8276064750077068 - acc: 0.34127047017327217 -- Validation loss: 0.8387052927698407 - acc: 0.3246535373354644\n",
      " 97%|█████████▋| 29/30 [00:52<00:01,  1.79s/it]"
     ]
    },
    {
     "name": "stdout",
     "output_type": "stream",
     "text": [
      "Epoch : 29, Validation Iteration : 1 , Loss : 0.8784359693527222\n",
      "Epoch : 29, Validation Loss : 0.8387052927698407\n",
      "Epoch : 30, Iteration : 1 , Loss : 0.8236902356147766\n",
      "Epoch : 30, Iteration : 11 , Loss : 0.8095725774765015\n",
      "Epoch : 30, Iteration : 21 , Loss : 0.7630494832992554\n",
      "Epoch : 30, Iteration : 31 , Loss : 0.710727870464325\n",
      "Epoch : 30, Iteration : 41 , Loss : 0.7410449385643005\n",
      "Epoch : 30, Iteration : 51 , Loss : 0.872562050819397\n"
     ]
    },
    {
     "name": "stderr",
     "output_type": "stream",
     "text": [
      "INFO:root:Evaluating accuracy on dev set\n"
     ]
    },
    {
     "name": "stdout",
     "output_type": "stream",
     "text": [
      "Epoch : 30, Iteration : 61 , Loss : 0.8538923263549805\n",
      "Epoch : 30 , Loss : 0.8263435329216114\n"
     ]
    },
    {
     "name": "stderr",
     "output_type": "stream",
     "text": [
      "INFO:root:Train loss: 0.8263435329216114 - acc: 0.33985672433912445 -- Validation loss: 0.8591093591281346 - acc: 0.3276195000694493\n",
      "100%|██████████| 30/30 [00:54<00:00,  1.80s/it]\n"
     ]
    },
    {
     "name": "stdout",
     "output_type": "stream",
     "text": [
      "Epoch : 30, Validation Iteration : 1 , Loss : 0.9067891836166382\n",
      "Epoch : 30, Validation Loss : 0.8591093591281346\n"
     ]
    },
    {
     "name": "stderr",
     "output_type": "stream",
     "text": [
      "\r",
      "  0%|          | 0/30 [00:00<?, ?it/s]"
     ]
    },
    {
     "name": "stdout",
     "output_type": "stream",
     "text": [
      "Epoch : 1, Iteration : 1 , Loss : 1.149526834487915\n",
      "Epoch : 1, Iteration : 11 , Loss : 1.1320359706878662\n",
      "Epoch : 1, Iteration : 21 , Loss : 1.1320620775222778\n",
      "Epoch : 1, Iteration : 31 , Loss : 1.1352078914642334\n",
      "Epoch : 1, Iteration : 41 , Loss : 1.1356511116027832\n",
      "Epoch : 1, Iteration : 51 , Loss : 1.1202391386032104\n"
     ]
    },
    {
     "name": "stderr",
     "output_type": "stream",
     "text": [
      "INFO:root:Evaluating accuracy on dev set\n"
     ]
    },
    {
     "name": "stdout",
     "output_type": "stream",
     "text": [
      "Epoch : 1, Iteration : 61 , Loss : 1.1134133338928223\n",
      "Epoch : 1 , Loss : 1.1304913638294607\n",
      "Epoch : 1, Validation Iteration : 1 , Loss : 1.1212966442108154\n"
     ]
    },
    {
     "name": "stderr",
     "output_type": "stream",
     "text": [
      "INFO:root:new model saved\n",
      "INFO:root:Train loss: 1.1304913638294607 - acc: 0.4787236755302196 -- Validation loss: 1.1231904200145177 - acc: 0.5231680349467664\n",
      "  3%|▎         | 1/30 [00:01<00:53,  1.84s/it]"
     ]
    },
    {
     "name": "stdout",
     "output_type": "stream",
     "text": [
      "Epoch : 1, Validation Loss : 1.1231904200145177\n",
      "Epoch : 2, Iteration : 1 , Loss : 1.1174044609069824\n",
      "Epoch : 2, Iteration : 11 , Loss : 1.1244410276412964\n",
      "Epoch : 2, Iteration : 21 , Loss : 1.1202869415283203\n",
      "Epoch : 2, Iteration : 31 , Loss : 1.1247029304504395\n",
      "Epoch : 2, Iteration : 41 , Loss : 1.1334731578826904\n",
      "Epoch : 2, Iteration : 51 , Loss : 1.1180918216705322\n"
     ]
    },
    {
     "name": "stderr",
     "output_type": "stream",
     "text": [
      "INFO:root:Evaluating accuracy on dev set\n"
     ]
    },
    {
     "name": "stdout",
     "output_type": "stream",
     "text": [
      "Epoch : 2, Iteration : 61 , Loss : 1.110426664352417\n",
      "Epoch : 2 , Loss : 1.1224442530369414\n"
     ]
    },
    {
     "name": "stderr",
     "output_type": "stream",
     "text": [
      "INFO:root:new model saved\n",
      "INFO:root:Train loss: 1.1224442530369414 - acc: 0.5825157809057471 -- Validation loss: 1.118561897959028 - acc: 0.5665436298327821\n",
      "  7%|▋         | 2/30 [00:03<00:51,  1.84s/it]"
     ]
    },
    {
     "name": "stdout",
     "output_type": "stream",
     "text": [
      "Epoch : 2, Validation Iteration : 1 , Loss : 1.1152818202972412\n",
      "Epoch : 2, Validation Loss : 1.118561897959028\n",
      "Epoch : 3, Iteration : 1 , Loss : 1.1116313934326172\n",
      "Epoch : 3, Iteration : 11 , Loss : 1.1151378154754639\n",
      "Epoch : 3, Iteration : 21 , Loss : 1.0971615314483643\n",
      "Epoch : 3, Iteration : 31 , Loss : 1.0930202007293701\n",
      "Epoch : 3, Iteration : 41 , Loss : 1.0940196514129639\n",
      "Epoch : 3, Iteration : 51 , Loss : 1.083631992340088\n"
     ]
    },
    {
     "name": "stderr",
     "output_type": "stream",
     "text": [
      "INFO:root:Evaluating accuracy on dev set\n"
     ]
    },
    {
     "name": "stdout",
     "output_type": "stream",
     "text": [
      "Epoch : 3, Iteration : 61 , Loss : 1.0779016017913818\n",
      "Epoch : 3 , Loss : 1.0946536357851997\n"
     ]
    },
    {
     "name": "stderr",
     "output_type": "stream",
     "text": [
      "INFO:root:new model saved\n",
      "INFO:root:Train loss: 1.0946536357851997 - acc: 0.6375399568439217 -- Validation loss: 1.0852058274405343 - acc: 0.5874715345056374\n",
      " 10%|█         | 3/30 [00:05<00:49,  1.84s/it]"
     ]
    },
    {
     "name": "stdout",
     "output_type": "stream",
     "text": [
      "Epoch : 3, Validation Iteration : 1 , Loss : 1.081514596939087\n",
      "Epoch : 3, Validation Loss : 1.0852058274405343\n",
      "Epoch : 4, Iteration : 1 , Loss : 1.0771580934524536\n",
      "Epoch : 4, Iteration : 11 , Loss : 1.0864624977111816\n",
      "Epoch : 4, Iteration : 21 , Loss : 1.0710350275039673\n",
      "Epoch : 4, Iteration : 31 , Loss : 1.0690134763717651\n",
      "Epoch : 4, Iteration : 41 , Loss : 1.0486390590667725\n",
      "Epoch : 4, Iteration : 51 , Loss : 1.029099941253662\n"
     ]
    },
    {
     "name": "stderr",
     "output_type": "stream",
     "text": [
      "INFO:root:Evaluating accuracy on dev set\n"
     ]
    },
    {
     "name": "stdout",
     "output_type": "stream",
     "text": [
      "Epoch : 4, Iteration : 61 , Loss : 1.0013513565063477\n",
      "Epoch : 4 , Loss : 1.0482603769371475\n"
     ]
    },
    {
     "name": "stderr",
     "output_type": "stream",
     "text": [
      "INFO:root:Train loss: 1.0482603769371475 - acc: 0.6633858827984683 -- Validation loss: 1.006285309791565 - acc: 0.5612734381659108\n",
      " 13%|█▎        | 4/30 [00:07<00:47,  1.82s/it]"
     ]
    },
    {
     "name": "stdout",
     "output_type": "stream",
     "text": [
      "Epoch : 4, Validation Iteration : 1 , Loss : 1.0049240589141846\n",
      "Epoch : 4, Validation Loss : 1.006285309791565\n",
      "Epoch : 5, Iteration : 1 , Loss : 0.9949400424957275\n",
      "Epoch : 5, Iteration : 11 , Loss : 0.9360014796257019\n",
      "Epoch : 5, Iteration : 21 , Loss : 0.8650718927383423\n",
      "Epoch : 5, Iteration : 31 , Loss : 0.8378627300262451\n",
      "Epoch : 5, Iteration : 41 , Loss : 0.8077102899551392\n",
      "Epoch : 5, Iteration : 51 , Loss : 0.7824990749359131\n"
     ]
    },
    {
     "name": "stderr",
     "output_type": "stream",
     "text": [
      "INFO:root:Evaluating accuracy on dev set\n"
     ]
    },
    {
     "name": "stdout",
     "output_type": "stream",
     "text": [
      "Epoch : 5, Iteration : 61 , Loss : 0.752901554107666\n",
      "Epoch : 5 , Loss : 0.8347973184309144\n"
     ]
    },
    {
     "name": "stderr",
     "output_type": "stream",
     "text": [
      "INFO:root:Train loss: 0.8347973184309144 - acc: 0.6690170850052454 -- Validation loss: 0.7522926756313869 - acc: 0.5715860009087076\n",
      " 17%|█▋        | 5/30 [00:09<00:45,  1.81s/it]"
     ]
    },
    {
     "name": "stdout",
     "output_type": "stream",
     "text": [
      "Epoch : 5, Validation Iteration : 1 , Loss : 0.7494805455207825\n",
      "Epoch : 5, Validation Loss : 0.7522926756313869\n",
      "Epoch : 6, Iteration : 1 , Loss : 0.7414569854736328\n",
      "Epoch : 6, Iteration : 11 , Loss : 0.7241536378860474\n",
      "Epoch : 6, Iteration : 21 , Loss : 0.7075850963592529\n",
      "Epoch : 6, Iteration : 31 , Loss : 0.6998417377471924\n",
      "Epoch : 6, Iteration : 41 , Loss : 0.6729084253311157\n",
      "Epoch : 6, Iteration : 51 , Loss : 0.6547533869743347\n"
     ]
    },
    {
     "name": "stderr",
     "output_type": "stream",
     "text": [
      "INFO:root:Evaluating accuracy on dev set\n"
     ]
    },
    {
     "name": "stdout",
     "output_type": "stream",
     "text": [
      "Epoch : 6, Iteration : 61 , Loss : 0.6333245038986206\n",
      "Epoch : 6 , Loss : 0.6820165843203447\n"
     ]
    },
    {
     "name": "stderr",
     "output_type": "stream",
     "text": [
      "INFO:root:Train loss: 0.6820165843203447 - acc: 0.6786729101670714 -- Validation loss: 0.6331134864262172 - acc: 0.5589891418705016\n",
      " 20%|██        | 6/30 [00:10<00:43,  1.80s/it]"
     ]
    },
    {
     "name": "stdout",
     "output_type": "stream",
     "text": [
      "Epoch : 6, Validation Iteration : 1 , Loss : 0.6302911043167114\n",
      "Epoch : 6, Validation Loss : 0.6331134864262172\n",
      "Epoch : 7, Iteration : 1 , Loss : 0.6197514533996582\n",
      "Epoch : 7, Iteration : 11 , Loss : 0.6261083483695984\n",
      "Epoch : 7, Iteration : 21 , Loss : 0.6137943863868713\n",
      "Epoch : 7, Iteration : 31 , Loss : 0.6161748170852661\n",
      "Epoch : 7, Iteration : 41 , Loss : 0.6044679880142212\n",
      "Epoch : 7, Iteration : 51 , Loss : 0.6082072257995605\n"
     ]
    },
    {
     "name": "stderr",
     "output_type": "stream",
     "text": [
      "INFO:root:Evaluating accuracy on dev set\n"
     ]
    },
    {
     "name": "stdout",
     "output_type": "stream",
     "text": [
      "Epoch : 7, Iteration : 61 , Loss : 0.603622555732727\n",
      "Epoch : 7 , Loss : 0.6114676957545073\n"
     ]
    },
    {
     "name": "stderr",
     "output_type": "stream",
     "text": [
      "INFO:root:new model saved\n",
      "INFO:root:Train loss: 0.6114676957545073 - acc: 0.7062203751697032 -- Validation loss: 0.6106866938727242 - acc: 0.5895220536787862\n",
      " 23%|██▎       | 7/30 [00:12<00:41,  1.82s/it]"
     ]
    },
    {
     "name": "stdout",
     "output_type": "stream",
     "text": [
      "Epoch : 7, Validation Iteration : 1 , Loss : 0.6102122068405151\n",
      "Epoch : 7, Validation Loss : 0.6106866938727242\n",
      "Epoch : 8, Iteration : 1 , Loss : 0.5980355143547058\n",
      "Epoch : 8, Iteration : 11 , Loss : 0.6154524683952332\n",
      "Epoch : 8, Iteration : 21 , Loss : 0.6009001731872559\n",
      "Epoch : 8, Iteration : 31 , Loss : 0.6049906015396118\n",
      "Epoch : 8, Iteration : 41 , Loss : 0.5955259799957275\n",
      "Epoch : 8, Iteration : 51 , Loss : 0.5999348163604736\n"
     ]
    },
    {
     "name": "stderr",
     "output_type": "stream",
     "text": [
      "INFO:root:Evaluating accuracy on dev set\n"
     ]
    },
    {
     "name": "stdout",
     "output_type": "stream",
     "text": [
      "Epoch : 8, Iteration : 61 , Loss : 0.5947508811950684\n",
      "Epoch : 8 , Loss : 0.6002054292222728\n",
      "Epoch : 8, Validation Iteration : 1 , Loss : 0.606376051902771\n"
     ]
    },
    {
     "name": "stderr",
     "output_type": "stream",
     "text": [
      "INFO:root:Train loss: 0.6002054292222728 - acc: 0.722887854430741 -- Validation loss: 0.6043645058359418 - acc: 0.5739929080509476\n",
      " 27%|██▋       | 8/30 [00:14<00:39,  1.81s/it]"
     ]
    },
    {
     "name": "stdout",
     "output_type": "stream",
     "text": [
      "Epoch : 8, Validation Loss : 0.6043645058359418\n",
      "Epoch : 9, Iteration : 1 , Loss : 0.5910714268684387\n",
      "Epoch : 9, Iteration : 11 , Loss : 0.6038933992385864\n",
      "Epoch : 9, Iteration : 21 , Loss : 0.5934090614318848\n",
      "Epoch : 9, Iteration : 31 , Loss : 0.5974317193031311\n",
      "Epoch : 9, Iteration : 41 , Loss : 0.5873231887817383\n",
      "Epoch : 9, Iteration : 51 , Loss : 0.5918903350830078\n"
     ]
    },
    {
     "name": "stderr",
     "output_type": "stream",
     "text": [
      "INFO:root:Evaluating accuracy on dev set\n"
     ]
    },
    {
     "name": "stdout",
     "output_type": "stream",
     "text": [
      "Epoch : 9, Iteration : 61 , Loss : 0.5860879421234131\n",
      "Epoch : 9 , Loss : 0.5918680610864059\n"
     ]
    },
    {
     "name": "stderr",
     "output_type": "stream",
     "text": [
      "INFO:root:Train loss: 0.5918680610864059 - acc: 0.7349682449121884 -- Validation loss: 0.5955882498196193 - acc: 0.5746127219442347\n",
      " 30%|███       | 9/30 [00:16<00:37,  1.80s/it]"
     ]
    },
    {
     "name": "stdout",
     "output_type": "stream",
     "text": [
      "Epoch : 9, Validation Iteration : 1 , Loss : 0.5919398069381714\n",
      "Epoch : 9, Validation Loss : 0.5955882498196193\n",
      "Epoch : 10, Iteration : 1 , Loss : 0.581350564956665\n",
      "Epoch : 10, Iteration : 11 , Loss : 0.5957886576652527\n",
      "Epoch : 10, Iteration : 21 , Loss : 0.5861169695854187\n",
      "Epoch : 10, Iteration : 31 , Loss : 0.5886950492858887\n",
      "Epoch : 10, Iteration : 41 , Loss : 0.5816879272460938\n",
      "Epoch : 10, Iteration : 51 , Loss : 0.5886015892028809\n",
      "Epoch : 10, Iteration : 61 , Loss : 0.583089292049408\n",
      "Epoch : 10 , Loss : 0.584701266841612\n"
     ]
    },
    {
     "name": "stderr",
     "output_type": "stream",
     "text": [
      "INFO:root:Evaluating accuracy on dev set\n",
      "INFO:root:Train loss: 0.584701266841612 - acc: 0.7533293272563285 -- Validation loss: 0.5919979810714722 - acc: 0.5761199920760477\n",
      " 33%|███▎      | 10/30 [00:18<00:36,  1.80s/it]"
     ]
    },
    {
     "name": "stdout",
     "output_type": "stream",
     "text": [
      "Epoch : 10, Validation Iteration : 1 , Loss : 0.5894591808319092\n",
      "Epoch : 10, Validation Loss : 0.5919979810714722\n",
      "Epoch : 11, Iteration : 1 , Loss : 0.577290415763855\n",
      "Epoch : 11, Iteration : 11 , Loss : 0.58884197473526\n",
      "Epoch : 11, Iteration : 21 , Loss : 0.584261417388916\n",
      "Epoch : 11, Iteration : 31 , Loss : 0.5860637426376343\n",
      "Epoch : 11, Iteration : 41 , Loss : 0.5795212984085083\n",
      "Epoch : 11, Iteration : 51 , Loss : 0.5864298343658447\n"
     ]
    },
    {
     "name": "stderr",
     "output_type": "stream",
     "text": [
      "INFO:root:Evaluating accuracy on dev set\n"
     ]
    },
    {
     "name": "stdout",
     "output_type": "stream",
     "text": [
      "Epoch : 11, Iteration : 61 , Loss : 0.5813080072402954\n",
      "Epoch : 11 , Loss : 0.5817217412202255\n"
     ]
    },
    {
     "name": "stderr",
     "output_type": "stream",
     "text": [
      "INFO:root:Train loss: 0.5817217412202255 - acc: 0.7645619770721437 -- Validation loss: 0.5900991218430656 - acc: 0.5798608275961202\n",
      " 37%|███▋      | 11/30 [00:19<00:34,  1.80s/it]"
     ]
    },
    {
     "name": "stdout",
     "output_type": "stream",
     "text": [
      "Epoch : 11, Validation Iteration : 1 , Loss : 0.5882253646850586\n",
      "Epoch : 11, Validation Loss : 0.5900991218430656\n",
      "Epoch : 12, Iteration : 1 , Loss : 0.574482798576355\n",
      "Epoch : 12, Iteration : 11 , Loss : 0.584112286567688\n",
      "Epoch : 12, Iteration : 21 , Loss : 0.5825045108795166\n",
      "Epoch : 12, Iteration : 31 , Loss : 0.5854439735412598\n",
      "Epoch : 12, Iteration : 41 , Loss : 0.579270601272583\n",
      "Epoch : 12, Iteration : 51 , Loss : 0.5836591720581055\n",
      "Epoch : 12, Iteration : 61 , Loss : 0.580766499042511\n",
      "Epoch : 12 , Loss : 0.5802960076193878\n"
     ]
    },
    {
     "name": "stderr",
     "output_type": "stream",
     "text": [
      "INFO:root:Evaluating accuracy on dev set\n",
      "INFO:root:Train loss: 0.5802960076193878 - acc: 0.7718234712775607 -- Validation loss: 0.5900282859802246 - acc: 0.5688835427295649\n",
      " 40%|████      | 12/30 [00:21<00:32,  1.80s/it]"
     ]
    },
    {
     "name": "stdout",
     "output_type": "stream",
     "text": [
      "Epoch : 12, Validation Iteration : 1 , Loss : 0.5898627042770386\n",
      "Epoch : 12, Validation Loss : 0.5900282859802246\n",
      "Epoch : 13, Iteration : 1 , Loss : 0.5733165144920349\n",
      "Epoch : 13, Iteration : 11 , Loss : 0.5819724798202515\n",
      "Epoch : 13, Iteration : 21 , Loss : 0.5823354721069336\n",
      "Epoch : 13, Iteration : 31 , Loss : 0.5839335918426514\n",
      "Epoch : 13, Iteration : 41 , Loss : 0.5765605568885803\n",
      "Epoch : 13, Iteration : 51 , Loss : 0.5843452215194702\n",
      "Epoch : 13, Iteration : 61 , Loss : 0.5793920159339905\n",
      "Epoch : 13 , Loss : 0.5792948940525884\n"
     ]
    },
    {
     "name": "stderr",
     "output_type": "stream",
     "text": [
      "INFO:root:Evaluating accuracy on dev set\n",
      "INFO:root:Train loss: 0.5792948940525884 - acc: 0.7778595782459151 -- Validation loss: 0.5897662809916905 - acc: 0.5868734050634273\n",
      " 43%|████▎     | 13/30 [00:23<00:30,  1.79s/it]"
     ]
    },
    {
     "name": "stdout",
     "output_type": "stream",
     "text": [
      "Epoch : 13, Validation Iteration : 1 , Loss : 0.5900678634643555\n",
      "Epoch : 13, Validation Loss : 0.5897662809916905\n",
      "Epoch : 14, Iteration : 1 , Loss : 0.5731400847434998\n",
      "Epoch : 14, Iteration : 11 , Loss : 0.581052303314209\n",
      "Epoch : 14, Iteration : 21 , Loss : 0.5801308155059814\n",
      "Epoch : 14, Iteration : 31 , Loss : 0.5837293267250061\n",
      "Epoch : 14, Iteration : 41 , Loss : 0.574669361114502\n",
      "Epoch : 14, Iteration : 51 , Loss : 0.5830321907997131\n"
     ]
    },
    {
     "name": "stderr",
     "output_type": "stream",
     "text": [
      "INFO:root:Evaluating accuracy on dev set\n"
     ]
    },
    {
     "name": "stdout",
     "output_type": "stream",
     "text": [
      "Epoch : 14, Iteration : 61 , Loss : 0.5789501070976257\n",
      "Epoch : 14 , Loss : 0.5785378597784734\n"
     ]
    },
    {
     "name": "stderr",
     "output_type": "stream",
     "text": [
      "INFO:root:Train loss: 0.5785378597784734 - acc: 0.7864767866560083 -- Validation loss: 0.5894325120108468 - acc: 0.5854799782997692\n",
      " 47%|████▋     | 14/30 [00:25<00:28,  1.79s/it]"
     ]
    },
    {
     "name": "stdout",
     "output_type": "stream",
     "text": [
      "Epoch : 14, Validation Iteration : 1 , Loss : 0.5882126092910767\n",
      "Epoch : 14, Validation Loss : 0.5894325120108468\n",
      "Epoch : 15, Iteration : 1 , Loss : 0.5730769634246826\n",
      "Epoch : 15, Iteration : 11 , Loss : 0.5806858539581299\n",
      "Epoch : 15, Iteration : 21 , Loss : 0.5797133445739746\n",
      "Epoch : 15, Iteration : 31 , Loss : 0.5832297801971436\n",
      "Epoch : 15, Iteration : 41 , Loss : 0.5748425722122192\n",
      "Epoch : 15, Iteration : 51 , Loss : 0.5820399522781372\n"
     ]
    },
    {
     "name": "stderr",
     "output_type": "stream",
     "text": [
      "INFO:root:Evaluating accuracy on dev set\n"
     ]
    },
    {
     "name": "stdout",
     "output_type": "stream",
     "text": [
      "Epoch : 15, Iteration : 61 , Loss : 0.5781242251396179\n",
      "Epoch : 15 , Loss : 0.5782873716907225\n"
     ]
    },
    {
     "name": "stderr",
     "output_type": "stream",
     "text": [
      "INFO:root:new model saved\n",
      "INFO:root:Train loss: 0.5782873716907225 - acc: 0.7876374727169676 -- Validation loss: 0.5892072064535958 - acc: 0.5937429588518712\n",
      " 50%|█████     | 15/30 [00:27<00:27,  1.81s/it]"
     ]
    },
    {
     "name": "stdout",
     "output_type": "stream",
     "text": [
      "Epoch : 15, Validation Iteration : 1 , Loss : 0.5894676446914673\n",
      "Epoch : 15, Validation Loss : 0.5892072064535958\n",
      "Epoch : 16, Iteration : 1 , Loss : 0.5719201564788818\n",
      "Epoch : 16, Iteration : 11 , Loss : 0.579584002494812\n",
      "Epoch : 16, Iteration : 21 , Loss : 0.5792692303657532\n",
      "Epoch : 16, Iteration : 31 , Loss : 0.5825134515762329\n",
      "Epoch : 16, Iteration : 41 , Loss : 0.5742289423942566\n",
      "Epoch : 16, Iteration : 51 , Loss : 0.5820225477218628\n"
     ]
    },
    {
     "name": "stderr",
     "output_type": "stream",
     "text": [
      "INFO:root:Evaluating accuracy on dev set\n"
     ]
    },
    {
     "name": "stdout",
     "output_type": "stream",
     "text": [
      "Epoch : 16, Iteration : 61 , Loss : 0.5779252052307129\n",
      "Epoch : 16 , Loss : 0.5779402160990066\n"
     ]
    },
    {
     "name": "stderr",
     "output_type": "stream",
     "text": [
      "INFO:root:Train loss: 0.5779402160990066 - acc: 0.7907491890012864 -- Validation loss: 0.5895205651010785 - acc: 0.5810849282448862\n",
      " 53%|█████▎    | 16/30 [00:28<00:25,  1.80s/it]"
     ]
    },
    {
     "name": "stdout",
     "output_type": "stream",
     "text": [
      "Epoch : 16, Validation Iteration : 1 , Loss : 0.5883032083511353\n",
      "Epoch : 16, Validation Loss : 0.5895205651010785\n",
      "Epoch : 17, Iteration : 1 , Loss : 0.5721149444580078\n",
      "Epoch : 17, Iteration : 11 , Loss : 0.5801174640655518\n",
      "Epoch : 17, Iteration : 21 , Loss : 0.5785428285598755\n",
      "Epoch : 17, Iteration : 31 , Loss : 0.5833817720413208\n",
      "Epoch : 17, Iteration : 41 , Loss : 0.5739548206329346\n",
      "Epoch : 17, Iteration : 51 , Loss : 0.5821834802627563\n"
     ]
    },
    {
     "name": "stderr",
     "output_type": "stream",
     "text": [
      "INFO:root:Evaluating accuracy on dev set\n"
     ]
    },
    {
     "name": "stdout",
     "output_type": "stream",
     "text": [
      "Epoch : 17, Iteration : 61 , Loss : 0.5775691866874695\n",
      "Epoch : 17 , Loss : 0.5777923326561416\n"
     ]
    },
    {
     "name": "stderr",
     "output_type": "stream",
     "text": [
      "INFO:root:new model saved\n",
      "INFO:root:Train loss: 0.5777923326561416 - acc: 0.7915803744542734 -- Validation loss: 0.5886813402175903 - acc: 0.6070430232217655\n",
      " 57%|█████▋    | 17/30 [00:30<00:23,  1.81s/it]"
     ]
    },
    {
     "name": "stdout",
     "output_type": "stream",
     "text": [
      "Epoch : 17, Validation Iteration : 1 , Loss : 0.5881999731063843\n",
      "Epoch : 17, Validation Loss : 0.5886813402175903\n",
      "Epoch : 18, Iteration : 1 , Loss : 0.5725231170654297\n",
      "Epoch : 18, Iteration : 11 , Loss : 0.5796129703521729\n",
      "Epoch : 18, Iteration : 21 , Loss : 0.5791900157928467\n",
      "Epoch : 18, Iteration : 31 , Loss : 0.5826532244682312\n",
      "Epoch : 18, Iteration : 41 , Loss : 0.5738217830657959\n",
      "Epoch : 18, Iteration : 51 , Loss : 0.5819823145866394\n"
     ]
    },
    {
     "name": "stderr",
     "output_type": "stream",
     "text": [
      "INFO:root:Evaluating accuracy on dev set\n"
     ]
    },
    {
     "name": "stdout",
     "output_type": "stream",
     "text": [
      "Epoch : 18, Iteration : 61 , Loss : 0.5777099132537842\n",
      "Epoch : 18 , Loss : 0.5777915595234304\n"
     ]
    },
    {
     "name": "stderr",
     "output_type": "stream",
     "text": [
      "INFO:root:Train loss: 0.5777915595234304 - acc: 0.7928151635297721 -- Validation loss: 0.5895339591162545 - acc: 0.5768996284050513\n",
      " 60%|██████    | 18/30 [00:32<00:21,  1.80s/it]"
     ]
    },
    {
     "name": "stdout",
     "output_type": "stream",
     "text": [
      "Epoch : 18, Validation Iteration : 1 , Loss : 0.5893211364746094\n",
      "Epoch : 18, Validation Loss : 0.5895339591162545\n",
      "Epoch : 19, Iteration : 1 , Loss : 0.5731993913650513\n",
      "Epoch : 19, Iteration : 11 , Loss : 0.5808131694793701\n",
      "Epoch : 19, Iteration : 21 , Loss : 0.5783756971359253\n",
      "Epoch : 19, Iteration : 31 , Loss : 0.5829454660415649\n",
      "Epoch : 19, Iteration : 41 , Loss : 0.5742441415786743\n",
      "Epoch : 19, Iteration : 51 , Loss : 0.5817372798919678\n"
     ]
    },
    {
     "name": "stderr",
     "output_type": "stream",
     "text": [
      "INFO:root:Evaluating accuracy on dev set\n"
     ]
    },
    {
     "name": "stdout",
     "output_type": "stream",
     "text": [
      "Epoch : 19, Iteration : 61 , Loss : 0.5776698589324951\n",
      "Epoch : 19 , Loss : 0.5775332908699478\n"
     ]
    },
    {
     "name": "stderr",
     "output_type": "stream",
     "text": [
      "INFO:root:Train loss: 0.5775332908699478 - acc: 0.7939392339571872 -- Validation loss: 0.5887111851147243 - acc: 0.5952005019863067\n",
      " 63%|██████▎   | 19/30 [00:34<00:19,  1.79s/it]"
     ]
    },
    {
     "name": "stdout",
     "output_type": "stream",
     "text": [
      "Epoch : 19, Validation Iteration : 1 , Loss : 0.5889465808868408\n",
      "Epoch : 19, Validation Loss : 0.5887111851147243\n",
      "Epoch : 20, Iteration : 1 , Loss : 0.5718304514884949\n",
      "Epoch : 20, Iteration : 11 , Loss : 0.5830407738685608\n",
      "Epoch : 20, Iteration : 21 , Loss : 0.5780407190322876\n",
      "Epoch : 20, Iteration : 31 , Loss : 0.58259117603302\n",
      "Epoch : 20, Iteration : 41 , Loss : 0.5733393430709839\n",
      "Epoch : 20, Iteration : 51 , Loss : 0.5816934704780579\n",
      "Epoch : 20, Iteration : 61 , Loss : 0.5770443677902222\n",
      "Epoch : 20 , Loss : 0.5773529462192369\n"
     ]
    },
    {
     "name": "stderr",
     "output_type": "stream",
     "text": [
      "INFO:root:Evaluating accuracy on dev set\n",
      "INFO:root:Train loss: 0.5773529462192369 - acc: 0.7952483123553356 -- Validation loss: 0.5892304096903119 - acc: 0.5874457674881538\n",
      " 67%|██████▋   | 20/30 [00:36<00:17,  1.80s/it]"
     ]
    },
    {
     "name": "stdout",
     "output_type": "stream",
     "text": [
      "Epoch : 20, Validation Iteration : 1 , Loss : 0.5890803337097168\n",
      "Epoch : 20, Validation Loss : 0.5892304096903119\n",
      "Epoch : 21, Iteration : 1 , Loss : 0.5715476274490356\n",
      "Epoch : 21, Iteration : 11 , Loss : 0.5867034196853638\n",
      "Epoch : 21, Iteration : 21 , Loss : 0.5781266689300537\n",
      "Epoch : 21, Iteration : 31 , Loss : 0.5823631286621094\n",
      "Epoch : 21, Iteration : 41 , Loss : 0.5734331607818604\n",
      "Epoch : 21, Iteration : 51 , Loss : 0.5816288590431213\n"
     ]
    },
    {
     "name": "stderr",
     "output_type": "stream",
     "text": [
      "INFO:root:Evaluating accuracy on dev set\n"
     ]
    },
    {
     "name": "stdout",
     "output_type": "stream",
     "text": [
      "Epoch : 21, Iteration : 61 , Loss : 0.5771042108535767\n",
      "Epoch : 21 , Loss : 0.5773278025613315\n"
     ]
    },
    {
     "name": "stderr",
     "output_type": "stream",
     "text": [
      "INFO:root:Train loss: 0.5773278025613315 - acc: 0.7953523623728821 -- Validation loss: 0.5886253288814 - acc: 0.5950430889340432\n",
      " 70%|███████   | 21/30 [00:37<00:16,  1.80s/it]"
     ]
    },
    {
     "name": "stdout",
     "output_type": "stream",
     "text": [
      "Epoch : 21, Validation Iteration : 1 , Loss : 0.5888603925704956\n",
      "Epoch : 21, Validation Loss : 0.5886253288814\n",
      "Epoch : 22, Iteration : 1 , Loss : 0.5719426870346069\n",
      "Epoch : 22, Iteration : 11 , Loss : 0.5826848745346069\n",
      "Epoch : 22, Iteration : 21 , Loss : 0.5780600309371948\n",
      "Epoch : 22, Iteration : 31 , Loss : 0.5818345546722412\n",
      "Epoch : 22, Iteration : 41 , Loss : 0.5731877088546753\n",
      "Epoch : 22, Iteration : 51 , Loss : 0.5829018354415894\n"
     ]
    },
    {
     "name": "stderr",
     "output_type": "stream",
     "text": [
      "INFO:root:Evaluating accuracy on dev set\n"
     ]
    },
    {
     "name": "stdout",
     "output_type": "stream",
     "text": [
      "Epoch : 22, Iteration : 61 , Loss : 0.5774688720703125\n",
      "Epoch : 22 , Loss : 0.577279521935228\n"
     ]
    },
    {
     "name": "stderr",
     "output_type": "stream",
     "text": [
      "INFO:root:Train loss: 0.577279521935228 - acc: 0.7966635493601926 -- Validation loss: 0.5887865083558219 - acc: 0.5806161693086391\n",
      " 73%|███████▎  | 22/30 [00:39<00:14,  1.79s/it]"
     ]
    },
    {
     "name": "stdout",
     "output_type": "stream",
     "text": [
      "Epoch : 22, Validation Iteration : 1 , Loss : 0.5880414843559265\n",
      "Epoch : 22, Validation Loss : 0.5887865083558219\n",
      "Epoch : 23, Iteration : 1 , Loss : 0.5727111101150513\n",
      "Epoch : 23, Iteration : 11 , Loss : 0.5824447870254517\n",
      "Epoch : 23, Iteration : 21 , Loss : 0.5782469511032104\n",
      "Epoch : 23, Iteration : 31 , Loss : 0.5818812251091003\n",
      "Epoch : 23, Iteration : 41 , Loss : 0.5729933977127075\n",
      "Epoch : 23, Iteration : 51 , Loss : 0.581566572189331\n"
     ]
    },
    {
     "name": "stderr",
     "output_type": "stream",
     "text": [
      "INFO:root:Evaluating accuracy on dev set\n"
     ]
    },
    {
     "name": "stdout",
     "output_type": "stream",
     "text": [
      "Epoch : 23, Iteration : 61 , Loss : 0.5773377418518066\n",
      "Epoch : 23 , Loss : 0.57707829406296\n"
     ]
    },
    {
     "name": "stderr",
     "output_type": "stream",
     "text": [
      "INFO:root:Train loss: 0.57707829406296 - acc: 0.7987730956331508 -- Validation loss: 0.5885830691882542 - acc: 0.5854354047058886\n",
      " 77%|███████▋  | 23/30 [00:41<00:12,  1.79s/it]"
     ]
    },
    {
     "name": "stdout",
     "output_type": "stream",
     "text": [
      "Epoch : 23, Validation Iteration : 1 , Loss : 0.5885559320449829\n",
      "Epoch : 23, Validation Loss : 0.5885830691882542\n",
      "Epoch : 24, Iteration : 1 , Loss : 0.5725634098052979\n",
      "Epoch : 24, Iteration : 11 , Loss : 0.5809906721115112\n",
      "Epoch : 24, Iteration : 21 , Loss : 0.5779584646224976\n",
      "Epoch : 24, Iteration : 31 , Loss : 0.5816384553909302\n",
      "Epoch : 24, Iteration : 41 , Loss : 0.5731546878814697\n",
      "Epoch : 24, Iteration : 51 , Loss : 0.5822150707244873\n"
     ]
    },
    {
     "name": "stderr",
     "output_type": "stream",
     "text": [
      "INFO:root:Evaluating accuracy on dev set\n"
     ]
    },
    {
     "name": "stdout",
     "output_type": "stream",
     "text": [
      "Epoch : 24, Iteration : 61 , Loss : 0.5783889293670654\n",
      "Epoch : 24 , Loss : 0.5771409851917322\n"
     ]
    },
    {
     "name": "stderr",
     "output_type": "stream",
     "text": [
      "INFO:root:Train loss: 0.5771409851917322 - acc: 0.7983919126392701 -- Validation loss: 0.588263486112867 - acc: 0.596343486725488\n",
      " 80%|████████  | 24/30 [00:43<00:10,  1.78s/it]"
     ]
    },
    {
     "name": "stdout",
     "output_type": "stream",
     "text": [
      "Epoch : 24, Validation Iteration : 1 , Loss : 0.5893512964248657\n",
      "Epoch : 24, Validation Loss : 0.588263486112867\n",
      "Epoch : 25, Iteration : 1 , Loss : 0.5714191198348999\n",
      "Epoch : 25, Iteration : 11 , Loss : 0.5801399946212769\n",
      "Epoch : 25, Iteration : 21 , Loss : 0.5782091617584229\n",
      "Epoch : 25, Iteration : 31 , Loss : 0.5816671848297119\n",
      "Epoch : 25, Iteration : 41 , Loss : 0.5728381276130676\n",
      "Epoch : 25, Iteration : 51 , Loss : 0.5808702707290649\n"
     ]
    },
    {
     "name": "stderr",
     "output_type": "stream",
     "text": [
      "INFO:root:Evaluating accuracy on dev set\n"
     ]
    },
    {
     "name": "stdout",
     "output_type": "stream",
     "text": [
      "Epoch : 25, Iteration : 61 , Loss : 0.577782928943634\n",
      "Epoch : 25 , Loss : 0.5771278678507045\n"
     ]
    },
    {
     "name": "stderr",
     "output_type": "stream",
     "text": [
      "INFO:root:Train loss: 0.5771278678507045 - acc: 0.7984804858115575 -- Validation loss: 0.5890973891530719 - acc: 0.582492208963399\n",
      " 83%|████████▎ | 25/30 [00:44<00:08,  1.78s/it]"
     ]
    },
    {
     "name": "stdout",
     "output_type": "stream",
     "text": [
      "Epoch : 25, Validation Iteration : 1 , Loss : 0.5882976055145264\n",
      "Epoch : 25, Validation Loss : 0.5890973891530719\n",
      "Epoch : 26, Iteration : 1 , Loss : 0.5712210536003113\n",
      "Epoch : 26, Iteration : 11 , Loss : 0.5798649191856384\n",
      "Epoch : 26, Iteration : 21 , Loss : 0.5786359310150146\n",
      "Epoch : 26, Iteration : 31 , Loss : 0.5817471146583557\n",
      "Epoch : 26, Iteration : 41 , Loss : 0.5730984210968018\n",
      "Epoch : 26, Iteration : 51 , Loss : 0.5809584259986877\n"
     ]
    },
    {
     "name": "stderr",
     "output_type": "stream",
     "text": [
      "INFO:root:Evaluating accuracy on dev set\n"
     ]
    },
    {
     "name": "stdout",
     "output_type": "stream",
     "text": [
      "Epoch : 26, Iteration : 61 , Loss : 0.5775186419487\n",
      "Epoch : 26 , Loss : 0.5769954643387726\n"
     ]
    },
    {
     "name": "stderr",
     "output_type": "stream",
     "text": [
      "INFO:root:Train loss: 0.5769954643387726 - acc: 0.7989102667078056 -- Validation loss: 0.589058884552547 - acc: 0.5751664785745185\n",
      " 87%|████████▋ | 26/30 [00:46<00:07,  1.79s/it]"
     ]
    },
    {
     "name": "stdout",
     "output_type": "stream",
     "text": [
      "Epoch : 26, Validation Iteration : 1 , Loss : 0.5889429450035095\n",
      "Epoch : 26, Validation Loss : 0.589058884552547\n",
      "Epoch : 27, Iteration : 1 , Loss : 0.5713191032409668\n",
      "Epoch : 27, Iteration : 11 , Loss : 0.5801847577095032\n",
      "Epoch : 27, Iteration : 21 , Loss : 0.5784809589385986\n",
      "Epoch : 27, Iteration : 31 , Loss : 0.5815876126289368\n",
      "Epoch : 27, Iteration : 41 , Loss : 0.5733759999275208\n",
      "Epoch : 27, Iteration : 51 , Loss : 0.5813944339752197\n"
     ]
    },
    {
     "name": "stderr",
     "output_type": "stream",
     "text": [
      "INFO:root:Evaluating accuracy on dev set\n"
     ]
    },
    {
     "name": "stdout",
     "output_type": "stream",
     "text": [
      "Epoch : 27, Iteration : 61 , Loss : 0.5771230459213257\n",
      "Epoch : 27 , Loss : 0.5770249366760254\n",
      "Epoch : 27, Validation Iteration : 1 , Loss : 0.5886491537094116\n"
     ]
    },
    {
     "name": "stderr",
     "output_type": "stream",
     "text": [
      "INFO:root:Train loss: 0.5770249366760254 - acc: 0.7986623141557425 -- Validation loss: 0.5892853992325919 - acc: 0.5698026555895704\n",
      " 90%|█████████ | 27/30 [00:48<00:05,  1.78s/it]"
     ]
    },
    {
     "name": "stdout",
     "output_type": "stream",
     "text": [
      "Epoch : 27, Validation Loss : 0.5892853992325919\n",
      "Epoch : 28, Iteration : 1 , Loss : 0.5713874101638794\n",
      "Epoch : 28, Iteration : 11 , Loss : 0.5807362794876099\n",
      "Epoch : 28, Iteration : 21 , Loss : 0.5781474709510803\n",
      "Epoch : 28, Iteration : 31 , Loss : 0.5814931988716125\n",
      "Epoch : 28, Iteration : 41 , Loss : 0.5728760957717896\n",
      "Epoch : 28, Iteration : 51 , Loss : 0.5817614197731018\n",
      "Epoch : 28, Iteration : 61 , Loss : 0.5771287679672241\n"
     ]
    },
    {
     "name": "stderr",
     "output_type": "stream",
     "text": [
      "INFO:root:Evaluating accuracy on dev set\n",
      "INFO:root:Train loss: 0.5770475708920023 - acc: 0.7987698267278189 -- Validation loss: 0.5883143629346576 - acc: 0.5846727679156923\n",
      " 93%|█████████▎| 28/30 [00:50<00:03,  1.79s/it]"
     ]
    },
    {
     "name": "stdout",
     "output_type": "stream",
     "text": [
      "Epoch : 28 , Loss : 0.5770475708920023\n",
      "Epoch : 28, Validation Iteration : 1 , Loss : 0.5893117189407349\n",
      "Epoch : 28, Validation Loss : 0.5883143629346576\n",
      "Epoch : 29, Iteration : 1 , Loss : 0.5713617205619812\n",
      "Epoch : 29, Iteration : 11 , Loss : 0.5799492597579956\n",
      "Epoch : 29, Iteration : 21 , Loss : 0.5779050588607788\n",
      "Epoch : 29, Iteration : 31 , Loss : 0.5817159414291382\n",
      "Epoch : 29, Iteration : 41 , Loss : 0.5728424787521362\n",
      "Epoch : 29, Iteration : 51 , Loss : 0.5807326436042786\n"
     ]
    },
    {
     "name": "stderr",
     "output_type": "stream",
     "text": [
      "INFO:root:Evaluating accuracy on dev set\n"
     ]
    },
    {
     "name": "stdout",
     "output_type": "stream",
     "text": [
      "Epoch : 29, Iteration : 61 , Loss : 0.5772913694381714\n",
      "Epoch : 29 , Loss : 0.5769370828849681\n"
     ]
    },
    {
     "name": "stderr",
     "output_type": "stream",
     "text": [
      "INFO:root:Train loss: 0.5769370828849681 - acc: 0.7990854889782407 -- Validation loss: 0.5894769685609 - acc: 0.5730749998826684\n",
      " 97%|█████████▋| 29/30 [00:52<00:01,  1.78s/it]"
     ]
    },
    {
     "name": "stdout",
     "output_type": "stream",
     "text": [
      "Epoch : 29, Validation Iteration : 1 , Loss : 0.5892338752746582\n",
      "Epoch : 29, Validation Loss : 0.5894769685609\n",
      "Epoch : 30, Iteration : 1 , Loss : 0.5712885856628418\n",
      "Epoch : 30, Iteration : 11 , Loss : 0.5793583393096924\n",
      "Epoch : 30, Iteration : 21 , Loss : 0.5782580971717834\n",
      "Epoch : 30, Iteration : 31 , Loss : 0.5817662477493286\n",
      "Epoch : 30, Iteration : 41 , Loss : 0.5726021528244019\n",
      "Epoch : 30, Iteration : 51 , Loss : 0.5806704759597778\n"
     ]
    },
    {
     "name": "stderr",
     "output_type": "stream",
     "text": [
      "INFO:root:Evaluating accuracy on dev set\n"
     ]
    },
    {
     "name": "stdout",
     "output_type": "stream",
     "text": [
      "Epoch : 30, Iteration : 61 , Loss : 0.5774760246276855\n",
      "Epoch : 30 , Loss : 0.5769125084946121\n"
     ]
    },
    {
     "name": "stderr",
     "output_type": "stream",
     "text": [
      "INFO:root:Train loss: 0.5769125084946121 - acc: 0.7996544847595077 -- Validation loss: 0.589024543762207 - acc: 0.5690536719722747\n",
      "100%|██████████| 30/30 [00:53<00:00,  1.80s/it]\n"
     ]
    },
    {
     "name": "stdout",
     "output_type": "stream",
     "text": [
      "Epoch : 30, Validation Iteration : 1 , Loss : 0.5895678997039795\n",
      "Epoch : 30, Validation Loss : 0.589024543762207\n"
     ]
    },
    {
     "name": "stderr",
     "output_type": "stream",
     "text": [
      "\r",
      "  0%|          | 0/30 [00:00<?, ?it/s]"
     ]
    },
    {
     "name": "stdout",
     "output_type": "stream",
     "text": [
      "Epoch : 1, Iteration : 1 , Loss : 1.1522942781448364\n",
      "Epoch : 1, Iteration : 11 , Loss : 1.1568942070007324\n",
      "Epoch : 1, Iteration : 21 , Loss : 1.1274168491363525\n",
      "Epoch : 1, Iteration : 31 , Loss : 1.137549638748169\n",
      "Epoch : 1, Iteration : 41 , Loss : 1.1388046741485596\n",
      "Epoch : 1, Iteration : 51 , Loss : 1.1274683475494385\n"
     ]
    },
    {
     "name": "stderr",
     "output_type": "stream",
     "text": [
      "INFO:root:Evaluating accuracy on dev set\n"
     ]
    },
    {
     "name": "stdout",
     "output_type": "stream",
     "text": [
      "Epoch : 1, Iteration : 61 , Loss : 1.1153682470321655\n",
      "Epoch : 1 , Loss : 1.1363657799319944\n",
      "Epoch : 1, Validation Iteration : 1 , Loss : 1.119185447692871\n"
     ]
    },
    {
     "name": "stderr",
     "output_type": "stream",
     "text": [
      "INFO:root:new model saved\n",
      "INFO:root:Train loss: 1.1363657799319944 - acc: 0.4091942443083524 -- Validation loss: 1.1234947953905379 - acc: 0.5367521388548436\n",
      "  3%|▎         | 1/30 [00:01<00:53,  1.83s/it]"
     ]
    },
    {
     "name": "stdout",
     "output_type": "stream",
     "text": [
      "Epoch : 1, Validation Loss : 1.1234947953905379\n",
      "Epoch : 2, Iteration : 1 , Loss : 1.113586187362671\n",
      "Epoch : 2, Iteration : 11 , Loss : 1.1305781602859497\n",
      "Epoch : 2, Iteration : 21 , Loss : 1.1202843189239502\n",
      "Epoch : 2, Iteration : 31 , Loss : 1.1222357749938965\n",
      "Epoch : 2, Iteration : 41 , Loss : 1.129192590713501\n",
      "Epoch : 2, Iteration : 51 , Loss : 1.1229865550994873\n"
     ]
    },
    {
     "name": "stderr",
     "output_type": "stream",
     "text": [
      "INFO:root:Evaluating accuracy on dev set\n"
     ]
    },
    {
     "name": "stdout",
     "output_type": "stream",
     "text": [
      "Epoch : 2, Iteration : 61 , Loss : 1.1131690740585327\n",
      "Epoch : 2 , Loss : 1.1232703924179077\n"
     ]
    },
    {
     "name": "stderr",
     "output_type": "stream",
     "text": [
      "INFO:root:new model saved\n",
      "INFO:root:Train loss: 1.1232703924179077 - acc: 0.5643418379266741 -- Validation loss: 1.120616044316973 - acc: 0.560970658978649\n",
      "  7%|▋         | 2/30 [00:03<00:51,  1.85s/it]"
     ]
    },
    {
     "name": "stdout",
     "output_type": "stream",
     "text": [
      "Epoch : 2, Validation Iteration : 1 , Loss : 1.118467926979065\n",
      "Epoch : 2, Validation Loss : 1.120616044316973\n",
      "Epoch : 3, Iteration : 1 , Loss : 1.1108028888702393\n",
      "Epoch : 3, Iteration : 11 , Loss : 1.1247715950012207\n",
      "Epoch : 3, Iteration : 21 , Loss : 1.1173557043075562\n",
      "Epoch : 3, Iteration : 31 , Loss : 1.1197237968444824\n",
      "Epoch : 3, Iteration : 41 , Loss : 1.1235878467559814\n",
      "Epoch : 3, Iteration : 51 , Loss : 1.1197493076324463\n"
     ]
    },
    {
     "name": "stderr",
     "output_type": "stream",
     "text": [
      "INFO:root:Evaluating accuracy on dev set\n"
     ]
    },
    {
     "name": "stdout",
     "output_type": "stream",
     "text": [
      "Epoch : 3, Iteration : 61 , Loss : 1.1123738288879395\n",
      "Epoch : 3 , Loss : 1.1193801078243533\n"
     ]
    },
    {
     "name": "stderr",
     "output_type": "stream",
     "text": [
      "INFO:root:new model saved\n",
      "INFO:root:Train loss: 1.1193801078243533 - acc: 0.6127111697853042 -- Validation loss: 1.1194081817354475 - acc: 0.5663251790663757\n",
      " 10%|█         | 3/30 [00:05<00:49,  1.84s/it]"
     ]
    },
    {
     "name": "stdout",
     "output_type": "stream",
     "text": [
      "Epoch : 3, Validation Iteration : 1 , Loss : 1.118030071258545\n",
      "Epoch : 3, Validation Loss : 1.1194081817354475\n",
      "Epoch : 4, Iteration : 1 , Loss : 1.109334111213684\n",
      "Epoch : 4, Iteration : 11 , Loss : 1.1217693090438843\n",
      "Epoch : 4, Iteration : 21 , Loss : 1.1162505149841309\n",
      "Epoch : 4, Iteration : 31 , Loss : 1.1184840202331543\n",
      "Epoch : 4, Iteration : 41 , Loss : 1.1202619075775146\n",
      "Epoch : 4, Iteration : 51 , Loss : 1.1173937320709229\n"
     ]
    },
    {
     "name": "stderr",
     "output_type": "stream",
     "text": [
      "INFO:root:Evaluating accuracy on dev set\n"
     ]
    },
    {
     "name": "stdout",
     "output_type": "stream",
     "text": [
      "Epoch : 4, Iteration : 61 , Loss : 1.1113429069519043\n",
      "Epoch : 4 , Loss : 1.1169551109922105\n"
     ]
    },
    {
     "name": "stderr",
     "output_type": "stream",
     "text": [
      "INFO:root:new model saved\n",
      "INFO:root:Train loss: 1.1169551109922105 - acc: 0.6429388621845699 -- Validation loss: 1.1184923478535242 - acc: 0.5726087172571928\n",
      " 13%|█▎        | 4/30 [00:07<00:47,  1.84s/it]"
     ]
    },
    {
     "name": "stdout",
     "output_type": "stream",
     "text": [
      "Epoch : 4, Validation Iteration : 1 , Loss : 1.1171916723251343\n",
      "Epoch : 4, Validation Loss : 1.1184923478535242\n",
      "Epoch : 5, Iteration : 1 , Loss : 1.1079100370407104\n",
      "Epoch : 5, Iteration : 11 , Loss : 1.119372844696045\n",
      "Epoch : 5, Iteration : 21 , Loss : 1.1153509616851807\n",
      "Epoch : 5, Iteration : 31 , Loss : 1.1175994873046875\n",
      "Epoch : 5, Iteration : 41 , Loss : 1.1173186302185059\n",
      "Epoch : 5, Iteration : 51 , Loss : 1.1158313751220703\n"
     ]
    },
    {
     "name": "stderr",
     "output_type": "stream",
     "text": [
      "INFO:root:Evaluating accuracy on dev set\n"
     ]
    },
    {
     "name": "stdout",
     "output_type": "stream",
     "text": [
      "Epoch : 5, Iteration : 61 , Loss : 1.1102476119995117\n",
      "Epoch : 5 , Loss : 1.1151561305142832\n",
      "Epoch : 5, Validation Iteration : 1 , Loss : 1.1165401935577393\n"
     ]
    },
    {
     "name": "stderr",
     "output_type": "stream",
     "text": [
      "INFO:root:new model saved\n",
      "INFO:root:Train loss: 1.1151561305142832 - acc: 0.6652279721774609 -- Validation loss: 1.1178151539393835 - acc: 0.5800051898213464\n",
      " 17%|█▋        | 5/30 [00:09<00:45,  1.83s/it]"
     ]
    },
    {
     "name": "stdout",
     "output_type": "stream",
     "text": [
      "Epoch : 5, Validation Loss : 1.1178151539393835\n",
      "Epoch : 6, Iteration : 1 , Loss : 1.1070034503936768\n",
      "Epoch : 6, Iteration : 11 , Loss : 1.1172149181365967\n",
      "Epoch : 6, Iteration : 21 , Loss : 1.1145572662353516\n",
      "Epoch : 6, Iteration : 31 , Loss : 1.1169159412384033\n",
      "Epoch : 6, Iteration : 41 , Loss : 1.1151349544525146\n",
      "Epoch : 6, Iteration : 51 , Loss : 1.1148406267166138\n"
     ]
    },
    {
     "name": "stderr",
     "output_type": "stream",
     "text": [
      "INFO:root:Evaluating accuracy on dev set\n"
     ]
    },
    {
     "name": "stdout",
     "output_type": "stream",
     "text": [
      "Epoch : 6, Iteration : 61 , Loss : 1.1093724966049194\n",
      "Epoch : 6 , Loss : 1.1137375296026035\n"
     ]
    },
    {
     "name": "stderr",
     "output_type": "stream",
     "text": [
      "INFO:root:new model saved\n",
      "INFO:root:Train loss: 1.1137375296026035 - acc: 0.6828420407080023 -- Validation loss: 1.1171435458319527 - acc: 0.5873069602303331\n",
      " 20%|██        | 6/30 [00:11<00:44,  1.83s/it]"
     ]
    },
    {
     "name": "stdout",
     "output_type": "stream",
     "text": [
      "Epoch : 6, Validation Iteration : 1 , Loss : 1.1158652305603027\n",
      "Epoch : 6, Validation Loss : 1.1171435458319527\n",
      "Epoch : 7, Iteration : 1 , Loss : 1.1060845851898193\n",
      "Epoch : 7, Iteration : 11 , Loss : 1.1154074668884277\n",
      "Epoch : 7, Iteration : 21 , Loss : 1.1138215065002441\n",
      "Epoch : 7, Iteration : 31 , Loss : 1.1162470579147339\n",
      "Epoch : 7, Iteration : 41 , Loss : 1.1131861209869385\n",
      "Epoch : 7, Iteration : 51 , Loss : 1.1139845848083496\n"
     ]
    },
    {
     "name": "stderr",
     "output_type": "stream",
     "text": [
      "INFO:root:Evaluating accuracy on dev set\n"
     ]
    },
    {
     "name": "stdout",
     "output_type": "stream",
     "text": [
      "Epoch : 7, Iteration : 61 , Loss : 1.108900547027588\n",
      "Epoch : 7 , Loss : 1.1125440649364307\n",
      "Epoch : 7, Validation Iteration : 1 , Loss : 1.1152713298797607\n"
     ]
    },
    {
     "name": "stderr",
     "output_type": "stream",
     "text": [
      "INFO:root:new model saved\n",
      "INFO:root:Train loss: 1.1125440649364307 - acc: 0.6973911895041425 -- Validation loss: 1.1166198253631592 - acc: 0.593232704978378\n",
      " 23%|██▎       | 7/30 [00:12<00:42,  1.83s/it]"
     ]
    },
    {
     "name": "stdout",
     "output_type": "stream",
     "text": [
      "Epoch : 7, Validation Loss : 1.1166198253631592\n",
      "Epoch : 8, Iteration : 1 , Loss : 1.1054319143295288\n",
      "Epoch : 8, Iteration : 11 , Loss : 1.1139123439788818\n",
      "Epoch : 8, Iteration : 21 , Loss : 1.1130928993225098\n",
      "Epoch : 8, Iteration : 31 , Loss : 1.1156017780303955\n",
      "Epoch : 8, Iteration : 41 , Loss : 1.111663818359375\n",
      "Epoch : 8, Iteration : 51 , Loss : 1.1133379936218262\n"
     ]
    },
    {
     "name": "stderr",
     "output_type": "stream",
     "text": [
      "INFO:root:Evaluating accuracy on dev set\n"
     ]
    },
    {
     "name": "stdout",
     "output_type": "stream",
     "text": [
      "Epoch : 8, Iteration : 61 , Loss : 1.108120322227478\n",
      "Epoch : 8 , Loss : 1.111462155977885\n"
     ]
    },
    {
     "name": "stderr",
     "output_type": "stream",
     "text": [
      "INFO:root:new model saved\n",
      "INFO:root:Train loss: 1.111462155977885 - acc: 0.7101161002627152 -- Validation loss: 1.1159427506583077 - acc: 0.5991628000021019\n",
      " 27%|██▋       | 8/30 [00:14<00:40,  1.83s/it]"
     ]
    },
    {
     "name": "stdout",
     "output_type": "stream",
     "text": [
      "Epoch : 8, Validation Iteration : 1 , Loss : 1.1146535873413086\n",
      "Epoch : 8, Validation Loss : 1.1159427506583077\n",
      "Epoch : 9, Iteration : 1 , Loss : 1.104640245437622\n",
      "Epoch : 9, Iteration : 11 , Loss : 1.1123509407043457\n",
      "Epoch : 9, Iteration : 21 , Loss : 1.1120048761367798\n",
      "Epoch : 9, Iteration : 31 , Loss : 1.1142358779907227\n",
      "Epoch : 9, Iteration : 41 , Loss : 1.1090083122253418\n",
      "Epoch : 9, Iteration : 51 , Loss : 1.1103951930999756\n"
     ]
    },
    {
     "name": "stderr",
     "output_type": "stream",
     "text": [
      "INFO:root:Evaluating accuracy on dev set\n"
     ]
    },
    {
     "name": "stdout",
     "output_type": "stream",
     "text": [
      "Epoch : 9, Iteration : 61 , Loss : 1.1015958786010742\n",
      "Epoch : 9 , Loss : 1.1082230961841086\n"
     ]
    },
    {
     "name": "stderr",
     "output_type": "stream",
     "text": [
      "INFO:root:new model saved\n",
      "INFO:root:Train loss: 1.1082230961841086 - acc: 0.7211870541996762 -- Validation loss: 1.1003661155700684 - acc: 0.5995409393495883\n",
      " 30%|███       | 9/30 [00:16<00:38,  1.83s/it]"
     ]
    },
    {
     "name": "stdout",
     "output_type": "stream",
     "text": [
      "Epoch : 9, Validation Iteration : 1 , Loss : 1.098970890045166\n",
      "Epoch : 9, Validation Loss : 1.1003661155700684\n",
      "Epoch : 10, Iteration : 1 , Loss : 1.0889596939086914\n",
      "Epoch : 10, Iteration : 11 , Loss : 1.0909383296966553\n",
      "Epoch : 10, Iteration : 21 , Loss : 1.0858020782470703\n",
      "Epoch : 10, Iteration : 31 , Loss : 1.0877070426940918\n",
      "Epoch : 10, Iteration : 41 , Loss : 1.0810378789901733\n",
      "Epoch : 10, Iteration : 51 , Loss : 1.0828537940979004\n"
     ]
    },
    {
     "name": "stderr",
     "output_type": "stream",
     "text": [
      "INFO:root:Evaluating accuracy on dev set\n"
     ]
    },
    {
     "name": "stdout",
     "output_type": "stream",
     "text": [
      "Epoch : 10, Iteration : 61 , Loss : 1.0767667293548584\n",
      "Epoch : 10 , Loss : 1.0837702077368032\n"
     ]
    },
    {
     "name": "stderr",
     "output_type": "stream",
     "text": [
      "INFO:root:new model saved\n",
      "INFO:root:Train loss: 1.0837702077368032 - acc: 0.718827159618002 -- Validation loss: 1.083091105733599 - acc: 0.6052923384338804\n",
      " 33%|███▎      | 10/30 [00:18<00:36,  1.84s/it]"
     ]
    },
    {
     "name": "stdout",
     "output_type": "stream",
     "text": [
      "Epoch : 10, Validation Iteration : 1 , Loss : 1.0815894603729248\n",
      "Epoch : 10, Validation Loss : 1.083091105733599\n",
      "Epoch : 11, Iteration : 1 , Loss : 1.0713351964950562\n",
      "Epoch : 11, Iteration : 11 , Loss : 1.077101469039917\n",
      "Epoch : 11, Iteration : 21 , Loss : 1.0765173435211182\n",
      "Epoch : 11, Iteration : 31 , Loss : 1.0770316123962402\n",
      "Epoch : 11, Iteration : 41 , Loss : 1.0683314800262451\n",
      "Epoch : 11, Iteration : 51 , Loss : 1.0711448192596436\n"
     ]
    },
    {
     "name": "stderr",
     "output_type": "stream",
     "text": [
      "INFO:root:Evaluating accuracy on dev set\n"
     ]
    },
    {
     "name": "stdout",
     "output_type": "stream",
     "text": [
      "Epoch : 11, Iteration : 61 , Loss : 1.0631709098815918\n",
      "Epoch : 11 , Loss : 1.0710406389789304\n"
     ]
    },
    {
     "name": "stderr",
     "output_type": "stream",
     "text": [
      "INFO:root:new model saved\n",
      "INFO:root:Train loss: 1.0710406389789304 - acc: 0.7332391738604616 -- Validation loss: 1.0684494631631034 - acc: 0.6070527276828958\n",
      " 37%|███▋      | 11/30 [00:20<00:34,  1.84s/it]"
     ]
    },
    {
     "name": "stdout",
     "output_type": "stream",
     "text": [
      "Epoch : 11, Validation Iteration : 1 , Loss : 1.0665738582611084\n",
      "Epoch : 11, Validation Loss : 1.0684494631631034\n",
      "Epoch : 12, Iteration : 1 , Loss : 1.0566145181655884\n",
      "Epoch : 12, Iteration : 11 , Loss : 1.0601084232330322\n",
      "Epoch : 12, Iteration : 21 , Loss : 1.0556024312973022\n",
      "Epoch : 12, Iteration : 31 , Loss : 1.0526232719421387\n",
      "Epoch : 12, Iteration : 41 , Loss : 1.0380730628967285\n",
      "Epoch : 12, Iteration : 51 , Loss : 1.0343151092529297\n",
      "Epoch : 12, Iteration : 61 , Loss : 1.0203349590301514\n",
      "Epoch : 12 , Loss : 1.0423114213390627\n"
     ]
    },
    {
     "name": "stderr",
     "output_type": "stream",
     "text": [
      "INFO:root:Evaluating accuracy on dev set\n",
      "INFO:root:new model saved\n",
      "INFO:root:Train loss: 1.0423114213390627 - acc: 0.732032839494352 -- Validation loss: 1.018643924168178 - acc: 0.6203493118322471\n",
      " 40%|████      | 12/30 [00:22<00:33,  1.84s/it]"
     ]
    },
    {
     "name": "stdout",
     "output_type": "stream",
     "text": [
      "Epoch : 12, Validation Iteration : 1 , Loss : 1.0169732570648193\n",
      "Epoch : 12, Validation Loss : 1.018643924168178\n",
      "Epoch : 13, Iteration : 1 , Loss : 1.0086355209350586\n",
      "Epoch : 13, Iteration : 11 , Loss : 1.005466103553772\n",
      "Epoch : 13, Iteration : 21 , Loss : 0.9974844455718994\n",
      "Epoch : 13, Iteration : 31 , Loss : 0.9914907217025757\n",
      "Epoch : 13, Iteration : 41 , Loss : 0.9757007956504822\n",
      "Epoch : 13, Iteration : 51 , Loss : 0.9704858064651489\n"
     ]
    },
    {
     "name": "stderr",
     "output_type": "stream",
     "text": [
      "INFO:root:Evaluating accuracy on dev set\n"
     ]
    },
    {
     "name": "stdout",
     "output_type": "stream",
     "text": [
      "Epoch : 13, Iteration : 61 , Loss : 0.9556920528411865\n",
      "Epoch : 13 , Loss : 0.9826404659644418\n"
     ]
    },
    {
     "name": "stderr",
     "output_type": "stream",
     "text": [
      "INFO:root:Train loss: 0.9826404659644418 - acc: 0.726479796324155 -- Validation loss: 0.9537866626467023 - acc: 0.6048136073272308\n",
      " 43%|████▎     | 13/30 [00:23<00:31,  1.83s/it]"
     ]
    },
    {
     "name": "stdout",
     "output_type": "stream",
     "text": [
      "Epoch : 13, Validation Iteration : 1 , Loss : 0.952448844909668\n",
      "Epoch : 13, Validation Loss : 0.9537866626467023\n",
      "Epoch : 14, Iteration : 1 , Loss : 0.9421903491020203\n",
      "Epoch : 14, Iteration : 11 , Loss : 0.9377444982528687\n",
      "Epoch : 14, Iteration : 21 , Loss : 0.9266910552978516\n",
      "Epoch : 14, Iteration : 31 , Loss : 0.9177924394607544\n",
      "Epoch : 14, Iteration : 41 , Loss : 0.898695170879364\n",
      "Epoch : 14, Iteration : 51 , Loss : 0.8910722732543945\n"
     ]
    },
    {
     "name": "stderr",
     "output_type": "stream",
     "text": [
      "INFO:root:Evaluating accuracy on dev set\n"
     ]
    },
    {
     "name": "stdout",
     "output_type": "stream",
     "text": [
      "Epoch : 14, Iteration : 61 , Loss : 0.8749680519104004\n",
      "Epoch : 14 , Loss : 0.9079075827114824\n"
     ]
    },
    {
     "name": "stderr",
     "output_type": "stream",
     "text": [
      "INFO:root:Train loss: 0.9079075827114824 - acc: 0.7383117508941357 -- Validation loss: 0.8732028688703265 - acc: 0.6049609812817732\n",
      " 47%|████▋     | 14/30 [00:25<00:28,  1.81s/it]"
     ]
    },
    {
     "name": "stdout",
     "output_type": "stream",
     "text": [
      "Epoch : 14, Validation Iteration : 1 , Loss : 0.8708337545394897\n",
      "Epoch : 14, Validation Loss : 0.8732028688703265\n",
      "Epoch : 15, Iteration : 1 , Loss : 0.8604932427406311\n",
      "Epoch : 15, Iteration : 11 , Loss : 0.8573532104492188\n",
      "Epoch : 15, Iteration : 21 , Loss : 0.8485465049743652\n",
      "Epoch : 15, Iteration : 31 , Loss : 0.8426530957221985\n",
      "Epoch : 15, Iteration : 41 , Loss : 0.8278943300247192\n",
      "Epoch : 15, Iteration : 51 , Loss : 0.8258688449859619\n"
     ]
    },
    {
     "name": "stderr",
     "output_type": "stream",
     "text": [
      "INFO:root:Evaluating accuracy on dev set\n"
     ]
    },
    {
     "name": "stdout",
     "output_type": "stream",
     "text": [
      "Epoch : 15, Iteration : 61 , Loss : 0.8141129016876221\n",
      "Epoch : 15 , Loss : 0.8360598190971043\n"
     ]
    },
    {
     "name": "stderr",
     "output_type": "stream",
     "text": [
      "INFO:root:Train loss: 0.8360598190971043 - acc: 0.7511779183772765 -- Validation loss: 0.818022642816816 - acc: 0.612150246868968\n",
      " 50%|█████     | 15/30 [00:27<00:27,  1.80s/it]"
     ]
    },
    {
     "name": "stdout",
     "output_type": "stream",
     "text": [
      "Epoch : 15, Validation Iteration : 1 , Loss : 0.8161178827285767\n",
      "Epoch : 15, Validation Loss : 0.818022642816816\n",
      "Epoch : 16, Iteration : 1 , Loss : 0.8057788610458374\n",
      "Epoch : 16, Iteration : 11 , Loss : 0.8068127632141113\n",
      "Epoch : 16, Iteration : 21 , Loss : 0.8023999333381653\n",
      "Epoch : 16, Iteration : 31 , Loss : 0.8009002208709717\n",
      "Epoch : 16, Iteration : 41 , Loss : 0.7891643047332764\n",
      "Epoch : 16, Iteration : 51 , Loss : 0.7893639802932739\n"
     ]
    },
    {
     "name": "stderr",
     "output_type": "stream",
     "text": [
      "INFO:root:Evaluating accuracy on dev set\n"
     ]
    },
    {
     "name": "stdout",
     "output_type": "stream",
     "text": [
      "Epoch : 16, Iteration : 61 , Loss : 0.7819507122039795\n",
      "Epoch : 16 , Loss : 0.7944895331410394\n"
     ]
    },
    {
     "name": "stderr",
     "output_type": "stream",
     "text": [
      "INFO:root:Train loss: 0.7944895331410394 - acc: 0.7593870932271147 -- Validation loss: 0.7880467517035348 - acc: 0.6084784803412152\n",
      " 53%|█████▎    | 16/30 [00:29<00:25,  1.79s/it]"
     ]
    },
    {
     "name": "stdout",
     "output_type": "stream",
     "text": [
      "Epoch : 16, Validation Iteration : 1 , Loss : 0.7864177227020264\n",
      "Epoch : 16, Validation Loss : 0.7880467517035348\n",
      "Epoch : 17, Iteration : 1 , Loss : 0.7753762006759644\n",
      "Epoch : 17, Iteration : 11 , Loss : 0.7786743640899658\n",
      "Epoch : 17, Iteration : 21 , Loss : 0.7769113779067993\n",
      "Epoch : 17, Iteration : 31 , Loss : 0.777264416217804\n",
      "Epoch : 17, Iteration : 41 , Loss : 0.7672837972640991\n",
      "Epoch : 17, Iteration : 51 , Loss : 0.769647479057312\n"
     ]
    },
    {
     "name": "stderr",
     "output_type": "stream",
     "text": [
      "INFO:root:Evaluating accuracy on dev set\n"
     ]
    },
    {
     "name": "stdout",
     "output_type": "stream",
     "text": [
      "Epoch : 17, Iteration : 61 , Loss : 0.7644319534301758\n",
      "Epoch : 17 , Loss : 0.7714509704838628\n"
     ]
    },
    {
     "name": "stderr",
     "output_type": "stream",
     "text": [
      "INFO:root:Train loss: 0.7714509704838628 - acc: 0.7656559609460853 -- Validation loss: 0.7720279693603516 - acc: 0.606126386672531\n",
      " 57%|█████▋    | 17/30 [00:30<00:23,  1.79s/it]"
     ]
    },
    {
     "name": "stdout",
     "output_type": "stream",
     "text": [
      "Epoch : 17, Validation Iteration : 1 , Loss : 0.7708742618560791\n",
      "Epoch : 17, Validation Loss : 0.7720279693603516\n",
      "Epoch : 18, Iteration : 1 , Loss : 0.758170485496521\n",
      "Epoch : 18, Iteration : 11 , Loss : 0.7635936737060547\n",
      "Epoch : 18, Iteration : 21 , Loss : 0.762078046798706\n",
      "Epoch : 18, Iteration : 31 , Loss : 0.7630442380905151\n",
      "Epoch : 18, Iteration : 41 , Loss : 0.7528802156448364\n",
      "Epoch : 18, Iteration : 51 , Loss : 0.755206823348999\n"
     ]
    },
    {
     "name": "stderr",
     "output_type": "stream",
     "text": [
      "INFO:root:Evaluating accuracy on dev set\n"
     ]
    },
    {
     "name": "stdout",
     "output_type": "stream",
     "text": [
      "Epoch : 18, Iteration : 61 , Loss : 0.7488681077957153\n",
      "Epoch : 18 , Loss : 0.7563166238259578\n"
     ]
    },
    {
     "name": "stderr",
     "output_type": "stream",
     "text": [
      "INFO:root:Train loss: 0.7563166238259578 - acc: 0.7731426826621929 -- Validation loss: 0.7554624250956944 - acc: 0.604880601572688\n",
      " 60%|██████    | 18/30 [00:32<00:21,  1.80s/it]"
     ]
    },
    {
     "name": "stdout",
     "output_type": "stream",
     "text": [
      "Epoch : 18, Validation Iteration : 1 , Loss : 0.7540948987007141\n",
      "Epoch : 18, Validation Loss : 0.7554624250956944\n",
      "Epoch : 19, Iteration : 1 , Loss : 0.741303026676178\n",
      "Epoch : 19, Iteration : 11 , Loss : 0.7449327707290649\n",
      "Epoch : 19, Iteration : 21 , Loss : 0.7414426803588867\n",
      "Epoch : 19, Iteration : 31 , Loss : 0.7412502765655518\n",
      "Epoch : 19, Iteration : 41 , Loss : 0.7298424243927002\n",
      "Epoch : 19, Iteration : 51 , Loss : 0.7316752076148987\n"
     ]
    },
    {
     "name": "stderr",
     "output_type": "stream",
     "text": [
      "INFO:root:Evaluating accuracy on dev set\n"
     ]
    },
    {
     "name": "stdout",
     "output_type": "stream",
     "text": [
      "Epoch : 19, Iteration : 61 , Loss : 0.7247759103775024\n",
      "Epoch : 19 , Loss : 0.734751966552458\n"
     ]
    },
    {
     "name": "stderr",
     "output_type": "stream",
     "text": [
      "INFO:root:Train loss: 0.734751966552458 - acc: 0.7754732751738466 -- Validation loss: 0.7319742952074323 - acc: 0.6009393856621069\n",
      " 63%|██████▎   | 19/30 [00:34<00:19,  1.80s/it]"
     ]
    },
    {
     "name": "stdout",
     "output_type": "stream",
     "text": [
      "Epoch : 19, Validation Iteration : 1 , Loss : 0.7306342124938965\n",
      "Epoch : 19, Validation Loss : 0.7319742952074323\n",
      "Epoch : 20, Iteration : 1 , Loss : 0.7171733975410461\n",
      "Epoch : 20, Iteration : 11 , Loss : 0.721981406211853\n",
      "Epoch : 20, Iteration : 21 , Loss : 0.7185962200164795\n",
      "Epoch : 20, Iteration : 31 , Loss : 0.7193301916122437\n",
      "Epoch : 20, Iteration : 41 , Loss : 0.7079870700836182\n",
      "Epoch : 20, Iteration : 51 , Loss : 0.7093269228935242\n"
     ]
    },
    {
     "name": "stderr",
     "output_type": "stream",
     "text": [
      "INFO:root:Evaluating accuracy on dev set\n"
     ]
    },
    {
     "name": "stdout",
     "output_type": "stream",
     "text": [
      "Epoch : 20, Iteration : 61 , Loss : 0.7018930912017822\n",
      "Epoch : 20 , Loss : 0.7121419232824574\n"
     ]
    },
    {
     "name": "stderr",
     "output_type": "stream",
     "text": [
      "INFO:root:Train loss: 0.7121419232824574 - acc: 0.7800455459459048 -- Validation loss: 0.7088933161326817 - acc: 0.5985030304998855\n",
      " 67%|██████▋   | 20/30 [00:36<00:17,  1.79s/it]"
     ]
    },
    {
     "name": "stdout",
     "output_type": "stream",
     "text": [
      "Epoch : 20, Validation Iteration : 1 , Loss : 0.7074108123779297\n",
      "Epoch : 20, Validation Loss : 0.7088933161326817\n",
      "Epoch : 21, Iteration : 1 , Loss : 0.6938010454177856\n",
      "Epoch : 21, Iteration : 11 , Loss : 0.6979076862335205\n",
      "Epoch : 21, Iteration : 21 , Loss : 0.6937065720558167\n",
      "Epoch : 21, Iteration : 31 , Loss : 0.6943343877792358\n",
      "Epoch : 21, Iteration : 41 , Loss : 0.6835157871246338\n",
      "Epoch : 21, Iteration : 51 , Loss : 0.6860964894294739\n"
     ]
    },
    {
     "name": "stderr",
     "output_type": "stream",
     "text": [
      "INFO:root:Evaluating accuracy on dev set\n"
     ]
    },
    {
     "name": "stdout",
     "output_type": "stream",
     "text": [
      "Epoch : 21, Iteration : 61 , Loss : 0.679551362991333\n",
      "Epoch : 21 , Loss : 0.6882529621538909\n"
     ]
    },
    {
     "name": "stderr",
     "output_type": "stream",
     "text": [
      "INFO:root:Train loss: 0.6882529621538909 - acc: 0.7832409652574017 -- Validation loss: 0.6878748706408909 - acc: 0.5952494258558664\n",
      " 70%|███████   | 21/30 [00:38<00:16,  1.79s/it]"
     ]
    },
    {
     "name": "stdout",
     "output_type": "stream",
     "text": [
      "Epoch : 21, Validation Iteration : 1 , Loss : 0.6868685483932495\n",
      "Epoch : 21, Validation Loss : 0.6878748706408909\n",
      "Epoch : 22, Iteration : 1 , Loss : 0.6725502014160156\n",
      "Epoch : 22, Iteration : 11 , Loss : 0.6782943606376648\n",
      "Epoch : 22, Iteration : 21 , Loss : 0.6747810244560242\n",
      "Epoch : 22, Iteration : 31 , Loss : 0.677026629447937\n",
      "Epoch : 22, Iteration : 41 , Loss : 0.6673617362976074\n",
      "Epoch : 22, Iteration : 51 , Loss : 0.6709715723991394\n"
     ]
    },
    {
     "name": "stderr",
     "output_type": "stream",
     "text": [
      "INFO:root:Evaluating accuracy on dev set\n"
     ]
    },
    {
     "name": "stdout",
     "output_type": "stream",
     "text": [
      "Epoch : 22, Iteration : 61 , Loss : 0.6659352779388428\n",
      "Epoch : 22 , Loss : 0.6713611492212268\n"
     ]
    },
    {
     "name": "stderr",
     "output_type": "stream",
     "text": [
      "INFO:root:Train loss: 0.6713611492212268 - acc: 0.785389746063882 -- Validation loss: 0.6752360463142395 - acc: 0.5939112810569913\n",
      " 73%|███████▎  | 22/30 [00:39<00:14,  1.79s/it]"
     ]
    },
    {
     "name": "stdout",
     "output_type": "stream",
     "text": [
      "Epoch : 22, Validation Iteration : 1 , Loss : 0.6748955249786377\n",
      "Epoch : 22, Validation Loss : 0.6752360463142395\n",
      "Epoch : 23, Iteration : 1 , Loss : 0.6596618890762329\n",
      "Epoch : 23, Iteration : 11 , Loss : 0.6663944125175476\n",
      "Epoch : 23, Iteration : 21 , Loss : 0.6635761260986328\n",
      "Epoch : 23, Iteration : 31 , Loss : 0.6663315296173096\n",
      "Epoch : 23, Iteration : 41 , Loss : 0.6572592258453369\n",
      "Epoch : 23, Iteration : 51 , Loss : 0.6612892150878906\n",
      "Epoch : 23, Iteration : 61 , Loss : 0.656814455986023\n",
      "Epoch : 23 , Loss : 0.660839465217314\n"
     ]
    },
    {
     "name": "stderr",
     "output_type": "stream",
     "text": [
      "INFO:root:Evaluating accuracy on dev set\n",
      "INFO:root:Train loss: 0.660839465217314 - acc: 0.7870080113235016 -- Validation loss: 0.6666547315461295 - acc: 0.5945783456368847\n",
      " 77%|███████▋  | 23/30 [00:41<00:12,  1.79s/it]"
     ]
    },
    {
     "name": "stdout",
     "output_type": "stream",
     "text": [
      "Epoch : 23, Validation Iteration : 1 , Loss : 0.6668292284011841\n",
      "Epoch : 23, Validation Loss : 0.6666547315461295\n",
      "Epoch : 24, Iteration : 1 , Loss : 0.6511681079864502\n",
      "Epoch : 24, Iteration : 11 , Loss : 0.6577581763267517\n",
      "Epoch : 24, Iteration : 21 , Loss : 0.6560690999031067\n",
      "Epoch : 24, Iteration : 31 , Loss : 0.6592235565185547\n",
      "Epoch : 24, Iteration : 41 , Loss : 0.6503105163574219\n",
      "Epoch : 24, Iteration : 51 , Loss : 0.6554138660430908\n"
     ]
    },
    {
     "name": "stderr",
     "output_type": "stream",
     "text": [
      "INFO:root:Evaluating accuracy on dev set\n"
     ]
    },
    {
     "name": "stdout",
     "output_type": "stream",
     "text": [
      "Epoch : 24, Iteration : 61 , Loss : 0.6509742736816406\n",
      "Epoch : 24 , Loss : 0.6537089088688726\n",
      "Epoch : 24, Validation Iteration : 1 , Loss : 0.660895824432373\n"
     ]
    },
    {
     "name": "stderr",
     "output_type": "stream",
     "text": [
      "INFO:root:Train loss: 0.6537089088688726 - acc: 0.7892496301617509 -- Validation loss: 0.6615689141409737 - acc: 0.5840080457919339\n",
      " 80%|████████  | 24/30 [00:43<00:10,  1.79s/it]"
     ]
    },
    {
     "name": "stdout",
     "output_type": "stream",
     "text": [
      "Epoch : 24, Validation Loss : 0.6615689141409737\n",
      "Epoch : 25, Iteration : 1 , Loss : 0.6452440023422241\n",
      "Epoch : 25, Iteration : 11 , Loss : 0.6525701284408569\n",
      "Epoch : 25, Iteration : 21 , Loss : 0.6505780220031738\n",
      "Epoch : 25, Iteration : 31 , Loss : 0.6547277569770813\n",
      "Epoch : 25, Iteration : 41 , Loss : 0.6457559466362\n",
      "Epoch : 25, Iteration : 51 , Loss : 0.6509597897529602\n"
     ]
    },
    {
     "name": "stderr",
     "output_type": "stream",
     "text": [
      "INFO:root:Evaluating accuracy on dev set\n"
     ]
    },
    {
     "name": "stdout",
     "output_type": "stream",
     "text": [
      "Epoch : 25, Iteration : 61 , Loss : 0.6469532251358032\n",
      "Epoch : 25 , Loss : 0.6489635800969773\n"
     ]
    },
    {
     "name": "stderr",
     "output_type": "stream",
     "text": [
      "INFO:root:Train loss: 0.6489635800969773 - acc: 0.7917374937665049 -- Validation loss: 0.6577750359262738 - acc: 0.5893686562656112\n",
      " 83%|████████▎ | 25/30 [00:45<00:08,  1.78s/it]"
     ]
    },
    {
     "name": "stdout",
     "output_type": "stream",
     "text": [
      "Epoch : 25, Validation Iteration : 1 , Loss : 0.6575087308883667\n",
      "Epoch : 25, Validation Loss : 0.6577750359262738\n",
      "Epoch : 26, Iteration : 1 , Loss : 0.6413443088531494\n",
      "Epoch : 26, Iteration : 11 , Loss : 0.6487837433815002\n",
      "Epoch : 26, Iteration : 21 , Loss : 0.6469336748123169\n",
      "Epoch : 26, Iteration : 31 , Loss : 0.6513373851776123\n",
      "Epoch : 26, Iteration : 41 , Loss : 0.6425368785858154\n",
      "Epoch : 26, Iteration : 51 , Loss : 0.6479899883270264\n"
     ]
    },
    {
     "name": "stderr",
     "output_type": "stream",
     "text": [
      "INFO:root:Evaluating accuracy on dev set\n"
     ]
    },
    {
     "name": "stdout",
     "output_type": "stream",
     "text": [
      "Epoch : 26, Iteration : 61 , Loss : 0.644405722618103\n",
      "Epoch : 26 , Loss : 0.6456955584926881\n"
     ]
    },
    {
     "name": "stderr",
     "output_type": "stream",
     "text": [
      "INFO:root:Train loss: 0.6456955584926881 - acc: 0.7937281422661628 -- Validation loss: 0.655447278703962 - acc: 0.5852634684255891\n",
      " 87%|████████▋ | 26/30 [00:47<00:07,  1.78s/it]"
     ]
    },
    {
     "name": "stdout",
     "output_type": "stream",
     "text": [
      "Epoch : 26, Validation Iteration : 1 , Loss : 0.6551448106765747\n",
      "Epoch : 26, Validation Loss : 0.655447278703962\n",
      "Epoch : 27, Iteration : 1 , Loss : 0.638992190361023\n",
      "Epoch : 27, Iteration : 11 , Loss : 0.6461173295974731\n",
      "Epoch : 27, Iteration : 21 , Loss : 0.6444920301437378\n",
      "Epoch : 27, Iteration : 31 , Loss : 0.6487158536911011\n",
      "Epoch : 27, Iteration : 41 , Loss : 0.6402449607849121\n",
      "Epoch : 27, Iteration : 51 , Loss : 0.6457270979881287\n"
     ]
    },
    {
     "name": "stderr",
     "output_type": "stream",
     "text": [
      "INFO:root:Evaluating accuracy on dev set\n"
     ]
    },
    {
     "name": "stdout",
     "output_type": "stream",
     "text": [
      "Epoch : 27, Iteration : 61 , Loss : 0.6424999237060547\n",
      "Epoch : 27 , Loss : 0.6432949416879294\n"
     ]
    },
    {
     "name": "stderr",
     "output_type": "stream",
     "text": [
      "INFO:root:Train loss: 0.6432949416879294 - acc: 0.7956460606657904 -- Validation loss: 0.6535903811454773 - acc: 0.5824531234096058\n",
      " 90%|█████████ | 27/30 [00:48<00:05,  1.78s/it]"
     ]
    },
    {
     "name": "stdout",
     "output_type": "stream",
     "text": [
      "Epoch : 27, Validation Iteration : 1 , Loss : 0.6533234119415283\n",
      "Epoch : 27, Validation Loss : 0.6535903811454773\n",
      "Epoch : 28, Iteration : 1 , Loss : 0.6365820169448853\n",
      "Epoch : 28, Iteration : 11 , Loss : 0.6441028118133545\n",
      "Epoch : 28, Iteration : 21 , Loss : 0.6424726247787476\n",
      "Epoch : 28, Iteration : 31 , Loss : 0.6467262506484985\n",
      "Epoch : 28, Iteration : 41 , Loss : 0.638296365737915\n",
      "Epoch : 28, Iteration : 51 , Loss : 0.6439530849456787\n"
     ]
    },
    {
     "name": "stderr",
     "output_type": "stream",
     "text": [
      "INFO:root:Evaluating accuracy on dev set\n"
     ]
    },
    {
     "name": "stdout",
     "output_type": "stream",
     "text": [
      "Epoch : 28, Iteration : 61 , Loss : 0.6400930881500244\n",
      "Epoch : 28 , Loss : 0.6412493612455286\n",
      "Epoch : 28, Validation Iteration : 1 , Loss : 0.6509538888931274\n"
     ]
    },
    {
     "name": "stderr",
     "output_type": "stream",
     "text": [
      "INFO:root:Train loss: 0.6412493612455286 - acc: 0.7968868947510074 -- Validation loss: 0.6516638738768441 - acc: 0.5798999800772315\n",
      " 93%|█████████▎| 28/30 [00:50<00:03,  1.78s/it]"
     ]
    },
    {
     "name": "stdout",
     "output_type": "stream",
     "text": [
      "Epoch : 28, Validation Loss : 0.6516638738768441\n",
      "Epoch : 29, Iteration : 1 , Loss : 0.634631872177124\n",
      "Epoch : 29, Iteration : 11 , Loss : 0.64182049036026\n",
      "Epoch : 29, Iteration : 21 , Loss : 0.6401917338371277\n",
      "Epoch : 29, Iteration : 31 , Loss : 0.6445471048355103\n",
      "Epoch : 29, Iteration : 41 , Loss : 0.635927677154541\n",
      "Epoch : 29, Iteration : 51 , Loss : 0.6415274143218994\n",
      "Epoch : 29, Iteration : 61 , Loss : 0.6376923322677612\n",
      "Epoch : 29 , Loss : 0.6388833246369293\n"
     ]
    },
    {
     "name": "stderr",
     "output_type": "stream",
     "text": [
      "INFO:root:Evaluating accuracy on dev set\n",
      "INFO:root:Train loss: 0.6388833246369293 - acc: 0.7992246205705624 -- Validation loss: 0.6493055309568133 - acc: 0.5769933935777642\n",
      " 97%|█████████▋| 29/30 [00:52<00:01,  1.79s/it]"
     ]
    },
    {
     "name": "stdout",
     "output_type": "stream",
     "text": [
      "Epoch : 29, Validation Iteration : 1 , Loss : 0.6491093635559082\n",
      "Epoch : 29, Validation Loss : 0.6493055309568133\n",
      "Epoch : 30, Iteration : 1 , Loss : 0.6318475008010864\n",
      "Epoch : 30, Iteration : 11 , Loss : 0.6392326354980469\n",
      "Epoch : 30, Iteration : 21 , Loss : 0.637556791305542\n",
      "Epoch : 30, Iteration : 31 , Loss : 0.6417055130004883\n",
      "Epoch : 30, Iteration : 41 , Loss : 0.6326993703842163\n",
      "Epoch : 30, Iteration : 51 , Loss : 0.6382507681846619\n"
     ]
    },
    {
     "name": "stderr",
     "output_type": "stream",
     "text": [
      "INFO:root:Evaluating accuracy on dev set\n"
     ]
    },
    {
     "name": "stdout",
     "output_type": "stream",
     "text": [
      "Epoch : 30, Iteration : 61 , Loss : 0.634181797504425\n",
      "Epoch : 30 , Loss : 0.6358401464379352\n"
     ]
    },
    {
     "name": "stderr",
     "output_type": "stream",
     "text": [
      "INFO:root:Train loss: 0.6358401464379352 - acc: 0.8006961119653794 -- Validation loss: 0.6457581434931073 - acc: 0.5790058311068919\n",
      "100%|██████████| 30/30 [00:54<00:00,  1.81s/it]\n"
     ]
    },
    {
     "name": "stdout",
     "output_type": "stream",
     "text": [
      "Epoch : 30, Validation Iteration : 1 , Loss : 0.644268274307251\n",
      "Epoch : 30, Validation Loss : 0.6457581434931073\n"
     ]
    },
    {
     "name": "stderr",
     "output_type": "stream",
     "text": [
      "\r",
      "  0%|          | 0/30 [00:00<?, ?it/s]"
     ]
    },
    {
     "name": "stdout",
     "output_type": "stream",
     "text": [
      "Epoch : 1, Iteration : 1 , Loss : 1.1498664617538452\n",
      "Epoch : 1, Iteration : 11 , Loss : 1.1652324199676514\n",
      "Epoch : 1, Iteration : 21 , Loss : 1.1254806518554688\n",
      "Epoch : 1, Iteration : 31 , Loss : 1.142563819885254\n",
      "Epoch : 1, Iteration : 41 , Loss : 1.1281440258026123\n",
      "Epoch : 1, Iteration : 51 , Loss : 1.1290457248687744\n"
     ]
    },
    {
     "name": "stderr",
     "output_type": "stream",
     "text": [
      "INFO:root:Evaluating accuracy on dev set\n"
     ]
    },
    {
     "name": "stdout",
     "output_type": "stream",
     "text": [
      "Epoch : 1, Iteration : 61 , Loss : 1.1155633926391602\n",
      "Epoch : 1 , Loss : 1.1473758756250576\n"
     ]
    },
    {
     "name": "stderr",
     "output_type": "stream",
     "text": [
      "INFO:root:new model saved\n",
      "INFO:root:Train loss: 1.1473758756250576 - acc: 0.43817531641486857 -- Validation loss: 1.1026295593806676 - acc: 0.5122946882052813\n",
      "  3%|▎         | 1/30 [00:01<00:53,  1.85s/it]"
     ]
    },
    {
     "name": "stdout",
     "output_type": "stream",
     "text": [
      "Epoch : 1, Validation Iteration : 1 , Loss : 1.1023845672607422\n",
      "Epoch : 1, Validation Loss : 1.1026295593806676\n",
      "Epoch : 2, Iteration : 1 , Loss : 1.0968656539916992\n",
      "Epoch : 2, Iteration : 11 , Loss : 1.0993800163269043\n",
      "Epoch : 2, Iteration : 21 , Loss : 1.0897812843322754\n",
      "Epoch : 2, Iteration : 31 , Loss : 1.1010700464248657\n",
      "Epoch : 2, Iteration : 41 , Loss : 1.093310832977295\n",
      "Epoch : 2, Iteration : 51 , Loss : 1.090301752090454\n"
     ]
    },
    {
     "name": "stderr",
     "output_type": "stream",
     "text": [
      "INFO:root:Evaluating accuracy on dev set\n"
     ]
    },
    {
     "name": "stdout",
     "output_type": "stream",
     "text": [
      "Epoch : 2, Iteration : 61 , Loss : 1.0823087692260742\n",
      "Epoch : 2 , Loss : 1.096779707549275\n"
     ]
    },
    {
     "name": "stderr",
     "output_type": "stream",
     "text": [
      "INFO:root:new model saved\n",
      "INFO:root:Train loss: 1.096779707549275 - acc: 0.5605175002329644 -- Validation loss: 1.094288672719683 - acc: 0.5398449840806923\n",
      "  7%|▋         | 2/30 [00:03<00:52,  1.86s/it]"
     ]
    },
    {
     "name": "stdout",
     "output_type": "stream",
     "text": [
      "Epoch : 2, Validation Iteration : 1 , Loss : 1.090259075164795\n",
      "Epoch : 2, Validation Loss : 1.094288672719683\n",
      "Epoch : 3, Iteration : 1 , Loss : 1.0893757343292236\n",
      "Epoch : 3, Iteration : 11 , Loss : 1.0940537452697754\n",
      "Epoch : 3, Iteration : 21 , Loss : 1.086634635925293\n",
      "Epoch : 3, Iteration : 31 , Loss : 1.1001192331314087\n",
      "Epoch : 3, Iteration : 41 , Loss : 1.0889633893966675\n",
      "Epoch : 3, Iteration : 51 , Loss : 1.0890238285064697\n"
     ]
    },
    {
     "name": "stderr",
     "output_type": "stream",
     "text": [
      "INFO:root:Evaluating accuracy on dev set\n"
     ]
    },
    {
     "name": "stdout",
     "output_type": "stream",
     "text": [
      "Epoch : 3, Iteration : 61 , Loss : 1.083854079246521\n",
      "Epoch : 3 , Loss : 1.0916329915972725\n"
     ]
    },
    {
     "name": "stderr",
     "output_type": "stream",
     "text": [
      "INFO:root:new model saved\n",
      "INFO:root:Train loss: 1.0916329915972725 - acc: 0.6058412227562403 -- Validation loss: 1.0910723209381104 - acc: 0.5661984856531382\n",
      " 10%|█         | 3/30 [00:05<00:49,  1.85s/it]"
     ]
    },
    {
     "name": "stdout",
     "output_type": "stream",
     "text": [
      "Epoch : 3, Validation Iteration : 1 , Loss : 1.0900280475616455\n",
      "Epoch : 3, Validation Loss : 1.0910723209381104\n",
      "Epoch : 4, Iteration : 1 , Loss : 1.0838823318481445\n",
      "Epoch : 4, Iteration : 11 , Loss : 1.0896683931350708\n",
      "Epoch : 4, Iteration : 21 , Loss : 1.0858354568481445\n",
      "Epoch : 4, Iteration : 31 , Loss : 1.0948376655578613\n",
      "Epoch : 4, Iteration : 41 , Loss : 1.0909452438354492\n",
      "Epoch : 4, Iteration : 51 , Loss : 1.0718603134155273\n"
     ]
    },
    {
     "name": "stderr",
     "output_type": "stream",
     "text": [
      "INFO:root:Evaluating accuracy on dev set\n"
     ]
    },
    {
     "name": "stdout",
     "output_type": "stream",
     "text": [
      "Epoch : 4, Iteration : 61 , Loss : 1.0604617595672607\n",
      "Epoch : 4 , Loss : 1.0820375249005747\n",
      "Epoch : 4, Validation Iteration : 1 , Loss : 1.0685889720916748\n"
     ]
    },
    {
     "name": "stderr",
     "output_type": "stream",
     "text": [
      "INFO:root:Train loss: 1.0820375249005747 - acc: 0.6280294974008269 -- Validation loss: 1.077624831880842 - acc: 0.513430177084831\n",
      " 13%|█▎        | 4/30 [00:07<00:47,  1.82s/it]"
     ]
    },
    {
     "name": "stdout",
     "output_type": "stream",
     "text": [
      "Epoch : 4, Validation Loss : 1.077624831880842\n",
      "Epoch : 5, Iteration : 1 , Loss : 1.0605496168136597\n",
      "Epoch : 5, Iteration : 11 , Loss : 1.0389724969863892\n",
      "Epoch : 5, Iteration : 21 , Loss : 0.9785743355751038\n",
      "Epoch : 5, Iteration : 31 , Loss : 0.9382606148719788\n",
      "Epoch : 5, Iteration : 41 , Loss : 0.8688675761222839\n",
      "Epoch : 5, Iteration : 51 , Loss : 0.8584761023521423\n"
     ]
    },
    {
     "name": "stderr",
     "output_type": "stream",
     "text": [
      "INFO:root:Evaluating accuracy on dev set\n"
     ]
    },
    {
     "name": "stdout",
     "output_type": "stream",
     "text": [
      "Epoch : 5, Iteration : 61 , Loss : 0.8296322822570801\n",
      "Epoch : 5 , Loss : 0.9203887590463611\n"
     ]
    },
    {
     "name": "stderr",
     "output_type": "stream",
     "text": [
      "INFO:root:Train loss: 0.9203887590463611 - acc: 0.6159398186678121 -- Validation loss: 0.8403261474200657 - acc: 0.4875285687644609\n",
      " 17%|█▋        | 5/30 [00:09<00:45,  1.80s/it]"
     ]
    },
    {
     "name": "stdout",
     "output_type": "stream",
     "text": [
      "Epoch : 5, Validation Iteration : 1 , Loss : 0.8367820978164673\n",
      "Epoch : 5, Validation Loss : 0.8403261474200657\n",
      "Epoch : 6, Iteration : 1 , Loss : 0.8319892883300781\n",
      "Epoch : 6, Iteration : 11 , Loss : 0.7661447525024414\n",
      "Epoch : 6, Iteration : 21 , Loss : 0.7317051291465759\n",
      "Epoch : 6, Iteration : 31 , Loss : 0.7197896838188171\n",
      "Epoch : 6, Iteration : 41 , Loss : 0.7036768198013306\n",
      "Epoch : 6, Iteration : 51 , Loss : 0.6878353357315063\n"
     ]
    },
    {
     "name": "stderr",
     "output_type": "stream",
     "text": [
      "INFO:root:Evaluating accuracy on dev set\n"
     ]
    },
    {
     "name": "stdout",
     "output_type": "stream",
     "text": [
      "Epoch : 6, Iteration : 61 , Loss : 0.6682912111282349\n",
      "Epoch : 6 , Loss : 0.722422190334486\n"
     ]
    },
    {
     "name": "stderr",
     "output_type": "stream",
     "text": [
      "INFO:root:Train loss: 0.722422190334486 - acc: 0.5857212193173199 -- Validation loss: 0.6703134179115295 - acc: 0.46822264764670907\n",
      " 20%|██        | 6/30 [00:10<00:43,  1.80s/it]"
     ]
    },
    {
     "name": "stdout",
     "output_type": "stream",
     "text": [
      "Epoch : 6, Validation Iteration : 1 , Loss : 0.6627215147018433\n",
      "Epoch : 6, Validation Loss : 0.6703134179115295\n",
      "Epoch : 7, Iteration : 1 , Loss : 0.6608598232269287\n",
      "Epoch : 7, Iteration : 11 , Loss : 0.6655572652816772\n",
      "Epoch : 7, Iteration : 21 , Loss : 0.7552211284637451\n",
      "Epoch : 7, Iteration : 31 , Loss : 0.7416342496871948\n",
      "Epoch : 7, Iteration : 41 , Loss : 0.7199576497077942\n",
      "Epoch : 7, Iteration : 51 , Loss : 0.697543740272522\n"
     ]
    },
    {
     "name": "stderr",
     "output_type": "stream",
     "text": [
      "INFO:root:Evaluating accuracy on dev set\n"
     ]
    },
    {
     "name": "stdout",
     "output_type": "stream",
     "text": [
      "Epoch : 7, Iteration : 61 , Loss : 0.6711603403091431\n",
      "Epoch : 7 , Loss : 0.7045185185860896\n"
     ]
    },
    {
     "name": "stderr",
     "output_type": "stream",
     "text": [
      "INFO:root:Train loss: 0.7045185185860896 - acc: 0.5587753198824393 -- Validation loss: 0.6702385544776917 - acc: 0.44737713050248307\n",
      " 23%|██▎       | 7/30 [00:12<00:41,  1.81s/it]"
     ]
    },
    {
     "name": "stdout",
     "output_type": "stream",
     "text": [
      "Epoch : 7, Validation Iteration : 1 , Loss : 0.6677334308624268\n",
      "Epoch : 7, Validation Loss : 0.6702385544776917\n",
      "Epoch : 8, Iteration : 1 , Loss : 0.6601153612136841\n",
      "Epoch : 8, Iteration : 11 , Loss : 0.6533370018005371\n",
      "Epoch : 8, Iteration : 21 , Loss : 0.6239268779754639\n",
      "Epoch : 8, Iteration : 31 , Loss : 0.6332651376724243\n",
      "Epoch : 8, Iteration : 41 , Loss : 0.6288872957229614\n",
      "Epoch : 8, Iteration : 51 , Loss : 0.6179401874542236\n"
     ]
    },
    {
     "name": "stderr",
     "output_type": "stream",
     "text": [
      "INFO:root:Evaluating accuracy on dev set\n"
     ]
    },
    {
     "name": "stdout",
     "output_type": "stream",
     "text": [
      "Epoch : 8, Iteration : 61 , Loss : 0.6105471849441528\n",
      "Epoch : 8 , Loss : 0.6275178738262343\n"
     ]
    },
    {
     "name": "stderr",
     "output_type": "stream",
     "text": [
      "INFO:root:Train loss: 0.6275178738262343 - acc: 0.5993100921235652 -- Validation loss: 0.6234426328114101 - acc: 0.5047042602731602\n",
      " 27%|██▋       | 8/30 [00:14<00:39,  1.79s/it]"
     ]
    },
    {
     "name": "stdout",
     "output_type": "stream",
     "text": [
      "Epoch : 8, Validation Iteration : 1 , Loss : 0.6202479600906372\n",
      "Epoch : 8, Validation Loss : 0.6234426328114101\n",
      "Epoch : 9, Iteration : 1 , Loss : 0.6101999282836914\n",
      "Epoch : 9, Iteration : 11 , Loss : 0.618151068687439\n",
      "Epoch : 9, Iteration : 21 , Loss : 0.614258885383606\n",
      "Epoch : 9, Iteration : 31 , Loss : 0.616640031337738\n",
      "Epoch : 9, Iteration : 41 , Loss : 0.6151664853096008\n",
      "Epoch : 9, Iteration : 51 , Loss : 0.6138299703598022\n"
     ]
    },
    {
     "name": "stderr",
     "output_type": "stream",
     "text": [
      "INFO:root:Evaluating accuracy on dev set\n"
     ]
    },
    {
     "name": "stdout",
     "output_type": "stream",
     "text": [
      "Epoch : 9, Iteration : 61 , Loss : 0.607029378414154\n",
      "Epoch : 9 , Loss : 0.6133571474448495\n",
      "Epoch : 9, Validation Iteration : 1 , Loss : 0.6172220706939697\n"
     ]
    },
    {
     "name": "stderr",
     "output_type": "stream",
     "text": [
      "INFO:root:Train loss: 0.6133571474448495 - acc: 0.6464745163629986 -- Validation loss: 0.6201832209314618 - acc: 0.5263527713804202\n",
      " 30%|███       | 9/30 [00:16<00:37,  1.78s/it]"
     ]
    },
    {
     "name": "stdout",
     "output_type": "stream",
     "text": [
      "Epoch : 9, Validation Loss : 0.6201832209314618\n",
      "Epoch : 10, Iteration : 1 , Loss : 0.6096611618995667\n",
      "Epoch : 10, Iteration : 11 , Loss : 0.6202424764633179\n",
      "Epoch : 10, Iteration : 21 , Loss : 0.6108218431472778\n",
      "Epoch : 10, Iteration : 31 , Loss : 0.6168273687362671\n",
      "Epoch : 10, Iteration : 41 , Loss : 0.6067239046096802\n",
      "Epoch : 10, Iteration : 51 , Loss : 0.6111032962799072\n"
     ]
    },
    {
     "name": "stderr",
     "output_type": "stream",
     "text": [
      "INFO:root:Evaluating accuracy on dev set\n"
     ]
    },
    {
     "name": "stdout",
     "output_type": "stream",
     "text": [
      "Epoch : 10, Iteration : 61 , Loss : 0.6052613258361816\n",
      "Epoch : 10 , Loss : 0.6107337811718816\n"
     ]
    },
    {
     "name": "stderr",
     "output_type": "stream",
     "text": [
      "INFO:root:Train loss: 0.6107337811718816 - acc: 0.6728357825649877 -- Validation loss: 0.6195707150868007 - acc: 0.5324135754564698\n",
      " 33%|███▎      | 10/30 [00:18<00:35,  1.78s/it]"
     ]
    },
    {
     "name": "stdout",
     "output_type": "stream",
     "text": [
      "Epoch : 10, Validation Iteration : 1 , Loss : 0.6146332621574402\n",
      "Epoch : 10, Validation Loss : 0.6195707150868007\n",
      "Epoch : 11, Iteration : 1 , Loss : 0.6032822132110596\n",
      "Epoch : 11, Iteration : 11 , Loss : 0.6140103936195374\n",
      "Epoch : 11, Iteration : 21 , Loss : 0.6089472770690918\n",
      "Epoch : 11, Iteration : 31 , Loss : 0.6126810312271118\n",
      "Epoch : 11, Iteration : 41 , Loss : 0.6026407480239868\n",
      "Epoch : 11, Iteration : 51 , Loss : 0.6096473336219788\n"
     ]
    },
    {
     "name": "stderr",
     "output_type": "stream",
     "text": [
      "INFO:root:Evaluating accuracy on dev set\n"
     ]
    },
    {
     "name": "stdout",
     "output_type": "stream",
     "text": [
      "Epoch : 11, Iteration : 61 , Loss : 0.602226972579956\n",
      "Epoch : 11 , Loss : 0.6072553188904471\n"
     ]
    },
    {
     "name": "stderr",
     "output_type": "stream",
     "text": [
      "INFO:root:Train loss: 0.6072553188904471 - acc: 0.6991659348451723 -- Validation loss: 0.614821800163814 - acc: 0.5366162763990211\n",
      " 37%|███▋      | 11/30 [00:19<00:33,  1.78s/it]"
     ]
    },
    {
     "name": "stdout",
     "output_type": "stream",
     "text": [
      "Epoch : 11, Validation Iteration : 1 , Loss : 0.612549364566803\n",
      "Epoch : 11, Validation Loss : 0.614821800163814\n",
      "Epoch : 12, Iteration : 1 , Loss : 0.5997612476348877\n",
      "Epoch : 12, Iteration : 11 , Loss : 0.6082955002784729\n",
      "Epoch : 12, Iteration : 21 , Loss : 0.6046921014785767\n",
      "Epoch : 12, Iteration : 31 , Loss : 0.6061611175537109\n",
      "Epoch : 12, Iteration : 41 , Loss : 0.6019080877304077\n",
      "Epoch : 12, Iteration : 51 , Loss : 0.6043730974197388\n",
      "Epoch : 12, Iteration : 61 , Loss : 0.5996716022491455\n",
      "Epoch : 12 , Loss : 0.6041139191475468\n"
     ]
    },
    {
     "name": "stderr",
     "output_type": "stream",
     "text": [
      "INFO:root:Evaluating accuracy on dev set\n",
      "INFO:root:Train loss: 0.6041139191475468 - acc: 0.7129311163745202 -- Validation loss: 0.6155501689229693 - acc: 0.5260356697470767\n",
      " 40%|████      | 12/30 [00:21<00:32,  1.78s/it]"
     ]
    },
    {
     "name": "stdout",
     "output_type": "stream",
     "text": [
      "Epoch : 12, Validation Iteration : 1 , Loss : 0.6127133369445801\n",
      "Epoch : 12, Validation Loss : 0.6155501689229693\n",
      "Epoch : 13, Iteration : 1 , Loss : 0.599830150604248\n",
      "Epoch : 13, Iteration : 11 , Loss : 0.6087439656257629\n",
      "Epoch : 13, Iteration : 21 , Loss : 0.6026043891906738\n",
      "Epoch : 13, Iteration : 31 , Loss : 0.6064893007278442\n",
      "Epoch : 13, Iteration : 41 , Loss : 0.6005927920341492\n",
      "Epoch : 13, Iteration : 51 , Loss : 0.6044894456863403\n"
     ]
    },
    {
     "name": "stderr",
     "output_type": "stream",
     "text": [
      "INFO:root:Evaluating accuracy on dev set\n"
     ]
    },
    {
     "name": "stdout",
     "output_type": "stream",
     "text": [
      "Epoch : 13, Iteration : 61 , Loss : 0.5991297960281372\n",
      "Epoch : 13 , Loss : 0.6025362671285436\n"
     ]
    },
    {
     "name": "stderr",
     "output_type": "stream",
     "text": [
      "INFO:root:Train loss: 0.6025362671285436 - acc: 0.7266394812598643 -- Validation loss: 0.6127693142209735 - acc: 0.5136295535655677\n",
      " 43%|████▎     | 13/30 [00:23<00:30,  1.79s/it]"
     ]
    },
    {
     "name": "stdout",
     "output_type": "stream",
     "text": [
      "Epoch : 13, Validation Iteration : 1 , Loss : 0.6123870611190796\n",
      "Epoch : 13, Validation Loss : 0.6127693142209735\n",
      "Epoch : 14, Iteration : 1 , Loss : 0.5981851816177368\n",
      "Epoch : 14, Iteration : 11 , Loss : 0.6041074395179749\n",
      "Epoch : 14, Iteration : 21 , Loss : 0.6004778146743774\n",
      "Epoch : 14, Iteration : 31 , Loss : 0.6045927405357361\n",
      "Epoch : 14, Iteration : 41 , Loss : 0.5990996360778809\n",
      "Epoch : 14, Iteration : 51 , Loss : 0.6040340662002563\n"
     ]
    },
    {
     "name": "stderr",
     "output_type": "stream",
     "text": [
      "INFO:root:Evaluating accuracy on dev set\n"
     ]
    },
    {
     "name": "stdout",
     "output_type": "stream",
     "text": [
      "Epoch : 14, Iteration : 61 , Loss : 0.5981566309928894\n",
      "Epoch : 14 , Loss : 0.6007089424824369\n"
     ]
    },
    {
     "name": "stderr",
     "output_type": "stream",
     "text": [
      "INFO:root:Train loss: 0.6007089424824369 - acc: 0.7336399192182373 -- Validation loss: 0.6131071022578648 - acc: 0.5256173070813887\n",
      " 47%|████▋     | 14/30 [00:25<00:28,  1.78s/it]"
     ]
    },
    {
     "name": "stdout",
     "output_type": "stream",
     "text": [
      "Epoch : 14, Validation Iteration : 1 , Loss : 0.6129834055900574\n",
      "Epoch : 14, Validation Loss : 0.6131071022578648\n",
      "Epoch : 15, Iteration : 1 , Loss : 0.5971821546554565\n",
      "Epoch : 15, Iteration : 11 , Loss : 0.6057945489883423\n",
      "Epoch : 15, Iteration : 21 , Loss : 0.6000934839248657\n",
      "Epoch : 15, Iteration : 31 , Loss : 0.6038771867752075\n",
      "Epoch : 15, Iteration : 41 , Loss : 0.5962115526199341\n",
      "Epoch : 15, Iteration : 51 , Loss : 0.602432370185852\n"
     ]
    },
    {
     "name": "stderr",
     "output_type": "stream",
     "text": [
      "INFO:root:Evaluating accuracy on dev set\n"
     ]
    },
    {
     "name": "stdout",
     "output_type": "stream",
     "text": [
      "Epoch : 15, Iteration : 61 , Loss : 0.5973707437515259\n",
      "Epoch : 15 , Loss : 0.5997543689133464\n"
     ]
    },
    {
     "name": "stderr",
     "output_type": "stream",
     "text": [
      "INFO:root:Train loss: 0.5997543689133464 - acc: 0.733446465926135 -- Validation loss: 0.6107753089496067 - acc: 0.5296092538991193\n",
      " 50%|█████     | 15/30 [00:26<00:26,  1.78s/it]"
     ]
    },
    {
     "name": "stdout",
     "output_type": "stream",
     "text": [
      "Epoch : 15, Validation Iteration : 1 , Loss : 0.6093993186950684\n",
      "Epoch : 15, Validation Loss : 0.6107753089496067\n",
      "Epoch : 16, Iteration : 1 , Loss : 0.5956591963768005\n",
      "Epoch : 16, Iteration : 11 , Loss : 0.6095232963562012\n",
      "Epoch : 16, Iteration : 21 , Loss : 0.6027253866195679\n",
      "Epoch : 16, Iteration : 31 , Loss : 0.6033949851989746\n",
      "Epoch : 16, Iteration : 41 , Loss : 0.5937850475311279\n",
      "Epoch : 16, Iteration : 51 , Loss : 0.6002603769302368\n"
     ]
    },
    {
     "name": "stderr",
     "output_type": "stream",
     "text": [
      "INFO:root:Evaluating accuracy on dev set\n"
     ]
    },
    {
     "name": "stdout",
     "output_type": "stream",
     "text": [
      "Epoch : 16, Iteration : 61 , Loss : 0.5956702828407288\n",
      "Epoch : 16 , Loss : 0.5986233992853026\n"
     ]
    },
    {
     "name": "stderr",
     "output_type": "stream",
     "text": [
      "INFO:root:Train loss: 0.5986233992853026 - acc: 0.7380715498961792 -- Validation loss: 0.6103149141584124 - acc: 0.5325058013008658\n",
      " 53%|█████▎    | 16/30 [00:28<00:24,  1.78s/it]"
     ]
    },
    {
     "name": "stdout",
     "output_type": "stream",
     "text": [
      "Epoch : 16, Validation Iteration : 1 , Loss : 0.6074634790420532\n",
      "Epoch : 16, Validation Loss : 0.6103149141584124\n",
      "Epoch : 17, Iteration : 1 , Loss : 0.5929383039474487\n",
      "Epoch : 17, Iteration : 11 , Loss : 0.6032074689865112\n",
      "Epoch : 17, Iteration : 21 , Loss : 0.6003062129020691\n",
      "Epoch : 17, Iteration : 31 , Loss : 0.6027171611785889\n",
      "Epoch : 17, Iteration : 41 , Loss : 0.5929520130157471\n",
      "Epoch : 17, Iteration : 51 , Loss : 0.5997992157936096\n"
     ]
    },
    {
     "name": "stderr",
     "output_type": "stream",
     "text": [
      "INFO:root:Evaluating accuracy on dev set\n"
     ]
    },
    {
     "name": "stdout",
     "output_type": "stream",
     "text": [
      "Epoch : 17, Iteration : 61 , Loss : 0.5955668687820435\n",
      "Epoch : 17 , Loss : 0.5972157302110092\n"
     ]
    },
    {
     "name": "stderr",
     "output_type": "stream",
     "text": [
      "INFO:root:Train loss: 0.5972157302110092 - acc: 0.7543767538817255 -- Validation loss: 0.6107050691332135 - acc: 0.5197617690900718\n",
      " 57%|█████▋    | 17/30 [00:30<00:23,  1.78s/it]"
     ]
    },
    {
     "name": "stdout",
     "output_type": "stream",
     "text": [
      "Epoch : 17, Validation Iteration : 1 , Loss : 0.6104063987731934\n",
      "Epoch : 17, Validation Loss : 0.6107050691332135\n",
      "Epoch : 18, Iteration : 1 , Loss : 0.5916105508804321\n",
      "Epoch : 18, Iteration : 11 , Loss : 0.5995931029319763\n",
      "Epoch : 18, Iteration : 21 , Loss : 0.5979440212249756\n",
      "Epoch : 18, Iteration : 31 , Loss : 0.6017385721206665\n",
      "Epoch : 18, Iteration : 41 , Loss : 0.5917335748672485\n",
      "Epoch : 18, Iteration : 51 , Loss : 0.5993673801422119\n",
      "Epoch : 18, Iteration : 61 , Loss : 0.5946433544158936\n",
      "Epoch : 18 , Loss : 0.5962373009626416\n"
     ]
    },
    {
     "name": "stderr",
     "output_type": "stream",
     "text": [
      "INFO:root:Evaluating accuracy on dev set\n",
      "INFO:root:Train loss: 0.5962373009626416 - acc: 0.7651770204099154 -- Validation loss: 0.6106069598879132 - acc: 0.5084734060488055\n",
      " 60%|██████    | 18/30 [00:32<00:21,  1.78s/it]"
     ]
    },
    {
     "name": "stdout",
     "output_type": "stream",
     "text": [
      "Epoch : 18, Validation Iteration : 1 , Loss : 0.6085803508758545\n",
      "Epoch : 18, Validation Loss : 0.6106069598879132\n",
      "Epoch : 19, Iteration : 1 , Loss : 0.5914873480796814\n",
      "Epoch : 19, Iteration : 11 , Loss : 0.5980170965194702\n",
      "Epoch : 19, Iteration : 21 , Loss : 0.5981796979904175\n",
      "Epoch : 19, Iteration : 31 , Loss : 0.6007249355316162\n",
      "Epoch : 19, Iteration : 41 , Loss : 0.5929194688796997\n",
      "Epoch : 19, Iteration : 51 , Loss : 0.6029800176620483\n"
     ]
    },
    {
     "name": "stderr",
     "output_type": "stream",
     "text": [
      "INFO:root:Evaluating accuracy on dev set\n"
     ]
    },
    {
     "name": "stdout",
     "output_type": "stream",
     "text": [
      "Epoch : 19, Iteration : 61 , Loss : 0.5949859619140625\n",
      "Epoch : 19 , Loss : 0.5963192193404488\n"
     ]
    },
    {
     "name": "stderr",
     "output_type": "stream",
     "text": [
      "INFO:root:Train loss: 0.5963192193404488 - acc: 0.7677113396335649 -- Validation loss: 0.6106494069099426 - acc: 0.5220530927538855\n",
      " 63%|██████▎   | 19/30 [00:34<00:19,  1.78s/it]"
     ]
    },
    {
     "name": "stdout",
     "output_type": "stream",
     "text": [
      "Epoch : 19, Validation Iteration : 1 , Loss : 0.6110377311706543\n",
      "Epoch : 19, Validation Loss : 0.6106494069099426\n",
      "Epoch : 20, Iteration : 1 , Loss : 0.594612717628479\n",
      "Epoch : 20, Iteration : 11 , Loss : 0.5993281602859497\n",
      "Epoch : 20, Iteration : 21 , Loss : 0.5976243019104004\n",
      "Epoch : 20, Iteration : 31 , Loss : 0.6010898351669312\n",
      "Epoch : 20, Iteration : 41 , Loss : 0.5934740304946899\n",
      "Epoch : 20, Iteration : 51 , Loss : 0.6038690805435181\n"
     ]
    },
    {
     "name": "stderr",
     "output_type": "stream",
     "text": [
      "INFO:root:Evaluating accuracy on dev set\n"
     ]
    },
    {
     "name": "stdout",
     "output_type": "stream",
     "text": [
      "Epoch : 20, Iteration : 61 , Loss : 0.5963431596755981\n",
      "Epoch : 20 , Loss : 0.5968009838159534\n"
     ]
    },
    {
     "name": "stderr",
     "output_type": "stream",
     "text": [
      "INFO:root:Train loss: 0.5968009838159534 - acc: 0.759254041048452 -- Validation loss: 0.6115486707006182 - acc: 0.5066151690606706\n",
      " 67%|██████▋   | 20/30 [00:35<00:17,  1.78s/it]"
     ]
    },
    {
     "name": "stdout",
     "output_type": "stream",
     "text": [
      "Epoch : 20, Validation Iteration : 1 , Loss : 0.6093234419822693\n",
      "Epoch : 20, Validation Loss : 0.6115486707006182\n",
      "Epoch : 21, Iteration : 1 , Loss : 0.5931146144866943\n",
      "Epoch : 21, Iteration : 11 , Loss : 0.5990009307861328\n",
      "Epoch : 21, Iteration : 21 , Loss : 0.5978559255599976\n",
      "Epoch : 21, Iteration : 31 , Loss : 0.6004990935325623\n",
      "Epoch : 21, Iteration : 41 , Loss : 0.5930206775665283\n",
      "Epoch : 21, Iteration : 51 , Loss : 0.5999558568000793\n"
     ]
    },
    {
     "name": "stderr",
     "output_type": "stream",
     "text": [
      "INFO:root:Evaluating accuracy on dev set\n"
     ]
    },
    {
     "name": "stdout",
     "output_type": "stream",
     "text": [
      "Epoch : 21, Iteration : 61 , Loss : 0.5956121683120728\n",
      "Epoch : 21 , Loss : 0.5961995504904485\n"
     ]
    },
    {
     "name": "stderr",
     "output_type": "stream",
     "text": [
      "INFO:root:Train loss: 0.5961995504904485 - acc: 0.7617170142908841 -- Validation loss: 0.6086629543985639 - acc: 0.5316812567413908\n",
      " 70%|███████   | 21/30 [00:37<00:16,  1.78s/it]"
     ]
    },
    {
     "name": "stdout",
     "output_type": "stream",
     "text": [
      "Epoch : 21, Validation Iteration : 1 , Loss : 0.6082668304443359\n",
      "Epoch : 21, Validation Loss : 0.6086629543985639\n",
      "Epoch : 22, Iteration : 1 , Loss : 0.5910555124282837\n",
      "Epoch : 22, Iteration : 11 , Loss : 0.5995897650718689\n",
      "Epoch : 22, Iteration : 21 , Loss : 0.6009608507156372\n",
      "Epoch : 22, Iteration : 31 , Loss : 0.6000425219535828\n",
      "Epoch : 22, Iteration : 41 , Loss : 0.591946005821228\n",
      "Epoch : 22, Iteration : 51 , Loss : 0.5979662537574768\n",
      "Epoch : 22, Iteration : 61 , Loss : 0.5938592553138733\n",
      "Epoch : 22 , Loss : 0.5953702857528907\n"
     ]
    },
    {
     "name": "stderr",
     "output_type": "stream",
     "text": [
      "INFO:root:Evaluating accuracy on dev set\n",
      "INFO:root:Train loss: 0.5953702857528907 - acc: 0.7656981299820903 -- Validation loss: 0.6063916257449559 - acc: 0.5279375433466383\n",
      " 73%|███████▎  | 22/30 [00:39<00:14,  1.79s/it]"
     ]
    },
    {
     "name": "stdout",
     "output_type": "stream",
     "text": [
      "Epoch : 22, Validation Iteration : 1 , Loss : 0.6033142805099487\n",
      "Epoch : 22, Validation Loss : 0.6063916257449559\n",
      "Epoch : 23, Iteration : 1 , Loss : 0.5881785154342651\n",
      "Epoch : 23, Iteration : 11 , Loss : 0.5961710214614868\n",
      "Epoch : 23, Iteration : 21 , Loss : 0.5954344868659973\n",
      "Epoch : 23, Iteration : 31 , Loss : 0.5976024866104126\n",
      "Epoch : 23, Iteration : 41 , Loss : 0.5900750160217285\n",
      "Epoch : 23, Iteration : 51 , Loss : 0.5961352586746216\n"
     ]
    },
    {
     "name": "stderr",
     "output_type": "stream",
     "text": [
      "INFO:root:Evaluating accuracy on dev set\n"
     ]
    },
    {
     "name": "stdout",
     "output_type": "stream",
     "text": [
      "Epoch : 23, Iteration : 61 , Loss : 0.5926840901374817\n",
      "Epoch : 23 , Loss : 0.5928725988968558\n"
     ]
    },
    {
     "name": "stderr",
     "output_type": "stream",
     "text": [
      "INFO:root:Train loss: 0.5928725988968558 - acc: 0.7721770317841387 -- Validation loss: 0.6054978115218026 - acc: 0.5444575479195279\n",
      " 77%|███████▋  | 23/30 [00:41<00:12,  1.78s/it]"
     ]
    },
    {
     "name": "stdout",
     "output_type": "stream",
     "text": [
      "Epoch : 23, Validation Iteration : 1 , Loss : 0.6044448018074036\n",
      "Epoch : 23, Validation Loss : 0.6054978115218026\n",
      "Epoch : 24, Iteration : 1 , Loss : 0.5873208045959473\n",
      "Epoch : 24, Iteration : 11 , Loss : 0.5941390991210938\n",
      "Epoch : 24, Iteration : 21 , Loss : 0.5951799154281616\n",
      "Epoch : 24, Iteration : 31 , Loss : 0.5975410342216492\n",
      "Epoch : 24, Iteration : 41 , Loss : 0.591804027557373\n",
      "Epoch : 24, Iteration : 51 , Loss : 0.5963453650474548\n"
     ]
    },
    {
     "name": "stderr",
     "output_type": "stream",
     "text": [
      "INFO:root:Evaluating accuracy on dev set\n"
     ]
    },
    {
     "name": "stdout",
     "output_type": "stream",
     "text": [
      "Epoch : 24, Iteration : 61 , Loss : 0.5917881727218628\n",
      "Epoch : 24 , Loss : 0.5928586704143579\n"
     ]
    },
    {
     "name": "stderr",
     "output_type": "stream",
     "text": [
      "INFO:root:Train loss: 0.5928586704143579 - acc: 0.7709541892260512 -- Validation loss: 0.6058318870408195 - acc: 0.5350908689639923\n",
      " 80%|████████  | 24/30 [00:42<00:10,  1.78s/it]"
     ]
    },
    {
     "name": "stdout",
     "output_type": "stream",
     "text": [
      "Epoch : 24, Validation Iteration : 1 , Loss : 0.6036641001701355\n",
      "Epoch : 24, Validation Loss : 0.6058318870408195\n",
      "Epoch : 25, Iteration : 1 , Loss : 0.5875498056411743\n",
      "Epoch : 25, Iteration : 11 , Loss : 0.5948259830474854\n",
      "Epoch : 25, Iteration : 21 , Loss : 0.5932005643844604\n",
      "Epoch : 25, Iteration : 31 , Loss : 0.5977993011474609\n",
      "Epoch : 25, Iteration : 41 , Loss : 0.5917755365371704\n",
      "Epoch : 25, Iteration : 51 , Loss : 0.5963590145111084\n"
     ]
    },
    {
     "name": "stderr",
     "output_type": "stream",
     "text": [
      "INFO:root:Evaluating accuracy on dev set\n"
     ]
    },
    {
     "name": "stdout",
     "output_type": "stream",
     "text": [
      "Epoch : 25, Iteration : 61 , Loss : 0.5929086208343506\n",
      "Epoch : 25 , Loss : 0.5926967919736669\n"
     ]
    },
    {
     "name": "stderr",
     "output_type": "stream",
     "text": [
      "INFO:root:Train loss: 0.5926967919736669 - acc: 0.7724783082656229 -- Validation loss: 0.604633092880249 - acc: 0.5530030286814954\n",
      " 83%|████████▎ | 25/30 [00:44<00:08,  1.78s/it]"
     ]
    },
    {
     "name": "stdout",
     "output_type": "stream",
     "text": [
      "Epoch : 25, Validation Iteration : 1 , Loss : 0.603165864944458\n",
      "Epoch : 25, Validation Loss : 0.604633092880249\n",
      "Epoch : 26, Iteration : 1 , Loss : 0.5875458717346191\n",
      "Epoch : 26, Iteration : 11 , Loss : 0.5943171977996826\n",
      "Epoch : 26, Iteration : 21 , Loss : 0.5928112864494324\n",
      "Epoch : 26, Iteration : 31 , Loss : 0.5992783308029175\n",
      "Epoch : 26, Iteration : 41 , Loss : 0.5887412428855896\n",
      "Epoch : 26, Iteration : 51 , Loss : 0.5958723425865173\n",
      "Epoch : 26, Iteration : 61 , Loss : 0.5897090435028076\n",
      "Epoch : 26 , Loss : 0.5913570272749749\n"
     ]
    },
    {
     "name": "stderr",
     "output_type": "stream",
     "text": [
      "INFO:root:Evaluating accuracy on dev set\n",
      "INFO:root:Train loss: 0.5913570272749749 - acc: 0.7765879417181525 -- Validation loss: 0.6000220945903233 - acc: 0.5503417308030082\n",
      " 87%|████████▋ | 26/30 [00:46<00:07,  1.78s/it]"
     ]
    },
    {
     "name": "stdout",
     "output_type": "stream",
     "text": [
      "Epoch : 26, Validation Iteration : 1 , Loss : 0.6004019379615784\n",
      "Epoch : 26, Validation Loss : 0.6000220945903233\n",
      "Epoch : 27, Iteration : 1 , Loss : 0.5809516906738281\n",
      "Epoch : 27, Iteration : 11 , Loss : 0.587591290473938\n",
      "Epoch : 27, Iteration : 21 , Loss : 0.5853238105773926\n",
      "Epoch : 27, Iteration : 31 , Loss : 0.5909017324447632\n",
      "Epoch : 27, Iteration : 41 , Loss : 0.5809594392776489\n",
      "Epoch : 27, Iteration : 51 , Loss : 0.5893805027008057\n"
     ]
    },
    {
     "name": "stderr",
     "output_type": "stream",
     "text": [
      "INFO:root:Evaluating accuracy on dev set\n"
     ]
    },
    {
     "name": "stdout",
     "output_type": "stream",
     "text": [
      "Epoch : 27, Iteration : 61 , Loss : 0.5856544971466064\n",
      "Epoch : 27 , Loss : 0.5848984597385793\n"
     ]
    },
    {
     "name": "stderr",
     "output_type": "stream",
     "text": [
      "INFO:root:Train loss: 0.5848984597385793 - acc: 0.7821541007504866 -- Validation loss: 0.5983978254454476 - acc: 0.5454251161578663\n",
      " 90%|█████████ | 27/30 [00:48<00:05,  1.78s/it]"
     ]
    },
    {
     "name": "stdout",
     "output_type": "stream",
     "text": [
      "Epoch : 27, Validation Iteration : 1 , Loss : 0.5970569849014282\n",
      "Epoch : 27, Validation Loss : 0.5983978254454476\n",
      "Epoch : 28, Iteration : 1 , Loss : 0.5788915157318115\n",
      "Epoch : 28, Iteration : 11 , Loss : 0.5881489515304565\n",
      "Epoch : 28, Iteration : 21 , Loss : 0.5848329663276672\n",
      "Epoch : 28, Iteration : 31 , Loss : 0.5882211923599243\n",
      "Epoch : 28, Iteration : 41 , Loss : 0.5814105272293091\n",
      "Epoch : 28, Iteration : 51 , Loss : 0.5872308611869812\n"
     ]
    },
    {
     "name": "stderr",
     "output_type": "stream",
     "text": [
      "INFO:root:Evaluating accuracy on dev set\n"
     ]
    },
    {
     "name": "stdout",
     "output_type": "stream",
     "text": [
      "Epoch : 28, Iteration : 61 , Loss : 0.5849114060401917\n",
      "Epoch : 28 , Loss : 0.5842164504355278\n"
     ]
    },
    {
     "name": "stderr",
     "output_type": "stream",
     "text": [
      "INFO:root:Train loss: 0.5842164504355278 - acc: 0.7823657136101946 -- Validation loss: 0.5976303475243705 - acc: 0.5477100147991385\n",
      " 93%|█████████▎| 28/30 [00:50<00:03,  1.79s/it]"
     ]
    },
    {
     "name": "stdout",
     "output_type": "stream",
     "text": [
      "Epoch : 28, Validation Iteration : 1 , Loss : 0.6010503768920898\n",
      "Epoch : 28, Validation Loss : 0.5976303475243705\n",
      "Epoch : 29, Iteration : 1 , Loss : 0.5796309113502502\n",
      "Epoch : 29, Iteration : 11 , Loss : 0.5886880159378052\n",
      "Epoch : 29, Iteration : 21 , Loss : 0.5849318504333496\n",
      "Epoch : 29, Iteration : 31 , Loss : 0.5888278484344482\n",
      "Epoch : 29, Iteration : 41 , Loss : 0.5803043246269226\n",
      "Epoch : 29, Iteration : 51 , Loss : 0.587713360786438\n"
     ]
    },
    {
     "name": "stderr",
     "output_type": "stream",
     "text": [
      "INFO:root:Evaluating accuracy on dev set\n"
     ]
    },
    {
     "name": "stdout",
     "output_type": "stream",
     "text": [
      "Epoch : 29, Iteration : 61 , Loss : 0.583595871925354\n",
      "Epoch : 29 , Loss : 0.5839771187823751\n"
     ]
    },
    {
     "name": "stderr",
     "output_type": "stream",
     "text": [
      "INFO:root:Train loss: 0.5839771187823751 - acc: 0.7827405092050257 -- Validation loss: 0.5969309891973223 - acc: 0.565583490526757\n",
      " 97%|█████████▋| 29/30 [00:51<00:01,  1.78s/it]"
     ]
    },
    {
     "name": "stdout",
     "output_type": "stream",
     "text": [
      "Epoch : 29, Validation Iteration : 1 , Loss : 0.5975983738899231\n",
      "Epoch : 29, Validation Loss : 0.5969309891973223\n",
      "Epoch : 30, Iteration : 1 , Loss : 0.5781793594360352\n",
      "Epoch : 30, Iteration : 11 , Loss : 0.5904308557510376\n",
      "Epoch : 30, Iteration : 21 , Loss : 0.584399938583374\n",
      "Epoch : 30, Iteration : 31 , Loss : 0.5882507562637329\n",
      "Epoch : 30, Iteration : 41 , Loss : 0.5803659558296204\n",
      "Epoch : 30, Iteration : 51 , Loss : 0.5869631767272949\n",
      "Epoch : 30, Iteration : 61 , Loss : 0.5831693410873413\n",
      "Epoch : 30 , Loss : 0.5836577311806057\n"
     ]
    },
    {
     "name": "stderr",
     "output_type": "stream",
     "text": [
      "INFO:root:Evaluating accuracy on dev set\n",
      "INFO:root:Train loss: 0.5836577311806057 - acc: 0.7835346767988658 -- Validation loss: 0.597086352961404 - acc: 0.5512889531366323\n",
      "100%|██████████| 30/30 [00:53<00:00,  1.79s/it]\n"
     ]
    },
    {
     "name": "stdout",
     "output_type": "stream",
     "text": [
      "Epoch : 30, Validation Iteration : 1 , Loss : 0.5979152321815491\n",
      "Epoch : 30, Validation Loss : 0.597086352961404\n"
     ]
    },
    {
     "name": "stderr",
     "output_type": "stream",
     "text": [
      "\r",
      "  0%|          | 0/30 [00:00<?, ?it/s]"
     ]
    },
    {
     "name": "stdout",
     "output_type": "stream",
     "text": [
      "Epoch : 1, Iteration : 1 , Loss : 1.2053898572921753\n",
      "Epoch : 1, Iteration : 11 , Loss : 1.20497727394104\n",
      "Epoch : 1, Iteration : 21 , Loss : 1.1283060312271118\n",
      "Epoch : 1, Iteration : 31 , Loss : 1.1475541591644287\n",
      "Epoch : 1, Iteration : 41 , Loss : 1.154964804649353\n",
      "Epoch : 1, Iteration : 51 , Loss : 1.1172749996185303\n",
      "Epoch : 1, Iteration : 61 , Loss : 1.0997402667999268\n"
     ]
    },
    {
     "name": "stderr",
     "output_type": "stream",
     "text": [
      "INFO:root:Evaluating accuracy on dev set\n",
      "INFO:root:new model saved\n",
      "INFO:root:Train loss: 1.1590090057124263 - acc: 0.34024187561794406 -- Validation loss: 1.1833901575633459 - acc: 0.390374062806236\n",
      "  3%|▎         | 1/30 [00:03<01:29,  3.09s/it]"
     ]
    },
    {
     "name": "stdout",
     "output_type": "stream",
     "text": [
      "Epoch : 1 , Loss : 1.1590090057124263\n",
      "Epoch : 1, Validation Iteration : 1 , Loss : 1.168851375579834\n",
      "Epoch : 1, Validation Loss : 1.1833901575633459\n",
      "Epoch : 2, Iteration : 1 , Loss : 1.2187047004699707\n",
      "Epoch : 2, Iteration : 11 , Loss : 1.1279757022857666\n",
      "Epoch : 2, Iteration : 21 , Loss : 1.0804868936538696\n",
      "Epoch : 2, Iteration : 31 , Loss : 1.0889570713043213\n",
      "Epoch : 2, Iteration : 41 , Loss : 1.057194709777832\n",
      "Epoch : 2, Iteration : 51 , Loss : 1.0265015363693237\n",
      "Epoch : 2, Iteration : 61 , Loss : 0.9435144662857056\n"
     ]
    },
    {
     "name": "stderr",
     "output_type": "stream",
     "text": [
      "INFO:root:Evaluating accuracy on dev set\n",
      "INFO:root:new model saved\n",
      "INFO:root:Train loss: 1.0527680550796399 - acc: 0.4514062900006322 -- Validation loss: 0.9940766777311053 - acc: 0.43320888496168686\n",
      "  7%|▋         | 2/30 [00:06<01:26,  3.09s/it]"
     ]
    },
    {
     "name": "stdout",
     "output_type": "stream",
     "text": [
      "Epoch : 2 , Loss : 1.0527680550796399\n",
      "Epoch : 2, Validation Iteration : 1 , Loss : 0.9912015199661255\n",
      "Epoch : 2, Validation Loss : 0.9940766777311053\n",
      "Epoch : 3, Iteration : 1 , Loss : 1.0249896049499512\n",
      "Epoch : 3, Iteration : 11 , Loss : 1.0508638620376587\n",
      "Epoch : 3, Iteration : 21 , Loss : 0.8946617841720581\n",
      "Epoch : 3, Iteration : 31 , Loss : 0.8516424894332886\n",
      "Epoch : 3, Iteration : 41 , Loss : 0.8119989633560181\n",
      "Epoch : 3, Iteration : 51 , Loss : 0.7650753259658813\n",
      "Epoch : 3, Iteration : 61 , Loss : 0.7806088924407959\n"
     ]
    },
    {
     "name": "stderr",
     "output_type": "stream",
     "text": [
      "INFO:root:Evaluating accuracy on dev set\n",
      "INFO:root:new model saved\n",
      "INFO:root:Train loss: 0.8583968661833501 - acc: 0.49401160828069407 -- Validation loss: 0.7955919589315142 - acc: 0.4500510107167804\n",
      " 10%|█         | 3/30 [00:09<01:23,  3.08s/it]"
     ]
    },
    {
     "name": "stdout",
     "output_type": "stream",
     "text": [
      "Epoch : 3 , Loss : 0.8583968661833501\n",
      "Epoch : 3, Validation Iteration : 1 , Loss : 0.7795195579528809\n",
      "Epoch : 3, Validation Loss : 0.7955919589315142\n",
      "Epoch : 4, Iteration : 1 , Loss : 0.7756568789482117\n",
      "Epoch : 4, Iteration : 11 , Loss : 0.7622306942939758\n",
      "Epoch : 4, Iteration : 21 , Loss : 0.7170529365539551\n",
      "Epoch : 4, Iteration : 31 , Loss : 0.7103670835494995\n",
      "Epoch : 4, Iteration : 41 , Loss : 0.7109675407409668\n",
      "Epoch : 4, Iteration : 51 , Loss : 0.7021721601486206\n",
      "Epoch : 4, Iteration : 61 , Loss : 0.6968245506286621\n"
     ]
    },
    {
     "name": "stderr",
     "output_type": "stream",
     "text": [
      "INFO:root:Evaluating accuracy on dev set\n",
      "INFO:root:new model saved\n",
      "INFO:root:Train loss: 0.7173484235570051 - acc: 0.5735852328631255 -- Validation loss: 0.7300962890897479 - acc: 0.49095926309227633\n",
      " 13%|█▎        | 4/30 [00:12<01:20,  3.09s/it]"
     ]
    },
    {
     "name": "stdout",
     "output_type": "stream",
     "text": [
      "Epoch : 4 , Loss : 0.7173484235570051\n",
      "Epoch : 4, Validation Iteration : 1 , Loss : 0.7191166877746582\n",
      "Epoch : 4, Validation Loss : 0.7300962890897479\n",
      "Epoch : 5, Iteration : 1 , Loss : 0.7071844339370728\n",
      "Epoch : 5, Iteration : 11 , Loss : 0.7313342094421387\n",
      "Epoch : 5, Iteration : 21 , Loss : 0.7022130489349365\n",
      "Epoch : 5, Iteration : 31 , Loss : 0.7053880095481873\n",
      "Epoch : 5, Iteration : 41 , Loss : 0.7174094915390015\n",
      "Epoch : 5, Iteration : 51 , Loss : 0.7053739428520203\n",
      "Epoch : 5, Iteration : 61 , Loss : 0.7334583401679993\n"
     ]
    },
    {
     "name": "stderr",
     "output_type": "stream",
     "text": [
      "INFO:root:Evaluating accuracy on dev set\n",
      "INFO:root:new model saved\n",
      "INFO:root:Train loss: 0.7140723639640255 - acc: 0.581910273780039 -- Validation loss: 0.7554175938878741 - acc: 0.4976554751267395\n",
      " 17%|█▋        | 5/30 [00:15<01:17,  3.08s/it]"
     ]
    },
    {
     "name": "stdout",
     "output_type": "stream",
     "text": [
      "Epoch : 5 , Loss : 0.7140723639640255\n",
      "Epoch : 5, Validation Iteration : 1 , Loss : 0.7518938183784485\n",
      "Epoch : 5, Validation Loss : 0.7554175938878741\n",
      "Epoch : 6, Iteration : 1 , Loss : 0.7295851707458496\n",
      "Epoch : 6, Iteration : 11 , Loss : 0.7127646207809448\n",
      "Epoch : 6, Iteration : 21 , Loss : 0.6947765350341797\n",
      "Epoch : 6, Iteration : 31 , Loss : 0.6932685375213623\n",
      "Epoch : 6, Iteration : 41 , Loss : 0.6939067840576172\n",
      "Epoch : 6, Iteration : 51 , Loss : 0.6971886157989502\n",
      "Epoch : 6, Iteration : 61 , Loss : 0.6801842451095581\n"
     ]
    },
    {
     "name": "stderr",
     "output_type": "stream",
     "text": [
      "INFO:root:Evaluating accuracy on dev set\n",
      "INFO:root:new model saved\n",
      "INFO:root:Train loss: 0.6940891500832378 - acc: 0.6110053421712253 -- Validation loss: 0.7838529603821891 - acc: 0.5043089206049118\n",
      " 20%|██        | 6/30 [00:18<01:13,  3.08s/it]"
     ]
    },
    {
     "name": "stdout",
     "output_type": "stream",
     "text": [
      "Epoch : 6 , Loss : 0.6940891500832378\n",
      "Epoch : 6, Validation Iteration : 1 , Loss : 0.7865474224090576\n",
      "Epoch : 6, Validation Loss : 0.7838529603821891\n",
      "Epoch : 7, Iteration : 1 , Loss : 0.7411247491836548\n",
      "Epoch : 7, Iteration : 11 , Loss : 0.6957858800888062\n",
      "Epoch : 7, Iteration : 21 , Loss : 0.7009518146514893\n",
      "Epoch : 7, Iteration : 31 , Loss : 0.6962621808052063\n",
      "Epoch : 7, Iteration : 41 , Loss : 0.6814121007919312\n",
      "Epoch : 7, Iteration : 51 , Loss : 0.68889319896698\n",
      "Epoch : 7, Iteration : 61 , Loss : 0.6748548746109009\n"
     ]
    },
    {
     "name": "stderr",
     "output_type": "stream",
     "text": [
      "INFO:root:Evaluating accuracy on dev set\n",
      "INFO:root:Train loss: 0.6907980649367623 - acc: 0.652957414686608 -- Validation loss: 0.7057954754148211 - acc: 0.49407887924538074\n",
      " 23%|██▎       | 7/30 [00:21<01:10,  3.06s/it]"
     ]
    },
    {
     "name": "stdout",
     "output_type": "stream",
     "text": [
      "Epoch : 7 , Loss : 0.6907980649367623\n",
      "Epoch : 7, Validation Iteration : 1 , Loss : 0.6964695453643799\n",
      "Epoch : 7, Validation Loss : 0.7057954754148211\n",
      "Epoch : 8, Iteration : 1 , Loss : 0.6876968741416931\n",
      "Epoch : 8, Iteration : 11 , Loss : 0.687037467956543\n",
      "Epoch : 8, Iteration : 21 , Loss : 0.6780707836151123\n",
      "Epoch : 8, Iteration : 31 , Loss : 0.6863707900047302\n",
      "Epoch : 8, Iteration : 41 , Loss : 0.6753270030021667\n",
      "Epoch : 8, Iteration : 51 , Loss : 0.6792986392974854\n",
      "Epoch : 8, Iteration : 61 , Loss : 0.6727415323257446\n"
     ]
    },
    {
     "name": "stderr",
     "output_type": "stream",
     "text": [
      "INFO:root:Evaluating accuracy on dev set\n",
      "INFO:root:Train loss: 0.6809678319571675 - acc: 0.6534151051642015 -- Validation loss: 0.6999206628118243 - acc: 0.4977341147255532\n",
      " 27%|██▋       | 8/30 [00:24<01:06,  3.04s/it]"
     ]
    },
    {
     "name": "stdout",
     "output_type": "stream",
     "text": [
      "Epoch : 8 , Loss : 0.6809678319571675\n",
      "Epoch : 8, Validation Iteration : 1 , Loss : 0.6970453262329102\n",
      "Epoch : 8, Validation Loss : 0.6999206628118243\n",
      "Epoch : 9, Iteration : 1 , Loss : 0.6774488687515259\n",
      "Epoch : 9, Iteration : 11 , Loss : 0.6813652515411377\n",
      "Epoch : 9, Iteration : 21 , Loss : 0.6801288723945618\n",
      "Epoch : 9, Iteration : 31 , Loss : 0.6803598403930664\n",
      "Epoch : 9, Iteration : 41 , Loss : 0.670676589012146\n",
      "Epoch : 9, Iteration : 51 , Loss : 0.6833795309066772\n",
      "Epoch : 9, Iteration : 61 , Loss : 0.6618410348892212\n"
     ]
    },
    {
     "name": "stderr",
     "output_type": "stream",
     "text": [
      "INFO:root:Evaluating accuracy on dev set\n",
      "INFO:root:Train loss: 0.6710460540177166 - acc: 0.6543257912172733 -- Validation loss: 0.6574141808918544 - acc: 0.4480126723155329\n",
      " 30%|███       | 9/30 [00:27<01:03,  3.03s/it]"
     ]
    },
    {
     "name": "stdout",
     "output_type": "stream",
     "text": [
      "Epoch : 9 , Loss : 0.6710460540177166\n",
      "Epoch : 9, Validation Iteration : 1 , Loss : 0.6513162851333618\n",
      "Epoch : 9, Validation Loss : 0.6574141808918544\n",
      "Epoch : 10, Iteration : 1 , Loss : 0.6284345984458923\n",
      "Epoch : 10, Iteration : 11 , Loss : 0.6412535905838013\n",
      "Epoch : 10, Iteration : 21 , Loss : 0.6268315315246582\n",
      "Epoch : 10, Iteration : 31 , Loss : 0.6312986612319946\n",
      "Epoch : 10, Iteration : 41 , Loss : 0.6166824698448181\n",
      "Epoch : 10, Iteration : 51 , Loss : 0.6228207349777222\n",
      "Epoch : 10, Iteration : 61 , Loss : 0.6208285093307495\n"
     ]
    },
    {
     "name": "stderr",
     "output_type": "stream",
     "text": [
      "INFO:root:Evaluating accuracy on dev set\n",
      "INFO:root:Train loss: 0.6260742994322293 - acc: 0.6464683101379538 -- Validation loss: 0.6560766782079425 - acc: 0.45410218821106435\n",
      " 33%|███▎      | 10/30 [00:30<01:00,  3.03s/it]"
     ]
    },
    {
     "name": "stdout",
     "output_type": "stream",
     "text": [
      "Epoch : 10 , Loss : 0.6260742994322293\n",
      "Epoch : 10, Validation Iteration : 1 , Loss : 0.6513217687606812\n",
      "Epoch : 10, Validation Loss : 0.6560766782079425\n",
      "Epoch : 11, Iteration : 1 , Loss : 0.6326732635498047\n",
      "Epoch : 11, Iteration : 11 , Loss : 0.6359913349151611\n",
      "Epoch : 11, Iteration : 21 , Loss : 0.7936514019966125\n",
      "Epoch : 11, Iteration : 31 , Loss : 0.7872886061668396\n",
      "Epoch : 11, Iteration : 41 , Loss : 0.6993238925933838\n",
      "Epoch : 11, Iteration : 51 , Loss : 0.6939246654510498\n",
      "Epoch : 11, Iteration : 61 , Loss : 0.7003557085990906\n"
     ]
    },
    {
     "name": "stderr",
     "output_type": "stream",
     "text": [
      "INFO:root:Evaluating accuracy on dev set\n",
      "INFO:root:Train loss: 0.7110326540642891 - acc: 0.6366809131241429 -- Validation loss: 0.6610941120556423 - acc: 0.45271692658021917\n",
      " 37%|███▋      | 11/30 [00:33<00:57,  3.02s/it]"
     ]
    },
    {
     "name": "stdout",
     "output_type": "stream",
     "text": [
      "Epoch : 11 , Loss : 0.7110326540642891\n",
      "Epoch : 11, Validation Iteration : 1 , Loss : 0.6599009037017822\n",
      "Epoch : 11, Validation Loss : 0.6610941120556423\n",
      "Epoch : 12, Iteration : 1 , Loss : 0.6348445415496826\n",
      "Epoch : 12, Iteration : 11 , Loss : 0.6328034400939941\n",
      "Epoch : 12, Iteration : 21 , Loss : 0.6244022846221924\n",
      "Epoch : 12, Iteration : 31 , Loss : 0.6227742433547974\n",
      "Epoch : 12, Iteration : 41 , Loss : 0.6199952363967896\n",
      "Epoch : 12, Iteration : 51 , Loss : 0.6202619075775146\n",
      "Epoch : 12, Iteration : 61 , Loss : 0.612661600112915\n"
     ]
    },
    {
     "name": "stderr",
     "output_type": "stream",
     "text": [
      "INFO:root:Evaluating accuracy on dev set\n",
      "INFO:root:Train loss: 0.6235172351201376 - acc: 0.6667605122807347 -- Validation loss: 0.6394360746656146 - acc: 0.4889268812223432\n",
      " 40%|████      | 12/30 [00:36<00:54,  3.02s/it]"
     ]
    },
    {
     "name": "stdout",
     "output_type": "stream",
     "text": [
      "Epoch : 12 , Loss : 0.6235172351201376\n",
      "Epoch : 12, Validation Iteration : 1 , Loss : 0.6300950050354004\n",
      "Epoch : 12, Validation Loss : 0.6394360746656146\n",
      "Epoch : 13, Iteration : 1 , Loss : 0.6152646541595459\n",
      "Epoch : 13, Iteration : 11 , Loss : 0.6290597319602966\n",
      "Epoch : 13, Iteration : 21 , Loss : 0.6162055730819702\n",
      "Epoch : 13, Iteration : 31 , Loss : 0.6224031448364258\n",
      "Epoch : 13, Iteration : 41 , Loss : 0.6077796220779419\n",
      "Epoch : 13, Iteration : 51 , Loss : 0.6203282475471497\n",
      "Epoch : 13, Iteration : 61 , Loss : 0.6099810600280762\n"
     ]
    },
    {
     "name": "stderr",
     "output_type": "stream",
     "text": [
      "INFO:root:Evaluating accuracy on dev set\n",
      "INFO:root:new model saved\n",
      "INFO:root:Train loss: 0.6159749635751697 - acc: 0.6905047574976827 -- Validation loss: 0.6299522263663155 - acc: 0.5357114190577791\n",
      " 43%|████▎     | 13/30 [00:39<00:51,  3.03s/it]"
     ]
    },
    {
     "name": "stdout",
     "output_type": "stream",
     "text": [
      "Epoch : 13 , Loss : 0.6159749635751697\n",
      "Epoch : 13, Validation Iteration : 1 , Loss : 0.6333207488059998\n",
      "Epoch : 13, Validation Loss : 0.6299522263663155\n",
      "Epoch : 14, Iteration : 1 , Loss : 0.6115524172782898\n",
      "Epoch : 14, Iteration : 11 , Loss : 0.6312446594238281\n",
      "Epoch : 14, Iteration : 21 , Loss : 0.6132144927978516\n",
      "Epoch : 14, Iteration : 31 , Loss : 0.6181100606918335\n",
      "Epoch : 14, Iteration : 41 , Loss : 0.6053019762039185\n",
      "Epoch : 14, Iteration : 51 , Loss : 0.6134201288223267\n",
      "Epoch : 14, Iteration : 61 , Loss : 0.6085977554321289\n"
     ]
    },
    {
     "name": "stderr",
     "output_type": "stream",
     "text": [
      "INFO:root:Evaluating accuracy on dev set\n",
      "INFO:root:Train loss: 0.6133344009302665 - acc: 0.6929442197725987 -- Validation loss: 0.6243764076914106 - acc: 0.5057106463560193\n",
      " 47%|████▋     | 14/30 [00:42<00:48,  3.03s/it]"
     ]
    },
    {
     "name": "stdout",
     "output_type": "stream",
     "text": [
      "Epoch : 14 , Loss : 0.6133344009302665\n",
      "Epoch : 14, Validation Iteration : 1 , Loss : 0.6216448545455933\n",
      "Epoch : 14, Validation Loss : 0.6243764076914106\n",
      "Epoch : 15, Iteration : 1 , Loss : 0.6026274561882019\n",
      "Epoch : 15, Iteration : 11 , Loss : 0.63037109375\n",
      "Epoch : 15, Iteration : 21 , Loss : 0.6073195934295654\n",
      "Epoch : 15, Iteration : 31 , Loss : 0.6098690629005432\n",
      "Epoch : 15, Iteration : 41 , Loss : 0.6010948419570923\n",
      "Epoch : 15, Iteration : 51 , Loss : 0.6125428080558777\n",
      "Epoch : 15, Iteration : 61 , Loss : 0.6029195785522461\n"
     ]
    },
    {
     "name": "stderr",
     "output_type": "stream",
     "text": [
      "INFO:root:Evaluating accuracy on dev set\n",
      "INFO:root:Train loss: 0.6087806483973628 - acc: 0.6915276122108984 -- Validation loss: 0.6470865947859628 - acc: 0.4986361611194333\n",
      " 50%|█████     | 15/30 [00:45<00:45,  3.03s/it]"
     ]
    },
    {
     "name": "stdout",
     "output_type": "stream",
     "text": [
      "Epoch : 15 , Loss : 0.6087806483973628\n",
      "Epoch : 15, Validation Iteration : 1 , Loss : 0.641842246055603\n",
      "Epoch : 15, Validation Loss : 0.6470865947859628\n",
      "Epoch : 16, Iteration : 1 , Loss : 0.6144869923591614\n",
      "Epoch : 16, Iteration : 11 , Loss : 0.6227525472640991\n",
      "Epoch : 16, Iteration : 21 , Loss : 0.7047655582427979\n",
      "Epoch : 16, Iteration : 31 , Loss : 0.8818380236625671\n",
      "Epoch : 16, Iteration : 41 , Loss : 0.9029382467269897\n",
      "Epoch : 16, Iteration : 51 , Loss : 0.747491717338562\n",
      "Epoch : 16, Iteration : 61 , Loss : 0.6919728517532349\n"
     ]
    },
    {
     "name": "stderr",
     "output_type": "stream",
     "text": [
      "INFO:root:Evaluating accuracy on dev set\n",
      "INFO:root:Train loss: 0.749202637568764 - acc: 0.6646206558104905 -- Validation loss: 0.7398716381617955 - acc: 0.467656710244524\n",
      " 53%|█████▎    | 16/30 [00:48<00:42,  3.03s/it]"
     ]
    },
    {
     "name": "stdout",
     "output_type": "stream",
     "text": [
      "Epoch : 16 , Loss : 0.749202637568764\n",
      "Epoch : 16, Validation Iteration : 1 , Loss : 0.7380638122558594\n",
      "Epoch : 16, Validation Loss : 0.7398716381617955\n",
      "Epoch : 17, Iteration : 1 , Loss : 0.6920514106750488\n",
      "Epoch : 17, Iteration : 11 , Loss : 0.6937273740768433\n",
      "Epoch : 17, Iteration : 21 , Loss : 0.6316105127334595\n",
      "Epoch : 17, Iteration : 31 , Loss : 0.6940701007843018\n",
      "Epoch : 17, Iteration : 41 , Loss : 0.6354490518569946\n",
      "Epoch : 17, Iteration : 51 , Loss : 0.6236464977264404\n",
      "Epoch : 17, Iteration : 61 , Loss : 0.6102163791656494\n"
     ]
    },
    {
     "name": "stderr",
     "output_type": "stream",
     "text": [
      "INFO:root:Evaluating accuracy on dev set\n",
      "INFO:root:Train loss: 0.6745392507401066 - acc: 0.6653995099653516 -- Validation loss: 0.6671974914414542 - acc: 0.5010820199608302\n",
      " 57%|█████▋    | 17/30 [00:51<00:39,  3.02s/it]"
     ]
    },
    {
     "name": "stdout",
     "output_type": "stream",
     "text": [
      "Epoch : 17 , Loss : 0.6745392507401066\n",
      "Epoch : 17, Validation Iteration : 1 , Loss : 0.6579441428184509\n",
      "Epoch : 17, Validation Loss : 0.6671974914414542\n",
      "Epoch : 18, Iteration : 1 , Loss : 0.6189183592796326\n",
      "Epoch : 18, Iteration : 11 , Loss : 0.6114823222160339\n",
      "Epoch : 18, Iteration : 21 , Loss : 0.6103554964065552\n",
      "Epoch : 18, Iteration : 31 , Loss : 0.6118036508560181\n",
      "Epoch : 18, Iteration : 41 , Loss : 0.5998893976211548\n",
      "Epoch : 18, Iteration : 51 , Loss : 0.605090320110321\n",
      "Epoch : 18, Iteration : 61 , Loss : 0.5993613600730896\n"
     ]
    },
    {
     "name": "stderr",
     "output_type": "stream",
     "text": [
      "INFO:root:Evaluating accuracy on dev set\n",
      "INFO:root:Train loss: 0.6104092045106749 - acc: 0.6594329106383382 -- Validation loss: 0.631575345993042 - acc: 0.5043314081838067\n",
      " 60%|██████    | 18/30 [00:54<00:36,  3.01s/it]"
     ]
    },
    {
     "name": "stdout",
     "output_type": "stream",
     "text": [
      "Epoch : 18 , Loss : 0.6104092045106749\n",
      "Epoch : 18, Validation Iteration : 1 , Loss : 0.6237845420837402\n",
      "Epoch : 18, Validation Loss : 0.631575345993042\n",
      "Epoch : 19, Iteration : 1 , Loss : 0.6027034521102905\n",
      "Epoch : 19, Iteration : 11 , Loss : 0.610914945602417\n",
      "Epoch : 19, Iteration : 21 , Loss : 0.6035627722740173\n",
      "Epoch : 19, Iteration : 31 , Loss : 0.6068389415740967\n",
      "Epoch : 19, Iteration : 41 , Loss : 1.031010389328003\n",
      "Epoch : 19, Iteration : 51 , Loss : 0.8133087158203125\n",
      "Epoch : 19, Iteration : 61 , Loss : 0.7428465485572815\n"
     ]
    },
    {
     "name": "stderr",
     "output_type": "stream",
     "text": [
      "INFO:root:Evaluating accuracy on dev set\n",
      "INFO:root:Train loss: 0.7001211928284686 - acc: 0.6764651915757598 -- Validation loss: 0.6794916135924203 - acc: 0.47367568474673666\n",
      " 63%|██████▎   | 19/30 [00:57<00:33,  3.01s/it]"
     ]
    },
    {
     "name": "stdout",
     "output_type": "stream",
     "text": [
      "Epoch : 19 , Loss : 0.7001211928284686\n",
      "Epoch : 19, Validation Iteration : 1 , Loss : 0.6789157390594482\n",
      "Epoch : 19, Validation Loss : 0.6794916135924203\n",
      "Epoch : 20, Iteration : 1 , Loss : 0.6398853063583374\n",
      "Epoch : 20, Iteration : 11 , Loss : 0.6304203867912292\n",
      "Epoch : 20, Iteration : 21 , Loss : 0.6110841035842896\n",
      "Epoch : 20, Iteration : 31 , Loss : 0.6211925745010376\n",
      "Epoch : 20, Iteration : 41 , Loss : 0.6045817732810974\n",
      "Epoch : 20, Iteration : 51 , Loss : 0.6146210432052612\n",
      "Epoch : 20, Iteration : 61 , Loss : 0.6053549647331238\n"
     ]
    },
    {
     "name": "stderr",
     "output_type": "stream",
     "text": [
      "INFO:root:Evaluating accuracy on dev set\n",
      "INFO:root:Train loss: 0.6125939903051957 - acc: 0.6733801483252609 -- Validation loss: 0.6290456908089774 - acc: 0.48744076012306226\n",
      " 67%|██████▋   | 20/30 [01:00<00:30,  3.01s/it]"
     ]
    },
    {
     "name": "stdout",
     "output_type": "stream",
     "text": [
      "Epoch : 20 , Loss : 0.6125939903051957\n",
      "Epoch : 20, Validation Iteration : 1 , Loss : 0.6290714740753174\n",
      "Epoch : 20, Validation Loss : 0.6290456908089774\n",
      "Epoch : 21, Iteration : 1 , Loss : 0.604239821434021\n",
      "Epoch : 21, Iteration : 11 , Loss : 0.6176542043685913\n",
      "Epoch : 21, Iteration : 21 , Loss : 0.6044160723686218\n",
      "Epoch : 21, Iteration : 31 , Loss : 0.6080883741378784\n",
      "Epoch : 21, Iteration : 41 , Loss : 0.6008889675140381\n",
      "Epoch : 21, Iteration : 51 , Loss : 0.610539436340332\n",
      "Epoch : 21, Iteration : 61 , Loss : 0.6015816926956177\n"
     ]
    },
    {
     "name": "stderr",
     "output_type": "stream",
     "text": [
      "INFO:root:Evaluating accuracy on dev set\n",
      "INFO:root:Train loss: 0.606277945248977 - acc: 0.7036620286814924 -- Validation loss: 0.6179676396506173 - acc: 0.5143051848421828\n",
      " 70%|███████   | 21/30 [01:03<00:27,  3.01s/it]"
     ]
    },
    {
     "name": "stdout",
     "output_type": "stream",
     "text": [
      "Epoch : 21 , Loss : 0.606277945248977\n",
      "Epoch : 21, Validation Iteration : 1 , Loss : 0.6158268451690674\n",
      "Epoch : 21, Validation Loss : 0.6179676396506173\n",
      "Epoch : 22, Iteration : 1 , Loss : 0.6012406945228577\n",
      "Epoch : 22, Iteration : 11 , Loss : 0.627873957157135\n",
      "Epoch : 22, Iteration : 21 , Loss : 0.614182710647583\n",
      "Epoch : 22, Iteration : 31 , Loss : 0.6143988966941833\n",
      "Epoch : 22, Iteration : 41 , Loss : 0.600239634513855\n",
      "Epoch : 22, Iteration : 51 , Loss : 0.6074244976043701\n",
      "Epoch : 22, Iteration : 61 , Loss : 0.6024141907691956\n"
     ]
    },
    {
     "name": "stderr",
     "output_type": "stream",
     "text": [
      "INFO:root:Evaluating accuracy on dev set\n",
      "INFO:root:Train loss: 0.6069523640300917 - acc: 0.6971553253862615 -- Validation loss: 0.6658569659505572 - acc: 0.4755654445017151\n",
      " 73%|███████▎  | 22/30 [01:06<00:24,  3.01s/it]"
     ]
    },
    {
     "name": "stdout",
     "output_type": "stream",
     "text": [
      "Epoch : 22 , Loss : 0.6069523640300917\n",
      "Epoch : 22, Validation Iteration : 1 , Loss : 0.650789737701416\n",
      "Epoch : 22, Validation Loss : 0.6658569659505572\n",
      "Epoch : 23, Iteration : 1 , Loss : 0.6110059022903442\n",
      "Epoch : 23, Iteration : 11 , Loss : 0.6151823997497559\n",
      "Epoch : 23, Iteration : 21 , Loss : 0.6047275066375732\n",
      "Epoch : 23, Iteration : 31 , Loss : 0.6094323396682739\n",
      "Epoch : 23, Iteration : 41 , Loss : 0.59906005859375\n",
      "Epoch : 23, Iteration : 51 , Loss : 0.6055813431739807\n",
      "Epoch : 23, Iteration : 61 , Loss : 0.6006591320037842\n"
     ]
    },
    {
     "name": "stderr",
     "output_type": "stream",
     "text": [
      "INFO:root:Evaluating accuracy on dev set\n",
      "INFO:root:Train loss: 0.6042995962543763 - acc: 0.7113599145717807 -- Validation loss: 0.6192204441343035 - acc: 0.506733228849868\n",
      " 77%|███████▋  | 23/30 [01:09<00:21,  3.01s/it]"
     ]
    },
    {
     "name": "stdout",
     "output_type": "stream",
     "text": [
      "Epoch : 23 , Loss : 0.6042995962543763\n",
      "Epoch : 23, Validation Iteration : 1 , Loss : 0.6183671951293945\n",
      "Epoch : 23, Validation Loss : 0.6192204441343035\n",
      "Epoch : 24, Iteration : 1 , Loss : 0.6018391847610474\n",
      "Epoch : 24, Iteration : 11 , Loss : 0.6162912845611572\n",
      "Epoch : 24, Iteration : 21 , Loss : 0.6095588803291321\n",
      "Epoch : 24, Iteration : 31 , Loss : 0.6156579256057739\n",
      "Epoch : 24, Iteration : 41 , Loss : 0.5982352495193481\n",
      "Epoch : 24, Iteration : 51 , Loss : 0.6074695587158203\n",
      "Epoch : 24, Iteration : 61 , Loss : 0.6010624170303345\n"
     ]
    },
    {
     "name": "stderr",
     "output_type": "stream",
     "text": [
      "INFO:root:Evaluating accuracy on dev set\n",
      "INFO:root:Train loss: 0.605493774448616 - acc: 0.692596771067462 -- Validation loss: 0.63223911183221 - acc: 0.48568478807704407\n",
      " 80%|████████  | 24/30 [01:12<00:18,  3.01s/it]"
     ]
    },
    {
     "name": "stdout",
     "output_type": "stream",
     "text": [
      "Epoch : 24 , Loss : 0.605493774448616\n",
      "Epoch : 24, Validation Iteration : 1 , Loss : 0.6323837637901306\n",
      "Epoch : 24, Validation Loss : 0.63223911183221\n",
      "Epoch : 25, Iteration : 1 , Loss : 0.601494550704956\n",
      "Epoch : 25, Iteration : 11 , Loss : 0.6163640022277832\n",
      "Epoch : 25, Iteration : 21 , Loss : 0.6047950983047485\n",
      "Epoch : 25, Iteration : 31 , Loss : 0.6069400310516357\n",
      "Epoch : 25, Iteration : 41 , Loss : 0.5976497530937195\n",
      "Epoch : 25, Iteration : 51 , Loss : 0.6031739711761475\n",
      "Epoch : 25, Iteration : 61 , Loss : 0.6001954078674316\n"
     ]
    },
    {
     "name": "stderr",
     "output_type": "stream",
     "text": [
      "INFO:root:Evaluating accuracy on dev set\n",
      "INFO:root:Train loss: 0.6022254746893178 - acc: 0.7071830477707399 -- Validation loss: 0.6328319651739938 - acc: 0.48056344276571433\n",
      " 83%|████████▎ | 25/30 [01:15<00:15,  3.01s/it]"
     ]
    },
    {
     "name": "stdout",
     "output_type": "stream",
     "text": [
      "Epoch : 25 , Loss : 0.6022254746893178\n",
      "Epoch : 25, Validation Iteration : 1 , Loss : 0.6282225251197815\n",
      "Epoch : 25, Validation Loss : 0.6328319651739938\n",
      "Epoch : 26, Iteration : 1 , Loss : 0.5962421894073486\n",
      "Epoch : 26, Iteration : 11 , Loss : 0.6170766353607178\n",
      "Epoch : 26, Iteration : 21 , Loss : 0.6017913818359375\n",
      "Epoch : 26, Iteration : 31 , Loss : 0.6047879457473755\n",
      "Epoch : 26, Iteration : 41 , Loss : 0.5977045297622681\n",
      "Epoch : 26, Iteration : 51 , Loss : 0.6050237417221069\n",
      "Epoch : 26, Iteration : 61 , Loss : 0.598546028137207\n"
     ]
    },
    {
     "name": "stderr",
     "output_type": "stream",
     "text": [
      "INFO:root:Evaluating accuracy on dev set\n",
      "INFO:root:Train loss: 0.6030671104140903 - acc: 0.7086728493624606 -- Validation loss: 0.6127343348094395 - acc: 0.5113732328891407\n",
      " 87%|████████▋ | 26/30 [01:18<00:12,  3.01s/it]"
     ]
    },
    {
     "name": "stdout",
     "output_type": "stream",
     "text": [
      "Epoch : 26 , Loss : 0.6030671104140903\n",
      "Epoch : 26, Validation Iteration : 1 , Loss : 0.6150112152099609\n",
      "Epoch : 26, Validation Loss : 0.6127343348094395\n",
      "Epoch : 27, Iteration : 1 , Loss : 0.6082273721694946\n",
      "Epoch : 27, Iteration : 11 , Loss : 0.6172681450843811\n",
      "Epoch : 27, Iteration : 21 , Loss : 0.6152735352516174\n",
      "Epoch : 27, Iteration : 31 , Loss : 0.6075441837310791\n",
      "Epoch : 27, Iteration : 41 , Loss : 0.6008408069610596\n",
      "Epoch : 27, Iteration : 51 , Loss : 0.6026780605316162\n",
      "Epoch : 27, Iteration : 61 , Loss : 0.5978527069091797\n"
     ]
    },
    {
     "name": "stderr",
     "output_type": "stream",
     "text": [
      "INFO:root:Evaluating accuracy on dev set\n",
      "INFO:root:Train loss: 0.6064774273098379 - acc: 0.6852862366230956 -- Validation loss: 0.6143447245870318 - acc: 0.49137421246473934\n",
      " 90%|█████████ | 27/30 [01:21<00:09,  3.01s/it]"
     ]
    },
    {
     "name": "stdout",
     "output_type": "stream",
     "text": [
      "Epoch : 27 , Loss : 0.6064774273098379\n",
      "Epoch : 27, Validation Iteration : 1 , Loss : 0.6154325008392334\n",
      "Epoch : 27, Validation Loss : 0.6143447245870318\n",
      "Epoch : 28, Iteration : 1 , Loss : 0.599488377571106\n",
      "Epoch : 28, Iteration : 11 , Loss : 0.609320878982544\n",
      "Epoch : 28, Iteration : 21 , Loss : 0.6054061651229858\n",
      "Epoch : 28, Iteration : 31 , Loss : 0.6050284504890442\n",
      "Epoch : 28, Iteration : 41 , Loss : 0.5963836312294006\n",
      "Epoch : 28, Iteration : 51 , Loss : 0.6030923128128052\n",
      "Epoch : 28, Iteration : 61 , Loss : 0.5968571901321411\n"
     ]
    },
    {
     "name": "stderr",
     "output_type": "stream",
     "text": [
      "INFO:root:Evaluating accuracy on dev set\n",
      "INFO:root:Train loss: 0.6027066128841345 - acc: 0.7011051269322812 -- Validation loss: 0.6130952664784023 - acc: 0.4927681746469426\n",
      " 93%|█████████▎| 28/30 [01:24<00:06,  3.01s/it]"
     ]
    },
    {
     "name": "stdout",
     "output_type": "stream",
     "text": [
      "Epoch : 28 , Loss : 0.6027066128841345\n",
      "Epoch : 28, Validation Iteration : 1 , Loss : 0.6116560101509094\n",
      "Epoch : 28, Validation Loss : 0.6130952664784023\n",
      "Epoch : 29, Iteration : 1 , Loss : 0.5933539867401123\n",
      "Epoch : 29, Iteration : 11 , Loss : 0.6110580563545227\n",
      "Epoch : 29, Iteration : 21 , Loss : 0.6038240194320679\n",
      "Epoch : 29, Iteration : 31 , Loss : 0.6072314381599426\n",
      "Epoch : 29, Iteration : 41 , Loss : 0.5973482728004456\n",
      "Epoch : 29, Iteration : 51 , Loss : 0.6031639575958252\n",
      "Epoch : 29, Iteration : 61 , Loss : 0.595710277557373\n"
     ]
    },
    {
     "name": "stderr",
     "output_type": "stream",
     "text": [
      "INFO:root:Evaluating accuracy on dev set\n",
      "INFO:root:Train loss: 0.6010889652846516 - acc: 0.7077214370599607 -- Validation loss: 0.6161336813654218 - acc: 0.5143606675889202\n",
      " 97%|█████████▋| 29/30 [01:27<00:03,  3.01s/it]"
     ]
    },
    {
     "name": "stdout",
     "output_type": "stream",
     "text": [
      "Epoch : 29 , Loss : 0.6010889652846516\n",
      "Epoch : 29, Validation Iteration : 1 , Loss : 0.6142216920852661\n",
      "Epoch : 29, Validation Loss : 0.6161336813654218\n",
      "Epoch : 30, Iteration : 1 , Loss : 0.5928745269775391\n",
      "Epoch : 30, Iteration : 11 , Loss : 0.6066505312919617\n",
      "Epoch : 30, Iteration : 21 , Loss : 0.6032068729400635\n",
      "Epoch : 30, Iteration : 31 , Loss : 0.6061602830886841\n",
      "Epoch : 30, Iteration : 41 , Loss : 0.5914494395256042\n",
      "Epoch : 30, Iteration : 51 , Loss : 0.5980731248855591\n",
      "Epoch : 30, Iteration : 61 , Loss : 0.5945949554443359\n"
     ]
    },
    {
     "name": "stderr",
     "output_type": "stream",
     "text": [
      "INFO:root:Evaluating accuracy on dev set\n",
      "INFO:root:Train loss: 0.5977788645288219 - acc: 0.732712751504996 -- Validation loss: 0.6114198906081063 - acc: 0.5049765206033504\n",
      "100%|██████████| 30/30 [01:30<00:00,  3.03s/it]\n"
     ]
    },
    {
     "name": "stdout",
     "output_type": "stream",
     "text": [
      "Epoch : 30 , Loss : 0.5977788645288219\n",
      "Epoch : 30, Validation Iteration : 1 , Loss : 0.6172484159469604\n",
      "Epoch : 30, Validation Loss : 0.6114198906081063\n"
     ]
    },
    {
     "name": "stderr",
     "output_type": "stream",
     "text": [
      "\r",
      "  0%|          | 0/30 [00:00<?, ?it/s]"
     ]
    },
    {
     "name": "stdout",
     "output_type": "stream",
     "text": [
      "Epoch : 1, Iteration : 1 , Loss : 1.2044742107391357\n",
      "Epoch : 1, Iteration : 11 , Loss : 1.1440025568008423\n",
      "Epoch : 1, Iteration : 21 , Loss : 1.1249579191207886\n",
      "Epoch : 1, Iteration : 31 , Loss : 1.1285669803619385\n",
      "Epoch : 1, Iteration : 41 , Loss : 1.1412690877914429\n",
      "Epoch : 1, Iteration : 51 , Loss : 1.122251033782959\n",
      "Epoch : 1, Iteration : 61 , Loss : 1.1173279285430908\n"
     ]
    },
    {
     "name": "stderr",
     "output_type": "stream",
     "text": [
      "INFO:root:Evaluating accuracy on dev set\n",
      "INFO:root:new model saved\n",
      "INFO:root:Train loss: 1.1363499475562053 - acc: 0.42038256557948894 -- Validation loss: 1.1259748935699463 - acc: 0.48704200716158896\n",
      "  3%|▎         | 1/30 [00:03<01:29,  3.07s/it]"
     ]
    },
    {
     "name": "stdout",
     "output_type": "stream",
     "text": [
      "Epoch : 1 , Loss : 1.1363499475562053\n",
      "Epoch : 1, Validation Iteration : 1 , Loss : 1.121453046798706\n",
      "Epoch : 1, Validation Loss : 1.1259748935699463\n",
      "Epoch : 2, Iteration : 1 , Loss : 1.121275544166565\n",
      "Epoch : 2, Iteration : 11 , Loss : 1.1355684995651245\n",
      "Epoch : 2, Iteration : 21 , Loss : 1.1270999908447266\n",
      "Epoch : 2, Iteration : 31 , Loss : 1.11235511302948\n",
      "Epoch : 2, Iteration : 41 , Loss : 1.0984631776809692\n",
      "Epoch : 2, Iteration : 51 , Loss : 1.092700719833374\n",
      "Epoch : 2, Iteration : 61 , Loss : 1.081972360610962\n"
     ]
    },
    {
     "name": "stderr",
     "output_type": "stream",
     "text": [
      "INFO:root:Evaluating accuracy on dev set\n",
      "INFO:root:new model saved\n",
      "INFO:root:Train loss: 1.111175485279249 - acc: 0.5326335638112832 -- Validation loss: 1.0925041266850062 - acc: 0.5177047579670635\n",
      "  7%|▋         | 2/30 [00:06<01:26,  3.08s/it]"
     ]
    },
    {
     "name": "stdout",
     "output_type": "stream",
     "text": [
      "Epoch : 2 , Loss : 1.111175485279249\n",
      "Epoch : 2, Validation Iteration : 1 , Loss : 1.0913054943084717\n",
      "Epoch : 2, Validation Loss : 1.0925041266850062\n",
      "Epoch : 3, Iteration : 1 , Loss : 1.0887590646743774\n",
      "Epoch : 3, Iteration : 11 , Loss : 1.098973274230957\n",
      "Epoch : 3, Iteration : 21 , Loss : 1.0857542753219604\n",
      "Epoch : 3, Iteration : 31 , Loss : 1.086282730102539\n",
      "Epoch : 3, Iteration : 41 , Loss : 1.063856840133667\n",
      "Epoch : 3, Iteration : 51 , Loss : 1.063663125038147\n",
      "Epoch : 3, Iteration : 61 , Loss : 1.0481135845184326\n"
     ]
    },
    {
     "name": "stderr",
     "output_type": "stream",
     "text": [
      "INFO:root:Evaluating accuracy on dev set\n",
      "INFO:root:new model saved\n",
      "INFO:root:Train loss: 1.0755462853804878 - acc: 0.5819744937270129 -- Validation loss: 1.034482376916068 - acc: 0.5408013754569014\n",
      " 10%|█         | 3/30 [00:09<01:23,  3.08s/it]"
     ]
    },
    {
     "name": "stdout",
     "output_type": "stream",
     "text": [
      "Epoch : 3 , Loss : 1.0755462853804878\n",
      "Epoch : 3, Validation Iteration : 1 , Loss : 1.0334762334823608\n",
      "Epoch : 3, Validation Loss : 1.034482376916068\n",
      "Epoch : 4, Iteration : 1 , Loss : 1.0286920070648193\n",
      "Epoch : 4, Iteration : 11 , Loss : 0.9975619316101074\n",
      "Epoch : 4, Iteration : 21 , Loss : 0.9516017436981201\n",
      "Epoch : 4, Iteration : 31 , Loss : 0.8814880847930908\n",
      "Epoch : 4, Iteration : 41 , Loss : 0.8219748139381409\n",
      "Epoch : 4, Iteration : 51 , Loss : 0.7899253368377686\n",
      "Epoch : 4, Iteration : 61 , Loss : 0.7563662528991699\n"
     ]
    },
    {
     "name": "stderr",
     "output_type": "stream",
     "text": [
      "INFO:root:Evaluating accuracy on dev set\n",
      "INFO:root:new model saved\n",
      "INFO:root:Train loss: 0.8750608744828597 - acc: 0.6193428368262112 -- Validation loss: 0.7485974175589425 - acc: 0.56276357490428\n",
      " 13%|█▎        | 4/30 [00:12<01:20,  3.08s/it]"
     ]
    },
    {
     "name": "stdout",
     "output_type": "stream",
     "text": [
      "Epoch : 4 , Loss : 0.8750608744828597\n",
      "Epoch : 4, Validation Iteration : 1 , Loss : 0.7448675632476807\n",
      "Epoch : 4, Validation Loss : 0.7485974175589425\n",
      "Epoch : 5, Iteration : 1 , Loss : 0.7362372875213623\n",
      "Epoch : 5, Iteration : 11 , Loss : 0.711796224117279\n",
      "Epoch : 5, Iteration : 21 , Loss : 0.6855664253234863\n",
      "Epoch : 5, Iteration : 31 , Loss : 0.6734512448310852\n",
      "Epoch : 5, Iteration : 41 , Loss : 0.6617882251739502\n",
      "Epoch : 5, Iteration : 51 , Loss : 0.6598469018936157\n",
      "Epoch : 5, Iteration : 61 , Loss : 0.6472717523574829\n"
     ]
    },
    {
     "name": "stderr",
     "output_type": "stream",
     "text": [
      "INFO:root:Evaluating accuracy on dev set\n",
      "INFO:root:Train loss: 0.6787359239398569 - acc: 0.6449009780591903 -- Validation loss: 0.6446227260998317 - acc: 0.5604014421378751\n",
      " 17%|█▋        | 5/30 [00:15<01:16,  3.06s/it]"
     ]
    },
    {
     "name": "stdout",
     "output_type": "stream",
     "text": [
      "Epoch : 5 , Loss : 0.6787359239398569\n",
      "Epoch : 5, Validation Iteration : 1 , Loss : 0.6401990652084351\n",
      "Epoch : 5, Validation Loss : 0.6446227260998317\n",
      "Epoch : 6, Iteration : 1 , Loss : 0.6339612603187561\n",
      "Epoch : 6, Iteration : 11 , Loss : 0.634260892868042\n",
      "Epoch : 6, Iteration : 21 , Loss : 0.6822375655174255\n",
      "Epoch : 6, Iteration : 31 , Loss : 0.6964647769927979\n",
      "Epoch : 6, Iteration : 41 , Loss : 0.6640232801437378\n",
      "Epoch : 6, Iteration : 51 , Loss : 0.6635226011276245\n",
      "Epoch : 6, Iteration : 61 , Loss : 0.6462650299072266\n"
     ]
    },
    {
     "name": "stderr",
     "output_type": "stream",
     "text": [
      "INFO:root:Evaluating accuracy on dev set\n",
      "INFO:root:Train loss: 0.6636986430140509 - acc: 0.6501757893365395 -- Validation loss: 0.648798908506121 - acc: 0.5444934878893686\n",
      " 20%|██        | 6/30 [00:18<01:13,  3.04s/it]"
     ]
    },
    {
     "name": "stdout",
     "output_type": "stream",
     "text": [
      "Epoch : 6 , Loss : 0.6636986430140509\n",
      "Epoch : 6, Validation Iteration : 1 , Loss : 0.6505908966064453\n",
      "Epoch : 6, Validation Loss : 0.648798908506121\n",
      "Epoch : 7, Iteration : 1 , Loss : 0.6379989385604858\n",
      "Epoch : 7, Iteration : 11 , Loss : 0.6392043828964233\n",
      "Epoch : 7, Iteration : 21 , Loss : 0.6240237951278687\n",
      "Epoch : 7, Iteration : 31 , Loss : 0.6218382120132446\n",
      "Epoch : 7, Iteration : 41 , Loss : 0.609325110912323\n",
      "Epoch : 7, Iteration : 51 , Loss : 0.6088407039642334\n",
      "Epoch : 7, Iteration : 61 , Loss : 0.6000972986221313\n"
     ]
    },
    {
     "name": "stderr",
     "output_type": "stream",
     "text": [
      "INFO:root:Evaluating accuracy on dev set\n",
      "INFO:root:new model saved\n",
      "INFO:root:Train loss: 0.6188616450282111 - acc: 0.6809533495444257 -- Validation loss: 0.6079201442854745 - acc: 0.5832003529994566\n",
      " 23%|██▎       | 7/30 [00:21<01:10,  3.05s/it]"
     ]
    },
    {
     "name": "stdout",
     "output_type": "stream",
     "text": [
      "Epoch : 7 , Loss : 0.6188616450282111\n",
      "Epoch : 7, Validation Iteration : 1 , Loss : 0.605314314365387\n",
      "Epoch : 7, Validation Loss : 0.6079201442854745\n",
      "Epoch : 8, Iteration : 1 , Loss : 0.5970296263694763\n",
      "Epoch : 8, Iteration : 11 , Loss : 0.6029934883117676\n",
      "Epoch : 8, Iteration : 21 , Loss : 0.597053050994873\n",
      "Epoch : 8, Iteration : 31 , Loss : 0.6001300811767578\n",
      "Epoch : 8, Iteration : 41 , Loss : 0.589969277381897\n",
      "Epoch : 8, Iteration : 51 , Loss : 0.5963202714920044\n",
      "Epoch : 8, Iteration : 61 , Loss : 0.5893959999084473\n"
     ]
    },
    {
     "name": "stderr",
     "output_type": "stream",
     "text": [
      "INFO:root:Evaluating accuracy on dev set\n",
      "INFO:root:Train loss: 0.5953484618145487 - acc: 0.71228057227435 -- Validation loss: 0.5999202132225037 - acc: 0.5685070096377137\n",
      " 27%|██▋       | 8/30 [00:24<01:06,  3.04s/it]"
     ]
    },
    {
     "name": "stdout",
     "output_type": "stream",
     "text": [
      "Epoch : 8 , Loss : 0.5953484618145487\n",
      "Epoch : 8, Validation Iteration : 1 , Loss : 0.5997575521469116\n",
      "Epoch : 8, Validation Loss : 0.5999202132225037\n",
      "Epoch : 9, Iteration : 1 , Loss : 0.5853078365325928\n",
      "Epoch : 9, Iteration : 11 , Loss : 0.5982145071029663\n",
      "Epoch : 9, Iteration : 21 , Loss : 0.5880638957023621\n",
      "Epoch : 9, Iteration : 31 , Loss : 0.5920546054840088\n",
      "Epoch : 9, Iteration : 41 , Loss : 0.5823749899864197\n",
      "Epoch : 9, Iteration : 51 , Loss : 0.5877825021743774\n",
      "Epoch : 9, Iteration : 61 , Loss : 0.582642674446106\n"
     ]
    },
    {
     "name": "stderr",
     "output_type": "stream",
     "text": [
      "INFO:root:Evaluating accuracy on dev set\n",
      "INFO:root:Train loss: 0.5875090930772864 - acc: 0.7218677928530154 -- Validation loss: 0.5951111742428371 - acc: 0.5697276300659364\n",
      " 30%|███       | 9/30 [00:27<01:03,  3.03s/it]"
     ]
    },
    {
     "name": "stdout",
     "output_type": "stream",
     "text": [
      "Epoch : 9 , Loss : 0.5875090930772864\n",
      "Epoch : 9, Validation Iteration : 1 , Loss : 0.5926865339279175\n",
      "Epoch : 9, Validation Loss : 0.5951111742428371\n",
      "Epoch : 10, Iteration : 1 , Loss : 0.5788141489028931\n",
      "Epoch : 10, Iteration : 11 , Loss : 0.5956624150276184\n",
      "Epoch : 10, Iteration : 21 , Loss : 0.5848445892333984\n",
      "Epoch : 10, Iteration : 31 , Loss : 0.5889022350311279\n",
      "Epoch : 10, Iteration : 41 , Loss : 0.5802114009857178\n",
      "Epoch : 10, Iteration : 51 , Loss : 0.5865618586540222\n",
      "Epoch : 10, Iteration : 61 , Loss : 0.5812764167785645\n"
     ]
    },
    {
     "name": "stderr",
     "output_type": "stream",
     "text": [
      "INFO:root:Evaluating accuracy on dev set\n",
      "INFO:root:Train loss: 0.5842239528462507 - acc: 0.7315343348284847 -- Validation loss: 0.5925487279891968 - acc: 0.5662937901541685\n",
      " 33%|███▎      | 10/30 [00:30<01:00,  3.03s/it]"
     ]
    },
    {
     "name": "stdout",
     "output_type": "stream",
     "text": [
      "Epoch : 10 , Loss : 0.5842239528462507\n",
      "Epoch : 10, Validation Iteration : 1 , Loss : 0.5906988978385925\n",
      "Epoch : 10, Validation Loss : 0.5925487279891968\n",
      "Epoch : 11, Iteration : 1 , Loss : 0.5768427848815918\n",
      "Epoch : 11, Iteration : 11 , Loss : 0.5915380716323853\n",
      "Epoch : 11, Iteration : 21 , Loss : 0.5841069221496582\n",
      "Epoch : 11, Iteration : 31 , Loss : 0.5898277163505554\n",
      "Epoch : 11, Iteration : 41 , Loss : 0.5790241956710815\n",
      "Epoch : 11, Iteration : 51 , Loss : 0.5841679573059082\n",
      "Epoch : 11, Iteration : 61 , Loss : 0.5803858041763306\n"
     ]
    },
    {
     "name": "stderr",
     "output_type": "stream",
     "text": [
      "INFO:root:Evaluating accuracy on dev set\n",
      "INFO:root:Train loss: 0.5831095999565677 - acc: 0.7409567169095047 -- Validation loss: 0.592117897101811 - acc: 0.5655879077297543\n",
      " 37%|███▋      | 11/30 [00:33<00:57,  3.02s/it]"
     ]
    },
    {
     "name": "stdout",
     "output_type": "stream",
     "text": [
      "Epoch : 11 , Loss : 0.5831095999565677\n",
      "Epoch : 11, Validation Iteration : 1 , Loss : 0.5899049043655396\n",
      "Epoch : 11, Validation Loss : 0.592117897101811\n",
      "Epoch : 12, Iteration : 1 , Loss : 0.5750377178192139\n",
      "Epoch : 12, Iteration : 11 , Loss : 0.6032894849777222\n",
      "Epoch : 12, Iteration : 21 , Loss : 0.5829598903656006\n",
      "Epoch : 12, Iteration : 31 , Loss : 0.5883094668388367\n",
      "Epoch : 12, Iteration : 41 , Loss : 0.5786153078079224\n",
      "Epoch : 12, Iteration : 51 , Loss : 0.5848699808120728\n",
      "Epoch : 12, Iteration : 61 , Loss : 0.5801899433135986\n"
     ]
    },
    {
     "name": "stderr",
     "output_type": "stream",
     "text": [
      "INFO:root:Evaluating accuracy on dev set\n",
      "INFO:root:Train loss: 0.5828699530034825 - acc: 0.7411098565894761 -- Validation loss: 0.5930995685713631 - acc: 0.5514574761237068\n",
      " 40%|████      | 12/30 [00:36<00:54,  3.02s/it]"
     ]
    },
    {
     "name": "stdout",
     "output_type": "stream",
     "text": [
      "Epoch : 12 , Loss : 0.5828699530034825\n",
      "Epoch : 12, Validation Iteration : 1 , Loss : 0.5907620787620544\n",
      "Epoch : 12, Validation Loss : 0.5930995685713631\n",
      "Epoch : 13, Iteration : 1 , Loss : 0.5766407251358032\n",
      "Epoch : 13, Iteration : 11 , Loss : 0.5919443368911743\n",
      "Epoch : 13, Iteration : 21 , Loss : 0.5825849175453186\n",
      "Epoch : 13, Iteration : 31 , Loss : 0.5871561765670776\n",
      "Epoch : 13, Iteration : 41 , Loss : 0.5787791013717651\n",
      "Epoch : 13, Iteration : 51 , Loss : 0.5853545665740967\n",
      "Epoch : 13, Iteration : 61 , Loss : 0.5831552743911743\n"
     ]
    },
    {
     "name": "stderr",
     "output_type": "stream",
     "text": [
      "INFO:root:Evaluating accuracy on dev set\n",
      "INFO:root:Train loss: 0.5825169302415156 - acc: 0.741959334276673 -- Validation loss: 0.5933438284056527 - acc: 0.5452665653411946\n",
      " 43%|████▎     | 13/30 [00:39<00:51,  3.01s/it]"
     ]
    },
    {
     "name": "stdout",
     "output_type": "stream",
     "text": [
      "Epoch : 13 , Loss : 0.5825169302415156\n",
      "Epoch : 13, Validation Iteration : 1 , Loss : 0.590294361114502\n",
      "Epoch : 13, Validation Loss : 0.5933438284056527\n",
      "Epoch : 14, Iteration : 1 , Loss : 0.5767033696174622\n",
      "Epoch : 14, Iteration : 11 , Loss : 0.5896919965744019\n",
      "Epoch : 14, Iteration : 21 , Loss : 0.5831142663955688\n",
      "Epoch : 14, Iteration : 31 , Loss : 0.5868192911148071\n",
      "Epoch : 14, Iteration : 41 , Loss : 0.5780169367790222\n",
      "Epoch : 14, Iteration : 51 , Loss : 0.5882042646408081\n",
      "Epoch : 14, Iteration : 61 , Loss : 0.5795961022377014\n"
     ]
    },
    {
     "name": "stderr",
     "output_type": "stream",
     "text": [
      "INFO:root:Evaluating accuracy on dev set\n",
      "INFO:root:Train loss: 0.5822560303453086 - acc: 0.7457962468428626 -- Validation loss: 0.591349082333701 - acc: 0.5758745696004313\n",
      " 47%|████▋     | 14/30 [00:42<00:48,  3.01s/it]"
     ]
    },
    {
     "name": "stdout",
     "output_type": "stream",
     "text": [
      "Epoch : 14 , Loss : 0.5822560303453086\n",
      "Epoch : 14, Validation Iteration : 1 , Loss : 0.5912549495697021\n",
      "Epoch : 14, Validation Loss : 0.591349082333701\n",
      "Epoch : 15, Iteration : 1 , Loss : 0.5769027471542358\n",
      "Epoch : 15, Iteration : 11 , Loss : 0.5958916544914246\n",
      "Epoch : 15, Iteration : 21 , Loss : 0.5827018022537231\n",
      "Epoch : 15, Iteration : 31 , Loss : 0.5862205028533936\n",
      "Epoch : 15, Iteration : 41 , Loss : 0.5781852602958679\n",
      "Epoch : 15, Iteration : 51 , Loss : 0.5847440361976624\n",
      "Epoch : 15, Iteration : 61 , Loss : 0.579425036907196\n"
     ]
    },
    {
     "name": "stderr",
     "output_type": "stream",
     "text": [
      "INFO:root:Evaluating accuracy on dev set\n",
      "INFO:root:Train loss: 0.5818334601927495 - acc: 0.7499024765314732 -- Validation loss: 0.5918120230947223 - acc: 0.5680946035033398\n",
      " 50%|█████     | 15/30 [00:45<00:45,  3.01s/it]"
     ]
    },
    {
     "name": "stdout",
     "output_type": "stream",
     "text": [
      "Epoch : 15 , Loss : 0.5818334601927495\n",
      "Epoch : 15, Validation Iteration : 1 , Loss : 0.5900444388389587\n",
      "Epoch : 15, Validation Loss : 0.5918120230947223\n",
      "Epoch : 16, Iteration : 1 , Loss : 0.5746022462844849\n",
      "Epoch : 16, Iteration : 11 , Loss : 0.5909078121185303\n",
      "Epoch : 16, Iteration : 21 , Loss : 0.581247091293335\n",
      "Epoch : 16, Iteration : 31 , Loss : 0.5853443145751953\n",
      "Epoch : 16, Iteration : 41 , Loss : 0.581461489200592\n",
      "Epoch : 16, Iteration : 51 , Loss : 0.5846157073974609\n",
      "Epoch : 16, Iteration : 61 , Loss : 0.5795922875404358\n"
     ]
    },
    {
     "name": "stderr",
     "output_type": "stream",
     "text": [
      "INFO:root:Evaluating accuracy on dev set\n",
      "INFO:root:Train loss: 0.5812595987665481 - acc: 0.7544406494742333 -- Validation loss: 0.5910676036562238 - acc: 0.5750462771111405\n",
      " 53%|█████▎    | 16/30 [00:48<00:42,  3.01s/it]"
     ]
    },
    {
     "name": "stdout",
     "output_type": "stream",
     "text": [
      "Epoch : 16 , Loss : 0.5812595987665481\n",
      "Epoch : 16, Validation Iteration : 1 , Loss : 0.5901315212249756\n",
      "Epoch : 16, Validation Loss : 0.5910676036562238\n",
      "Epoch : 17, Iteration : 1 , Loss : 0.5749698877334595\n",
      "Epoch : 17, Iteration : 11 , Loss : 0.5910415649414062\n",
      "Epoch : 17, Iteration : 21 , Loss : 0.5815410614013672\n",
      "Epoch : 17, Iteration : 31 , Loss : 0.5841623544692993\n",
      "Epoch : 17, Iteration : 41 , Loss : 0.5778544545173645\n",
      "Epoch : 17, Iteration : 51 , Loss : 0.5864881277084351\n",
      "Epoch : 17, Iteration : 61 , Loss : 0.5801786184310913\n"
     ]
    },
    {
     "name": "stderr",
     "output_type": "stream",
     "text": [
      "INFO:root:Evaluating accuracy on dev set\n",
      "INFO:root:new model saved\n",
      "INFO:root:Train loss: 0.5810641775960508 - acc: 0.7586975945078744 -- Validation loss: 0.591562032699585 - acc: 0.5838337670554993\n",
      " 57%|█████▋    | 17/30 [00:51<00:39,  3.03s/it]"
     ]
    },
    {
     "name": "stdout",
     "output_type": "stream",
     "text": [
      "Epoch : 17 , Loss : 0.5810641775960508\n",
      "Epoch : 17, Validation Iteration : 1 , Loss : 0.5882769823074341\n",
      "Epoch : 17, Validation Loss : 0.591562032699585\n",
      "Epoch : 18, Iteration : 1 , Loss : 0.57581627368927\n",
      "Epoch : 18, Iteration : 11 , Loss : 0.5891536474227905\n",
      "Epoch : 18, Iteration : 21 , Loss : 0.582455039024353\n",
      "Epoch : 18, Iteration : 31 , Loss : 0.5849829912185669\n",
      "Epoch : 18, Iteration : 41 , Loss : 0.5771610736846924\n",
      "Epoch : 18, Iteration : 51 , Loss : 0.5824342966079712\n",
      "Epoch : 18, Iteration : 61 , Loss : 0.5810799598693848\n"
     ]
    },
    {
     "name": "stderr",
     "output_type": "stream",
     "text": [
      "INFO:root:Evaluating accuracy on dev set\n",
      "INFO:root:Train loss: 0.5809067375418069 - acc: 0.760112065035291 -- Validation loss: 0.5916204367365155 - acc: 0.5767542622700529\n",
      " 60%|██████    | 18/30 [00:54<00:36,  3.02s/it]"
     ]
    },
    {
     "name": "stdout",
     "output_type": "stream",
     "text": [
      "Epoch : 18 , Loss : 0.5809067375418069\n",
      "Epoch : 18, Validation Iteration : 1 , Loss : 0.5901414155960083\n",
      "Epoch : 18, Validation Loss : 0.5916204367365155\n",
      "Epoch : 19, Iteration : 1 , Loss : 0.5755363702774048\n",
      "Epoch : 19, Iteration : 11 , Loss : 0.5883133411407471\n",
      "Epoch : 19, Iteration : 21 , Loss : 0.5814350843429565\n",
      "Epoch : 19, Iteration : 31 , Loss : 0.5864089131355286\n",
      "Epoch : 19, Iteration : 41 , Loss : 0.576214075088501\n",
      "Epoch : 19, Iteration : 51 , Loss : 0.583179771900177\n",
      "Epoch : 19, Iteration : 61 , Loss : 0.5789687633514404\n"
     ]
    },
    {
     "name": "stderr",
     "output_type": "stream",
     "text": [
      "INFO:root:Evaluating accuracy on dev set\n",
      "INFO:root:new model saved\n",
      "INFO:root:Train loss: 0.5803745535836704 - acc: 0.7636389366358612 -- Validation loss: 0.5900287543024335 - acc: 0.5884654051800046\n",
      " 63%|██████▎   | 19/30 [00:57<00:33,  3.04s/it]"
     ]
    },
    {
     "name": "stdout",
     "output_type": "stream",
     "text": [
      "Epoch : 19 , Loss : 0.5803745535836704\n",
      "Epoch : 19, Validation Iteration : 1 , Loss : 0.5864108800888062\n",
      "Epoch : 19, Validation Loss : 0.5900287543024335\n",
      "Epoch : 20, Iteration : 1 , Loss : 0.574134349822998\n",
      "Epoch : 20, Iteration : 11 , Loss : 0.5872818231582642\n",
      "Epoch : 20, Iteration : 21 , Loss : 0.5826184749603271\n",
      "Epoch : 20, Iteration : 31 , Loss : 0.5855309963226318\n",
      "Epoch : 20, Iteration : 41 , Loss : 0.5760816335678101\n",
      "Epoch : 20, Iteration : 51 , Loss : 0.5848685503005981\n",
      "Epoch : 20, Iteration : 61 , Loss : 0.5792431831359863\n"
     ]
    },
    {
     "name": "stderr",
     "output_type": "stream",
     "text": [
      "INFO:root:Evaluating accuracy on dev set\n",
      "INFO:root:Train loss: 0.5800775254982106 - acc: 0.765299973652799 -- Validation loss: 0.5908395222255162 - acc: 0.5702619108466416\n",
      " 67%|██████▋   | 20/30 [01:00<00:30,  3.03s/it]"
     ]
    },
    {
     "name": "stdout",
     "output_type": "stream",
     "text": [
      "Epoch : 20 , Loss : 0.5800775254982106\n",
      "Epoch : 20, Validation Iteration : 1 , Loss : 0.5876320600509644\n",
      "Epoch : 20, Validation Loss : 0.5908395222255162\n",
      "Epoch : 21, Iteration : 1 , Loss : 0.5756097435951233\n",
      "Epoch : 21, Iteration : 11 , Loss : 0.5824223756790161\n",
      "Epoch : 21, Iteration : 21 , Loss : 0.5820080041885376\n",
      "Epoch : 21, Iteration : 31 , Loss : 0.5842282176017761\n",
      "Epoch : 21, Iteration : 41 , Loss : 0.5756466388702393\n",
      "Epoch : 21, Iteration : 51 , Loss : 0.5837895274162292\n",
      "Epoch : 21, Iteration : 61 , Loss : 0.5784170627593994\n"
     ]
    },
    {
     "name": "stderr",
     "output_type": "stream",
     "text": [
      "INFO:root:Evaluating accuracy on dev set\n",
      "INFO:root:Train loss: 0.5794532342233519 - acc: 0.773137923119014 -- Validation loss: 0.5909814408847264 - acc: 0.5645885490152998\n",
      " 70%|███████   | 21/30 [01:03<00:27,  3.03s/it]"
     ]
    },
    {
     "name": "stdout",
     "output_type": "stream",
     "text": [
      "Epoch : 21 , Loss : 0.5794532342233519\n",
      "Epoch : 21, Validation Iteration : 1 , Loss : 0.5857721567153931\n",
      "Epoch : 21, Validation Loss : 0.5909814408847264\n",
      "Epoch : 22, Iteration : 1 , Loss : 0.5755981206893921\n",
      "Epoch : 22, Iteration : 11 , Loss : 0.5818695425987244\n",
      "Epoch : 22, Iteration : 21 , Loss : 0.5839531421661377\n",
      "Epoch : 22, Iteration : 31 , Loss : 0.583052396774292\n",
      "Epoch : 22, Iteration : 41 , Loss : 0.5756415128707886\n",
      "Epoch : 22, Iteration : 51 , Loss : 0.5822043418884277\n",
      "Epoch : 22, Iteration : 61 , Loss : 0.5790587663650513\n"
     ]
    },
    {
     "name": "stderr",
     "output_type": "stream",
     "text": [
      "INFO:root:Evaluating accuracy on dev set\n",
      "INFO:root:Train loss: 0.5794068488521852 - acc: 0.7704944840220244 -- Validation loss: 0.5903082575116839 - acc: 0.5731917880528213\n",
      " 73%|███████▎  | 22/30 [01:06<00:24,  3.03s/it]"
     ]
    },
    {
     "name": "stdout",
     "output_type": "stream",
     "text": [
      "Epoch : 22 , Loss : 0.5794068488521852\n",
      "Epoch : 22, Validation Iteration : 1 , Loss : 0.5854309797286987\n",
      "Epoch : 22, Validation Loss : 0.5903082575116839\n",
      "Epoch : 23, Iteration : 1 , Loss : 0.5765162706375122\n",
      "Epoch : 23, Iteration : 11 , Loss : 0.5817261934280396\n",
      "Epoch : 23, Iteration : 21 , Loss : 0.5828477740287781\n",
      "Epoch : 23, Iteration : 31 , Loss : 0.5837288498878479\n",
      "Epoch : 23, Iteration : 41 , Loss : 0.5751842260360718\n",
      "Epoch : 23, Iteration : 51 , Loss : 0.5840652585029602\n",
      "Epoch : 23, Iteration : 61 , Loss : 0.5783604383468628\n"
     ]
    },
    {
     "name": "stderr",
     "output_type": "stream",
     "text": [
      "INFO:root:Evaluating accuracy on dev set\n",
      "INFO:root:Train loss: 0.5795771807864092 - acc: 0.771379439397493 -- Validation loss: 0.591221136706216 - acc: 0.5561167552306034\n",
      " 77%|███████▋  | 23/30 [01:09<00:21,  3.02s/it]"
     ]
    },
    {
     "name": "stdout",
     "output_type": "stream",
     "text": [
      "Epoch : 23 , Loss : 0.5795771807864092\n",
      "Epoch : 23, Validation Iteration : 1 , Loss : 0.587832510471344\n",
      "Epoch : 23, Validation Loss : 0.591221136706216\n",
      "Epoch : 24, Iteration : 1 , Loss : 0.5743930339813232\n",
      "Epoch : 24, Iteration : 11 , Loss : 0.5814586877822876\n",
      "Epoch : 24, Iteration : 21 , Loss : 0.5858017206192017\n",
      "Epoch : 24, Iteration : 31 , Loss : 0.5835762619972229\n",
      "Epoch : 24, Iteration : 41 , Loss : 0.5764942765235901\n",
      "Epoch : 24, Iteration : 51 , Loss : 0.5844075679779053\n",
      "Epoch : 24, Iteration : 61 , Loss : 0.5792292356491089\n"
     ]
    },
    {
     "name": "stderr",
     "output_type": "stream",
     "text": [
      "INFO:root:Evaluating accuracy on dev set\n",
      "INFO:root:Train loss: 0.5797726874766143 - acc: 0.7685235398118077 -- Validation loss: 0.5915291905403137 - acc: 0.5491017683798433\n",
      " 80%|████████  | 24/30 [01:12<00:18,  3.02s/it]"
     ]
    },
    {
     "name": "stdout",
     "output_type": "stream",
     "text": [
      "Epoch : 24 , Loss : 0.5797726874766143\n",
      "Epoch : 24, Validation Iteration : 1 , Loss : 0.5869568586349487\n",
      "Epoch : 24, Validation Loss : 0.5915291905403137\n",
      "Epoch : 25, Iteration : 1 , Loss : 0.5736619234085083\n",
      "Epoch : 25, Iteration : 11 , Loss : 0.5818610191345215\n",
      "Epoch : 25, Iteration : 21 , Loss : 0.5834449529647827\n",
      "Epoch : 25, Iteration : 31 , Loss : 0.5830530524253845\n",
      "Epoch : 25, Iteration : 41 , Loss : 0.5757369995117188\n",
      "Epoch : 25, Iteration : 51 , Loss : 0.5866215229034424\n",
      "Epoch : 25, Iteration : 61 , Loss : 0.5812743902206421\n"
     ]
    },
    {
     "name": "stderr",
     "output_type": "stream",
     "text": [
      "INFO:root:Evaluating accuracy on dev set\n",
      "INFO:root:Train loss: 0.579978889313297 - acc: 0.767907428974907 -- Validation loss: 0.591979273727962 - acc: 0.5410359557069794\n",
      " 83%|████████▎ | 25/30 [01:15<00:15,  3.01s/it]"
     ]
    },
    {
     "name": "stdout",
     "output_type": "stream",
     "text": [
      "Epoch : 25 , Loss : 0.579978889313297\n",
      "Epoch : 25, Validation Iteration : 1 , Loss : 0.5903128385543823\n",
      "Epoch : 25, Validation Loss : 0.591979273727962\n",
      "Epoch : 26, Iteration : 1 , Loss : 0.5750312805175781\n",
      "Epoch : 26, Iteration : 11 , Loss : 0.5827103853225708\n",
      "Epoch : 26, Iteration : 21 , Loss : 0.5810427665710449\n",
      "Epoch : 26, Iteration : 31 , Loss : 0.5830544233322144\n",
      "Epoch : 26, Iteration : 41 , Loss : 0.5774500966072083\n",
      "Epoch : 26, Iteration : 51 , Loss : 0.5846531987190247\n",
      "Epoch : 26, Iteration : 61 , Loss : 0.5796008706092834\n"
     ]
    },
    {
     "name": "stderr",
     "output_type": "stream",
     "text": [
      "INFO:root:Evaluating accuracy on dev set\n",
      "INFO:root:Train loss: 0.579923367154771 - acc: 0.7675446955620503 -- Validation loss: 0.5905651194708688 - acc: 0.5618585167810837\n",
      " 87%|████████▋ | 26/30 [01:18<00:12,  3.01s/it]"
     ]
    },
    {
     "name": "stdout",
     "output_type": "stream",
     "text": [
      "Epoch : 26 , Loss : 0.579923367154771\n",
      "Epoch : 26, Validation Iteration : 1 , Loss : 0.5870305895805359\n",
      "Epoch : 26, Validation Loss : 0.5905651194708688\n",
      "Epoch : 27, Iteration : 1 , Loss : 0.5739316940307617\n",
      "Epoch : 27, Iteration : 11 , Loss : 0.5875570774078369\n",
      "Epoch : 27, Iteration : 21 , Loss : 0.5805693864822388\n",
      "Epoch : 27, Iteration : 31 , Loss : 0.5855029225349426\n",
      "Epoch : 27, Iteration : 41 , Loss : 0.5768073797225952\n",
      "Epoch : 27, Iteration : 51 , Loss : 0.5852198004722595\n",
      "Epoch : 27, Iteration : 61 , Loss : 0.5788204669952393\n"
     ]
    },
    {
     "name": "stderr",
     "output_type": "stream",
     "text": [
      "INFO:root:Evaluating accuracy on dev set\n",
      "INFO:root:Train loss: 0.5798734607903854 - acc: 0.7687404451162547 -- Validation loss: 0.5907864996365139 - acc: 0.5602212737974444\n",
      " 90%|█████████ | 27/30 [01:21<00:09,  3.01s/it]"
     ]
    },
    {
     "name": "stdout",
     "output_type": "stream",
     "text": [
      "Epoch : 27 , Loss : 0.5798734607903854\n",
      "Epoch : 27, Validation Iteration : 1 , Loss : 0.5874590873718262\n",
      "Epoch : 27, Validation Loss : 0.5907864996365139\n",
      "Epoch : 28, Iteration : 1 , Loss : 0.5736098289489746\n",
      "Epoch : 28, Iteration : 11 , Loss : 0.583525538444519\n",
      "Epoch : 28, Iteration : 21 , Loss : 0.579613447189331\n",
      "Epoch : 28, Iteration : 31 , Loss : 0.5859311819076538\n",
      "Epoch : 28, Iteration : 41 , Loss : 0.5756486654281616\n",
      "Epoch : 28, Iteration : 51 , Loss : 0.5851260423660278\n",
      "Epoch : 28, Iteration : 61 , Loss : 0.5782605409622192\n"
     ]
    },
    {
     "name": "stderr",
     "output_type": "stream",
     "text": [
      "INFO:root:Evaluating accuracy on dev set\n",
      "INFO:root:Train loss: 0.579100585502127 - acc: 0.7742120349523359 -- Validation loss: 0.590906023979187 - acc: 0.5535738517779045\n",
      " 93%|█████████▎| 28/30 [01:24<00:06,  3.01s/it]"
     ]
    },
    {
     "name": "stdout",
     "output_type": "stream",
     "text": [
      "Epoch : 28 , Loss : 0.579100585502127\n",
      "Epoch : 28, Validation Iteration : 1 , Loss : 0.5881462097167969\n",
      "Epoch : 28, Validation Loss : 0.590906023979187\n",
      "Epoch : 29, Iteration : 1 , Loss : 0.5734496116638184\n",
      "Epoch : 29, Iteration : 11 , Loss : 0.5816668272018433\n",
      "Epoch : 29, Iteration : 21 , Loss : 0.5794613361358643\n",
      "Epoch : 29, Iteration : 31 , Loss : 0.5838451981544495\n",
      "Epoch : 29, Iteration : 41 , Loss : 0.5742657780647278\n",
      "Epoch : 29, Iteration : 51 , Loss : 0.5827541351318359\n",
      "Epoch : 29, Iteration : 61 , Loss : 0.5784918069839478\n"
     ]
    },
    {
     "name": "stderr",
     "output_type": "stream",
     "text": [
      "INFO:root:Evaluating accuracy on dev set\n",
      "INFO:root:Train loss: 0.5787244680998982 - acc: 0.7813265974694398 -- Validation loss: 0.5907556584903172 - acc: 0.561200487389139\n",
      " 97%|█████████▋| 29/30 [01:27<00:03,  3.01s/it]"
     ]
    },
    {
     "name": "stdout",
     "output_type": "stream",
     "text": [
      "Epoch : 29 , Loss : 0.5787244680998982\n",
      "Epoch : 29, Validation Iteration : 1 , Loss : 0.5880556702613831\n",
      "Epoch : 29, Validation Loss : 0.5907556584903172\n",
      "Epoch : 30, Iteration : 1 , Loss : 0.5758106708526611\n",
      "Epoch : 30, Iteration : 11 , Loss : 0.5815598368644714\n",
      "Epoch : 30, Iteration : 21 , Loss : 0.5796954035758972\n",
      "Epoch : 30, Iteration : 31 , Loss : 0.5828243494033813\n",
      "Epoch : 30, Iteration : 41 , Loss : 0.5748594403266907\n",
      "Epoch : 30, Iteration : 51 , Loss : 0.5819952487945557\n",
      "Epoch : 30, Iteration : 61 , Loss : 0.5799964070320129\n"
     ]
    },
    {
     "name": "stderr",
     "output_type": "stream",
     "text": [
      "INFO:root:Evaluating accuracy on dev set\n",
      "INFO:root:Train loss: 0.5787601868311564 - acc: 0.7823035837447867 -- Validation loss: 0.5922576785087585 - acc: 0.5523632704474027\n",
      "100%|██████████| 30/30 [01:30<00:00,  3.03s/it]\n"
     ]
    },
    {
     "name": "stdout",
     "output_type": "stream",
     "text": [
      "Epoch : 30 , Loss : 0.5787601868311564\n",
      "Epoch : 30, Validation Iteration : 1 , Loss : 0.5890649557113647\n",
      "Epoch : 30, Validation Loss : 0.5922576785087585\n"
     ]
    },
    {
     "name": "stderr",
     "output_type": "stream",
     "text": [
      "\r",
      "  0%|          | 0/30 [00:00<?, ?it/s]"
     ]
    },
    {
     "name": "stdout",
     "output_type": "stream",
     "text": [
      "Epoch : 1, Iteration : 1 , Loss : 1.2050522565841675\n",
      "Epoch : 1, Iteration : 11 , Loss : 1.1929285526275635\n",
      "Epoch : 1, Iteration : 21 , Loss : 1.1460705995559692\n",
      "Epoch : 1, Iteration : 31 , Loss : 1.153158187866211\n",
      "Epoch : 1, Iteration : 41 , Loss : 1.172170639038086\n",
      "Epoch : 1, Iteration : 51 , Loss : 1.156386137008667\n",
      "Epoch : 1, Iteration : 61 , Loss : 1.131673812866211\n"
     ]
    },
    {
     "name": "stderr",
     "output_type": "stream",
     "text": [
      "INFO:root:Evaluating accuracy on dev set\n",
      "INFO:root:new model saved\n",
      "INFO:root:Train loss: 1.1640673893085425 - acc: 0.28537628250161023 -- Validation loss: 1.1405190229415894 - acc: 0.406578906638008\n",
      "  3%|▎         | 1/30 [00:03<01:29,  3.09s/it]"
     ]
    },
    {
     "name": "stdout",
     "output_type": "stream",
     "text": [
      "Epoch : 1 , Loss : 1.1640673893085425\n",
      "Epoch : 1, Validation Iteration : 1 , Loss : 1.1357781887054443\n",
      "Epoch : 1, Validation Loss : 1.1405190229415894\n",
      "Epoch : 2, Iteration : 1 , Loss : 1.139859676361084\n",
      "Epoch : 2, Iteration : 11 , Loss : 1.1373212337493896\n",
      "Epoch : 2, Iteration : 21 , Loss : 1.1265134811401367\n",
      "Epoch : 2, Iteration : 31 , Loss : 1.1250982284545898\n",
      "Epoch : 2, Iteration : 41 , Loss : 1.1481409072875977\n",
      "Epoch : 2, Iteration : 51 , Loss : 1.1289976835250854\n",
      "Epoch : 2, Iteration : 61 , Loss : 1.1163742542266846\n"
     ]
    },
    {
     "name": "stderr",
     "output_type": "stream",
     "text": [
      "INFO:root:Evaluating accuracy on dev set\n",
      "INFO:root:new model saved\n",
      "INFO:root:Train loss: 1.1336253242216248 - acc: 0.4583315410929334 -- Validation loss: 1.1309836591993059 - acc: 0.46975889730727627\n",
      "  7%|▋         | 2/30 [00:06<01:26,  3.09s/it]"
     ]
    },
    {
     "name": "stdout",
     "output_type": "stream",
     "text": [
      "Epoch : 2 , Loss : 1.1336253242216248\n",
      "Epoch : 2, Validation Iteration : 1 , Loss : 1.1276636123657227\n",
      "Epoch : 2, Validation Loss : 1.1309836591993059\n",
      "Epoch : 3, Iteration : 1 , Loss : 1.1250865459442139\n",
      "Epoch : 3, Iteration : 11 , Loss : 1.1266779899597168\n",
      "Epoch : 3, Iteration : 21 , Loss : 1.124338984489441\n",
      "Epoch : 3, Iteration : 31 , Loss : 1.118906021118164\n",
      "Epoch : 3, Iteration : 41 , Loss : 1.1343719959259033\n",
      "Epoch : 3, Iteration : 51 , Loss : 1.1222695112228394\n",
      "Epoch : 3, Iteration : 61 , Loss : 1.1160774230957031\n"
     ]
    },
    {
     "name": "stderr",
     "output_type": "stream",
     "text": [
      "INFO:root:Evaluating accuracy on dev set\n",
      "INFO:root:new model saved\n",
      "INFO:root:Train loss: 1.125964023064876 - acc: 0.5278682859592047 -- Validation loss: 1.1257947513035365 - acc: 0.502000195838382\n",
      " 10%|█         | 3/30 [00:09<01:23,  3.08s/it]"
     ]
    },
    {
     "name": "stdout",
     "output_type": "stream",
     "text": [
      "Epoch : 3 , Loss : 1.125964023064876\n",
      "Epoch : 3, Validation Iteration : 1 , Loss : 1.1213903427124023\n",
      "Epoch : 3, Validation Loss : 1.1257947513035365\n",
      "Epoch : 4, Iteration : 1 , Loss : 1.1172561645507812\n",
      "Epoch : 4, Iteration : 11 , Loss : 1.1227527856826782\n",
      "Epoch : 4, Iteration : 21 , Loss : 1.1207733154296875\n",
      "Epoch : 4, Iteration : 31 , Loss : 1.1191391944885254\n",
      "Epoch : 4, Iteration : 41 , Loss : 1.1290812492370605\n",
      "Epoch : 4, Iteration : 51 , Loss : 1.1178362369537354\n",
      "Epoch : 4, Iteration : 61 , Loss : 1.115877389907837\n"
     ]
    },
    {
     "name": "stderr",
     "output_type": "stream",
     "text": [
      "INFO:root:Evaluating accuracy on dev set\n",
      "INFO:root:new model saved\n",
      "INFO:root:Train loss: 1.1217774135479028 - acc: 0.578668067915647 -- Validation loss: 1.123399087360927 - acc: 0.5155660955159252\n",
      " 13%|█▎        | 4/30 [00:12<01:20,  3.08s/it]"
     ]
    },
    {
     "name": "stdout",
     "output_type": "stream",
     "text": [
      "Epoch : 4 , Loss : 1.1217774135479028\n",
      "Epoch : 4, Validation Iteration : 1 , Loss : 1.1190067529678345\n",
      "Epoch : 4, Validation Loss : 1.123399087360927\n",
      "Epoch : 5, Iteration : 1 , Loss : 1.113502860069275\n",
      "Epoch : 5, Iteration : 11 , Loss : 1.1199162006378174\n",
      "Epoch : 5, Iteration : 21 , Loss : 1.1189261674880981\n",
      "Epoch : 5, Iteration : 31 , Loss : 1.1189703941345215\n",
      "Epoch : 5, Iteration : 41 , Loss : 1.1251437664031982\n",
      "Epoch : 5, Iteration : 51 , Loss : 1.1158208847045898\n",
      "Epoch : 5, Iteration : 61 , Loss : 1.1144108772277832\n"
     ]
    },
    {
     "name": "stderr",
     "output_type": "stream",
     "text": [
      "INFO:root:Evaluating accuracy on dev set\n",
      "INFO:root:new model saved\n",
      "INFO:root:Train loss: 1.1190392245417056 - acc: 0.6108770298483512 -- Validation loss: 1.1216381107057845 - acc: 0.5288020435150423\n",
      " 17%|█▋        | 5/30 [00:15<01:17,  3.09s/it]"
     ]
    },
    {
     "name": "stdout",
     "output_type": "stream",
     "text": [
      "Epoch : 5 , Loss : 1.1190392245417056\n",
      "Epoch : 5, Validation Iteration : 1 , Loss : 1.1174681186676025\n",
      "Epoch : 5, Validation Loss : 1.1216381107057845\n",
      "Epoch : 6, Iteration : 1 , Loss : 1.1121366024017334\n",
      "Epoch : 6, Iteration : 11 , Loss : 1.11767578125\n",
      "Epoch : 6, Iteration : 21 , Loss : 1.1177772283554077\n",
      "Epoch : 6, Iteration : 31 , Loss : 1.1182830333709717\n",
      "Epoch : 6, Iteration : 41 , Loss : 1.1214818954467773\n",
      "Epoch : 6, Iteration : 51 , Loss : 1.1136059761047363\n",
      "Epoch : 6, Iteration : 61 , Loss : 1.1107035875320435\n"
     ]
    },
    {
     "name": "stderr",
     "output_type": "stream",
     "text": [
      "INFO:root:Evaluating accuracy on dev set\n",
      "INFO:root:new model saved\n",
      "INFO:root:Train loss: 1.1160616321840149 - acc: 0.6365141458620092 -- Validation loss: 1.1155376774924142 - acc: 0.5404316020241824\n",
      " 20%|██        | 6/30 [00:18<01:14,  3.09s/it]"
     ]
    },
    {
     "name": "stdout",
     "output_type": "stream",
     "text": [
      "Epoch : 6 , Loss : 1.1160616321840149\n",
      "Epoch : 6, Validation Iteration : 1 , Loss : 1.1120725870132446\n",
      "Epoch : 6, Validation Loss : 1.1155376774924142\n",
      "Epoch : 7, Iteration : 1 , Loss : 1.106245994567871\n",
      "Epoch : 7, Iteration : 11 , Loss : 1.1033233404159546\n",
      "Epoch : 7, Iteration : 21 , Loss : 1.0990033149719238\n",
      "Epoch : 7, Iteration : 31 , Loss : 1.0951731204986572\n",
      "Epoch : 7, Iteration : 41 , Loss : 1.0902564525604248\n",
      "Epoch : 7, Iteration : 51 , Loss : 1.0837205648422241\n",
      "Epoch : 7, Iteration : 61 , Loss : 1.0795376300811768\n"
     ]
    },
    {
     "name": "stderr",
     "output_type": "stream",
     "text": [
      "INFO:root:Evaluating accuracy on dev set\n",
      "INFO:root:new model saved\n",
      "INFO:root:Train loss: 1.0923629843670388 - acc: 0.6555091179317052 -- Validation loss: 1.0859632662364416 - acc: 0.5476845154909276\n",
      " 23%|██▎       | 7/30 [00:21<01:10,  3.09s/it]"
     ]
    },
    {
     "name": "stdout",
     "output_type": "stream",
     "text": [
      "Epoch : 7 , Loss : 1.0923629843670388\n",
      "Epoch : 7, Validation Iteration : 1 , Loss : 1.0825800895690918\n",
      "Epoch : 7, Validation Loss : 1.0859632662364416\n",
      "Epoch : 8, Iteration : 1 , Loss : 1.0764045715332031\n",
      "Epoch : 8, Iteration : 11 , Loss : 1.079131841659546\n",
      "Epoch : 8, Iteration : 21 , Loss : 1.0778573751449585\n",
      "Epoch : 8, Iteration : 31 , Loss : 1.0773060321807861\n",
      "Epoch : 8, Iteration : 41 , Loss : 1.0746228694915771\n",
      "Epoch : 8, Iteration : 51 , Loss : 1.06801176071167\n",
      "Epoch : 8, Iteration : 61 , Loss : 1.0613106489181519\n"
     ]
    },
    {
     "name": "stderr",
     "output_type": "stream",
     "text": [
      "INFO:root:Evaluating accuracy on dev set\n",
      "INFO:root:new model saved\n",
      "INFO:root:Train loss: 1.0723934380904487 - acc: 0.6731761695607892 -- Validation loss: 1.0662020444869995 - acc: 0.5552651051072822\n",
      " 27%|██▋       | 8/30 [00:24<01:07,  3.08s/it]"
     ]
    },
    {
     "name": "stdout",
     "output_type": "stream",
     "text": [
      "Epoch : 8 , Loss : 1.0723934380904487\n",
      "Epoch : 8, Validation Iteration : 1 , Loss : 1.0636718273162842\n",
      "Epoch : 8, Validation Loss : 1.0662020444869995\n",
      "Epoch : 9, Iteration : 1 , Loss : 1.0557223558425903\n",
      "Epoch : 9, Iteration : 11 , Loss : 1.0547735691070557\n",
      "Epoch : 9, Iteration : 21 , Loss : 1.0482800006866455\n",
      "Epoch : 9, Iteration : 31 , Loss : 1.041567325592041\n",
      "Epoch : 9, Iteration : 41 , Loss : 1.0313546657562256\n",
      "Epoch : 9, Iteration : 51 , Loss : 1.0187993049621582\n",
      "Epoch : 9, Iteration : 61 , Loss : 1.0047271251678467\n"
     ]
    },
    {
     "name": "stderr",
     "output_type": "stream",
     "text": [
      "INFO:root:Evaluating accuracy on dev set\n",
      "INFO:root:Train loss: 1.0330300771671792 - acc: 0.6810422471580523 -- Validation loss: 1.0050519704818726 - acc: 0.5551564820699422\n",
      " 30%|███       | 9/30 [00:27<01:04,  3.06s/it]"
     ]
    },
    {
     "name": "stdout",
     "output_type": "stream",
     "text": [
      "Epoch : 9 , Loss : 1.0330300771671792\n",
      "Epoch : 9, Validation Iteration : 1 , Loss : 1.0028321743011475\n",
      "Epoch : 9, Validation Loss : 1.0050519704818726\n",
      "Epoch : 10, Iteration : 1 , Loss : 0.993571937084198\n",
      "Epoch : 10, Iteration : 11 , Loss : 0.9903837442398071\n",
      "Epoch : 10, Iteration : 21 , Loss : 0.9814990758895874\n",
      "Epoch : 10, Iteration : 31 , Loss : 0.9750480055809021\n",
      "Epoch : 10, Iteration : 41 , Loss : 0.9634211659431458\n",
      "Epoch : 10, Iteration : 51 , Loss : 0.9525743722915649\n",
      "Epoch : 10, Iteration : 61 , Loss : 0.9370574951171875\n"
     ]
    },
    {
     "name": "stderr",
     "output_type": "stream",
     "text": [
      "INFO:root:Evaluating accuracy on dev set\n",
      "INFO:root:new model saved\n",
      "INFO:root:Train loss: 0.966499930706577 - acc: 0.6947379001759141 -- Validation loss: 0.9375828163964408 - acc: 0.5566306231792763\n",
      " 33%|███▎      | 10/30 [00:30<01:01,  3.06s/it]"
     ]
    },
    {
     "name": "stdout",
     "output_type": "stream",
     "text": [
      "Epoch : 10 , Loss : 0.966499930706577\n",
      "Epoch : 10, Validation Iteration : 1 , Loss : 0.9371209144592285\n",
      "Epoch : 10, Validation Loss : 0.9375828163964408\n",
      "Epoch : 11, Iteration : 1 , Loss : 0.9257434010505676\n",
      "Epoch : 11, Iteration : 11 , Loss : 0.9197989106178284\n",
      "Epoch : 11, Iteration : 21 , Loss : 0.9093599915504456\n",
      "Epoch : 11, Iteration : 31 , Loss : 0.9025334119796753\n",
      "Epoch : 11, Iteration : 41 , Loss : 0.8884421586990356\n",
      "Epoch : 11, Iteration : 51 , Loss : 0.8797712326049805\n",
      "Epoch : 11, Iteration : 61 , Loss : 0.8642284870147705\n"
     ]
    },
    {
     "name": "stderr",
     "output_type": "stream",
     "text": [
      "INFO:root:Evaluating accuracy on dev set\n",
      "INFO:root:Train loss: 0.894254882266556 - acc: 0.7054013733011244 -- Validation loss: 0.8661557010241917 - acc: 0.5528054592383486\n",
      " 37%|███▋      | 11/30 [00:33<00:57,  3.05s/it]"
     ]
    },
    {
     "name": "stdout",
     "output_type": "stream",
     "text": [
      "Epoch : 11 , Loss : 0.894254882266556\n",
      "Epoch : 11, Validation Iteration : 1 , Loss : 0.8649351596832275\n",
      "Epoch : 11, Validation Loss : 0.8661557010241917\n",
      "Epoch : 12, Iteration : 1 , Loss : 0.8532366752624512\n",
      "Epoch : 12, Iteration : 11 , Loss : 0.8494102954864502\n",
      "Epoch : 12, Iteration : 21 , Loss : 0.8405239582061768\n",
      "Epoch : 12, Iteration : 31 , Loss : 0.8352382183074951\n",
      "Epoch : 12, Iteration : 41 , Loss : 0.8220006227493286\n",
      "Epoch : 12, Iteration : 51 , Loss : 0.8151563405990601\n",
      "Epoch : 12, Iteration : 61 , Loss : 0.8011124134063721\n"
     ]
    },
    {
     "name": "stderr",
     "output_type": "stream",
     "text": [
      "INFO:root:Evaluating accuracy on dev set\n",
      "INFO:root:Train loss: 0.8274142880370652 - acc: 0.7178222396346523 -- Validation loss: 0.8042437774794442 - acc: 0.5497592623532427\n",
      " 40%|████      | 12/30 [00:36<00:54,  3.03s/it]"
     ]
    },
    {
     "name": "stdout",
     "output_type": "stream",
     "text": [
      "Epoch : 12 , Loss : 0.8274142880370652\n",
      "Epoch : 12, Validation Iteration : 1 , Loss : 0.8033238649368286\n",
      "Epoch : 12, Validation Loss : 0.8042437774794442\n",
      "Epoch : 13, Iteration : 1 , Loss : 0.790298342704773\n",
      "Epoch : 13, Iteration : 11 , Loss : 0.7877908945083618\n",
      "Epoch : 13, Iteration : 21 , Loss : 0.7783846855163574\n",
      "Epoch : 13, Iteration : 31 , Loss : 0.7718303203582764\n",
      "Epoch : 13, Iteration : 41 , Loss : 0.7602139711380005\n",
      "Epoch : 13, Iteration : 51 , Loss : 0.7533324956893921\n",
      "Epoch : 13, Iteration : 61 , Loss : 0.7406843900680542\n"
     ]
    },
    {
     "name": "stderr",
     "output_type": "stream",
     "text": [
      "INFO:root:Evaluating accuracy on dev set\n",
      "INFO:root:Train loss: 0.7651632583659628 - acc: 0.7264568191797618 -- Validation loss: 0.7448248267173767 - acc: 0.549839173571101\n",
      " 43%|████▎     | 13/30 [00:39<00:51,  3.03s/it]"
     ]
    },
    {
     "name": "stdout",
     "output_type": "stream",
     "text": [
      "Epoch : 13 , Loss : 0.7651632583659628\n",
      "Epoch : 13, Validation Iteration : 1 , Loss : 0.7445861101150513\n",
      "Epoch : 13, Validation Loss : 0.7448248267173767\n",
      "Epoch : 14, Iteration : 1 , Loss : 0.7305508255958557\n",
      "Epoch : 14, Iteration : 11 , Loss : 0.7300387024879456\n",
      "Epoch : 14, Iteration : 21 , Loss : 0.7232141494750977\n",
      "Epoch : 14, Iteration : 31 , Loss : 0.719075083732605\n",
      "Epoch : 14, Iteration : 41 , Loss : 0.7103070020675659\n",
      "Epoch : 14, Iteration : 51 , Loss : 0.706304132938385\n",
      "Epoch : 14, Iteration : 61 , Loss : 0.6958593726158142\n"
     ]
    },
    {
     "name": "stderr",
     "output_type": "stream",
     "text": [
      "INFO:root:Evaluating accuracy on dev set\n",
      "INFO:root:Train loss: 0.7134904723236526 - acc: 0.7334586575090655 -- Validation loss: 0.7022223131997245 - acc: 0.5510117401848997\n",
      " 47%|████▋     | 14/30 [00:42<00:48,  3.02s/it]"
     ]
    },
    {
     "name": "stdout",
     "output_type": "stream",
     "text": [
      "Epoch : 14 , Loss : 0.7134904723236526\n",
      "Epoch : 14, Validation Iteration : 1 , Loss : 0.7023489475250244\n",
      "Epoch : 14, Validation Loss : 0.7022223131997245\n",
      "Epoch : 15, Iteration : 1 , Loss : 0.6875180602073669\n",
      "Epoch : 15, Iteration : 11 , Loss : 0.6887468099594116\n",
      "Epoch : 15, Iteration : 21 , Loss : 0.6846631765365601\n",
      "Epoch : 15, Iteration : 31 , Loss : 0.6824829578399658\n",
      "Epoch : 15, Iteration : 41 , Loss : 0.6755918264389038\n",
      "Epoch : 15, Iteration : 51 , Loss : 0.6728851795196533\n",
      "Epoch : 15, Iteration : 61 , Loss : 0.6642063856124878\n"
     ]
    },
    {
     "name": "stderr",
     "output_type": "stream",
     "text": [
      "INFO:root:Evaluating accuracy on dev set\n",
      "INFO:root:Train loss: 0.6771075621895168 - acc: 0.7391234898727016 -- Validation loss: 0.6724993927138192 - acc: 0.5553533822399078\n",
      " 50%|█████     | 15/30 [00:45<00:45,  3.02s/it]"
     ]
    },
    {
     "name": "stdout",
     "output_type": "stream",
     "text": [
      "Epoch : 15 , Loss : 0.6771075621895168\n",
      "Epoch : 15, Validation Iteration : 1 , Loss : 0.6726380586624146\n",
      "Epoch : 15, Validation Loss : 0.6724993927138192\n",
      "Epoch : 16, Iteration : 1 , Loss : 0.6574549674987793\n",
      "Epoch : 16, Iteration : 11 , Loss : 0.6600848436355591\n",
      "Epoch : 16, Iteration : 21 , Loss : 0.6578273773193359\n",
      "Epoch : 16, Iteration : 31 , Loss : 0.6573348045349121\n",
      "Epoch : 16, Iteration : 41 , Loss : 0.6509376764297485\n",
      "Epoch : 16, Iteration : 51 , Loss : 0.6505464315414429\n",
      "Epoch : 16, Iteration : 61 , Loss : 0.6424469947814941\n"
     ]
    },
    {
     "name": "stderr",
     "output_type": "stream",
     "text": [
      "INFO:root:Evaluating accuracy on dev set\n",
      "INFO:root:new model saved\n",
      "INFO:root:Train loss: 0.6521115829979164 - acc: 0.742459529085885 -- Validation loss: 0.6520576987947736 - acc: 0.5596852529064675\n",
      " 53%|█████▎    | 16/30 [00:48<00:42,  3.04s/it]"
     ]
    },
    {
     "name": "stdout",
     "output_type": "stream",
     "text": [
      "Epoch : 16 , Loss : 0.6521115829979164\n",
      "Epoch : 16, Validation Iteration : 1 , Loss : 0.6521990895271301\n",
      "Epoch : 16, Validation Loss : 0.6520576987947736\n",
      "Epoch : 17, Iteration : 1 , Loss : 0.6365215182304382\n",
      "Epoch : 17, Iteration : 11 , Loss : 0.641395628452301\n",
      "Epoch : 17, Iteration : 21 , Loss : 0.6393486261367798\n",
      "Epoch : 17, Iteration : 31 , Loss : 0.6401722431182861\n",
      "Epoch : 17, Iteration : 41 , Loss : 0.6345244646072388\n",
      "Epoch : 17, Iteration : 51 , Loss : 0.6353632211685181\n",
      "Epoch : 17, Iteration : 61 , Loss : 0.6283080577850342\n"
     ]
    },
    {
     "name": "stderr",
     "output_type": "stream",
     "text": [
      "INFO:root:Evaluating accuracy on dev set\n",
      "INFO:root:Train loss: 0.6353447471839794 - acc: 0.7460939176927215 -- Validation loss: 0.6387509448187692 - acc: 0.5508811649872102\n",
      " 57%|█████▋    | 17/30 [00:51<00:39,  3.03s/it]"
     ]
    },
    {
     "name": "stdout",
     "output_type": "stream",
     "text": [
      "Epoch : 17 , Loss : 0.6353447471839794\n",
      "Epoch : 17, Validation Iteration : 1 , Loss : 0.6395542025566101\n",
      "Epoch : 17, Validation Loss : 0.6387509448187692\n",
      "Epoch : 18, Iteration : 1 , Loss : 0.6237391233444214\n",
      "Epoch : 18, Iteration : 11 , Loss : 0.6290473937988281\n",
      "Epoch : 18, Iteration : 21 , Loss : 0.626122236251831\n",
      "Epoch : 18, Iteration : 31 , Loss : 0.6282414197921753\n",
      "Epoch : 18, Iteration : 41 , Loss : 0.6225512027740479\n",
      "Epoch : 18, Iteration : 51 , Loss : 0.6243013143539429\n",
      "Epoch : 18, Iteration : 61 , Loss : 0.6179376840591431\n"
     ]
    },
    {
     "name": "stderr",
     "output_type": "stream",
     "text": [
      "INFO:root:Evaluating accuracy on dev set\n",
      "INFO:root:Train loss: 0.6234268062356589 - acc: 0.7492539490153988 -- Validation loss: 0.6292458432061332 - acc: 0.5462385507825301\n",
      " 60%|██████    | 18/30 [00:54<00:36,  3.03s/it]"
     ]
    },
    {
     "name": "stdout",
     "output_type": "stream",
     "text": [
      "Epoch : 18 , Loss : 0.6234268062356589\n",
      "Epoch : 18, Validation Iteration : 1 , Loss : 0.630542516708374\n",
      "Epoch : 18, Validation Loss : 0.6292458432061332\n",
      "Epoch : 19, Iteration : 1 , Loss : 0.6139897704124451\n",
      "Epoch : 19, Iteration : 11 , Loss : 0.6183620095252991\n",
      "Epoch : 19, Iteration : 21 , Loss : 0.6175208687782288\n",
      "Epoch : 19, Iteration : 31 , Loss : 0.6198002099990845\n",
      "Epoch : 19, Iteration : 41 , Loss : 0.614389181137085\n",
      "Epoch : 19, Iteration : 51 , Loss : 0.6162023544311523\n",
      "Epoch : 19, Iteration : 61 , Loss : 0.6112717390060425\n"
     ]
    },
    {
     "name": "stderr",
     "output_type": "stream",
     "text": [
      "INFO:root:Evaluating accuracy on dev set\n",
      "INFO:root:Train loss: 0.6151332345561705 - acc: 0.7551380760294408 -- Validation loss: 0.622230759688786 - acc: 0.5526700652737527\n",
      " 63%|██████▎   | 19/30 [00:57<00:33,  3.03s/it]"
     ]
    },
    {
     "name": "stdout",
     "output_type": "stream",
     "text": [
      "Epoch : 19 , Loss : 0.6151332345561705\n",
      "Epoch : 19, Validation Iteration : 1 , Loss : 0.6236705183982849\n",
      "Epoch : 19, Validation Loss : 0.622230759688786\n",
      "Epoch : 20, Iteration : 1 , Loss : 0.6070696115493774\n",
      "Epoch : 20, Iteration : 11 , Loss : 0.6114067435264587\n",
      "Epoch : 20, Iteration : 21 , Loss : 0.610575795173645\n",
      "Epoch : 20, Iteration : 31 , Loss : 0.6136064529418945\n",
      "Epoch : 20, Iteration : 41 , Loss : 0.6085138320922852\n",
      "Epoch : 20, Iteration : 51 , Loss : 0.6102424263954163\n",
      "Epoch : 20, Iteration : 61 , Loss : 0.6059231162071228\n"
     ]
    },
    {
     "name": "stderr",
     "output_type": "stream",
     "text": [
      "INFO:root:Evaluating accuracy on dev set\n",
      "INFO:root:Train loss: 0.6090794974479122 - acc: 0.760886182167938 -- Validation loss: 0.6172804832458496 - acc: 0.5490745289613606\n",
      " 67%|██████▋   | 20/30 [01:00<00:30,  3.03s/it]"
     ]
    },
    {
     "name": "stdout",
     "output_type": "stream",
     "text": [
      "Epoch : 20 , Loss : 0.6090794974479122\n",
      "Epoch : 20, Validation Iteration : 1 , Loss : 0.6192121505737305\n",
      "Epoch : 20, Validation Loss : 0.6172804832458496\n",
      "Epoch : 21, Iteration : 1 , Loss : 0.6010966300964355\n",
      "Epoch : 21, Iteration : 11 , Loss : 0.6067050695419312\n",
      "Epoch : 21, Iteration : 21 , Loss : 0.6056615114212036\n",
      "Epoch : 21, Iteration : 31 , Loss : 0.6088811159133911\n",
      "Epoch : 21, Iteration : 41 , Loss : 0.6032328605651855\n",
      "Epoch : 21, Iteration : 51 , Loss : 0.6057644486427307\n",
      "Epoch : 21, Iteration : 61 , Loss : 0.6019707918167114\n"
     ]
    },
    {
     "name": "stderr",
     "output_type": "stream",
     "text": [
      "INFO:root:Evaluating accuracy on dev set\n",
      "INFO:root:Train loss: 0.6043265461921692 - acc: 0.7656148931609758 -- Validation loss: 0.6135182891573224 - acc: 0.5504640070132485\n",
      " 70%|███████   | 21/30 [01:03<00:27,  3.02s/it]"
     ]
    },
    {
     "name": "stdout",
     "output_type": "stream",
     "text": [
      "Epoch : 21 , Loss : 0.6043265461921692\n",
      "Epoch : 21, Validation Iteration : 1 , Loss : 0.6154337525367737\n",
      "Epoch : 21, Validation Loss : 0.6135182891573224\n",
      "Epoch : 22, Iteration : 1 , Loss : 0.5967059135437012\n",
      "Epoch : 22, Iteration : 11 , Loss : 0.6029086112976074\n",
      "Epoch : 22, Iteration : 21 , Loss : 0.601744532585144\n",
      "Epoch : 22, Iteration : 31 , Loss : 0.6054562330245972\n",
      "Epoch : 22, Iteration : 41 , Loss : 0.5991334915161133\n",
      "Epoch : 22, Iteration : 51 , Loss : 0.6025851368904114\n",
      "Epoch : 22, Iteration : 61 , Loss : 0.5981535911560059\n"
     ]
    },
    {
     "name": "stderr",
     "output_type": "stream",
     "text": [
      "INFO:root:Evaluating accuracy on dev set\n",
      "INFO:root:Train loss: 0.6006176471710205 - acc: 0.7701027749069431 -- Validation loss: 0.6106717927115304 - acc: 0.547664504222804\n",
      " 73%|███████▎  | 22/30 [01:06<00:24,  3.02s/it]"
     ]
    },
    {
     "name": "stdout",
     "output_type": "stream",
     "text": [
      "Epoch : 22 , Loss : 0.6006176471710205\n",
      "Epoch : 22, Validation Iteration : 1 , Loss : 0.6130073070526123\n",
      "Epoch : 22, Validation Loss : 0.6106717927115304\n",
      "Epoch : 23, Iteration : 1 , Loss : 0.5936945080757141\n",
      "Epoch : 23, Iteration : 11 , Loss : 0.5996361970901489\n",
      "Epoch : 23, Iteration : 21 , Loss : 0.5984112024307251\n",
      "Epoch : 23, Iteration : 31 , Loss : 0.6024128198623657\n",
      "Epoch : 23, Iteration : 41 , Loss : 0.5958526134490967\n",
      "Epoch : 23, Iteration : 51 , Loss : 0.5994629263877869\n",
      "Epoch : 23, Iteration : 61 , Loss : 0.5951062440872192\n"
     ]
    },
    {
     "name": "stderr",
     "output_type": "stream",
     "text": [
      "INFO:root:Evaluating accuracy on dev set\n",
      "INFO:root:Train loss: 0.5974030866139177 - acc: 0.7739832217767816 -- Validation loss: 0.6081185596329826 - acc: 0.5466666848366666\n",
      " 77%|███████▋  | 23/30 [01:09<00:21,  3.01s/it]"
     ]
    },
    {
     "name": "stdout",
     "output_type": "stream",
     "text": [
      "Epoch : 23 , Loss : 0.5974030866139177\n",
      "Epoch : 23, Validation Iteration : 1 , Loss : 0.6112654209136963\n",
      "Epoch : 23, Validation Loss : 0.6081185596329826\n",
      "Epoch : 24, Iteration : 1 , Loss : 0.5908099412918091\n",
      "Epoch : 24, Iteration : 11 , Loss : 0.596764087677002\n",
      "Epoch : 24, Iteration : 21 , Loss : 0.5955826044082642\n",
      "Epoch : 24, Iteration : 31 , Loss : 0.5998473763465881\n",
      "Epoch : 24, Iteration : 41 , Loss : 0.5930665731430054\n",
      "Epoch : 24, Iteration : 51 , Loss : 0.5970015525817871\n",
      "Epoch : 24, Iteration : 61 , Loss : 0.5928879976272583\n"
     ]
    },
    {
     "name": "stderr",
     "output_type": "stream",
     "text": [
      "INFO:root:Evaluating accuracy on dev set\n",
      "INFO:root:Train loss: 0.5947338541348776 - acc: 0.7761835098873385 -- Validation loss: 0.6064792105129787 - acc: 0.5454145416416002\n",
      " 80%|████████  | 24/30 [01:13<00:18,  3.01s/it]"
     ]
    },
    {
     "name": "stdout",
     "output_type": "stream",
     "text": [
      "Epoch : 24 , Loss : 0.5947338541348776\n",
      "Epoch : 24, Validation Iteration : 1 , Loss : 0.609239935874939\n",
      "Epoch : 24, Validation Loss : 0.6064792105129787\n",
      "Epoch : 25, Iteration : 1 , Loss : 0.5886887311935425\n",
      "Epoch : 25, Iteration : 11 , Loss : 0.5948721170425415\n",
      "Epoch : 25, Iteration : 21 , Loss : 0.5935078859329224\n",
      "Epoch : 25, Iteration : 31 , Loss : 0.5979756116867065\n",
      "Epoch : 25, Iteration : 41 , Loss : 0.5912900567054749\n",
      "Epoch : 25, Iteration : 51 , Loss : 0.5954055786132812\n",
      "Epoch : 25, Iteration : 61 , Loss : 0.591396689414978\n"
     ]
    },
    {
     "name": "stderr",
     "output_type": "stream",
     "text": [
      "INFO:root:Evaluating accuracy on dev set\n",
      "INFO:root:Train loss: 0.5928512725277223 - acc: 0.7788351477886601 -- Validation loss: 0.6051813023430961 - acc: 0.5385817309508149\n",
      " 83%|████████▎ | 25/30 [01:16<00:15,  3.01s/it]"
     ]
    },
    {
     "name": "stdout",
     "output_type": "stream",
     "text": [
      "Epoch : 25 , Loss : 0.5928512725277223\n",
      "Epoch : 25, Validation Iteration : 1 , Loss : 0.6081300973892212\n",
      "Epoch : 25, Validation Loss : 0.6051813023430961\n",
      "Epoch : 26, Iteration : 1 , Loss : 0.5868921875953674\n",
      "Epoch : 26, Iteration : 11 , Loss : 0.5929911136627197\n",
      "Epoch : 26, Iteration : 21 , Loss : 0.5922937393188477\n",
      "Epoch : 26, Iteration : 31 , Loss : 0.5965167880058289\n",
      "Epoch : 26, Iteration : 41 , Loss : 0.5899039506912231\n",
      "Epoch : 26, Iteration : 51 , Loss : 0.5938089489936829\n",
      "Epoch : 26, Iteration : 61 , Loss : 0.5897660255432129\n"
     ]
    },
    {
     "name": "stderr",
     "output_type": "stream",
     "text": [
      "INFO:root:Evaluating accuracy on dev set\n",
      "INFO:root:Train loss: 0.5913371651068978 - acc: 0.7803400302245075 -- Validation loss: 0.6033017635345459 - acc: 0.5463640395040411\n",
      " 87%|████████▋ | 26/30 [01:19<00:12,  3.01s/it]"
     ]
    },
    {
     "name": "stdout",
     "output_type": "stream",
     "text": [
      "Epoch : 26 , Loss : 0.5913371651068978\n",
      "Epoch : 26, Validation Iteration : 1 , Loss : 0.6052026748657227\n",
      "Epoch : 26, Validation Loss : 0.6033017635345459\n",
      "Epoch : 27, Iteration : 1 , Loss : 0.5853393077850342\n",
      "Epoch : 27, Iteration : 11 , Loss : 0.5919040441513062\n",
      "Epoch : 27, Iteration : 21 , Loss : 0.5906511545181274\n",
      "Epoch : 27, Iteration : 31 , Loss : 0.5952816009521484\n",
      "Epoch : 27, Iteration : 41 , Loss : 0.5880944728851318\n",
      "Epoch : 27, Iteration : 51 , Loss : 0.5927698612213135\n",
      "Epoch : 27, Iteration : 61 , Loss : 0.5889393091201782\n"
     ]
    },
    {
     "name": "stderr",
     "output_type": "stream",
     "text": [
      "INFO:root:Evaluating accuracy on dev set\n",
      "INFO:root:new model saved\n",
      "INFO:root:Train loss: 0.5899496303088423 - acc: 0.7821386213142676 -- Validation loss: 0.6009117024285453 - acc: 0.5700509559398669\n",
      " 90%|█████████ | 27/30 [01:22<00:09,  3.03s/it]"
     ]
    },
    {
     "name": "stdout",
     "output_type": "stream",
     "text": [
      "Epoch : 27 , Loss : 0.5899496303088423\n",
      "Epoch : 27, Validation Iteration : 1 , Loss : 0.6035550832748413\n",
      "Epoch : 27, Validation Loss : 0.6009117024285453\n",
      "Epoch : 28, Iteration : 1 , Loss : 0.5845263600349426\n",
      "Epoch : 28, Iteration : 11 , Loss : 0.5909385681152344\n",
      "Epoch : 28, Iteration : 21 , Loss : 0.5896815061569214\n",
      "Epoch : 28, Iteration : 31 , Loss : 0.5945267677307129\n",
      "Epoch : 28, Iteration : 41 , Loss : 0.5867705345153809\n",
      "Epoch : 28, Iteration : 51 , Loss : 0.5913691520690918\n",
      "Epoch : 28, Iteration : 61 , Loss : 0.5878462195396423\n"
     ]
    },
    {
     "name": "stderr",
     "output_type": "stream",
     "text": [
      "INFO:root:Evaluating accuracy on dev set\n",
      "INFO:root:Train loss: 0.588863384032595 - acc: 0.7823409413457201 -- Validation loss: 0.6005148461886815 - acc: 0.5618688905153952\n",
      " 93%|█████████▎| 28/30 [01:25<00:06,  3.02s/it]"
     ]
    },
    {
     "name": "stdout",
     "output_type": "stream",
     "text": [
      "Epoch : 28 , Loss : 0.588863384032595\n",
      "Epoch : 28, Validation Iteration : 1 , Loss : 0.6032588481903076\n",
      "Epoch : 28, Validation Loss : 0.6005148461886815\n",
      "Epoch : 29, Iteration : 1 , Loss : 0.5832028388977051\n",
      "Epoch : 29, Iteration : 11 , Loss : 0.5891748070716858\n",
      "Epoch : 29, Iteration : 21 , Loss : 0.5884336233139038\n",
      "Epoch : 29, Iteration : 31 , Loss : 0.5934892892837524\n",
      "Epoch : 29, Iteration : 41 , Loss : 0.585716962814331\n",
      "Epoch : 29, Iteration : 51 , Loss : 0.5904893279075623\n",
      "Epoch : 29, Iteration : 61 , Loss : 0.5874054431915283\n"
     ]
    },
    {
     "name": "stderr",
     "output_type": "stream",
     "text": [
      "INFO:root:Evaluating accuracy on dev set\n",
      "INFO:root:Train loss: 0.5877854452616926 - acc: 0.785514184214991 -- Validation loss: 0.5998216271400452 - acc: 0.5560405919425611\n",
      " 97%|█████████▋| 29/30 [01:28<00:03,  3.02s/it]"
     ]
    },
    {
     "name": "stdout",
     "output_type": "stream",
     "text": [
      "Epoch : 29 , Loss : 0.5877854452616926\n",
      "Epoch : 29, Validation Iteration : 1 , Loss : 0.6014167666435242\n",
      "Epoch : 29, Validation Loss : 0.5998216271400452\n",
      "Epoch : 30, Iteration : 1 , Loss : 0.582046389579773\n",
      "Epoch : 30, Iteration : 11 , Loss : 0.5881260633468628\n",
      "Epoch : 30, Iteration : 21 , Loss : 0.5874290466308594\n",
      "Epoch : 30, Iteration : 31 , Loss : 0.5922760963439941\n",
      "Epoch : 30, Iteration : 41 , Loss : 0.5848489999771118\n",
      "Epoch : 30, Iteration : 51 , Loss : 0.5893471837043762\n",
      "Epoch : 30, Iteration : 61 , Loss : 0.5864855051040649\n"
     ]
    },
    {
     "name": "stderr",
     "output_type": "stream",
     "text": [
      "INFO:root:Evaluating accuracy on dev set\n",
      "INFO:root:Train loss: 0.5868580678234929 - acc: 0.7874038149658347 -- Validation loss: 0.5988599147115435 - acc: 0.5585557874855505\n",
      "100%|██████████| 30/30 [01:31<00:00,  3.04s/it]\n"
     ]
    },
    {
     "name": "stdout",
     "output_type": "stream",
     "text": [
      "Epoch : 30 , Loss : 0.5868580678234929\n",
      "Epoch : 30, Validation Iteration : 1 , Loss : 0.6004848480224609\n",
      "Epoch : 30, Validation Loss : 0.5988599147115435\n"
     ]
    },
    {
     "name": "stderr",
     "output_type": "stream",
     "text": [
      "\r",
      "  0%|          | 0/30 [00:00<?, ?it/s]"
     ]
    },
    {
     "name": "stdout",
     "output_type": "stream",
     "text": [
      "Epoch : 1, Iteration : 1 , Loss : 1.2046654224395752\n",
      "Epoch : 1, Iteration : 11 , Loss : 1.1507999897003174\n",
      "Epoch : 1, Iteration : 21 , Loss : 1.120942234992981\n",
      "Epoch : 1, Iteration : 31 , Loss : 1.1408991813659668\n",
      "Epoch : 1, Iteration : 41 , Loss : 1.1389014720916748\n",
      "Epoch : 1, Iteration : 51 , Loss : 1.1082489490509033\n",
      "Epoch : 1, Iteration : 61 , Loss : 1.0930542945861816\n"
     ]
    },
    {
     "name": "stderr",
     "output_type": "stream",
     "text": [
      "INFO:root:Evaluating accuracy on dev set\n",
      "INFO:root:new model saved\n",
      "INFO:root:Train loss: 1.1329817616421243 - acc: 0.4112440301036019 -- Validation loss: 1.109602451324463 - acc: 0.45984000104977424\n",
      "  3%|▎         | 1/30 [00:03<01:28,  3.06s/it]"
     ]
    },
    {
     "name": "stdout",
     "output_type": "stream",
     "text": [
      "Epoch : 1 , Loss : 1.1329817616421243\n",
      "Epoch : 1, Validation Iteration : 1 , Loss : 1.1141846179962158\n",
      "Epoch : 1, Validation Loss : 1.109602451324463\n",
      "Epoch : 2, Iteration : 1 , Loss : 1.1196098327636719\n",
      "Epoch : 2, Iteration : 11 , Loss : 1.1289470195770264\n",
      "Epoch : 2, Iteration : 21 , Loss : 1.087281346321106\n",
      "Epoch : 2, Iteration : 31 , Loss : 1.1157262325286865\n",
      "Epoch : 2, Iteration : 41 , Loss : 1.1038846969604492\n",
      "Epoch : 2, Iteration : 51 , Loss : 1.0903587341308594\n",
      "Epoch : 2, Iteration : 61 , Loss : 1.0749160051345825\n"
     ]
    },
    {
     "name": "stderr",
     "output_type": "stream",
     "text": [
      "INFO:root:Evaluating accuracy on dev set\n",
      "INFO:root:new model saved\n",
      "INFO:root:Train loss: 1.1021799695664558 - acc: 0.47284108964566884 -- Validation loss: 1.0842298780168806 - acc: 0.4895784186644283\n",
      "  7%|▋         | 2/30 [00:06<01:25,  3.07s/it]"
     ]
    },
    {
     "name": "stdout",
     "output_type": "stream",
     "text": [
      "Epoch : 2 , Loss : 1.1021799695664558\n",
      "Epoch : 2, Validation Iteration : 1 , Loss : 1.0907849073410034\n",
      "Epoch : 2, Validation Loss : 1.0842298780168806\n",
      "Epoch : 3, Iteration : 1 , Loss : 1.084246277809143\n",
      "Epoch : 3, Iteration : 11 , Loss : 1.0676817893981934\n",
      "Epoch : 3, Iteration : 21 , Loss : 0.9834465980529785\n",
      "Epoch : 3, Iteration : 31 , Loss : 0.915976345539093\n",
      "Epoch : 3, Iteration : 41 , Loss : 0.8688805103302002\n",
      "Epoch : 3, Iteration : 51 , Loss : 0.827480673789978\n",
      "Epoch : 3, Iteration : 61 , Loss : 0.7942855358123779\n"
     ]
    },
    {
     "name": "stderr",
     "output_type": "stream",
     "text": [
      "INFO:root:Evaluating accuracy on dev set\n",
      "INFO:root:Train loss: 0.919560634571573 - acc: 0.5597831838745287 -- Validation loss: 0.8332708137375968 - acc: 0.4470545408290521\n",
      " 10%|█         | 3/30 [00:09<01:22,  3.04s/it]"
     ]
    },
    {
     "name": "stdout",
     "output_type": "stream",
     "text": [
      "Epoch : 3 , Loss : 0.919560634571573\n",
      "Epoch : 3, Validation Iteration : 1 , Loss : 0.8372582197189331\n",
      "Epoch : 3, Validation Loss : 0.8332708137375968\n",
      "Epoch : 4, Iteration : 1 , Loss : 0.8419977426528931\n",
      "Epoch : 4, Iteration : 11 , Loss : 0.8141161203384399\n",
      "Epoch : 4, Iteration : 21 , Loss : 0.7548354864120483\n",
      "Epoch : 4, Iteration : 31 , Loss : 0.7475194931030273\n",
      "Epoch : 4, Iteration : 41 , Loss : 0.698399543762207\n",
      "Epoch : 4, Iteration : 51 , Loss : 0.6814284920692444\n",
      "Epoch : 4, Iteration : 61 , Loss : 0.6676567792892456\n"
     ]
    },
    {
     "name": "stderr",
     "output_type": "stream",
     "text": [
      "INFO:root:Evaluating accuracy on dev set\n",
      "INFO:root:Train loss: 0.7337638787601305 - acc: 0.5754822615136495 -- Validation loss: 0.6796887857573373 - acc: 0.47361411161404865\n",
      " 13%|█▎        | 4/30 [00:12<01:18,  3.02s/it]"
     ]
    },
    {
     "name": "stdout",
     "output_type": "stream",
     "text": [
      "Epoch : 4 , Loss : 0.7337638787601305\n",
      "Epoch : 4, Validation Iteration : 1 , Loss : 0.6756367683410645\n",
      "Epoch : 4, Validation Loss : 0.6796887857573373\n",
      "Epoch : 5, Iteration : 1 , Loss : 0.6641345024108887\n",
      "Epoch : 5, Iteration : 11 , Loss : 1.0445241928100586\n",
      "Epoch : 5, Iteration : 21 , Loss : 0.9360886216163635\n",
      "Epoch : 5, Iteration : 31 , Loss : 0.8570321798324585\n",
      "Epoch : 5, Iteration : 41 , Loss : 0.7981263995170593\n",
      "Epoch : 5, Iteration : 51 , Loss : 0.768206000328064\n",
      "Epoch : 5, Iteration : 61 , Loss : 0.7260787487030029\n"
     ]
    },
    {
     "name": "stderr",
     "output_type": "stream",
     "text": [
      "INFO:root:Evaluating accuracy on dev set\n",
      "INFO:root:Train loss: 0.8314062417417333 - acc: 0.5457337512391001 -- Validation loss: 0.7099987183298383 - acc: 0.46276787043640977\n",
      " 17%|█▋        | 5/30 [00:15<01:15,  3.02s/it]"
     ]
    },
    {
     "name": "stdout",
     "output_type": "stream",
     "text": [
      "Epoch : 5 , Loss : 0.8314062417417333\n",
      "Epoch : 5, Validation Iteration : 1 , Loss : 0.7082982063293457\n",
      "Epoch : 5, Validation Loss : 0.7099987183298383\n",
      "Epoch : 6, Iteration : 1 , Loss : 0.6811720132827759\n",
      "Epoch : 6, Iteration : 11 , Loss : 0.6279765367507935\n",
      "Epoch : 6, Iteration : 21 , Loss : 0.6170916557312012\n",
      "Epoch : 6, Iteration : 31 , Loss : 0.6239587068557739\n",
      "Epoch : 6, Iteration : 41 , Loss : 0.6004692316055298\n",
      "Epoch : 6, Iteration : 51 , Loss : 0.6085240840911865\n",
      "Epoch : 6, Iteration : 61 , Loss : 0.6037127375602722\n"
     ]
    },
    {
     "name": "stderr",
     "output_type": "stream",
     "text": [
      "INFO:root:Evaluating accuracy on dev set\n",
      "INFO:root:new model saved\n",
      "INFO:root:Train loss: 0.6185139840927677 - acc: 0.6154110632391477 -- Validation loss: 0.6279781716210502 - acc: 0.4992859584512468\n",
      " 20%|██        | 6/30 [00:18<01:12,  3.03s/it]"
     ]
    },
    {
     "name": "stdout",
     "output_type": "stream",
     "text": [
      "Epoch : 6 , Loss : 0.6185139840927677\n",
      "Epoch : 6, Validation Iteration : 1 , Loss : 0.637040376663208\n",
      "Epoch : 6, Validation Loss : 0.6279781716210502\n",
      "Epoch : 7, Iteration : 1 , Loss : 0.6069738864898682\n",
      "Epoch : 7, Iteration : 11 , Loss : 0.6117657423019409\n",
      "Epoch : 7, Iteration : 21 , Loss : 0.6017614603042603\n",
      "Epoch : 7, Iteration : 31 , Loss : 0.6078602075576782\n",
      "Epoch : 7, Iteration : 41 , Loss : 0.5934555530548096\n",
      "Epoch : 7, Iteration : 51 , Loss : 0.6040757298469543\n",
      "Epoch : 7, Iteration : 61 , Loss : 0.5981885194778442\n"
     ]
    },
    {
     "name": "stderr",
     "output_type": "stream",
     "text": [
      "INFO:root:Evaluating accuracy on dev set\n",
      "INFO:root:new model saved\n",
      "INFO:root:Train loss: 0.6031024490577587 - acc: 0.6530302913958056 -- Validation loss: 0.6165529659816197 - acc: 0.499915476805664\n",
      " 23%|██▎       | 7/30 [00:21<01:10,  3.05s/it]"
     ]
    },
    {
     "name": "stdout",
     "output_type": "stream",
     "text": [
      "Epoch : 7 , Loss : 0.6031024490577587\n",
      "Epoch : 7, Validation Iteration : 1 , Loss : 0.6100974082946777\n",
      "Epoch : 7, Validation Loss : 0.6165529659816197\n",
      "Epoch : 8, Iteration : 1 , Loss : 0.6010086536407471\n",
      "Epoch : 8, Iteration : 11 , Loss : 0.6152136325836182\n",
      "Epoch : 8, Iteration : 21 , Loss : 0.602387547492981\n",
      "Epoch : 8, Iteration : 31 , Loss : 0.6042630672454834\n",
      "Epoch : 8, Iteration : 41 , Loss : 0.6037607192993164\n",
      "Epoch : 8, Iteration : 51 , Loss : 0.6043349504470825\n",
      "Epoch : 8, Iteration : 61 , Loss : 0.5985163450241089\n"
     ]
    },
    {
     "name": "stderr",
     "output_type": "stream",
     "text": [
      "INFO:root:Evaluating accuracy on dev set\n",
      "INFO:root:Train loss: 0.6078844441883806 - acc: 0.6052895431349562 -- Validation loss: 0.6261536649295262 - acc: 0.44533317020651186\n",
      " 27%|██▋       | 8/30 [00:24<01:06,  3.03s/it]"
     ]
    },
    {
     "name": "stdout",
     "output_type": "stream",
     "text": [
      "Epoch : 8 , Loss : 0.6078844441883806\n",
      "Epoch : 8, Validation Iteration : 1 , Loss : 0.6172541975975037\n",
      "Epoch : 8, Validation Loss : 0.6261536649295262\n",
      "Epoch : 9, Iteration : 1 , Loss : 0.6019041538238525\n",
      "Epoch : 9, Iteration : 11 , Loss : 0.6125448942184448\n",
      "Epoch : 9, Iteration : 21 , Loss : 0.6102421879768372\n",
      "Epoch : 9, Iteration : 31 , Loss : 0.6033563613891602\n",
      "Epoch : 9, Iteration : 41 , Loss : 0.5949418544769287\n",
      "Epoch : 9, Iteration : 51 , Loss : 0.5999403595924377\n",
      "Epoch : 9, Iteration : 61 , Loss : 0.5938211679458618\n"
     ]
    },
    {
     "name": "stderr",
     "output_type": "stream",
     "text": [
      "INFO:root:Evaluating accuracy on dev set\n",
      "INFO:root:Train loss: 0.6035535551499629 - acc: 0.6119008772172472 -- Validation loss: 0.6037247180938721 - acc: 0.4992906433635164\n",
      " 30%|███       | 9/30 [00:27<01:03,  3.02s/it]"
     ]
    },
    {
     "name": "stdout",
     "output_type": "stream",
     "text": [
      "Epoch : 9 , Loss : 0.6035535551499629\n",
      "Epoch : 9, Validation Iteration : 1 , Loss : 0.6008268594741821\n",
      "Epoch : 9, Validation Loss : 0.6037247180938721\n",
      "Epoch : 10, Iteration : 1 , Loss : 0.6078402996063232\n",
      "Epoch : 10, Iteration : 11 , Loss : 0.6024086475372314\n",
      "Epoch : 10, Iteration : 21 , Loss : 0.6087670922279358\n",
      "Epoch : 10, Iteration : 31 , Loss : 0.6081289052963257\n",
      "Epoch : 10, Iteration : 41 , Loss : 0.5972211360931396\n",
      "Epoch : 10, Iteration : 51 , Loss : 0.5988537073135376\n",
      "Epoch : 10, Iteration : 61 , Loss : 0.5936750769615173\n"
     ]
    },
    {
     "name": "stderr",
     "output_type": "stream",
     "text": [
      "INFO:root:Evaluating accuracy on dev set\n",
      "INFO:root:new model saved\n",
      "INFO:root:Train loss: 0.6006391048431396 - acc: 0.6129316153607215 -- Validation loss: 0.6026630997657776 - acc: 0.5044066344893952\n",
      " 33%|███▎      | 10/30 [00:30<01:00,  3.04s/it]"
     ]
    },
    {
     "name": "stdout",
     "output_type": "stream",
     "text": [
      "Epoch : 10 , Loss : 0.6006391048431396\n",
      "Epoch : 10, Validation Iteration : 1 , Loss : 0.5968843102455139\n",
      "Epoch : 10, Validation Loss : 0.6026630997657776\n",
      "Epoch : 11, Iteration : 1 , Loss : 0.589809775352478\n",
      "Epoch : 11, Iteration : 11 , Loss : 0.6027493476867676\n",
      "Epoch : 11, Iteration : 21 , Loss : 0.6029854416847229\n",
      "Epoch : 11, Iteration : 31 , Loss : 0.6068882346153259\n",
      "Epoch : 11, Iteration : 41 , Loss : 0.6022074222564697\n",
      "Epoch : 11, Iteration : 51 , Loss : 0.6019715070724487\n",
      "Epoch : 11, Iteration : 61 , Loss : 0.5902656316757202\n"
     ]
    },
    {
     "name": "stderr",
     "output_type": "stream",
     "text": [
      "INFO:root:Evaluating accuracy on dev set\n",
      "INFO:root:Train loss: 0.5984916617904884 - acc: 0.620848166584199 -- Validation loss: 0.612273803779057 - acc: 0.47077237768585817\n",
      " 37%|███▋      | 11/30 [00:33<00:57,  3.03s/it]"
     ]
    },
    {
     "name": "stdout",
     "output_type": "stream",
     "text": [
      "Epoch : 11 , Loss : 0.5984916617904884\n",
      "Epoch : 11, Validation Iteration : 1 , Loss : 0.6056678295135498\n",
      "Epoch : 11, Validation Loss : 0.612273803779057\n",
      "Epoch : 12, Iteration : 1 , Loss : 0.5878334045410156\n",
      "Epoch : 12, Iteration : 11 , Loss : 0.5979516506195068\n",
      "Epoch : 12, Iteration : 21 , Loss : 0.5924793481826782\n",
      "Epoch : 12, Iteration : 31 , Loss : 0.5990172028541565\n",
      "Epoch : 12, Iteration : 41 , Loss : 0.5942098498344421\n",
      "Epoch : 12, Iteration : 51 , Loss : 0.5993675589561462\n",
      "Epoch : 12, Iteration : 61 , Loss : 0.5891807079315186\n"
     ]
    },
    {
     "name": "stderr",
     "output_type": "stream",
     "text": [
      "INFO:root:Evaluating accuracy on dev set\n",
      "INFO:root:Train loss: 0.595731018246084 - acc: 0.6489737531719637 -- Validation loss: 0.6050256150109428 - acc: 0.4666040773848306\n",
      " 40%|████      | 12/30 [00:36<00:54,  3.03s/it]"
     ]
    },
    {
     "name": "stdout",
     "output_type": "stream",
     "text": [
      "Epoch : 12 , Loss : 0.595731018246084\n",
      "Epoch : 12, Validation Iteration : 1 , Loss : 0.6011714935302734\n",
      "Epoch : 12, Validation Loss : 0.6050256150109428\n",
      "Epoch : 13, Iteration : 1 , Loss : 0.5899823904037476\n",
      "Epoch : 13, Iteration : 11 , Loss : 0.5958809852600098\n",
      "Epoch : 13, Iteration : 21 , Loss : 0.5927414894104004\n",
      "Epoch : 13, Iteration : 31 , Loss : 0.5957448482513428\n",
      "Epoch : 13, Iteration : 41 , Loss : 0.5896788835525513\n",
      "Epoch : 13, Iteration : 51 , Loss : 0.5910420417785645\n",
      "Epoch : 13, Iteration : 61 , Loss : 0.590041995048523\n"
     ]
    },
    {
     "name": "stderr",
     "output_type": "stream",
     "text": [
      "INFO:root:Evaluating accuracy on dev set\n",
      "INFO:root:Train loss: 0.5953643529311471 - acc: 0.648641292998605 -- Validation loss: 0.604907648903983 - acc: 0.4323183500665267\n",
      " 43%|████▎     | 13/30 [00:39<00:51,  3.02s/it]"
     ]
    },
    {
     "name": "stdout",
     "output_type": "stream",
     "text": [
      "Epoch : 13 , Loss : 0.5953643529311471\n",
      "Epoch : 13, Validation Iteration : 1 , Loss : 0.6003192663192749\n",
      "Epoch : 13, Validation Loss : 0.604907648903983\n",
      "Epoch : 14, Iteration : 1 , Loss : 0.5898212790489197\n",
      "Epoch : 14, Iteration : 11 , Loss : 0.6032379865646362\n",
      "Epoch : 14, Iteration : 21 , Loss : 0.5930831432342529\n",
      "Epoch : 14, Iteration : 31 , Loss : 0.5965583324432373\n",
      "Epoch : 14, Iteration : 41 , Loss : 0.5979971885681152\n",
      "Epoch : 14, Iteration : 51 , Loss : 0.6016477346420288\n",
      "Epoch : 14, Iteration : 61 , Loss : 0.5963062047958374\n"
     ]
    },
    {
     "name": "stderr",
     "output_type": "stream",
     "text": [
      "INFO:root:Evaluating accuracy on dev set\n",
      "INFO:root:Train loss: 0.597733609918235 - acc: 0.6129490730543204 -- Validation loss: 0.6015484418187823 - acc: 0.4974555632274578\n",
      " 47%|████▋     | 14/30 [00:42<00:48,  3.01s/it]"
     ]
    },
    {
     "name": "stdout",
     "output_type": "stream",
     "text": [
      "Epoch : 14 , Loss : 0.597733609918235\n",
      "Epoch : 14, Validation Iteration : 1 , Loss : 0.6049405336380005\n",
      "Epoch : 14, Validation Loss : 0.6015484418187823\n",
      "Epoch : 15, Iteration : 1 , Loss : 0.5924252271652222\n",
      "Epoch : 15, Iteration : 11 , Loss : 0.6077467203140259\n",
      "Epoch : 15, Iteration : 21 , Loss : 0.5894402861595154\n",
      "Epoch : 15, Iteration : 31 , Loss : 0.5967172384262085\n",
      "Epoch : 15, Iteration : 41 , Loss : 0.584625244140625\n",
      "Epoch : 15, Iteration : 51 , Loss : 0.5934724807739258\n",
      "Epoch : 15, Iteration : 61 , Loss : 0.5944662094116211\n"
     ]
    },
    {
     "name": "stderr",
     "output_type": "stream",
     "text": [
      "INFO:root:Evaluating accuracy on dev set\n",
      "INFO:root:new model saved\n",
      "INFO:root:Train loss: 0.5934629638989767 - acc: 0.6410827182424953 -- Validation loss: 0.602010999407087 - acc: 0.5344887908100121\n",
      " 50%|█████     | 15/30 [00:45<00:45,  3.03s/it]"
     ]
    },
    {
     "name": "stdout",
     "output_type": "stream",
     "text": [
      "Epoch : 15 , Loss : 0.5934629638989767\n",
      "Epoch : 15, Validation Iteration : 1 , Loss : 0.6061345338821411\n",
      "Epoch : 15, Validation Loss : 0.602010999407087\n",
      "Epoch : 16, Iteration : 1 , Loss : 0.5909990072250366\n",
      "Epoch : 16, Iteration : 11 , Loss : 0.5970232486724854\n",
      "Epoch : 16, Iteration : 21 , Loss : 0.5855269432067871\n",
      "Epoch : 16, Iteration : 31 , Loss : 0.5972827672958374\n",
      "Epoch : 16, Iteration : 41 , Loss : 0.5873900055885315\n",
      "Epoch : 16, Iteration : 51 , Loss : 0.5897175073623657\n",
      "Epoch : 16, Iteration : 61 , Loss : 0.5889705419540405\n"
     ]
    },
    {
     "name": "stderr",
     "output_type": "stream",
     "text": [
      "INFO:root:Evaluating accuracy on dev set\n",
      "INFO:root:Train loss: 0.5895111811333809 - acc: 0.6737247514954886 -- Validation loss: 0.6033330474581037 - acc: 0.5294114167466999\n",
      " 53%|█████▎    | 16/30 [00:48<00:42,  3.03s/it]"
     ]
    },
    {
     "name": "stdout",
     "output_type": "stream",
     "text": [
      "Epoch : 16 , Loss : 0.5895111811333809\n",
      "Epoch : 16, Validation Iteration : 1 , Loss : 0.6069824695587158\n",
      "Epoch : 16, Validation Loss : 0.6033330474581037\n",
      "Epoch : 17, Iteration : 1 , Loss : 0.5850135684013367\n",
      "Epoch : 17, Iteration : 11 , Loss : 0.5878497362136841\n",
      "Epoch : 17, Iteration : 21 , Loss : 0.5847935676574707\n",
      "Epoch : 17, Iteration : 31 , Loss : 0.5933166742324829\n",
      "Epoch : 17, Iteration : 41 , Loss : 0.5827151536941528\n",
      "Epoch : 17, Iteration : 51 , Loss : 0.5965269804000854\n",
      "Epoch : 17, Iteration : 61 , Loss : 0.5890587568283081\n"
     ]
    },
    {
     "name": "stderr",
     "output_type": "stream",
     "text": [
      "INFO:root:Evaluating accuracy on dev set\n",
      "INFO:root:Train loss: 0.5875970868096836 - acc: 0.7037400104350242 -- Validation loss: 0.6009542175701686 - acc: 0.5287599462319329\n",
      " 57%|█████▋    | 17/30 [00:51<00:39,  3.01s/it]"
     ]
    },
    {
     "name": "stdout",
     "output_type": "stream",
     "text": [
      "Epoch : 17 , Loss : 0.5875970868096836\n",
      "Epoch : 17, Validation Iteration : 1 , Loss : 0.5995429754257202\n",
      "Epoch : 17, Validation Loss : 0.6009542175701686\n",
      "Epoch : 18, Iteration : 1 , Loss : 0.5844966173171997\n",
      "Epoch : 18, Iteration : 11 , Loss : 0.590151846408844\n",
      "Epoch : 18, Iteration : 21 , Loss : 0.584781289100647\n",
      "Epoch : 18, Iteration : 31 , Loss : 0.5901771783828735\n",
      "Epoch : 18, Iteration : 41 , Loss : 0.5806214809417725\n",
      "Epoch : 18, Iteration : 51 , Loss : 0.5874179005622864\n",
      "Epoch : 18, Iteration : 61 , Loss : 0.5866501331329346\n"
     ]
    },
    {
     "name": "stderr",
     "output_type": "stream",
     "text": [
      "INFO:root:Evaluating accuracy on dev set\n",
      "INFO:root:Train loss: 0.5876231288564377 - acc: 0.708270011637756 -- Validation loss: 0.6005260859216962 - acc: 0.5175667538370605\n",
      " 60%|██████    | 18/30 [00:54<00:36,  3.02s/it]"
     ]
    },
    {
     "name": "stdout",
     "output_type": "stream",
     "text": [
      "Epoch : 18 , Loss : 0.5876231288564377\n",
      "Epoch : 18, Validation Iteration : 1 , Loss : 0.6039783954620361\n",
      "Epoch : 18, Validation Loss : 0.6005260859216962\n",
      "Epoch : 19, Iteration : 1 , Loss : 0.5884011387825012\n",
      "Epoch : 19, Iteration : 11 , Loss : 0.6207442283630371\n",
      "Epoch : 19, Iteration : 21 , Loss : 0.5870721936225891\n",
      "Epoch : 19, Iteration : 31 , Loss : 0.5907248258590698\n",
      "Epoch : 19, Iteration : 41 , Loss : 0.5882440805435181\n",
      "Epoch : 19, Iteration : 51 , Loss : 0.5876412987709045\n",
      "Epoch : 19, Iteration : 61 , Loss : 0.5884964466094971\n"
     ]
    },
    {
     "name": "stderr",
     "output_type": "stream",
     "text": [
      "INFO:root:Evaluating accuracy on dev set\n",
      "INFO:root:Train loss: 0.5890452645827031 - acc: 0.7083607334983456 -- Validation loss: 0.6019893118313381 - acc: 0.51926369598848\n",
      " 63%|██████▎   | 19/30 [00:57<00:33,  3.01s/it]"
     ]
    },
    {
     "name": "stdout",
     "output_type": "stream",
     "text": [
      "Epoch : 19 , Loss : 0.5890452645827031\n",
      "Epoch : 19, Validation Iteration : 1 , Loss : 0.6090202331542969\n",
      "Epoch : 19, Validation Loss : 0.6019893118313381\n",
      "Epoch : 20, Iteration : 1 , Loss : 0.5902429819107056\n",
      "Epoch : 20, Iteration : 11 , Loss : 0.6206477284431458\n",
      "Epoch : 20, Iteration : 21 , Loss : 0.5857367515563965\n",
      "Epoch : 20, Iteration : 31 , Loss : 0.5950554609298706\n",
      "Epoch : 20, Iteration : 41 , Loss : 0.5943375825881958\n",
      "Epoch : 20, Iteration : 51 , Loss : 0.586342453956604\n",
      "Epoch : 20, Iteration : 61 , Loss : 0.5862473249435425\n"
     ]
    },
    {
     "name": "stderr",
     "output_type": "stream",
     "text": [
      "INFO:root:Evaluating accuracy on dev set\n",
      "INFO:root:new model saved\n",
      "INFO:root:Train loss: 0.5892662855162136 - acc: 0.6993345889518995 -- Validation loss: 0.598344257899693 - acc: 0.5429320066298629\n",
      " 67%|██████▋   | 20/30 [01:00<00:30,  3.02s/it]"
     ]
    },
    {
     "name": "stdout",
     "output_type": "stream",
     "text": [
      "Epoch : 20 , Loss : 0.5892662855162136\n",
      "Epoch : 20, Validation Iteration : 1 , Loss : 0.6042126417160034\n",
      "Epoch : 20, Validation Loss : 0.598344257899693\n",
      "Epoch : 21, Iteration : 1 , Loss : 0.5834966897964478\n",
      "Epoch : 21, Iteration : 11 , Loss : 0.6139945983886719\n",
      "Epoch : 21, Iteration : 21 , Loss : 0.5848259925842285\n",
      "Epoch : 21, Iteration : 31 , Loss : 0.5912580490112305\n",
      "Epoch : 21, Iteration : 41 , Loss : 0.5791873931884766\n",
      "Epoch : 21, Iteration : 51 , Loss : 0.588204026222229\n",
      "Epoch : 21, Iteration : 61 , Loss : 0.5867257118225098\n"
     ]
    },
    {
     "name": "stderr",
     "output_type": "stream",
     "text": [
      "INFO:root:Evaluating accuracy on dev set\n",
      "INFO:root:Train loss: 0.5872377822364586 - acc: 0.7113954904590541 -- Validation loss: 0.5977345108985901 - acc: 0.5280027974818241\n",
      " 70%|███████   | 21/30 [01:03<00:27,  3.02s/it]"
     ]
    },
    {
     "name": "stdout",
     "output_type": "stream",
     "text": [
      "Epoch : 21 , Loss : 0.5872377822364586\n",
      "Epoch : 21, Validation Iteration : 1 , Loss : 0.5987613201141357\n",
      "Epoch : 21, Validation Loss : 0.5977345108985901\n",
      "Epoch : 22, Iteration : 1 , Loss : 0.5812629461288452\n",
      "Epoch : 22, Iteration : 11 , Loss : 0.5878396034240723\n",
      "Epoch : 22, Iteration : 21 , Loss : 0.5887458324432373\n",
      "Epoch : 22, Iteration : 31 , Loss : 0.5939352512359619\n",
      "Epoch : 22, Iteration : 41 , Loss : 0.5819599628448486\n",
      "Epoch : 22, Iteration : 51 , Loss : 0.5863114595413208\n",
      "Epoch : 22, Iteration : 61 , Loss : 0.586361289024353\n"
     ]
    },
    {
     "name": "stderr",
     "output_type": "stream",
     "text": [
      "INFO:root:Evaluating accuracy on dev set\n",
      "INFO:root:Train loss: 0.5863582949707473 - acc: 0.7282746040924174 -- Validation loss: 0.5990013395036969 - acc: 0.5218551217468298\n",
      " 73%|███████▎  | 22/30 [01:06<00:24,  3.02s/it]"
     ]
    },
    {
     "name": "stdout",
     "output_type": "stream",
     "text": [
      "Epoch : 22 , Loss : 0.5863582949707473\n",
      "Epoch : 22, Validation Iteration : 1 , Loss : 0.5973808765411377\n",
      "Epoch : 22, Validation Loss : 0.5990013395036969\n",
      "Epoch : 23, Iteration : 1 , Loss : 0.5808602571487427\n",
      "Epoch : 23, Iteration : 11 , Loss : 0.587399423122406\n",
      "Epoch : 23, Iteration : 21 , Loss : 0.5906826853752136\n",
      "Epoch : 23, Iteration : 31 , Loss : 0.592924952507019\n",
      "Epoch : 23, Iteration : 41 , Loss : 0.5820045471191406\n",
      "Epoch : 23, Iteration : 51 , Loss : 0.5855280160903931\n",
      "Epoch : 23, Iteration : 61 , Loss : 0.5863885879516602\n"
     ]
    },
    {
     "name": "stderr",
     "output_type": "stream",
     "text": [
      "INFO:root:Evaluating accuracy on dev set\n",
      "INFO:root:Train loss: 0.5858121462490248 - acc: 0.7388309522784181 -- Validation loss: 0.598773079259055 - acc: 0.5198894664130815\n",
      " 77%|███████▋  | 23/30 [01:09<00:21,  3.01s/it]"
     ]
    },
    {
     "name": "stdout",
     "output_type": "stream",
     "text": [
      "Epoch : 23 , Loss : 0.5858121462490248\n",
      "Epoch : 23, Validation Iteration : 1 , Loss : 0.5984257459640503\n",
      "Epoch : 23, Validation Loss : 0.598773079259055\n",
      "Epoch : 24, Iteration : 1 , Loss : 0.5784119963645935\n",
      "Epoch : 24, Iteration : 11 , Loss : 0.5881319046020508\n",
      "Epoch : 24, Iteration : 21 , Loss : 0.5872079133987427\n",
      "Epoch : 24, Iteration : 31 , Loss : 0.592713475227356\n",
      "Epoch : 24, Iteration : 41 , Loss : 0.5788424015045166\n",
      "Epoch : 24, Iteration : 51 , Loss : 0.5900614261627197\n",
      "Epoch : 24, Iteration : 61 , Loss : 0.5858433246612549\n"
     ]
    },
    {
     "name": "stderr",
     "output_type": "stream",
     "text": [
      "INFO:root:Evaluating accuracy on dev set\n",
      "INFO:root:Train loss: 0.5861495266789976 - acc: 0.730789845731688 -- Validation loss: 0.5996960060937064 - acc: 0.5111808837768087\n",
      " 80%|████████  | 24/30 [01:12<00:18,  3.01s/it]"
     ]
    },
    {
     "name": "stdout",
     "output_type": "stream",
     "text": [
      "Epoch : 24 , Loss : 0.5861495266789976\n",
      "Epoch : 24, Validation Iteration : 1 , Loss : 0.5997145771980286\n",
      "Epoch : 24, Validation Loss : 0.5996960060937064\n",
      "Epoch : 25, Iteration : 1 , Loss : 0.5834778547286987\n",
      "Epoch : 25, Iteration : 11 , Loss : 0.5877014398574829\n",
      "Epoch : 25, Iteration : 21 , Loss : 0.5876320004463196\n",
      "Epoch : 25, Iteration : 31 , Loss : 0.5922989845275879\n",
      "Epoch : 25, Iteration : 41 , Loss : 0.584084153175354\n",
      "Epoch : 25, Iteration : 51 , Loss : 0.5874912738800049\n",
      "Epoch : 25, Iteration : 61 , Loss : 0.586400032043457\n"
     ]
    },
    {
     "name": "stderr",
     "output_type": "stream",
     "text": [
      "INFO:root:Evaluating accuracy on dev set\n",
      "INFO:root:Train loss: 0.5855221411456233 - acc: 0.7341573220727082 -- Validation loss: 0.5998614004680088 - acc: 0.5187929292326887\n",
      " 83%|████████▎ | 25/30 [01:15<00:15,  3.01s/it]"
     ]
    },
    {
     "name": "stdout",
     "output_type": "stream",
     "text": [
      "Epoch : 25 , Loss : 0.5855221411456233\n",
      "Epoch : 25, Validation Iteration : 1 , Loss : 0.5999448299407959\n",
      "Epoch : 25, Validation Loss : 0.5998614004680088\n",
      "Epoch : 26, Iteration : 1 , Loss : 0.5795983076095581\n",
      "Epoch : 26, Iteration : 11 , Loss : 0.586666464805603\n",
      "Epoch : 26, Iteration : 21 , Loss : 0.5877445340156555\n",
      "Epoch : 26, Iteration : 31 , Loss : 0.5932029485702515\n",
      "Epoch : 26, Iteration : 41 , Loss : 0.5847718715667725\n",
      "Epoch : 26, Iteration : 51 , Loss : 0.5875962376594543\n",
      "Epoch : 26, Iteration : 61 , Loss : 0.5849882364273071\n"
     ]
    },
    {
     "name": "stderr",
     "output_type": "stream",
     "text": [
      "INFO:root:Evaluating accuracy on dev set\n",
      "INFO:root:Train loss: 0.5853260211322618 - acc: 0.7456627272157746 -- Validation loss: 0.6019579257283892 - acc: 0.4964183236509365\n",
      " 87%|████████▋ | 26/30 [01:18<00:12,  3.01s/it]"
     ]
    },
    {
     "name": "stdout",
     "output_type": "stream",
     "text": [
      "Epoch : 26 , Loss : 0.5853260211322618\n",
      "Epoch : 26, Validation Iteration : 1 , Loss : 0.6009888052940369\n",
      "Epoch : 26, Validation Loss : 0.6019579257283892\n",
      "Epoch : 27, Iteration : 1 , Loss : 0.5831116437911987\n",
      "Epoch : 27, Iteration : 11 , Loss : 0.5879811644554138\n",
      "Epoch : 27, Iteration : 21 , Loss : 0.586176872253418\n",
      "Epoch : 27, Iteration : 31 , Loss : 0.5901370048522949\n",
      "Epoch : 27, Iteration : 41 , Loss : 0.5838512182235718\n",
      "Epoch : 27, Iteration : 51 , Loss : 0.5880246162414551\n",
      "Epoch : 27, Iteration : 61 , Loss : 0.5832436680793762\n"
     ]
    },
    {
     "name": "stderr",
     "output_type": "stream",
     "text": [
      "INFO:root:Evaluating accuracy on dev set\n",
      "INFO:root:Train loss: 0.5844376087188721 - acc: 0.7525050412103176 -- Validation loss: 0.6003570897238595 - acc: 0.49799385964725135\n",
      " 90%|█████████ | 27/30 [01:21<00:09,  3.02s/it]"
     ]
    },
    {
     "name": "stdout",
     "output_type": "stream",
     "text": [
      "Epoch : 27 , Loss : 0.5844376087188721\n",
      "Epoch : 27, Validation Iteration : 1 , Loss : 0.5979478359222412\n",
      "Epoch : 27, Validation Loss : 0.6003570897238595\n",
      "Epoch : 28, Iteration : 1 , Loss : 0.5795719623565674\n",
      "Epoch : 28, Iteration : 11 , Loss : 0.5862024426460266\n",
      "Epoch : 28, Iteration : 21 , Loss : 0.5880985260009766\n",
      "Epoch : 28, Iteration : 31 , Loss : 0.5883086919784546\n",
      "Epoch : 28, Iteration : 41 , Loss : 0.580795407295227\n",
      "Epoch : 28, Iteration : 51 , Loss : 0.5852430462837219\n",
      "Epoch : 28, Iteration : 61 , Loss : 0.5833797454833984\n"
     ]
    },
    {
     "name": "stderr",
     "output_type": "stream",
     "text": [
      "INFO:root:Evaluating accuracy on dev set\n",
      "INFO:root:Train loss: 0.5840602879938872 - acc: 0.755330027398718 -- Validation loss: 0.6019861442702157 - acc: 0.4771712985731471\n",
      " 93%|█████████▎| 28/30 [01:24<00:06,  3.02s/it]"
     ]
    },
    {
     "name": "stdout",
     "output_type": "stream",
     "text": [
      "Epoch : 28 , Loss : 0.5840602879938872\n",
      "Epoch : 28, Validation Iteration : 1 , Loss : 0.5997210741043091\n",
      "Epoch : 28, Validation Loss : 0.6019861442702157\n",
      "Epoch : 29, Iteration : 1 , Loss : 0.5814709663391113\n",
      "Epoch : 29, Iteration : 11 , Loss : 0.585802435874939\n",
      "Epoch : 29, Iteration : 21 , Loss : 0.5882184505462646\n",
      "Epoch : 29, Iteration : 31 , Loss : 0.5888376235961914\n",
      "Epoch : 29, Iteration : 41 , Loss : 0.5818840265274048\n",
      "Epoch : 29, Iteration : 51 , Loss : 0.5857512354850769\n",
      "Epoch : 29, Iteration : 61 , Loss : 0.5865926742553711\n"
     ]
    },
    {
     "name": "stderr",
     "output_type": "stream",
     "text": [
      "INFO:root:Evaluating accuracy on dev set\n",
      "INFO:root:Train loss: 0.5838573583658191 - acc: 0.7599582823074023 -- Validation loss: 0.6017699837684631 - acc: 0.4873692817472896\n",
      " 97%|█████████▋| 29/30 [01:27<00:03,  3.02s/it]"
     ]
    },
    {
     "name": "stdout",
     "output_type": "stream",
     "text": [
      "Epoch : 29 , Loss : 0.5838573583658191\n",
      "Epoch : 29, Validation Iteration : 1 , Loss : 0.599687933921814\n",
      "Epoch : 29, Validation Loss : 0.6017699837684631\n",
      "Epoch : 30, Iteration : 1 , Loss : 0.5808733105659485\n",
      "Epoch : 30, Iteration : 11 , Loss : 0.5856252908706665\n",
      "Epoch : 30, Iteration : 21 , Loss : 0.5912476181983948\n",
      "Epoch : 30, Iteration : 31 , Loss : 0.5887417793273926\n",
      "Epoch : 30, Iteration : 41 , Loss : 0.5821812748908997\n",
      "Epoch : 30, Iteration : 51 , Loss : 0.5849509239196777\n",
      "Epoch : 30, Iteration : 61 , Loss : 0.5860226154327393\n"
     ]
    },
    {
     "name": "stderr",
     "output_type": "stream",
     "text": [
      "INFO:root:Evaluating accuracy on dev set\n",
      "INFO:root:Train loss: 0.5839652548665586 - acc: 0.7584295484325707 -- Validation loss: 0.6012201138905117 - acc: 0.4768485081177617\n",
      "100%|██████████| 30/30 [01:30<00:00,  3.02s/it]"
     ]
    },
    {
     "name": "stdout",
     "output_type": "stream",
     "text": [
      "Epoch : 30 , Loss : 0.5839652548665586\n",
      "Epoch : 30, Validation Iteration : 1 , Loss : 0.5967756509780884\n",
      "Epoch : 30, Validation Loss : 0.6012201138905117\n"
     ]
    },
    {
     "name": "stderr",
     "output_type": "stream",
     "text": [
      "\n"
     ]
    }
   ],
   "source": [
    "## init siamese lstm\n",
    "from siamese_lstm_attention import SiameseBiLSTMAttention\n",
    "max_accuracy = 0\n",
    "for hidden_size in hidden_sizes:\n",
    "    for lstm_layer in lstm_layers:\n",
    "        for learning_rate in learning_rates:\n",
    "            siamese_lstm_attention = SiameseBiLSTMAttention(\n",
    "                batch_size=batch_size,\n",
    "                output_size=output_size,\n",
    "                hidden_size=hidden_size,\n",
    "                vocab_size=vocab_size,\n",
    "                embedding_size=embedding_size,\n",
    "                embedding_weights=embedding_weights,\n",
    "                lstm_layers=lstm_layer,\n",
    "                self_attention_config=self_attention_config,\n",
    "                fc_hidden_size=fc_hidden_size,\n",
    "                device=device,\n",
    "                bidirectional=bidirectional,\n",
    "            )\n",
    "            siamese_lstm_attention.to(device)\n",
    "            #hyperparamter training\n",
    "            optimizer = torch.optim.Adam(list(siamese_lstm_attention.parameters()), lr = learning_rate)\n",
    "            accuracy = train_model(\n",
    "                model=siamese_lstm_attention,\n",
    "                optimizer=optimizer,\n",
    "                dataloader=sick_dataloaders,\n",
    "                data=sick_data,\n",
    "                max_epochs=max_epochs,\n",
    "                config_dict={\n",
    "                    \"device\": device,\n",
    "                    \"model_name\": \"siamese_lstm_attention\",\n",
    "                    \"self_attention_config\": self_attention_config,\n",
    "                },\n",
    "            )\n",
    "            if accuracy > max_accuracy:\n",
    "                max_accuracy = accuracy\n",
    "                best_learning_rate = learning_rate\n",
    "                best_hidden_size = hidden_size\n",
    "                best_lstm_layers = lstm_layer"
   ]
  },
  {
   "cell_type": "code",
   "execution_count": 13,
   "id": "vY36HYZJ5TlH",
   "metadata": {
    "colab": {
     "base_uri": "https://localhost:8080/"
    },
    "executionInfo": {
     "elapsed": 88,
     "status": "ok",
     "timestamp": 1647028217605,
     "user": {
      "displayName": "Faria Alam",
      "photoUrl": "https://lh3.googleusercontent.com/a-/AOh14GgA-IA0pDrCGKBsIUIuXVLu5X2mFDhecwjQ6LIp=s64",
      "userId": "01141680939008758463"
     },
     "user_tz": -60
    },
    "id": "vY36HYZJ5TlH",
    "outputId": "e99b3b38-6e3d-40b9-cada-6b68d5010507"
   },
   "outputs": [
    {
     "name": "stdout",
     "output_type": "stream",
     "text": [
      "Best Learning Rate : 0.0001\n",
      "Best LSTM Hidden Size : 128\n",
      "Best LSTM Number of Layers : 2\n"
     ]
    }
   ],
   "source": [
    "print('Best Learning Rate : '+str(best_learning_rate))\n",
    "print('Best LSTM Hidden Size : '+str(best_hidden_size))               \n",
    "print('Best LSTM Number of Layers : '+str(best_lstm_layers))"
   ]
  },
  {
   "cell_type": "markdown",
   "id": "99b100de",
   "metadata": {
    "id": "99b100de"
   },
   "source": [
    "## Part 3. Training (2 points)  \n",
    "Perform the final training of the model by implementing functions in `train.py` after setting values of your best-chosen hyperparameters. Note you can use the same training function when performing hyperparameter tuning.\n",
    "- **What is a good choice of performance metric here for evaluating your model?** [Max 2-3 lines]\n",
    "  - Since this is a regression problem and similarity measurement experiment between two given sentences a correlation score would be a good choice of performance measure. Here for task1 and task2 we have used spearman correlation as metric two evaluate the models performance on validation set and also on test set.\n",
    "\n",
    "\n",
    "- **What other performance evaluation metric can we use here for this task? Motivate your answer.**[Max 2-3 lines]\n",
    "\n",
    " - We can use other correlation metrics like the spearman such as pearson correlation. Since this is a regression problem we can also use Mean Squared Error on the whole evaluation set as a performance metric.\n",
    "\n",
    "\n"
   ]
  },
  {
   "cell_type": "code",
   "execution_count": 14,
   "id": "da5a31ce",
   "metadata": {
    "colab": {
     "base_uri": "https://localhost:8080/"
    },
    "executionInfo": {
     "elapsed": 53803,
     "status": "ok",
     "timestamp": 1647028271397,
     "user": {
      "displayName": "Faria Alam",
      "photoUrl": "https://lh3.googleusercontent.com/a-/AOh14GgA-IA0pDrCGKBsIUIuXVLu5X2mFDhecwjQ6LIp=s64",
      "userId": "01141680939008758463"
     },
     "user_tz": -60
    },
    "id": "da5a31ce",
    "outputId": "867ff116-43b3-4f35-9247-aeca3ba69d5d"
   },
   "outputs": [
    {
     "name": "stderr",
     "output_type": "stream",
     "text": [
      "\r",
      "  0%|          | 0/30 [00:00<?, ?it/s]"
     ]
    },
    {
     "name": "stdout",
     "output_type": "stream",
     "text": [
      "Epoch : 1, Iteration : 1 , Loss : 1.148439645767212\n",
      "Epoch : 1, Iteration : 11 , Loss : 1.152021884918213\n",
      "Epoch : 1, Iteration : 21 , Loss : 1.1278976202011108\n",
      "Epoch : 1, Iteration : 31 , Loss : 1.1345456838607788\n",
      "Epoch : 1, Iteration : 41 , Loss : 1.140523910522461\n",
      "Epoch : 1, Iteration : 51 , Loss : 1.128117561340332\n"
     ]
    },
    {
     "name": "stderr",
     "output_type": "stream",
     "text": [
      "INFO:root:Evaluating accuracy on dev set\n"
     ]
    },
    {
     "name": "stdout",
     "output_type": "stream",
     "text": [
      "Epoch : 1, Iteration : 61 , Loss : 1.11466646194458\n",
      "Epoch : 1 , Loss : 1.1360439217608909\n"
     ]
    },
    {
     "name": "stderr",
     "output_type": "stream",
     "text": [
      "INFO:root:new model saved\n",
      "INFO:root:Train loss: 1.1360439217608909 - acc: 0.4186417036359317 -- Validation loss: 1.1240346261433192 - acc: 0.5289804048178834\n",
      "  3%|▎         | 1/30 [00:01<00:52,  1.82s/it]"
     ]
    },
    {
     "name": "stdout",
     "output_type": "stream",
     "text": [
      "Epoch : 1, Validation Iteration : 1 , Loss : 1.1180353164672852\n",
      "Epoch : 1, Validation Loss : 1.1240346261433192\n",
      "Epoch : 2, Iteration : 1 , Loss : 1.1123820543289185\n",
      "Epoch : 2, Iteration : 11 , Loss : 1.1297078132629395\n",
      "Epoch : 2, Iteration : 21 , Loss : 1.1188256740570068\n",
      "Epoch : 2, Iteration : 31 , Loss : 1.125004529953003\n",
      "Epoch : 2, Iteration : 41 , Loss : 1.1291768550872803\n",
      "Epoch : 2, Iteration : 51 , Loss : 1.1196956634521484\n"
     ]
    },
    {
     "name": "stderr",
     "output_type": "stream",
     "text": [
      "INFO:root:Evaluating accuracy on dev set\n"
     ]
    },
    {
     "name": "stdout",
     "output_type": "stream",
     "text": [
      "Epoch : 2, Iteration : 61 , Loss : 1.1126455068588257\n",
      "Epoch : 2 , Loss : 1.1228525655857031\n"
     ]
    },
    {
     "name": "stderr",
     "output_type": "stream",
     "text": [
      "INFO:root:new model saved\n",
      "INFO:root:Train loss: 1.1228525655857031 - acc: 0.5707575887293449 -- Validation loss: 1.1200270312173026 - acc: 0.5685431503895089\n",
      "  7%|▋         | 2/30 [00:03<00:51,  1.82s/it]"
     ]
    },
    {
     "name": "stdout",
     "output_type": "stream",
     "text": [
      "Epoch : 2, Validation Iteration : 1 , Loss : 1.115932583808899\n",
      "Epoch : 2, Validation Loss : 1.1200270312173026\n",
      "Epoch : 3, Iteration : 1 , Loss : 1.110426425933838\n",
      "Epoch : 3, Iteration : 11 , Loss : 1.1248767375946045\n",
      "Epoch : 3, Iteration : 21 , Loss : 1.11616849899292\n",
      "Epoch : 3, Iteration : 31 , Loss : 1.1218407154083252\n",
      "Epoch : 3, Iteration : 41 , Loss : 1.1235986948013306\n",
      "Epoch : 3, Iteration : 51 , Loss : 1.117506742477417\n",
      "Epoch : 3, Iteration : 61 , Loss : 1.1112966537475586\n",
      "Epoch : 3 , Loss : 1.118834324505018\n"
     ]
    },
    {
     "name": "stderr",
     "output_type": "stream",
     "text": [
      "INFO:root:Evaluating accuracy on dev set\n",
      "INFO:root:new model saved\n",
      "INFO:root:Train loss: 1.118834324505018 - acc: 0.618621496906593 -- Validation loss: 1.1184121370315552 - acc: 0.5808030303808839\n",
      " 10%|█         | 3/30 [00:05<00:49,  1.82s/it]"
     ]
    },
    {
     "name": "stdout",
     "output_type": "stream",
     "text": [
      "Epoch : 3, Validation Iteration : 1 , Loss : 1.115936279296875\n",
      "Epoch : 3, Validation Loss : 1.1184121370315552\n",
      "Epoch : 4, Iteration : 1 , Loss : 1.1091516017913818\n",
      "Epoch : 4, Iteration : 11 , Loss : 1.1211624145507812\n",
      "Epoch : 4, Iteration : 21 , Loss : 1.1160025596618652\n",
      "Epoch : 4, Iteration : 31 , Loss : 1.1205549240112305\n",
      "Epoch : 4, Iteration : 41 , Loss : 1.1200988292694092\n",
      "Epoch : 4, Iteration : 51 , Loss : 1.1163145303726196\n"
     ]
    },
    {
     "name": "stderr",
     "output_type": "stream",
     "text": [
      "INFO:root:Evaluating accuracy on dev set\n"
     ]
    },
    {
     "name": "stdout",
     "output_type": "stream",
     "text": [
      "Epoch : 4, Iteration : 61 , Loss : 1.110506296157837\n",
      "Epoch : 4 , Loss : 1.1163230892540752\n"
     ]
    },
    {
     "name": "stderr",
     "output_type": "stream",
     "text": [
      "INFO:root:new model saved\n",
      "INFO:root:Train loss: 1.1163230892540752 - acc: 0.6487234378995202 -- Validation loss: 1.1175932032721383 - acc: 0.5871885520210397\n",
      " 13%|█▎        | 4/30 [00:07<00:47,  1.82s/it]"
     ]
    },
    {
     "name": "stdout",
     "output_type": "stream",
     "text": [
      "Epoch : 4, Validation Iteration : 1 , Loss : 1.1160619258880615\n",
      "Epoch : 4, Validation Loss : 1.1175932032721383\n",
      "Epoch : 5, Iteration : 1 , Loss : 1.108175277709961\n",
      "Epoch : 5, Iteration : 11 , Loss : 1.1186699867248535\n",
      "Epoch : 5, Iteration : 21 , Loss : 1.1152477264404297\n",
      "Epoch : 5, Iteration : 31 , Loss : 1.1191831827163696\n",
      "Epoch : 5, Iteration : 41 , Loss : 1.1176927089691162\n",
      "Epoch : 5, Iteration : 51 , Loss : 1.1154115200042725\n"
     ]
    },
    {
     "name": "stderr",
     "output_type": "stream",
     "text": [
      "INFO:root:Evaluating accuracy on dev set\n"
     ]
    },
    {
     "name": "stdout",
     "output_type": "stream",
     "text": [
      "Epoch : 5, Iteration : 61 , Loss : 1.1097887754440308\n",
      "Epoch : 5 , Loss : 1.1145484983057217\n"
     ]
    },
    {
     "name": "stderr",
     "output_type": "stream",
     "text": [
      "INFO:root:new model saved\n",
      "INFO:root:Train loss: 1.1145484983057217 - acc: 0.6702231931202132 -- Validation loss: 1.117080909865243 - acc: 0.5890182248278344\n",
      " 17%|█▋        | 5/30 [00:09<00:45,  1.82s/it]"
     ]
    },
    {
     "name": "stdout",
     "output_type": "stream",
     "text": [
      "Epoch : 5, Validation Iteration : 1 , Loss : 1.1161792278289795\n",
      "Epoch : 5, Validation Loss : 1.117080909865243\n",
      "Epoch : 6, Iteration : 1 , Loss : 1.1072092056274414\n",
      "Epoch : 6, Iteration : 11 , Loss : 1.1164631843566895\n",
      "Epoch : 6, Iteration : 21 , Loss : 1.114750623703003\n",
      "Epoch : 6, Iteration : 31 , Loss : 1.1181443929672241\n",
      "Epoch : 6, Iteration : 41 , Loss : 1.1156052350997925\n",
      "Epoch : 6, Iteration : 51 , Loss : 1.11446213722229\n"
     ]
    },
    {
     "name": "stderr",
     "output_type": "stream",
     "text": [
      "INFO:root:Evaluating accuracy on dev set\n"
     ]
    },
    {
     "name": "stdout",
     "output_type": "stream",
     "text": [
      "Epoch : 6, Iteration : 61 , Loss : 1.109208106994629\n",
      "Epoch : 6 , Loss : 1.113164098366447\n"
     ]
    },
    {
     "name": "stderr",
     "output_type": "stream",
     "text": [
      "INFO:root:new model saved\n",
      "INFO:root:Train loss: 1.113164098366447 - acc: 0.68763800345346 -- Validation loss: 1.1167645454406738 - acc: 0.5913264811031372\n",
      " 20%|██        | 6/30 [00:10<00:43,  1.82s/it]"
     ]
    },
    {
     "name": "stdout",
     "output_type": "stream",
     "text": [
      "Epoch : 6, Validation Iteration : 1 , Loss : 1.1164486408233643\n",
      "Epoch : 6, Validation Loss : 1.1167645454406738\n",
      "Epoch : 7, Iteration : 1 , Loss : 1.1064021587371826\n",
      "Epoch : 7, Iteration : 11 , Loss : 1.1147210597991943\n",
      "Epoch : 7, Iteration : 21 , Loss : 1.1138966083526611\n",
      "Epoch : 7, Iteration : 31 , Loss : 1.1172250509262085\n",
      "Epoch : 7, Iteration : 41 , Loss : 1.1139202117919922\n",
      "Epoch : 7, Iteration : 51 , Loss : 1.1136133670806885\n"
     ]
    },
    {
     "name": "stderr",
     "output_type": "stream",
     "text": [
      "INFO:root:Evaluating accuracy on dev set\n"
     ]
    },
    {
     "name": "stdout",
     "output_type": "stream",
     "text": [
      "Epoch : 7, Iteration : 61 , Loss : 1.1083462238311768\n",
      "Epoch : 7 , Loss : 1.1120408721592114\n"
     ]
    },
    {
     "name": "stderr",
     "output_type": "stream",
     "text": [
      "INFO:root:new model saved\n",
      "INFO:root:Train loss: 1.1120408721592114 - acc: 0.7022156512870313 -- Validation loss: 1.1164409603391374 - acc: 0.5934916467722585\n",
      " 23%|██▎       | 7/30 [00:12<00:41,  1.82s/it]"
     ]
    },
    {
     "name": "stdout",
     "output_type": "stream",
     "text": [
      "Epoch : 7, Validation Iteration : 1 , Loss : 1.1162910461425781\n",
      "Epoch : 7, Validation Loss : 1.1164409603391374\n",
      "Epoch : 8, Iteration : 1 , Loss : 1.1055653095245361\n",
      "Epoch : 8, Iteration : 11 , Loss : 1.1132292747497559\n",
      "Epoch : 8, Iteration : 21 , Loss : 1.1133522987365723\n",
      "Epoch : 8, Iteration : 31 , Loss : 1.1163060665130615\n",
      "Epoch : 8, Iteration : 41 , Loss : 1.1124331951141357\n",
      "Epoch : 8, Iteration : 51 , Loss : 1.1129285097122192\n"
     ]
    },
    {
     "name": "stderr",
     "output_type": "stream",
     "text": [
      "INFO:root:Evaluating accuracy on dev set\n"
     ]
    },
    {
     "name": "stdout",
     "output_type": "stream",
     "text": [
      "Epoch : 8, Iteration : 61 , Loss : 1.107668161392212\n",
      "Epoch : 8 , Loss : 1.1110837027646494\n"
     ]
    },
    {
     "name": "stderr",
     "output_type": "stream",
     "text": [
      "INFO:root:new model saved\n",
      "INFO:root:Train loss: 1.1110837027646494 - acc: 0.714400706407328 -- Validation loss: 1.1161856310708183 - acc: 0.5950137078413801\n",
      " 27%|██▋       | 8/30 [00:14<00:39,  1.82s/it]"
     ]
    },
    {
     "name": "stdout",
     "output_type": "stream",
     "text": [
      "Epoch : 8, Validation Iteration : 1 , Loss : 1.11617112159729\n",
      "Epoch : 8, Validation Loss : 1.1161856310708183\n",
      "Epoch : 9, Iteration : 1 , Loss : 1.1049069166183472\n",
      "Epoch : 9, Iteration : 11 , Loss : 1.1119838953018188\n",
      "Epoch : 9, Iteration : 21 , Loss : 1.1126081943511963\n",
      "Epoch : 9, Iteration : 31 , Loss : 1.1153912544250488\n",
      "Epoch : 9, Iteration : 41 , Loss : 1.1110386848449707\n",
      "Epoch : 9, Iteration : 51 , Loss : 1.1121635437011719\n"
     ]
    },
    {
     "name": "stderr",
     "output_type": "stream",
     "text": [
      "INFO:root:Evaluating accuracy on dev set\n"
     ]
    },
    {
     "name": "stdout",
     "output_type": "stream",
     "text": [
      "Epoch : 9, Iteration : 61 , Loss : 1.1069329977035522\n",
      "Epoch : 9 , Loss : 1.110199983569159\n"
     ]
    },
    {
     "name": "stderr",
     "output_type": "stream",
     "text": [
      "INFO:root:new model saved\n",
      "INFO:root:Train loss: 1.110199983569159 - acc: 0.7250393413701579 -- Validation loss: 1.115946922983442 - acc: 0.5954246415747548\n",
      " 30%|███       | 9/30 [00:16<00:38,  1.82s/it]"
     ]
    },
    {
     "name": "stdout",
     "output_type": "stream",
     "text": [
      "Epoch : 9, Validation Iteration : 1 , Loss : 1.1160584688186646\n",
      "Epoch : 9, Validation Loss : 1.115946922983442\n",
      "Epoch : 10, Iteration : 1 , Loss : 1.1041052341461182\n",
      "Epoch : 10, Iteration : 11 , Loss : 1.110732913017273\n",
      "Epoch : 10, Iteration : 21 , Loss : 1.1118276119232178\n",
      "Epoch : 10, Iteration : 31 , Loss : 1.1142120361328125\n",
      "Epoch : 10, Iteration : 41 , Loss : 1.109267234802246\n",
      "Epoch : 10, Iteration : 51 , Loss : 1.1106055974960327\n"
     ]
    },
    {
     "name": "stderr",
     "output_type": "stream",
     "text": [
      "INFO:root:Evaluating accuracy on dev set\n"
     ]
    },
    {
     "name": "stdout",
     "output_type": "stream",
     "text": [
      "Epoch : 10, Iteration : 61 , Loss : 1.1046533584594727\n",
      "Epoch : 10 , Loss : 1.1086408003516819\n"
     ]
    },
    {
     "name": "stderr",
     "output_type": "stream",
     "text": [
      "INFO:root:new model saved\n",
      "INFO:root:Train loss: 1.1086408003516819 - acc: 0.7343267399905627 -- Validation loss: 1.112159252166748 - acc: 0.5966884970504955\n",
      " 33%|███▎      | 10/30 [00:18<00:36,  1.81s/it]"
     ]
    },
    {
     "name": "stdout",
     "output_type": "stream",
     "text": [
      "Epoch : 10, Validation Iteration : 1 , Loss : 1.1128742694854736\n",
      "Epoch : 10, Validation Loss : 1.112159252166748\n",
      "Epoch : 11, Iteration : 1 , Loss : 1.0997133255004883\n",
      "Epoch : 11, Iteration : 11 , Loss : 1.1009407043457031\n",
      "Epoch : 11, Iteration : 21 , Loss : 1.0959635972976685\n",
      "Epoch : 11, Iteration : 31 , Loss : 1.0943527221679688\n",
      "Epoch : 11, Iteration : 41 , Loss : 1.0852725505828857\n",
      "Epoch : 11, Iteration : 51 , Loss : 1.0851303339004517\n"
     ]
    },
    {
     "name": "stderr",
     "output_type": "stream",
     "text": [
      "INFO:root:Evaluating accuracy on dev set\n"
     ]
    },
    {
     "name": "stdout",
     "output_type": "stream",
     "text": [
      "Epoch : 11, Iteration : 61 , Loss : 1.0774850845336914\n",
      "Epoch : 11 , Loss : 1.0894443902416506\n"
     ]
    },
    {
     "name": "stderr",
     "output_type": "stream",
     "text": [
      "INFO:root:Train loss: 1.0894443902416506 - acc: 0.7301846955071182 -- Validation loss: 1.086044158254351 - acc: 0.5910032890838429\n",
      " 37%|███▋      | 11/30 [00:19<00:34,  1.80s/it]"
     ]
    },
    {
     "name": "stdout",
     "output_type": "stream",
     "text": [
      "Epoch : 11, Validation Iteration : 1 , Loss : 1.0879583358764648\n",
      "Epoch : 11, Validation Loss : 1.086044158254351\n",
      "Epoch : 12, Iteration : 1 , Loss : 1.073539137840271\n",
      "Epoch : 12, Iteration : 11 , Loss : 1.0789662599563599\n",
      "Epoch : 12, Iteration : 21 , Loss : 1.078343152999878\n",
      "Epoch : 12, Iteration : 31 , Loss : 1.0787787437438965\n",
      "Epoch : 12, Iteration : 41 , Loss : 1.0708683729171753\n",
      "Epoch : 12, Iteration : 51 , Loss : 1.0733712911605835\n"
     ]
    },
    {
     "name": "stderr",
     "output_type": "stream",
     "text": [
      "INFO:root:Evaluating accuracy on dev set\n"
     ]
    },
    {
     "name": "stdout",
     "output_type": "stream",
     "text": [
      "Epoch : 12, Iteration : 61 , Loss : 1.065805435180664\n",
      "Epoch : 12 , Loss : 1.0732328079748845\n"
     ]
    },
    {
     "name": "stderr",
     "output_type": "stream",
     "text": [
      "INFO:root:Train loss: 1.0732328079748845 - acc: 0.7410216922406061 -- Validation loss: 1.0721216712679182 - acc: 0.5902864305792541\n",
      " 40%|████      | 12/30 [00:21<00:32,  1.79s/it]"
     ]
    },
    {
     "name": "stdout",
     "output_type": "stream",
     "text": [
      "Epoch : 12, Validation Iteration : 1 , Loss : 1.0733551979064941\n",
      "Epoch : 12, Validation Loss : 1.0721216712679182\n",
      "Epoch : 13, Iteration : 1 , Loss : 1.0591812133789062\n",
      "Epoch : 13, Iteration : 11 , Loss : 1.0622676610946655\n",
      "Epoch : 13, Iteration : 21 , Loss : 1.0588569641113281\n",
      "Epoch : 13, Iteration : 31 , Loss : 1.0560455322265625\n",
      "Epoch : 13, Iteration : 41 , Loss : 1.043654441833496\n",
      "Epoch : 13, Iteration : 51 , Loss : 1.041722059249878\n"
     ]
    },
    {
     "name": "stderr",
     "output_type": "stream",
     "text": [
      "INFO:root:Evaluating accuracy on dev set\n"
     ]
    },
    {
     "name": "stdout",
     "output_type": "stream",
     "text": [
      "Epoch : 13, Iteration : 61 , Loss : 1.0260212421417236\n",
      "Epoch : 13 , Loss : 1.0471244428468787\n"
     ]
    },
    {
     "name": "stderr",
     "output_type": "stream",
     "text": [
      "INFO:root:new model saved\n",
      "INFO:root:Train loss: 1.0471244428468787 - acc: 0.7398479688864309 -- Validation loss: 1.0262679883411951 - acc: 0.605682993189859\n",
      " 43%|████▎     | 13/30 [00:23<00:30,  1.80s/it]"
     ]
    },
    {
     "name": "stdout",
     "output_type": "stream",
     "text": [
      "Epoch : 13, Validation Iteration : 1 , Loss : 1.0257697105407715\n",
      "Epoch : 13, Validation Loss : 1.0262679883411951\n",
      "Epoch : 14, Iteration : 1 , Loss : 1.0155048370361328\n",
      "Epoch : 14, Iteration : 11 , Loss : 1.0129550695419312\n",
      "Epoch : 14, Iteration : 21 , Loss : 1.003396987915039\n",
      "Epoch : 14, Iteration : 31 , Loss : 0.9969546794891357\n",
      "Epoch : 14, Iteration : 41 , Loss : 0.9809479117393494\n",
      "Epoch : 14, Iteration : 51 , Loss : 0.9788393974304199\n",
      "Epoch : 14, Iteration : 61 , Loss : 0.9639615416526794\n",
      "Epoch : 14 , Loss : 0.9890998144080674\n"
     ]
    },
    {
     "name": "stderr",
     "output_type": "stream",
     "text": [
      "INFO:root:Evaluating accuracy on dev set\n",
      "INFO:root:Train loss: 0.9890998144080674 - acc: 0.7310104800869526 -- Validation loss: 0.9639975428581238 - acc: 0.5944681832712276\n",
      " 47%|████▋     | 14/30 [00:25<00:28,  1.79s/it]"
     ]
    },
    {
     "name": "stdout",
     "output_type": "stream",
     "text": [
      "Epoch : 14, Validation Iteration : 1 , Loss : 0.9649350047111511\n",
      "Epoch : 14, Validation Loss : 0.9639975428581238\n",
      "Epoch : 15, Iteration : 1 , Loss : 0.9514694213867188\n",
      "Epoch : 15, Iteration : 11 , Loss : 0.9477239847183228\n",
      "Epoch : 15, Iteration : 21 , Loss : 0.9384802579879761\n",
      "Epoch : 15, Iteration : 31 , Loss : 0.930662989616394\n",
      "Epoch : 15, Iteration : 41 , Loss : 0.9129348993301392\n",
      "Epoch : 15, Iteration : 51 , Loss : 0.908216655254364\n",
      "Epoch : 15, Iteration : 61 , Loss : 0.8924888372421265\n",
      "Epoch : 15 , Loss : 0.9219277863917144\n"
     ]
    },
    {
     "name": "stderr",
     "output_type": "stream",
     "text": [
      "INFO:root:Evaluating accuracy on dev set\n",
      "INFO:root:Train loss: 0.9219277863917144 - acc: 0.7444510329331194 -- Validation loss: 0.8935453466006688 - acc: 0.5847624505219988\n",
      " 50%|█████     | 15/30 [00:27<00:26,  1.78s/it]"
     ]
    },
    {
     "name": "stdout",
     "output_type": "stream",
     "text": [
      "Epoch : 15, Validation Iteration : 1 , Loss : 0.8955368995666504\n",
      "Epoch : 15, Validation Loss : 0.8935453466006688\n",
      "Epoch : 16, Iteration : 1 , Loss : 0.8793587684631348\n",
      "Epoch : 16, Iteration : 11 , Loss : 0.8760188221931458\n",
      "Epoch : 16, Iteration : 21 , Loss : 0.8684710264205933\n",
      "Epoch : 16, Iteration : 31 , Loss : 0.8630051612854004\n",
      "Epoch : 16, Iteration : 41 , Loss : 0.8485149145126343\n",
      "Epoch : 16, Iteration : 51 , Loss : 0.8479031324386597\n"
     ]
    },
    {
     "name": "stderr",
     "output_type": "stream",
     "text": [
      "INFO:root:Evaluating accuracy on dev set\n"
     ]
    },
    {
     "name": "stdout",
     "output_type": "stream",
     "text": [
      "Epoch : 16, Iteration : 61 , Loss : 0.8359684944152832\n",
      "Epoch : 16 , Loss : 0.8566124223280644\n"
     ]
    },
    {
     "name": "stderr",
     "output_type": "stream",
     "text": [
      "INFO:root:Train loss: 0.8566124223280644 - acc: 0.7560403135696805 -- Validation loss: 0.8415450624057225 - acc: 0.5861776286640523\n",
      " 53%|█████▎    | 16/30 [00:28<00:24,  1.77s/it]"
     ]
    },
    {
     "name": "stdout",
     "output_type": "stream",
     "text": [
      "Epoch : 16, Validation Iteration : 1 , Loss : 0.8431005477905273\n",
      "Epoch : 16, Validation Loss : 0.8415450624057225\n",
      "Epoch : 17, Iteration : 1 , Loss : 0.827115535736084\n",
      "Epoch : 17, Iteration : 11 , Loss : 0.8287076950073242\n",
      "Epoch : 17, Iteration : 21 , Loss : 0.8243005871772766\n",
      "Epoch : 17, Iteration : 31 , Loss : 0.8217668533325195\n",
      "Epoch : 17, Iteration : 41 , Loss : 0.809683620929718\n",
      "Epoch : 17, Iteration : 51 , Loss : 0.8104254007339478\n"
     ]
    },
    {
     "name": "stderr",
     "output_type": "stream",
     "text": [
      "INFO:root:Evaluating accuracy on dev set\n"
     ]
    },
    {
     "name": "stdout",
     "output_type": "stream",
     "text": [
      "Epoch : 17, Iteration : 61 , Loss : 0.7995120286941528\n",
      "Epoch : 17 , Loss : 0.8149083334466686\n"
     ]
    },
    {
     "name": "stderr",
     "output_type": "stream",
     "text": [
      "INFO:root:Train loss: 0.8149083334466686 - acc: 0.7647886558948106 -- Validation loss: 0.8056603755269732 - acc: 0.5919335118786598\n",
      " 57%|█████▋    | 17/30 [00:30<00:23,  1.77s/it]"
     ]
    },
    {
     "name": "stdout",
     "output_type": "stream",
     "text": [
      "Epoch : 17, Validation Iteration : 1 , Loss : 0.8072423338890076\n",
      "Epoch : 17, Validation Loss : 0.8056603755269732\n",
      "Epoch : 18, Iteration : 1 , Loss : 0.7908515930175781\n",
      "Epoch : 18, Iteration : 11 , Loss : 0.7923992872238159\n",
      "Epoch : 18, Iteration : 21 , Loss : 0.7875242233276367\n",
      "Epoch : 18, Iteration : 31 , Loss : 0.7845650911331177\n",
      "Epoch : 18, Iteration : 41 , Loss : 0.7721799612045288\n",
      "Epoch : 18, Iteration : 51 , Loss : 0.7722315788269043\n"
     ]
    },
    {
     "name": "stderr",
     "output_type": "stream",
     "text": [
      "INFO:root:Evaluating accuracy on dev set\n"
     ]
    },
    {
     "name": "stdout",
     "output_type": "stream",
     "text": [
      "Epoch : 18, Iteration : 61 , Loss : 0.7616527080535889\n",
      "Epoch : 18 , Loss : 0.7777256956998853\n"
     ]
    },
    {
     "name": "stderr",
     "output_type": "stream",
     "text": [
      "INFO:root:Train loss: 0.7777256956998853 - acc: 0.7695269882377743 -- Validation loss: 0.7679984228951591 - acc: 0.5938700538290176\n",
      " 60%|██████    | 18/30 [00:32<00:21,  1.77s/it]"
     ]
    },
    {
     "name": "stdout",
     "output_type": "stream",
     "text": [
      "Epoch : 18, Validation Iteration : 1 , Loss : 0.7692147493362427\n",
      "Epoch : 18, Validation Loss : 0.7679984228951591\n",
      "Epoch : 19, Iteration : 1 , Loss : 0.7528725862503052\n",
      "Epoch : 19, Iteration : 11 , Loss : 0.7543197274208069\n",
      "Epoch : 19, Iteration : 21 , Loss : 0.7496442794799805\n",
      "Epoch : 19, Iteration : 31 , Loss : 0.7465701699256897\n",
      "Epoch : 19, Iteration : 41 , Loss : 0.7334750890731812\n",
      "Epoch : 19, Iteration : 51 , Loss : 0.734389066696167\n",
      "Epoch : 19, Iteration : 61 , Loss : 0.7247521877288818\n",
      "Epoch : 19 , Loss : 0.7397728294566057\n"
     ]
    },
    {
     "name": "stderr",
     "output_type": "stream",
     "text": [
      "INFO:root:Evaluating accuracy on dev set\n",
      "INFO:root:Train loss: 0.7397728294566057 - acc: 0.7732196421551814 -- Validation loss: 0.7311841164316449 - acc: 0.5914588633384166\n",
      " 63%|██████▎   | 19/30 [00:34<00:19,  1.77s/it]"
     ]
    },
    {
     "name": "stdout",
     "output_type": "stream",
     "text": [
      "Epoch : 19, Validation Iteration : 1 , Loss : 0.7320888638496399\n",
      "Epoch : 19, Validation Loss : 0.7311841164316449\n",
      "Epoch : 20, Iteration : 1 , Loss : 0.7157118320465088\n",
      "Epoch : 20, Iteration : 11 , Loss : 0.718106746673584\n",
      "Epoch : 20, Iteration : 21 , Loss : 0.7137083411216736\n",
      "Epoch : 20, Iteration : 31 , Loss : 0.7117018103599548\n",
      "Epoch : 20, Iteration : 41 , Loss : 0.6995812058448792\n",
      "Epoch : 20, Iteration : 51 , Loss : 0.7013739347457886\n"
     ]
    },
    {
     "name": "stderr",
     "output_type": "stream",
     "text": [
      "INFO:root:Evaluating accuracy on dev set\n"
     ]
    },
    {
     "name": "stdout",
     "output_type": "stream",
     "text": [
      "Epoch : 20, Iteration : 61 , Loss : 0.6935346126556396\n",
      "Epoch : 20 , Loss : 0.705683908600738\n"
     ]
    },
    {
     "name": "stderr",
     "output_type": "stream",
     "text": [
      "INFO:root:Train loss: 0.705683908600738 - acc: 0.7758105104186689 -- Validation loss: 0.7011785507202148 - acc: 0.5948234334759105\n",
      " 67%|██████▋   | 20/30 [00:35<00:17,  1.77s/it]"
     ]
    },
    {
     "name": "stdout",
     "output_type": "stream",
     "text": [
      "Epoch : 20, Validation Iteration : 1 , Loss : 0.701675295829773\n",
      "Epoch : 20, Validation Loss : 0.7011785507202148\n",
      "Epoch : 21, Iteration : 1 , Loss : 0.6858797073364258\n",
      "Epoch : 21, Iteration : 11 , Loss : 0.6902492046356201\n",
      "Epoch : 21, Iteration : 21 , Loss : 0.686609148979187\n",
      "Epoch : 21, Iteration : 31 , Loss : 0.68633633852005\n",
      "Epoch : 21, Iteration : 41 , Loss : 0.675079345703125\n",
      "Epoch : 21, Iteration : 51 , Loss : 0.6792162656784058\n"
     ]
    },
    {
     "name": "stderr",
     "output_type": "stream",
     "text": [
      "INFO:root:Evaluating accuracy on dev set\n"
     ]
    },
    {
     "name": "stdout",
     "output_type": "stream",
     "text": [
      "Epoch : 21, Iteration : 61 , Loss : 0.6722424030303955\n",
      "Epoch : 21 , Loss : 0.6806432112403538\n"
     ]
    },
    {
     "name": "stderr",
     "output_type": "stream",
     "text": [
      "INFO:root:Train loss: 0.6806432112403538 - acc: 0.778657653849471 -- Validation loss: 0.6805417367390224 - acc: 0.5953413839909897\n",
      " 70%|███████   | 21/30 [00:37<00:15,  1.77s/it]"
     ]
    },
    {
     "name": "stdout",
     "output_type": "stream",
     "text": [
      "Epoch : 21, Validation Iteration : 1 , Loss : 0.6809143424034119\n",
      "Epoch : 21, Validation Loss : 0.6805417367390224\n",
      "Epoch : 22, Iteration : 1 , Loss : 0.6650296449661255\n",
      "Epoch : 22, Iteration : 11 , Loss : 0.6702485084533691\n",
      "Epoch : 22, Iteration : 21 , Loss : 0.6677168607711792\n",
      "Epoch : 22, Iteration : 31 , Loss : 0.6685618162155151\n",
      "Epoch : 22, Iteration : 41 , Loss : 0.6577937602996826\n",
      "Epoch : 22, Iteration : 51 , Loss : 0.6629459857940674\n"
     ]
    },
    {
     "name": "stderr",
     "output_type": "stream",
     "text": [
      "INFO:root:Evaluating accuracy on dev set\n"
     ]
    },
    {
     "name": "stdout",
     "output_type": "stream",
     "text": [
      "Epoch : 22, Iteration : 61 , Loss : 0.6568455696105957\n",
      "Epoch : 22 , Loss : 0.6628531347150388\n"
     ]
    },
    {
     "name": "stderr",
     "output_type": "stream",
     "text": [
      "INFO:root:Train loss: 0.6628531347150388 - acc: 0.78013925954244 -- Validation loss: 0.6658215011869159 - acc: 0.5823497207030808\n",
      " 73%|███████▎  | 22/30 [00:39<00:14,  1.77s/it]"
     ]
    },
    {
     "name": "stdout",
     "output_type": "stream",
     "text": [
      "Epoch : 22, Validation Iteration : 1 , Loss : 0.6666122674942017\n",
      "Epoch : 22, Validation Loss : 0.6658215011869159\n",
      "Epoch : 23, Iteration : 1 , Loss : 0.6494312882423401\n",
      "Epoch : 23, Iteration : 11 , Loss : 0.6554893851280212\n",
      "Epoch : 23, Iteration : 21 , Loss : 0.6532474160194397\n",
      "Epoch : 23, Iteration : 31 , Loss : 0.6550168991088867\n",
      "Epoch : 23, Iteration : 41 , Loss : 0.644668459892273\n",
      "Epoch : 23, Iteration : 51 , Loss : 0.6496819853782654\n",
      "Epoch : 23, Iteration : 61 , Loss : 0.643487811088562\n",
      "Epoch : 23 , Loss : 0.6490405063698257\n"
     ]
    },
    {
     "name": "stderr",
     "output_type": "stream",
     "text": [
      "INFO:root:Evaluating accuracy on dev set\n",
      "INFO:root:Train loss: 0.6490405063698257 - acc: 0.7810970743561533 -- Validation loss: 0.6527852841785976 - acc: 0.5929032887184967\n",
      " 77%|███████▋  | 23/30 [00:41<00:12,  1.77s/it]"
     ]
    },
    {
     "name": "stdout",
     "output_type": "stream",
     "text": [
      "Epoch : 23, Validation Iteration : 1 , Loss : 0.6525810956954956\n",
      "Epoch : 23, Validation Loss : 0.6527852841785976\n",
      "Epoch : 24, Iteration : 1 , Loss : 0.6366031169891357\n",
      "Epoch : 24, Iteration : 11 , Loss : 0.6429305076599121\n",
      "Epoch : 24, Iteration : 21 , Loss : 0.6413974165916443\n",
      "Epoch : 24, Iteration : 31 , Loss : 0.6433992385864258\n",
      "Epoch : 24, Iteration : 41 , Loss : 0.6328802108764648\n",
      "Epoch : 24, Iteration : 51 , Loss : 0.6383729577064514\n"
     ]
    },
    {
     "name": "stderr",
     "output_type": "stream",
     "text": [
      "INFO:root:Evaluating accuracy on dev set\n"
     ]
    },
    {
     "name": "stdout",
     "output_type": "stream",
     "text": [
      "Epoch : 24, Iteration : 61 , Loss : 0.6324015855789185\n",
      "Epoch : 24 , Loss : 0.6371141283408456\n"
     ]
    },
    {
     "name": "stderr",
     "output_type": "stream",
     "text": [
      "INFO:root:Train loss: 0.6371141283408456 - acc: 0.7821737882899329 -- Validation loss: 0.6426523412976947 - acc: 0.5854130509816301\n",
      " 80%|████████  | 24/30 [00:42<00:10,  1.77s/it]"
     ]
    },
    {
     "name": "stdout",
     "output_type": "stream",
     "text": [
      "Epoch : 24, Validation Iteration : 1 , Loss : 0.6445192098617554\n",
      "Epoch : 24, Validation Loss : 0.6426523412976947\n",
      "Epoch : 25, Iteration : 1 , Loss : 0.6265929937362671\n",
      "Epoch : 25, Iteration : 11 , Loss : 0.6329814195632935\n",
      "Epoch : 25, Iteration : 21 , Loss : 0.6305122375488281\n",
      "Epoch : 25, Iteration : 31 , Loss : 0.6325969696044922\n",
      "Epoch : 25, Iteration : 41 , Loss : 0.623469352722168\n",
      "Epoch : 25, Iteration : 51 , Loss : 0.629300594329834\n"
     ]
    },
    {
     "name": "stderr",
     "output_type": "stream",
     "text": [
      "INFO:root:Evaluating accuracy on dev set\n"
     ]
    },
    {
     "name": "stdout",
     "output_type": "stream",
     "text": [
      "Epoch : 25, Iteration : 61 , Loss : 0.6233224868774414\n",
      "Epoch : 25 , Loss : 0.627484943555749\n"
     ]
    },
    {
     "name": "stderr",
     "output_type": "stream",
     "text": [
      "INFO:root:Train loss: 0.627484943555749 - acc: 0.7800004624903779 -- Validation loss: 0.6340609107698713 - acc: 0.5787096107968077\n",
      " 83%|████████▎ | 25/30 [00:44<00:08,  1.77s/it]"
     ]
    },
    {
     "name": "stdout",
     "output_type": "stream",
     "text": [
      "Epoch : 25, Validation Iteration : 1 , Loss : 0.6357380747795105\n",
      "Epoch : 25, Validation Loss : 0.6340609107698713\n",
      "Epoch : 26, Iteration : 1 , Loss : 0.6172642707824707\n",
      "Epoch : 26, Iteration : 11 , Loss : 0.6237032413482666\n",
      "Epoch : 26, Iteration : 21 , Loss : 0.6218132972717285\n",
      "Epoch : 26, Iteration : 31 , Loss : 0.6240153312683105\n",
      "Epoch : 26, Iteration : 41 , Loss : 0.6147478818893433\n",
      "Epoch : 26, Iteration : 51 , Loss : 0.6206116676330566\n"
     ]
    },
    {
     "name": "stderr",
     "output_type": "stream",
     "text": [
      "INFO:root:Evaluating accuracy on dev set\n"
     ]
    },
    {
     "name": "stdout",
     "output_type": "stream",
     "text": [
      "Epoch : 26, Iteration : 61 , Loss : 0.6153455972671509\n",
      "Epoch : 26 , Loss : 0.6189213256905044\n"
     ]
    },
    {
     "name": "stderr",
     "output_type": "stream",
     "text": [
      "INFO:root:Train loss: 0.6189213256905044 - acc: 0.784718677222912 -- Validation loss: 0.6261657391275678 - acc: 0.5875788859239328\n",
      " 87%|████████▋ | 26/30 [00:46<00:07,  1.76s/it]"
     ]
    },
    {
     "name": "stdout",
     "output_type": "stream",
     "text": [
      "Epoch : 26, Validation Iteration : 1 , Loss : 0.6285771131515503\n",
      "Epoch : 26, Validation Loss : 0.6261657391275678\n",
      "Epoch : 27, Iteration : 1 , Loss : 0.6097102165222168\n",
      "Epoch : 27, Iteration : 11 , Loss : 0.6165125370025635\n",
      "Epoch : 27, Iteration : 21 , Loss : 0.6153380274772644\n",
      "Epoch : 27, Iteration : 31 , Loss : 0.6179952621459961\n",
      "Epoch : 27, Iteration : 41 , Loss : 0.6089301109313965\n",
      "Epoch : 27, Iteration : 51 , Loss : 0.6151905655860901\n"
     ]
    },
    {
     "name": "stderr",
     "output_type": "stream",
     "text": [
      "INFO:root:Evaluating accuracy on dev set\n"
     ]
    },
    {
     "name": "stdout",
     "output_type": "stream",
     "text": [
      "Epoch : 27, Iteration : 61 , Loss : 0.6105602979660034\n",
      "Epoch : 27 , Loss : 0.61288180904112\n"
     ]
    },
    {
     "name": "stderr",
     "output_type": "stream",
     "text": [
      "INFO:root:Train loss: 0.61288180904112 - acc: 0.7863521930379647 -- Validation loss: 0.6213671479906354 - acc: 0.5790785811017092\n",
      " 90%|█████████ | 27/30 [00:48<00:05,  1.76s/it]"
     ]
    },
    {
     "name": "stdout",
     "output_type": "stream",
     "text": [
      "Epoch : 27, Validation Iteration : 1 , Loss : 0.6222326755523682\n",
      "Epoch : 27, Validation Loss : 0.6213671479906354\n",
      "Epoch : 28, Iteration : 1 , Loss : 0.6047989130020142\n",
      "Epoch : 28, Iteration : 11 , Loss : 0.6116786003112793\n",
      "Epoch : 28, Iteration : 21 , Loss : 0.6104869842529297\n",
      "Epoch : 28, Iteration : 31 , Loss : 0.6131879687309265\n",
      "Epoch : 28, Iteration : 41 , Loss : 0.6040588617324829\n",
      "Epoch : 28, Iteration : 51 , Loss : 0.6098788976669312\n"
     ]
    },
    {
     "name": "stderr",
     "output_type": "stream",
     "text": [
      "INFO:root:Evaluating accuracy on dev set\n"
     ]
    },
    {
     "name": "stdout",
     "output_type": "stream",
     "text": [
      "Epoch : 28, Iteration : 61 , Loss : 0.6060851812362671\n",
      "Epoch : 28 , Loss : 0.6080427187076514\n"
     ]
    },
    {
     "name": "stderr",
     "output_type": "stream",
     "text": [
      "INFO:root:Train loss: 0.6080427187076514 - acc: 0.7891553884026433 -- Validation loss: 0.6164525491850716 - acc: 0.5928769862824681\n",
      " 93%|█████████▎| 28/30 [00:50<00:03,  1.76s/it]"
     ]
    },
    {
     "name": "stdout",
     "output_type": "stream",
     "text": [
      "Epoch : 28, Validation Iteration : 1 , Loss : 0.6179928779602051\n",
      "Epoch : 28, Validation Loss : 0.6164525491850716\n",
      "Epoch : 29, Iteration : 1 , Loss : 0.5998921394348145\n",
      "Epoch : 29, Iteration : 11 , Loss : 0.6073523759841919\n",
      "Epoch : 29, Iteration : 21 , Loss : 0.6060395240783691\n",
      "Epoch : 29, Iteration : 31 , Loss : 0.6090831756591797\n",
      "Epoch : 29, Iteration : 41 , Loss : 0.60045325756073\n",
      "Epoch : 29, Iteration : 51 , Loss : 0.6065328121185303\n"
     ]
    },
    {
     "name": "stderr",
     "output_type": "stream",
     "text": [
      "INFO:root:Evaluating accuracy on dev set\n"
     ]
    },
    {
     "name": "stdout",
     "output_type": "stream",
     "text": [
      "Epoch : 29, Iteration : 61 , Loss : 0.6020541191101074\n",
      "Epoch : 29 , Loss : 0.6037813459617504\n"
     ]
    },
    {
     "name": "stderr",
     "output_type": "stream",
     "text": [
      "INFO:root:Train loss: 0.6037813459617504 - acc: 0.7914443885794548 -- Validation loss: 0.6134417653083801 - acc: 0.5866266440414482\n",
      " 97%|█████████▋| 29/30 [00:51<00:01,  1.76s/it]"
     ]
    },
    {
     "name": "stdout",
     "output_type": "stream",
     "text": [
      "Epoch : 29, Validation Iteration : 1 , Loss : 0.6141866445541382\n",
      "Epoch : 29, Validation Loss : 0.6134417653083801\n",
      "Epoch : 30, Iteration : 1 , Loss : 0.5962571501731873\n",
      "Epoch : 30, Iteration : 11 , Loss : 0.6032271385192871\n",
      "Epoch : 30, Iteration : 21 , Loss : 0.6019928455352783\n",
      "Epoch : 30, Iteration : 31 , Loss : 0.605195164680481\n",
      "Epoch : 30, Iteration : 41 , Loss : 0.5967926979064941\n",
      "Epoch : 30, Iteration : 51 , Loss : 0.6027363538742065\n"
     ]
    },
    {
     "name": "stderr",
     "output_type": "stream",
     "text": [
      "INFO:root:Evaluating accuracy on dev set\n"
     ]
    },
    {
     "name": "stdout",
     "output_type": "stream",
     "text": [
      "Epoch : 30, Iteration : 61 , Loss : 0.5983301401138306\n",
      "Epoch : 30 , Loss : 0.6000810619713604\n"
     ]
    },
    {
     "name": "stderr",
     "output_type": "stream",
     "text": [
      "INFO:root:Train loss: 0.6000810619713604 - acc: 0.7941718892473039 -- Validation loss: 0.609944828919002 - acc: 0.5818865167342394\n",
      "100%|██████████| 30/30 [00:53<00:00,  1.78s/it]"
     ]
    },
    {
     "name": "stdout",
     "output_type": "stream",
     "text": [
      "Epoch : 30, Validation Iteration : 1 , Loss : 0.6118080615997314\n",
      "Epoch : 30, Validation Loss : 0.609944828919002\n",
      "Total minutes to train : 0.8921885833333333\n",
      "Average minutes per epoch : 0.02973961944444444\n"
     ]
    },
    {
     "name": "stderr",
     "output_type": "stream",
     "text": [
      "\n"
     ]
    }
   ],
   "source": [
    "from datetime import datetime\n",
    "siamese_lstm_attention = SiameseBiLSTMAttention(\n",
    "                batch_size=batch_size,\n",
    "                output_size=output_size,\n",
    "                hidden_size=best_hidden_size,\n",
    "                vocab_size=vocab_size,\n",
    "                embedding_size=embedding_size,\n",
    "                embedding_weights=embedding_weights,\n",
    "                lstm_layers=best_lstm_layers,\n",
    "                self_attention_config=self_attention_config,\n",
    "                fc_hidden_size=fc_hidden_size,\n",
    "                device=device,\n",
    "                bidirectional=bidirectional,\n",
    "            )\n",
    "siamese_lstm_attention.to(device)\n",
    "            #hyperparamter training\n",
    "optimizer = torch.optim.Adam(list(siamese_lstm_attention.parameters()), lr = best_learning_rate)\n",
    "start_time = datetime.now()\n",
    "_ = train_model(\n",
    "                model=siamese_lstm_attention,\n",
    "                optimizer=optimizer,\n",
    "                dataloader=sick_dataloaders,\n",
    "                data=sick_data,\n",
    "                max_epochs=max_epochs,\n",
    "                config_dict={\n",
    "                    \"device\": device,\n",
    "                    \"model_name\": \"siamese_lstm_attention\",\n",
    "                    \"self_attention_config\": self_attention_config,\n",
    "                },\n",
    "            )\n",
    "end_time = datetime.now()\n",
    "time_difference = end_time - start_time \n",
    "seconds = time_difference.total_seconds()\n",
    "minutes = seconds / 60\n",
    "epoch_minutes = minutes / max_epochs\n",
    "\n",
    "print('Total minutes to train : '+str(minutes))\n",
    "print('Average minutes per epoch : '+str(epoch_minutes))"
   ]
  },
  {
   "cell_type": "markdown",
   "id": "47fe9cef",
   "metadata": {
    "id": "47fe9cef"
   },
   "source": [
    "## Part 4. Evaluation and Analysis (2 points)  \n",
    "Implement function evaluate_test_set to calculate the final accuracy of the performance evaluation metric on the test data.  \n",
    "Compare the result with the original AAAI paper. Сomment on effect of penalty loss on model capacity. Did the inclusion of the self-attention block improve the results? If yes, then how? Can you think of additional techniques to improve the results? Briefly answer these questions in the markdown cells."
   ]
  },
  {
   "cell_type": "code",
   "execution_count": 15,
   "id": "143154f6",
   "metadata": {
    "colab": {
     "base_uri": "https://localhost:8080/"
    },
    "executionInfo": {
     "elapsed": 425,
     "status": "ok",
     "timestamp": 1647028271793,
     "user": {
      "displayName": "Faria Alam",
      "photoUrl": "https://lh3.googleusercontent.com/a-/AOh14GgA-IA0pDrCGKBsIUIuXVLu5X2mFDhecwjQ6LIp=s64",
      "userId": "01141680939008758463"
     },
     "user_tz": -60
    },
    "id": "143154f6",
    "outputId": "e89d5a2c-2f50-4ffb-c3a2-615c751b8529"
   },
   "outputs": [
    {
     "name": "stderr",
     "output_type": "stream",
     "text": [
      "INFO:root:Evaluating accuracy on test set\n"
     ]
    },
    {
     "name": "stdout",
     "output_type": "stream",
     "text": [
      "Spearman Correlation : 0.6020277058525634\n",
      "Pearson Correlation : 0.6794484079899329\n",
      "Mean Squared Error : 0.02382063865661621\n"
     ]
    }
   ],
   "source": [
    "evaluate_test_set(\n",
    "    model=siamese_lstm_attention,\n",
    "    dataloader=sick_dataloaders,\n",
    "    config_dict={\n",
    "        \"device\": device,\n",
    "        \"self_attention_config\": self_attention_config,\n",
    "        \"model_name\": \"siamese_lstm_attention.pth\"\n",
    "    },\n",
    ")"
   ]
  },
  {
   "cell_type": "markdown",
   "id": "OU2Nz0JU__f7",
   "metadata": {
    "id": "OU2Nz0JU__f7"
   },
   "source": [
    "     \n",
    "     We are reporting spearman correlation, pearson correlation and MSE loss on the test set in Table 1. From numbers of the table it is clear that self-attention mechanism helps the bilstm model to improve the performance by several percent. Even it reduces the MSE loss on the test set as well. Attentions helps the model to focus on some  particular part of the sentence which will help the model to generate a relatedness score which is similar to the actual relatedness score.Penalty loss is working as a regularizer here. For the second model reported in the table this regularizer has significant positive effect which is backed the scores from the table.  But if we compare the results with the AAAI paper  our correlation scores are much lower than the scores reported in the paper. But surprisingly our MSE loss is much lower than the MSE loss reported in the paper. We can improve the results by adding more data to our training data, in the paper they also did that. Then we should finetune the hyperparameters of the  model on the whole new dataset. Because to train a LSTM parameters, 4439 sentence pairs are not enough and training 100s of epochs will overfit the model so we need to include more data.\n",
    "\n",
    "\n",
    "\n",
    "\n",
    "\n",
    "\n",
    "\n",
    "\n"
   ]
  },
  {
   "cell_type": "code",
   "execution_count": 15,
   "id": "96b87b61",
   "metadata": {
    "executionInfo": {
     "elapsed": 17,
     "status": "ok",
     "timestamp": 1647028271795,
     "user": {
      "displayName": "Faria Alam",
      "photoUrl": "https://lh3.googleusercontent.com/a-/AOh14GgA-IA0pDrCGKBsIUIuXVLu5X2mFDhecwjQ6LIp=s64",
      "userId": "01141680939008758463"
     },
     "user_tz": -60
    },
    "id": "96b87b61"
   },
   "outputs": [],
   "source": []
  },
  {
   "cell_type": "code",
   "execution_count": 15,
   "id": "74d2436d",
   "metadata": {
    "executionInfo": {
     "elapsed": 16,
     "status": "ok",
     "timestamp": 1647028271798,
     "user": {
      "displayName": "Faria Alam",
      "photoUrl": "https://lh3.googleusercontent.com/a-/AOh14GgA-IA0pDrCGKBsIUIuXVLu5X2mFDhecwjQ6LIp=s64",
      "userId": "01141680939008758463"
     },
     "user_tz": -60
    },
    "id": "74d2436d"
   },
   "outputs": [],
   "source": []
  }
 ],
 "metadata": {
  "accelerator": "GPU",
  "colab": {
   "collapsed_sections": [],
   "name": "Task1.ipynb",
   "provenance": []
  },
  "kernelspec": {
   "display_name": "Python 3 (ipykernel)",
   "language": "python",
   "name": "python3"
  },
  "language_info": {
   "codemirror_mode": {
    "name": "ipython",
    "version": 3
   },
   "file_extension": ".py",
   "mimetype": "text/x-python",
   "name": "python",
   "nbconvert_exporter": "python",
   "pygments_lexer": "ipython3",
   "version": "3.9.7"
  },
  "widgets": {
   "application/vnd.jupyter.widget-state+json": {
    "009a2c1db67443d0ba54d4cf29c2658b": {
     "model_module": "@jupyter-widgets/base",
     "model_module_version": "1.2.0",
     "model_name": "LayoutModel",
     "state": {
      "_model_module": "@jupyter-widgets/base",
      "_model_module_version": "1.2.0",
      "_model_name": "LayoutModel",
      "_view_count": null,
      "_view_module": "@jupyter-widgets/base",
      "_view_module_version": "1.2.0",
      "_view_name": "LayoutView",
      "align_content": null,
      "align_items": null,
      "align_self": null,
      "border": null,
      "bottom": null,
      "display": null,
      "flex": null,
      "flex_flow": null,
      "grid_area": null,
      "grid_auto_columns": null,
      "grid_auto_flow": null,
      "grid_auto_rows": null,
      "grid_column": null,
      "grid_gap": null,
      "grid_row": null,
      "grid_template_areas": null,
      "grid_template_columns": null,
      "grid_template_rows": null,
      "height": null,
      "justify_content": null,
      "justify_items": null,
      "left": null,
      "margin": null,
      "max_height": null,
      "max_width": null,
      "min_height": null,
      "min_width": null,
      "object_fit": null,
      "object_position": null,
      "order": null,
      "overflow": null,
      "overflow_x": null,
      "overflow_y": null,
      "padding": null,
      "right": null,
      "top": null,
      "visibility": null,
      "width": null
     }
    },
    "01ca866453de45e7b33fe43bec96dc6e": {
     "model_module": "@jupyter-widgets/controls",
     "model_module_version": "1.5.0",
     "model_name": "DescriptionStyleModel",
     "state": {
      "_model_module": "@jupyter-widgets/controls",
      "_model_module_version": "1.5.0",
      "_model_name": "DescriptionStyleModel",
      "_view_count": null,
      "_view_module": "@jupyter-widgets/base",
      "_view_module_version": "1.2.0",
      "_view_name": "StyleView",
      "description_width": ""
     }
    },
    "099c02a462914c0ab0db4773a2bd60fa": {
     "model_module": "@jupyter-widgets/controls",
     "model_module_version": "1.5.0",
     "model_name": "HTMLModel",
     "state": {
      "_dom_classes": [],
      "_model_module": "@jupyter-widgets/controls",
      "_model_module_version": "1.5.0",
      "_model_name": "HTMLModel",
      "_view_count": null,
      "_view_module": "@jupyter-widgets/controls",
      "_view_module_version": "1.5.0",
      "_view_name": "HTMLView",
      "description": "",
      "description_tooltip": null,
      "layout": "IPY_MODEL_3813efad36664ba686de1e54e64bb525",
      "placeholder": "​",
      "style": "IPY_MODEL_381a43f5072642afb4489420ab67be5f",
      "value": " 5.30k/? [00:00&lt;00:00, 61.2kB/s]"
     }
    },
    "09f97e1e91db494fb37713420b6a6b74": {
     "model_module": "@jupyter-widgets/controls",
     "model_module_version": "1.5.0",
     "model_name": "ProgressStyleModel",
     "state": {
      "_model_module": "@jupyter-widgets/controls",
      "_model_module_version": "1.5.0",
      "_model_name": "ProgressStyleModel",
      "_view_count": null,
      "_view_module": "@jupyter-widgets/base",
      "_view_module_version": "1.2.0",
      "_view_name": "StyleView",
      "bar_color": null,
      "description_width": ""
     }
    },
    "0c51991d0d2346ec81a1b8248999700e": {
     "model_module": "@jupyter-widgets/controls",
     "model_module_version": "1.5.0",
     "model_name": "HTMLModel",
     "state": {
      "_dom_classes": [],
      "_model_module": "@jupyter-widgets/controls",
      "_model_module_version": "1.5.0",
      "_model_name": "HTMLModel",
      "_view_count": null,
      "_view_module": "@jupyter-widgets/controls",
      "_view_module_version": "1.5.0",
      "_view_name": "HTMLView",
      "description": "",
      "description_tooltip": null,
      "layout": "IPY_MODEL_b8c12d6f36c043e38f0be01c8544c847",
      "placeholder": "​",
      "style": "IPY_MODEL_ee321f042f0c48f883176a06957c455e",
      "value": " 3.54k/? [00:00&lt;00:00, 84.8kB/s]"
     }
    },
    "13a5901748984eb1b08743d21a8c1d2d": {
     "model_module": "@jupyter-widgets/controls",
     "model_module_version": "1.5.0",
     "model_name": "HTMLModel",
     "state": {
      "_dom_classes": [],
      "_model_module": "@jupyter-widgets/controls",
      "_model_module_version": "1.5.0",
      "_model_name": "HTMLModel",
      "_view_count": null,
      "_view_module": "@jupyter-widgets/controls",
      "_view_module_version": "1.5.0",
      "_view_name": "HTMLView",
      "description": "",
      "description_tooltip": null,
      "layout": "IPY_MODEL_71afdf1dd07447608e80ce2d1f587149",
      "placeholder": "​",
      "style": "IPY_MODEL_c95b791ad2ea4071b3145a518b863405",
      "value": " 3/3 [00:00&lt;00:00,  8.81it/s]"
     }
    },
    "16b8b53fad2144b98a70e0e13b97bbe2": {
     "model_module": "@jupyter-widgets/controls",
     "model_module_version": "1.5.0",
     "model_name": "HTMLModel",
     "state": {
      "_dom_classes": [],
      "_model_module": "@jupyter-widgets/controls",
      "_model_module_version": "1.5.0",
      "_model_name": "HTMLModel",
      "_view_count": null,
      "_view_module": "@jupyter-widgets/controls",
      "_view_module_version": "1.5.0",
      "_view_name": "HTMLView",
      "description": "",
      "description_tooltip": null,
      "layout": "IPY_MODEL_4d7a8e974fb64bc795860bad50cc9b89",
      "placeholder": "​",
      "style": "IPY_MODEL_8ed14c76409440afb645a98fbb7fb94d",
      "value": "Downloading: "
     }
    },
    "1ce1a077444b43a487cddde29954705c": {
     "model_module": "@jupyter-widgets/controls",
     "model_module_version": "1.5.0",
     "model_name": "FloatProgressModel",
     "state": {
      "_dom_classes": [],
      "_model_module": "@jupyter-widgets/controls",
      "_model_module_version": "1.5.0",
      "_model_name": "FloatProgressModel",
      "_view_count": null,
      "_view_module": "@jupyter-widgets/controls",
      "_view_module_version": "1.5.0",
      "_view_name": "ProgressView",
      "bar_style": "success",
      "description": "",
      "description_tooltip": null,
      "layout": "IPY_MODEL_33fd8653060345dc82a5d45ae9389c35",
      "max": 1508,
      "min": 0,
      "orientation": "horizontal",
      "style": "IPY_MODEL_516bc0ae9f074db58530593bbed985bc",
      "value": 1508
     }
    },
    "20f933ca3b88405c8d22434e58f67966": {
     "model_module": "@jupyter-widgets/controls",
     "model_module_version": "1.5.0",
     "model_name": "FloatProgressModel",
     "state": {
      "_dom_classes": [],
      "_model_module": "@jupyter-widgets/controls",
      "_model_module_version": "1.5.0",
      "_model_name": "FloatProgressModel",
      "_view_count": null,
      "_view_module": "@jupyter-widgets/controls",
      "_view_module_version": "1.5.0",
      "_view_name": "ProgressView",
      "bar_style": "success",
      "description": "",
      "description_tooltip": null,
      "layout": "IPY_MODEL_2fcd8d6397c64ce78855abe237863729",
      "max": 2038,
      "min": 0,
      "orientation": "horizontal",
      "style": "IPY_MODEL_e6e44e79e432431d91309bcaffbf04c5",
      "value": 2038
     }
    },
    "22c0756c03824f1dbfb3fef59ce56af3": {
     "model_module": "@jupyter-widgets/controls",
     "model_module_version": "1.5.0",
     "model_name": "HTMLModel",
     "state": {
      "_dom_classes": [],
      "_model_module": "@jupyter-widgets/controls",
      "_model_module_version": "1.5.0",
      "_model_name": "HTMLModel",
      "_view_count": null,
      "_view_module": "@jupyter-widgets/controls",
      "_view_module_version": "1.5.0",
      "_view_name": "HTMLView",
      "description": "",
      "description_tooltip": null,
      "layout": "IPY_MODEL_97decf8448e74189baf6ec7294f4b266",
      "placeholder": "​",
      "style": "IPY_MODEL_d1fb8b15c33243bcb37c67ab53d31162",
      "value": "Downloading: "
     }
    },
    "2b9e551448a8426dbfb7faf63a24c131": {
     "model_module": "@jupyter-widgets/controls",
     "model_module_version": "1.5.0",
     "model_name": "HBoxModel",
     "state": {
      "_dom_classes": [],
      "_model_module": "@jupyter-widgets/controls",
      "_model_module_version": "1.5.0",
      "_model_name": "HBoxModel",
      "_view_count": null,
      "_view_module": "@jupyter-widgets/controls",
      "_view_module_version": "1.5.0",
      "_view_name": "HBoxView",
      "box_style": "",
      "children": [
       "IPY_MODEL_947484cc378346a0b365e698dbebd9bd",
       "IPY_MODEL_2dae4135191f4353a6bb4fbc403a5e68",
       "IPY_MODEL_aa7968294b3f4fab88baa4dd92f46aaf"
      ],
      "layout": "IPY_MODEL_e0aafa0abde04237b985eabe79c40c43"
     }
    },
    "2dae4135191f4353a6bb4fbc403a5e68": {
     "model_module": "@jupyter-widgets/controls",
     "model_module_version": "1.5.0",
     "model_name": "FloatProgressModel",
     "state": {
      "_dom_classes": [],
      "_model_module": "@jupyter-widgets/controls",
      "_model_module_version": "1.5.0",
      "_model_name": "FloatProgressModel",
      "_view_count": null,
      "_view_module": "@jupyter-widgets/controls",
      "_view_module_version": "1.5.0",
      "_view_name": "ProgressView",
      "bar_style": "info",
      "description": "",
      "description_tooltip": null,
      "layout": "IPY_MODEL_c1dc4806818e42cebdadab42ec6bd85e",
      "max": 1,
      "min": 0,
      "orientation": "horizontal",
      "style": "IPY_MODEL_09f97e1e91db494fb37713420b6a6b74",
      "value": 1
     }
    },
    "2fcd8d6397c64ce78855abe237863729": {
     "model_module": "@jupyter-widgets/base",
     "model_module_version": "1.2.0",
     "model_name": "LayoutModel",
     "state": {
      "_model_module": "@jupyter-widgets/base",
      "_model_module_version": "1.2.0",
      "_model_name": "LayoutModel",
      "_view_count": null,
      "_view_module": "@jupyter-widgets/base",
      "_view_module_version": "1.2.0",
      "_view_name": "LayoutView",
      "align_content": null,
      "align_items": null,
      "align_self": null,
      "border": null,
      "bottom": null,
      "display": null,
      "flex": null,
      "flex_flow": null,
      "grid_area": null,
      "grid_auto_columns": null,
      "grid_auto_flow": null,
      "grid_auto_rows": null,
      "grid_column": null,
      "grid_gap": null,
      "grid_row": null,
      "grid_template_areas": null,
      "grid_template_columns": null,
      "grid_template_rows": null,
      "height": null,
      "justify_content": null,
      "justify_items": null,
      "left": null,
      "margin": null,
      "max_height": null,
      "max_width": null,
      "min_height": null,
      "min_width": null,
      "object_fit": null,
      "object_position": null,
      "order": null,
      "overflow": null,
      "overflow_x": null,
      "overflow_y": null,
      "padding": null,
      "right": null,
      "top": null,
      "visibility": null,
      "width": null
     }
    },
    "30dee32e159f484e83ef2836e3b30c6f": {
     "model_module": "@jupyter-widgets/controls",
     "model_module_version": "1.5.0",
     "model_name": "DescriptionStyleModel",
     "state": {
      "_model_module": "@jupyter-widgets/controls",
      "_model_module_version": "1.5.0",
      "_model_name": "DescriptionStyleModel",
      "_view_count": null,
      "_view_module": "@jupyter-widgets/base",
      "_view_module_version": "1.2.0",
      "_view_name": "StyleView",
      "description_width": ""
     }
    },
    "33fd8653060345dc82a5d45ae9389c35": {
     "model_module": "@jupyter-widgets/base",
     "model_module_version": "1.2.0",
     "model_name": "LayoutModel",
     "state": {
      "_model_module": "@jupyter-widgets/base",
      "_model_module_version": "1.2.0",
      "_model_name": "LayoutModel",
      "_view_count": null,
      "_view_module": "@jupyter-widgets/base",
      "_view_module_version": "1.2.0",
      "_view_name": "LayoutView",
      "align_content": null,
      "align_items": null,
      "align_self": null,
      "border": null,
      "bottom": null,
      "display": null,
      "flex": null,
      "flex_flow": null,
      "grid_area": null,
      "grid_auto_columns": null,
      "grid_auto_flow": null,
      "grid_auto_rows": null,
      "grid_column": null,
      "grid_gap": null,
      "grid_row": null,
      "grid_template_areas": null,
      "grid_template_columns": null,
      "grid_template_rows": null,
      "height": null,
      "justify_content": null,
      "justify_items": null,
      "left": null,
      "margin": null,
      "max_height": null,
      "max_width": null,
      "min_height": null,
      "min_width": null,
      "object_fit": null,
      "object_position": null,
      "order": null,
      "overflow": null,
      "overflow_x": null,
      "overflow_y": null,
      "padding": null,
      "right": null,
      "top": null,
      "visibility": null,
      "width": null
     }
    },
    "3813efad36664ba686de1e54e64bb525": {
     "model_module": "@jupyter-widgets/base",
     "model_module_version": "1.2.0",
     "model_name": "LayoutModel",
     "state": {
      "_model_module": "@jupyter-widgets/base",
      "_model_module_version": "1.2.0",
      "_model_name": "LayoutModel",
      "_view_count": null,
      "_view_module": "@jupyter-widgets/base",
      "_view_module_version": "1.2.0",
      "_view_name": "LayoutView",
      "align_content": null,
      "align_items": null,
      "align_self": null,
      "border": null,
      "bottom": null,
      "display": null,
      "flex": null,
      "flex_flow": null,
      "grid_area": null,
      "grid_auto_columns": null,
      "grid_auto_flow": null,
      "grid_auto_rows": null,
      "grid_column": null,
      "grid_gap": null,
      "grid_row": null,
      "grid_template_areas": null,
      "grid_template_columns": null,
      "grid_template_rows": null,
      "height": null,
      "justify_content": null,
      "justify_items": null,
      "left": null,
      "margin": null,
      "max_height": null,
      "max_width": null,
      "min_height": null,
      "min_width": null,
      "object_fit": null,
      "object_position": null,
      "order": null,
      "overflow": null,
      "overflow_x": null,
      "overflow_y": null,
      "padding": null,
      "right": null,
      "top": null,
      "visibility": null,
      "width": null
     }
    },
    "381a43f5072642afb4489420ab67be5f": {
     "model_module": "@jupyter-widgets/controls",
     "model_module_version": "1.5.0",
     "model_name": "DescriptionStyleModel",
     "state": {
      "_model_module": "@jupyter-widgets/controls",
      "_model_module_version": "1.5.0",
      "_model_name": "DescriptionStyleModel",
      "_view_count": null,
      "_view_module": "@jupyter-widgets/base",
      "_view_module_version": "1.2.0",
      "_view_name": "StyleView",
      "description_width": ""
     }
    },
    "386a4cbbd3ff487ab56d968f151ff53c": {
     "model_module": "@jupyter-widgets/base",
     "model_module_version": "1.2.0",
     "model_name": "LayoutModel",
     "state": {
      "_model_module": "@jupyter-widgets/base",
      "_model_module_version": "1.2.0",
      "_model_name": "LayoutModel",
      "_view_count": null,
      "_view_module": "@jupyter-widgets/base",
      "_view_module_version": "1.2.0",
      "_view_name": "LayoutView",
      "align_content": null,
      "align_items": null,
      "align_self": null,
      "border": null,
      "bottom": null,
      "display": null,
      "flex": null,
      "flex_flow": null,
      "grid_area": null,
      "grid_auto_columns": null,
      "grid_auto_flow": null,
      "grid_auto_rows": null,
      "grid_column": null,
      "grid_gap": null,
      "grid_row": null,
      "grid_template_areas": null,
      "grid_template_columns": null,
      "grid_template_rows": null,
      "height": null,
      "justify_content": null,
      "justify_items": null,
      "left": null,
      "margin": null,
      "max_height": null,
      "max_width": null,
      "min_height": null,
      "min_width": null,
      "object_fit": null,
      "object_position": null,
      "order": null,
      "overflow": null,
      "overflow_x": null,
      "overflow_y": null,
      "padding": null,
      "right": null,
      "top": null,
      "visibility": null,
      "width": null
     }
    },
    "3a011cbffe7645eb98227255f6804eaa": {
     "model_module": "@jupyter-widgets/base",
     "model_module_version": "1.2.0",
     "model_name": "LayoutModel",
     "state": {
      "_model_module": "@jupyter-widgets/base",
      "_model_module_version": "1.2.0",
      "_model_name": "LayoutModel",
      "_view_count": null,
      "_view_module": "@jupyter-widgets/base",
      "_view_module_version": "1.2.0",
      "_view_name": "LayoutView",
      "align_content": null,
      "align_items": null,
      "align_self": null,
      "border": null,
      "bottom": null,
      "display": null,
      "flex": null,
      "flex_flow": null,
      "grid_area": null,
      "grid_auto_columns": null,
      "grid_auto_flow": null,
      "grid_auto_rows": null,
      "grid_column": null,
      "grid_gap": null,
      "grid_row": null,
      "grid_template_areas": null,
      "grid_template_columns": null,
      "grid_template_rows": null,
      "height": null,
      "justify_content": null,
      "justify_items": null,
      "left": null,
      "margin": null,
      "max_height": null,
      "max_width": null,
      "min_height": null,
      "min_width": null,
      "object_fit": null,
      "object_position": null,
      "order": null,
      "overflow": null,
      "overflow_x": null,
      "overflow_y": null,
      "padding": null,
      "right": null,
      "top": null,
      "visibility": null,
      "width": null
     }
    },
    "4121496b7eda447cad108c9a9138ecba": {
     "model_module": "@jupyter-widgets/base",
     "model_module_version": "1.2.0",
     "model_name": "LayoutModel",
     "state": {
      "_model_module": "@jupyter-widgets/base",
      "_model_module_version": "1.2.0",
      "_model_name": "LayoutModel",
      "_view_count": null,
      "_view_module": "@jupyter-widgets/base",
      "_view_module_version": "1.2.0",
      "_view_name": "LayoutView",
      "align_content": null,
      "align_items": null,
      "align_self": null,
      "border": null,
      "bottom": null,
      "display": null,
      "flex": null,
      "flex_flow": null,
      "grid_area": null,
      "grid_auto_columns": null,
      "grid_auto_flow": null,
      "grid_auto_rows": null,
      "grid_column": null,
      "grid_gap": null,
      "grid_row": null,
      "grid_template_areas": null,
      "grid_template_columns": null,
      "grid_template_rows": null,
      "height": null,
      "justify_content": null,
      "justify_items": null,
      "left": null,
      "margin": null,
      "max_height": null,
      "max_width": null,
      "min_height": null,
      "min_width": null,
      "object_fit": null,
      "object_position": null,
      "order": null,
      "overflow": null,
      "overflow_x": null,
      "overflow_y": null,
      "padding": null,
      "right": null,
      "top": null,
      "visibility": null,
      "width": null
     }
    },
    "43583b1e76e34377b064db3603ed979f": {
     "model_module": "@jupyter-widgets/base",
     "model_module_version": "1.2.0",
     "model_name": "LayoutModel",
     "state": {
      "_model_module": "@jupyter-widgets/base",
      "_model_module_version": "1.2.0",
      "_model_name": "LayoutModel",
      "_view_count": null,
      "_view_module": "@jupyter-widgets/base",
      "_view_module_version": "1.2.0",
      "_view_name": "LayoutView",
      "align_content": null,
      "align_items": null,
      "align_self": null,
      "border": null,
      "bottom": null,
      "display": null,
      "flex": null,
      "flex_flow": null,
      "grid_area": null,
      "grid_auto_columns": null,
      "grid_auto_flow": null,
      "grid_auto_rows": null,
      "grid_column": null,
      "grid_gap": null,
      "grid_row": null,
      "grid_template_areas": null,
      "grid_template_columns": null,
      "grid_template_rows": null,
      "height": null,
      "justify_content": null,
      "justify_items": null,
      "left": null,
      "margin": null,
      "max_height": null,
      "max_width": null,
      "min_height": null,
      "min_width": null,
      "object_fit": null,
      "object_position": null,
      "order": null,
      "overflow": null,
      "overflow_x": null,
      "overflow_y": null,
      "padding": null,
      "right": null,
      "top": null,
      "visibility": null,
      "width": null
     }
    },
    "43ca76c30c244296a7c77750dbc20ce0": {
     "model_module": "@jupyter-widgets/controls",
     "model_module_version": "1.5.0",
     "model_name": "FloatProgressModel",
     "state": {
      "_dom_classes": [],
      "_model_module": "@jupyter-widgets/controls",
      "_model_module_version": "1.5.0",
      "_model_name": "FloatProgressModel",
      "_view_count": null,
      "_view_module": "@jupyter-widgets/controls",
      "_view_module_version": "1.5.0",
      "_view_name": "ProgressView",
      "bar_style": "success",
      "description": "",
      "description_tooltip": null,
      "layout": "IPY_MODEL_009a2c1db67443d0ba54d4cf29c2658b",
      "max": 217584,
      "min": 0,
      "orientation": "horizontal",
      "style": "IPY_MODEL_4d66fcc9fb0a4e7faa50dad03b79a743",
      "value": 217584
     }
    },
    "44140ed3610c46a390a1311bd72a975c": {
     "model_module": "@jupyter-widgets/controls",
     "model_module_version": "1.5.0",
     "model_name": "HBoxModel",
     "state": {
      "_dom_classes": [],
      "_model_module": "@jupyter-widgets/controls",
      "_model_module_version": "1.5.0",
      "_model_name": "HBoxModel",
      "_view_count": null,
      "_view_module": "@jupyter-widgets/controls",
      "_view_module_version": "1.5.0",
      "_view_name": "HBoxView",
      "box_style": "",
      "children": [
       "IPY_MODEL_16b8b53fad2144b98a70e0e13b97bbe2",
       "IPY_MODEL_20f933ca3b88405c8d22434e58f67966",
       "IPY_MODEL_099c02a462914c0ab0db4773a2bd60fa"
      ],
      "layout": "IPY_MODEL_fc0a3e4b77b84e98a45400d4554fce0b"
     }
    },
    "4866b63726094a2caa65f40acdef4a11": {
     "model_module": "@jupyter-widgets/base",
     "model_module_version": "1.2.0",
     "model_name": "LayoutModel",
     "state": {
      "_model_module": "@jupyter-widgets/base",
      "_model_module_version": "1.2.0",
      "_model_name": "LayoutModel",
      "_view_count": null,
      "_view_module": "@jupyter-widgets/base",
      "_view_module_version": "1.2.0",
      "_view_name": "LayoutView",
      "align_content": null,
      "align_items": null,
      "align_self": null,
      "border": null,
      "bottom": null,
      "display": null,
      "flex": null,
      "flex_flow": null,
      "grid_area": null,
      "grid_auto_columns": null,
      "grid_auto_flow": null,
      "grid_auto_rows": null,
      "grid_column": null,
      "grid_gap": null,
      "grid_row": null,
      "grid_template_areas": null,
      "grid_template_columns": null,
      "grid_template_rows": null,
      "height": null,
      "justify_content": null,
      "justify_items": null,
      "left": null,
      "margin": null,
      "max_height": null,
      "max_width": null,
      "min_height": null,
      "min_width": null,
      "object_fit": null,
      "object_position": null,
      "order": null,
      "overflow": null,
      "overflow_x": null,
      "overflow_y": null,
      "padding": null,
      "right": null,
      "top": null,
      "visibility": null,
      "width": null
     }
    },
    "4ae3212c683149a18f4a4144f524bb7b": {
     "model_module": "@jupyter-widgets/base",
     "model_module_version": "1.2.0",
     "model_name": "LayoutModel",
     "state": {
      "_model_module": "@jupyter-widgets/base",
      "_model_module_version": "1.2.0",
      "_model_name": "LayoutModel",
      "_view_count": null,
      "_view_module": "@jupyter-widgets/base",
      "_view_module_version": "1.2.0",
      "_view_name": "LayoutView",
      "align_content": null,
      "align_items": null,
      "align_self": null,
      "border": null,
      "bottom": null,
      "display": null,
      "flex": null,
      "flex_flow": null,
      "grid_area": null,
      "grid_auto_columns": null,
      "grid_auto_flow": null,
      "grid_auto_rows": null,
      "grid_column": null,
      "grid_gap": null,
      "grid_row": null,
      "grid_template_areas": null,
      "grid_template_columns": null,
      "grid_template_rows": null,
      "height": null,
      "justify_content": null,
      "justify_items": null,
      "left": null,
      "margin": null,
      "max_height": null,
      "max_width": null,
      "min_height": null,
      "min_width": null,
      "object_fit": null,
      "object_position": null,
      "order": null,
      "overflow": null,
      "overflow_x": null,
      "overflow_y": null,
      "padding": null,
      "right": null,
      "top": null,
      "visibility": null,
      "width": "20px"
     }
    },
    "4af1fe7b2b5043bfac0dc52426eb1f8e": {
     "model_module": "@jupyter-widgets/controls",
     "model_module_version": "1.5.0",
     "model_name": "FloatProgressModel",
     "state": {
      "_dom_classes": [],
      "_model_module": "@jupyter-widgets/controls",
      "_model_module_version": "1.5.0",
      "_model_name": "FloatProgressModel",
      "_view_count": null,
      "_view_module": "@jupyter-widgets/controls",
      "_view_module_version": "1.5.0",
      "_view_name": "ProgressView",
      "bar_style": "info",
      "description": "",
      "description_tooltip": null,
      "layout": "IPY_MODEL_4ae3212c683149a18f4a4144f524bb7b",
      "max": 1,
      "min": 0,
      "orientation": "horizontal",
      "style": "IPY_MODEL_6076deb164674d9899df5c146380b104",
      "value": 1
     }
    },
    "4d66fcc9fb0a4e7faa50dad03b79a743": {
     "model_module": "@jupyter-widgets/controls",
     "model_module_version": "1.5.0",
     "model_name": "ProgressStyleModel",
     "state": {
      "_model_module": "@jupyter-widgets/controls",
      "_model_module_version": "1.5.0",
      "_model_name": "ProgressStyleModel",
      "_view_count": null,
      "_view_module": "@jupyter-widgets/base",
      "_view_module_version": "1.2.0",
      "_view_name": "StyleView",
      "bar_color": null,
      "description_width": ""
     }
    },
    "4d7a8e974fb64bc795860bad50cc9b89": {
     "model_module": "@jupyter-widgets/base",
     "model_module_version": "1.2.0",
     "model_name": "LayoutModel",
     "state": {
      "_model_module": "@jupyter-widgets/base",
      "_model_module_version": "1.2.0",
      "_model_name": "LayoutModel",
      "_view_count": null,
      "_view_module": "@jupyter-widgets/base",
      "_view_module_version": "1.2.0",
      "_view_name": "LayoutView",
      "align_content": null,
      "align_items": null,
      "align_self": null,
      "border": null,
      "bottom": null,
      "display": null,
      "flex": null,
      "flex_flow": null,
      "grid_area": null,
      "grid_auto_columns": null,
      "grid_auto_flow": null,
      "grid_auto_rows": null,
      "grid_column": null,
      "grid_gap": null,
      "grid_row": null,
      "grid_template_areas": null,
      "grid_template_columns": null,
      "grid_template_rows": null,
      "height": null,
      "justify_content": null,
      "justify_items": null,
      "left": null,
      "margin": null,
      "max_height": null,
      "max_width": null,
      "min_height": null,
      "min_width": null,
      "object_fit": null,
      "object_position": null,
      "order": null,
      "overflow": null,
      "overflow_x": null,
      "overflow_y": null,
      "padding": null,
      "right": null,
      "top": null,
      "visibility": null,
      "width": null
     }
    },
    "516bc0ae9f074db58530593bbed985bc": {
     "model_module": "@jupyter-widgets/controls",
     "model_module_version": "1.5.0",
     "model_name": "ProgressStyleModel",
     "state": {
      "_model_module": "@jupyter-widgets/controls",
      "_model_module_version": "1.5.0",
      "_model_name": "ProgressStyleModel",
      "_view_count": null,
      "_view_module": "@jupyter-widgets/base",
      "_view_module_version": "1.2.0",
      "_view_name": "StyleView",
      "bar_color": null,
      "description_width": ""
     }
    },
    "5408e573f72d4596870861289ea45b39": {
     "model_module": "@jupyter-widgets/base",
     "model_module_version": "1.2.0",
     "model_name": "LayoutModel",
     "state": {
      "_model_module": "@jupyter-widgets/base",
      "_model_module_version": "1.2.0",
      "_model_name": "LayoutModel",
      "_view_count": null,
      "_view_module": "@jupyter-widgets/base",
      "_view_module_version": "1.2.0",
      "_view_name": "LayoutView",
      "align_content": null,
      "align_items": null,
      "align_self": null,
      "border": null,
      "bottom": null,
      "display": null,
      "flex": null,
      "flex_flow": null,
      "grid_area": null,
      "grid_auto_columns": null,
      "grid_auto_flow": null,
      "grid_auto_rows": null,
      "grid_column": null,
      "grid_gap": null,
      "grid_row": null,
      "grid_template_areas": null,
      "grid_template_columns": null,
      "grid_template_rows": null,
      "height": null,
      "justify_content": null,
      "justify_items": null,
      "left": null,
      "margin": null,
      "max_height": null,
      "max_width": null,
      "min_height": null,
      "min_width": null,
      "object_fit": null,
      "object_position": null,
      "order": null,
      "overflow": null,
      "overflow_x": null,
      "overflow_y": null,
      "padding": null,
      "right": null,
      "top": null,
      "visibility": null,
      "width": null
     }
    },
    "58e932b628b74a3a8e17a3ab52d24f3d": {
     "model_module": "@jupyter-widgets/controls",
     "model_module_version": "1.5.0",
     "model_name": "HTMLModel",
     "state": {
      "_dom_classes": [],
      "_model_module": "@jupyter-widgets/controls",
      "_model_module_version": "1.5.0",
      "_model_name": "HTMLModel",
      "_view_count": null,
      "_view_module": "@jupyter-widgets/controls",
      "_view_module_version": "1.5.0",
      "_view_name": "HTMLView",
      "description": "",
      "description_tooltip": null,
      "layout": "IPY_MODEL_b825a1f8abab4341a54268569f148ad0",
      "placeholder": "​",
      "style": "IPY_MODEL_a3229bfb1f10410fb3986d76009415e2",
      "value": ""
     }
    },
    "6076deb164674d9899df5c146380b104": {
     "model_module": "@jupyter-widgets/controls",
     "model_module_version": "1.5.0",
     "model_name": "ProgressStyleModel",
     "state": {
      "_model_module": "@jupyter-widgets/controls",
      "_model_module_version": "1.5.0",
      "_model_name": "ProgressStyleModel",
      "_view_count": null,
      "_view_module": "@jupyter-widgets/base",
      "_view_module_version": "1.2.0",
      "_view_name": "StyleView",
      "bar_color": null,
      "description_width": ""
     }
    },
    "618a7eb4a5d944a4b56fd8a24fe30c08": {
     "model_module": "@jupyter-widgets/base",
     "model_module_version": "1.2.0",
     "model_name": "LayoutModel",
     "state": {
      "_model_module": "@jupyter-widgets/base",
      "_model_module_version": "1.2.0",
      "_model_name": "LayoutModel",
      "_view_count": null,
      "_view_module": "@jupyter-widgets/base",
      "_view_module_version": "1.2.0",
      "_view_name": "LayoutView",
      "align_content": null,
      "align_items": null,
      "align_self": null,
      "border": null,
      "bottom": null,
      "display": null,
      "flex": null,
      "flex_flow": null,
      "grid_area": null,
      "grid_auto_columns": null,
      "grid_auto_flow": null,
      "grid_auto_rows": null,
      "grid_column": null,
      "grid_gap": null,
      "grid_row": null,
      "grid_template_areas": null,
      "grid_template_columns": null,
      "grid_template_rows": null,
      "height": null,
      "justify_content": null,
      "justify_items": null,
      "left": null,
      "margin": null,
      "max_height": null,
      "max_width": null,
      "min_height": null,
      "min_width": null,
      "object_fit": null,
      "object_position": null,
      "order": null,
      "overflow": null,
      "overflow_x": null,
      "overflow_y": null,
      "padding": null,
      "right": null,
      "top": null,
      "visibility": null,
      "width": null
     }
    },
    "6477f5185daa468881b04b3b3cfe25bc": {
     "model_module": "@jupyter-widgets/controls",
     "model_module_version": "1.5.0",
     "model_name": "HTMLModel",
     "state": {
      "_dom_classes": [],
      "_model_module": "@jupyter-widgets/controls",
      "_model_module_version": "1.5.0",
      "_model_name": "HTMLModel",
      "_view_count": null,
      "_view_module": "@jupyter-widgets/controls",
      "_view_module_version": "1.5.0",
      "_view_name": "HTMLView",
      "description": "",
      "description_tooltip": null,
      "layout": "IPY_MODEL_3a011cbffe7645eb98227255f6804eaa",
      "placeholder": "​",
      "style": "IPY_MODEL_d1ca26df67ee42ff9a97aff06308bd64",
      "value": " 4268/0 [00:00&lt;00:00, 7227.26 examples/s]"
     }
    },
    "66dc23908b1e48ed93033a47625ebc8e": {
     "model_module": "@jupyter-widgets/base",
     "model_module_version": "1.2.0",
     "model_name": "LayoutModel",
     "state": {
      "_model_module": "@jupyter-widgets/base",
      "_model_module_version": "1.2.0",
      "_model_name": "LayoutModel",
      "_view_count": null,
      "_view_module": "@jupyter-widgets/base",
      "_view_module_version": "1.2.0",
      "_view_name": "LayoutView",
      "align_content": null,
      "align_items": null,
      "align_self": null,
      "border": null,
      "bottom": null,
      "display": null,
      "flex": null,
      "flex_flow": null,
      "grid_area": null,
      "grid_auto_columns": null,
      "grid_auto_flow": null,
      "grid_auto_rows": null,
      "grid_column": null,
      "grid_gap": null,
      "grid_row": null,
      "grid_template_areas": null,
      "grid_template_columns": null,
      "grid_template_rows": null,
      "height": null,
      "justify_content": null,
      "justify_items": null,
      "left": null,
      "margin": null,
      "max_height": null,
      "max_width": null,
      "min_height": null,
      "min_width": null,
      "object_fit": null,
      "object_position": null,
      "order": null,
      "overflow": null,
      "overflow_x": null,
      "overflow_y": null,
      "padding": null,
      "right": null,
      "top": null,
      "visibility": null,
      "width": null
     }
    },
    "6a4f7fb78c8845b1846857db27bbfb91": {
     "model_module": "@jupyter-widgets/base",
     "model_module_version": "1.2.0",
     "model_name": "LayoutModel",
     "state": {
      "_model_module": "@jupyter-widgets/base",
      "_model_module_version": "1.2.0",
      "_model_name": "LayoutModel",
      "_view_count": null,
      "_view_module": "@jupyter-widgets/base",
      "_view_module_version": "1.2.0",
      "_view_name": "LayoutView",
      "align_content": null,
      "align_items": null,
      "align_self": null,
      "border": null,
      "bottom": null,
      "display": null,
      "flex": null,
      "flex_flow": null,
      "grid_area": null,
      "grid_auto_columns": null,
      "grid_auto_flow": null,
      "grid_auto_rows": null,
      "grid_column": null,
      "grid_gap": null,
      "grid_row": null,
      "grid_template_areas": null,
      "grid_template_columns": null,
      "grid_template_rows": null,
      "height": null,
      "justify_content": null,
      "justify_items": null,
      "left": null,
      "margin": null,
      "max_height": null,
      "max_width": null,
      "min_height": null,
      "min_width": null,
      "object_fit": null,
      "object_position": null,
      "order": null,
      "overflow": null,
      "overflow_x": null,
      "overflow_y": null,
      "padding": null,
      "right": null,
      "top": null,
      "visibility": null,
      "width": null
     }
    },
    "6b229c9dd271438381f6df207bc3f3b2": {
     "model_module": "@jupyter-widgets/base",
     "model_module_version": "1.2.0",
     "model_name": "LayoutModel",
     "state": {
      "_model_module": "@jupyter-widgets/base",
      "_model_module_version": "1.2.0",
      "_model_name": "LayoutModel",
      "_view_count": null,
      "_view_module": "@jupyter-widgets/base",
      "_view_module_version": "1.2.0",
      "_view_name": "LayoutView",
      "align_content": null,
      "align_items": null,
      "align_self": null,
      "border": null,
      "bottom": null,
      "display": null,
      "flex": null,
      "flex_flow": null,
      "grid_area": null,
      "grid_auto_columns": null,
      "grid_auto_flow": null,
      "grid_auto_rows": null,
      "grid_column": null,
      "grid_gap": null,
      "grid_row": null,
      "grid_template_areas": null,
      "grid_template_columns": null,
      "grid_template_rows": null,
      "height": null,
      "justify_content": null,
      "justify_items": null,
      "left": null,
      "margin": null,
      "max_height": null,
      "max_width": null,
      "min_height": null,
      "min_width": null,
      "object_fit": null,
      "object_position": null,
      "order": null,
      "overflow": null,
      "overflow_x": null,
      "overflow_y": null,
      "padding": null,
      "right": null,
      "top": null,
      "visibility": null,
      "width": "20px"
     }
    },
    "71799ba58a604cc498944a00d9fb4a5a": {
     "model_module": "@jupyter-widgets/controls",
     "model_module_version": "1.5.0",
     "model_name": "DescriptionStyleModel",
     "state": {
      "_model_module": "@jupyter-widgets/controls",
      "_model_module_version": "1.5.0",
      "_model_name": "DescriptionStyleModel",
      "_view_count": null,
      "_view_module": "@jupyter-widgets/base",
      "_view_module_version": "1.2.0",
      "_view_name": "StyleView",
      "description_width": ""
     }
    },
    "71afdf1dd07447608e80ce2d1f587149": {
     "model_module": "@jupyter-widgets/base",
     "model_module_version": "1.2.0",
     "model_name": "LayoutModel",
     "state": {
      "_model_module": "@jupyter-widgets/base",
      "_model_module_version": "1.2.0",
      "_model_name": "LayoutModel",
      "_view_count": null,
      "_view_module": "@jupyter-widgets/base",
      "_view_module_version": "1.2.0",
      "_view_name": "LayoutView",
      "align_content": null,
      "align_items": null,
      "align_self": null,
      "border": null,
      "bottom": null,
      "display": null,
      "flex": null,
      "flex_flow": null,
      "grid_area": null,
      "grid_auto_columns": null,
      "grid_auto_flow": null,
      "grid_auto_rows": null,
      "grid_column": null,
      "grid_gap": null,
      "grid_row": null,
      "grid_template_areas": null,
      "grid_template_columns": null,
      "grid_template_rows": null,
      "height": null,
      "justify_content": null,
      "justify_items": null,
      "left": null,
      "margin": null,
      "max_height": null,
      "max_width": null,
      "min_height": null,
      "min_width": null,
      "object_fit": null,
      "object_position": null,
      "order": null,
      "overflow": null,
      "overflow_x": null,
      "overflow_y": null,
      "padding": null,
      "right": null,
      "top": null,
      "visibility": null,
      "width": null
     }
    },
    "786eaeabb1984ef8a902248772c8bfee": {
     "model_module": "@jupyter-widgets/controls",
     "model_module_version": "1.5.0",
     "model_name": "HBoxModel",
     "state": {
      "_dom_classes": [],
      "_model_module": "@jupyter-widgets/controls",
      "_model_module_version": "1.5.0",
      "_model_name": "HBoxModel",
      "_view_count": null,
      "_view_module": "@jupyter-widgets/controls",
      "_view_module_version": "1.5.0",
      "_view_name": "HBoxView",
      "box_style": "",
      "children": [
       "IPY_MODEL_8bb5461712b34837adbc726935b643b7",
       "IPY_MODEL_4af1fe7b2b5043bfac0dc52426eb1f8e",
       "IPY_MODEL_6477f5185daa468881b04b3b3cfe25bc"
      ],
      "layout": "IPY_MODEL_43583b1e76e34377b064db3603ed979f"
     }
    },
    "7bdc2c0996d64e0cac47178fb7c5d17c": {
     "model_module": "@jupyter-widgets/controls",
     "model_module_version": "1.5.0",
     "model_name": "HTMLModel",
     "state": {
      "_dom_classes": [],
      "_model_module": "@jupyter-widgets/controls",
      "_model_module_version": "1.5.0",
      "_model_name": "HTMLModel",
      "_view_count": null,
      "_view_module": "@jupyter-widgets/controls",
      "_view_module_version": "1.5.0",
      "_view_name": "HTMLView",
      "description": "",
      "description_tooltip": null,
      "layout": "IPY_MODEL_9ea70253e08e41c19ed21825ae5a5b51",
      "placeholder": "​",
      "style": "IPY_MODEL_7e68563febda42168218ed1273bd1a66",
      "value": " 218k/218k [00:00&lt;00:00, 1.69MB/s]"
     }
    },
    "7e68563febda42168218ed1273bd1a66": {
     "model_module": "@jupyter-widgets/controls",
     "model_module_version": "1.5.0",
     "model_name": "DescriptionStyleModel",
     "state": {
      "_model_module": "@jupyter-widgets/controls",
      "_model_module_version": "1.5.0",
      "_model_name": "DescriptionStyleModel",
      "_view_count": null,
      "_view_module": "@jupyter-widgets/base",
      "_view_module_version": "1.2.0",
      "_view_name": "StyleView",
      "description_width": ""
     }
    },
    "808a63bc6d1f4b7495a0812e48ea6e30": {
     "model_module": "@jupyter-widgets/controls",
     "model_module_version": "1.5.0",
     "model_name": "DescriptionStyleModel",
     "state": {
      "_model_module": "@jupyter-widgets/controls",
      "_model_module_version": "1.5.0",
      "_model_name": "DescriptionStyleModel",
      "_view_count": null,
      "_view_module": "@jupyter-widgets/base",
      "_view_module_version": "1.2.0",
      "_view_name": "StyleView",
      "description_width": ""
     }
    },
    "883a7c9853f94fa9ade4e2fb82290b17": {
     "model_module": "@jupyter-widgets/controls",
     "model_module_version": "1.5.0",
     "model_name": "ProgressStyleModel",
     "state": {
      "_model_module": "@jupyter-widgets/controls",
      "_model_module_version": "1.5.0",
      "_model_name": "ProgressStyleModel",
      "_view_count": null,
      "_view_module": "@jupyter-widgets/base",
      "_view_module_version": "1.2.0",
      "_view_name": "StyleView",
      "bar_color": null,
      "description_width": ""
     }
    },
    "8bb5461712b34837adbc726935b643b7": {
     "model_module": "@jupyter-widgets/controls",
     "model_module_version": "1.5.0",
     "model_name": "HTMLModel",
     "state": {
      "_dom_classes": [],
      "_model_module": "@jupyter-widgets/controls",
      "_model_module_version": "1.5.0",
      "_model_name": "HTMLModel",
      "_view_count": null,
      "_view_module": "@jupyter-widgets/controls",
      "_view_module_version": "1.5.0",
      "_view_name": "HTMLView",
      "description": "",
      "description_tooltip": null,
      "layout": "IPY_MODEL_6a4f7fb78c8845b1846857db27bbfb91",
      "placeholder": "​",
      "style": "IPY_MODEL_30dee32e159f484e83ef2836e3b30c6f",
      "value": ""
     }
    },
    "8c8a3b1d71b14bda92c136d17b665f56": {
     "model_module": "@jupyter-widgets/base",
     "model_module_version": "1.2.0",
     "model_name": "LayoutModel",
     "state": {
      "_model_module": "@jupyter-widgets/base",
      "_model_module_version": "1.2.0",
      "_model_name": "LayoutModel",
      "_view_count": null,
      "_view_module": "@jupyter-widgets/base",
      "_view_module_version": "1.2.0",
      "_view_name": "LayoutView",
      "align_content": null,
      "align_items": null,
      "align_self": null,
      "border": null,
      "bottom": null,
      "display": null,
      "flex": null,
      "flex_flow": null,
      "grid_area": null,
      "grid_auto_columns": null,
      "grid_auto_flow": null,
      "grid_auto_rows": null,
      "grid_column": null,
      "grid_gap": null,
      "grid_row": null,
      "grid_template_areas": null,
      "grid_template_columns": null,
      "grid_template_rows": null,
      "height": null,
      "justify_content": null,
      "justify_items": null,
      "left": null,
      "margin": null,
      "max_height": null,
      "max_width": null,
      "min_height": null,
      "min_width": null,
      "object_fit": null,
      "object_position": null,
      "order": null,
      "overflow": null,
      "overflow_x": null,
      "overflow_y": null,
      "padding": null,
      "right": null,
      "top": null,
      "visibility": null,
      "width": null
     }
    },
    "8ed14c76409440afb645a98fbb7fb94d": {
     "model_module": "@jupyter-widgets/controls",
     "model_module_version": "1.5.0",
     "model_name": "DescriptionStyleModel",
     "state": {
      "_model_module": "@jupyter-widgets/controls",
      "_model_module_version": "1.5.0",
      "_model_name": "DescriptionStyleModel",
      "_view_count": null,
      "_view_module": "@jupyter-widgets/base",
      "_view_module_version": "1.2.0",
      "_view_name": "StyleView",
      "description_width": ""
     }
    },
    "947484cc378346a0b365e698dbebd9bd": {
     "model_module": "@jupyter-widgets/controls",
     "model_module_version": "1.5.0",
     "model_name": "HTMLModel",
     "state": {
      "_dom_classes": [],
      "_model_module": "@jupyter-widgets/controls",
      "_model_module_version": "1.5.0",
      "_model_name": "HTMLModel",
      "_view_count": null,
      "_view_module": "@jupyter-widgets/controls",
      "_view_module_version": "1.5.0",
      "_view_name": "HTMLView",
      "description": "",
      "description_tooltip": null,
      "layout": "IPY_MODEL_4866b63726094a2caa65f40acdef4a11",
      "placeholder": "​",
      "style": "IPY_MODEL_eff9a0bbcb474ed1940ba03bf166c809",
      "value": ""
     }
    },
    "97decf8448e74189baf6ec7294f4b266": {
     "model_module": "@jupyter-widgets/base",
     "model_module_version": "1.2.0",
     "model_name": "LayoutModel",
     "state": {
      "_model_module": "@jupyter-widgets/base",
      "_model_module_version": "1.2.0",
      "_model_name": "LayoutModel",
      "_view_count": null,
      "_view_module": "@jupyter-widgets/base",
      "_view_module_version": "1.2.0",
      "_view_name": "LayoutView",
      "align_content": null,
      "align_items": null,
      "align_self": null,
      "border": null,
      "bottom": null,
      "display": null,
      "flex": null,
      "flex_flow": null,
      "grid_area": null,
      "grid_auto_columns": null,
      "grid_auto_flow": null,
      "grid_auto_rows": null,
      "grid_column": null,
      "grid_gap": null,
      "grid_row": null,
      "grid_template_areas": null,
      "grid_template_columns": null,
      "grid_template_rows": null,
      "height": null,
      "justify_content": null,
      "justify_items": null,
      "left": null,
      "margin": null,
      "max_height": null,
      "max_width": null,
      "min_height": null,
      "min_width": null,
      "object_fit": null,
      "object_position": null,
      "order": null,
      "overflow": null,
      "overflow_x": null,
      "overflow_y": null,
      "padding": null,
      "right": null,
      "top": null,
      "visibility": null,
      "width": null
     }
    },
    "9ea70253e08e41c19ed21825ae5a5b51": {
     "model_module": "@jupyter-widgets/base",
     "model_module_version": "1.2.0",
     "model_name": "LayoutModel",
     "state": {
      "_model_module": "@jupyter-widgets/base",
      "_model_module_version": "1.2.0",
      "_model_name": "LayoutModel",
      "_view_count": null,
      "_view_module": "@jupyter-widgets/base",
      "_view_module_version": "1.2.0",
      "_view_name": "LayoutView",
      "align_content": null,
      "align_items": null,
      "align_self": null,
      "border": null,
      "bottom": null,
      "display": null,
      "flex": null,
      "flex_flow": null,
      "grid_area": null,
      "grid_auto_columns": null,
      "grid_auto_flow": null,
      "grid_auto_rows": null,
      "grid_column": null,
      "grid_gap": null,
      "grid_row": null,
      "grid_template_areas": null,
      "grid_template_columns": null,
      "grid_template_rows": null,
      "height": null,
      "justify_content": null,
      "justify_items": null,
      "left": null,
      "margin": null,
      "max_height": null,
      "max_width": null,
      "min_height": null,
      "min_width": null,
      "object_fit": null,
      "object_position": null,
      "order": null,
      "overflow": null,
      "overflow_x": null,
      "overflow_y": null,
      "padding": null,
      "right": null,
      "top": null,
      "visibility": null,
      "width": null
     }
    },
    "9fea1eaa21c249a9b1be5b978f7a21e1": {
     "model_module": "@jupyter-widgets/controls",
     "model_module_version": "1.5.0",
     "model_name": "FloatProgressModel",
     "state": {
      "_dom_classes": [],
      "_model_module": "@jupyter-widgets/controls",
      "_model_module_version": "1.5.0",
      "_model_name": "FloatProgressModel",
      "_view_count": null,
      "_view_module": "@jupyter-widgets/controls",
      "_view_module_version": "1.5.0",
      "_view_name": "ProgressView",
      "bar_style": "info",
      "description": "",
      "description_tooltip": null,
      "layout": "IPY_MODEL_6b229c9dd271438381f6df207bc3f3b2",
      "max": 1,
      "min": 0,
      "orientation": "horizontal",
      "style": "IPY_MODEL_db93dc6cd0cb49a8bda5448b0730e693",
      "value": 1
     }
    },
    "a3229bfb1f10410fb3986d76009415e2": {
     "model_module": "@jupyter-widgets/controls",
     "model_module_version": "1.5.0",
     "model_name": "DescriptionStyleModel",
     "state": {
      "_model_module": "@jupyter-widgets/controls",
      "_model_module_version": "1.5.0",
      "_model_name": "DescriptionStyleModel",
      "_view_count": null,
      "_view_module": "@jupyter-widgets/base",
      "_view_module_version": "1.2.0",
      "_view_name": "StyleView",
      "description_width": ""
     }
    },
    "aa7968294b3f4fab88baa4dd92f46aaf": {
     "model_module": "@jupyter-widgets/controls",
     "model_module_version": "1.5.0",
     "model_name": "HTMLModel",
     "state": {
      "_dom_classes": [],
      "_model_module": "@jupyter-widgets/controls",
      "_model_module_version": "1.5.0",
      "_model_name": "HTMLModel",
      "_view_count": null,
      "_view_module": "@jupyter-widgets/controls",
      "_view_module_version": "1.5.0",
      "_view_name": "HTMLView",
      "description": "",
      "description_tooltip": null,
      "layout": "IPY_MODEL_8c8a3b1d71b14bda92c136d17b665f56",
      "placeholder": "​",
      "style": "IPY_MODEL_71799ba58a604cc498944a00d9fb4a5a",
      "value": " 159/0 [00:00&lt;00:00, 1588.32 examples/s]"
     }
    },
    "ab2f340711c7454cb14f756dc1149b5b": {
     "model_module": "@jupyter-widgets/controls",
     "model_module_version": "1.5.0",
     "model_name": "HBoxModel",
     "state": {
      "_dom_classes": [],
      "_model_module": "@jupyter-widgets/controls",
      "_model_module_version": "1.5.0",
      "_model_name": "HBoxModel",
      "_view_count": null,
      "_view_module": "@jupyter-widgets/controls",
      "_view_module_version": "1.5.0",
      "_view_name": "HBoxView",
      "box_style": "",
      "children": [
       "IPY_MODEL_22c0756c03824f1dbfb3fef59ce56af3",
       "IPY_MODEL_1ce1a077444b43a487cddde29954705c",
       "IPY_MODEL_0c51991d0d2346ec81a1b8248999700e"
      ],
      "layout": "IPY_MODEL_618a7eb4a5d944a4b56fd8a24fe30c08"
     }
    },
    "b1176a9c522e4c05ad0d0dfbba64a389": {
     "model_module": "@jupyter-widgets/controls",
     "model_module_version": "1.5.0",
     "model_name": "FloatProgressModel",
     "state": {
      "_dom_classes": [],
      "_model_module": "@jupyter-widgets/controls",
      "_model_module_version": "1.5.0",
      "_model_name": "FloatProgressModel",
      "_view_count": null,
      "_view_module": "@jupyter-widgets/controls",
      "_view_module_version": "1.5.0",
      "_view_name": "ProgressView",
      "bar_style": "success",
      "description": "",
      "description_tooltip": null,
      "layout": "IPY_MODEL_faafa8d33c9840dc96164ae12fc9ae35",
      "max": 3,
      "min": 0,
      "orientation": "horizontal",
      "style": "IPY_MODEL_883a7c9853f94fa9ade4e2fb82290b17",
      "value": 3
     }
    },
    "b825a1f8abab4341a54268569f148ad0": {
     "model_module": "@jupyter-widgets/base",
     "model_module_version": "1.2.0",
     "model_name": "LayoutModel",
     "state": {
      "_model_module": "@jupyter-widgets/base",
      "_model_module_version": "1.2.0",
      "_model_name": "LayoutModel",
      "_view_count": null,
      "_view_module": "@jupyter-widgets/base",
      "_view_module_version": "1.2.0",
      "_view_name": "LayoutView",
      "align_content": null,
      "align_items": null,
      "align_self": null,
      "border": null,
      "bottom": null,
      "display": null,
      "flex": null,
      "flex_flow": null,
      "grid_area": null,
      "grid_auto_columns": null,
      "grid_auto_flow": null,
      "grid_auto_rows": null,
      "grid_column": null,
      "grid_gap": null,
      "grid_row": null,
      "grid_template_areas": null,
      "grid_template_columns": null,
      "grid_template_rows": null,
      "height": null,
      "justify_content": null,
      "justify_items": null,
      "left": null,
      "margin": null,
      "max_height": null,
      "max_width": null,
      "min_height": null,
      "min_width": null,
      "object_fit": null,
      "object_position": null,
      "order": null,
      "overflow": null,
      "overflow_x": null,
      "overflow_y": null,
      "padding": null,
      "right": null,
      "top": null,
      "visibility": null,
      "width": null
     }
    },
    "b8c12d6f36c043e38f0be01c8544c847": {
     "model_module": "@jupyter-widgets/base",
     "model_module_version": "1.2.0",
     "model_name": "LayoutModel",
     "state": {
      "_model_module": "@jupyter-widgets/base",
      "_model_module_version": "1.2.0",
      "_model_name": "LayoutModel",
      "_view_count": null,
      "_view_module": "@jupyter-widgets/base",
      "_view_module_version": "1.2.0",
      "_view_name": "LayoutView",
      "align_content": null,
      "align_items": null,
      "align_self": null,
      "border": null,
      "bottom": null,
      "display": null,
      "flex": null,
      "flex_flow": null,
      "grid_area": null,
      "grid_auto_columns": null,
      "grid_auto_flow": null,
      "grid_auto_rows": null,
      "grid_column": null,
      "grid_gap": null,
      "grid_row": null,
      "grid_template_areas": null,
      "grid_template_columns": null,
      "grid_template_rows": null,
      "height": null,
      "justify_content": null,
      "justify_items": null,
      "left": null,
      "margin": null,
      "max_height": null,
      "max_width": null,
      "min_height": null,
      "min_width": null,
      "object_fit": null,
      "object_position": null,
      "order": null,
      "overflow": null,
      "overflow_x": null,
      "overflow_y": null,
      "padding": null,
      "right": null,
      "top": null,
      "visibility": null,
      "width": null
     }
    },
    "c1dc4806818e42cebdadab42ec6bd85e": {
     "model_module": "@jupyter-widgets/base",
     "model_module_version": "1.2.0",
     "model_name": "LayoutModel",
     "state": {
      "_model_module": "@jupyter-widgets/base",
      "_model_module_version": "1.2.0",
      "_model_name": "LayoutModel",
      "_view_count": null,
      "_view_module": "@jupyter-widgets/base",
      "_view_module_version": "1.2.0",
      "_view_name": "LayoutView",
      "align_content": null,
      "align_items": null,
      "align_self": null,
      "border": null,
      "bottom": null,
      "display": null,
      "flex": null,
      "flex_flow": null,
      "grid_area": null,
      "grid_auto_columns": null,
      "grid_auto_flow": null,
      "grid_auto_rows": null,
      "grid_column": null,
      "grid_gap": null,
      "grid_row": null,
      "grid_template_areas": null,
      "grid_template_columns": null,
      "grid_template_rows": null,
      "height": null,
      "justify_content": null,
      "justify_items": null,
      "left": null,
      "margin": null,
      "max_height": null,
      "max_width": null,
      "min_height": null,
      "min_width": null,
      "object_fit": null,
      "object_position": null,
      "order": null,
      "overflow": null,
      "overflow_x": null,
      "overflow_y": null,
      "padding": null,
      "right": null,
      "top": null,
      "visibility": null,
      "width": "20px"
     }
    },
    "c95b791ad2ea4071b3145a518b863405": {
     "model_module": "@jupyter-widgets/controls",
     "model_module_version": "1.5.0",
     "model_name": "DescriptionStyleModel",
     "state": {
      "_model_module": "@jupyter-widgets/controls",
      "_model_module_version": "1.5.0",
      "_model_name": "DescriptionStyleModel",
      "_view_count": null,
      "_view_module": "@jupyter-widgets/base",
      "_view_module_version": "1.2.0",
      "_view_name": "StyleView",
      "description_width": ""
     }
    },
    "cc57a685246740c89349123e5c241d64": {
     "model_module": "@jupyter-widgets/controls",
     "model_module_version": "1.5.0",
     "model_name": "HTMLModel",
     "state": {
      "_dom_classes": [],
      "_model_module": "@jupyter-widgets/controls",
      "_model_module_version": "1.5.0",
      "_model_name": "HTMLModel",
      "_view_count": null,
      "_view_module": "@jupyter-widgets/controls",
      "_view_module_version": "1.5.0",
      "_view_name": "HTMLView",
      "description": "",
      "description_tooltip": null,
      "layout": "IPY_MODEL_dc85ce5621774640a8082e7eb71237cc",
      "placeholder": "​",
      "style": "IPY_MODEL_01ca866453de45e7b33fe43bec96dc6e",
      "value": "100%"
     }
    },
    "ccabded7c09f409594cfb9753733a331": {
     "model_module": "@jupyter-widgets/base",
     "model_module_version": "1.2.0",
     "model_name": "LayoutModel",
     "state": {
      "_model_module": "@jupyter-widgets/base",
      "_model_module_version": "1.2.0",
      "_model_name": "LayoutModel",
      "_view_count": null,
      "_view_module": "@jupyter-widgets/base",
      "_view_module_version": "1.2.0",
      "_view_name": "LayoutView",
      "align_content": null,
      "align_items": null,
      "align_self": null,
      "border": null,
      "bottom": null,
      "display": null,
      "flex": null,
      "flex_flow": null,
      "grid_area": null,
      "grid_auto_columns": null,
      "grid_auto_flow": null,
      "grid_auto_rows": null,
      "grid_column": null,
      "grid_gap": null,
      "grid_row": null,
      "grid_template_areas": null,
      "grid_template_columns": null,
      "grid_template_rows": null,
      "height": null,
      "justify_content": null,
      "justify_items": null,
      "left": null,
      "margin": null,
      "max_height": null,
      "max_width": null,
      "min_height": null,
      "min_width": null,
      "object_fit": null,
      "object_position": null,
      "order": null,
      "overflow": null,
      "overflow_x": null,
      "overflow_y": null,
      "padding": null,
      "right": null,
      "top": null,
      "visibility": null,
      "width": null
     }
    },
    "d1ca26df67ee42ff9a97aff06308bd64": {
     "model_module": "@jupyter-widgets/controls",
     "model_module_version": "1.5.0",
     "model_name": "DescriptionStyleModel",
     "state": {
      "_model_module": "@jupyter-widgets/controls",
      "_model_module_version": "1.5.0",
      "_model_name": "DescriptionStyleModel",
      "_view_count": null,
      "_view_module": "@jupyter-widgets/base",
      "_view_module_version": "1.2.0",
      "_view_name": "StyleView",
      "description_width": ""
     }
    },
    "d1fb8b15c33243bcb37c67ab53d31162": {
     "model_module": "@jupyter-widgets/controls",
     "model_module_version": "1.5.0",
     "model_name": "DescriptionStyleModel",
     "state": {
      "_model_module": "@jupyter-widgets/controls",
      "_model_module_version": "1.5.0",
      "_model_name": "DescriptionStyleModel",
      "_view_count": null,
      "_view_module": "@jupyter-widgets/base",
      "_view_module_version": "1.2.0",
      "_view_name": "StyleView",
      "description_width": ""
     }
    },
    "d63ceccdd6344336b817c1cc16610097": {
     "model_module": "@jupyter-widgets/controls",
     "model_module_version": "1.5.0",
     "model_name": "DescriptionStyleModel",
     "state": {
      "_model_module": "@jupyter-widgets/controls",
      "_model_module_version": "1.5.0",
      "_model_name": "DescriptionStyleModel",
      "_view_count": null,
      "_view_module": "@jupyter-widgets/base",
      "_view_module_version": "1.2.0",
      "_view_name": "StyleView",
      "description_width": ""
     }
    },
    "db93dc6cd0cb49a8bda5448b0730e693": {
     "model_module": "@jupyter-widgets/controls",
     "model_module_version": "1.5.0",
     "model_name": "ProgressStyleModel",
     "state": {
      "_model_module": "@jupyter-widgets/controls",
      "_model_module_version": "1.5.0",
      "_model_name": "ProgressStyleModel",
      "_view_count": null,
      "_view_module": "@jupyter-widgets/base",
      "_view_module_version": "1.2.0",
      "_view_name": "StyleView",
      "bar_color": null,
      "description_width": ""
     }
    },
    "dc85ce5621774640a8082e7eb71237cc": {
     "model_module": "@jupyter-widgets/base",
     "model_module_version": "1.2.0",
     "model_name": "LayoutModel",
     "state": {
      "_model_module": "@jupyter-widgets/base",
      "_model_module_version": "1.2.0",
      "_model_name": "LayoutModel",
      "_view_count": null,
      "_view_module": "@jupyter-widgets/base",
      "_view_module_version": "1.2.0",
      "_view_name": "LayoutView",
      "align_content": null,
      "align_items": null,
      "align_self": null,
      "border": null,
      "bottom": null,
      "display": null,
      "flex": null,
      "flex_flow": null,
      "grid_area": null,
      "grid_auto_columns": null,
      "grid_auto_flow": null,
      "grid_auto_rows": null,
      "grid_column": null,
      "grid_gap": null,
      "grid_row": null,
      "grid_template_areas": null,
      "grid_template_columns": null,
      "grid_template_rows": null,
      "height": null,
      "justify_content": null,
      "justify_items": null,
      "left": null,
      "margin": null,
      "max_height": null,
      "max_width": null,
      "min_height": null,
      "min_width": null,
      "object_fit": null,
      "object_position": null,
      "order": null,
      "overflow": null,
      "overflow_x": null,
      "overflow_y": null,
      "padding": null,
      "right": null,
      "top": null,
      "visibility": null,
      "width": null
     }
    },
    "e0aafa0abde04237b985eabe79c40c43": {
     "model_module": "@jupyter-widgets/base",
     "model_module_version": "1.2.0",
     "model_name": "LayoutModel",
     "state": {
      "_model_module": "@jupyter-widgets/base",
      "_model_module_version": "1.2.0",
      "_model_name": "LayoutModel",
      "_view_count": null,
      "_view_module": "@jupyter-widgets/base",
      "_view_module_version": "1.2.0",
      "_view_name": "LayoutView",
      "align_content": null,
      "align_items": null,
      "align_self": null,
      "border": null,
      "bottom": null,
      "display": null,
      "flex": null,
      "flex_flow": null,
      "grid_area": null,
      "grid_auto_columns": null,
      "grid_auto_flow": null,
      "grid_auto_rows": null,
      "grid_column": null,
      "grid_gap": null,
      "grid_row": null,
      "grid_template_areas": null,
      "grid_template_columns": null,
      "grid_template_rows": null,
      "height": null,
      "justify_content": null,
      "justify_items": null,
      "left": null,
      "margin": null,
      "max_height": null,
      "max_width": null,
      "min_height": null,
      "min_width": null,
      "object_fit": null,
      "object_position": null,
      "order": null,
      "overflow": null,
      "overflow_x": null,
      "overflow_y": null,
      "padding": null,
      "right": null,
      "top": null,
      "visibility": null,
      "width": null
     }
    },
    "e6e44e79e432431d91309bcaffbf04c5": {
     "model_module": "@jupyter-widgets/controls",
     "model_module_version": "1.5.0",
     "model_name": "ProgressStyleModel",
     "state": {
      "_model_module": "@jupyter-widgets/controls",
      "_model_module_version": "1.5.0",
      "_model_name": "ProgressStyleModel",
      "_view_count": null,
      "_view_module": "@jupyter-widgets/base",
      "_view_module_version": "1.2.0",
      "_view_name": "StyleView",
      "bar_color": null,
      "description_width": ""
     }
    },
    "ee20906828c84102a5d558e5008ec482": {
     "model_module": "@jupyter-widgets/controls",
     "model_module_version": "1.5.0",
     "model_name": "HTMLModel",
     "state": {
      "_dom_classes": [],
      "_model_module": "@jupyter-widgets/controls",
      "_model_module_version": "1.5.0",
      "_model_name": "HTMLModel",
      "_view_count": null,
      "_view_module": "@jupyter-widgets/controls",
      "_view_module_version": "1.5.0",
      "_view_name": "HTMLView",
      "description": "",
      "description_tooltip": null,
      "layout": "IPY_MODEL_386a4cbbd3ff487ab56d968f151ff53c",
      "placeholder": "​",
      "style": "IPY_MODEL_808a63bc6d1f4b7495a0812e48ea6e30",
      "value": " 4675/0 [00:01&lt;00:00, 4284.24 examples/s]"
     }
    },
    "ee321f042f0c48f883176a06957c455e": {
     "model_module": "@jupyter-widgets/controls",
     "model_module_version": "1.5.0",
     "model_name": "DescriptionStyleModel",
     "state": {
      "_model_module": "@jupyter-widgets/controls",
      "_model_module_version": "1.5.0",
      "_model_name": "DescriptionStyleModel",
      "_view_count": null,
      "_view_module": "@jupyter-widgets/base",
      "_view_module_version": "1.2.0",
      "_view_name": "StyleView",
      "description_width": ""
     }
    },
    "eff9a0bbcb474ed1940ba03bf166c809": {
     "model_module": "@jupyter-widgets/controls",
     "model_module_version": "1.5.0",
     "model_name": "DescriptionStyleModel",
     "state": {
      "_model_module": "@jupyter-widgets/controls",
      "_model_module_version": "1.5.0",
      "_model_name": "DescriptionStyleModel",
      "_view_count": null,
      "_view_module": "@jupyter-widgets/base",
      "_view_module_version": "1.2.0",
      "_view_name": "StyleView",
      "description_width": ""
     }
    },
    "f1bb7bb3150349868a48fb6838472f91": {
     "model_module": "@jupyter-widgets/controls",
     "model_module_version": "1.5.0",
     "model_name": "HBoxModel",
     "state": {
      "_dom_classes": [],
      "_model_module": "@jupyter-widgets/controls",
      "_model_module_version": "1.5.0",
      "_model_name": "HBoxModel",
      "_view_count": null,
      "_view_module": "@jupyter-widgets/controls",
      "_view_module_version": "1.5.0",
      "_view_name": "HBoxView",
      "box_style": "",
      "children": [
       "IPY_MODEL_58e932b628b74a3a8e17a3ab52d24f3d",
       "IPY_MODEL_9fea1eaa21c249a9b1be5b978f7a21e1",
       "IPY_MODEL_ee20906828c84102a5d558e5008ec482"
      ],
      "layout": "IPY_MODEL_5408e573f72d4596870861289ea45b39"
     }
    },
    "f653489f15184e54a0186a119004f922": {
     "model_module": "@jupyter-widgets/controls",
     "model_module_version": "1.5.0",
     "model_name": "HBoxModel",
     "state": {
      "_dom_classes": [],
      "_model_module": "@jupyter-widgets/controls",
      "_model_module_version": "1.5.0",
      "_model_name": "HBoxModel",
      "_view_count": null,
      "_view_module": "@jupyter-widgets/controls",
      "_view_module_version": "1.5.0",
      "_view_name": "HBoxView",
      "box_style": "",
      "children": [
       "IPY_MODEL_ff07c5deaeaa4bd58d9feed29ac214f7",
       "IPY_MODEL_43ca76c30c244296a7c77750dbc20ce0",
       "IPY_MODEL_7bdc2c0996d64e0cac47178fb7c5d17c"
      ],
      "layout": "IPY_MODEL_ccabded7c09f409594cfb9753733a331"
     }
    },
    "f9a35f89efa54d74b5bc18431b29d8dc": {
     "model_module": "@jupyter-widgets/controls",
     "model_module_version": "1.5.0",
     "model_name": "HBoxModel",
     "state": {
      "_dom_classes": [],
      "_model_module": "@jupyter-widgets/controls",
      "_model_module_version": "1.5.0",
      "_model_name": "HBoxModel",
      "_view_count": null,
      "_view_module": "@jupyter-widgets/controls",
      "_view_module_version": "1.5.0",
      "_view_name": "HBoxView",
      "box_style": "",
      "children": [
       "IPY_MODEL_cc57a685246740c89349123e5c241d64",
       "IPY_MODEL_b1176a9c522e4c05ad0d0dfbba64a389",
       "IPY_MODEL_13a5901748984eb1b08743d21a8c1d2d"
      ],
      "layout": "IPY_MODEL_4121496b7eda447cad108c9a9138ecba"
     }
    },
    "faafa8d33c9840dc96164ae12fc9ae35": {
     "model_module": "@jupyter-widgets/base",
     "model_module_version": "1.2.0",
     "model_name": "LayoutModel",
     "state": {
      "_model_module": "@jupyter-widgets/base",
      "_model_module_version": "1.2.0",
      "_model_name": "LayoutModel",
      "_view_count": null,
      "_view_module": "@jupyter-widgets/base",
      "_view_module_version": "1.2.0",
      "_view_name": "LayoutView",
      "align_content": null,
      "align_items": null,
      "align_self": null,
      "border": null,
      "bottom": null,
      "display": null,
      "flex": null,
      "flex_flow": null,
      "grid_area": null,
      "grid_auto_columns": null,
      "grid_auto_flow": null,
      "grid_auto_rows": null,
      "grid_column": null,
      "grid_gap": null,
      "grid_row": null,
      "grid_template_areas": null,
      "grid_template_columns": null,
      "grid_template_rows": null,
      "height": null,
      "justify_content": null,
      "justify_items": null,
      "left": null,
      "margin": null,
      "max_height": null,
      "max_width": null,
      "min_height": null,
      "min_width": null,
      "object_fit": null,
      "object_position": null,
      "order": null,
      "overflow": null,
      "overflow_x": null,
      "overflow_y": null,
      "padding": null,
      "right": null,
      "top": null,
      "visibility": null,
      "width": null
     }
    },
    "fc0a3e4b77b84e98a45400d4554fce0b": {
     "model_module": "@jupyter-widgets/base",
     "model_module_version": "1.2.0",
     "model_name": "LayoutModel",
     "state": {
      "_model_module": "@jupyter-widgets/base",
      "_model_module_version": "1.2.0",
      "_model_name": "LayoutModel",
      "_view_count": null,
      "_view_module": "@jupyter-widgets/base",
      "_view_module_version": "1.2.0",
      "_view_name": "LayoutView",
      "align_content": null,
      "align_items": null,
      "align_self": null,
      "border": null,
      "bottom": null,
      "display": null,
      "flex": null,
      "flex_flow": null,
      "grid_area": null,
      "grid_auto_columns": null,
      "grid_auto_flow": null,
      "grid_auto_rows": null,
      "grid_column": null,
      "grid_gap": null,
      "grid_row": null,
      "grid_template_areas": null,
      "grid_template_columns": null,
      "grid_template_rows": null,
      "height": null,
      "justify_content": null,
      "justify_items": null,
      "left": null,
      "margin": null,
      "max_height": null,
      "max_width": null,
      "min_height": null,
      "min_width": null,
      "object_fit": null,
      "object_position": null,
      "order": null,
      "overflow": null,
      "overflow_x": null,
      "overflow_y": null,
      "padding": null,
      "right": null,
      "top": null,
      "visibility": null,
      "width": null
     }
    },
    "ff07c5deaeaa4bd58d9feed29ac214f7": {
     "model_module": "@jupyter-widgets/controls",
     "model_module_version": "1.5.0",
     "model_name": "HTMLModel",
     "state": {
      "_dom_classes": [],
      "_model_module": "@jupyter-widgets/controls",
      "_model_module_version": "1.5.0",
      "_model_name": "HTMLModel",
      "_view_count": null,
      "_view_module": "@jupyter-widgets/controls",
      "_view_module_version": "1.5.0",
      "_view_name": "HTMLView",
      "description": "",
      "description_tooltip": null,
      "layout": "IPY_MODEL_66dc23908b1e48ed93033a47625ebc8e",
      "placeholder": "​",
      "style": "IPY_MODEL_d63ceccdd6344336b817c1cc16610097",
      "value": "Downloading: 100%"
     }
    }
   }
  }
 },
 "nbformat": 4,
 "nbformat_minor": 5
}
